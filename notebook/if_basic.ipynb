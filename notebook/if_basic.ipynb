{
 "cells": [
  {
   "cell_type": "code",
   "execution_count": 1,
   "metadata": {},
   "outputs": [],
   "source": [
    "def if_only(n):\n",
    "    if n > 0:\n",
    "        print(f'{n} is positive')"
   ]
  },
  {
   "cell_type": "code",
   "execution_count": 2,
   "metadata": {},
   "outputs": [
    {
     "name": "stdout",
     "output_type": "stream",
     "text": [
      "100 is positive\n"
     ]
    }
   ],
   "source": [
    "if_only(100)"
   ]
  },
  {
   "cell_type": "code",
   "execution_count": 3,
   "metadata": {},
   "outputs": [],
   "source": [
    "if_only(-100)"
   ]
  },
  {
   "cell_type": "code",
   "execution_count": 4,
   "metadata": {},
   "outputs": [],
   "source": [
    "def if_else(n):\n",
    "    if n > 0:\n",
    "        print(f'{n} is positive')\n",
    "    else:\n",
    "        print(f'{n} is negative or zero')"
   ]
  },
  {
   "cell_type": "code",
   "execution_count": 5,
   "metadata": {},
   "outputs": [
    {
     "name": "stdout",
     "output_type": "stream",
     "text": [
      "100 is positive\n"
     ]
    }
   ],
   "source": [
    "if_else(100)"
   ]
  },
  {
   "cell_type": "code",
   "execution_count": 6,
   "metadata": {},
   "outputs": [
    {
     "name": "stdout",
     "output_type": "stream",
     "text": [
      "-100 is negative or zero\n"
     ]
    }
   ],
   "source": [
    "if_else(-100)"
   ]
  },
  {
   "cell_type": "code",
   "execution_count": 7,
   "metadata": {},
   "outputs": [],
   "source": [
    "def if_elif(n):\n",
    "    if n > 0:\n",
    "        print(f'{n} is positive')\n",
    "    elif n == 0:\n",
    "        print(f'{n} is zero')\n",
    "    elif n == -1:\n",
    "        print(f'{n} is minus one')"
   ]
  },
  {
   "cell_type": "code",
   "execution_count": 8,
   "metadata": {},
   "outputs": [
    {
     "name": "stdout",
     "output_type": "stream",
     "text": [
      "100 is positive\n"
     ]
    }
   ],
   "source": [
    "if_elif(100)"
   ]
  },
  {
   "cell_type": "code",
   "execution_count": 9,
   "metadata": {},
   "outputs": [
    {
     "name": "stdout",
     "output_type": "stream",
     "text": [
      "0 is zero\n"
     ]
    }
   ],
   "source": [
    "if_elif(0)"
   ]
  },
  {
   "cell_type": "code",
   "execution_count": 10,
   "metadata": {},
   "outputs": [
    {
     "name": "stdout",
     "output_type": "stream",
     "text": [
      "-1 is minus one\n"
     ]
    }
   ],
   "source": [
    "if_elif(-1)"
   ]
  },
  {
   "cell_type": "code",
   "execution_count": 11,
   "metadata": {},
   "outputs": [],
   "source": [
    "if_elif(-100)"
   ]
  },
  {
   "cell_type": "code",
   "execution_count": 12,
   "metadata": {},
   "outputs": [],
   "source": [
    "def if_elif_else(n):\n",
    "    if n > 0:\n",
    "        print(f'{n} is positive')\n",
    "    elif n == 0:\n",
    "        print(f'{n} is zero')\n",
    "    else:\n",
    "        print(f'{n} is negative')"
   ]
  },
  {
   "cell_type": "code",
   "execution_count": 13,
   "metadata": {},
   "outputs": [
    {
     "name": "stdout",
     "output_type": "stream",
     "text": [
      "100 is positive\n"
     ]
    }
   ],
   "source": [
    "if_elif_else(100)"
   ]
  },
  {
   "cell_type": "code",
   "execution_count": 14,
   "metadata": {},
   "outputs": [
    {
     "name": "stdout",
     "output_type": "stream",
     "text": [
      "0 is zero\n"
     ]
    }
   ],
   "source": [
    "if_elif_else(0)"
   ]
  },
  {
   "cell_type": "code",
   "execution_count": 15,
   "metadata": {},
   "outputs": [
    {
     "name": "stdout",
     "output_type": "stream",
     "text": [
      "-100 is negative\n"
     ]
    }
   ],
   "source": [
    "if_elif_else(-100)"
   ]
  },
  {
   "cell_type": "code",
   "execution_count": 16,
   "metadata": {},
   "outputs": [],
   "source": [
    "def if_chain(n):\n",
    "    if 0 < n < 100:\n",
    "        print(f'0 < {n} < 100')\n",
    "    else:\n",
    "        print(f'{n} <= 0 or 100 <= {n}')"
   ]
  },
  {
   "cell_type": "code",
   "execution_count": 17,
   "metadata": {},
   "outputs": [
    {
     "name": "stdout",
     "output_type": "stream",
     "text": [
      "0 < 50 < 100\n"
     ]
    }
   ],
   "source": [
    "if_chain(50)"
   ]
  },
  {
   "cell_type": "code",
   "execution_count": 18,
   "metadata": {},
   "outputs": [
    {
     "name": "stdout",
     "output_type": "stream",
     "text": [
      "1000 <= 0 or 100 <= 1000\n"
     ]
    }
   ],
   "source": [
    "if_chain(1000)"
   ]
  },
  {
   "cell_type": "code",
   "execution_count": 19,
   "metadata": {},
   "outputs": [],
   "source": [
    "def if_in(s):\n",
    "    if 'a' in s:\n",
    "        print(f'\"a\" is in \"{s}\"')\n",
    "    else:\n",
    "        print(f'\"a\" is NOT in \"{s}\"')"
   ]
  },
  {
   "cell_type": "code",
   "execution_count": 20,
   "metadata": {},
   "outputs": [
    {
     "name": "stdout",
     "output_type": "stream",
     "text": [
      "\"a\" is in \"apple\"\n"
     ]
    }
   ],
   "source": [
    "if_in('apple')"
   ]
  },
  {
   "cell_type": "code",
   "execution_count": 21,
   "metadata": {},
   "outputs": [
    {
     "name": "stdout",
     "output_type": "stream",
     "text": [
      "\"a\" is NOT in \"cherry\"\n"
     ]
    }
   ],
   "source": [
    "if_in('cherry')"
   ]
  },
  {
   "cell_type": "code",
   "execution_count": 22,
   "metadata": {},
   "outputs": [],
   "source": [
    "def if_startswith(s):\n",
    "    if s.startswith('a'):\n",
    "        print(f'\"{s}\" starts with \"a\"')\n",
    "    else:\n",
    "        print(f'\"{s}\" does NOT starts with \"a\"')"
   ]
  },
  {
   "cell_type": "code",
   "execution_count": 23,
   "metadata": {},
   "outputs": [
    {
     "name": "stdout",
     "output_type": "stream",
     "text": [
      "\"apple\" starts with \"a\"\n"
     ]
    }
   ],
   "source": [
    "if_startswith(\"apple\")"
   ]
  },
  {
   "cell_type": "code",
   "execution_count": 24,
   "metadata": {},
   "outputs": [
    {
     "name": "stdout",
     "output_type": "stream",
     "text": [
      "\"banana\" does NOT starts with \"a\"\n"
     ]
    }
   ],
   "source": [
    "if_startswith(\"banana\")"
   ]
  },
  {
   "cell_type": "code",
   "execution_count": 25,
   "metadata": {},
   "outputs": [
    {
     "name": "stdout",
     "output_type": "stream",
     "text": [
      "True\n"
     ]
    }
   ],
   "source": [
    "if 100:\n",
    "    print('True')"
   ]
  },
  {
   "cell_type": "code",
   "execution_count": 26,
   "metadata": {},
   "outputs": [
    {
     "name": "stdout",
     "output_type": "stream",
     "text": [
      "True\n"
     ]
    }
   ],
   "source": [
    "if [0, 1, 2]:\n",
    "    print('True')"
   ]
  },
  {
   "cell_type": "code",
   "execution_count": 27,
   "metadata": {},
   "outputs": [],
   "source": [
    "def if_is_empty(l):\n",
    "    if l:\n",
    "        print(f'{l} is NOT empty')\n",
    "    else:\n",
    "        print(f'{l} is empty')"
   ]
  },
  {
   "cell_type": "code",
   "execution_count": 28,
   "metadata": {},
   "outputs": [
    {
     "name": "stdout",
     "output_type": "stream",
     "text": [
      "[0, 1, 2] is NOT empty\n"
     ]
    }
   ],
   "source": [
    "if_is_empty([0, 1, 2])"
   ]
  },
  {
   "cell_type": "code",
   "execution_count": 29,
   "metadata": {},
   "outputs": [
    {
     "name": "stdout",
     "output_type": "stream",
     "text": [
      "[] is empty\n"
     ]
    }
   ],
   "source": [
    "if_is_empty([])"
   ]
  },
  {
   "cell_type": "code",
   "execution_count": 30,
   "metadata": {},
   "outputs": [],
   "source": [
    "def if_and(n):\n",
    "    if n > 0 and n % 2 == 0:\n",
    "        print(f'{n} is positive-even')\n",
    "    else:\n",
    "        print(f'{n} is NOT positive-even')"
   ]
  },
  {
   "cell_type": "code",
   "execution_count": 31,
   "metadata": {},
   "outputs": [
    {
     "name": "stdout",
     "output_type": "stream",
     "text": [
      "10 is positive-even\n"
     ]
    }
   ],
   "source": [
    "if_and(10)"
   ]
  },
  {
   "cell_type": "code",
   "execution_count": 32,
   "metadata": {},
   "outputs": [
    {
     "name": "stdout",
     "output_type": "stream",
     "text": [
      "5 is NOT positive-even\n"
     ]
    }
   ],
   "source": [
    "if_and(5)"
   ]
  },
  {
   "cell_type": "code",
   "execution_count": 33,
   "metadata": {},
   "outputs": [
    {
     "name": "stdout",
     "output_type": "stream",
     "text": [
      "-10 is NOT positive-even\n"
     ]
    }
   ],
   "source": [
    "if_and(-10)"
   ]
  },
  {
   "cell_type": "code",
   "execution_count": 34,
   "metadata": {},
   "outputs": [],
   "source": [
    "def if_and_or(n):\n",
    "    if n > 0 and n % 2 == 0 or n == 0:\n",
    "        print(f'{n} is positive-even or zero')\n",
    "    else:\n",
    "        print(f'{n} is NOT positive-even or zero')"
   ]
  },
  {
   "cell_type": "code",
   "execution_count": 35,
   "metadata": {},
   "outputs": [
    {
     "name": "stdout",
     "output_type": "stream",
     "text": [
      "10 is positive-even or zero\n"
     ]
    }
   ],
   "source": [
    "if_and_or(10)"
   ]
  },
  {
   "cell_type": "code",
   "execution_count": 36,
   "metadata": {},
   "outputs": [
    {
     "name": "stdout",
     "output_type": "stream",
     "text": [
      "5 is NOT positive-even or zero\n"
     ]
    }
   ],
   "source": [
    "if_and_or(5)"
   ]
  },
  {
   "cell_type": "code",
   "execution_count": 37,
   "metadata": {},
   "outputs": [
    {
     "name": "stdout",
     "output_type": "stream",
     "text": [
      "0 is positive-even or zero\n"
     ]
    }
   ],
   "source": [
    "if_and_or(0)"
   ]
  },
  {
   "cell_type": "code",
   "execution_count": 38,
   "metadata": {},
   "outputs": [],
   "source": [
    "def if_not(s):\n",
    "    if not s.startswith('a'):\n",
    "        print(f'\"{s}\" does NOT starts with \"a\"')\n",
    "    else:\n",
    "        print(f'\"{s}\" starts with \"a\"')"
   ]
  },
  {
   "cell_type": "code",
   "execution_count": 39,
   "metadata": {},
   "outputs": [
    {
     "name": "stdout",
     "output_type": "stream",
     "text": [
      "\"apple\" starts with \"a\"\n"
     ]
    }
   ],
   "source": [
    "if_not(\"apple\")"
   ]
  },
  {
   "cell_type": "code",
   "execution_count": 40,
   "metadata": {},
   "outputs": [
    {
     "name": "stdout",
     "output_type": "stream",
     "text": [
      "\"banana\" does NOT starts with \"a\"\n"
     ]
    }
   ],
   "source": [
    "if_not(\"banana\")"
   ]
  },
  {
   "cell_type": "code",
   "execution_count": 41,
   "metadata": {},
   "outputs": [],
   "source": [
    "def too_long_name_function_1():\n",
    "    return True"
   ]
  },
  {
   "cell_type": "code",
   "execution_count": 42,
   "metadata": {},
   "outputs": [],
   "source": [
    "def too_long_name_function_2():\n",
    "    return True"
   ]
  },
  {
   "cell_type": "code",
   "execution_count": 43,
   "metadata": {},
   "outputs": [],
   "source": [
    "def too_long_name_function_3():\n",
    "    return True"
   ]
  },
  {
   "cell_type": "code",
   "execution_count": 44,
   "metadata": {},
   "outputs": [],
   "source": [
    "def if_no_newline():\n",
    "    if too_long_name_function_1() and too_long_name_function_2() and too_long_name_function_3():\n",
    "        print('True')\n",
    "    else:\n",
    "        print('False')"
   ]
  },
  {
   "cell_type": "code",
   "execution_count": 45,
   "metadata": {},
   "outputs": [],
   "source": [
    "def if_backslash():\n",
    "    if too_long_name_function_1() \\\n",
    "       and too_long_name_function_2() \\\n",
    "       and too_long_name_function_3():\n",
    "        print('True')\n",
    "    else:\n",
    "        print('False')"
   ]
  },
  {
   "cell_type": "code",
   "execution_count": 46,
   "metadata": {},
   "outputs": [],
   "source": [
    "def if_parentheses():\n",
    "    if (\n",
    "        too_long_name_function_1()\n",
    "        and too_long_name_function_2()\n",
    "        and too_long_name_function_3()\n",
    "    ):\n",
    "        print('True')\n",
    "    else:\n",
    "        print('False')"
   ]
  },
  {
   "cell_type": "code",
   "execution_count": 47,
   "metadata": {},
   "outputs": [
    {
     "name": "stdout",
     "output_type": "stream",
     "text": [
      "True\n"
     ]
    }
   ],
   "source": [
    "if_no_newline()"
   ]
  },
  {
   "cell_type": "code",
   "execution_count": 48,
   "metadata": {},
   "outputs": [
    {
     "name": "stdout",
     "output_type": "stream",
     "text": [
      "True\n"
     ]
    }
   ],
   "source": [
    "if_backslash()"
   ]
  },
  {
   "cell_type": "code",
   "execution_count": 49,
   "metadata": {},
   "outputs": [
    {
     "name": "stdout",
     "output_type": "stream",
     "text": [
      "True\n"
     ]
    }
   ],
   "source": [
    "if_parentheses()"
   ]
  }
 ],
 "metadata": {
  "kernelspec": {
   "display_name": "Python 3",
   "language": "python",
   "name": "python3"
  },
  "language_info": {
   "codemirror_mode": {
    "name": "ipython",
    "version": 3
   },
   "file_extension": ".py",
   "mimetype": "text/x-python",
   "name": "python",
   "nbconvert_exporter": "python",
   "pygments_lexer": "ipython3",
   "version": "3.11.2"
  }
 },
 "nbformat": 4,
 "nbformat_minor": 2
}
