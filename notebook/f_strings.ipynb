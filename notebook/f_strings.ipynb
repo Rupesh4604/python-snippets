{
 "cells": [
  {
   "cell_type": "code",
   "execution_count": 1,
   "metadata": {},
   "outputs": [],
   "source": [
    "a = 123\n",
    "b = 'abc'"
   ]
  },
  {
   "cell_type": "code",
   "execution_count": 2,
   "metadata": {},
   "outputs": [
    {
     "name": "stdout",
     "output_type": "stream",
     "text": [
      "123 and abc\n"
     ]
    }
   ],
   "source": [
    "print('{} and {}'.format(a, b))"
   ]
  },
  {
   "cell_type": "code",
   "execution_count": 3,
   "metadata": {},
   "outputs": [
    {
     "name": "stdout",
     "output_type": "stream",
     "text": [
      "123 and abc\n"
     ]
    }
   ],
   "source": [
    "print('{first} and {second}'.format(first=a, second=b))"
   ]
  },
  {
   "cell_type": "code",
   "execution_count": 4,
   "metadata": {},
   "outputs": [
    {
     "name": "stdout",
     "output_type": "stream",
     "text": [
      "123 and abc\n"
     ]
    }
   ],
   "source": [
    "print(f'{a} and {b}')"
   ]
  },
  {
   "cell_type": "code",
   "execution_count": 5,
   "metadata": {},
   "outputs": [
    {
     "name": "stdout",
     "output_type": "stream",
     "text": [
      "123 and abc\n"
     ]
    }
   ],
   "source": [
    "print(F'{a} and {b}')"
   ]
  },
  {
   "cell_type": "code",
   "execution_count": 6,
   "metadata": {},
   "outputs": [
    {
     "name": "stdout",
     "output_type": "stream",
     "text": [
      "123 and abc\n"
     ]
    }
   ],
   "source": [
    "print(f\"{a} and {b}\")"
   ]
  },
  {
   "cell_type": "code",
   "execution_count": 7,
   "metadata": {},
   "outputs": [
    {
     "name": "stdout",
     "output_type": "stream",
     "text": [
      "123 and abc\n"
     ]
    }
   ],
   "source": [
    "print(f'''{a} and {b}''')"
   ]
  },
  {
   "cell_type": "code",
   "execution_count": 8,
   "metadata": {},
   "outputs": [
    {
     "name": "stdout",
     "output_type": "stream",
     "text": [
      "123 and abc\n"
     ]
    }
   ],
   "source": [
    "print(f\"\"\"{a} and {b}\"\"\")"
   ]
  },
  {
   "cell_type": "code",
   "execution_count": 9,
   "metadata": {},
   "outputs": [],
   "source": [
    "s = 'abc'"
   ]
  },
  {
   "cell_type": "code",
   "execution_count": 10,
   "metadata": {},
   "outputs": [
    {
     "name": "stdout",
     "output_type": "stream",
     "text": [
      "right : *****abc\n",
      "center: **abc***\n",
      "left  : abc*****\n"
     ]
    }
   ],
   "source": [
    "print(f'right : {s:*>8}')\n",
    "print(f'center: {s:*^8}')\n",
    "print(f'left  : {s:*<8}')"
   ]
  },
  {
   "cell_type": "code",
   "execution_count": 11,
   "metadata": {},
   "outputs": [],
   "source": [
    "i = 1234"
   ]
  },
  {
   "cell_type": "code",
   "execution_count": 12,
   "metadata": {},
   "outputs": [
    {
     "name": "stdout",
     "output_type": "stream",
     "text": [
      "zero padding: 00001234\n"
     ]
    }
   ],
   "source": [
    "print(f'zero padding: {i:08}')"
   ]
  },
  {
   "cell_type": "code",
   "execution_count": 13,
   "metadata": {},
   "outputs": [],
   "source": [
    "i = 1234567890"
   ]
  },
  {
   "cell_type": "code",
   "execution_count": 14,
   "metadata": {},
   "outputs": [
    {
     "name": "stdout",
     "output_type": "stream",
     "text": [
      "comma: 1,234,567,890\n"
     ]
    }
   ],
   "source": [
    "print(f'comma: {i:,}')"
   ]
  },
  {
   "cell_type": "code",
   "execution_count": 15,
   "metadata": {},
   "outputs": [],
   "source": [
    "i = 255"
   ]
  },
  {
   "cell_type": "code",
   "execution_count": 16,
   "metadata": {},
   "outputs": [
    {
     "name": "stdout",
     "output_type": "stream",
     "text": [
      "bin       : 11111111\n",
      "oct       : 377\n",
      "hex(lower): ff\n",
      "hex(upper): FF\n"
     ]
    }
   ],
   "source": [
    "print(f'bin       : {i:b}')\n",
    "print(f'oct       : {i:o}')\n",
    "print(f'hex(lower): {i:x}')\n",
    "print(f'hex(upper): {i:X}')"
   ]
  },
  {
   "cell_type": "code",
   "execution_count": 17,
   "metadata": {},
   "outputs": [
    {
     "name": "stdout",
     "output_type": "stream",
     "text": [
      "bin       : 11111111\n",
      "oct       : 00000377\n",
      "hex(lower): 000000ff\n",
      "hex(upper): 000000FF\n"
     ]
    }
   ],
   "source": [
    "print(f'bin       : {i:08b}')\n",
    "print(f'oct       : {i:08o}')\n",
    "print(f'hex(lower): {i:08x}')\n",
    "print(f'hex(upper): {i:08X}')"
   ]
  },
  {
   "cell_type": "code",
   "execution_count": 18,
   "metadata": {},
   "outputs": [
    {
     "name": "stdout",
     "output_type": "stream",
     "text": [
      "bin       : 0b11111111\n",
      "oct       : 0o00000377\n",
      "hex(lower): 0x000000ff\n",
      "hex(upper): 0X000000FF\n"
     ]
    }
   ],
   "source": [
    "print(f'bin       : {i:#010b}')\n",
    "print(f'oct       : {i:#010o}')\n",
    "print(f'hex(lower): {i:#010x}')\n",
    "print(f'hex(upper): {i:#010X}')"
   ]
  },
  {
   "cell_type": "code",
   "execution_count": 19,
   "metadata": {},
   "outputs": [],
   "source": [
    "f = 12.3456"
   ]
  },
  {
   "cell_type": "code",
   "execution_count": 20,
   "metadata": {},
   "outputs": [
    {
     "name": "stdout",
     "output_type": "stream",
     "text": [
      "decimal places    : 12.346\n",
      "significant digits: 12.3\n"
     ]
    }
   ],
   "source": [
    "print(f'decimal places    : {f:.3f}')\n",
    "print(f'significant digits: {f:.3g}')"
   ]
  },
  {
   "cell_type": "code",
   "execution_count": 21,
   "metadata": {},
   "outputs": [],
   "source": [
    "f = 12.3456"
   ]
  },
  {
   "cell_type": "code",
   "execution_count": 22,
   "metadata": {},
   "outputs": [
    {
     "name": "stdout",
     "output_type": "stream",
     "text": [
      "exponent(lower): 1.235e+01\n",
      "exponent(upper): 1.235E+01\n"
     ]
    }
   ],
   "source": [
    "print(f'exponent(lower): {f:.3e}')\n",
    "print(f'exponent(upper): {f:.3E}')"
   ]
  },
  {
   "cell_type": "code",
   "execution_count": 23,
   "metadata": {},
   "outputs": [],
   "source": [
    "f = 0.123"
   ]
  },
  {
   "cell_type": "code",
   "execution_count": 24,
   "metadata": {},
   "outputs": [
    {
     "name": "stdout",
     "output_type": "stream",
     "text": [
      "percent: 12.30%\n"
     ]
    }
   ],
   "source": [
    "print(f'percent: {f:.2%}')"
   ]
  },
  {
   "cell_type": "code",
   "execution_count": 25,
   "metadata": {},
   "outputs": [],
   "source": [
    "import datetime"
   ]
  },
  {
   "cell_type": "code",
   "execution_count": 26,
   "metadata": {},
   "outputs": [],
   "source": [
    "dt = datetime.datetime(2020, 1, 5, 20, 15, 30)"
   ]
  },
  {
   "cell_type": "code",
   "execution_count": 27,
   "metadata": {},
   "outputs": [
    {
     "name": "stdout",
     "output_type": "stream",
     "text": [
      "datetime: 2020-01-05 20:15:30\n"
     ]
    }
   ],
   "source": [
    "print(f'datetime: {dt}')"
   ]
  },
  {
   "cell_type": "code",
   "execution_count": 28,
   "metadata": {},
   "outputs": [
    {
     "name": "stdout",
     "output_type": "stream",
     "text": [
      "datetime: Sunday, 01/05/2020 08:15:30 PM\n"
     ]
    }
   ],
   "source": [
    "print(f'datetime: {dt:%A, %m/%d/%Y %I:%M:%S %p}')"
   ]
  },
  {
   "cell_type": "code",
   "execution_count": 29,
   "metadata": {},
   "outputs": [
    {
     "name": "stdout",
     "output_type": "stream",
     "text": [
      "datetime: 2020-01-05T20:15:30\n"
     ]
    }
   ],
   "source": [
    "print(f'datetime: {dt.isoformat()}')"
   ]
  },
  {
   "cell_type": "code",
   "execution_count": 30,
   "metadata": {},
   "outputs": [],
   "source": [
    "n = 123"
   ]
  },
  {
   "cell_type": "code",
   "execution_count": 31,
   "metadata": {},
   "outputs": [
    {
     "name": "stdout",
     "output_type": "stream",
     "text": [
      "{}-123-{123}\n"
     ]
    }
   ],
   "source": [
    "print(f'{{}}-{n}-{{{n}}}')"
   ]
  },
  {
   "cell_type": "code",
   "execution_count": 32,
   "metadata": {},
   "outputs": [],
   "source": [
    "n = 123\n",
    "i = 8"
   ]
  },
  {
   "cell_type": "code",
   "execution_count": 33,
   "metadata": {},
   "outputs": [
    {
     "name": "stdout",
     "output_type": "stream",
     "text": [
      "00000123\n"
     ]
    }
   ],
   "source": [
    "print('{n:0{i}}'.format(n=n, i=i))"
   ]
  },
  {
   "cell_type": "code",
   "execution_count": 34,
   "metadata": {},
   "outputs": [
    {
     "name": "stdout",
     "output_type": "stream",
     "text": [
      "00000123\n"
     ]
    }
   ],
   "source": [
    "print(f'{n:0{i}}')"
   ]
  },
  {
   "cell_type": "code",
   "execution_count": 35,
   "metadata": {},
   "outputs": [],
   "source": [
    "f = 1.2345"
   ]
  },
  {
   "cell_type": "code",
   "execution_count": 36,
   "metadata": {},
   "outputs": [
    {
     "name": "stdout",
     "output_type": "stream",
     "text": [
      "1\n",
      "1.2\n",
      "1.23\n",
      "1.234\n",
      "1.2345\n"
     ]
    }
   ],
   "source": [
    "for i in range(5):\n",
    "    print(f'{f:.{i}f}')"
   ]
  },
  {
   "cell_type": "code",
   "execution_count": 37,
   "metadata": {},
   "outputs": [
    {
     "name": "stdout",
     "output_type": "stream",
     "text": [
      "x\ty\n"
     ]
    }
   ],
   "source": [
    "print('x\\ty')"
   ]
  },
  {
   "cell_type": "code",
   "execution_count": 38,
   "metadata": {},
   "outputs": [
    {
     "name": "stdout",
     "output_type": "stream",
     "text": [
      "x\\ty\n"
     ]
    }
   ],
   "source": [
    "print(r'x\\ty')"
   ]
  },
  {
   "cell_type": "code",
   "execution_count": 39,
   "metadata": {},
   "outputs": [],
   "source": [
    "x = 'XXX'\n",
    "y = 'YYY'"
   ]
  },
  {
   "cell_type": "code",
   "execution_count": 40,
   "metadata": {},
   "outputs": [
    {
     "name": "stdout",
     "output_type": "stream",
     "text": [
      "XXX\tYYY\n"
     ]
    }
   ],
   "source": [
    "print(f'{x}\\t{y}')"
   ]
  },
  {
   "cell_type": "code",
   "execution_count": 41,
   "metadata": {},
   "outputs": [
    {
     "name": "stdout",
     "output_type": "stream",
     "text": [
      "XXX\\tYYY\n"
     ]
    }
   ],
   "source": [
    "print(rf'{x}\\t{y}')"
   ]
  },
  {
   "cell_type": "code",
   "execution_count": 42,
   "metadata": {},
   "outputs": [
    {
     "name": "stdout",
     "output_type": "stream",
     "text": [
      "XXX\\tYYY\n"
     ]
    }
   ],
   "source": [
    "print(FR'{x}\\t{y}')"
   ]
  },
  {
   "cell_type": "code",
   "execution_count": 43,
   "metadata": {},
   "outputs": [],
   "source": [
    "a = 3\n",
    "b = 4"
   ]
  },
  {
   "cell_type": "code",
   "execution_count": 44,
   "metadata": {},
   "outputs": [],
   "source": [
    "# print('{a} + {b} = {a + b}'.format(a=a, b=b))\n",
    "# KeyError: 'a + b'"
   ]
  },
  {
   "cell_type": "code",
   "execution_count": 45,
   "metadata": {},
   "outputs": [
    {
     "name": "stdout",
     "output_type": "stream",
     "text": [
      "3 + 4 = 7\n"
     ]
    }
   ],
   "source": [
    "print(f'{a} + {b} = {a + b}')"
   ]
  },
  {
   "cell_type": "code",
   "execution_count": 46,
   "metadata": {},
   "outputs": [
    {
     "name": "stdout",
     "output_type": "stream",
     "text": [
      "3 * 4 = 12\n"
     ]
    }
   ],
   "source": [
    "print(f'{a} * {b} = {a * b}')"
   ]
  },
  {
   "cell_type": "code",
   "execution_count": 47,
   "metadata": {},
   "outputs": [
    {
     "name": "stdout",
     "output_type": "stream",
     "text": [
      "3 / 4 = 7.50e-01\n"
     ]
    }
   ],
   "source": [
    "print(f'{a} / {b} = {a / b:.2e}')"
   ]
  },
  {
   "cell_type": "code",
   "execution_count": 48,
   "metadata": {},
   "outputs": [],
   "source": [
    "d = {'key1': 10, 'key2': 20}"
   ]
  },
  {
   "cell_type": "code",
   "execution_count": 49,
   "metadata": {},
   "outputs": [
    {
     "name": "stdout",
     "output_type": "stream",
     "text": [
      "10, 20\n"
     ]
    }
   ],
   "source": [
    "print('{0[key1]}, {0[key2]}'.format(d))"
   ]
  },
  {
   "cell_type": "code",
   "execution_count": 50,
   "metadata": {},
   "outputs": [],
   "source": [
    "# print('{0[\"key1\"]}, {0[\"key2\"]}'.format(d))\n",
    "# KeyError: '\"key1\"'"
   ]
  },
  {
   "cell_type": "code",
   "execution_count": 51,
   "metadata": {},
   "outputs": [
    {
     "name": "stdout",
     "output_type": "stream",
     "text": [
      "10, 20\n"
     ]
    }
   ],
   "source": [
    "print(f'{d[\"key1\"]}, {d[\"key2\"]}')"
   ]
  },
  {
   "cell_type": "code",
   "execution_count": 52,
   "metadata": {},
   "outputs": [],
   "source": [
    "# print(f'{d[key1]}, {d[key2]}')\n",
    "# NameError: name 'key1' is not defined"
   ]
  },
  {
   "cell_type": "code",
   "execution_count": 53,
   "metadata": {},
   "outputs": [],
   "source": [
    "# print(f'{d['key1']}, {d['key2']}')\n",
    "# SyntaxError: invalid syntax"
   ]
  },
  {
   "cell_type": "code",
   "execution_count": 54,
   "metadata": {},
   "outputs": [
    {
     "name": "stdout",
     "output_type": "stream",
     "text": [
      "10, 20\n"
     ]
    }
   ],
   "source": [
    "print(f\"{d['key1']}, {d['key2']}\")"
   ]
  },
  {
   "cell_type": "code",
   "execution_count": 55,
   "metadata": {},
   "outputs": [],
   "source": [
    "# print(f'{d[\\'key1\\']}, {d[\\'key2\\']}')\n",
    "# SyntaxError: f-string expression part cannot include a backslash"
   ]
  },
  {
   "cell_type": "code",
   "execution_count": 56,
   "metadata": {},
   "outputs": [],
   "source": [
    "i = 123"
   ]
  },
  {
   "cell_type": "code",
   "execution_count": 57,
   "metadata": {},
   "outputs": [
    {
     "name": "stdout",
     "output_type": "stream",
     "text": [
      "i=123\n"
     ]
    }
   ],
   "source": [
    "print(f'{i=}')"
   ]
  },
  {
   "cell_type": "code",
   "execution_count": 58,
   "metadata": {
    "scrolled": true
   },
   "outputs": [
    {
     "name": "stdout",
     "output_type": "stream",
     "text": [
      "i = 123\n"
     ]
    }
   ],
   "source": [
    "print(f'{i = }')"
   ]
  },
  {
   "cell_type": "code",
   "execution_count": 59,
   "metadata": {},
   "outputs": [
    {
     "name": "stdout",
     "output_type": "stream",
     "text": [
      " i  =   123\n"
     ]
    }
   ],
   "source": [
    "print(f'{ i  =   }')"
   ]
  },
  {
   "cell_type": "code",
   "execution_count": 60,
   "metadata": {},
   "outputs": [
    {
     "name": "stdout",
     "output_type": "stream",
     "text": [
      "i = 0b1111011\n"
     ]
    }
   ],
   "source": [
    "print(f'{i = :#b}')"
   ]
  },
  {
   "cell_type": "code",
   "execution_count": 61,
   "metadata": {},
   "outputs": [
    {
     "name": "stdout",
     "output_type": "stream",
     "text": [
      "i * 2 = 246\n"
     ]
    }
   ],
   "source": [
    "print(f'{i * 2 = }')"
   ]
  },
  {
   "cell_type": "code",
   "execution_count": 62,
   "metadata": {},
   "outputs": [],
   "source": [
    "l = [0, 10, 20]"
   ]
  },
  {
   "cell_type": "code",
   "execution_count": 63,
   "metadata": {},
   "outputs": [
    {
     "name": "stdout",
     "output_type": "stream",
     "text": [
      "l = [0, 10, 20], l[1] = 10\n"
     ]
    }
   ],
   "source": [
    "print(f'{l = }, {l[1] = }')"
   ]
  },
  {
   "cell_type": "code",
   "execution_count": 64,
   "metadata": {},
   "outputs": [],
   "source": [
    "d = {'key1': 10, 'key2': 20}"
   ]
  },
  {
   "cell_type": "code",
   "execution_count": 65,
   "metadata": {},
   "outputs": [
    {
     "name": "stdout",
     "output_type": "stream",
     "text": [
      "d = {'key1': 10, 'key2': 20}, d[\"key1\"] = 10\n"
     ]
    }
   ],
   "source": [
    "print(f'{d = }, {d[\"key1\"] = }')"
   ]
  }
 ],
 "metadata": {
  "kernelspec": {
   "display_name": "Python 3",
   "language": "python",
   "name": "python3"
  },
  "language_info": {
   "codemirror_mode": {
    "name": "ipython",
    "version": 3
   },
   "file_extension": ".py",
   "mimetype": "text/x-python",
   "name": "python",
   "nbconvert_exporter": "python",
   "pygments_lexer": "ipython3",
   "version": "3.10.8"
  }
 },
 "nbformat": 4,
 "nbformat_minor": 2
}
