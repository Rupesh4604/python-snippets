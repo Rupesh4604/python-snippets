{
 "cells": [
  {
   "cell_type": "code",
   "execution_count": 1,
   "id": "25b29483",
   "metadata": {},
   "outputs": [],
   "source": [
    "d = {'k1': 1, 'k2': 2}"
   ]
  },
  {
   "cell_type": "code",
   "execution_count": 2,
   "id": "062ecce3",
   "metadata": {},
   "outputs": [
    {
     "name": "stdout",
     "output_type": "stream",
     "text": [
      "{'k1': 1, 'k2': 2, 'k3': 3}\n"
     ]
    }
   ],
   "source": [
    "d['k3'] = 3\n",
    "print(d)"
   ]
  },
  {
   "cell_type": "code",
   "execution_count": 3,
   "id": "9583dcda",
   "metadata": {},
   "outputs": [
    {
     "name": "stdout",
     "output_type": "stream",
     "text": [
      "{'k1': 100, 'k2': 2, 'k3': 3}\n"
     ]
    }
   ],
   "source": [
    "d['k1'] = 100\n",
    "print(d)"
   ]
  },
  {
   "cell_type": "code",
   "execution_count": 4,
   "id": "1c92cba7",
   "metadata": {},
   "outputs": [],
   "source": [
    "d = {'k1': 1, 'k2': 2}"
   ]
  },
  {
   "cell_type": "code",
   "execution_count": 5,
   "id": "7f660479",
   "metadata": {},
   "outputs": [
    {
     "name": "stdout",
     "output_type": "stream",
     "text": [
      "{'k1': 100, 'k2': 2, 'k3': 3, 'k4': 4}\n"
     ]
    }
   ],
   "source": [
    "d.update(k1=100, k3=3, k4=4)\n",
    "print(d)"
   ]
  },
  {
   "cell_type": "code",
   "execution_count": 6,
   "id": "67030e8e",
   "metadata": {},
   "outputs": [],
   "source": [
    "# d.update(k3=3, k3=300)\n",
    "# SyntaxError: keyword argument repeated: k3"
   ]
  },
  {
   "cell_type": "code",
   "execution_count": 7,
   "id": "f2d4e9fe",
   "metadata": {},
   "outputs": [],
   "source": [
    "# d.update(k-3=3)\n",
    "# SyntaxError: expression cannot contain assignment, perhaps you meant \"==\"?"
   ]
  },
  {
   "cell_type": "code",
   "execution_count": 8,
   "id": "4f132849",
   "metadata": {},
   "outputs": [],
   "source": [
    "# d.update(4=400)\n",
    "# SyntaxError: expression cannot contain assignment, perhaps you meant \"==\"?"
   ]
  },
  {
   "cell_type": "code",
   "execution_count": 9,
   "id": "a61876dc",
   "metadata": {},
   "outputs": [],
   "source": [
    "d = {'k1': 1, 'k2': 2}"
   ]
  },
  {
   "cell_type": "code",
   "execution_count": 10,
   "id": "895ff6a6",
   "metadata": {},
   "outputs": [
    {
     "name": "stdout",
     "output_type": "stream",
     "text": [
      "{'k1': 1, 'k2': 2, 'k-3': 3, 4: 400}\n"
     ]
    }
   ],
   "source": [
    "d['k-3'] = 3\n",
    "d[4] = 400\n",
    "print(d)"
   ]
  },
  {
   "cell_type": "code",
   "execution_count": 11,
   "id": "939cf5e9",
   "metadata": {},
   "outputs": [],
   "source": [
    "d = {'k1': 1, 'k2': 2}"
   ]
  },
  {
   "cell_type": "code",
   "execution_count": 12,
   "id": "bd7907cc",
   "metadata": {},
   "outputs": [
    {
     "name": "stdout",
     "output_type": "stream",
     "text": [
      "{'k1': 100, 'k2': 2, 'k3': 3, 'k4': 4}\n"
     ]
    }
   ],
   "source": [
    "d.update([('k1', 100), ('k3', 3), ('k4', 4)])\n",
    "print(d)"
   ]
  },
  {
   "cell_type": "code",
   "execution_count": 13,
   "id": "72b9d6f5",
   "metadata": {},
   "outputs": [],
   "source": [
    "d = {'k1': 1, 'k2': 2}"
   ]
  },
  {
   "cell_type": "code",
   "execution_count": 14,
   "id": "764b70be",
   "metadata": {},
   "outputs": [],
   "source": [
    "keys = ['k1', 'k3', 'k4']\n",
    "values = [100, 3, 4]"
   ]
  },
  {
   "cell_type": "code",
   "execution_count": 15,
   "id": "dbba3ed3",
   "metadata": {},
   "outputs": [
    {
     "name": "stdout",
     "output_type": "stream",
     "text": [
      "{'k1': 100, 'k2': 2, 'k3': 3, 'k4': 4}\n"
     ]
    }
   ],
   "source": [
    "d.update(zip(keys, values))\n",
    "print(d)"
   ]
  },
  {
   "cell_type": "code",
   "execution_count": 16,
   "id": "571ea2a7",
   "metadata": {},
   "outputs": [],
   "source": [
    "d = {'k1': 1, 'k2': 2}"
   ]
  },
  {
   "cell_type": "code",
   "execution_count": 17,
   "id": "a3cd5a03",
   "metadata": {},
   "outputs": [
    {
     "name": "stdout",
     "output_type": "stream",
     "text": [
      "{'k1': 1, 'k2': 2, 'k3': 300}\n"
     ]
    }
   ],
   "source": [
    "d.update([('k3', 3), ('k3', 300)])\n",
    "print(d)"
   ]
  },
  {
   "cell_type": "code",
   "execution_count": 18,
   "id": "1fa816d9",
   "metadata": {},
   "outputs": [],
   "source": [
    "d = {'k1': 1, 'k2': 2}"
   ]
  },
  {
   "cell_type": "code",
   "execution_count": 19,
   "id": "d9ccf2d5",
   "metadata": {},
   "outputs": [],
   "source": [
    "keys = ['k3', 'k3']\n",
    "values = [3, 300]"
   ]
  },
  {
   "cell_type": "code",
   "execution_count": 20,
   "id": "0e746616",
   "metadata": {},
   "outputs": [
    {
     "name": "stdout",
     "output_type": "stream",
     "text": [
      "{'k1': 1, 'k2': 2, 'k3': 300}\n"
     ]
    }
   ],
   "source": [
    "d.update(zip(keys, values))\n",
    "print(d)"
   ]
  },
  {
   "cell_type": "code",
   "execution_count": 21,
   "id": "e7837c33",
   "metadata": {},
   "outputs": [],
   "source": [
    "d1 = {'k1': 1, 'k2': 2}\n",
    "d2 = {'k1': 100, 'k3': 3, 'k4': 4}"
   ]
  },
  {
   "cell_type": "code",
   "execution_count": 22,
   "id": "d3f0c7b1",
   "metadata": {},
   "outputs": [
    {
     "name": "stdout",
     "output_type": "stream",
     "text": [
      "{'k1': 100, 'k2': 2, 'k3': 3, 'k4': 4}\n"
     ]
    }
   ],
   "source": [
    "d1.update(d2)\n",
    "print(d1)"
   ]
  },
  {
   "cell_type": "code",
   "execution_count": 23,
   "id": "39808b1a",
   "metadata": {},
   "outputs": [],
   "source": [
    "d1 = {'k1': 1, 'k2': 2}\n",
    "d2 = {'k1': 100, 'k3': 3, 'k4': 4}\n",
    "d3 = {'k5': 5, 'k6': 6}"
   ]
  },
  {
   "cell_type": "code",
   "execution_count": 24,
   "id": "9f37b044",
   "metadata": {},
   "outputs": [],
   "source": [
    "# d1.update(d2, d3)\n",
    "# TypeError: update expected at most 1 arguments, got 2"
   ]
  },
  {
   "cell_type": "code",
   "execution_count": 25,
   "id": "23343065",
   "metadata": {},
   "outputs": [
    {
     "name": "stdout",
     "output_type": "stream",
     "text": [
      "{'k1': 100, 'k2': 2, 'k3': 3, 'k4': 4, 'k5': 5, 'k6': 6}\n"
     ]
    }
   ],
   "source": [
    "d1.update(**d2, **d3)\n",
    "print(d1)"
   ]
  },
  {
   "cell_type": "code",
   "execution_count": 26,
   "id": "467fc691",
   "metadata": {},
   "outputs": [],
   "source": [
    "d1 = {'k1': 1, 'k2': 2}\n",
    "d2 = {'k1': 100, 'k3': 3, 'k4': 4}\n",
    "d3 = {'k5': 5, 'k6': 6}"
   ]
  },
  {
   "cell_type": "code",
   "execution_count": 27,
   "id": "8fa7fed3",
   "metadata": {},
   "outputs": [],
   "source": [
    "# d3.update(**d1, **d2)\n",
    "# TypeError: dict.update() got multiple values for keyword argument 'k1'"
   ]
  }
 ],
 "metadata": {
  "kernelspec": {
   "display_name": "Python 3",
   "language": "python",
   "name": "python3"
  },
  "language_info": {
   "codemirror_mode": {
    "name": "ipython",
    "version": 3
   },
   "file_extension": ".py",
   "mimetype": "text/x-python",
   "name": "python",
   "nbconvert_exporter": "python",
   "pygments_lexer": "ipython3",
   "version": "3.11.4"
  }
 },
 "nbformat": 4,
 "nbformat_minor": 5
}
