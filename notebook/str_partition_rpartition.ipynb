{
 "cells": [
  {
   "cell_type": "code",
   "execution_count": 1,
   "id": "25507977",
   "metadata": {},
   "outputs": [
    {
     "name": "stdout",
     "output_type": "stream",
     "text": [
      "('abc', '@', 'xyz')\n"
     ]
    }
   ],
   "source": [
    "s = 'abc@xyz'\n",
    "print(s.partition('@'))"
   ]
  },
  {
   "cell_type": "code",
   "execution_count": 2,
   "id": "8209a873",
   "metadata": {},
   "outputs": [
    {
     "name": "stdout",
     "output_type": "stream",
     "text": [
      "<class 'tuple'>\n"
     ]
    }
   ],
   "source": [
    "print(type(s.partition('@')))"
   ]
  },
  {
   "cell_type": "code",
   "execution_count": 3,
   "id": "3ec40778",
   "metadata": {},
   "outputs": [
    {
     "name": "stdout",
     "output_type": "stream",
     "text": [
      "('abc@xyz', '', '')\n"
     ]
    }
   ],
   "source": [
    "print(s.partition('123'))"
   ]
  },
  {
   "cell_type": "code",
   "execution_count": 4,
   "id": "aab4fce1",
   "metadata": {},
   "outputs": [
    {
     "name": "stdout",
     "output_type": "stream",
     "text": [
      "('', 'abc', '@xyz')\n"
     ]
    }
   ],
   "source": [
    "print(s.partition('abc'))"
   ]
  },
  {
   "cell_type": "code",
   "execution_count": 5,
   "id": "f136a6cf",
   "metadata": {},
   "outputs": [
    {
     "name": "stdout",
     "output_type": "stream",
     "text": [
      "('abc@', 'xyz', '')\n"
     ]
    }
   ],
   "source": [
    "print(s.partition('xyz'))"
   ]
  },
  {
   "cell_type": "code",
   "execution_count": 6,
   "id": "a20e4a8d",
   "metadata": {},
   "outputs": [
    {
     "name": "stdout",
     "output_type": "stream",
     "text": [
      "('abc', '@', 'xyz@123')\n"
     ]
    }
   ],
   "source": [
    "s = 'abc@xyz@123'\n",
    "print(s.partition('@'))"
   ]
  },
  {
   "cell_type": "code",
   "execution_count": 7,
   "id": "04edabc1",
   "metadata": {},
   "outputs": [
    {
     "name": "stdout",
     "output_type": "stream",
     "text": [
      "('abc@xyz', '@', '123')\n"
     ]
    }
   ],
   "source": [
    "print(s.rpartition('@'))"
   ]
  }
 ],
 "metadata": {
  "kernelspec": {
   "display_name": "Python 3",
   "language": "python",
   "name": "python3"
  },
  "language_info": {
   "codemirror_mode": {
    "name": "ipython",
    "version": 3
   },
   "file_extension": ".py",
   "mimetype": "text/x-python",
   "name": "python",
   "nbconvert_exporter": "python",
   "pygments_lexer": "ipython3",
   "version": "3.11.4"
  }
 },
 "nbformat": 4,
 "nbformat_minor": 5
}
