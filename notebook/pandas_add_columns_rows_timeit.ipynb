{
 "cells": [
  {
   "cell_type": "code",
   "execution_count": 1,
   "id": "e7402eb3",
   "metadata": {},
   "outputs": [],
   "source": [
    "import warnings\n",
    "import pandas as pd"
   ]
  },
  {
   "cell_type": "code",
   "execution_count": 2,
   "id": "0ae723d6",
   "metadata": {},
   "outputs": [
    {
     "name": "stdout",
     "output_type": "stream",
     "text": [
      "2.0.3\n"
     ]
    }
   ],
   "source": [
    "print(pd.__version__)"
   ]
  },
  {
   "cell_type": "code",
   "execution_count": 3,
   "id": "2c9bec0f",
   "metadata": {},
   "outputs": [],
   "source": [
    "warnings.simplefilter('ignore')"
   ]
  },
  {
   "cell_type": "code",
   "execution_count": 4,
   "id": "e8932cdd",
   "metadata": {},
   "outputs": [
    {
     "name": "stdout",
     "output_type": "stream",
     "text": [
      "150 ms ± 4.67 ms per loop (mean ± std. dev. of 7 runs, 10 loops each)\n"
     ]
    }
   ],
   "source": [
    "%%timeit\n",
    "df_loc = pd.DataFrame([[0, 0, 0], [1, 1, 1], [2, 2, 2]])\n",
    "\n",
    "for i in range(3, 1003):\n",
    "    df_loc.loc[i] = [i] * 3"
   ]
  },
  {
   "cell_type": "code",
   "execution_count": 5,
   "id": "3946e462",
   "metadata": {},
   "outputs": [
    {
     "name": "stdout",
     "output_type": "stream",
     "text": [
      "487 µs ± 12.5 µs per loop (mean ± std. dev. of 7 runs, 1,000 loops each)\n"
     ]
    }
   ],
   "source": [
    "%%timeit\n",
    "df = pd.DataFrame([[0, 0, 0], [1, 1, 1], [2, 2, 2]])\n",
    "l_data = []\n",
    "l_label = []\n",
    "\n",
    "for i in range(3, 1003):\n",
    "    l_data.append([i] * 3)\n",
    "    l_label.append(i)\n",
    "\n",
    "df_concat = pd.concat([df, pd.DataFrame(l_data, index=l_label, columns=df.columns)])"
   ]
  },
  {
   "cell_type": "code",
   "execution_count": 6,
   "id": "63a96b95",
   "metadata": {},
   "outputs": [],
   "source": [
    "df_loc = pd.DataFrame([[0, 0, 0], [1, 1, 1], [2, 2, 2]])\n",
    "for i in range(3, 1003):\n",
    "    df_loc.loc[i] = [i] * 3"
   ]
  },
  {
   "cell_type": "code",
   "execution_count": 7,
   "id": "c50be4b4",
   "metadata": {},
   "outputs": [],
   "source": [
    "df = pd.DataFrame([[0, 0, 0], [1, 1, 1], [2, 2, 2]])\n",
    "l_data = []\n",
    "l_label = []\n",
    "\n",
    "for i in range(3, 1003):\n",
    "    l_data.append([i] * 3)\n",
    "    l_label.append(i)\n",
    "\n",
    "df_concat = pd.concat([df, pd.DataFrame(l_data, index=l_label, columns=df.columns)])"
   ]
  },
  {
   "cell_type": "code",
   "execution_count": 8,
   "id": "39a97d1a",
   "metadata": {},
   "outputs": [
    {
     "name": "stdout",
     "output_type": "stream",
     "text": [
      "True\n"
     ]
    }
   ],
   "source": [
    "print(df_loc.equals(df_concat))"
   ]
  },
  {
   "cell_type": "code",
   "execution_count": 9,
   "id": "8fbb42d7",
   "metadata": {},
   "outputs": [
    {
     "name": "stdout",
     "output_type": "stream",
     "text": [
      "31.2 ms ± 578 µs per loop (mean ± std. dev. of 7 runs, 10 loops each)\n"
     ]
    }
   ],
   "source": [
    "%%timeit\n",
    "df_index = pd.DataFrame([[0, 0, 0], [1, 1, 1], [2, 2, 2]])\n",
    "\n",
    "for i in range(3, 1003):\n",
    "    df_index[i] = [0, 1, 2]"
   ]
  },
  {
   "cell_type": "code",
   "execution_count": 10,
   "id": "8cc2bf05",
   "metadata": {},
   "outputs": [
    {
     "name": "stdout",
     "output_type": "stream",
     "text": [
      "3.56 ms ± 54.7 µs per loop (mean ± std. dev. of 7 runs, 100 loops each)\n"
     ]
    }
   ],
   "source": [
    "%%timeit\n",
    "df = pd.DataFrame([[0, 0, 0], [1, 1, 1], [2, 2, 2]])\n",
    "l_data = []\n",
    "l_label = []\n",
    "\n",
    "for i in range(3, 1003):\n",
    "    l_data.append([0, 1, 2])\n",
    "    l_label.append(i)\n",
    "\n",
    "df_concat = pd.concat([df, pd.DataFrame(zip(*l_data), index=df.index, columns=l_label)], axis=1)"
   ]
  },
  {
   "cell_type": "code",
   "execution_count": 11,
   "id": "7751f0ae",
   "metadata": {},
   "outputs": [
    {
     "name": "stdout",
     "output_type": "stream",
     "text": [
      "4.16 ms ± 126 µs per loop (mean ± std. dev. of 7 runs, 100 loops each)\n"
     ]
    }
   ],
   "source": [
    "%%timeit\n",
    "df = pd.DataFrame([[0, 0, 0], [1, 1, 1], [2, 2, 2]])\n",
    "d = {}\n",
    "\n",
    "for i in range(3, 1003):\n",
    "    d[i] = [0, 1, 2]\n",
    "\n",
    "df_concat_d = pd.concat([df, pd.DataFrame(d, index=df.index)], axis=1)"
   ]
  },
  {
   "cell_type": "code",
   "execution_count": 12,
   "id": "28e210f6",
   "metadata": {},
   "outputs": [],
   "source": [
    "df_index = pd.DataFrame([[0, 0, 0], [1, 1, 1], [2, 2, 2]])\n",
    "\n",
    "for i in range(3, 1003):\n",
    "    df_index[i] = [0, 1, 2]"
   ]
  },
  {
   "cell_type": "code",
   "execution_count": 13,
   "id": "02a562d2",
   "metadata": {},
   "outputs": [],
   "source": [
    "df = pd.DataFrame([[0, 0, 0], [1, 1, 1], [2, 2, 2]])\n",
    "l_data = []\n",
    "l_label = []\n",
    "\n",
    "for i in range(3, 1003):\n",
    "    l_data.append([0, 1, 2])\n",
    "    l_label.append(i)\n",
    "\n",
    "df_concat = pd.concat([df, pd.DataFrame(zip(*l_data), index=df.index, columns=l_label)], axis=1)"
   ]
  },
  {
   "cell_type": "code",
   "execution_count": 14,
   "id": "c894187f",
   "metadata": {},
   "outputs": [],
   "source": [
    "df = pd.DataFrame([[0, 0, 0], [1, 1, 1], [2, 2, 2]])\n",
    "d = {}\n",
    "\n",
    "for i in range(3, 1003):\n",
    "    d[i] = [0, 1, 2]\n",
    "\n",
    "df_concat_d = pd.concat([df, pd.DataFrame(d, index=df.index)], axis=1)"
   ]
  },
  {
   "cell_type": "code",
   "execution_count": 15,
   "id": "0a0d98d9",
   "metadata": {},
   "outputs": [
    {
     "name": "stdout",
     "output_type": "stream",
     "text": [
      "True\n"
     ]
    }
   ],
   "source": [
    "print(df_index.equals(df_concat))"
   ]
  },
  {
   "cell_type": "code",
   "execution_count": 16,
   "id": "65a8febb",
   "metadata": {},
   "outputs": [
    {
     "name": "stdout",
     "output_type": "stream",
     "text": [
      "True\n"
     ]
    }
   ],
   "source": [
    "print(df_index.equals(df_concat_d))"
   ]
  },
  {
   "cell_type": "code",
   "execution_count": 17,
   "id": "662b9d45",
   "metadata": {},
   "outputs": [],
   "source": [
    "import numpy as np"
   ]
  },
  {
   "cell_type": "code",
   "execution_count": 18,
   "id": "b5ce077b",
   "metadata": {},
   "outputs": [],
   "source": [
    "l_v = np.zeros((1000, 3)).tolist()"
   ]
  },
  {
   "cell_type": "code",
   "execution_count": 19,
   "id": "ca5c7abd",
   "metadata": {},
   "outputs": [
    {
     "name": "stdout",
     "output_type": "stream",
     "text": [
      "93.1 µs ± 2.07 µs per loop (mean ± std. dev. of 7 runs, 10,000 loops each)\n"
     ]
    }
   ],
   "source": [
    "%%timeit\n",
    "pd.DataFrame(l_v)"
   ]
  },
  {
   "cell_type": "code",
   "execution_count": 20,
   "id": "41cdf6fd",
   "metadata": {},
   "outputs": [],
   "source": [
    "l_h = np.zeros((3, 1000)).tolist()"
   ]
  },
  {
   "cell_type": "code",
   "execution_count": 21,
   "id": "02db5bdd",
   "metadata": {},
   "outputs": [
    {
     "name": "stdout",
     "output_type": "stream",
     "text": [
      "3.12 ms ± 4.19 µs per loop (mean ± std. dev. of 7 runs, 100 loops each)\n"
     ]
    }
   ],
   "source": [
    "%%timeit\n",
    "pd.DataFrame(l_h)"
   ]
  }
 ],
 "metadata": {
  "kernelspec": {
   "display_name": "Python 3",
   "language": "python",
   "name": "python3"
  },
  "language_info": {
   "codemirror_mode": {
    "name": "ipython",
    "version": 3
   },
   "file_extension": ".py",
   "mimetype": "text/x-python",
   "name": "python",
   "nbconvert_exporter": "python",
   "pygments_lexer": "ipython3",
   "version": "3.11.4"
  }
 },
 "nbformat": 4,
 "nbformat_minor": 5
}
