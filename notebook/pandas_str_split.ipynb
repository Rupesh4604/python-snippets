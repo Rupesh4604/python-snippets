{
 "cells": [
  {
   "cell_type": "code",
   "execution_count": 1,
   "metadata": {},
   "outputs": [],
   "source": [
    "import pandas as pd"
   ]
  },
  {
   "cell_type": "code",
   "execution_count": 2,
   "metadata": {},
   "outputs": [
    {
     "name": "stdout",
     "output_type": "stream",
     "text": [
      "1.5.3\n"
     ]
    }
   ],
   "source": [
    "print(pd.__version__)"
   ]
  },
  {
   "cell_type": "code",
   "execution_count": 3,
   "metadata": {},
   "outputs": [
    {
     "name": "stdout",
     "output_type": "stream",
     "text": [
      "A    aaa@xxx.com\n",
      "B    bbb@yyy.com\n",
      "C            ccc\n",
      "dtype: object\n"
     ]
    }
   ],
   "source": [
    "s_org = pd.Series(['aaa@xxx.com', 'bbb@yyy.com', 'ccc'], index=['A', 'B', 'C'])\n",
    "print(s_org)"
   ]
  },
  {
   "cell_type": "code",
   "execution_count": 4,
   "metadata": {},
   "outputs": [
    {
     "name": "stdout",
     "output_type": "stream",
     "text": [
      "<class 'pandas.core.series.Series'>\n"
     ]
    }
   ],
   "source": [
    "print(type(s_org))"
   ]
  },
  {
   "cell_type": "code",
   "execution_count": 5,
   "metadata": {},
   "outputs": [
    {
     "name": "stdout",
     "output_type": "stream",
     "text": [
      "A    [aaa, xxx.com]\n",
      "B    [bbb, yyy.com]\n",
      "C             [ccc]\n",
      "dtype: object\n"
     ]
    }
   ],
   "source": [
    "s = s_org.str.split('@')\n",
    "print(s)"
   ]
  },
  {
   "cell_type": "code",
   "execution_count": 6,
   "metadata": {},
   "outputs": [
    {
     "name": "stdout",
     "output_type": "stream",
     "text": [
      "<class 'pandas.core.series.Series'>\n"
     ]
    }
   ],
   "source": [
    "print(type(s))"
   ]
  },
  {
   "cell_type": "code",
   "execution_count": 7,
   "metadata": {},
   "outputs": [
    {
     "name": "stdout",
     "output_type": "stream",
     "text": [
      "A    [aaa, com]\n",
      "B    [bbb, com]\n",
      "C         [ccc]\n",
      "dtype: object\n"
     ]
    }
   ],
   "source": [
    "print(s_org.str.split(r'@.+\\.'))"
   ]
  },
  {
   "cell_type": "code",
   "execution_count": 8,
   "metadata": {},
   "outputs": [],
   "source": [
    "import re"
   ]
  },
  {
   "cell_type": "code",
   "execution_count": 9,
   "metadata": {},
   "outputs": [
    {
     "name": "stdout",
     "output_type": "stream",
     "text": [
      "A    [aaa, com]\n",
      "B    [bbb, com]\n",
      "C         [ccc]\n",
      "dtype: object\n"
     ]
    }
   ],
   "source": [
    "pat = re.compile(r'@.+\\.')\n",
    "print(s_org.str.split(pat))"
   ]
  },
  {
   "cell_type": "code",
   "execution_count": 10,
   "metadata": {},
   "outputs": [
    {
     "name": "stdout",
     "output_type": "stream",
     "text": [
      "     0        1\n",
      "A  aaa  xxx.com\n",
      "B  bbb  yyy.com\n",
      "C  ccc     None\n"
     ]
    }
   ],
   "source": [
    "df = s_org.str.split('@', expand=True)\n",
    "print(df)"
   ]
  },
  {
   "cell_type": "code",
   "execution_count": 11,
   "metadata": {},
   "outputs": [
    {
     "name": "stdout",
     "output_type": "stream",
     "text": [
      "<class 'pandas.core.frame.DataFrame'>\n"
     ]
    }
   ],
   "source": [
    "print(type(df))"
   ]
  },
  {
   "cell_type": "code",
   "execution_count": 12,
   "metadata": {},
   "outputs": [
    {
     "name": "stdout",
     "output_type": "stream",
     "text": [
      "  local   domain\n",
      "A   aaa  xxx.com\n",
      "B   bbb  yyy.com\n",
      "C   ccc     None\n"
     ]
    }
   ],
   "source": [
    "df.columns = ['local', 'domain']\n",
    "print(df)"
   ]
  },
  {
   "cell_type": "code",
   "execution_count": 13,
   "metadata": {},
   "outputs": [
    {
     "name": "stdout",
     "output_type": "stream",
     "text": [
      "A    a-b-c-d\n",
      "B      x-y-z\n",
      "C          1\n",
      "dtype: object\n"
     ]
    }
   ],
   "source": [
    "s_org = pd.Series(['a-b-c-d', 'x-y-z', '1'], index=['A', 'B', 'C'])\n",
    "print(s_org)"
   ]
  },
  {
   "cell_type": "code",
   "execution_count": 14,
   "metadata": {},
   "outputs": [
    {
     "name": "stdout",
     "output_type": "stream",
     "text": [
      "A    [a, b, c, d]\n",
      "B       [x, y, z]\n",
      "C             [1]\n",
      "dtype: object\n"
     ]
    }
   ],
   "source": [
    "print(s_org.str.split('-'))"
   ]
  },
  {
   "cell_type": "code",
   "execution_count": 15,
   "metadata": {},
   "outputs": [
    {
     "name": "stdout",
     "output_type": "stream",
     "text": [
      "A    [a, b-c-d]\n",
      "B      [x, y-z]\n",
      "C           [1]\n",
      "dtype: object\n"
     ]
    }
   ],
   "source": [
    "print(s_org.str.split('-', n=1))"
   ]
  },
  {
   "cell_type": "code",
   "execution_count": 16,
   "metadata": {},
   "outputs": [
    {
     "name": "stdout",
     "output_type": "stream",
     "text": [
      "  local   domain\n",
      "A   aaa  xxx.com\n",
      "B   bbb  yyy.com\n",
      "C   ccc     None\n"
     ]
    }
   ],
   "source": [
    "print(df)"
   ]
  },
  {
   "cell_type": "code",
   "execution_count": 17,
   "metadata": {},
   "outputs": [
    {
     "name": "stdout",
     "output_type": "stream",
     "text": [
      "      0     1\n",
      "A   xxx   com\n",
      "B   yyy   com\n",
      "C  None  None\n"
     ]
    }
   ],
   "source": [
    "print(df['domain'].str.split('.', expand=True))"
   ]
  },
  {
   "cell_type": "code",
   "execution_count": 18,
   "metadata": {},
   "outputs": [
    {
     "name": "stdout",
     "output_type": "stream",
     "text": [
      "  local     0     1\n",
      "A   aaa   xxx   com\n",
      "B   bbb   yyy   com\n",
      "C   ccc  None  None\n"
     ]
    }
   ],
   "source": [
    "df2 = pd.concat([df, df['domain'].str.split('.', expand=True)], axis=1).drop(\n",
    "    'domain', axis=1\n",
    ")\n",
    "print(df2)"
   ]
  },
  {
   "cell_type": "code",
   "execution_count": 19,
   "metadata": {},
   "outputs": [
    {
     "name": "stdout",
     "output_type": "stream",
     "text": [
      "  local     0     1\n",
      "A   aaa   xxx   com\n",
      "B   bbb   yyy   com\n",
      "C   ccc  None  None\n"
     ]
    }
   ],
   "source": [
    "df3 = pd.concat([df['local'], df['domain'].str.split('.', expand=True)], axis=1)\n",
    "print(df3)"
   ]
  },
  {
   "cell_type": "code",
   "execution_count": 20,
   "metadata": {},
   "outputs": [
    {
     "name": "stdout",
     "output_type": "stream",
     "text": [
      "  local second_LD   TLD\n",
      "A   aaa       xxx   com\n",
      "B   bbb       yyy   com\n",
      "C   ccc      None  None\n"
     ]
    }
   ],
   "source": [
    "df3.rename(columns={0: 'second_LD', 1: 'TLD'}, inplace=True)\n",
    "print(df3)"
   ]
  }
 ],
 "metadata": {
  "kernelspec": {
   "display_name": "Python 3",
   "language": "python",
   "name": "python3"
  },
  "language_info": {
   "codemirror_mode": {
    "name": "ipython",
    "version": 3
   },
   "file_extension": ".py",
   "mimetype": "text/x-python",
   "name": "python",
   "nbconvert_exporter": "python",
   "pygments_lexer": "ipython3",
   "version": "3.11.2"
  }
 },
 "nbformat": 4,
 "nbformat_minor": 2
}
