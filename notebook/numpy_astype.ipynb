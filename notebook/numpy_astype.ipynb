{
 "cells": [
  {
   "cell_type": "code",
   "execution_count": 1,
   "metadata": {},
   "outputs": [],
   "source": [
    "import numpy as np"
   ]
  },
  {
   "cell_type": "code",
   "execution_count": 2,
   "metadata": {},
   "outputs": [
    {
     "name": "stdout",
     "output_type": "stream",
     "text": [
      "1.26.1\n"
     ]
    }
   ],
   "source": [
    "print(np.__version__)"
   ]
  },
  {
   "cell_type": "code",
   "execution_count": 3,
   "metadata": {},
   "outputs": [
    {
     "name": "stdout",
     "output_type": "stream",
     "text": [
      "[1 2 3]\n",
      "int64\n"
     ]
    }
   ],
   "source": [
    "a = np.array([1, 2, 3])\n",
    "print(a)\n",
    "print(a.dtype)"
   ]
  },
  {
   "cell_type": "code",
   "execution_count": 4,
   "metadata": {},
   "outputs": [
    {
     "name": "stdout",
     "output_type": "stream",
     "text": [
      "[1. 2. 3.]\n",
      "float32\n"
     ]
    }
   ],
   "source": [
    "a_float = a.astype(np.float32)\n",
    "print(a_float)\n",
    "print(a_float.dtype)"
   ]
  },
  {
   "cell_type": "code",
   "execution_count": 5,
   "metadata": {},
   "outputs": [
    {
     "name": "stdout",
     "output_type": "stream",
     "text": [
      "[1 2 3]\n",
      "int64\n"
     ]
    }
   ],
   "source": [
    "print(a)\n",
    "print(a.dtype)"
   ]
  },
  {
   "cell_type": "code",
   "execution_count": 6,
   "metadata": {},
   "outputs": [
    {
     "name": "stdout",
     "output_type": "stream",
     "text": [
      "[1 2 3]\n",
      "int32\n"
     ]
    }
   ],
   "source": [
    "a_int = a.astype('int32')\n",
    "print(a_int)\n",
    "print(a_int.dtype)"
   ]
  },
  {
   "cell_type": "code",
   "execution_count": 7,
   "metadata": {},
   "outputs": [
    {
     "name": "stdout",
     "output_type": "stream",
     "text": [
      "[1 2 3]\n",
      "uint64\n"
     ]
    }
   ],
   "source": [
    "a_uint = a.astype('u8')\n",
    "print(a_uint)\n",
    "print(a_uint.dtype)"
   ]
  },
  {
   "cell_type": "code",
   "execution_count": 8,
   "metadata": {},
   "outputs": [
    {
     "name": "stdout",
     "output_type": "stream",
     "text": [
      "[1. 2. 3.]\n",
      "float64\n"
     ]
    }
   ],
   "source": [
    "a_float = a.astype(float)\n",
    "print(a_float)\n",
    "print(a_float.dtype)"
   ]
  },
  {
   "cell_type": "code",
   "execution_count": 9,
   "metadata": {},
   "outputs": [
    {
     "name": "stdout",
     "output_type": "stream",
     "text": [
      "[[-3.  -2.9 -2.8 -2.7 -2.6 -2.5 -2.4 -2.3 -2.2 -2.1]\n",
      " [-2.  -1.9 -1.8 -1.7 -1.6 -1.5 -1.4 -1.3 -1.2 -1.1]\n",
      " [-1.  -0.9 -0.8 -0.7 -0.6 -0.5 -0.4 -0.3 -0.2 -0.1]\n",
      " [ 0.   0.1  0.2  0.3  0.4  0.5  0.6  0.7  0.8  0.9]\n",
      " [ 1.   1.1  1.2  1.3  1.4  1.5  1.6  1.7  1.8  1.9]\n",
      " [ 2.   2.1  2.2  2.3  2.4  2.5  2.6  2.7  2.8  2.9]]\n"
     ]
    }
   ],
   "source": [
    "a = np.linspace(-3.0, 2.9, 60).reshape(6, 10)\n",
    "print(a)"
   ]
  },
  {
   "cell_type": "code",
   "execution_count": 10,
   "metadata": {},
   "outputs": [
    {
     "name": "stdout",
     "output_type": "stream",
     "text": [
      "[[-3 -2 -2 -2 -2 -2 -2 -2 -2 -2]\n",
      " [-2 -1 -1 -1 -1 -1 -1 -1 -1 -1]\n",
      " [-1  0  0  0  0  0  0  0  0  0]\n",
      " [ 0  0  0  0  0  0  0  0  0  0]\n",
      " [ 1  1  1  1  1  1  1  1  1  1]\n",
      " [ 2  2  2  2  2  2  2  2  2  2]]\n"
     ]
    }
   ],
   "source": [
    "print(a.astype(int))"
   ]
  },
  {
   "cell_type": "code",
   "execution_count": 11,
   "metadata": {},
   "outputs": [
    {
     "name": "stdout",
     "output_type": "stream",
     "text": [
      "[[-3 -3 -3 -3 -3 -2 -2 -2 -2 -2]\n",
      " [-2 -2 -2 -2 -2 -2 -1 -1 -1 -1]\n",
      " [-1 -1 -1 -1 -1  0  0  0  0  0]\n",
      " [ 0  0  0  0  0  0  1  1  1  1]\n",
      " [ 1  1  1  1  1  2  2  2  2  2]\n",
      " [ 2  2  2  2  2  2  3  3  3  3]]\n"
     ]
    }
   ],
   "source": [
    "print(np.round(a).astype(int))"
   ]
  },
  {
   "cell_type": "code",
   "execution_count": 12,
   "metadata": {},
   "outputs": [],
   "source": [
    "def my_round(x, decimals=0):\n",
    "    p = 10**decimals\n",
    "    return (x * p * 2 + 1) // 2 / p"
   ]
  },
  {
   "cell_type": "code",
   "execution_count": 13,
   "metadata": {},
   "outputs": [
    {
     "name": "stdout",
     "output_type": "stream",
     "text": [
      "[[-3 -3 -3 -3 -3 -2 -2 -2 -2 -2]\n",
      " [-2 -2 -2 -2 -2 -1 -1 -1 -1 -1]\n",
      " [-1 -1 -1 -1 -1  0  0  0  0  0]\n",
      " [ 0  0  0  0  0  1  1  1  1  1]\n",
      " [ 1  1  1  1  1  2  2  2  2  2]\n",
      " [ 2  2  2  2  2  3  3  3  3  3]]\n"
     ]
    }
   ],
   "source": [
    "print(my_round(a).astype(int))"
   ]
  },
  {
   "cell_type": "code",
   "execution_count": 14,
   "metadata": {},
   "outputs": [],
   "source": [
    "def my_round2(x, decimals=0):\n",
    "    p = 10**decimals\n",
    "    return (np.abs(x) * p * 2 + 1) // 2 / p * np.sign(x)"
   ]
  },
  {
   "cell_type": "code",
   "execution_count": 15,
   "metadata": {
    "scrolled": true
   },
   "outputs": [
    {
     "name": "stdout",
     "output_type": "stream",
     "text": [
      "[[-3 -3 -3 -3 -3 -3 -2 -2 -2 -2]\n",
      " [-2 -2 -2 -2 -2 -2 -1 -1 -1 -1]\n",
      " [-1 -1 -1 -1 -1 -1  0  0  0  0]\n",
      " [ 0  0  0  0  0  1  1  1  1  1]\n",
      " [ 1  1  1  1  1  2  2  2  2  2]\n",
      " [ 2  2  2  2  2  3  3  3  3  3]]\n"
     ]
    }
   ],
   "source": [
    "print(my_round2(a).astype(int))"
   ]
  }
 ],
 "metadata": {
  "kernelspec": {
   "display_name": "Python 3",
   "language": "python",
   "name": "python3"
  },
  "language_info": {
   "codemirror_mode": {
    "name": "ipython",
    "version": 3
   },
   "file_extension": ".py",
   "mimetype": "text/x-python",
   "name": "python",
   "nbconvert_exporter": "python",
   "pygments_lexer": "ipython3",
   "version": "3.11.6"
  }
 },
 "nbformat": 4,
 "nbformat_minor": 2
}
