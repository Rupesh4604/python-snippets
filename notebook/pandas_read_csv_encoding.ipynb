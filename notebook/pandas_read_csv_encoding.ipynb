{
 "cells": [
  {
   "cell_type": "code",
   "execution_count": 1,
   "metadata": {},
   "outputs": [],
   "source": [
    "import pandas as pd"
   ]
  },
  {
   "cell_type": "code",
   "execution_count": 2,
   "metadata": {},
   "outputs": [
    {
     "name": "stdout",
     "output_type": "stream",
     "text": [
      "2.0.3\n"
     ]
    }
   ],
   "source": [
    "print(pd.__version__)"
   ]
  },
  {
   "cell_type": "code",
   "execution_count": 3,
   "metadata": {},
   "outputs": [],
   "source": [
    "# df_sjis = pd.read_csv('data/src/sample_header_shift_jis.csv')\n",
    "# UnicodeDecodeError: 'utf-8' codec can't decode byte 0x82 in position 8: invalid start byte"
   ]
  },
  {
   "cell_type": "code",
   "execution_count": 4,
   "metadata": {},
   "outputs": [
    {
     "name": "stdout",
     "output_type": "stream",
     "text": [
      "   a   b   c   d\n",
      "0  あ  12  13  14\n",
      "1  い  22  23  24\n",
      "2  う  32  33  34\n"
     ]
    }
   ],
   "source": [
    "df_sjis = pd.read_csv('data/src/sample_header_shift_jis.csv',\n",
    "                      encoding='shift_jis')\n",
    "print(df_sjis)"
   ]
  },
  {
   "cell_type": "code",
   "execution_count": 5,
   "metadata": {},
   "outputs": [
    {
     "name": "stdout",
     "output_type": "stream",
     "text": [
      "    a   b   c   d\n",
      "0 NaN  12  13  14\n",
      "1 NaN  22  23  24\n",
      "2 NaN  32  33  34\n"
     ]
    }
   ],
   "source": [
    "df_ignore = pd.read_csv('data/src/sample_header_shift_jis.csv',\n",
    "                        encoding_errors='ignore')\n",
    "print(df_ignore)"
   ]
  },
  {
   "cell_type": "code",
   "execution_count": 6,
   "metadata": {},
   "outputs": [
    {
     "name": "stdout",
     "output_type": "stream",
     "text": [
      "    a   b   c   d\n",
      "0  ��  12  13  14\n",
      "1  ��  22  23  24\n",
      "2  ��  32  33  34\n"
     ]
    }
   ],
   "source": [
    "df_replace = pd.read_csv('data/src/sample_header_shift_jis.csv',\n",
    "                         encoding_errors='replace')\n",
    "print(df_replace)"
   ]
  },
  {
   "cell_type": "code",
   "execution_count": 7,
   "metadata": {},
   "outputs": [
    {
     "name": "stdout",
     "output_type": "stream",
     "text": [
      "          a   b   c   d\n",
      "0  \\x82\\xa0  12  13  14\n",
      "1  \\x82\\xa2  22  23  24\n",
      "2  \\x82\\xa4  32  33  34\n"
     ]
    }
   ],
   "source": [
    "df_backslash = pd.read_csv('data/src/sample_header_shift_jis.csv',\n",
    "                           encoding_errors='backslashreplace')\n",
    "print(df_backslash)"
   ]
  }
 ],
 "metadata": {
  "kernelspec": {
   "display_name": "Python 3",
   "language": "python",
   "name": "python3"
  },
  "language_info": {
   "codemirror_mode": {
    "name": "ipython",
    "version": 3
   },
   "file_extension": ".py",
   "mimetype": "text/x-python",
   "name": "python",
   "nbconvert_exporter": "python",
   "pygments_lexer": "ipython3",
   "version": "3.11.4"
  }
 },
 "nbformat": 4,
 "nbformat_minor": 2
}
