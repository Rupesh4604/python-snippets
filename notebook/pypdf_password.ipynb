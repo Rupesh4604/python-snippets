{
 "cells": [
  {
   "cell_type": "code",
   "execution_count": 1,
   "id": "a04a1fbc",
   "metadata": {},
   "outputs": [],
   "source": [
    "import pypdf"
   ]
  },
  {
   "cell_type": "code",
   "execution_count": 2,
   "id": "551630ce",
   "metadata": {},
   "outputs": [
    {
     "name": "stdout",
     "output_type": "stream",
     "text": [
      "3.7.1\n"
     ]
    }
   ],
   "source": [
    "print(pypdf.__version__)"
   ]
  },
  {
   "cell_type": "code",
   "execution_count": 3,
   "id": "56a64d39",
   "metadata": {},
   "outputs": [
    {
     "name": "stdout",
     "output_type": "stream",
     "text": [
      "False\n"
     ]
    }
   ],
   "source": [
    "pdf = pypdf.PdfReader('data/src/pdf/sample1.pdf')\n",
    "print(pdf.is_encrypted)"
   ]
  },
  {
   "cell_type": "code",
   "execution_count": 4,
   "id": "e39a7004",
   "metadata": {},
   "outputs": [],
   "source": [
    "src_pdf = pypdf.PdfReader('data/src/pdf/sample1.pdf')\n",
    "dst_pdf = pypdf.PdfWriter()\n",
    "dst_pdf.clone_reader_document_root(src_pdf)"
   ]
  },
  {
   "cell_type": "code",
   "execution_count": 5,
   "id": "3ea6d6c0",
   "metadata": {},
   "outputs": [
    {
     "name": "stdout",
     "output_type": "stream",
     "text": [
      "{'/Title': IndirectObject(33, 0, 4435217808), '/Producer': IndirectObject(34, 0, 4435217808), '/Creator': IndirectObject(35, 0, 4435217808), '/CreationDate': IndirectObject(36, 0, 4435217808), '/ModDate': IndirectObject(36, 0, 4435217808)}\n"
     ]
    }
   ],
   "source": [
    "print(src_pdf.metadata)"
   ]
  },
  {
   "cell_type": "code",
   "execution_count": 6,
   "id": "88b78d0a",
   "metadata": {},
   "outputs": [],
   "source": [
    "# dst_pdf.add_metadata(src_pdf.metadata)\n",
    "# TypeError: create_string_object should have str or unicode arg"
   ]
  },
  {
   "cell_type": "code",
   "execution_count": 7,
   "id": "18704640",
   "metadata": {},
   "outputs": [
    {
     "name": "stdout",
     "output_type": "stream",
     "text": [
      "{'/Title': 'sample1', '/Producer': 'macOS バージョン10.14.2（ビルド18C54） Quartz PDFContext', '/Creator': 'Keynote', '/CreationDate': \"D:20190114072947Z00'00'\", '/ModDate': \"D:20190114072947Z00'00'\"}\n"
     ]
    }
   ],
   "source": [
    "d = {key: src_pdf.metadata[key] for key in src_pdf.metadata.keys()}\n",
    "print(d)"
   ]
  },
  {
   "cell_type": "code",
   "execution_count": 8,
   "id": "5a33e265",
   "metadata": {},
   "outputs": [],
   "source": [
    "dst_pdf.add_metadata(d)"
   ]
  },
  {
   "cell_type": "code",
   "execution_count": 9,
   "id": "adb92c58",
   "metadata": {},
   "outputs": [
    {
     "name": "stderr",
     "output_type": "stream",
     "text": [
      "/opt/homebrew/lib/python3.11/site-packages/pypdf/_writer.py:1056: UserWarning: pypdf only implements RC4 encryption so far. The RC4 algorithm is insecure. Either use a library that supports AES for encryption or put the PDF in an encrypted container, for example an encrypted ZIP file.\n",
      "  warnings.warn(\n"
     ]
    },
    {
     "data": {
      "text/plain": [
       "(True, <_io.FileIO [closed]>)"
      ]
     },
     "execution_count": 9,
     "metadata": {},
     "output_type": "execute_result"
    }
   ],
   "source": [
    "dst_pdf.encrypt('pass_u', 'pass_o')\n",
    "dst_pdf.write('data/temp/sample1_pass.pdf')"
   ]
  },
  {
   "cell_type": "code",
   "execution_count": 10,
   "id": "e6041130",
   "metadata": {},
   "outputs": [],
   "source": [
    "def set_password(src_path, dst_path, user_password, owner_password=None):\n",
    "    src_pdf = pypdf.PdfReader(src_path)\n",
    "    dst_pdf = pypdf.PdfWriter()\n",
    "    dst_pdf.clone_reader_document_root(src_pdf)\n",
    "\n",
    "    d = {key: src_pdf.metadata[key] for key in src_pdf.metadata.keys()}\n",
    "    dst_pdf.add_metadata(d)\n",
    "\n",
    "    dst_pdf.encrypt(user_password, owner_password)\n",
    "    dst_pdf.write(dst_path)"
   ]
  },
  {
   "cell_type": "code",
   "execution_count": 11,
   "id": "cff790e5",
   "metadata": {},
   "outputs": [],
   "source": [
    "set_password('data/src/pdf/sample1.pdf', 'data/temp/sample1_pass.pdf',\n",
    "             'pass_u', 'pass_o')"
   ]
  },
  {
   "cell_type": "code",
   "execution_count": 12,
   "id": "a30ab75a",
   "metadata": {},
   "outputs": [
    {
     "name": "stdout",
     "output_type": "stream",
     "text": [
      "True\n"
     ]
    }
   ],
   "source": [
    "pdf_pass = pypdf.PdfReader('data/temp/sample1_pass.pdf')\n",
    "print(pdf_pass.is_encrypted)"
   ]
  },
  {
   "cell_type": "code",
   "execution_count": 13,
   "id": "731d3f25",
   "metadata": {},
   "outputs": [],
   "source": [
    "# print(pdf_pass.metadata)\n",
    "# FileNotDecryptedError: File has not been decrypted"
   ]
  },
  {
   "cell_type": "code",
   "execution_count": 14,
   "id": "ad1ad676",
   "metadata": {},
   "outputs": [
    {
     "name": "stdout",
     "output_type": "stream",
     "text": [
      "0\n"
     ]
    }
   ],
   "source": [
    "print(pdf_pass.decrypt('wrong-password'))"
   ]
  },
  {
   "cell_type": "code",
   "execution_count": 15,
   "id": "fec01b70",
   "metadata": {},
   "outputs": [
    {
     "name": "stdout",
     "output_type": "stream",
     "text": [
      "1\n"
     ]
    }
   ],
   "source": [
    "print(pdf_pass.decrypt('pass_u'))"
   ]
  },
  {
   "cell_type": "code",
   "execution_count": 16,
   "id": "7877fc72",
   "metadata": {},
   "outputs": [
    {
     "name": "stdout",
     "output_type": "stream",
     "text": [
      "2\n"
     ]
    }
   ],
   "source": [
    "print(pdf_pass.decrypt('pass_o'))"
   ]
  },
  {
   "cell_type": "code",
   "execution_count": 17,
   "id": "7aa2e7c7",
   "metadata": {},
   "outputs": [
    {
     "name": "stdout",
     "output_type": "stream",
     "text": [
      "{'/Producer': 'macOS バージョン10.14.2（ビルド18C54） Quartz PDFContext', '/Title': 'sample1', '/Creator': 'Keynote', '/CreationDate': \"D:20190114072947Z00'00'\", '/ModDate': \"D:20190114072947Z00'00'\"}\n"
     ]
    }
   ],
   "source": [
    "print(pdf_pass.metadata)"
   ]
  },
  {
   "cell_type": "code",
   "execution_count": 18,
   "id": "c152675a",
   "metadata": {},
   "outputs": [],
   "source": [
    "def change_password(\n",
    "    src_path, dst_path, src_password, dst_user_password=None, dst_owner_password=None\n",
    "):\n",
    "    src_pdf = pypdf.PdfReader(src_path)\n",
    "    src_pdf.decrypt(src_password)\n",
    "\n",
    "    dst_pdf = pypdf.PdfWriter()\n",
    "    dst_pdf.clone_reader_document_root(src_pdf)\n",
    "\n",
    "    d = {key: src_pdf.metadata[key] for key in src_pdf.metadata.keys()}\n",
    "    dst_pdf.add_metadata(d)\n",
    "\n",
    "    if dst_user_password is not None:\n",
    "        dst_pdf.encrypt(dst_user_password, dst_owner_password)\n",
    "\n",
    "    dst_pdf.write(dst_path)"
   ]
  },
  {
   "cell_type": "code",
   "execution_count": 19,
   "id": "f101ffce",
   "metadata": {},
   "outputs": [],
   "source": [
    "change_password('data/temp/sample1_pass.pdf', 'data/temp/sample1_no_pass.pdf',\n",
    "                'pass_u')"
   ]
  },
  {
   "cell_type": "code",
   "execution_count": 20,
   "id": "5dad0d7a",
   "metadata": {},
   "outputs": [],
   "source": [
    "change_password('data/temp/sample1_pass.pdf', 'data/temp/sample1_new_pass.pdf',\n",
    "                'pass_u', 'new_pass_u', 'new_pass_o')"
   ]
  }
 ],
 "metadata": {
  "kernelspec": {
   "display_name": "Python 3",
   "language": "python",
   "name": "python3"
  },
  "language_info": {
   "codemirror_mode": {
    "name": "ipython",
    "version": 3
   },
   "file_extension": ".py",
   "mimetype": "text/x-python",
   "name": "python",
   "nbconvert_exporter": "python",
   "pygments_lexer": "ipython3",
   "version": "3.11.3"
  }
 },
 "nbformat": 4,
 "nbformat_minor": 5
}
