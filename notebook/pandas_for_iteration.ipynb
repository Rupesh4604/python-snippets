{
 "cells": [
  {
   "cell_type": "code",
   "execution_count": 1,
   "metadata": {},
   "outputs": [],
   "source": [
    "import pandas as pd"
   ]
  },
  {
   "cell_type": "code",
   "execution_count": 2,
   "metadata": {},
   "outputs": [
    {
     "name": "stdout",
     "output_type": "stream",
     "text": [
      "2.1.4\n"
     ]
    }
   ],
   "source": [
    "print(pd.__version__)"
   ]
  },
  {
   "cell_type": "code",
   "execution_count": 3,
   "metadata": {},
   "outputs": [
    {
     "name": "stdout",
     "output_type": "stream",
     "text": [
      "       age state  point\n",
      "Alice   24    NY     64\n",
      "Bob     42    CA     92\n"
     ]
    }
   ],
   "source": [
    "df = pd.DataFrame({'age': [24, 42], 'state': ['NY', 'CA'], 'point': [64, 92]},\n",
    "                  index=['Alice', 'Bob'])\n",
    "print(df)"
   ]
  },
  {
   "cell_type": "code",
   "execution_count": 4,
   "metadata": {},
   "outputs": [
    {
     "name": "stdout",
     "output_type": "stream",
     "text": [
      "age\n",
      "state\n",
      "point\n"
     ]
    }
   ],
   "source": [
    "for column_name in df:\n",
    "    print(column_name)"
   ]
  },
  {
   "cell_type": "code",
   "execution_count": 5,
   "metadata": {},
   "outputs": [
    {
     "name": "stdout",
     "output_type": "stream",
     "text": [
      "age\n",
      "<class 'pandas.core.series.Series'>\n",
      "24 42\n",
      "======\n",
      "state\n",
      "<class 'pandas.core.series.Series'>\n",
      "NY CA\n",
      "======\n",
      "point\n",
      "<class 'pandas.core.series.Series'>\n",
      "64 92\n",
      "======\n"
     ]
    }
   ],
   "source": [
    "for column_name, item in df.items():\n",
    "    print(column_name)\n",
    "    print(type(item))\n",
    "    print(item['Alice'], item['Bob'])\n",
    "    print('======')"
   ]
  },
  {
   "cell_type": "code",
   "execution_count": 6,
   "metadata": {},
   "outputs": [
    {
     "name": "stdout",
     "output_type": "stream",
     "text": [
      "Alice\n",
      "<class 'pandas.core.series.Series'>\n",
      "24 NY 64\n",
      "======\n",
      "Bob\n",
      "<class 'pandas.core.series.Series'>\n",
      "42 CA 92\n",
      "======\n"
     ]
    }
   ],
   "source": [
    "for index, row in df.iterrows():\n",
    "    print(index)\n",
    "    print(type(row))\n",
    "    print(row['age'], row['state'], row['point'])\n",
    "    print('======')"
   ]
  },
  {
   "cell_type": "code",
   "execution_count": 7,
   "metadata": {},
   "outputs": [
    {
     "name": "stdout",
     "output_type": "stream",
     "text": [
      "<class 'pandas.core.frame.Pandas'>\n",
      "Pandas(Index='Alice', age=24, state='NY', point=64)\n",
      "Alice 24 NY 64\n",
      "Alice 24 NY 64\n",
      "======\n",
      "<class 'pandas.core.frame.Pandas'>\n",
      "Pandas(Index='Bob', age=42, state='CA', point=92)\n",
      "Bob 42 CA 92\n",
      "Bob 42 CA 92\n",
      "======\n"
     ]
    }
   ],
   "source": [
    "for row in df.itertuples():\n",
    "    print(type(row))\n",
    "    print(row)\n",
    "    print(row[0], row[1], row[2], row[3])\n",
    "    print(row.Index, row.age, row.state, row.point)\n",
    "    print('======')"
   ]
  },
  {
   "cell_type": "code",
   "execution_count": 8,
   "metadata": {},
   "outputs": [
    {
     "name": "stdout",
     "output_type": "stream",
     "text": [
      "<class 'pandas.core.frame.Person'>\n",
      "Person(age=24, state='NY', point=64)\n",
      "24 NY 64\n",
      "24 NY 64\n",
      "======\n",
      "<class 'pandas.core.frame.Person'>\n",
      "Person(age=42, state='CA', point=92)\n",
      "42 CA 92\n",
      "42 CA 92\n",
      "======\n"
     ]
    }
   ],
   "source": [
    "for row in df.itertuples(index=False, name='Person'):\n",
    "    print(type(row))\n",
    "    print(row)\n",
    "    print(row[0], row[1], row[2])\n",
    "    print(row.age, row.state, row.point)\n",
    "    print('======')"
   ]
  },
  {
   "cell_type": "code",
   "execution_count": 9,
   "metadata": {},
   "outputs": [
    {
     "name": "stdout",
     "output_type": "stream",
     "text": [
      "<class 'tuple'>\n",
      "('Alice', 24, 'NY', 64)\n",
      "Alice 24 NY 64\n",
      "======\n",
      "<class 'tuple'>\n",
      "('Bob', 42, 'CA', 92)\n",
      "Bob 42 CA 92\n",
      "======\n"
     ]
    }
   ],
   "source": [
    "for row in df.itertuples(name=None):\n",
    "    print(type(row))\n",
    "    print(row)\n",
    "    print(row[0], row[1], row[2], row[3])\n",
    "    print('======')"
   ]
  },
  {
   "cell_type": "code",
   "execution_count": 10,
   "metadata": {},
   "outputs": [
    {
     "name": "stdout",
     "output_type": "stream",
     "text": [
      "Alice    24\n",
      "Bob      42\n",
      "Name: age, dtype: int64\n"
     ]
    }
   ],
   "source": [
    "print(df['age'])"
   ]
  },
  {
   "cell_type": "code",
   "execution_count": 11,
   "metadata": {},
   "outputs": [
    {
     "name": "stdout",
     "output_type": "stream",
     "text": [
      "<class 'pandas.core.series.Series'>\n"
     ]
    }
   ],
   "source": [
    "print(type(df['age']))"
   ]
  },
  {
   "cell_type": "code",
   "execution_count": 12,
   "metadata": {},
   "outputs": [
    {
     "name": "stdout",
     "output_type": "stream",
     "text": [
      "24\n",
      "42\n"
     ]
    }
   ],
   "source": [
    "for age in df['age']:\n",
    "    print(age)"
   ]
  },
  {
   "cell_type": "code",
   "execution_count": 13,
   "metadata": {},
   "outputs": [
    {
     "name": "stdout",
     "output_type": "stream",
     "text": [
      "24 64\n",
      "42 92\n"
     ]
    }
   ],
   "source": [
    "for age, point in zip(df['age'], df['point']):\n",
    "    print(age, point)"
   ]
  },
  {
   "cell_type": "code",
   "execution_count": 14,
   "metadata": {},
   "outputs": [
    {
     "name": "stdout",
     "output_type": "stream",
     "text": [
      "Index(['Alice', 'Bob'], dtype='object')\n"
     ]
    }
   ],
   "source": [
    "print(df.index)"
   ]
  },
  {
   "cell_type": "code",
   "execution_count": 15,
   "metadata": {},
   "outputs": [
    {
     "name": "stdout",
     "output_type": "stream",
     "text": [
      "<class 'pandas.core.indexes.base.Index'>\n"
     ]
    }
   ],
   "source": [
    "print(type(df.index))"
   ]
  },
  {
   "cell_type": "code",
   "execution_count": 16,
   "metadata": {},
   "outputs": [
    {
     "name": "stdout",
     "output_type": "stream",
     "text": [
      "Alice\n",
      "Bob\n"
     ]
    }
   ],
   "source": [
    "for index in df.index:\n",
    "    print(index)"
   ]
  },
  {
   "cell_type": "code",
   "execution_count": 17,
   "metadata": {},
   "outputs": [
    {
     "name": "stdout",
     "output_type": "stream",
     "text": [
      "Alice NY\n",
      "Bob CA\n"
     ]
    }
   ],
   "source": [
    "for index, state in zip(df.index, df['state']):\n",
    "    print(index, state)"
   ]
  },
  {
   "cell_type": "code",
   "execution_count": 18,
   "metadata": {},
   "outputs": [],
   "source": [
    "for index, row in df.iterrows():\n",
    "    row['point'] += row['age']"
   ]
  },
  {
   "cell_type": "code",
   "execution_count": 19,
   "metadata": {},
   "outputs": [
    {
     "name": "stdout",
     "output_type": "stream",
     "text": [
      "       age state  point\n",
      "Alice   24    NY     64\n",
      "Bob     42    CA     92\n"
     ]
    }
   ],
   "source": [
    "print(df)"
   ]
  },
  {
   "cell_type": "code",
   "execution_count": 20,
   "metadata": {},
   "outputs": [],
   "source": [
    "for index, row in df.iterrows():\n",
    "    df.at[index, 'point'] += row['age']"
   ]
  },
  {
   "cell_type": "code",
   "execution_count": 21,
   "metadata": {},
   "outputs": [
    {
     "name": "stdout",
     "output_type": "stream",
     "text": [
      "       age state  point\n",
      "Alice   24    NY     88\n",
      "Bob     42    CA    134\n"
     ]
    }
   ],
   "source": [
    "print(df)"
   ]
  },
  {
   "cell_type": "code",
   "execution_count": 22,
   "metadata": {},
   "outputs": [
    {
     "name": "stdout",
     "output_type": "stream",
     "text": [
      "       age state  point\n",
      "Alice   24    NY     64\n",
      "Bob     42    CA     92\n"
     ]
    }
   ],
   "source": [
    "df = pd.DataFrame({'age': [24, 42], 'state': ['NY', 'CA'], 'point': [64, 92]},\n",
    "                  index=['Alice', 'Bob'])\n",
    "print(df)"
   ]
  },
  {
   "cell_type": "code",
   "execution_count": 23,
   "metadata": {},
   "outputs": [
    {
     "name": "stdout",
     "output_type": "stream",
     "text": [
      "       age state  point\n",
      "Alice   24    NY     88\n",
      "Bob     42    CA    134\n"
     ]
    }
   ],
   "source": [
    "df['point'] += df['age']\n",
    "print(df)"
   ]
  },
  {
   "cell_type": "code",
   "execution_count": 24,
   "metadata": {},
   "outputs": [
    {
     "name": "stdout",
     "output_type": "stream",
     "text": [
      "       age state  point   new\n",
      "Alice   24    NY     88  1136\n",
      "Bob     42    CA    134  1218\n"
     ]
    }
   ],
   "source": [
    "df['new'] = df['point'] + df['age'] * 2 + 1000\n",
    "print(df)"
   ]
  },
  {
   "cell_type": "code",
   "execution_count": 25,
   "metadata": {},
   "outputs": [],
   "source": [
    "import numpy as np"
   ]
  },
  {
   "cell_type": "code",
   "execution_count": 26,
   "metadata": {},
   "outputs": [
    {
     "name": "stdout",
     "output_type": "stream",
     "text": [
      "       age state  point   new  age_sqrt\n",
      "Alice   24    NY     88  1136  4.898979\n",
      "Bob     42    CA    134  1218  6.480741\n"
     ]
    }
   ],
   "source": [
    "df['age_sqrt'] = np.sqrt(df['age'])\n",
    "print(df)"
   ]
  },
  {
   "cell_type": "code",
   "execution_count": 27,
   "metadata": {},
   "outputs": [
    {
     "name": "stdout",
     "output_type": "stream",
     "text": [
      "       age state  point   new  age_sqrt state_0\n",
      "Alice   24    NY     88  1136  4.898979       n\n",
      "Bob     42    CA    134  1218  6.480741       c\n"
     ]
    }
   ],
   "source": [
    "df['state_0'] = df['state'].str.lower().str[0]\n",
    "print(df)"
   ]
  },
  {
   "cell_type": "code",
   "execution_count": 28,
   "metadata": {},
   "outputs": [
    {
     "name": "stdout",
     "output_type": "stream",
     "text": [
      "       age state  point   new  age_sqrt state_0 point_hex\n",
      "Alice   24    NY     88  1136  4.898979       n      0x58\n",
      "Bob     42    CA    134  1218  6.480741       c      0x86\n"
     ]
    }
   ],
   "source": [
    "df['point_hex'] = df['point'].map(hex)\n",
    "print(df)"
   ]
  }
 ],
 "metadata": {
  "kernelspec": {
   "display_name": "Python 3",
   "language": "python",
   "name": "python3"
  },
  "language_info": {
   "codemirror_mode": {
    "name": "ipython",
    "version": 3
   },
   "file_extension": ".py",
   "mimetype": "text/x-python",
   "name": "python",
   "nbconvert_exporter": "python",
   "pygments_lexer": "ipython3",
   "version": "3.11.6"
  }
 },
 "nbformat": 4,
 "nbformat_minor": 2
}
