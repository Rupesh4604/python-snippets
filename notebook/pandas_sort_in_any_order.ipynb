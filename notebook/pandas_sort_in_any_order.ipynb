{
 "cells": [
  {
   "cell_type": "code",
   "execution_count": 1,
   "metadata": {},
   "outputs": [],
   "source": [
    "import pandas as pd"
   ]
  },
  {
   "cell_type": "code",
   "execution_count": 2,
   "metadata": {},
   "outputs": [
    {
     "name": "stdout",
     "output_type": "stream",
     "text": [
      "      name  age state  point\n",
      "0    Alice   24    NY     64\n",
      "1      Bob   42    CA     92\n",
      "2  Charlie   18    CA     70\n",
      "3     Dave   68    TX     70\n",
      "4    Ellen   24    CA     88\n",
      "5    Frank   30    NY     57\n"
     ]
    }
   ],
   "source": [
    "df = pd.read_csv('data/src/sample_pandas_normal.csv')\n",
    "print(df)"
   ]
  },
  {
   "cell_type": "code",
   "execution_count": 3,
   "metadata": {},
   "outputs": [
    {
     "name": "stdout",
     "output_type": "stream",
     "text": [
      "      name  age state  point\n",
      "2  Charlie   18    CA     70\n",
      "0    Alice   24    NY     64\n",
      "4    Ellen   24    CA     88\n",
      "5    Frank   30    NY     57\n",
      "1      Bob   42    CA     92\n",
      "3     Dave   68    TX     70\n"
     ]
    }
   ],
   "source": [
    "print(df.sort_values('age'))"
   ]
  },
  {
   "cell_type": "code",
   "execution_count": 4,
   "metadata": {},
   "outputs": [
    {
     "name": "stdout",
     "output_type": "stream",
     "text": [
      "      name  age state  point\n",
      "5    Frank   30    NY     57\n",
      "4    Ellen   24    CA     88\n",
      "3     Dave   68    TX     70\n",
      "2  Charlie   18    CA     70\n",
      "1      Bob   42    CA     92\n",
      "0    Alice   24    NY     64\n"
     ]
    }
   ],
   "source": [
    "print(df.sort_values('name', ascending=False))"
   ]
  },
  {
   "cell_type": "code",
   "execution_count": 5,
   "metadata": {},
   "outputs": [],
   "source": [
    "d_order = {'Charlie': 0, 'Alice': 1, 'Ellen': 2, 'Bob': 3}"
   ]
  },
  {
   "cell_type": "code",
   "execution_count": 6,
   "metadata": {},
   "outputs": [
    {
     "name": "stdout",
     "output_type": "stream",
     "text": [
      "0    1.0\n",
      "1    3.0\n",
      "2    0.0\n",
      "3    NaN\n",
      "4    2.0\n",
      "5    NaN\n",
      "Name: name, dtype: float64\n"
     ]
    }
   ],
   "source": [
    "print(df['name'].map(d_order))"
   ]
  },
  {
   "cell_type": "code",
   "execution_count": 7,
   "metadata": {},
   "outputs": [
    {
     "name": "stdout",
     "output_type": "stream",
     "text": [
      "      name  age state  point\n",
      "2  Charlie   18    CA     70\n",
      "0    Alice   24    NY     64\n",
      "4    Ellen   24    CA     88\n",
      "1      Bob   42    CA     92\n",
      "3     Dave   68    TX     70\n",
      "5    Frank   30    NY     57\n"
     ]
    }
   ],
   "source": [
    "print(df.sort_values('name', key=lambda col: col.map(d_order)))"
   ]
  },
  {
   "cell_type": "code",
   "execution_count": 8,
   "metadata": {},
   "outputs": [
    {
     "name": "stdout",
     "output_type": "stream",
     "text": [
      "      name  age state  point\n",
      "3     Dave   68    TX     70\n",
      "5    Frank   30    NY     57\n",
      "2  Charlie   18    CA     70\n",
      "0    Alice   24    NY     64\n",
      "4    Ellen   24    CA     88\n",
      "1      Bob   42    CA     92\n"
     ]
    }
   ],
   "source": [
    "print(df.sort_values('name', key=lambda col: col.map(d_order), na_position='first'))"
   ]
  }
 ],
 "metadata": {
  "kernelspec": {
   "display_name": "Python 3",
   "language": "python",
   "name": "python3"
  },
  "language_info": {
   "codemirror_mode": {
    "name": "ipython",
    "version": 3
   },
   "file_extension": ".py",
   "mimetype": "text/x-python",
   "name": "python",
   "nbconvert_exporter": "python",
   "pygments_lexer": "ipython3",
   "version": "3.11.6"
  }
 },
 "nbformat": 4,
 "nbformat_minor": 2
}
