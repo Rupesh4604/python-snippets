{
 "cells": [
  {
   "cell_type": "code",
   "execution_count": 1,
   "metadata": {},
   "outputs": [],
   "source": [
    "import pandas as pd\n",
    "import numpy as np"
   ]
  },
  {
   "cell_type": "code",
   "execution_count": 2,
   "metadata": {},
   "outputs": [
    {
     "name": "stdout",
     "output_type": "stream",
     "text": [
      "2.1.4\n"
     ]
    }
   ],
   "source": [
    "print(pd.__version__)"
   ]
  },
  {
   "cell_type": "code",
   "execution_count": 3,
   "metadata": {},
   "outputs": [
    {
     "name": "stdout",
     "output_type": "stream",
     "text": [
      "1.26.2\n"
     ]
    }
   ],
   "source": [
    "print(np.__version__)"
   ]
  },
  {
   "cell_type": "code",
   "execution_count": 4,
   "metadata": {},
   "outputs": [
    {
     "name": "stdout",
     "output_type": "stream",
     "text": [
      "0   -2\n",
      "1   -1\n",
      "2    0\n",
      "3    1\n",
      "4    2\n",
      "dtype: int64\n"
     ]
    }
   ],
   "source": [
    "s = pd.Series([-2, -1, 0, 1, 2])\n",
    "print(s)"
   ]
  },
  {
   "cell_type": "code",
   "execution_count": 5,
   "metadata": {},
   "outputs": [
    {
     "name": "stdout",
     "output_type": "stream",
     "text": [
      "0     True\n",
      "1     True\n",
      "2    False\n",
      "3    False\n",
      "4    False\n",
      "dtype: bool\n"
     ]
    }
   ],
   "source": [
    "print(s < 0)"
   ]
  },
  {
   "cell_type": "code",
   "execution_count": 6,
   "metadata": {},
   "outputs": [
    {
     "name": "stdout",
     "output_type": "stream",
     "text": [
      "0   -2.0\n",
      "1   -1.0\n",
      "2    NaN\n",
      "3    NaN\n",
      "4    NaN\n",
      "dtype: float64\n"
     ]
    }
   ],
   "source": [
    "print(s.where(s < 0))"
   ]
  },
  {
   "cell_type": "code",
   "execution_count": 7,
   "metadata": {},
   "outputs": [
    {
     "name": "stdout",
     "output_type": "stream",
     "text": [
      "0    NaN\n",
      "1   -1.0\n",
      "2    NaN\n",
      "3    1.0\n",
      "4    NaN\n",
      "dtype: float64\n"
     ]
    }
   ],
   "source": [
    "print(s.where([False, True, False, True, False]))"
   ]
  },
  {
   "cell_type": "code",
   "execution_count": 8,
   "metadata": {},
   "outputs": [
    {
     "name": "stdout",
     "output_type": "stream",
     "text": [
      "0    -2\n",
      "1    -1\n",
      "2    10\n",
      "3    10\n",
      "4    10\n",
      "dtype: int64\n"
     ]
    }
   ],
   "source": [
    "print(s.where(s < 0, 10))"
   ]
  },
  {
   "cell_type": "code",
   "execution_count": 9,
   "metadata": {},
   "outputs": [
    {
     "name": "stdout",
     "output_type": "stream",
     "text": [
      "0    -2\n",
      "1    -1\n",
      "2    20\n",
      "3    30\n",
      "4    40\n",
      "dtype: int64\n"
     ]
    }
   ],
   "source": [
    "print(s.where(s < 0, [0, 10, 20, 30, 40]))"
   ]
  },
  {
   "cell_type": "code",
   "execution_count": 10,
   "metadata": {},
   "outputs": [
    {
     "name": "stdout",
     "output_type": "stream",
     "text": [
      "4     0\n",
      "3    10\n",
      "2    20\n",
      "1    30\n",
      "0    40\n",
      "dtype: int64\n"
     ]
    }
   ],
   "source": [
    "s2 = pd.Series([0, 10, 20, 30, 40], index=[4, 3, 2, 1, 0])\n",
    "print(s2)"
   ]
  },
  {
   "cell_type": "code",
   "execution_count": 11,
   "metadata": {},
   "outputs": [
    {
     "name": "stdout",
     "output_type": "stream",
     "text": [
      "0    -2\n",
      "1    -1\n",
      "2    20\n",
      "3    10\n",
      "4     0\n",
      "dtype: int64\n"
     ]
    }
   ],
   "source": [
    "print(s.where(s < 0, s2))"
   ]
  },
  {
   "cell_type": "code",
   "execution_count": 12,
   "metadata": {},
   "outputs": [
    {
     "name": "stdout",
     "output_type": "stream",
     "text": [
      "0   -190\n",
      "1    -90\n",
      "2     10\n",
      "3    110\n",
      "4    210\n",
      "dtype: int64\n"
     ]
    }
   ],
   "source": [
    "print(s * 100 + 10)"
   ]
  },
  {
   "cell_type": "code",
   "execution_count": 13,
   "metadata": {},
   "outputs": [
    {
     "name": "stdout",
     "output_type": "stream",
     "text": [
      "0     -2\n",
      "1     -1\n",
      "2     10\n",
      "3    110\n",
      "4    210\n",
      "dtype: int64\n"
     ]
    }
   ],
   "source": [
    "print(s.where(s < 0, s * 100 + 10))"
   ]
  },
  {
   "cell_type": "code",
   "execution_count": 14,
   "metadata": {},
   "outputs": [
    {
     "name": "stdout",
     "output_type": "stream",
     "text": [
      "0    -2\n",
      "1    -1\n",
      "2    10\n",
      "3    10\n",
      "4    10\n",
      "dtype: int64\n"
     ]
    }
   ],
   "source": [
    "s.where(s < 0, 10, inplace=True)\n",
    "print(s)"
   ]
  },
  {
   "cell_type": "code",
   "execution_count": 15,
   "metadata": {},
   "outputs": [
    {
     "name": "stdout",
     "output_type": "stream",
     "text": [
      "   A   B\n",
      "0 -2   0\n",
      "1 -1  10\n",
      "2  0  20\n",
      "3  1  30\n",
      "4  2  40\n"
     ]
    }
   ],
   "source": [
    "df = pd.DataFrame({'A': [-2, -1, 0, 1, 2], 'B': [0, 10, 20, 30, 40]})\n",
    "print(df)"
   ]
  },
  {
   "cell_type": "code",
   "execution_count": 16,
   "metadata": {},
   "outputs": [
    {
     "name": "stdout",
     "output_type": "stream",
     "text": [
      "       A      B\n",
      "0   True  False\n",
      "1   True  False\n",
      "2  False  False\n",
      "3  False   True\n",
      "4  False   True\n"
     ]
    }
   ],
   "source": [
    "print((df < 0) | (df > 20))"
   ]
  },
  {
   "cell_type": "code",
   "execution_count": 17,
   "metadata": {},
   "outputs": [
    {
     "name": "stdout",
     "output_type": "stream",
     "text": [
      "     A     B\n",
      "0 -2.0   NaN\n",
      "1 -1.0   NaN\n",
      "2  NaN   NaN\n",
      "3  NaN  30.0\n",
      "4  NaN  40.0\n"
     ]
    }
   ],
   "source": [
    "print(df.where((df < 0) | (df > 20)))"
   ]
  },
  {
   "cell_type": "code",
   "execution_count": 18,
   "metadata": {},
   "outputs": [
    {
     "name": "stdout",
     "output_type": "stream",
     "text": [
      "     A    B\n",
      "0   -2  100\n",
      "1   -1  100\n",
      "2  100  100\n",
      "3  100   30\n",
      "4  100   40\n"
     ]
    }
   ],
   "source": [
    "print(df.where((df < 0) | (df > 20), 100))"
   ]
  },
  {
   "cell_type": "code",
   "execution_count": 19,
   "metadata": {},
   "outputs": [
    {
     "name": "stdout",
     "output_type": "stream",
     "text": [
      "     A     B\n",
      "0 -190    10\n",
      "1  -90  1010\n",
      "2   10  2010\n",
      "3  110  3010\n",
      "4  210  4010\n"
     ]
    }
   ],
   "source": [
    "print(df * 100 + 10)"
   ]
  },
  {
   "cell_type": "code",
   "execution_count": 20,
   "metadata": {},
   "outputs": [
    {
     "name": "stdout",
     "output_type": "stream",
     "text": [
      "     A     B\n",
      "0   -2    10\n",
      "1   -1  1010\n",
      "2   10  2010\n",
      "3  110    30\n",
      "4  210    40\n"
     ]
    }
   ],
   "source": [
    "print(df.where((df < 0) | (df > 20), df * 100 + 10))"
   ]
  },
  {
   "cell_type": "code",
   "execution_count": 21,
   "metadata": {},
   "outputs": [
    {
     "name": "stdout",
     "output_type": "stream",
     "text": [
      "   A   B  C\n",
      "0 -2   0  A\n",
      "1 -1  10  B\n",
      "2  0  20  C\n",
      "3  1  30  D\n",
      "4  2  40  E\n"
     ]
    }
   ],
   "source": [
    "df['C'] = ['A', 'B', 'C', 'D', 'E']\n",
    "print(df)"
   ]
  },
  {
   "cell_type": "code",
   "execution_count": 22,
   "metadata": {},
   "outputs": [],
   "source": [
    "# print(df < 0)\n",
    "# TypeError: '<' not supported between instances of 'str' and 'int'"
   ]
  },
  {
   "cell_type": "code",
   "execution_count": 23,
   "metadata": {},
   "outputs": [
    {
     "name": "stdout",
     "output_type": "stream",
     "text": [
      "0    A\n",
      "1    B\n",
      "2    X\n",
      "3    X\n",
      "4    X\n",
      "Name: C, dtype: object\n"
     ]
    }
   ],
   "source": [
    "print(df['C'].where(df['A'] < 0, 'X'))"
   ]
  },
  {
   "cell_type": "code",
   "execution_count": 24,
   "metadata": {},
   "outputs": [
    {
     "name": "stdout",
     "output_type": "stream",
     "text": [
      "   A   B  C  D\n",
      "0 -2   0  A  A\n",
      "1 -1  10  B  B\n",
      "2  0  20  C  X\n",
      "3  1  30  D  X\n",
      "4  2  40  E  X\n"
     ]
    }
   ],
   "source": [
    "df['D'] = df['C'].where(df['A'] < 0, 'X')\n",
    "print(df)"
   ]
  },
  {
   "cell_type": "code",
   "execution_count": 25,
   "metadata": {},
   "outputs": [
    {
     "name": "stdout",
     "output_type": "stream",
     "text": [
      "    A   B\n",
      "0 -10 -10\n",
      "1 -10  10\n",
      "2 -10  20\n",
      "3   1  30\n",
      "4   2  40\n"
     ]
    }
   ],
   "source": [
    "df_num = df.select_dtypes('number')\n",
    "print(df_num.where(df_num > 0, -10))"
   ]
  },
  {
   "cell_type": "code",
   "execution_count": 26,
   "metadata": {},
   "outputs": [
    {
     "name": "stdout",
     "output_type": "stream",
     "text": [
      "   C  D\n",
      "0  A  A\n",
      "1  B  B\n",
      "2  C  X\n",
      "3  D  X\n",
      "4  E  X\n"
     ]
    }
   ],
   "source": [
    "print(df.select_dtypes(exclude='number'))"
   ]
  },
  {
   "cell_type": "code",
   "execution_count": 27,
   "metadata": {},
   "outputs": [
    {
     "name": "stdout",
     "output_type": "stream",
     "text": [
      "    A   B  C  D\n",
      "0 -10 -10  A  A\n",
      "1 -10  10  B  B\n",
      "2 -10  20  C  X\n",
      "3   1  30  D  X\n",
      "4   2  40  E  X\n"
     ]
    }
   ],
   "source": [
    "print(pd.concat([df_num.where(df_num > 0, -10), df.select_dtypes(exclude='number')],\n",
    "                axis=1))"
   ]
  },
  {
   "cell_type": "code",
   "execution_count": 28,
   "metadata": {},
   "outputs": [
    {
     "name": "stdout",
     "output_type": "stream",
     "text": [
      "0      Alice\n",
      "1        Bob\n",
      "2    Charlie\n",
      "3       Dave\n",
      "4      Ellen\n",
      "dtype: object\n"
     ]
    }
   ],
   "source": [
    "s = pd.Series(['Alice', 'Bob', 'Charlie', 'Dave', 'Ellen'])\n",
    "print(s)"
   ]
  },
  {
   "cell_type": "code",
   "execution_count": 29,
   "metadata": {},
   "outputs": [
    {
     "name": "stdout",
     "output_type": "stream",
     "text": [
      "0      NaN\n",
      "1      Bob\n",
      "2      NaN\n",
      "3      NaN\n",
      "4    Ellen\n",
      "dtype: object\n"
     ]
    }
   ],
   "source": [
    "print(s.mask(s.str.endswith('e')))"
   ]
  },
  {
   "cell_type": "code",
   "execution_count": 30,
   "metadata": {},
   "outputs": [
    {
     "name": "stdout",
     "output_type": "stream",
     "text": [
      "0        X\n",
      "1      Bob\n",
      "2        X\n",
      "3        X\n",
      "4    Ellen\n",
      "dtype: object\n"
     ]
    }
   ],
   "source": [
    "print(s.mask(s.str.endswith('e'), 'X'))"
   ]
  },
  {
   "cell_type": "code",
   "execution_count": 31,
   "metadata": {},
   "outputs": [
    {
     "name": "stdout",
     "output_type": "stream",
     "text": [
      "0      ALICE\n",
      "1        Bob\n",
      "2    CHARLIE\n",
      "3       DAVE\n",
      "4      Ellen\n",
      "dtype: object\n"
     ]
    }
   ],
   "source": [
    "print(s.mask(s.str.endswith('e'), s.str.upper()))"
   ]
  },
  {
   "cell_type": "code",
   "execution_count": 32,
   "metadata": {},
   "outputs": [
    {
     "name": "stdout",
     "output_type": "stream",
     "text": [
      "   A   B\n",
      "0 -2   0\n",
      "1 -1  10\n",
      "2  0  20\n",
      "3  1  30\n",
      "4  2  40\n"
     ]
    }
   ],
   "source": [
    "df = pd.DataFrame({'A': [-2, -1, 0, 1, 2], 'B': [0, 10, 20, 30, 40]})\n",
    "print(df)"
   ]
  },
  {
   "cell_type": "code",
   "execution_count": 33,
   "metadata": {},
   "outputs": [
    {
     "name": "stdout",
     "output_type": "stream",
     "text": [
      "     A     B\n",
      "0  NaN   0.0\n",
      "1  NaN  10.0\n",
      "2  0.0  20.0\n",
      "3  1.0   NaN\n",
      "4  2.0   NaN\n"
     ]
    }
   ],
   "source": [
    "print(df.mask((df < 0) | (df > 20)))"
   ]
  },
  {
   "cell_type": "code",
   "execution_count": 34,
   "metadata": {},
   "outputs": [
    {
     "name": "stdout",
     "output_type": "stream",
     "text": [
      "     A    B\n",
      "0  100    0\n",
      "1  100   10\n",
      "2    0   20\n",
      "3    1  100\n",
      "4    2  100\n"
     ]
    }
   ],
   "source": [
    "print(df.mask((df < 0) | (df > 20), 100))"
   ]
  },
  {
   "cell_type": "code",
   "execution_count": 35,
   "metadata": {},
   "outputs": [
    {
     "name": "stdout",
     "output_type": "stream",
     "text": [
      "     A     B\n",
      "0 -190     0\n",
      "1  -90    10\n",
      "2    0    20\n",
      "3    1  3010\n",
      "4    2  4010\n"
     ]
    }
   ],
   "source": [
    "print(df.mask((df < 0) | (df > 20), df * 100 + 10))"
   ]
  },
  {
   "cell_type": "code",
   "execution_count": 36,
   "metadata": {},
   "outputs": [
    {
     "name": "stdout",
     "output_type": "stream",
     "text": [
      "0   -2\n",
      "1   -1\n",
      "2    0\n",
      "3    1\n",
      "4    2\n",
      "dtype: int64\n"
     ]
    }
   ],
   "source": [
    "s = pd.Series([-2, -1, 0, 1, 2])\n",
    "print(s)"
   ]
  },
  {
   "cell_type": "code",
   "execution_count": 37,
   "metadata": {},
   "outputs": [
    {
     "name": "stdout",
     "output_type": "stream",
     "text": [
      "[-100 -100    1    1    1]\n"
     ]
    }
   ],
   "source": [
    "print(np.where(s < 0, -100, 1))"
   ]
  },
  {
   "cell_type": "code",
   "execution_count": 38,
   "metadata": {},
   "outputs": [
    {
     "name": "stdout",
     "output_type": "stream",
     "text": [
      "[-20 -10  10 110 210]\n"
     ]
    }
   ],
   "source": [
    "print(np.where(s < 0, s * 10, s * 100 + 10))"
   ]
  },
  {
   "cell_type": "code",
   "execution_count": 39,
   "metadata": {},
   "outputs": [
    {
     "name": "stdout",
     "output_type": "stream",
     "text": [
      "<class 'numpy.ndarray'>\n"
     ]
    }
   ],
   "source": [
    "print(type(np.where(s < 0, -100, 1)))"
   ]
  },
  {
   "cell_type": "code",
   "execution_count": 40,
   "metadata": {},
   "outputs": [
    {
     "name": "stdout",
     "output_type": "stream",
     "text": [
      "   A   B\n",
      "0 -2   0\n",
      "1 -1  10\n",
      "2  0  20\n",
      "3  1  30\n",
      "4  2  40\n"
     ]
    }
   ],
   "source": [
    "df = pd.DataFrame({'A': [-2, -1, 0, 1, 2], 'B': [0, 10, 20, 30, 40]})\n",
    "print(df)"
   ]
  },
  {
   "cell_type": "code",
   "execution_count": 41,
   "metadata": {},
   "outputs": [
    {
     "name": "stdout",
     "output_type": "stream",
     "text": [
      "[[-100    1]\n",
      " [-100    1]\n",
      " [   1    1]\n",
      " [   1 -100]\n",
      " [   1 -100]]\n"
     ]
    }
   ],
   "source": [
    "print(np.where((df < 0) | (df > 20), -100, 1))"
   ]
  },
  {
   "cell_type": "code",
   "execution_count": 42,
   "metadata": {},
   "outputs": [
    {
     "name": "stdout",
     "output_type": "stream",
     "text": [
      "[[ -20   10]\n",
      " [ -10 1010]\n",
      " [  10 2010]\n",
      " [ 110  300]\n",
      " [ 210  400]]\n"
     ]
    }
   ],
   "source": [
    "print(np.where((df < 0) | (df > 20), df * 10, df * 100 + 10))"
   ]
  },
  {
   "cell_type": "code",
   "execution_count": 43,
   "metadata": {},
   "outputs": [
    {
     "name": "stdout",
     "output_type": "stream",
     "text": [
      "<class 'numpy.ndarray'>\n"
     ]
    }
   ],
   "source": [
    "print(type(np.where((df < 0) | (df > 20), -100, 1)))"
   ]
  },
  {
   "cell_type": "code",
   "execution_count": 44,
   "metadata": {},
   "outputs": [
    {
     "name": "stdout",
     "output_type": "stream",
     "text": [
      "0   -100\n",
      "1   -100\n",
      "2      1\n",
      "3      1\n",
      "4      1\n",
      "dtype: int64\n"
     ]
    }
   ],
   "source": [
    "print(pd.Series(np.where(s < 0, -100, 1), index=s.index))"
   ]
  },
  {
   "cell_type": "code",
   "execution_count": 45,
   "metadata": {},
   "outputs": [
    {
     "name": "stdout",
     "output_type": "stream",
     "text": [
      "     A    B\n",
      "0 -100    1\n",
      "1 -100    1\n",
      "2    1    1\n",
      "3    1 -100\n",
      "4    1 -100\n"
     ]
    }
   ],
   "source": [
    "print(pd.DataFrame(np.where((df < 0) | (df > 20), -100, 1),\n",
    "                   index=df.index, columns=df.columns))"
   ]
  },
  {
   "cell_type": "code",
   "execution_count": 46,
   "metadata": {},
   "outputs": [
    {
     "name": "stdout",
     "output_type": "stream",
     "text": [
      "   A   B    C\n",
      "0 -2   0 -100\n",
      "1 -1  10 -100\n",
      "2  0  20    1\n",
      "3  1  30    1\n",
      "4  2  40    1\n"
     ]
    }
   ],
   "source": [
    "df['C'] = np.where(df['A'] < 0, -100, 1)\n",
    "print(df)"
   ]
  },
  {
   "cell_type": "code",
   "execution_count": 47,
   "metadata": {},
   "outputs": [
    {
     "name": "stdout",
     "output_type": "stream",
     "text": [
      "   A   B\n",
      "0 -2   0\n",
      "1 -1  10\n",
      "2  0  20\n",
      "3  1  30\n",
      "4  2  40\n"
     ]
    }
   ],
   "source": [
    "df = pd.DataFrame({'A': [-2, -1, 0, 1, 2], 'B': [0, 10, 20, 30, 40]})\n",
    "print(df)"
   ]
  },
  {
   "cell_type": "code",
   "execution_count": 48,
   "metadata": {},
   "outputs": [
    {
     "name": "stdout",
     "output_type": "stream",
     "text": [
      "0   -2\n",
      "1   -1\n",
      "Name: A, dtype: int64\n"
     ]
    }
   ],
   "source": [
    "print(df.loc[df['A'] < 0, 'A'])"
   ]
  },
  {
   "cell_type": "code",
   "execution_count": 49,
   "metadata": {},
   "outputs": [
    {
     "name": "stdout",
     "output_type": "stream",
     "text": [
      "    A   B\n",
      "0 -10   0\n",
      "1 -10  10\n",
      "2   0  20\n",
      "3   1  30\n",
      "4   2  40\n"
     ]
    }
   ],
   "source": [
    "df.loc[df['A'] < 0, 'A'] = -10\n",
    "print(df)"
   ]
  },
  {
   "cell_type": "code",
   "execution_count": 50,
   "metadata": {},
   "outputs": [
    {
     "name": "stdout",
     "output_type": "stream",
     "text": [
      "     A   B\n",
      "0  -10   0\n",
      "1  -10  10\n",
      "2  200  20\n",
      "3  300  30\n",
      "4  400  40\n"
     ]
    }
   ],
   "source": [
    "df.loc[df['A'] >= 0, 'A'] = df['B'] * 10\n",
    "print(df)"
   ]
  },
  {
   "cell_type": "code",
   "execution_count": 51,
   "metadata": {},
   "outputs": [
    {
     "name": "stdout",
     "output_type": "stream",
     "text": [
      "     A   B      C\n",
      "0  -10   0 -100.0\n",
      "1  -10  10 -100.0\n",
      "2  200  20    NaN\n",
      "3  300  30    NaN\n",
      "4  400  40    NaN\n"
     ]
    }
   ],
   "source": [
    "df.loc[df['A'] < 0, 'C'] = -100\n",
    "print(df)"
   ]
  }
 ],
 "metadata": {
  "kernelspec": {
   "display_name": "Python 3",
   "language": "python",
   "name": "python3"
  },
  "language_info": {
   "codemirror_mode": {
    "name": "ipython",
    "version": 3
   },
   "file_extension": ".py",
   "mimetype": "text/x-python",
   "name": "python",
   "nbconvert_exporter": "python",
   "pygments_lexer": "ipython3",
   "version": "3.11.6"
  }
 },
 "nbformat": 4,
 "nbformat_minor": 2
}
