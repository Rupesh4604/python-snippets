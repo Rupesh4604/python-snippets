{
 "cells": [
  {
   "cell_type": "code",
   "execution_count": 1,
   "metadata": {},
   "outputs": [],
   "source": [
    "import pprint"
   ]
  },
  {
   "cell_type": "code",
   "execution_count": 2,
   "metadata": {},
   "outputs": [
    {
     "name": "stdout",
     "output_type": "stream",
     "text": [
      "[[20, 3, 100],\n",
      " [1, 200, 30],\n",
      " [300, 10, 2]]\n"
     ]
    }
   ],
   "source": [
    "l_2d = [[20, 3, 100], [1, 200, 30], [300, 10, 2]]\n",
    "pprint.pprint(l_2d, width=20)"
   ]
  },
  {
   "cell_type": "code",
   "execution_count": 3,
   "metadata": {},
   "outputs": [
    {
     "name": "stdout",
     "output_type": "stream",
     "text": [
      "[[1, 200, 30],\n",
      " [20, 3, 100],\n",
      " [300, 10, 2]]\n"
     ]
    }
   ],
   "source": [
    "pprint.pprint(sorted(l_2d), width=20)"
   ]
  },
  {
   "cell_type": "code",
   "execution_count": 4,
   "metadata": {},
   "outputs": [
    {
     "name": "stdout",
     "output_type": "stream",
     "text": [
      "[[3, 20, 100],\n",
      " [1, 30, 200],\n",
      " [2, 10, 300]]\n"
     ]
    }
   ],
   "source": [
    "pprint.pprint([sorted(l) for l in l_2d], width=20)"
   ]
  },
  {
   "cell_type": "code",
   "execution_count": 5,
   "metadata": {},
   "outputs": [
    {
     "name": "stdout",
     "output_type": "stream",
     "text": [
      "[[1, 3, 2],\n",
      " [20, 10, 30],\n",
      " [300, 200, 100]]\n"
     ]
    }
   ],
   "source": [
    "pprint.pprint([list(x) for x in zip(*[sorted(l) for l in zip(*l_2d)])], width=20)"
   ]
  },
  {
   "cell_type": "code",
   "execution_count": 6,
   "metadata": {},
   "outputs": [],
   "source": [
    "import numpy as np"
   ]
  },
  {
   "cell_type": "code",
   "execution_count": 7,
   "metadata": {},
   "outputs": [
    {
     "name": "stdout",
     "output_type": "stream",
     "text": [
      "[[  3  20 100]\n",
      " [  1  30 200]\n",
      " [  2  10 300]]\n"
     ]
    }
   ],
   "source": [
    "print(np.sort(l_2d))"
   ]
  },
  {
   "cell_type": "code",
   "execution_count": 8,
   "metadata": {},
   "outputs": [
    {
     "name": "stdout",
     "output_type": "stream",
     "text": [
      "[[  1   3   2]\n",
      " [ 20  10  30]\n",
      " [300 200 100]]\n"
     ]
    }
   ],
   "source": [
    "print(np.sort(l_2d, axis=0))"
   ]
  },
  {
   "cell_type": "code",
   "execution_count": 9,
   "metadata": {},
   "outputs": [
    {
     "name": "stdout",
     "output_type": "stream",
     "text": [
      "<class 'numpy.ndarray'>\n"
     ]
    }
   ],
   "source": [
    "print(type(np.sort(l_2d)))"
   ]
  },
  {
   "cell_type": "code",
   "execution_count": 10,
   "metadata": {},
   "outputs": [
    {
     "name": "stdout",
     "output_type": "stream",
     "text": [
      "[[3, 20, 100], [1, 30, 200], [2, 10, 300]]\n"
     ]
    }
   ],
   "source": [
    "print(np.sort(l_2d).tolist())"
   ]
  },
  {
   "cell_type": "code",
   "execution_count": 11,
   "metadata": {},
   "outputs": [
    {
     "name": "stdout",
     "output_type": "stream",
     "text": [
      "<class 'list'>\n"
     ]
    }
   ],
   "source": [
    "print(type(np.sort(l_2d).tolist()))"
   ]
  },
  {
   "cell_type": "code",
   "execution_count": 12,
   "metadata": {},
   "outputs": [],
   "source": [
    "l_2d_error = [[1, 2], [3, 4, 5]]"
   ]
  },
  {
   "cell_type": "code",
   "execution_count": 13,
   "metadata": {},
   "outputs": [],
   "source": [
    "# print(np.sort(l_2d_error))\n",
    "# ValueError: setting an array element with a sequence. The requested array has an inhomogeneous shape after 1 dimensions. The detected shape was (2,) + inhomogeneous part."
   ]
  },
  {
   "cell_type": "code",
   "execution_count": 14,
   "metadata": {},
   "outputs": [
    {
     "name": "stdout",
     "output_type": "stream",
     "text": [
      "[[20, 3, 100],\n",
      " [300, 10, 2],\n",
      " [1, 200, 30]]\n"
     ]
    }
   ],
   "source": [
    "pprint.pprint(sorted(l_2d, key=lambda x: x[1]), width=20)"
   ]
  },
  {
   "cell_type": "code",
   "execution_count": 15,
   "metadata": {},
   "outputs": [
    {
     "name": "stdout",
     "output_type": "stream",
     "text": [
      "[[300, 10, 2],\n",
      " [1, 200, 30],\n",
      " [20, 3, 100]]\n"
     ]
    }
   ],
   "source": [
    "pprint.pprint(sorted(l_2d, key=lambda x: x[2]), width=20)"
   ]
  },
  {
   "cell_type": "code",
   "execution_count": 16,
   "metadata": {},
   "outputs": [],
   "source": [
    "import operator"
   ]
  },
  {
   "cell_type": "code",
   "execution_count": 17,
   "metadata": {},
   "outputs": [
    {
     "name": "stdout",
     "output_type": "stream",
     "text": [
      "[[20, 3, 100],\n",
      " [300, 10, 2],\n",
      " [1, 200, 30]]\n"
     ]
    }
   ],
   "source": [
    "pprint.pprint(sorted(l_2d, key=operator.itemgetter(1)), width=20)"
   ]
  },
  {
   "cell_type": "code",
   "execution_count": 18,
   "metadata": {},
   "outputs": [
    {
     "name": "stdout",
     "output_type": "stream",
     "text": [
      "[[300, 10, 2],\n",
      " [1, 200, 30],\n",
      " [20, 3, 100]]\n"
     ]
    }
   ],
   "source": [
    "pprint.pprint(sorted(l_2d, key=operator.itemgetter(2)), width=20)"
   ]
  },
  {
   "cell_type": "code",
   "execution_count": 19,
   "metadata": {},
   "outputs": [
    {
     "name": "stdout",
     "output_type": "stream",
     "text": [
      "[[1, 3, 100],\n",
      " [1, 200, 30],\n",
      " [1, 3, 2]]\n"
     ]
    }
   ],
   "source": [
    "l_2d_dup = [[1, 3, 100], [1, 200, 30], [1, 3, 2]]\n",
    "pprint.pprint(l_2d_dup, width=20)"
   ]
  },
  {
   "cell_type": "code",
   "execution_count": 20,
   "metadata": {},
   "outputs": [
    {
     "name": "stdout",
     "output_type": "stream",
     "text": [
      "[[1, 3, 2],\n",
      " [1, 3, 100],\n",
      " [1, 200, 30]]\n"
     ]
    }
   ],
   "source": [
    "pprint.pprint(sorted(l_2d_dup), width=20)"
   ]
  },
  {
   "cell_type": "code",
   "execution_count": 21,
   "metadata": {},
   "outputs": [
    {
     "name": "stdout",
     "output_type": "stream",
     "text": [
      "[[1, 3, 2],\n",
      " [1, 200, 30],\n",
      " [1, 3, 100]]\n"
     ]
    }
   ],
   "source": [
    "pprint.pprint(sorted(l_2d_dup, key=operator.itemgetter(0, 2)), width=20)"
   ]
  },
  {
   "cell_type": "code",
   "execution_count": 22,
   "metadata": {},
   "outputs": [
    {
     "name": "stdout",
     "output_type": "stream",
     "text": [
      "[[1, 3, 2],\n",
      " [1, 200, 30],\n",
      " [1, 3, 100]]\n"
     ]
    }
   ],
   "source": [
    "pprint.pprint(sorted(l_2d_dup, key=lambda x: (x[0], x[2])), width=20)"
   ]
  },
  {
   "cell_type": "code",
   "execution_count": 23,
   "metadata": {},
   "outputs": [],
   "source": [
    "import pandas as pd"
   ]
  },
  {
   "cell_type": "code",
   "execution_count": 24,
   "metadata": {},
   "outputs": [
    {
     "name": "stdout",
     "output_type": "stream",
     "text": [
      "   A    B    C\n",
      "X  1    3  100\n",
      "Y  1  200   30\n",
      "Z  1    3    2\n"
     ]
    }
   ],
   "source": [
    "df = pd.DataFrame(l_2d_dup, columns=['A', 'B', 'C'], index=['X', 'Y', 'Z'])\n",
    "print(df)"
   ]
  },
  {
   "cell_type": "code",
   "execution_count": 25,
   "metadata": {},
   "outputs": [
    {
     "name": "stdout",
     "output_type": "stream",
     "text": [
      "   A    B    C\n",
      "Z  1    3    2\n",
      "Y  1  200   30\n",
      "X  1    3  100\n"
     ]
    }
   ],
   "source": [
    "print(df.sort_values('C'))"
   ]
  },
  {
   "cell_type": "code",
   "execution_count": 26,
   "metadata": {},
   "outputs": [
    {
     "name": "stdout",
     "output_type": "stream",
     "text": [
      "   A    C    B\n",
      "X  1  100    3\n",
      "Y  1   30  200\n",
      "Z  1    2    3\n"
     ]
    }
   ],
   "source": [
    "print(df.sort_values('Z', axis=1))"
   ]
  },
  {
   "cell_type": "code",
   "execution_count": 27,
   "metadata": {},
   "outputs": [
    {
     "name": "stdout",
     "output_type": "stream",
     "text": [
      "   A    B    C\n",
      "Z  1    3    2\n",
      "Y  1  200   30\n",
      "X  1    3  100\n"
     ]
    }
   ],
   "source": [
    "print(df.sort_values(['A', 'C']))"
   ]
  },
  {
   "cell_type": "code",
   "execution_count": 28,
   "metadata": {},
   "outputs": [
    {
     "name": "stdout",
     "output_type": "stream",
     "text": [
      "   0    1    2\n",
      "0  1    3  100\n",
      "1  1  200   30\n",
      "2  1    3    2\n"
     ]
    }
   ],
   "source": [
    "df = pd.DataFrame(l_2d_dup)\n",
    "print(df)"
   ]
  },
  {
   "cell_type": "code",
   "execution_count": 29,
   "metadata": {},
   "outputs": [
    {
     "name": "stdout",
     "output_type": "stream",
     "text": [
      "   0    1    2\n",
      "2  1    3    2\n",
      "1  1  200   30\n",
      "0  1    3  100\n"
     ]
    }
   ],
   "source": [
    "print(df.sort_values(2))"
   ]
  },
  {
   "cell_type": "code",
   "execution_count": 30,
   "metadata": {},
   "outputs": [
    {
     "name": "stdout",
     "output_type": "stream",
     "text": [
      "   0    2    1\n",
      "0  1  100    3\n",
      "1  1   30  200\n",
      "2  1    2    3\n"
     ]
    }
   ],
   "source": [
    "print(df.sort_values(2, axis=1))"
   ]
  },
  {
   "cell_type": "code",
   "execution_count": 31,
   "metadata": {},
   "outputs": [
    {
     "name": "stdout",
     "output_type": "stream",
     "text": [
      "   0    1    2\n",
      "2  1    3    2\n",
      "1  1  200   30\n",
      "0  1    3  100\n"
     ]
    }
   ],
   "source": [
    "print(df.sort_values([0, 2]))"
   ]
  }
 ],
 "metadata": {
  "kernelspec": {
   "display_name": "Python 3",
   "language": "python",
   "name": "python3"
  },
  "language_info": {
   "codemirror_mode": {
    "name": "ipython",
    "version": 3
   },
   "file_extension": ".py",
   "mimetype": "text/x-python",
   "name": "python",
   "nbconvert_exporter": "python",
   "pygments_lexer": "ipython3",
   "version": "3.11.4"
  }
 },
 "nbformat": 4,
 "nbformat_minor": 2
}
