{
 "cells": [
  {
   "cell_type": "code",
   "execution_count": 1,
   "id": "849c885c",
   "metadata": {},
   "outputs": [],
   "source": [
    "import numpy as np"
   ]
  },
  {
   "cell_type": "code",
   "execution_count": 2,
   "id": "12ebd3ed",
   "metadata": {},
   "outputs": [
    {
     "name": "stdout",
     "output_type": "stream",
     "text": [
      "1.26.2\n"
     ]
    }
   ],
   "source": [
    "print(np.__version__)"
   ]
  },
  {
   "cell_type": "code",
   "execution_count": 3,
   "id": "f5c39b9f",
   "metadata": {},
   "outputs": [
    {
     "name": "stdout",
     "output_type": "stream",
     "text": [
      "[[8 1]\n",
      " [4 5]]\n"
     ]
    }
   ],
   "source": [
    "a = np.array([[8, 1], [4, 5]])\n",
    "print(a)"
   ]
  },
  {
   "cell_type": "code",
   "execution_count": 4,
   "id": "e0cab332",
   "metadata": {},
   "outputs": [],
   "source": [
    "eigenvalues, eigenvectors = np.linalg.eig(a)"
   ]
  },
  {
   "cell_type": "code",
   "execution_count": 5,
   "id": "913e3eb5",
   "metadata": {},
   "outputs": [
    {
     "name": "stdout",
     "output_type": "stream",
     "text": [
      "[9. 4.]\n"
     ]
    }
   ],
   "source": [
    "print(eigenvalues)"
   ]
  },
  {
   "cell_type": "code",
   "execution_count": 6,
   "id": "3001c886",
   "metadata": {},
   "outputs": [
    {
     "name": "stdout",
     "output_type": "stream",
     "text": [
      "[[ 0.70710678 -0.24253563]\n",
      " [ 0.70710678  0.9701425 ]]\n"
     ]
    }
   ],
   "source": [
    "print(eigenvectors)"
   ]
  },
  {
   "cell_type": "code",
   "execution_count": 7,
   "id": "72d437b3",
   "metadata": {},
   "outputs": [
    {
     "name": "stdout",
     "output_type": "stream",
     "text": [
      "[ True  True]\n"
     ]
    }
   ],
   "source": [
    "print(a @ eigenvectors[:, 0] == eigenvalues[0] * eigenvectors[:, 0])"
   ]
  },
  {
   "cell_type": "code",
   "execution_count": 8,
   "id": "338105de",
   "metadata": {},
   "outputs": [
    {
     "name": "stdout",
     "output_type": "stream",
     "text": [
      "[ True  True]\n"
     ]
    }
   ],
   "source": [
    "print(a @ eigenvectors[:, 1] == eigenvalues[1] * eigenvectors[:, 1])"
   ]
  },
  {
   "cell_type": "code",
   "execution_count": 9,
   "id": "763f742b",
   "metadata": {},
   "outputs": [
    {
     "name": "stdout",
     "output_type": "stream",
     "text": [
      "9.0\n"
     ]
    }
   ],
   "source": [
    "print(eigenvalues[np.argmax(eigenvalues)])"
   ]
  },
  {
   "cell_type": "code",
   "execution_count": 10,
   "id": "07d78d98",
   "metadata": {},
   "outputs": [
    {
     "name": "stdout",
     "output_type": "stream",
     "text": [
      "[0.70710678 0.70710678]\n"
     ]
    }
   ],
   "source": [
    "print(eigenvectors[:, np.argmax(eigenvalues)])"
   ]
  },
  {
   "cell_type": "code",
   "execution_count": 11,
   "id": "bdef93a7",
   "metadata": {},
   "outputs": [],
   "source": [
    "def get_eigenpairs(a):\n",
    "    values, vectors = np.linalg.eig(a)\n",
    "    pairs = []\n",
    "\n",
    "    for i, val in enumerate(values):\n",
    "        vec = vectors[:, i] / min(x for x in np.abs(vectors[:, i]) if x != 0)\n",
    "        pairs.append((val, vec))\n",
    "\n",
    "    return pairs"
   ]
  },
  {
   "cell_type": "code",
   "execution_count": 12,
   "id": "88a5a9f7",
   "metadata": {},
   "outputs": [
    {
     "name": "stdout",
     "output_type": "stream",
     "text": [
      "value: 9.0, vector: [1. 1.]\n",
      "value: 4.0, vector: [-1.  4.]\n"
     ]
    }
   ],
   "source": [
    "for val, vec in get_eigenpairs(a):\n",
    "    print(f'value: {val}, vector: {vec}')"
   ]
  },
  {
   "cell_type": "code",
   "execution_count": 13,
   "id": "18267eff",
   "metadata": {},
   "outputs": [
    {
     "name": "stdout",
     "output_type": "stream",
     "text": [
      "[[ 1  1  2]\n",
      " [ 0  2 -1]\n",
      " [ 0  0  3]]\n"
     ]
    }
   ],
   "source": [
    "a_3d = np.array([[1, 1, 2], [0, 2, -1], [0, 0, 3]])\n",
    "print(a_3d)"
   ]
  },
  {
   "cell_type": "code",
   "execution_count": 14,
   "id": "e12338ba",
   "metadata": {},
   "outputs": [
    {
     "name": "stdout",
     "output_type": "stream",
     "text": [
      "value: 1.0, vector: [1. 0. 0.]\n",
      "value: 2.0, vector: [1. 1. 0.]\n",
      "value: 3.0, vector: [ 1. -2.  2.]\n"
     ]
    }
   ],
   "source": [
    "for val, vec in get_eigenpairs(a_3d):\n",
    "    print(f'value: {val}, vector: {vec}')"
   ]
  },
  {
   "cell_type": "code",
   "execution_count": 15,
   "id": "d4f293c8",
   "metadata": {},
   "outputs": [
    {
     "name": "stdout",
     "output_type": "stream",
     "text": [
      "[[ 3  2]\n",
      " [-2  3]]\n"
     ]
    }
   ],
   "source": [
    "a = np.array([[3, 2], [-2, 3]])\n",
    "print(a)"
   ]
  },
  {
   "cell_type": "code",
   "execution_count": 16,
   "id": "4c779375",
   "metadata": {},
   "outputs": [
    {
     "name": "stdout",
     "output_type": "stream",
     "text": [
      "value: (3+2j), vector: [0.-1.j 1.+0.j]\n",
      "value: (3-2j), vector: [0.+1.j 1.-0.j]\n"
     ]
    }
   ],
   "source": [
    "for val, vec in get_eigenpairs(a):\n",
    "    print(f'value: {val:.1}, vector: {vec}')"
   ]
  }
 ],
 "metadata": {
  "kernelspec": {
   "display_name": "Python 3",
   "language": "python",
   "name": "python3"
  },
  "language_info": {
   "codemirror_mode": {
    "name": "ipython",
    "version": 3
   },
   "file_extension": ".py",
   "mimetype": "text/x-python",
   "name": "python",
   "nbconvert_exporter": "python",
   "pygments_lexer": "ipython3",
   "version": "3.11.6"
  }
 },
 "nbformat": 4,
 "nbformat_minor": 5
}
