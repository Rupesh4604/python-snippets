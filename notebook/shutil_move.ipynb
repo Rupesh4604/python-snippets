{
 "cells": [
  {
   "cell_type": "code",
   "execution_count": 1,
   "metadata": {},
   "outputs": [],
   "source": [
    "import os\n",
    "from pathlib import Path"
   ]
  },
  {
   "cell_type": "code",
   "execution_count": 2,
   "metadata": {},
   "outputs": [],
   "source": [
    "os.chdir('data/temp')"
   ]
  },
  {
   "cell_type": "code",
   "execution_count": 3,
   "metadata": {},
   "outputs": [],
   "source": [
    "p = Path('temp')\n",
    "p.joinpath('dir1/subdir').mkdir(parents=True, exist_ok=True)\n",
    "p.joinpath('dir2').mkdir(parents=True, exist_ok=True)\n",
    "p.joinpath('dir3/subdir').mkdir(parents=True, exist_ok=True)\n",
    "p.joinpath('dir1/file.txt').touch()\n",
    "p.joinpath('dir1/subdir/subfile.txt').touch()\n",
    "p.joinpath('dir3/file.txt').touch()"
   ]
  },
  {
   "cell_type": "code",
   "execution_count": 4,
   "metadata": {},
   "outputs": [
    {
     "name": "stdout",
     "output_type": "stream",
     "text": [
      "temp/\r\n",
      "├── dir1/\r\n",
      "│   ├── file.txt\r\n",
      "│   └── subdir/\r\n",
      "│       └── subfile.txt\r\n",
      "├── dir2/\r\n",
      "└── dir3/\r\n",
      "    ├── file.txt\r\n",
      "    └── subdir/\r\n",
      "\r\n",
      "6 directories, 3 files\r\n"
     ]
    }
   ],
   "source": [
    "!tree temp -nF  # Only works in Jupyter Notebook"
   ]
  },
  {
   "cell_type": "code",
   "execution_count": 5,
   "metadata": {},
   "outputs": [],
   "source": [
    "import shutil"
   ]
  },
  {
   "cell_type": "code",
   "execution_count": 6,
   "metadata": {},
   "outputs": [
    {
     "name": "stdout",
     "output_type": "stream",
     "text": [
      "temp/dir2/file.txt\n"
     ]
    }
   ],
   "source": [
    "new_path = shutil.move('temp/dir1/file.txt', 'temp/dir2')\n",
    "print(new_path)"
   ]
  },
  {
   "cell_type": "code",
   "execution_count": 7,
   "metadata": {},
   "outputs": [
    {
     "name": "stdout",
     "output_type": "stream",
     "text": [
      "temp/\r\n",
      "├── dir1/\r\n",
      "│   └── subdir/\r\n",
      "│       └── subfile.txt\r\n",
      "├── dir2/\r\n",
      "│   └── file.txt\r\n",
      "└── dir3/\r\n",
      "    ├── file.txt\r\n",
      "    └── subdir/\r\n",
      "\r\n",
      "6 directories, 3 files\r\n"
     ]
    }
   ],
   "source": [
    "!tree temp -nF"
   ]
  },
  {
   "cell_type": "code",
   "execution_count": 8,
   "metadata": {},
   "outputs": [],
   "source": [
    "# new_path = shutil.move('temp/dir2/file.txt', 'temp/dir3')\n",
    "# Error: Destination path 'temp/dir3/file.txt' already exists"
   ]
  },
  {
   "cell_type": "code",
   "execution_count": 9,
   "metadata": {},
   "outputs": [
    {
     "name": "stdout",
     "output_type": "stream",
     "text": [
      "temp/dir2/subdir\n"
     ]
    }
   ],
   "source": [
    "new_path = shutil.move('temp/dir1/subdir', 'temp/dir2')\n",
    "print(new_path)"
   ]
  },
  {
   "cell_type": "code",
   "execution_count": 10,
   "metadata": {},
   "outputs": [
    {
     "name": "stdout",
     "output_type": "stream",
     "text": [
      "temp/\r\n",
      "├── dir1/\r\n",
      "├── dir2/\r\n",
      "│   ├── file.txt\r\n",
      "│   └── subdir/\r\n",
      "│       └── subfile.txt\r\n",
      "└── dir3/\r\n",
      "    ├── file.txt\r\n",
      "    └── subdir/\r\n",
      "\r\n",
      "6 directories, 3 files\r\n"
     ]
    }
   ],
   "source": [
    "!tree temp -nF"
   ]
  },
  {
   "cell_type": "code",
   "execution_count": 11,
   "metadata": {},
   "outputs": [],
   "source": [
    "# new_path = shutil.move('temp/dir2/subdir', 'temp/dir3')\n",
    "# Error: Destination path 'temp/dir3/subdir' already exists"
   ]
  },
  {
   "cell_type": "code",
   "execution_count": 12,
   "metadata": {},
   "outputs": [],
   "source": [
    "# new_path = shutil.move('temp/dir2/subdir', 'temp/dir2/file.txt')\n",
    "# FileExistsError: [Errno 17] File exists: 'temp/dir2/file.txt'"
   ]
  },
  {
   "cell_type": "code",
   "execution_count": 13,
   "metadata": {},
   "outputs": [],
   "source": [
    "shutil.rmtree('temp/dir3')"
   ]
  },
  {
   "cell_type": "code",
   "execution_count": 14,
   "metadata": {},
   "outputs": [
    {
     "name": "stdout",
     "output_type": "stream",
     "text": [
      "temp/dir1/file_new.txt\n"
     ]
    }
   ],
   "source": [
    "new_path = shutil.move('temp/dir2/file.txt', 'temp/dir1/file_new.txt')\n",
    "print(new_path)"
   ]
  },
  {
   "cell_type": "code",
   "execution_count": 15,
   "metadata": {},
   "outputs": [
    {
     "name": "stdout",
     "output_type": "stream",
     "text": [
      "temp/\r\n",
      "├── dir1/\r\n",
      "│   └── file_new.txt\r\n",
      "└── dir2/\r\n",
      "    └── subdir/\r\n",
      "        └── subfile.txt\r\n",
      "\r\n",
      "4 directories, 2 files\r\n"
     ]
    }
   ],
   "source": [
    "!tree temp -nF"
   ]
  },
  {
   "cell_type": "code",
   "execution_count": 16,
   "metadata": {},
   "outputs": [],
   "source": [
    "# new_path = shutil.move('temp/dir1/file_new.txt', 'temp/dir2/dir_new/file_new.txt')\n",
    "# FileNotFoundError: [Errno 2] No such file or directory: 'temp/dir2/dir_new/file_new.txt'"
   ]
  },
  {
   "cell_type": "code",
   "execution_count": 17,
   "metadata": {},
   "outputs": [
    {
     "name": "stdout",
     "output_type": "stream",
     "text": [
      "temp/dir1/subdir_new\n"
     ]
    }
   ],
   "source": [
    "new_path = shutil.move('temp/dir2/subdir', 'temp/dir1/subdir_new')\n",
    "print(new_path)"
   ]
  },
  {
   "cell_type": "code",
   "execution_count": 18,
   "metadata": {},
   "outputs": [
    {
     "name": "stdout",
     "output_type": "stream",
     "text": [
      "temp/\r\n",
      "├── dir1/\r\n",
      "│   ├── file_new.txt\r\n",
      "│   └── subdir_new/\r\n",
      "│       └── subfile.txt\r\n",
      "└── dir2/\r\n",
      "\r\n",
      "4 directories, 2 files\r\n"
     ]
    }
   ],
   "source": [
    "!tree temp -nF"
   ]
  },
  {
   "cell_type": "code",
   "execution_count": 19,
   "metadata": {},
   "outputs": [
    {
     "name": "stdout",
     "output_type": "stream",
     "text": [
      "temp/dir2/subdir/subdir2\n"
     ]
    }
   ],
   "source": [
    "new_path = shutil.move('temp/dir1/subdir_new', 'temp/dir2/subdir/subdir2')\n",
    "print(new_path)"
   ]
  },
  {
   "cell_type": "code",
   "execution_count": 20,
   "metadata": {},
   "outputs": [
    {
     "name": "stdout",
     "output_type": "stream",
     "text": [
      "temp/\r\n",
      "├── dir1/\r\n",
      "│   └── file_new.txt\r\n",
      "└── dir2/\r\n",
      "    └── subdir/\r\n",
      "        └── subdir2/\r\n",
      "            └── subfile.txt\r\n",
      "\r\n",
      "5 directories, 2 files\r\n"
     ]
    }
   ],
   "source": [
    "!tree temp -nF"
   ]
  },
  {
   "cell_type": "code",
   "execution_count": 21,
   "metadata": {},
   "outputs": [],
   "source": [
    "with open('temp/dir2/file_other.txt', 'w') as f:\n",
    "    f.write('text in file_other.txt')"
   ]
  },
  {
   "cell_type": "code",
   "execution_count": 22,
   "metadata": {},
   "outputs": [
    {
     "name": "stdout",
     "output_type": "stream",
     "text": [
      "temp/\r\n",
      "├── dir1/\r\n",
      "│   └── file_new.txt\r\n",
      "└── dir2/\r\n",
      "    ├── file_other.txt\r\n",
      "    └── subdir/\r\n",
      "        └── subdir2/\r\n",
      "            └── subfile.txt\r\n",
      "\r\n",
      "5 directories, 3 files\r\n"
     ]
    }
   ],
   "source": [
    "!tree temp -nF"
   ]
  },
  {
   "cell_type": "code",
   "execution_count": 23,
   "metadata": {},
   "outputs": [
    {
     "name": "stdout",
     "output_type": "stream",
     "text": [
      "temp/dir1/file_new.txt\n"
     ]
    }
   ],
   "source": [
    "new_path = shutil.move('temp/dir2/file_other.txt', 'temp/dir1/file_new.txt')\n",
    "print(new_path)"
   ]
  },
  {
   "cell_type": "code",
   "execution_count": 24,
   "metadata": {},
   "outputs": [
    {
     "name": "stdout",
     "output_type": "stream",
     "text": [
      "temp/\r\n",
      "├── dir1/\r\n",
      "│   └── file_new.txt\r\n",
      "└── dir2/\r\n",
      "    └── subdir/\r\n",
      "        └── subdir2/\r\n",
      "            └── subfile.txt\r\n",
      "\r\n",
      "5 directories, 2 files\r\n"
     ]
    }
   ],
   "source": [
    "!tree temp -nF"
   ]
  },
  {
   "cell_type": "code",
   "execution_count": 25,
   "metadata": {},
   "outputs": [
    {
     "name": "stdout",
     "output_type": "stream",
     "text": [
      "text in file_other.txt\n"
     ]
    }
   ],
   "source": [
    "with open('temp/dir1/file_new.txt') as f:\n",
    "    print(f.read())"
   ]
  },
  {
   "cell_type": "code",
   "execution_count": 26,
   "metadata": {},
   "outputs": [],
   "source": [
    "shutil.rmtree('temp')"
   ]
  }
 ],
 "metadata": {
  "kernelspec": {
   "display_name": "Python 3",
   "language": "python",
   "name": "python3"
  },
  "language_info": {
   "codemirror_mode": {
    "name": "ipython",
    "version": 3
   },
   "file_extension": ".py",
   "mimetype": "text/x-python",
   "name": "python",
   "nbconvert_exporter": "python",
   "pygments_lexer": "ipython3",
   "version": "3.11.4"
  }
 },
 "nbformat": 4,
 "nbformat_minor": 2
}
