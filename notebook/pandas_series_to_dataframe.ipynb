{
 "cells": [
  {
   "cell_type": "code",
   "execution_count": 1,
   "metadata": {},
   "outputs": [],
   "source": [
    "import pandas as pd"
   ]
  },
  {
   "cell_type": "code",
   "execution_count": 2,
   "metadata": {},
   "outputs": [
    {
     "name": "stdout",
     "output_type": "stream",
     "text": [
      "2.1.4\n"
     ]
    }
   ],
   "source": [
    "print(pd.__version__)"
   ]
  },
  {
   "cell_type": "code",
   "execution_count": 3,
   "metadata": {},
   "outputs": [
    {
     "name": "stdout",
     "output_type": "stream",
     "text": [
      "A    0\n",
      "B    1\n",
      "C    2\n",
      "dtype: int64\n"
     ]
    }
   ],
   "source": [
    "s = pd.Series([0, 1, 2], index=['A', 'B', 'C'])\n",
    "print(s)"
   ]
  },
  {
   "cell_type": "code",
   "execution_count": 4,
   "metadata": {},
   "outputs": [
    {
     "name": "stdout",
     "output_type": "stream",
     "text": [
      "   0\n",
      "A  0\n",
      "B  1\n",
      "C  2\n"
     ]
    }
   ],
   "source": [
    "print(s.to_frame())"
   ]
  },
  {
   "cell_type": "code",
   "execution_count": 5,
   "metadata": {},
   "outputs": [
    {
     "name": "stdout",
     "output_type": "stream",
     "text": [
      "   X\n",
      "A  0\n",
      "B  1\n",
      "C  2\n"
     ]
    }
   ],
   "source": [
    "print(s.to_frame('X'))"
   ]
  },
  {
   "cell_type": "code",
   "execution_count": 6,
   "metadata": {},
   "outputs": [
    {
     "name": "stdout",
     "output_type": "stream",
     "text": [
      "A    0\n",
      "B    1\n",
      "C    2\n",
      "Name: X, dtype: int64\n"
     ]
    }
   ],
   "source": [
    "s_name = pd.Series([0, 1, 2], index=['A', 'B', 'C'], name='X')\n",
    "print(s_name)"
   ]
  },
  {
   "cell_type": "code",
   "execution_count": 7,
   "metadata": {},
   "outputs": [
    {
     "name": "stdout",
     "output_type": "stream",
     "text": [
      "   X\n",
      "A  0\n",
      "B  1\n",
      "C  2\n"
     ]
    }
   ],
   "source": [
    "print(s_name.to_frame())"
   ]
  },
  {
   "cell_type": "code",
   "execution_count": 8,
   "metadata": {},
   "outputs": [
    {
     "name": "stdout",
     "output_type": "stream",
     "text": [
      "   Y\n",
      "A  0\n",
      "B  1\n",
      "C  2\n"
     ]
    }
   ],
   "source": [
    "print(s_name.to_frame('Y'))"
   ]
  },
  {
   "cell_type": "code",
   "execution_count": 9,
   "metadata": {},
   "outputs": [
    {
     "name": "stdout",
     "output_type": "stream",
     "text": [
      "   0\n",
      "A  0\n",
      "B  1\n",
      "C  2\n"
     ]
    }
   ],
   "source": [
    "print(pd.DataFrame(s))"
   ]
  },
  {
   "cell_type": "code",
   "execution_count": 10,
   "metadata": {},
   "outputs": [
    {
     "name": "stdout",
     "output_type": "stream",
     "text": [
      "   A  B  C\n",
      "0  0  1  2\n"
     ]
    }
   ],
   "source": [
    "print(pd.DataFrame([s]))"
   ]
  },
  {
   "cell_type": "code",
   "execution_count": 11,
   "metadata": {},
   "outputs": [
    {
     "name": "stdout",
     "output_type": "stream",
     "text": [
      "   X\n",
      "A  0\n",
      "B  1\n",
      "C  2\n"
     ]
    }
   ],
   "source": [
    "print(pd.DataFrame(s_name))"
   ]
  },
  {
   "cell_type": "code",
   "execution_count": 12,
   "metadata": {},
   "outputs": [
    {
     "name": "stdout",
     "output_type": "stream",
     "text": [
      "   A  B  C\n",
      "X  0  1  2\n"
     ]
    }
   ],
   "source": [
    "print(pd.DataFrame([s_name]))"
   ]
  },
  {
   "cell_type": "code",
   "execution_count": 13,
   "metadata": {},
   "outputs": [],
   "source": [
    "s1 = pd.Series([0, 1, 2], index=['A', 'B', 'C'])\n",
    "s2 = pd.Series([0.0, 0.1, 0.2], index=['A', 'B', 'C'])"
   ]
  },
  {
   "cell_type": "code",
   "execution_count": 14,
   "metadata": {},
   "outputs": [
    {
     "name": "stdout",
     "output_type": "stream",
     "text": [
      "   col1  col2\n",
      "A     0   0.0\n",
      "B     1   0.1\n",
      "C     2   0.2\n"
     ]
    }
   ],
   "source": [
    "print(pd.DataFrame({'col1': s1, 'col2': s2}))"
   ]
  },
  {
   "cell_type": "code",
   "execution_count": 15,
   "metadata": {},
   "outputs": [
    {
     "name": "stdout",
     "output_type": "stream",
     "text": [
      "     A    B    C\n",
      "0  0.0  1.0  2.0\n",
      "1  0.0  0.1  0.2\n"
     ]
    }
   ],
   "source": [
    "print(pd.DataFrame([s1, s2]))"
   ]
  },
  {
   "cell_type": "code",
   "execution_count": 16,
   "metadata": {},
   "outputs": [
    {
     "name": "stdout",
     "output_type": "stream",
     "text": [
      "   0    1\n",
      "A  0  0.0\n",
      "B  1  0.1\n",
      "C  2  0.2\n"
     ]
    }
   ],
   "source": [
    "print(pd.concat([s1, s2], axis=1))"
   ]
  },
  {
   "cell_type": "code",
   "execution_count": 17,
   "metadata": {},
   "outputs": [],
   "source": [
    "s1_name = pd.Series([0, 1, 2], index=['A', 'B', 'C'], name='X')\n",
    "s2_name = pd.Series([0.0, 0.1, 0.2], index=['A', 'B', 'C'], name='Y')"
   ]
  },
  {
   "cell_type": "code",
   "execution_count": 18,
   "metadata": {},
   "outputs": [
    {
     "name": "stdout",
     "output_type": "stream",
     "text": [
      "   X    Y\n",
      "A  0  0.0\n",
      "B  1  0.1\n",
      "C  2  0.2\n"
     ]
    }
   ],
   "source": [
    "print(pd.DataFrame({s1_name.name: s1_name, s2_name.name: s2_name}))"
   ]
  },
  {
   "cell_type": "code",
   "execution_count": 19,
   "metadata": {},
   "outputs": [
    {
     "name": "stdout",
     "output_type": "stream",
     "text": [
      "     A    B    C\n",
      "X  0.0  1.0  2.0\n",
      "Y  0.0  0.1  0.2\n"
     ]
    }
   ],
   "source": [
    "print(pd.DataFrame([s1_name, s2_name]))"
   ]
  },
  {
   "cell_type": "code",
   "execution_count": 20,
   "metadata": {},
   "outputs": [
    {
     "name": "stdout",
     "output_type": "stream",
     "text": [
      "   X    Y\n",
      "A  0  0.0\n",
      "B  1  0.1\n",
      "C  2  0.2\n"
     ]
    }
   ],
   "source": [
    "print(pd.concat([s1_name, s2_name], axis=1))"
   ]
  },
  {
   "cell_type": "code",
   "execution_count": 21,
   "metadata": {},
   "outputs": [],
   "source": [
    "s1 = pd.Series([0, 1, 2], index=['A', 'B', 'C'])\n",
    "s3 = pd.Series([0.1, 0.2, 0.3], index=['B', 'C', 'D'])"
   ]
  },
  {
   "cell_type": "code",
   "execution_count": 22,
   "metadata": {},
   "outputs": [
    {
     "name": "stdout",
     "output_type": "stream",
     "text": [
      "   col1  col3\n",
      "A   0.0   NaN\n",
      "B   1.0   0.1\n",
      "C   2.0   0.2\n",
      "D   NaN   0.3\n"
     ]
    }
   ],
   "source": [
    "print(pd.DataFrame({'col1': s1, 'col3': s3}))"
   ]
  },
  {
   "cell_type": "code",
   "execution_count": 23,
   "metadata": {},
   "outputs": [
    {
     "name": "stdout",
     "output_type": "stream",
     "text": [
      "     A    B    C    D\n",
      "0  0.0  1.0  2.0  NaN\n",
      "1  NaN  0.1  0.2  0.3\n"
     ]
    }
   ],
   "source": [
    "print(pd.DataFrame([s1, s3]))"
   ]
  },
  {
   "cell_type": "code",
   "execution_count": 24,
   "metadata": {},
   "outputs": [
    {
     "name": "stdout",
     "output_type": "stream",
     "text": [
      "     0    1\n",
      "A  0.0  NaN\n",
      "B  1.0  0.1\n",
      "C  2.0  0.2\n",
      "D  NaN  0.3\n"
     ]
    }
   ],
   "source": [
    "print(pd.concat([s1, s3], axis=1))"
   ]
  },
  {
   "cell_type": "code",
   "execution_count": 25,
   "metadata": {},
   "outputs": [
    {
     "name": "stdout",
     "output_type": "stream",
     "text": [
      "   0    1\n",
      "B  1  0.1\n",
      "C  2  0.2\n"
     ]
    }
   ],
   "source": [
    "print(pd.concat([s1, s3], axis=1, join='inner'))"
   ]
  },
  {
   "cell_type": "code",
   "execution_count": 26,
   "metadata": {},
   "outputs": [
    {
     "name": "stdout",
     "output_type": "stream",
     "text": [
      "A    0.1\n",
      "B    0.2\n",
      "C    0.3\n",
      "dtype: float64\n"
     ]
    }
   ],
   "source": [
    "print(s3.set_axis(s1.index))"
   ]
  },
  {
   "cell_type": "code",
   "execution_count": 27,
   "metadata": {},
   "outputs": [
    {
     "name": "stdout",
     "output_type": "stream",
     "text": [
      "   col1  col3\n",
      "A     0   0.1\n",
      "B     1   0.2\n",
      "C     2   0.3\n"
     ]
    }
   ],
   "source": [
    "print(pd.DataFrame({'col1': s1, 'col3': s3.set_axis(s1.index)}))"
   ]
  },
  {
   "cell_type": "code",
   "execution_count": 28,
   "metadata": {},
   "outputs": [
    {
     "name": "stdout",
     "output_type": "stream",
     "text": [
      "[0 1 2]\n"
     ]
    }
   ],
   "source": [
    "print(s1.values)"
   ]
  },
  {
   "cell_type": "code",
   "execution_count": 29,
   "metadata": {},
   "outputs": [
    {
     "name": "stdout",
     "output_type": "stream",
     "text": [
      "<class 'numpy.ndarray'>\n"
     ]
    }
   ],
   "source": [
    "print(type(s1.values))"
   ]
  },
  {
   "cell_type": "code",
   "execution_count": 30,
   "metadata": {},
   "outputs": [
    {
     "name": "stdout",
     "output_type": "stream",
     "text": [
      "   col1  col3\n",
      "0     0   0.1\n",
      "1     1   0.2\n",
      "2     2   0.3\n"
     ]
    }
   ],
   "source": [
    "print(pd.DataFrame({'col1': s1.values, 'col3': s3.values}))"
   ]
  },
  {
   "cell_type": "code",
   "execution_count": 31,
   "metadata": {},
   "outputs": [
    {
     "name": "stdout",
     "output_type": "stream",
     "text": [
      "     0    1    2\n",
      "0  0.0  1.0  2.0\n",
      "1  0.1  0.2  0.3\n"
     ]
    }
   ],
   "source": [
    "print(pd.DataFrame([s1.values, s3.values]))"
   ]
  },
  {
   "cell_type": "code",
   "execution_count": 32,
   "metadata": {},
   "outputs": [],
   "source": [
    "# print(pd.concat([s1.values, s3.values], axis=1))\n",
    "# TypeError: cannot concatenate object of type '<class 'numpy.ndarray'>'; only Series and DataFrame objs are valid"
   ]
  },
  {
   "cell_type": "code",
   "execution_count": 33,
   "metadata": {},
   "outputs": [
    {
     "name": "stdout",
     "output_type": "stream",
     "text": [
      "     A    B    C\n",
      "X  0.0  1.0  2.0\n",
      "Y  0.1  0.2  0.3\n"
     ]
    }
   ],
   "source": [
    "print(pd.DataFrame([s1.values, s3.values], index=['X', 'Y'], columns=['A', 'B', 'C']))"
   ]
  },
  {
   "cell_type": "code",
   "execution_count": 34,
   "metadata": {},
   "outputs": [],
   "source": [
    "s1 = pd.Series([0, 1, 2], index=['A', 'B', 'C'])\n",
    "s4 = pd.Series([0.1, 0.3], index=['B', 'D'])"
   ]
  },
  {
   "cell_type": "code",
   "execution_count": 35,
   "metadata": {},
   "outputs": [
    {
     "name": "stdout",
     "output_type": "stream",
     "text": [
      "   col1  col4\n",
      "A   0.0   NaN\n",
      "B   1.0   0.1\n",
      "C   2.0   NaN\n",
      "D   NaN   0.3\n"
     ]
    }
   ],
   "source": [
    "print(pd.DataFrame({'col1': s1, 'col4': s4}))"
   ]
  },
  {
   "cell_type": "code",
   "execution_count": 36,
   "metadata": {},
   "outputs": [
    {
     "name": "stdout",
     "output_type": "stream",
     "text": [
      "     A    B    C    D\n",
      "0  0.0  1.0  2.0  NaN\n",
      "1  NaN  0.1  NaN  0.3\n"
     ]
    }
   ],
   "source": [
    "print(pd.DataFrame([s1, s4]))"
   ]
  },
  {
   "cell_type": "code",
   "execution_count": 37,
   "metadata": {},
   "outputs": [
    {
     "name": "stdout",
     "output_type": "stream",
     "text": [
      "     0    1\n",
      "A  0.0  NaN\n",
      "B  1.0  0.1\n",
      "C  2.0  NaN\n",
      "D  NaN  0.3\n"
     ]
    }
   ],
   "source": [
    "print(pd.concat([s1, s4], axis=1))"
   ]
  },
  {
   "cell_type": "code",
   "execution_count": 38,
   "metadata": {},
   "outputs": [
    {
     "name": "stdout",
     "output_type": "stream",
     "text": [
      "   0    1\n",
      "B  1  0.1\n"
     ]
    }
   ],
   "source": [
    "print(pd.concat([s1, s4], axis=1, join='inner'))"
   ]
  },
  {
   "cell_type": "code",
   "execution_count": 39,
   "metadata": {},
   "outputs": [
    {
     "name": "stdout",
     "output_type": "stream",
     "text": [
      "   col1  col4\n",
      "A     0   0.1\n",
      "B     1   0.3\n",
      "C     2   NaN\n"
     ]
    }
   ],
   "source": [
    "print(pd.DataFrame({'col1': s1, 'col4': s4.set_axis(['A', 'B'])}))"
   ]
  },
  {
   "cell_type": "code",
   "execution_count": 40,
   "metadata": {},
   "outputs": [],
   "source": [
    "# print(pd.DataFrame({'col1': s1.values, 'col4': s4.values}))\n",
    "# ValueError: All arrays must be of the same length"
   ]
  },
  {
   "cell_type": "code",
   "execution_count": 41,
   "metadata": {},
   "outputs": [
    {
     "name": "stdout",
     "output_type": "stream",
     "text": [
      "     0    1    2\n",
      "0  0.0  1.0  2.0\n",
      "1  0.1  0.3  NaN\n"
     ]
    }
   ],
   "source": [
    "print(pd.DataFrame([s1.values, s4.values]))"
   ]
  },
  {
   "cell_type": "code",
   "execution_count": 42,
   "metadata": {},
   "outputs": [],
   "source": [
    "s = pd.Series([0, 1], index=['A', 'B'])\n",
    "df = s.to_frame()"
   ]
  },
  {
   "cell_type": "code",
   "execution_count": 43,
   "metadata": {},
   "outputs": [
    {
     "name": "stdout",
     "output_type": "stream",
     "text": [
      "     0\n",
      "A  100\n",
      "B    1\n"
     ]
    }
   ],
   "source": [
    "s['A'] = 100\n",
    "print(df)"
   ]
  },
  {
   "cell_type": "code",
   "execution_count": 44,
   "metadata": {},
   "outputs": [],
   "source": [
    "s = pd.Series([0, 1], index=['A', 'B'])\n",
    "df_copy = s.copy().to_frame()"
   ]
  },
  {
   "cell_type": "code",
   "execution_count": 45,
   "metadata": {},
   "outputs": [
    {
     "name": "stdout",
     "output_type": "stream",
     "text": [
      "   0\n",
      "A  0\n",
      "B  1\n"
     ]
    }
   ],
   "source": [
    "s['A'] = 100\n",
    "print(df_copy)"
   ]
  },
  {
   "cell_type": "code",
   "execution_count": 46,
   "metadata": {},
   "outputs": [],
   "source": [
    "s = pd.Series([0, 1], index=['A', 'B'])\n",
    "df = pd.DataFrame(s)"
   ]
  },
  {
   "cell_type": "code",
   "execution_count": 47,
   "metadata": {},
   "outputs": [
    {
     "name": "stdout",
     "output_type": "stream",
     "text": [
      "     0\n",
      "A  100\n",
      "B    1\n"
     ]
    }
   ],
   "source": [
    "s['A'] = 100\n",
    "print(df)"
   ]
  },
  {
   "cell_type": "code",
   "execution_count": 48,
   "metadata": {},
   "outputs": [],
   "source": [
    "s = pd.Series([0, 1], index=['A', 'B'])\n",
    "df_copy = pd.DataFrame(s, copy=True)"
   ]
  },
  {
   "cell_type": "code",
   "execution_count": 49,
   "metadata": {},
   "outputs": [
    {
     "name": "stdout",
     "output_type": "stream",
     "text": [
      "   0\n",
      "A  0\n",
      "B  1\n"
     ]
    }
   ],
   "source": [
    "s['A'] = 100\n",
    "print(df_copy)"
   ]
  },
  {
   "cell_type": "code",
   "execution_count": 50,
   "metadata": {},
   "outputs": [],
   "source": [
    "s1 = pd.Series([0, 1], index=['A', 'B'])\n",
    "s2 = pd.Series([0.0, 0.1], index=['A', 'B'])\n",
    "df = pd.concat([s1, s2], axis=1)"
   ]
  },
  {
   "cell_type": "code",
   "execution_count": 51,
   "metadata": {},
   "outputs": [
    {
     "name": "stdout",
     "output_type": "stream",
     "text": [
      "   0    1\n",
      "A  0  0.0\n",
      "B  1  0.1\n"
     ]
    }
   ],
   "source": [
    "s1['A'] = 100\n",
    "print(df)"
   ]
  },
  {
   "cell_type": "code",
   "execution_count": 52,
   "metadata": {},
   "outputs": [],
   "source": [
    "s1 = pd.Series([0, 1], index=['A', 'B'])\n",
    "s2 = pd.Series([0.0, 0.1], index=['A', 'B'])\n",
    "df_copy_false = pd.concat([s1, s2], axis=1, copy=False)"
   ]
  },
  {
   "cell_type": "code",
   "execution_count": 53,
   "metadata": {},
   "outputs": [
    {
     "name": "stdout",
     "output_type": "stream",
     "text": [
      "     0    1\n",
      "A  100  0.0\n",
      "B    1  0.1\n"
     ]
    }
   ],
   "source": [
    "s1['A'] = 100\n",
    "print(df_copy_false)"
   ]
  }
 ],
 "metadata": {
  "kernelspec": {
   "display_name": "Python 3",
   "language": "python",
   "name": "python3"
  },
  "language_info": {
   "codemirror_mode": {
    "name": "ipython",
    "version": 3
   },
   "file_extension": ".py",
   "mimetype": "text/x-python",
   "name": "python",
   "nbconvert_exporter": "python",
   "pygments_lexer": "ipython3",
   "version": "3.11.6"
  }
 },
 "nbformat": 4,
 "nbformat_minor": 2
}
