{
 "cells": [
  {
   "cell_type": "code",
   "execution_count": 1,
   "id": "fc0843c4",
   "metadata": {},
   "outputs": [],
   "source": [
    "import numpy as np"
   ]
  },
  {
   "cell_type": "code",
   "execution_count": 2,
   "id": "26e3ea45",
   "metadata": {},
   "outputs": [
    {
     "name": "stdout",
     "output_type": "stream",
     "text": [
      "1.26.1\n"
     ]
    }
   ],
   "source": [
    "print(np.__version__)"
   ]
  },
  {
   "cell_type": "code",
   "execution_count": 3,
   "id": "afca5f61",
   "metadata": {},
   "outputs": [],
   "source": [
    "rng = np.random.default_rng(1234)"
   ]
  },
  {
   "cell_type": "code",
   "execution_count": 4,
   "id": "176bd19a",
   "metadata": {},
   "outputs": [
    {
     "name": "stdout",
     "output_type": "stream",
     "text": [
      "[[8 5 7]\n",
      " [4 4 3]]\n"
     ]
    }
   ],
   "source": [
    "print(rng.binomial(10, 0.5, (2, 3)))"
   ]
  },
  {
   "cell_type": "code",
   "execution_count": 5,
   "id": "ed43fada",
   "metadata": {},
   "outputs": [
    {
     "name": "stdout",
     "output_type": "stream",
     "text": [
      "[[0.56079809 0.22709038 0.6065771 ]\n",
      " [0.48528102 0.35352709 0.62742706]]\n"
     ]
    }
   ],
   "source": [
    "print(rng.beta(2, 2, (2, 3)))"
   ]
  },
  {
   "cell_type": "code",
   "execution_count": 6,
   "id": "24c5165d",
   "metadata": {},
   "outputs": [
    {
     "name": "stdout",
     "output_type": "stream",
     "text": [
      "[[3.34773947 8.17357458 3.7019044 ]\n",
      " [3.01764646 2.40737805 6.68809771]]\n"
     ]
    }
   ],
   "source": [
    "print(rng.gamma(5, 1, (2, 3)))"
   ]
  },
  {
   "cell_type": "code",
   "execution_count": 7,
   "id": "d23f1d8e",
   "metadata": {},
   "outputs": [
    {
     "name": "stdout",
     "output_type": "stream",
     "text": [
      "[[6 4 8]\n",
      " [2 5 2]]\n"
     ]
    }
   ],
   "source": [
    "print(rng.poisson(4, (2, 3)))"
   ]
  }
 ],
 "metadata": {
  "kernelspec": {
   "display_name": "Python 3",
   "language": "python",
   "name": "python3"
  },
  "language_info": {
   "codemirror_mode": {
    "name": "ipython",
    "version": 3
   },
   "file_extension": ".py",
   "mimetype": "text/x-python",
   "name": "python",
   "nbconvert_exporter": "python",
   "pygments_lexer": "ipython3",
   "version": "3.11.6"
  }
 },
 "nbformat": 4,
 "nbformat_minor": 5
}
