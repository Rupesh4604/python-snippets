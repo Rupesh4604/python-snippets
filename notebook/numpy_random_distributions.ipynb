{
 "cells": [
  {
   "cell_type": "code",
   "execution_count": 1,
   "id": "fc0843c4",
   "metadata": {},
   "outputs": [],
   "source": [
    "import numpy as np"
   ]
  },
  {
   "cell_type": "code",
   "execution_count": 2,
   "id": "26e3ea45",
   "metadata": {},
   "outputs": [
    {
     "name": "stdout",
     "output_type": "stream",
     "text": [
      "1.26.1\n"
     ]
    }
   ],
   "source": [
    "print(np.__version__)"
   ]
  },
  {
   "cell_type": "code",
   "execution_count": 3,
   "id": "afca5f61",
   "metadata": {},
   "outputs": [],
   "source": [
    "rng = np.random.default_rng()"
   ]
  },
  {
   "cell_type": "code",
   "execution_count": 4,
   "id": "176bd19a",
   "metadata": {},
   "outputs": [
    {
     "name": "stdout",
     "output_type": "stream",
     "text": [
      "[[3 7 5]\n",
      " [4 3 5]]\n"
     ]
    }
   ],
   "source": [
    "print(rng.binomial(10, 0.5, (2, 3)))"
   ]
  },
  {
   "cell_type": "code",
   "execution_count": 5,
   "id": "ed43fada",
   "metadata": {},
   "outputs": [
    {
     "name": "stdout",
     "output_type": "stream",
     "text": [
      "[[0.84643935 0.50674151 0.30812967]\n",
      " [0.52728096 0.76007311 0.26255972]]\n"
     ]
    }
   ],
   "source": [
    "print(rng.beta(2, 2, (2, 3)))"
   ]
  },
  {
   "cell_type": "code",
   "execution_count": 6,
   "id": "24c5165d",
   "metadata": {},
   "outputs": [
    {
     "name": "stdout",
     "output_type": "stream",
     "text": [
      "[[5.6484851  8.28210475 2.65957385]\n",
      " [2.00776839 6.65851101 7.77808412]]\n"
     ]
    }
   ],
   "source": [
    "print(rng.gamma(5, 1, (2, 3)))"
   ]
  },
  {
   "cell_type": "code",
   "execution_count": 7,
   "id": "d23f1d8e",
   "metadata": {},
   "outputs": [
    {
     "name": "stdout",
     "output_type": "stream",
     "text": [
      "[[1 6 3]\n",
      " [5 2 1]]\n"
     ]
    }
   ],
   "source": [
    "print(rng.poisson(4, (2, 3)))"
   ]
  }
 ],
 "metadata": {
  "kernelspec": {
   "display_name": "Python 3",
   "language": "python",
   "name": "python3"
  },
  "language_info": {
   "codemirror_mode": {
    "name": "ipython",
    "version": 3
   },
   "file_extension": ".py",
   "mimetype": "text/x-python",
   "name": "python",
   "nbconvert_exporter": "python",
   "pygments_lexer": "ipython3",
   "version": "3.11.6"
  }
 },
 "nbformat": 4,
 "nbformat_minor": 5
}
