{
 "cells": [
  {
   "cell_type": "code",
   "execution_count": 1,
   "id": "bb18605f",
   "metadata": {},
   "outputs": [],
   "source": [
    "import pandas as pd"
   ]
  },
  {
   "cell_type": "code",
   "execution_count": 2,
   "id": "d2d104d3",
   "metadata": {},
   "outputs": [
    {
     "name": "stdout",
     "output_type": "stream",
     "text": [
      "2.1.2\n"
     ]
    }
   ],
   "source": [
    "print(pd.__version__)"
   ]
  },
  {
   "cell_type": "code",
   "execution_count": 3,
   "id": "69a0d315",
   "metadata": {},
   "outputs": [
    {
     "name": "stdout",
     "output_type": "stream",
     "text": [
      "   0   1    2\n",
      "0  1  10  100\n",
      "1  2  20  200\n"
     ]
    }
   ],
   "source": [
    "df = pd.DataFrame([[1, 10, 100], [2, 20, 200]])\n",
    "print(df)"
   ]
  },
  {
   "cell_type": "code",
   "execution_count": 4,
   "id": "5300eac8",
   "metadata": {},
   "outputs": [
    {
     "name": "stdout",
     "output_type": "stream",
     "text": [
      "     0     1     2\n",
      "0  0x1   0xa  0x64\n",
      "1  0x2  0x14  0xc8\n"
     ]
    }
   ],
   "source": [
    "print(df.map(hex))"
   ]
  },
  {
   "cell_type": "code",
   "execution_count": 5,
   "id": "7b7bdffc",
   "metadata": {},
   "outputs": [
    {
     "name": "stdout",
     "output_type": "stream",
     "text": [
      "     0     1     2\n",
      "0  0x1   0xa  0x64\n",
      "1  0x2  0x14  0xc8\n"
     ]
    },
    {
     "name": "stderr",
     "output_type": "stream",
     "text": [
      "/var/folders/rf/b7l8_vgj5mdgvghn_326rn_c0000gn/T/ipykernel_36685/2076800564.py:1: FutureWarning: DataFrame.applymap has been deprecated. Use DataFrame.map instead.\n",
      "  print(df.applymap(hex))\n"
     ]
    }
   ],
   "source": [
    "print(df.applymap(hex))"
   ]
  },
  {
   "cell_type": "code",
   "execution_count": 6,
   "id": "6956bf5f",
   "metadata": {},
   "outputs": [
    {
     "name": "stdout",
     "output_type": "stream",
     "text": [
      "   0     1    2\n",
      "0  1   NaN  100\n",
      "1  2  20.0  200\n"
     ]
    }
   ],
   "source": [
    "df_nan = pd.DataFrame([[1, float('nan'), 100], [2, 20, 200]])\n",
    "print(df_nan)"
   ]
  },
  {
   "cell_type": "code",
   "execution_count": 7,
   "id": "f5da999c",
   "metadata": {},
   "outputs": [],
   "source": [
    "# print(df_nan.map(lambda x: hex(int(x))))\n",
    "# ValueError: cannot convert float NaN to integer"
   ]
  },
  {
   "cell_type": "code",
   "execution_count": 8,
   "id": "ac2d265a",
   "metadata": {},
   "outputs": [
    {
     "name": "stdout",
     "output_type": "stream",
     "text": [
      "     0     1     2\n",
      "0  0x1   NaN  0x64\n",
      "1  0x2  0x14  0xc8\n"
     ]
    }
   ],
   "source": [
    "print(df_nan.map(lambda x: hex(int(x)), na_action='ignore'))"
   ]
  },
  {
   "cell_type": "code",
   "execution_count": 9,
   "id": "a72c0b37",
   "metadata": {},
   "outputs": [
    {
     "name": "stdout",
     "output_type": "stream",
     "text": [
      "    0   1   2\n",
      "0   1   A   F\n",
      "1  11  AA  FF\n"
     ]
    }
   ],
   "source": [
    "df = pd.DataFrame([['1', 'A', 'F'], ['11', 'AA', 'FF']])\n",
    "print(df)"
   ]
  },
  {
   "cell_type": "code",
   "execution_count": 10,
   "id": "99830974",
   "metadata": {},
   "outputs": [
    {
     "name": "stdout",
     "output_type": "stream",
     "text": [
      "    0    1    2\n",
      "0   1   10   15\n",
      "1  17  170  255\n"
     ]
    }
   ],
   "source": [
    "print(df.map(int, base=16))"
   ]
  }
 ],
 "metadata": {
  "kernelspec": {
   "display_name": "Python 3",
   "language": "python",
   "name": "python3"
  },
  "language_info": {
   "codemirror_mode": {
    "name": "ipython",
    "version": 3
   },
   "file_extension": ".py",
   "mimetype": "text/x-python",
   "name": "python",
   "nbconvert_exporter": "python",
   "pygments_lexer": "ipython3",
   "version": "3.11.6"
  }
 },
 "nbformat": 4,
 "nbformat_minor": 5
}
