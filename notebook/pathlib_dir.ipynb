{
 "cells": [
  {
   "cell_type": "code",
   "execution_count": 1,
   "id": "04aad476",
   "metadata": {},
   "outputs": [],
   "source": [
    "from pathlib import Path"
   ]
  },
  {
   "cell_type": "code",
   "execution_count": 2,
   "id": "638bcca1",
   "metadata": {},
   "outputs": [
    {
     "name": "stdout",
     "output_type": "stream",
     "text": [
      "temp\n"
     ]
    }
   ],
   "source": [
    "p = Path('temp')\n",
    "print(p)"
   ]
  },
  {
   "cell_type": "code",
   "execution_count": 3,
   "id": "46c01802",
   "metadata": {},
   "outputs": [
    {
     "name": "stdout",
     "output_type": "stream",
     "text": [
      "<class 'pathlib.PosixPath'>\n"
     ]
    }
   ],
   "source": [
    "print(type(p))"
   ]
  },
  {
   "cell_type": "code",
   "execution_count": 4,
   "id": "5c3f1858",
   "metadata": {},
   "outputs": [
    {
     "name": "stdout",
     "output_type": "stream",
     "text": [
      "False\n"
     ]
    }
   ],
   "source": [
    "print(p.exists())"
   ]
  },
  {
   "cell_type": "code",
   "execution_count": 5,
   "id": "a59ea242",
   "metadata": {},
   "outputs": [],
   "source": [
    "p.mkdir()"
   ]
  },
  {
   "cell_type": "code",
   "execution_count": 6,
   "id": "9d90588a",
   "metadata": {},
   "outputs": [
    {
     "name": "stdout",
     "output_type": "stream",
     "text": [
      "True\n"
     ]
    }
   ],
   "source": [
    "print(p.exists())"
   ]
  },
  {
   "cell_type": "code",
   "execution_count": 7,
   "id": "33f74280",
   "metadata": {},
   "outputs": [
    {
     "name": "stdout",
     "output_type": "stream",
     "text": [
      "True\n"
     ]
    }
   ],
   "source": [
    "print(p.is_dir())"
   ]
  },
  {
   "cell_type": "code",
   "execution_count": 8,
   "id": "7468aac2",
   "metadata": {},
   "outputs": [],
   "source": [
    "Path('temp/dir').mkdir()"
   ]
  },
  {
   "cell_type": "code",
   "execution_count": 9,
   "id": "8e71fe91",
   "metadata": {},
   "outputs": [
    {
     "name": "stdout",
     "output_type": "stream",
     "text": [
      "True\n"
     ]
    }
   ],
   "source": [
    "print(Path('temp/dir').is_dir())"
   ]
  },
  {
   "cell_type": "code",
   "execution_count": 10,
   "id": "527c2628",
   "metadata": {},
   "outputs": [],
   "source": [
    "# Path('temp/dir/sub_dir/sub_dir2').mkdir()\n",
    "# FileNotFoundError: [Errno 2] No such file or directory: 'temp/dir/sub_dir/sub_dir2'"
   ]
  },
  {
   "cell_type": "code",
   "execution_count": 11,
   "id": "b8e9152a",
   "metadata": {},
   "outputs": [],
   "source": [
    "Path('temp/dir/sub_dir/sub_dir2').mkdir(parents=True)"
   ]
  },
  {
   "cell_type": "code",
   "execution_count": 12,
   "id": "2ab9b38d",
   "metadata": {},
   "outputs": [
    {
     "name": "stdout",
     "output_type": "stream",
     "text": [
      "True\n"
     ]
    }
   ],
   "source": [
    "print(Path('temp/dir/sub_dir/sub_dir2').is_dir())"
   ]
  },
  {
   "cell_type": "code",
   "execution_count": 13,
   "id": "ad9289e2",
   "metadata": {},
   "outputs": [],
   "source": [
    "# Path('temp/dir').mkdir()\n",
    "# FileExistsError: [Errno 17] File exists: 'temp/dir'"
   ]
  },
  {
   "cell_type": "code",
   "execution_count": 14,
   "id": "828a357e",
   "metadata": {},
   "outputs": [],
   "source": [
    "Path('temp/dir').mkdir(exist_ok=True)"
   ]
  },
  {
   "cell_type": "code",
   "execution_count": 15,
   "id": "0da727f7",
   "metadata": {},
   "outputs": [],
   "source": [
    "Path('temp/dir/file').touch()"
   ]
  },
  {
   "cell_type": "code",
   "execution_count": 16,
   "id": "52cf874c",
   "metadata": {},
   "outputs": [
    {
     "name": "stdout",
     "output_type": "stream",
     "text": [
      "True\n"
     ]
    }
   ],
   "source": [
    "print(Path('temp/dir/file').is_file())"
   ]
  },
  {
   "cell_type": "code",
   "execution_count": 17,
   "id": "f48a9321",
   "metadata": {},
   "outputs": [],
   "source": [
    "# Path('temp/dir/file').mkdir(exist_ok=True)\n",
    "# FileExistsError: [Errno 17] File exists: 'temp/dir/file'"
   ]
  },
  {
   "cell_type": "code",
   "execution_count": 18,
   "id": "88e1b8c9",
   "metadata": {},
   "outputs": [],
   "source": [
    "p_sub_dir = Path('temp/dir/sub_dir/sub_dir2')"
   ]
  },
  {
   "cell_type": "code",
   "execution_count": 19,
   "id": "7c547a23",
   "metadata": {},
   "outputs": [
    {
     "name": "stdout",
     "output_type": "stream",
     "text": [
      "True\n"
     ]
    }
   ],
   "source": [
    "print(p_sub_dir.is_dir())"
   ]
  },
  {
   "cell_type": "code",
   "execution_count": 20,
   "id": "9465eb73",
   "metadata": {},
   "outputs": [],
   "source": [
    "p_sub_dir.rmdir()"
   ]
  },
  {
   "cell_type": "code",
   "execution_count": 21,
   "id": "71a9c6b0",
   "metadata": {},
   "outputs": [
    {
     "name": "stdout",
     "output_type": "stream",
     "text": [
      "False\n"
     ]
    }
   ],
   "source": [
    "print(p_sub_dir.exists())"
   ]
  },
  {
   "cell_type": "code",
   "execution_count": 22,
   "id": "9579831a",
   "metadata": {},
   "outputs": [],
   "source": [
    "p = Path('temp')"
   ]
  },
  {
   "cell_type": "code",
   "execution_count": 23,
   "id": "3dc811c0",
   "metadata": {},
   "outputs": [],
   "source": [
    "# p.rmdir()\n",
    "# OSError: [Errno 66] Directory not empty: 'temp'"
   ]
  },
  {
   "cell_type": "code",
   "execution_count": 24,
   "id": "ff57c3f0",
   "metadata": {},
   "outputs": [],
   "source": [
    "import shutil"
   ]
  },
  {
   "cell_type": "code",
   "execution_count": 25,
   "id": "a19f5009",
   "metadata": {},
   "outputs": [],
   "source": [
    "shutil.rmtree(p)"
   ]
  },
  {
   "cell_type": "code",
   "execution_count": 26,
   "id": "560fd9c1",
   "metadata": {},
   "outputs": [
    {
     "name": "stdout",
     "output_type": "stream",
     "text": [
      "False\n"
     ]
    }
   ],
   "source": [
    "print(p.exists())"
   ]
  }
 ],
 "metadata": {
  "kernelspec": {
   "display_name": "Python 3",
   "language": "python",
   "name": "python3"
  },
  "language_info": {
   "codemirror_mode": {
    "name": "ipython",
    "version": 3
   },
   "file_extension": ".py",
   "mimetype": "text/x-python",
   "name": "python",
   "nbconvert_exporter": "python",
   "pygments_lexer": "ipython3",
   "version": "3.11.6"
  }
 },
 "nbformat": 4,
 "nbformat_minor": 5
}
