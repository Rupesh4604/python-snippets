{
 "cells": [
  {
   "cell_type": "code",
   "execution_count": 1,
   "metadata": {},
   "outputs": [],
   "source": [
    "import pandas as pd"
   ]
  },
  {
   "cell_type": "code",
   "execution_count": 2,
   "metadata": {},
   "outputs": [
    {
     "name": "stdout",
     "output_type": "stream",
     "text": [
      "2.0.3\n"
     ]
    }
   ],
   "source": [
    "print(pd.__version__)"
   ]
  },
  {
   "cell_type": "code",
   "execution_count": 3,
   "metadata": {},
   "outputs": [
    {
     "name": "stdout",
     "output_type": "stream",
     "text": [
      "      col_0 col_1 col_2 col_3\n",
      "row_0    00    01    02    03\n",
      "row_1    10    11    12    13\n",
      "row_2    20    21    22    23\n",
      "row_3    30    31    32    33\n",
      "row_4    40    41    42    43\n"
     ]
    }
   ],
   "source": [
    "df = pd.DataFrame({'col_0': ['00', '10', '20', '30', '40'],\n",
    "                   'col_1': ['01', '11', '21', '31', '41'],\n",
    "                   'col_2': ['02', '12', '22', '32', '42'],\n",
    "                   'col_3': ['03', '13', '23', '33', '43']},\n",
    "                  index=['row_0', 'row_1', 'row_2', 'row_3', 'row_4'])\n",
    "print(df)"
   ]
  },
  {
   "cell_type": "code",
   "execution_count": 4,
   "metadata": {},
   "outputs": [
    {
     "name": "stdout",
     "output_type": "stream",
     "text": [
      "12\n"
     ]
    }
   ],
   "source": [
    "print(df.at['row_1', 'col_2'])"
   ]
  },
  {
   "cell_type": "code",
   "execution_count": 5,
   "metadata": {},
   "outputs": [
    {
     "name": "stdout",
     "output_type": "stream",
     "text": [
      "0\n"
     ]
    }
   ],
   "source": [
    "df.at['row_1', 'col_2'] = '0'\n",
    "print(df.at['row_1', 'col_2'])"
   ]
  },
  {
   "cell_type": "code",
   "execution_count": 6,
   "metadata": {},
   "outputs": [
    {
     "name": "stdout",
     "output_type": "stream",
     "text": [
      "0\n"
     ]
    }
   ],
   "source": [
    "print(df.iat[1, 2])"
   ]
  },
  {
   "cell_type": "code",
   "execution_count": 7,
   "metadata": {},
   "outputs": [
    {
     "name": "stdout",
     "output_type": "stream",
     "text": [
      "12\n"
     ]
    }
   ],
   "source": [
    "df.iat[1, 2] = '12'\n",
    "print(df.iat[1, 2])"
   ]
  },
  {
   "cell_type": "code",
   "execution_count": 8,
   "metadata": {},
   "outputs": [
    {
     "name": "stdout",
     "output_type": "stream",
     "text": [
      "12\n"
     ]
    }
   ],
   "source": [
    "print(df.loc['row_1', 'col_2'])"
   ]
  },
  {
   "cell_type": "code",
   "execution_count": 9,
   "metadata": {},
   "outputs": [
    {
     "name": "stdout",
     "output_type": "stream",
     "text": [
      "12\n"
     ]
    }
   ],
   "source": [
    "print(df.iloc[1, 2])"
   ]
  },
  {
   "cell_type": "code",
   "execution_count": 10,
   "metadata": {},
   "outputs": [
    {
     "name": "stdout",
     "output_type": "stream",
     "text": [
      "0\n"
     ]
    }
   ],
   "source": [
    "df.loc['row_1', 'col_2'] = '0'\n",
    "print(df.loc['row_1', 'col_2'])"
   ]
  },
  {
   "cell_type": "code",
   "execution_count": 11,
   "metadata": {},
   "outputs": [
    {
     "name": "stdout",
     "output_type": "stream",
     "text": [
      "12\n"
     ]
    }
   ],
   "source": [
    "df.iloc[1, 2] = '12'\n",
    "print(df.iloc[1, 2])"
   ]
  },
  {
   "cell_type": "code",
   "execution_count": 12,
   "metadata": {},
   "outputs": [
    {
     "name": "stdout",
     "output_type": "stream",
     "text": [
      "      col_2 col_0\n",
      "row_1    12    10\n",
      "row_2    22    20\n",
      "row_3    32    30\n"
     ]
    }
   ],
   "source": [
    "print(df.loc['row_1':'row_3', ['col_2', 'col_0']])"
   ]
  },
  {
   "cell_type": "code",
   "execution_count": 13,
   "metadata": {},
   "outputs": [
    {
     "name": "stdout",
     "output_type": "stream",
     "text": [
      "      col_2 col_0\n",
      "row_1    12    10\n",
      "row_2    22    20\n"
     ]
    }
   ],
   "source": [
    "print(df.iloc[1:3, [2, 0]])"
   ]
  },
  {
   "cell_type": "code",
   "execution_count": 14,
   "metadata": {},
   "outputs": [
    {
     "name": "stdout",
     "output_type": "stream",
     "text": [
      "      col_0 col_3\n",
      "row_0    00    03\n",
      "row_2    20    23\n",
      "row_4    40    43\n"
     ]
    }
   ],
   "source": [
    "print(df.iloc[::2, [0, 3]])"
   ]
  },
  {
   "cell_type": "code",
   "execution_count": 15,
   "metadata": {},
   "outputs": [
    {
     "name": "stdout",
     "output_type": "stream",
     "text": [
      "      col_0 col_3\n",
      "row_1    10    13\n",
      "row_3    30    33\n"
     ]
    }
   ],
   "source": [
    "print(df.iloc[1::2, [0, 3]])"
   ]
  },
  {
   "cell_type": "code",
   "execution_count": 16,
   "metadata": {},
   "outputs": [
    {
     "name": "stdout",
     "output_type": "stream",
     "text": [
      "      col_0 col_1 col_2 col_3\n",
      "row_0    00    01    02    03\n",
      "row_1     0    11     0    13\n",
      "row_2     0    21     0    23\n",
      "row_3    30    31    32    33\n",
      "row_4    40    41    42    43\n"
     ]
    }
   ],
   "source": [
    "df.iloc[1:3, [2, 0]] = '0'\n",
    "print(df)"
   ]
  },
  {
   "cell_type": "code",
   "execution_count": 17,
   "metadata": {},
   "outputs": [
    {
     "name": "stdout",
     "output_type": "stream",
     "text": [
      "      col_0 col_1 col_2 col_3\n",
      "row_0    00    01    02    03\n",
      "row_1    10    11    12    13\n",
      "row_2    20    21    22    23\n",
      "row_3    30    31    32    33\n",
      "row_4    40    41    42    43\n"
     ]
    }
   ],
   "source": [
    "df.iloc[1:3, [2, 0]] = [['12', '10'], ['22', '20']]\n",
    "print(df)"
   ]
  },
  {
   "cell_type": "code",
   "execution_count": 18,
   "metadata": {},
   "outputs": [
    {
     "name": "stdout",
     "output_type": "stream",
     "text": [
      "col_0    10\n",
      "col_2    12\n",
      "Name: row_1, dtype: object\n",
      "<class 'pandas.core.series.Series'>\n"
     ]
    }
   ],
   "source": [
    "print(df.loc['row_1', ['col_0', 'col_2']])\n",
    "print(type(df.loc['row_1', ['col_0', 'col_2']]))"
   ]
  },
  {
   "cell_type": "code",
   "execution_count": 19,
   "metadata": {},
   "outputs": [
    {
     "name": "stdout",
     "output_type": "stream",
     "text": [
      "      col_0 col_2\n",
      "row_1    10    12\n",
      "<class 'pandas.core.frame.DataFrame'>\n"
     ]
    }
   ],
   "source": [
    "print(df.loc['row_1':'row_1', ['col_0', 'col_2']])\n",
    "print(type(df.loc['row_1':'row_1', ['col_0', 'col_2']]))"
   ]
  },
  {
   "cell_type": "code",
   "execution_count": 20,
   "metadata": {},
   "outputs": [
    {
     "name": "stdout",
     "output_type": "stream",
     "text": [
      "      col_0 col_2\n",
      "row_1    10    12\n",
      "<class 'pandas.core.frame.DataFrame'>\n"
     ]
    }
   ],
   "source": [
    "print(df.loc[['row_1'], ['col_0', 'col_2']])\n",
    "print(type(df.loc[['row_1'], ['col_0', 'col_2']]))"
   ]
  },
  {
   "cell_type": "code",
   "execution_count": 21,
   "metadata": {},
   "outputs": [
    {
     "name": "stdout",
     "output_type": "stream",
     "text": [
      "      col_0 col_1 col_2 col_3\n",
      "row_1    10    11    12    13\n",
      "row_2    20    21    22    23\n",
      "row_3    30    31    32    33\n"
     ]
    }
   ],
   "source": [
    "print(df['row_1':'row_3'])"
   ]
  },
  {
   "cell_type": "code",
   "execution_count": 22,
   "metadata": {},
   "outputs": [
    {
     "name": "stdout",
     "output_type": "stream",
     "text": [
      "      col_0 col_1 col_2 col_3\n",
      "row_1    10    11    12    13\n",
      "row_2    20    21    22    23\n"
     ]
    }
   ],
   "source": [
    "print(df[1:3])"
   ]
  },
  {
   "cell_type": "code",
   "execution_count": 23,
   "metadata": {},
   "outputs": [
    {
     "name": "stdout",
     "output_type": "stream",
     "text": [
      "row_0    01\n",
      "row_1    11\n",
      "row_2    21\n",
      "row_3    31\n",
      "row_4    41\n",
      "Name: col_1, dtype: object\n"
     ]
    }
   ],
   "source": [
    "print(df['col_1'])"
   ]
  },
  {
   "cell_type": "code",
   "execution_count": 24,
   "metadata": {},
   "outputs": [
    {
     "name": "stdout",
     "output_type": "stream",
     "text": [
      "      col_1 col_3\n",
      "row_0    01    03\n",
      "row_1    11    13\n",
      "row_2    21    23\n",
      "row_3    31    33\n",
      "row_4    41    43\n"
     ]
    }
   ],
   "source": [
    "print(df[['col_1', 'col_3']])"
   ]
  },
  {
   "cell_type": "code",
   "execution_count": 25,
   "metadata": {},
   "outputs": [
    {
     "name": "stdout",
     "output_type": "stream",
     "text": [
      "col_0    20\n",
      "col_1    21\n",
      "col_2    22\n",
      "col_3    23\n",
      "Name: row_2, dtype: object\n"
     ]
    }
   ],
   "source": [
    "print(df.loc['row_2'])"
   ]
  },
  {
   "cell_type": "code",
   "execution_count": 26,
   "metadata": {},
   "outputs": [
    {
     "name": "stdout",
     "output_type": "stream",
     "text": [
      "      col_0 col_1 col_2 col_3\n",
      "row_1    10    11    12    13\n",
      "row_3    30    31    32    33\n"
     ]
    }
   ],
   "source": [
    "print(df.iloc[[1, 3]])"
   ]
  },
  {
   "cell_type": "code",
   "execution_count": 27,
   "metadata": {},
   "outputs": [
    {
     "name": "stdout",
     "output_type": "stream",
     "text": [
      "      col_1 col_2 col_3\n",
      "row_0    01    02    03\n",
      "row_1    11    12    13\n",
      "row_2    21    22    23\n",
      "row_3    31    32    33\n",
      "row_4    41    42    43\n"
     ]
    }
   ],
   "source": [
    "print(df.loc[:, 'col_1':])"
   ]
  },
  {
   "cell_type": "code",
   "execution_count": 28,
   "metadata": {},
   "outputs": [
    {
     "name": "stdout",
     "output_type": "stream",
     "text": [
      "row_0    02\n",
      "row_1    12\n",
      "row_2    22\n",
      "row_3    32\n",
      "row_4    42\n",
      "Name: col_2, dtype: object\n"
     ]
    }
   ],
   "source": [
    "print(df.iloc[:, 2])"
   ]
  },
  {
   "cell_type": "code",
   "execution_count": 29,
   "metadata": {},
   "outputs": [
    {
     "name": "stdout",
     "output_type": "stream",
     "text": [
      "col_0    20\n",
      "col_1    21\n",
      "col_2    22\n",
      "col_3    23\n",
      "Name: row_2, dtype: object\n",
      "<class 'pandas.core.series.Series'>\n"
     ]
    }
   ],
   "source": [
    "print(df.loc['row_2'])\n",
    "print(type(df.loc['row_2']))"
   ]
  },
  {
   "cell_type": "code",
   "execution_count": 30,
   "metadata": {},
   "outputs": [
    {
     "name": "stdout",
     "output_type": "stream",
     "text": [
      "      col_0 col_1 col_2 col_3\n",
      "row_2    20    21    22    23\n",
      "<class 'pandas.core.frame.DataFrame'>\n"
     ]
    }
   ],
   "source": [
    "print(df.loc['row_2':'row_2'])\n",
    "print(type(df.loc['row_2':'row_2']))"
   ]
  },
  {
   "cell_type": "code",
   "execution_count": 31,
   "metadata": {},
   "outputs": [
    {
     "name": "stdout",
     "output_type": "stream",
     "text": [
      "      col_0 col_1 col_2 col_3\n",
      "row_2    20    21    22    23\n",
      "<class 'pandas.core.frame.DataFrame'>\n"
     ]
    }
   ],
   "source": [
    "print(df.loc[['row_2']])\n",
    "print(type(df.loc[['row_2']]))"
   ]
  },
  {
   "cell_type": "code",
   "execution_count": 32,
   "metadata": {},
   "outputs": [],
   "source": [
    "l_bool = [True, False, False, True, False]"
   ]
  },
  {
   "cell_type": "code",
   "execution_count": 33,
   "metadata": {},
   "outputs": [
    {
     "name": "stdout",
     "output_type": "stream",
     "text": [
      "      col_0 col_2\n",
      "row_0    00    02\n",
      "row_3    30    32\n"
     ]
    }
   ],
   "source": [
    "print(df.loc[l_bool, ['col_0', 'col_2']])"
   ]
  },
  {
   "cell_type": "code",
   "execution_count": 34,
   "metadata": {},
   "outputs": [
    {
     "name": "stdout",
     "output_type": "stream",
     "text": [
      "      col_0 col_2\n",
      "row_0    00    02\n",
      "row_3    30    32\n"
     ]
    }
   ],
   "source": [
    "print(df.iloc[l_bool, [0, 2]])"
   ]
  },
  {
   "cell_type": "code",
   "execution_count": 35,
   "metadata": {},
   "outputs": [],
   "source": [
    "l_bool_wrong = [True, False, False]"
   ]
  },
  {
   "cell_type": "code",
   "execution_count": 36,
   "metadata": {},
   "outputs": [],
   "source": [
    "# print(df.loc[l_bool_wrong, ['col_0', 'col_2']])\n",
    "# IndexError: Boolean index has wrong length: 3 instead of 5"
   ]
  },
  {
   "cell_type": "code",
   "execution_count": 37,
   "metadata": {},
   "outputs": [
    {
     "name": "stdout",
     "output_type": "stream",
     "text": [
      "row_4     True\n",
      "row_3    False\n",
      "row_2    False\n",
      "row_1     True\n",
      "row_0    False\n",
      "dtype: bool\n"
     ]
    }
   ],
   "source": [
    "s_bool = pd.Series([True, False, False, True, False], index=reversed(df.index))\n",
    "print(s_bool)"
   ]
  },
  {
   "cell_type": "code",
   "execution_count": 38,
   "metadata": {},
   "outputs": [
    {
     "name": "stdout",
     "output_type": "stream",
     "text": [
      "      col_0 col_2\n",
      "row_1    10    12\n",
      "row_4    40    42\n"
     ]
    }
   ],
   "source": [
    "print(df.loc[s_bool, ['col_0', 'col_2']])"
   ]
  },
  {
   "cell_type": "code",
   "execution_count": 39,
   "metadata": {},
   "outputs": [],
   "source": [
    "# print(df.iloc[s_bool, ['col_0', 'col_2']])\n",
    "# ValueError: Location based indexing can only have [integer, integer slice (START point is INCLUDED, END point is EXCLUDED), listlike of integers, boolean array] types"
   ]
  },
  {
   "cell_type": "code",
   "execution_count": 40,
   "metadata": {},
   "outputs": [],
   "source": [
    "s_bool_wrong = pd.Series([True, False, False], index=['row_0', 'row_1', 'row_2'])"
   ]
  },
  {
   "cell_type": "code",
   "execution_count": 41,
   "metadata": {},
   "outputs": [],
   "source": [
    "# print(df.loc[s_bool_wrong, ['col_0', 'col_2']])\n",
    "# IndexingError: Unalignable boolean Series provided as indexer (index of the boolean Series and of the indexed object do not match)."
   ]
  },
  {
   "cell_type": "code",
   "execution_count": 42,
   "metadata": {},
   "outputs": [],
   "source": [
    "s_bool_wrong = pd.Series([True, False, False, True, False],\n",
    "                         index=['row_0', 'row_1', 'row_2', 'row_3', 'XXX'])"
   ]
  },
  {
   "cell_type": "code",
   "execution_count": 43,
   "metadata": {},
   "outputs": [],
   "source": [
    "# print(df.loc[s_bool_wrong, ['col_0', 'col_2']])\n",
    "# IndexingError: Unalignable boolean Series provided as indexer (index of the boolean Series and of the indexed object do not match)."
   ]
  },
  {
   "cell_type": "code",
   "execution_count": 44,
   "metadata": {},
   "outputs": [
    {
     "name": "stdout",
     "output_type": "stream",
     "text": [
      "      col_0 col_1 col_1 col_3\n",
      "row_0    00    01    02    03\n",
      "row_1    10    11    12    13\n",
      "row_2    20    21    22    23\n",
      "row_2    30    31    32    33\n",
      "row_4    40    41    42    43\n"
     ]
    }
   ],
   "source": [
    "df_duplicated = df.rename(columns={'col_2': 'col_1'}, index={'row_3': 'row_2'})\n",
    "print(df_duplicated)"
   ]
  },
  {
   "cell_type": "code",
   "execution_count": 45,
   "metadata": {},
   "outputs": [
    {
     "name": "stdout",
     "output_type": "stream",
     "text": [
      "      col_1 col_1\n",
      "row_2    21    22\n",
      "row_2    31    32\n",
      "<class 'pandas.core.frame.DataFrame'>\n"
     ]
    }
   ],
   "source": [
    "print(df_duplicated.at['row_2', 'col_1'])\n",
    "print(type(df_duplicated.at['row_2', 'col_1']))"
   ]
  },
  {
   "cell_type": "code",
   "execution_count": 46,
   "metadata": {},
   "outputs": [
    {
     "name": "stdout",
     "output_type": "stream",
     "text": [
      "      col_1 col_1 col_3\n",
      "row_0    01    02    03\n",
      "row_1    11    12    13\n",
      "row_2    21    22    23\n",
      "row_2    31    32    33\n",
      "<class 'pandas.core.frame.DataFrame'>\n"
     ]
    }
   ],
   "source": [
    "print(df_duplicated.loc[:'row_2', ['col_1', 'col_3']])\n",
    "print(type(df_duplicated.loc[:'row_2', ['col_1', 'col_3']]))"
   ]
  },
  {
   "cell_type": "code",
   "execution_count": 47,
   "metadata": {},
   "outputs": [
    {
     "name": "stdout",
     "output_type": "stream",
     "text": [
      "21\n"
     ]
    }
   ],
   "source": [
    "print(df_duplicated.iat[2, 1])"
   ]
  },
  {
   "cell_type": "code",
   "execution_count": 48,
   "metadata": {},
   "outputs": [
    {
     "name": "stdout",
     "output_type": "stream",
     "text": [
      "      col_1 col_3\n",
      "row_0    01    03\n",
      "row_1    11    13\n"
     ]
    }
   ],
   "source": [
    "print(df_duplicated.iloc[:2, [1, 3]])"
   ]
  },
  {
   "cell_type": "code",
   "execution_count": 49,
   "metadata": {},
   "outputs": [
    {
     "name": "stdout",
     "output_type": "stream",
     "text": [
      "False\n"
     ]
    }
   ],
   "source": [
    "print(df_duplicated.index.is_unique)"
   ]
  },
  {
   "cell_type": "code",
   "execution_count": 50,
   "metadata": {},
   "outputs": [
    {
     "name": "stdout",
     "output_type": "stream",
     "text": [
      "False\n"
     ]
    }
   ],
   "source": [
    "print(df_duplicated.columns.is_unique)"
   ]
  },
  {
   "cell_type": "code",
   "execution_count": 51,
   "metadata": {},
   "outputs": [
    {
     "name": "stdout",
     "output_type": "stream",
     "text": [
      "row_2\n"
     ]
    }
   ],
   "source": [
    "print(df.index[2])"
   ]
  },
  {
   "cell_type": "code",
   "execution_count": 52,
   "metadata": {},
   "outputs": [
    {
     "name": "stdout",
     "output_type": "stream",
     "text": [
      "col_2\n"
     ]
    }
   ],
   "source": [
    "print(df.columns[2])"
   ]
  },
  {
   "cell_type": "code",
   "execution_count": 53,
   "metadata": {},
   "outputs": [
    {
     "name": "stdout",
     "output_type": "stream",
     "text": [
      "Index(['row_1', 'row_2', 'row_3'], dtype='object')\n"
     ]
    }
   ],
   "source": [
    "print(df.index[1:4])"
   ]
  },
  {
   "cell_type": "code",
   "execution_count": 54,
   "metadata": {},
   "outputs": [
    {
     "name": "stdout",
     "output_type": "stream",
     "text": [
      "Index(['col_1', 'col_3'], dtype='object')\n"
     ]
    }
   ],
   "source": [
    "print(df.columns[[1, 3]])"
   ]
  },
  {
   "cell_type": "code",
   "execution_count": 55,
   "metadata": {},
   "outputs": [
    {
     "name": "stdout",
     "output_type": "stream",
     "text": [
      "22\n"
     ]
    }
   ],
   "source": [
    "print(df.at[df.index[2], 'col_2'])"
   ]
  },
  {
   "cell_type": "code",
   "execution_count": 56,
   "metadata": {},
   "outputs": [
    {
     "name": "stdout",
     "output_type": "stream",
     "text": [
      "      col_1 col_3\n",
      "row_0    01    03\n",
      "row_3    31    33\n"
     ]
    }
   ],
   "source": [
    "print(df.loc[['row_0', 'row_3'], df.columns[[1, 3]]])"
   ]
  },
  {
   "cell_type": "code",
   "execution_count": 57,
   "metadata": {},
   "outputs": [
    {
     "name": "stdout",
     "output_type": "stream",
     "text": [
      "22\n"
     ]
    }
   ],
   "source": [
    "print(df['col_2'][2])"
   ]
  },
  {
   "cell_type": "code",
   "execution_count": 58,
   "metadata": {},
   "outputs": [
    {
     "name": "stdout",
     "output_type": "stream",
     "text": [
      "      col_1 col_3\n",
      "row_0    01    03\n",
      "row_3    31    33\n"
     ]
    }
   ],
   "source": [
    "print(df.loc[['row_0', 'row_3']].iloc[:, [1, 3]])"
   ]
  }
 ],
 "metadata": {
  "kernelspec": {
   "display_name": "Python 3",
   "language": "python",
   "name": "python3"
  },
  "language_info": {
   "codemirror_mode": {
    "name": "ipython",
    "version": 3
   },
   "file_extension": ".py",
   "mimetype": "text/x-python",
   "name": "python",
   "nbconvert_exporter": "python",
   "pygments_lexer": "ipython3",
   "version": "3.11.4"
  }
 },
 "nbformat": 4,
 "nbformat_minor": 2
}
