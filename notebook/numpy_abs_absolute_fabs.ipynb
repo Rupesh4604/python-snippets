{
 "cells": [
  {
   "cell_type": "code",
   "execution_count": 1,
   "id": "c69d3a96",
   "metadata": {},
   "outputs": [],
   "source": [
    "import numpy as np"
   ]
  },
  {
   "cell_type": "code",
   "execution_count": 2,
   "id": "f52104aa",
   "metadata": {},
   "outputs": [
    {
     "name": "stdout",
     "output_type": "stream",
     "text": [
      "1.26.2\n"
     ]
    }
   ],
   "source": [
    "print(np.__version__)"
   ]
  },
  {
   "cell_type": "code",
   "execution_count": 3,
   "id": "7d513fea",
   "metadata": {},
   "outputs": [
    {
     "name": "stdout",
     "output_type": "stream",
     "text": [
      "<ufunc 'absolute'>\n"
     ]
    }
   ],
   "source": [
    "print(np.abs)"
   ]
  },
  {
   "cell_type": "code",
   "execution_count": 4,
   "id": "edad3ad6",
   "metadata": {},
   "outputs": [
    {
     "name": "stdout",
     "output_type": "stream",
     "text": [
      "True\n"
     ]
    }
   ],
   "source": [
    "print(np.abs is np.absolute)"
   ]
  },
  {
   "cell_type": "code",
   "execution_count": 5,
   "id": "d81ff4ec",
   "metadata": {},
   "outputs": [],
   "source": [
    "a = np.array([-2, -1, 0, 1, 2])"
   ]
  },
  {
   "cell_type": "code",
   "execution_count": 6,
   "id": "edc6fdc6",
   "metadata": {},
   "outputs": [
    {
     "name": "stdout",
     "output_type": "stream",
     "text": [
      "[2 1 0 1 2]\n"
     ]
    }
   ],
   "source": [
    "print(np.abs(a))"
   ]
  },
  {
   "cell_type": "code",
   "execution_count": 7,
   "id": "955ffe44",
   "metadata": {},
   "outputs": [
    {
     "name": "stdout",
     "output_type": "stream",
     "text": [
      "<class 'numpy.ndarray'>\n"
     ]
    }
   ],
   "source": [
    "print(type(np.abs(a)))"
   ]
  },
  {
   "cell_type": "code",
   "execution_count": 8,
   "id": "eb2f4481",
   "metadata": {},
   "outputs": [],
   "source": [
    "l = [-2, -1, 0, 1, 2]"
   ]
  },
  {
   "cell_type": "code",
   "execution_count": 9,
   "id": "d8042a26",
   "metadata": {},
   "outputs": [
    {
     "name": "stdout",
     "output_type": "stream",
     "text": [
      "[2 1 0 1 2]\n"
     ]
    }
   ],
   "source": [
    "print(np.abs(l))"
   ]
  },
  {
   "cell_type": "code",
   "execution_count": 10,
   "id": "16a28bf1",
   "metadata": {},
   "outputs": [
    {
     "name": "stdout",
     "output_type": "stream",
     "text": [
      "<class 'numpy.ndarray'>\n"
     ]
    }
   ],
   "source": [
    "print(type(np.abs(l)))"
   ]
  },
  {
   "cell_type": "code",
   "execution_count": 11,
   "id": "7434c348",
   "metadata": {},
   "outputs": [
    {
     "name": "stdout",
     "output_type": "stream",
     "text": [
      "100\n"
     ]
    }
   ],
   "source": [
    "print(np.abs(-100))"
   ]
  },
  {
   "cell_type": "code",
   "execution_count": 12,
   "id": "34cd91ef",
   "metadata": {},
   "outputs": [
    {
     "name": "stdout",
     "output_type": "stream",
     "text": [
      "<class 'numpy.int64'>\n"
     ]
    }
   ],
   "source": [
    "print(type(np.abs(-100)))"
   ]
  },
  {
   "cell_type": "code",
   "execution_count": 13,
   "id": "96c3a74a",
   "metadata": {},
   "outputs": [],
   "source": [
    "a_int = np.array([-2, -1, 0, 1, 2])"
   ]
  },
  {
   "cell_type": "code",
   "execution_count": 14,
   "id": "17d0cc33",
   "metadata": {},
   "outputs": [
    {
     "name": "stdout",
     "output_type": "stream",
     "text": [
      "int64\n"
     ]
    }
   ],
   "source": [
    "print(a_int.dtype)"
   ]
  },
  {
   "cell_type": "code",
   "execution_count": 15,
   "id": "0b52d398",
   "metadata": {},
   "outputs": [
    {
     "name": "stdout",
     "output_type": "stream",
     "text": [
      "[2 1 0 1 2]\n"
     ]
    }
   ],
   "source": [
    "print(np.abs(a_int))"
   ]
  },
  {
   "cell_type": "code",
   "execution_count": 16,
   "id": "2a8bdfce",
   "metadata": {},
   "outputs": [
    {
     "name": "stdout",
     "output_type": "stream",
     "text": [
      "int64\n"
     ]
    }
   ],
   "source": [
    "print(np.abs(a_int).dtype)"
   ]
  },
  {
   "cell_type": "code",
   "execution_count": 17,
   "id": "f164f401",
   "metadata": {},
   "outputs": [],
   "source": [
    "a_float = np.array([-2.0, -1.0, 0, 1.0, 2.0])"
   ]
  },
  {
   "cell_type": "code",
   "execution_count": 18,
   "id": "58d20ae6",
   "metadata": {},
   "outputs": [
    {
     "name": "stdout",
     "output_type": "stream",
     "text": [
      "float64\n"
     ]
    }
   ],
   "source": [
    "print(a_float.dtype)"
   ]
  },
  {
   "cell_type": "code",
   "execution_count": 19,
   "id": "09b472bf",
   "metadata": {},
   "outputs": [
    {
     "name": "stdout",
     "output_type": "stream",
     "text": [
      "[2. 1. 0. 1. 2.]\n"
     ]
    }
   ],
   "source": [
    "print(np.abs(a_float))"
   ]
  },
  {
   "cell_type": "code",
   "execution_count": 20,
   "id": "80540e55",
   "metadata": {},
   "outputs": [
    {
     "name": "stdout",
     "output_type": "stream",
     "text": [
      "float64\n"
     ]
    }
   ],
   "source": [
    "print(np.abs(a_float).dtype)"
   ]
  },
  {
   "cell_type": "code",
   "execution_count": 21,
   "id": "ae4593a3",
   "metadata": {},
   "outputs": [],
   "source": [
    "a_complex = np.array([3 + 4j, 5 + 12j])"
   ]
  },
  {
   "cell_type": "code",
   "execution_count": 22,
   "id": "2d95f4a4",
   "metadata": {},
   "outputs": [
    {
     "name": "stdout",
     "output_type": "stream",
     "text": [
      "complex128\n"
     ]
    }
   ],
   "source": [
    "print(a_complex.dtype)"
   ]
  },
  {
   "cell_type": "code",
   "execution_count": 23,
   "id": "8ead8133",
   "metadata": {},
   "outputs": [
    {
     "name": "stdout",
     "output_type": "stream",
     "text": [
      "[ 5. 13.]\n"
     ]
    }
   ],
   "source": [
    "print(np.abs(a_complex))"
   ]
  },
  {
   "cell_type": "code",
   "execution_count": 24,
   "id": "2fda541c",
   "metadata": {},
   "outputs": [
    {
     "name": "stdout",
     "output_type": "stream",
     "text": [
      "float64\n"
     ]
    }
   ],
   "source": [
    "print(np.abs(a_complex).dtype)"
   ]
  },
  {
   "cell_type": "code",
   "execution_count": 25,
   "id": "cec01ad1",
   "metadata": {},
   "outputs": [],
   "source": [
    "a = np.array([-2, -1, 0, 1, 2])"
   ]
  },
  {
   "cell_type": "code",
   "execution_count": 26,
   "id": "4b2819d4",
   "metadata": {},
   "outputs": [
    {
     "name": "stdout",
     "output_type": "stream",
     "text": [
      "[2 1 0 1 2]\n"
     ]
    }
   ],
   "source": [
    "print(a.__abs__())"
   ]
  },
  {
   "cell_type": "code",
   "execution_count": 27,
   "id": "109103e6",
   "metadata": {},
   "outputs": [
    {
     "name": "stdout",
     "output_type": "stream",
     "text": [
      "[2 1 0 1 2]\n"
     ]
    }
   ],
   "source": [
    "print(abs(a))"
   ]
  },
  {
   "cell_type": "code",
   "execution_count": 28,
   "id": "be13eabd",
   "metadata": {},
   "outputs": [
    {
     "name": "stdout",
     "output_type": "stream",
     "text": [
      "<class 'numpy.ndarray'>\n"
     ]
    }
   ],
   "source": [
    "print(type(abs(a)))"
   ]
  },
  {
   "cell_type": "code",
   "execution_count": 29,
   "id": "b15068ca",
   "metadata": {},
   "outputs": [],
   "source": [
    "a_complex = np.array([3 + 4j, 5 + 12j])"
   ]
  },
  {
   "cell_type": "code",
   "execution_count": 30,
   "id": "357ae223",
   "metadata": {},
   "outputs": [
    {
     "name": "stdout",
     "output_type": "stream",
     "text": [
      "[ 5. 13.]\n"
     ]
    }
   ],
   "source": [
    "print(abs(a_complex))"
   ]
  },
  {
   "cell_type": "code",
   "execution_count": 31,
   "id": "1430852d",
   "metadata": {},
   "outputs": [],
   "source": [
    "a_int = np.array([-2, -1, 0, 1, 2])"
   ]
  },
  {
   "cell_type": "code",
   "execution_count": 32,
   "id": "a435c906",
   "metadata": {},
   "outputs": [
    {
     "name": "stdout",
     "output_type": "stream",
     "text": [
      "int64\n"
     ]
    }
   ],
   "source": [
    "print(a_int.dtype)"
   ]
  },
  {
   "cell_type": "code",
   "execution_count": 33,
   "id": "54e0bd94",
   "metadata": {},
   "outputs": [
    {
     "name": "stdout",
     "output_type": "stream",
     "text": [
      "[2. 1. 0. 1. 2.]\n"
     ]
    }
   ],
   "source": [
    "print(np.fabs(a_int))"
   ]
  },
  {
   "cell_type": "code",
   "execution_count": 34,
   "id": "a0604c98",
   "metadata": {},
   "outputs": [
    {
     "name": "stdout",
     "output_type": "stream",
     "text": [
      "float64\n"
     ]
    }
   ],
   "source": [
    "print(np.fabs(a_int).dtype)"
   ]
  },
  {
   "cell_type": "code",
   "execution_count": 35,
   "id": "070fc145",
   "metadata": {},
   "outputs": [],
   "source": [
    "a_complex = np.array([3 + 4j, 5 + 12j])"
   ]
  },
  {
   "cell_type": "code",
   "execution_count": 36,
   "id": "4994be49",
   "metadata": {},
   "outputs": [],
   "source": [
    "# print(np.fabs(a_complex))\n",
    "# TypeError: ufunc 'fabs' not supported for the input types, and the inputs could not be safely coerced to any supported types according to the casting rule ''safe''"
   ]
  }
 ],
 "metadata": {
  "kernelspec": {
   "display_name": "Python 3",
   "language": "python",
   "name": "python3"
  },
  "language_info": {
   "codemirror_mode": {
    "name": "ipython",
    "version": 3
   },
   "file_extension": ".py",
   "mimetype": "text/x-python",
   "name": "python",
   "nbconvert_exporter": "python",
   "pygments_lexer": "ipython3",
   "version": "3.11.6"
  }
 },
 "nbformat": 4,
 "nbformat_minor": 5
}
