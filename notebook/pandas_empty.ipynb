{
 "cells": [
  {
   "cell_type": "code",
   "execution_count": 1,
   "id": "c2deb0c1",
   "metadata": {},
   "outputs": [],
   "source": [
    "import pandas as pd"
   ]
  },
  {
   "cell_type": "code",
   "execution_count": 2,
   "id": "214480df",
   "metadata": {},
   "outputs": [
    {
     "name": "stdout",
     "output_type": "stream",
     "text": [
      "2.0.3\n"
     ]
    }
   ],
   "source": [
    "print(pd.__version__)"
   ]
  },
  {
   "cell_type": "code",
   "execution_count": 3,
   "id": "9b5ab6be",
   "metadata": {},
   "outputs": [
    {
     "name": "stdout",
     "output_type": "stream",
     "text": [
      "Empty DataFrame\n",
      "Columns: []\n",
      "Index: []\n"
     ]
    }
   ],
   "source": [
    "df_empty = pd.DataFrame()\n",
    "print(df_empty)"
   ]
  },
  {
   "cell_type": "code",
   "execution_count": 4,
   "id": "41342cc4",
   "metadata": {},
   "outputs": [
    {
     "name": "stdout",
     "output_type": "stream",
     "text": [
      "True\n"
     ]
    }
   ],
   "source": [
    "print(df_empty.empty)"
   ]
  },
  {
   "cell_type": "code",
   "execution_count": 5,
   "id": "1608b125",
   "metadata": {},
   "outputs": [
    {
     "name": "stdout",
     "output_type": "stream",
     "text": [
      "   A\n",
      "0  0\n",
      "1  1\n",
      "2  2\n"
     ]
    }
   ],
   "source": [
    "df_full = pd.DataFrame({'A': [0, 1, 2]})\n",
    "print(df_full)"
   ]
  },
  {
   "cell_type": "code",
   "execution_count": 6,
   "id": "2f9f0bd5",
   "metadata": {},
   "outputs": [
    {
     "name": "stdout",
     "output_type": "stream",
     "text": [
      "False\n"
     ]
    }
   ],
   "source": [
    "print(df_full.empty)"
   ]
  },
  {
   "cell_type": "code",
   "execution_count": 7,
   "id": "56e495f1",
   "metadata": {},
   "outputs": [
    {
     "name": "stdout",
     "output_type": "stream",
     "text": [
      "    A\n",
      "0 NaN\n",
      "1 NaN\n",
      "2 NaN\n"
     ]
    }
   ],
   "source": [
    "df_nan = pd.DataFrame({'A': [float('NaN'), float('NaN'), float('NaN')]})\n",
    "print(df_nan)"
   ]
  },
  {
   "cell_type": "code",
   "execution_count": 8,
   "id": "2d0c5147",
   "metadata": {},
   "outputs": [
    {
     "name": "stdout",
     "output_type": "stream",
     "text": [
      "False\n"
     ]
    }
   ],
   "source": [
    "print(df_nan.empty)"
   ]
  },
  {
   "cell_type": "code",
   "execution_count": 9,
   "id": "f3fe1e6f",
   "metadata": {},
   "outputs": [
    {
     "name": "stdout",
     "output_type": "stream",
     "text": [
      "Empty DataFrame\n",
      "Columns: [A]\n",
      "Index: []\n"
     ]
    }
   ],
   "source": [
    "print(df_nan.dropna())"
   ]
  },
  {
   "cell_type": "code",
   "execution_count": 10,
   "id": "8b67ac51",
   "metadata": {},
   "outputs": [
    {
     "name": "stdout",
     "output_type": "stream",
     "text": [
      "True\n"
     ]
    }
   ],
   "source": [
    "print(df_nan.dropna().empty)"
   ]
  },
  {
   "cell_type": "code",
   "execution_count": 11,
   "id": "d866ef3a",
   "metadata": {},
   "outputs": [
    {
     "name": "stdout",
     "output_type": "stream",
     "text": [
      "    A  B\n",
      "0 NaN  0\n",
      "1 NaN  1\n",
      "2 NaN  2\n"
     ]
    }
   ],
   "source": [
    "df_mix = pd.DataFrame({'A': [float('NaN'), float('NaN'), float('NaN')], 'B': [0, 1, 2]})\n",
    "print(df_mix)"
   ]
  },
  {
   "cell_type": "code",
   "execution_count": 12,
   "id": "c353bdf8",
   "metadata": {},
   "outputs": [
    {
     "name": "stdout",
     "output_type": "stream",
     "text": [
      "Empty DataFrame\n",
      "Columns: [A, B]\n",
      "Index: []\n"
     ]
    }
   ],
   "source": [
    "print(df_mix.dropna())"
   ]
  },
  {
   "cell_type": "code",
   "execution_count": 13,
   "id": "9257ffcb",
   "metadata": {},
   "outputs": [
    {
     "name": "stdout",
     "output_type": "stream",
     "text": [
      "    A  B\n",
      "0 NaN  0\n",
      "1 NaN  1\n",
      "2 NaN  2\n"
     ]
    }
   ],
   "source": [
    "print(df_mix.dropna(how='all'))"
   ]
  },
  {
   "cell_type": "code",
   "execution_count": 14,
   "id": "b2c7f2f7",
   "metadata": {},
   "outputs": [
    {
     "name": "stdout",
     "output_type": "stream",
     "text": [
      "Series([], dtype: object)\n"
     ]
    }
   ],
   "source": [
    "s_empty = pd.Series()\n",
    "print(s_empty)"
   ]
  },
  {
   "cell_type": "code",
   "execution_count": 15,
   "id": "55df025e",
   "metadata": {},
   "outputs": [
    {
     "name": "stdout",
     "output_type": "stream",
     "text": [
      "True\n"
     ]
    }
   ],
   "source": [
    "print(s_empty.empty)"
   ]
  },
  {
   "cell_type": "code",
   "execution_count": 16,
   "id": "5f6f7cb5",
   "metadata": {},
   "outputs": [
    {
     "name": "stdout",
     "output_type": "stream",
     "text": [
      "0    0\n",
      "1    1\n",
      "2    2\n",
      "dtype: int64\n"
     ]
    }
   ],
   "source": [
    "s_full = pd.Series([0, 1, 2])\n",
    "print(s_full)"
   ]
  },
  {
   "cell_type": "code",
   "execution_count": 17,
   "id": "f3550f87",
   "metadata": {},
   "outputs": [
    {
     "name": "stdout",
     "output_type": "stream",
     "text": [
      "False\n"
     ]
    }
   ],
   "source": [
    "print(s_full.empty)"
   ]
  },
  {
   "cell_type": "code",
   "execution_count": 18,
   "id": "15d0048b",
   "metadata": {},
   "outputs": [
    {
     "name": "stdout",
     "output_type": "stream",
     "text": [
      "0   NaN\n",
      "1   NaN\n",
      "2   NaN\n",
      "dtype: float64\n"
     ]
    }
   ],
   "source": [
    "s_nan = pd.Series([float('NaN'), float('NaN'), float('NaN')])\n",
    "print(s_nan)"
   ]
  },
  {
   "cell_type": "code",
   "execution_count": 19,
   "id": "f3098199",
   "metadata": {},
   "outputs": [
    {
     "name": "stdout",
     "output_type": "stream",
     "text": [
      "False\n"
     ]
    }
   ],
   "source": [
    "print(s_nan.empty)"
   ]
  },
  {
   "cell_type": "code",
   "execution_count": 20,
   "id": "55769857",
   "metadata": {},
   "outputs": [
    {
     "name": "stdout",
     "output_type": "stream",
     "text": [
      "Series([], dtype: float64)\n"
     ]
    }
   ],
   "source": [
    "print(s_nan.dropna())"
   ]
  },
  {
   "cell_type": "code",
   "execution_count": 21,
   "id": "f79e1ed8",
   "metadata": {},
   "outputs": [
    {
     "name": "stdout",
     "output_type": "stream",
     "text": [
      "True\n"
     ]
    }
   ],
   "source": [
    "print(s_nan.dropna().empty)"
   ]
  },
  {
   "cell_type": "code",
   "execution_count": 22,
   "id": "dc58f3b2",
   "metadata": {},
   "outputs": [],
   "source": [
    "l_empty = []"
   ]
  },
  {
   "cell_type": "code",
   "execution_count": 23,
   "id": "381f8b3c",
   "metadata": {},
   "outputs": [
    {
     "name": "stdout",
     "output_type": "stream",
     "text": [
      "False\n"
     ]
    }
   ],
   "source": [
    "print(bool(l_empty))"
   ]
  },
  {
   "cell_type": "code",
   "execution_count": 24,
   "id": "e1ce5992",
   "metadata": {},
   "outputs": [
    {
     "name": "stdout",
     "output_type": "stream",
     "text": [
      "Empty!\n"
     ]
    }
   ],
   "source": [
    "if not l_empty:\n",
    "    print('Empty!')"
   ]
  },
  {
   "cell_type": "code",
   "execution_count": 25,
   "id": "12759b64",
   "metadata": {},
   "outputs": [
    {
     "name": "stdout",
     "output_type": "stream",
     "text": [
      "Empty DataFrame\n",
      "Columns: []\n",
      "Index: []\n"
     ]
    }
   ],
   "source": [
    "df_empty = pd.DataFrame()\n",
    "print(df_empty)"
   ]
  },
  {
   "cell_type": "code",
   "execution_count": 26,
   "id": "6ba82783",
   "metadata": {},
   "outputs": [],
   "source": [
    "# print(bool(df_empty))\n",
    "# ValueError: The truth value of a DataFrame is ambiguous. Use a.empty, a.bool(), a.item(), a.any() or a.all()."
   ]
  },
  {
   "cell_type": "code",
   "execution_count": 27,
   "id": "80e9a1a3",
   "metadata": {},
   "outputs": [
    {
     "name": "stdout",
     "output_type": "stream",
     "text": [
      "True\n"
     ]
    }
   ],
   "source": [
    "print(df_empty.empty)"
   ]
  },
  {
   "cell_type": "code",
   "execution_count": 28,
   "id": "f39fd00b",
   "metadata": {},
   "outputs": [],
   "source": [
    "# if df_empty:\n",
    "#     print('Empty!')\n",
    "# ValueError: The truth value of a DataFrame is ambiguous. Use a.empty, a.bool(), a.item(), a.any() or a.all()."
   ]
  },
  {
   "cell_type": "code",
   "execution_count": 29,
   "id": "68f13f79",
   "metadata": {},
   "outputs": [
    {
     "name": "stdout",
     "output_type": "stream",
     "text": [
      "Empty!\n"
     ]
    }
   ],
   "source": [
    "if df_empty.empty:\n",
    "    print('Empty!')"
   ]
  },
  {
   "cell_type": "code",
   "execution_count": 30,
   "id": "84e2041f",
   "metadata": {},
   "outputs": [
    {
     "name": "stdout",
     "output_type": "stream",
     "text": [
      "   A    B\n",
      "0  0  aaa\n",
      "1  1  bbb\n",
      "2  2  ccc\n"
     ]
    }
   ],
   "source": [
    "df = pd.DataFrame({'A': [0, 1, 2], 'B': ['aaa', 'bbb', 'ccc']})\n",
    "print(df)"
   ]
  },
  {
   "cell_type": "code",
   "execution_count": 31,
   "id": "a75a027e",
   "metadata": {},
   "outputs": [
    {
     "name": "stdout",
     "output_type": "stream",
     "text": [
      "Empty DataFrame\n",
      "Columns: [A, B]\n",
      "Index: []\n"
     ]
    }
   ],
   "source": [
    "print(df[df['A'] < 0])"
   ]
  },
  {
   "cell_type": "code",
   "execution_count": 32,
   "id": "c964d336",
   "metadata": {},
   "outputs": [
    {
     "name": "stdout",
     "output_type": "stream",
     "text": [
      "True\n"
     ]
    }
   ],
   "source": [
    "print(df[df['A'] < 0].empty)"
   ]
  },
  {
   "cell_type": "code",
   "execution_count": 33,
   "id": "aafa1d8b",
   "metadata": {},
   "outputs": [
    {
     "name": "stdout",
     "output_type": "stream",
     "text": [
      "Empty DataFrame\n",
      "Columns: [A, B]\n",
      "Index: []\n"
     ]
    }
   ],
   "source": [
    "print(df.query('A < 0'))"
   ]
  },
  {
   "cell_type": "code",
   "execution_count": 34,
   "id": "a834aa1e",
   "metadata": {},
   "outputs": [
    {
     "name": "stdout",
     "output_type": "stream",
     "text": [
      "True\n"
     ]
    }
   ],
   "source": [
    "print(df.query('A < 0').empty)"
   ]
  }
 ],
 "metadata": {
  "kernelspec": {
   "display_name": "Python 3",
   "language": "python",
   "name": "python3"
  },
  "language_info": {
   "codemirror_mode": {
    "name": "ipython",
    "version": 3
   },
   "file_extension": ".py",
   "mimetype": "text/x-python",
   "name": "python",
   "nbconvert_exporter": "python",
   "pygments_lexer": "ipython3",
   "version": "3.11.4"
  }
 },
 "nbformat": 4,
 "nbformat_minor": 5
}
