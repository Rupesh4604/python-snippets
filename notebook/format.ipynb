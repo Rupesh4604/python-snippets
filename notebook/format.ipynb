{
 "cells": [
  {
   "cell_type": "code",
   "execution_count": 1,
   "metadata": {},
   "outputs": [],
   "source": [
    "i = 255"
   ]
  },
  {
   "cell_type": "code",
   "execution_count": 2,
   "metadata": {},
   "outputs": [
    {
     "name": "stdout",
     "output_type": "stream",
     "text": [
      "0xff\n",
      "<class 'str'>\n"
     ]
    }
   ],
   "source": [
    "print(format(i, '#04x'))\n",
    "print(type(format(i, '#04x')))"
   ]
  },
  {
   "cell_type": "code",
   "execution_count": 3,
   "metadata": {},
   "outputs": [],
   "source": [
    "s = 'abc'"
   ]
  },
  {
   "cell_type": "code",
   "execution_count": 4,
   "metadata": {},
   "outputs": [
    {
     "name": "stdout",
     "output_type": "stream",
     "text": [
      "***abc****\n"
     ]
    }
   ],
   "source": [
    "print(format(s, '*^10'))"
   ]
  },
  {
   "cell_type": "code",
   "execution_count": 5,
   "metadata": {},
   "outputs": [
    {
     "name": "stdout",
     "output_type": "stream",
     "text": [
      "0xff\n",
      "<class 'str'>\n"
     ]
    }
   ],
   "source": [
    "print('{:#04x}'.format(i))\n",
    "print(type('{:#04x}'.format(i)))"
   ]
  },
  {
   "cell_type": "code",
   "execution_count": 6,
   "metadata": {},
   "outputs": [
    {
     "name": "stdout",
     "output_type": "stream",
     "text": [
      "***abc****\n"
     ]
    }
   ],
   "source": [
    "print('{:*^10}'.format(s))"
   ]
  },
  {
   "cell_type": "code",
   "execution_count": 7,
   "metadata": {},
   "outputs": [
    {
     "name": "stdout",
     "output_type": "stream",
     "text": [
      "255-abc-1.23\n"
     ]
    }
   ],
   "source": [
    "print('{}-{}-{}'.format(255, 'abc', 1.23))"
   ]
  },
  {
   "cell_type": "code",
   "execution_count": 8,
   "metadata": {},
   "outputs": [
    {
     "name": "stdout",
     "output_type": "stream",
     "text": [
      "255-abc\n"
     ]
    }
   ],
   "source": [
    "print('{}-{}'.format(255, 'abc', 1.23))"
   ]
  },
  {
   "cell_type": "code",
   "execution_count": 9,
   "metadata": {},
   "outputs": [],
   "source": [
    "# print('{}-{}-{}-{}'.format(255, 'abc', 1.23))\n",
    "# IndexError: Replacement index 3 out of range for positional args tuple"
   ]
  },
  {
   "cell_type": "code",
   "execution_count": 10,
   "metadata": {},
   "outputs": [
    {
     "name": "stdout",
     "output_type": "stream",
     "text": [
      "255-abc-255\n"
     ]
    }
   ],
   "source": [
    "print('{0}-{1}-{0}'.format(255, 'abc'))"
   ]
  },
  {
   "cell_type": "code",
   "execution_count": 11,
   "metadata": {},
   "outputs": [
    {
     "name": "stdout",
     "output_type": "stream",
     "text": [
      "Alice is 20 years old.\n"
     ]
    }
   ],
   "source": [
    "print('{name} is {age} years old.'.format(name='Alice', age=20))"
   ]
  },
  {
   "cell_type": "code",
   "execution_count": 12,
   "metadata": {},
   "outputs": [
    {
     "name": "stdout",
     "output_type": "stream",
     "text": [
      "one-two-three\n"
     ]
    }
   ],
   "source": [
    "l = ['one', 'two', 'three']\n",
    "print('{0[0]}-{0[1]}-{0[2]}'.format(l))"
   ]
  },
  {
   "cell_type": "code",
   "execution_count": 13,
   "metadata": {},
   "outputs": [
    {
     "name": "stdout",
     "output_type": "stream",
     "text": [
      "Alice is 20 years old.\n",
      "Bob is 30 years old.\n"
     ]
    }
   ],
   "source": [
    "d1 = {'name': 'Alice', 'age': 20}\n",
    "d2 = {'name': 'Bob', 'age': 30}\n",
    "print('{0[name]} is {0[age]} years old.\\n{1[name]} is {1[age]} years old.'.format(d1, d2))"
   ]
  },
  {
   "cell_type": "code",
   "execution_count": 14,
   "metadata": {},
   "outputs": [
    {
     "name": "stdout",
     "output_type": "stream",
     "text": [
      "one-two-three\n"
     ]
    }
   ],
   "source": [
    "l = ['one', 'two', 'three']\n",
    "print('{}-{}-{}'.format(*l))"
   ]
  },
  {
   "cell_type": "code",
   "execution_count": 15,
   "metadata": {},
   "outputs": [
    {
     "name": "stdout",
     "output_type": "stream",
     "text": [
      "Alice is 20 years old.\n"
     ]
    }
   ],
   "source": [
    "d = {'name': 'Alice', 'age': 20}\n",
    "print('{name} is {age} years old.'.format(**d))"
   ]
  },
  {
   "cell_type": "code",
   "execution_count": 16,
   "metadata": {},
   "outputs": [
    {
     "name": "stdout",
     "output_type": "stream",
     "text": [
      "{}-100-{100}\n"
     ]
    }
   ],
   "source": [
    "print('{{}}-{num}-{{{num}}}'.format(num=100))"
   ]
  },
  {
   "cell_type": "code",
   "execution_count": 17,
   "metadata": {},
   "outputs": [
    {
     "name": "stdout",
     "output_type": "stream",
     "text": [
      "255 = 0xff = 0b11111111\n"
     ]
    }
   ],
   "source": [
    "print('{num} = {num:#x} = {num:#b}'.format(num=255))"
   ]
  },
  {
   "cell_type": "code",
   "execution_count": 18,
   "metadata": {},
   "outputs": [
    {
     "name": "stdout",
     "output_type": "stream",
     "text": [
      "left  : 100       \n",
      "center:    100    \n",
      "right :        100\n"
     ]
    }
   ],
   "source": [
    "print('left  : {:<10}'.format(100))\n",
    "print('center: {:^10}'.format(100))\n",
    "print('right : {:>10}'.format(100))"
   ]
  },
  {
   "cell_type": "code",
   "execution_count": 19,
   "metadata": {},
   "outputs": [
    {
     "name": "stdout",
     "output_type": "stream",
     "text": [
      "left  : 100*******\n",
      "center: ***100****\n",
      "right : *******100\n"
     ]
    }
   ],
   "source": [
    "print('left  : {:*<10}'.format(100))\n",
    "print('center: {:*^10}'.format(100))\n",
    "print('right : {:*>10}'.format(100))"
   ]
  },
  {
   "cell_type": "code",
   "execution_count": 20,
   "metadata": {},
   "outputs": [
    {
     "name": "stdout",
     "output_type": "stream",
     "text": [
      "sign: 000000-100\n",
      "sign: -000000100\n"
     ]
    }
   ],
   "source": [
    "print('sign: {:0>10}'.format(-100))\n",
    "print('sign: {:0=10}'.format(-100))"
   ]
  },
  {
   "cell_type": "code",
   "execution_count": 21,
   "metadata": {},
   "outputs": [],
   "source": [
    "# print('sign: {:0=10}'.format('-100'))\n",
    "# ValueError: '=' alignment not allowed in string format specifier"
   ]
  },
  {
   "cell_type": "code",
   "execution_count": 22,
   "metadata": {},
   "outputs": [
    {
     "name": "stdout",
     "output_type": "stream",
     "text": [
      "sign: -000000100\n"
     ]
    }
   ],
   "source": [
    "print('sign: {:0=10}'.format(int('-100')))"
   ]
  },
  {
   "cell_type": "code",
   "execution_count": 23,
   "metadata": {},
   "outputs": [
    {
     "name": "stdout",
     "output_type": "stream",
     "text": [
      "zero padding: 0000000100\n",
      "zero padding: 0000000100\n"
     ]
    }
   ],
   "source": [
    "print('zero padding: {:0=10}'.format(100))\n",
    "print('zero padding: {:010}'.format(100))"
   ]
  },
  {
   "cell_type": "code",
   "execution_count": 24,
   "metadata": {},
   "outputs": [
    {
     "name": "stdout",
     "output_type": "stream",
     "text": [
      "zero padding: -000000100\n",
      "zero padding: -000000100\n"
     ]
    }
   ],
   "source": [
    "print('zero padding: {:0=10}'.format(-100))\n",
    "print('zero padding: {:010}'.format(-100))"
   ]
  },
  {
   "cell_type": "code",
   "execution_count": 25,
   "metadata": {},
   "outputs": [],
   "source": [
    "# print('zero padding: {:010}'.format('-100'))\n",
    "# ValueError: '=' alignment not allowed in string format specifier"
   ]
  },
  {
   "cell_type": "code",
   "execution_count": 26,
   "metadata": {},
   "outputs": [
    {
     "name": "stdout",
     "output_type": "stream",
     "text": [
      "sign: 100\n",
      "sign: -100\n"
     ]
    }
   ],
   "source": [
    "print('sign: {}'.format(100))\n",
    "print('sign: {}'.format(-100))"
   ]
  },
  {
   "cell_type": "code",
   "execution_count": 27,
   "metadata": {},
   "outputs": [
    {
     "name": "stdout",
     "output_type": "stream",
     "text": [
      "sign: +100\n",
      "sign: -100\n"
     ]
    }
   ],
   "source": [
    "print('sign: {:+}'.format(100))\n",
    "print('sign: {:+}'.format(-100))"
   ]
  },
  {
   "cell_type": "code",
   "execution_count": 28,
   "metadata": {},
   "outputs": [
    {
     "name": "stdout",
     "output_type": "stream",
     "text": [
      "sign:  100\n",
      "sign: -100\n"
     ]
    }
   ],
   "source": [
    "print('sign: {: }'.format(100))\n",
    "print('sign: {: }'.format(-100))"
   ]
  },
  {
   "cell_type": "code",
   "execution_count": 29,
   "metadata": {},
   "outputs": [
    {
     "name": "stdout",
     "output_type": "stream",
     "text": [
      "sign: 000100\n",
      "sign: -00100\n"
     ]
    }
   ],
   "source": [
    "print('sign: {:06}'.format(100))\n",
    "print('sign: {:06}'.format(-100))"
   ]
  },
  {
   "cell_type": "code",
   "execution_count": 30,
   "metadata": {},
   "outputs": [
    {
     "name": "stdout",
     "output_type": "stream",
     "text": [
      "sign: +00100\n",
      "sign: -00100\n"
     ]
    }
   ],
   "source": [
    "print('sign: {:+06}'.format(100))\n",
    "print('sign: {:+06}'.format(-100))"
   ]
  },
  {
   "cell_type": "code",
   "execution_count": 31,
   "metadata": {},
   "outputs": [
    {
     "name": "stdout",
     "output_type": "stream",
     "text": [
      "sign:  00100\n",
      "sign: -00100\n"
     ]
    }
   ],
   "source": [
    "print('sign: {: 06}'.format(100))\n",
    "print('sign: {: 06}'.format(-100))"
   ]
  },
  {
   "cell_type": "code",
   "execution_count": 32,
   "metadata": {},
   "outputs": [
    {
     "name": "stdout",
     "output_type": "stream",
     "text": [
      "sign: ***100\n",
      "sign: **-100\n"
     ]
    }
   ],
   "source": [
    "print('sign: {:*>6}'.format(100))\n",
    "print('sign: {:*>6}'.format(-100))"
   ]
  },
  {
   "cell_type": "code",
   "execution_count": 33,
   "metadata": {},
   "outputs": [
    {
     "name": "stdout",
     "output_type": "stream",
     "text": [
      "sign: **+100\n",
      "sign: **-100\n"
     ]
    }
   ],
   "source": [
    "print('sign: {:*>+6}'.format(100))\n",
    "print('sign: {:*>+6}'.format(-100))"
   ]
  },
  {
   "cell_type": "code",
   "execution_count": 34,
   "metadata": {},
   "outputs": [
    {
     "name": "stdout",
     "output_type": "stream",
     "text": [
      "sign: ** 100\n",
      "sign: **-100\n"
     ]
    }
   ],
   "source": [
    "print('sign: {:*> 6}'.format(100))\n",
    "print('sign: {:*> 6}'.format(-100))"
   ]
  },
  {
   "cell_type": "code",
   "execution_count": 35,
   "metadata": {},
   "outputs": [
    {
     "name": "stdout",
     "output_type": "stream",
     "text": [
      "100,000,000\n",
      "100_000_000\n"
     ]
    }
   ],
   "source": [
    "print('{:,}'.format(100000000))\n",
    "print('{:_}'.format(100000000))"
   ]
  },
  {
   "cell_type": "code",
   "execution_count": 36,
   "metadata": {},
   "outputs": [
    {
     "name": "stdout",
     "output_type": "stream",
     "text": [
      "1,234.56789\n",
      "1_234.56789\n"
     ]
    }
   ],
   "source": [
    "print('{:,}'.format(1234.56789))\n",
    "print('{:_}'.format(1234.56789))"
   ]
  },
  {
   "cell_type": "code",
   "execution_count": 37,
   "metadata": {},
   "outputs": [
    {
     "name": "stdout",
     "output_type": "stream",
     "text": [
      "bin: 11111111\n",
      "oct: 377\n",
      "hex: ff\n",
      "HEX: FF\n"
     ]
    }
   ],
   "source": [
    "print('bin: {:b}'.format(255))\n",
    "print('oct: {:o}'.format(255))\n",
    "print('hex: {:x}'.format(255))\n",
    "print('HEX: {:X}'.format(255))"
   ]
  },
  {
   "cell_type": "code",
   "execution_count": 38,
   "metadata": {},
   "outputs": [
    {
     "name": "stdout",
     "output_type": "stream",
     "text": [
      "bin: 11111111\n",
      "oct: 00000377\n",
      "hex: 000000ff\n",
      "HEX: 000000FF\n"
     ]
    }
   ],
   "source": [
    "print('bin: {:08b}'.format(255))\n",
    "print('oct: {:08o}'.format(255))\n",
    "print('hex: {:08x}'.format(255))\n",
    "print('HEX: {:08X}'.format(255))"
   ]
  },
  {
   "cell_type": "code",
   "execution_count": 39,
   "metadata": {},
   "outputs": [
    {
     "name": "stdout",
     "output_type": "stream",
     "text": [
      "bin: 0b11111111\n",
      "oct: 0o377\n",
      "hex: 0xff\n",
      "HEX: 0XFF\n"
     ]
    }
   ],
   "source": [
    "print('bin: {:#b}'.format(255))\n",
    "print('oct: {:#o}'.format(255))\n",
    "print('hex: {:#x}'.format(255))\n",
    "print('HEX: {:#X}'.format(255))"
   ]
  },
  {
   "cell_type": "code",
   "execution_count": 40,
   "metadata": {},
   "outputs": [
    {
     "name": "stdout",
     "output_type": "stream",
     "text": [
      "bin: 0b11111111\n",
      "oct: 0o00000377\n",
      "hex: 0x000000ff\n",
      "HEX: 0X000000FF\n"
     ]
    }
   ],
   "source": [
    "print('bin: {:#010b}'.format(255))\n",
    "print('oct: {:#010o}'.format(255))\n",
    "print('hex: {:#010x}'.format(255))\n",
    "print('HEX: {:#010X}'.format(255))"
   ]
  },
  {
   "cell_type": "code",
   "execution_count": 41,
   "metadata": {},
   "outputs": [
    {
     "name": "stdout",
     "output_type": "stream",
     "text": [
      "hex: 000000ff\n",
      "hex: 0000_00ff\n",
      "hex: 0x0000_00ff\n"
     ]
    }
   ],
   "source": [
    "print('hex: {:08x}'.format(255))\n",
    "print('hex: {:09_x}'.format(255))\n",
    "print('hex: {:#011_x}'.format(255))"
   ]
  },
  {
   "cell_type": "code",
   "execution_count": 42,
   "metadata": {},
   "outputs": [],
   "source": [
    "# print('hex: {:08x}'.format('255'))\n",
    "# ValueError: Unknown format code 'X' for object of type 'str'"
   ]
  },
  {
   "cell_type": "code",
   "execution_count": 43,
   "metadata": {},
   "outputs": [
    {
     "name": "stdout",
     "output_type": "stream",
     "text": [
      "hex: 000000ff\n"
     ]
    }
   ],
   "source": [
    "print('hex: {:08x}'.format(int('255')))"
   ]
  },
  {
   "cell_type": "code",
   "execution_count": 44,
   "metadata": {},
   "outputs": [
    {
     "name": "stdout",
     "output_type": "stream",
     "text": [
      "1.234e-05\n",
      "1.234e+16\n",
      "0.000012\n",
      "12340000000000000.000000\n"
     ]
    }
   ],
   "source": [
    "print('{}'.format(0.00001234))\n",
    "print('{}'.format(12340000000000000.0))\n",
    "print('{:f}'.format(0.00001234))\n",
    "print('{:f}'.format(12340000000000000.0))"
   ]
  },
  {
   "cell_type": "code",
   "execution_count": 45,
   "metadata": {},
   "outputs": [
    {
     "name": "stdout",
     "output_type": "stream",
     "text": [
      "123.46\n",
      "123.45600\n",
      "0.000\n"
     ]
    }
   ],
   "source": [
    "print('{:.2f}'.format(123.456))\n",
    "print('{:.5f}'.format(123.456))\n",
    "print('{:.3f}'.format(0.0001234))"
   ]
  },
  {
   "cell_type": "code",
   "execution_count": 46,
   "metadata": {},
   "outputs": [
    {
     "name": "stdout",
     "output_type": "stream",
     "text": [
      "0\n",
      "0\n",
      "1\n"
     ]
    }
   ],
   "source": [
    "print('{:.0f}'.format(0.4))\n",
    "print('{:.0f}'.format(0.5))\n",
    "print('{:.0f}'.format(0.6))"
   ]
  },
  {
   "cell_type": "code",
   "execution_count": 47,
   "metadata": {},
   "outputs": [
    {
     "name": "stdout",
     "output_type": "stream",
     "text": [
      "inf\n",
      "INF\n"
     ]
    }
   ],
   "source": [
    "print('{:.5f}'.format(10e1000))\n",
    "print('{:.5F}'.format(10e1000))"
   ]
  },
  {
   "cell_type": "code",
   "execution_count": 48,
   "metadata": {},
   "outputs": [
    {
     "name": "stdout",
     "output_type": "stream",
     "text": [
      "1.234000e-04\n",
      "1.234000E-04\n"
     ]
    }
   ],
   "source": [
    "print('{:e}'.format(0.0001234))\n",
    "print('{:E}'.format(0.0001234))"
   ]
  },
  {
   "cell_type": "code",
   "execution_count": 49,
   "metadata": {},
   "outputs": [
    {
     "name": "stdout",
     "output_type": "stream",
     "text": [
      "1.23400e-04\n",
      "1.23e-04\n"
     ]
    }
   ],
   "source": [
    "print('{:.5e}'.format(0.0001234))\n",
    "print('{:.2e}'.format(0.0001234))"
   ]
  },
  {
   "cell_type": "code",
   "execution_count": 50,
   "metadata": {},
   "outputs": [
    {
     "name": "stdout",
     "output_type": "stream",
     "text": [
      "9.87650e+02\n",
      "9.88e+02\n"
     ]
    }
   ],
   "source": [
    "print('{:.5e}'.format(987.65))\n",
    "print('{:.2e}'.format(987.65))"
   ]
  },
  {
   "cell_type": "code",
   "execution_count": 51,
   "metadata": {},
   "outputs": [
    {
     "name": "stdout",
     "output_type": "stream",
     "text": [
      " 9.87650e+02\n",
      "00009.88e+02\n"
     ]
    }
   ],
   "source": [
    "print('{:>12.5e}'.format(987.65))\n",
    "print('{:012.2e}'.format(987.65))"
   ]
  },
  {
   "cell_type": "code",
   "execution_count": 52,
   "metadata": {},
   "outputs": [
    {
     "name": "stdout",
     "output_type": "stream",
     "text": [
      "0.0001234\n",
      "1.234e-05\n"
     ]
    }
   ],
   "source": [
    "print('{:g}'.format(0.0001234))\n",
    "print('{:g}'.format(0.00001234))"
   ]
  },
  {
   "cell_type": "code",
   "execution_count": 53,
   "metadata": {},
   "outputs": [
    {
     "name": "stdout",
     "output_type": "stream",
     "text": [
      "1.2e+02\n",
      "123\n",
      "123.456\n",
      "0.000123\n"
     ]
    }
   ],
   "source": [
    "print('{:.2g}'.format(123.456))\n",
    "print('{:.3g}'.format(123.456))\n",
    "print('{:.8g}'.format(123.456))\n",
    "print('{:.3g}'.format(0.0001234))"
   ]
  },
  {
   "cell_type": "code",
   "execution_count": 54,
   "metadata": {},
   "outputs": [
    {
     "name": "stdout",
     "output_type": "stream",
     "text": [
      "1.2e+02\n",
      "123.\n",
      "123.45600\n",
      "0.000123\n"
     ]
    }
   ],
   "source": [
    "print('{:#.2g}'.format(123.456))\n",
    "print('{:#.3g}'.format(123.456))\n",
    "print('{:#.8g}'.format(123.456))\n",
    "print('{:#.3g}'.format(0.0001234))"
   ]
  },
  {
   "cell_type": "code",
   "execution_count": 55,
   "metadata": {},
   "outputs": [
    {
     "name": "stdout",
     "output_type": "stream",
     "text": [
      "1.2e+02\n",
      "1.23e+02\n",
      "123.456\n",
      "0.000123\n"
     ]
    }
   ],
   "source": [
    "print('{:.2}'.format(123.456))\n",
    "print('{:.3}'.format(123.456))\n",
    "print('{:.8}'.format(123.456))\n",
    "print('{:.3}'.format(0.0001234))"
   ]
  },
  {
   "cell_type": "code",
   "execution_count": 56,
   "metadata": {},
   "outputs": [
    {
     "name": "stdout",
     "output_type": "stream",
     "text": [
      "1.2e+02\n",
      "1.23e+02\n",
      "123.45600\n",
      "0.000123\n"
     ]
    }
   ],
   "source": [
    "print('{:#.2}'.format(123.456))\n",
    "print('{:#.3}'.format(123.456))\n",
    "print('{:#.8}'.format(123.456))\n",
    "print('{:#.3}'.format(0.0001234))"
   ]
  },
  {
   "cell_type": "code",
   "execution_count": 57,
   "metadata": {},
   "outputs": [
    {
     "name": "stdout",
     "output_type": "stream",
     "text": [
      "123.456\n",
      "1.235e+02\n",
      "123\n",
      "1.23e+02\n"
     ]
    }
   ],
   "source": [
    "print('{:.3f}'.format(123.456))\n",
    "print('{:.3e}'.format(123.456))\n",
    "print('{:.3g}'.format(123.456))\n",
    "print('{:.3}'.format(123.456))"
   ]
  },
  {
   "cell_type": "code",
   "execution_count": 58,
   "metadata": {},
   "outputs": [
    {
     "name": "stdout",
     "output_type": "stream",
     "text": [
      "123.45600000\n",
      "1.23456000e+02\n",
      "123.456\n",
      "123.456\n"
     ]
    }
   ],
   "source": [
    "print('{:.8f}'.format(123.456))\n",
    "print('{:.8e}'.format(123.456))\n",
    "print('{:.8g}'.format(123.456))\n",
    "print('{:.8}'.format(123.456))"
   ]
  },
  {
   "cell_type": "code",
   "execution_count": 59,
   "metadata": {},
   "outputs": [
    {
     "name": "stdout",
     "output_type": "stream",
     "text": [
      "1.2346e+02\n",
      "1.2345e-05\n",
      "1.2000e+01\n"
     ]
    }
   ],
   "source": [
    "print('{:.4e}'.format(123.456))\n",
    "print('{:.4e}'.format(0.000012345))\n",
    "print('{:.4e}'.format(12))"
   ]
  },
  {
   "cell_type": "code",
   "execution_count": 60,
   "metadata": {},
   "outputs": [
    {
     "name": "stdout",
     "output_type": "stream",
     "text": [
      "1.2e+02\n",
      "inf\n",
      "1.2E+02\n",
      "INF\n"
     ]
    }
   ],
   "source": [
    "print('{:.2g}'.format(123.456))\n",
    "print('{:.2g}'.format(10e1000))\n",
    "print('{:.2G}'.format(123.456))\n",
    "print('{:.2G}'.format(10e1000))"
   ]
  },
  {
   "cell_type": "code",
   "execution_count": 61,
   "metadata": {},
   "outputs": [
    {
     "name": "stdout",
     "output_type": "stream",
     "text": [
      "12.345000%\n",
      "12.35%\n"
     ]
    }
   ],
   "source": [
    "print('{:%}'.format(0.12345))\n",
    "print('{:.2%}'.format(0.12345))"
   ]
  },
  {
   "cell_type": "code",
   "execution_count": 62,
   "metadata": {},
   "outputs": [
    {
     "name": "stdout",
     "output_type": "stream",
     "text": [
      "1000.000000%\n",
      "1000.00%\n"
     ]
    }
   ],
   "source": [
    "print('{:%}'.format(10))\n",
    "print('{:.2%}'.format(10))"
   ]
  },
  {
   "cell_type": "code",
   "execution_count": 63,
   "metadata": {},
   "outputs": [
    {
     "name": "stdout",
     "output_type": "stream",
     "text": [
      "    12.35%\n",
      "000012.35%\n"
     ]
    }
   ],
   "source": [
    "print('{:>10.2%}'.format(0.12345))\n",
    "print('{:010.2%}'.format(0.12345))"
   ]
  },
  {
   "cell_type": "code",
   "execution_count": 64,
   "metadata": {},
   "outputs": [],
   "source": [
    "import datetime"
   ]
  },
  {
   "cell_type": "code",
   "execution_count": 65,
   "metadata": {},
   "outputs": [],
   "source": [
    "dt = datetime.datetime(2020, 1, 5, 20, 15, 30)"
   ]
  },
  {
   "cell_type": "code",
   "execution_count": 66,
   "metadata": {},
   "outputs": [
    {
     "name": "stdout",
     "output_type": "stream",
     "text": [
      "datetime: 2020-01-05 20:15:30\n"
     ]
    }
   ],
   "source": [
    "print('datetime: {}'.format(dt))"
   ]
  },
  {
   "cell_type": "code",
   "execution_count": 67,
   "metadata": {},
   "outputs": [
    {
     "name": "stdout",
     "output_type": "stream",
     "text": [
      "datetime: Sunday, 01/05/2020 08:15:30 PM\n"
     ]
    }
   ],
   "source": [
    "print('datetime: {:%A, %m/%d/%Y %I:%M:%S %p}'.format(dt))"
   ]
  },
  {
   "cell_type": "code",
   "execution_count": 68,
   "metadata": {},
   "outputs": [
    {
     "name": "stdout",
     "output_type": "stream",
     "text": [
      "datetime: 2020-01-05T20:15:30\n"
     ]
    }
   ],
   "source": [
    "print('datetime: {}'.format(dt.isoformat()))"
   ]
  }
 ],
 "metadata": {
  "kernelspec": {
   "display_name": "Python 3",
   "language": "python",
   "name": "python3"
  },
  "language_info": {
   "codemirror_mode": {
    "name": "ipython",
    "version": 3
   },
   "file_extension": ".py",
   "mimetype": "text/x-python",
   "name": "python",
   "nbconvert_exporter": "python",
   "pygments_lexer": "ipython3",
   "version": "3.10.8"
  }
 },
 "nbformat": 4,
 "nbformat_minor": 2
}
