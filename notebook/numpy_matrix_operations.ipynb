{
 "cells": [
  {
   "cell_type": "code",
   "execution_count": 1,
   "id": "6790e5c0",
   "metadata": {},
   "outputs": [],
   "source": [
    "import numpy as np"
   ]
  },
  {
   "cell_type": "code",
   "execution_count": 2,
   "id": "b3c51b0c",
   "metadata": {},
   "outputs": [
    {
     "name": "stdout",
     "output_type": "stream",
     "text": [
      "1.26.2\n"
     ]
    }
   ],
   "source": [
    "print(np.__version__)"
   ]
  },
  {
   "cell_type": "code",
   "execution_count": 3,
   "id": "14256d67",
   "metadata": {},
   "outputs": [
    {
     "name": "stdout",
     "output_type": "stream",
     "text": [
      "[[0 1 2]\n",
      " [3 4 5]]\n"
     ]
    }
   ],
   "source": [
    "a = np.array([[0, 1, 2], [3, 4, 5]])\n",
    "print(a)"
   ]
  },
  {
   "cell_type": "code",
   "execution_count": 4,
   "id": "fe603575",
   "metadata": {},
   "outputs": [
    {
     "name": "stdout",
     "output_type": "stream",
     "text": [
      "<class 'numpy.ndarray'>\n"
     ]
    }
   ],
   "source": [
    "print(type(a))"
   ]
  },
  {
   "cell_type": "code",
   "execution_count": 5,
   "id": "8129fa8d",
   "metadata": {},
   "outputs": [
    {
     "name": "stdout",
     "output_type": "stream",
     "text": [
      "[[0 1 2]\n",
      " [3 4 5]]\n"
     ]
    }
   ],
   "source": [
    "print(np.arange(6).reshape(2, 3))"
   ]
  },
  {
   "cell_type": "code",
   "execution_count": 6,
   "id": "bf5a417f",
   "metadata": {},
   "outputs": [
    {
     "name": "stdout",
     "output_type": "stream",
     "text": [
      "[[0 1 2]\n",
      " [3 4 5]]\n"
     ]
    }
   ],
   "source": [
    "a = np.array([[0, 1, 2], [3, 4, 5]])\n",
    "print(a)"
   ]
  },
  {
   "cell_type": "code",
   "execution_count": 7,
   "id": "a10de337",
   "metadata": {},
   "outputs": [
    {
     "name": "stdout",
     "output_type": "stream",
     "text": [
      "1\n"
     ]
    }
   ],
   "source": [
    "print(a[0, 1])"
   ]
  },
  {
   "cell_type": "code",
   "execution_count": 8,
   "id": "aab83ffb",
   "metadata": {},
   "outputs": [
    {
     "name": "stdout",
     "output_type": "stream",
     "text": [
      "[[  0 100   2]\n",
      " [  3   4   5]]\n"
     ]
    }
   ],
   "source": [
    "a[0, 1] = 100\n",
    "print(a)"
   ]
  },
  {
   "cell_type": "code",
   "execution_count": 9,
   "id": "3a20a476",
   "metadata": {},
   "outputs": [
    {
     "name": "stdout",
     "output_type": "stream",
     "text": [
      "[[100   2]\n",
      " [  4   5]]\n"
     ]
    }
   ],
   "source": [
    "print(a[:, 1:])"
   ]
  },
  {
   "cell_type": "code",
   "execution_count": 10,
   "id": "33aa0b5a",
   "metadata": {},
   "outputs": [
    {
     "name": "stdout",
     "output_type": "stream",
     "text": [
      "[[0 1 2]\n",
      " [3 4 5]]\n"
     ]
    }
   ],
   "source": [
    "a1 = np.arange(6).reshape(2, 3)\n",
    "print(a1)"
   ]
  },
  {
   "cell_type": "code",
   "execution_count": 11,
   "id": "c245f769",
   "metadata": {},
   "outputs": [
    {
     "name": "stdout",
     "output_type": "stream",
     "text": [
      "[[ 6  8 10]\n",
      " [12 14 16]]\n"
     ]
    }
   ],
   "source": [
    "a2 = np.arange(6, 18, 2).reshape(2, 3)\n",
    "print(a2)"
   ]
  },
  {
   "cell_type": "code",
   "execution_count": 12,
   "id": "2c184f52",
   "metadata": {},
   "outputs": [
    {
     "name": "stdout",
     "output_type": "stream",
     "text": [
      "[[ 6  9 12]\n",
      " [15 18 21]]\n"
     ]
    }
   ],
   "source": [
    "print(a1 + a2)"
   ]
  },
  {
   "cell_type": "code",
   "execution_count": 13,
   "id": "bd80727c",
   "metadata": {},
   "outputs": [
    {
     "name": "stdout",
     "output_type": "stream",
     "text": [
      "[[ -6  -7  -8]\n",
      " [ -9 -10 -11]]\n"
     ]
    }
   ],
   "source": [
    "print(a1 - a2)"
   ]
  },
  {
   "cell_type": "code",
   "execution_count": 14,
   "id": "fe9b0b6e",
   "metadata": {},
   "outputs": [
    {
     "name": "stdout",
     "output_type": "stream",
     "text": [
      "[[ 0  8 20]\n",
      " [36 56 80]]\n"
     ]
    }
   ],
   "source": [
    "print(a1 * a2)"
   ]
  },
  {
   "cell_type": "code",
   "execution_count": 15,
   "id": "5bf444cc",
   "metadata": {},
   "outputs": [
    {
     "name": "stdout",
     "output_type": "stream",
     "text": [
      "[[0.         0.125      0.2       ]\n",
      " [0.25       0.28571429 0.3125    ]]\n"
     ]
    }
   ],
   "source": [
    "print(a1 / a2)"
   ]
  },
  {
   "cell_type": "code",
   "execution_count": 16,
   "id": "e11b8ddd",
   "metadata": {},
   "outputs": [
    {
     "name": "stdout",
     "output_type": "stream",
     "text": [
      "[[           0            1         1024]\n",
      " [      531441    268435456 152587890625]]\n"
     ]
    }
   ],
   "source": [
    "print(a1**a2)"
   ]
  },
  {
   "cell_type": "code",
   "execution_count": 17,
   "id": "21fbba63",
   "metadata": {},
   "outputs": [
    {
     "name": "stdout",
     "output_type": "stream",
     "text": [
      "[[  0 100 200]\n",
      " [300 400 500]]\n"
     ]
    }
   ],
   "source": [
    "print(a1 * 100)"
   ]
  },
  {
   "cell_type": "code",
   "execution_count": 18,
   "id": "91ba1efd",
   "metadata": {},
   "outputs": [
    {
     "name": "stdout",
     "output_type": "stream",
     "text": [
      "[[   0  100 2000]\n",
      " [  30  400 5000]]\n"
     ]
    }
   ],
   "source": [
    "print(a1 * [10, 100, 1000])"
   ]
  },
  {
   "cell_type": "code",
   "execution_count": 19,
   "id": "2555ae75",
   "metadata": {},
   "outputs": [],
   "source": [
    "# print(a2 ** -1)\n",
    "# ValueError: Integers to negative integer powers are not allowed."
   ]
  },
  {
   "cell_type": "code",
   "execution_count": 20,
   "id": "a79c7c78",
   "metadata": {},
   "outputs": [
    {
     "name": "stdout",
     "output_type": "stream",
     "text": [
      "[[0.16666667 0.125      0.1       ]\n",
      " [0.08333333 0.07142857 0.0625    ]]\n"
     ]
    }
   ],
   "source": [
    "print(a2.astype(float) ** -1)"
   ]
  },
  {
   "cell_type": "code",
   "execution_count": 21,
   "id": "4b751a21",
   "metadata": {},
   "outputs": [
    {
     "name": "stdout",
     "output_type": "stream",
     "text": [
      "[[ 0  8 20]\n",
      " [36 56 80]]\n"
     ]
    }
   ],
   "source": [
    "print(np.multiply(a1, a2))"
   ]
  },
  {
   "cell_type": "code",
   "execution_count": 22,
   "id": "08431ef8",
   "metadata": {},
   "outputs": [
    {
     "name": "stdout",
     "output_type": "stream",
     "text": [
      "[[0 1]\n",
      " [2 3]]\n"
     ]
    }
   ],
   "source": [
    "a1 = np.arange(4).reshape((2, 2))\n",
    "print(a1)"
   ]
  },
  {
   "cell_type": "code",
   "execution_count": 23,
   "id": "b19ba151",
   "metadata": {},
   "outputs": [
    {
     "name": "stdout",
     "output_type": "stream",
     "text": [
      "[[0 1 2]\n",
      " [3 4 5]]\n"
     ]
    }
   ],
   "source": [
    "a2 = np.arange(6).reshape((2, 3))\n",
    "print(a2)"
   ]
  },
  {
   "cell_type": "code",
   "execution_count": 24,
   "id": "a683bafb",
   "metadata": {},
   "outputs": [
    {
     "name": "stdout",
     "output_type": "stream",
     "text": [
      "[[ 3  4  5]\n",
      " [ 9 14 19]]\n"
     ]
    }
   ],
   "source": [
    "print(a1 @ a2)"
   ]
  },
  {
   "cell_type": "code",
   "execution_count": 25,
   "id": "ea395b14",
   "metadata": {},
   "outputs": [
    {
     "name": "stdout",
     "output_type": "stream",
     "text": [
      "[[ 3  4  5]\n",
      " [ 9 14 19]]\n"
     ]
    }
   ],
   "source": [
    "print(np.matmul(a1, a2))"
   ]
  },
  {
   "cell_type": "code",
   "execution_count": 26,
   "id": "229a6a38",
   "metadata": {},
   "outputs": [
    {
     "name": "stdout",
     "output_type": "stream",
     "text": [
      "[[ 3  4  5]\n",
      " [ 9 14 19]]\n"
     ]
    }
   ],
   "source": [
    "print(np.dot(a1, a2))"
   ]
  },
  {
   "cell_type": "code",
   "execution_count": 27,
   "id": "336d6290",
   "metadata": {},
   "outputs": [
    {
     "name": "stdout",
     "output_type": "stream",
     "text": [
      "[[ 3  4  5]\n",
      " [ 9 14 19]]\n"
     ]
    }
   ],
   "source": [
    "print(a1.dot(a2))"
   ]
  },
  {
   "cell_type": "code",
   "execution_count": 28,
   "id": "b20947f1",
   "metadata": {},
   "outputs": [
    {
     "name": "stdout",
     "output_type": "stream",
     "text": [
      "[[0 1 2]]\n"
     ]
    }
   ],
   "source": [
    "a_row = np.arange(3).reshape(1, 3)\n",
    "print(a_row)"
   ]
  },
  {
   "cell_type": "code",
   "execution_count": 29,
   "id": "88bdf9ef",
   "metadata": {},
   "outputs": [
    {
     "name": "stdout",
     "output_type": "stream",
     "text": [
      "(1, 3)\n"
     ]
    }
   ],
   "source": [
    "print(a_row.shape)"
   ]
  },
  {
   "cell_type": "code",
   "execution_count": 30,
   "id": "7d1d9c35",
   "metadata": {},
   "outputs": [
    {
     "name": "stdout",
     "output_type": "stream",
     "text": [
      "[[0]\n",
      " [1]\n",
      " [2]]\n"
     ]
    }
   ],
   "source": [
    "a_col = np.arange(3).reshape(3, 1)\n",
    "print(a_col)"
   ]
  },
  {
   "cell_type": "code",
   "execution_count": 31,
   "id": "98a36812",
   "metadata": {},
   "outputs": [
    {
     "name": "stdout",
     "output_type": "stream",
     "text": [
      "(3, 1)\n"
     ]
    }
   ],
   "source": [
    "print(a_col.shape)"
   ]
  },
  {
   "cell_type": "code",
   "execution_count": 32,
   "id": "0b6b53da",
   "metadata": {},
   "outputs": [
    {
     "name": "stdout",
     "output_type": "stream",
     "text": [
      "[[0 1 2]\n",
      " [3 4 5]\n",
      " [6 7 8]]\n"
     ]
    }
   ],
   "source": [
    "a_2d = np.arange(9).reshape(3, 3)\n",
    "print(a_2d)"
   ]
  },
  {
   "cell_type": "code",
   "execution_count": 33,
   "id": "f96057f6",
   "metadata": {},
   "outputs": [
    {
     "name": "stdout",
     "output_type": "stream",
     "text": [
      "[[15 18 21]]\n"
     ]
    }
   ],
   "source": [
    "print(a_row @ a_2d)"
   ]
  },
  {
   "cell_type": "code",
   "execution_count": 34,
   "id": "1a8839e2",
   "metadata": {},
   "outputs": [
    {
     "name": "stdout",
     "output_type": "stream",
     "text": [
      "[[ 5]\n",
      " [14]\n",
      " [23]]\n"
     ]
    }
   ],
   "source": [
    "print(a_2d @ a_col)"
   ]
  },
  {
   "cell_type": "code",
   "execution_count": 35,
   "id": "e2c01d7d",
   "metadata": {},
   "outputs": [],
   "source": [
    "a_1d = np.array([0, 1, 2])"
   ]
  },
  {
   "cell_type": "code",
   "execution_count": 36,
   "id": "1ce4661e",
   "metadata": {},
   "outputs": [
    {
     "name": "stdout",
     "output_type": "stream",
     "text": [
      "[15 18 21]\n"
     ]
    }
   ],
   "source": [
    "print(a_1d @ a_2d)"
   ]
  },
  {
   "cell_type": "code",
   "execution_count": 37,
   "id": "a1586c56",
   "metadata": {},
   "outputs": [
    {
     "name": "stdout",
     "output_type": "stream",
     "text": [
      "[15 18 21]\n"
     ]
    }
   ],
   "source": [
    "print(np.dot(a_1d, a_2d))"
   ]
  },
  {
   "cell_type": "code",
   "execution_count": 38,
   "id": "90bf3adf",
   "metadata": {},
   "outputs": [
    {
     "name": "stdout",
     "output_type": "stream",
     "text": [
      "[ 5 14 23]\n"
     ]
    }
   ],
   "source": [
    "print(a_2d @ a_1d)"
   ]
  },
  {
   "cell_type": "code",
   "execution_count": 39,
   "id": "5998fb83",
   "metadata": {},
   "outputs": [
    {
     "name": "stdout",
     "output_type": "stream",
     "text": [
      "[ 5 14 23]\n"
     ]
    }
   ],
   "source": [
    "print(np.dot(a_2d, a_1d))"
   ]
  },
  {
   "cell_type": "code",
   "execution_count": 40,
   "id": "752faf63",
   "metadata": {},
   "outputs": [],
   "source": [
    "a1 = np.array([0, 1, 2])\n",
    "a2 = np.array([3, 4, 5])"
   ]
  },
  {
   "cell_type": "code",
   "execution_count": 41,
   "id": "6a21c946",
   "metadata": {},
   "outputs": [
    {
     "name": "stdout",
     "output_type": "stream",
     "text": [
      "14\n"
     ]
    }
   ],
   "source": [
    "print(np.inner(a1, a2))"
   ]
  },
  {
   "cell_type": "code",
   "execution_count": 42,
   "id": "dfbe6d2a",
   "metadata": {},
   "outputs": [
    {
     "name": "stdout",
     "output_type": "stream",
     "text": [
      "14\n"
     ]
    }
   ],
   "source": [
    "print(a1 @ a2)"
   ]
  },
  {
   "cell_type": "code",
   "execution_count": 43,
   "id": "a4ccbfbb",
   "metadata": {},
   "outputs": [
    {
     "name": "stdout",
     "output_type": "stream",
     "text": [
      "14\n"
     ]
    }
   ],
   "source": [
    "print(np.dot(a1, a2))"
   ]
  }
 ],
 "metadata": {
  "kernelspec": {
   "display_name": "Python 3",
   "language": "python",
   "name": "python3"
  },
  "language_info": {
   "codemirror_mode": {
    "name": "ipython",
    "version": 3
   },
   "file_extension": ".py",
   "mimetype": "text/x-python",
   "name": "python",
   "nbconvert_exporter": "python",
   "pygments_lexer": "ipython3",
   "version": "3.11.6"
  }
 },
 "nbformat": 4,
 "nbformat_minor": 5
}
