{
 "cells": [
  {
   "cell_type": "code",
   "execution_count": 1,
   "id": "11cd6f01",
   "metadata": {},
   "outputs": [],
   "source": [
    "import pandas as pd"
   ]
  },
  {
   "cell_type": "code",
   "execution_count": 2,
   "id": "8c14236c",
   "metadata": {},
   "outputs": [
    {
     "name": "stdout",
     "output_type": "stream",
     "text": [
      "2.0.3\n"
     ]
    }
   ],
   "source": [
    "print(pd.__version__)"
   ]
  },
  {
   "cell_type": "code",
   "execution_count": 3,
   "id": "2ab18e46",
   "metadata": {},
   "outputs": [
    {
     "name": "stdout",
     "output_type": "stream",
     "text": [
      "         a   b\n",
      "ONE    NaN NaN\n",
      "TWO      - NaN\n",
      "THREE  NaN NaN\n"
     ]
    }
   ],
   "source": [
    "df_nan = pd.read_csv('data/src/sample_header_index_nan.csv', index_col=0)\n",
    "print(df_nan)"
   ]
  },
  {
   "cell_type": "code",
   "execution_count": 4,
   "id": "a55e8316",
   "metadata": {},
   "outputs": [
    {
     "name": "stdout",
     "output_type": "stream",
     "text": [
      "           a     b\n",
      "ONE     True  True\n",
      "TWO    False  True\n",
      "THREE   True  True\n"
     ]
    }
   ],
   "source": [
    "print(df_nan.isnull())"
   ]
  },
  {
   "cell_type": "code",
   "execution_count": 5,
   "id": "4e946e40",
   "metadata": {},
   "outputs": [
    {
     "name": "stdout",
     "output_type": "stream",
     "text": [
      "        a   b\n",
      "ONE   NaN NaN\n",
      "TWO   NaN NaN\n",
      "THREE NaN NaN\n"
     ]
    }
   ],
   "source": [
    "df_nan_set_na = pd.read_csv('data/src/sample_header_index_nan.csv',\n",
    "                            index_col=0, na_values='-')\n",
    "print(df_nan_set_na)"
   ]
  },
  {
   "cell_type": "code",
   "execution_count": 6,
   "id": "972724bd",
   "metadata": {},
   "outputs": [
    {
     "name": "stdout",
     "output_type": "stream",
     "text": [
      "          a     b\n",
      "ONE    True  True\n",
      "TWO    True  True\n",
      "THREE  True  True\n"
     ]
    }
   ],
   "source": [
    "print(df_nan_set_na.isnull())"
   ]
  },
  {
   "cell_type": "code",
   "execution_count": 7,
   "id": "84574a10",
   "metadata": {},
   "outputs": [
    {
     "name": "stdout",
     "output_type": "stream",
     "text": [
      "         a    b\n",
      "ONE         NaN\n",
      "TWO    NaN  nan\n",
      "THREE  NaN  N/A\n"
     ]
    }
   ],
   "source": [
    "df_nan_no_keep = pd.read_csv('data/src/sample_header_index_nan.csv',\n",
    "                             index_col=0, na_values=['-', 'NaN', 'null'],\n",
    "                             keep_default_na=False)\n",
    "print(df_nan_no_keep)"
   ]
  },
  {
   "cell_type": "code",
   "execution_count": 8,
   "id": "d91be68e",
   "metadata": {},
   "outputs": [
    {
     "name": "stdout",
     "output_type": "stream",
     "text": [
      "           a      b\n",
      "ONE    False   True\n",
      "TWO     True  False\n",
      "THREE   True  False\n"
     ]
    }
   ],
   "source": [
    "print(df_nan_no_keep.isnull())"
   ]
  },
  {
   "cell_type": "code",
   "execution_count": 9,
   "id": "d510f5ff",
   "metadata": {},
   "outputs": [
    {
     "name": "stdout",
     "output_type": "stream",
     "text": [
      "          a    b\n",
      "ONE          NaN\n",
      "TWO       -  nan\n",
      "THREE  null  N/A\n"
     ]
    }
   ],
   "source": [
    "df_nan_no_filter = pd.read_csv('data/src/sample_header_index_nan.csv',\n",
    "                               index_col=0, na_filter=False)\n",
    "print(df_nan_no_filter)"
   ]
  },
  {
   "cell_type": "code",
   "execution_count": 10,
   "id": "f95a973c",
   "metadata": {},
   "outputs": [
    {
     "name": "stdout",
     "output_type": "stream",
     "text": [
      "           a      b\n",
      "ONE    False  False\n",
      "TWO    False  False\n",
      "THREE  False  False\n"
     ]
    }
   ],
   "source": [
    "print(df_nan_no_filter.isnull())"
   ]
  }
 ],
 "metadata": {
  "kernelspec": {
   "display_name": "Python 3",
   "language": "python",
   "name": "python3"
  },
  "language_info": {
   "codemirror_mode": {
    "name": "ipython",
    "version": 3
   },
   "file_extension": ".py",
   "mimetype": "text/x-python",
   "name": "python",
   "nbconvert_exporter": "python",
   "pygments_lexer": "ipython3",
   "version": "3.11.4"
  }
 },
 "nbformat": 4,
 "nbformat_minor": 5
}
