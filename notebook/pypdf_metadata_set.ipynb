{
 "cells": [
  {
   "cell_type": "code",
   "execution_count": 1,
   "id": "b0a74b4c",
   "metadata": {},
   "outputs": [],
   "source": [
    "import pypdf"
   ]
  },
  {
   "cell_type": "code",
   "execution_count": 2,
   "id": "f2de1892",
   "metadata": {},
   "outputs": [
    {
     "name": "stdout",
     "output_type": "stream",
     "text": [
      "3.7.1\n"
     ]
    }
   ],
   "source": [
    "print(pypdf.__version__)"
   ]
  },
  {
   "cell_type": "code",
   "execution_count": 3,
   "id": "63fd1339",
   "metadata": {},
   "outputs": [],
   "source": [
    "src_pdf = pypdf.PdfReader('data/src/pdf/sample1.pdf')\n",
    "dst_pdf = pypdf.PdfWriter()"
   ]
  },
  {
   "cell_type": "code",
   "execution_count": 4,
   "id": "801419a1",
   "metadata": {},
   "outputs": [],
   "source": [
    "dst_pdf.clone_reader_document_root(src_pdf)"
   ]
  },
  {
   "cell_type": "code",
   "execution_count": 5,
   "id": "9660d276",
   "metadata": {},
   "outputs": [],
   "source": [
    "d = {key: src_pdf.metadata[key] for key in src_pdf.metadata.keys()}"
   ]
  },
  {
   "cell_type": "code",
   "execution_count": 6,
   "id": "1a01d334",
   "metadata": {},
   "outputs": [],
   "source": [
    "d['/Title'] = 'new title'\n",
    "d['/Producer'] = 'new producer'\n",
    "d['/XXX'] = 'special data'"
   ]
  },
  {
   "cell_type": "code",
   "execution_count": 7,
   "id": "ca1e4e83",
   "metadata": {},
   "outputs": [
    {
     "name": "stdout",
     "output_type": "stream",
     "text": [
      "{'/Producer': 'new producer', '/Title': 'new title', '/Creator': 'Keynote', '/CreationDate': \"D:20190114072947Z00'00'\", '/ModDate': \"D:20190114072947Z00'00'\", '/XXX': 'special data'}\n"
     ]
    }
   ],
   "source": [
    "dst_pdf.add_metadata(d)\n",
    "dst_pdf.write('data/temp/sample1_new_meta.pdf')\n",
    "\n",
    "print(pypdf.PdfReader('data/temp/sample1_new_meta.pdf').metadata)"
   ]
  },
  {
   "cell_type": "code",
   "execution_count": 8,
   "id": "d167c857",
   "metadata": {},
   "outputs": [],
   "source": [
    "def update_metadata(src_path, dst_path, metadata):\n",
    "    src_pdf = pypdf.PdfReader(src_path)\n",
    "    dst_pdf = pypdf.PdfWriter()\n",
    "    dst_pdf.clone_reader_document_root(src_pdf)\n",
    "\n",
    "    d = {key: src_pdf.metadata[key] for key in src_pdf.metadata.keys()}\n",
    "    d.update(metadata)\n",
    "\n",
    "    dst_pdf.add_metadata(d)\n",
    "    dst_pdf.write(dst_path)"
   ]
  },
  {
   "cell_type": "code",
   "execution_count": 9,
   "id": "ade5ce57",
   "metadata": {},
   "outputs": [
    {
     "name": "stdout",
     "output_type": "stream",
     "text": [
      "{'/Producer': '', '/Title': 'new title', '/Creator': 'Keynote', '/CreationDate': \"D:20190114072947Z00'00'\", '/ModDate': \"D:20190114072947Z00'00'\", '/Author': 'new author'}\n"
     ]
    }
   ],
   "source": [
    "update_metadata('data/src/pdf/sample1.pdf', 'data/temp/sample1_new_meta.pdf',\n",
    "                {'/Title': 'new title', '/Author': 'new author', '/Producer': ''})\n",
    "print(pypdf.PdfReader('data/temp/sample1_new_meta.pdf').metadata)"
   ]
  },
  {
   "cell_type": "code",
   "execution_count": 10,
   "id": "6785c8ae",
   "metadata": {},
   "outputs": [],
   "source": [
    "def set_metadata(src_path, dst_path, metadata):\n",
    "    src_pdf = pypdf.PdfReader(src_path)\n",
    "    dst_pdf = pypdf.PdfWriter()\n",
    "    dst_pdf.clone_reader_document_root(src_pdf)\n",
    "    dst_pdf.add_metadata(metadata)\n",
    "    dst_pdf.write(dst_path)"
   ]
  },
  {
   "cell_type": "code",
   "execution_count": 11,
   "id": "482c4b5e",
   "metadata": {},
   "outputs": [
    {
     "name": "stdout",
     "output_type": "stream",
     "text": [
      "{'/Producer': '', '/Title': 'new title', '/Author': 'new author'}\n"
     ]
    }
   ],
   "source": [
    "set_metadata('data/src/pdf/sample1.pdf', 'data/temp/sample1_new_meta.pdf',\n",
    "             {'/Title': 'new title', '/Author': 'new author', '/Producer': ''})\n",
    "print(pypdf.PdfReader('data/temp/sample1_new_meta.pdf').metadata)"
   ]
  }
 ],
 "metadata": {
  "kernelspec": {
   "display_name": "Python 3",
   "language": "python",
   "name": "python3"
  },
  "language_info": {
   "codemirror_mode": {
    "name": "ipython",
    "version": 3
   },
   "file_extension": ".py",
   "mimetype": "text/x-python",
   "name": "python",
   "nbconvert_exporter": "python",
   "pygments_lexer": "ipython3",
   "version": "3.11.3"
  }
 },
 "nbformat": 4,
 "nbformat_minor": 5
}
