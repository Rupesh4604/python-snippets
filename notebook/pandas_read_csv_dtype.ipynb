{
 "cells": [
  {
   "cell_type": "code",
   "execution_count": 1,
   "metadata": {},
   "outputs": [],
   "source": [
    "import pandas as pd"
   ]
  },
  {
   "cell_type": "code",
   "execution_count": 2,
   "metadata": {},
   "outputs": [
    {
     "name": "stdout",
     "output_type": "stream",
     "text": [
      "2.0.3\n"
     ]
    }
   ],
   "source": [
    "print(pd.__version__)"
   ]
  },
  {
   "cell_type": "code",
   "execution_count": 3,
   "metadata": {},
   "outputs": [
    {
     "name": "stdout",
     "output_type": "stream",
     "text": [
      "       a    b      c  d\n",
      "ONE    1    1  100.0  x\n",
      "TWO    2   20    NaN  y\n",
      "THREE  3  300  300.0  z\n"
     ]
    }
   ],
   "source": [
    "df = pd.read_csv('data/src/sample_header_index_dtype.csv', index_col=0)\n",
    "print(df)"
   ]
  },
  {
   "cell_type": "code",
   "execution_count": 4,
   "metadata": {},
   "outputs": [
    {
     "name": "stdout",
     "output_type": "stream",
     "text": [
      "a      int64\n",
      "b      int64\n",
      "c    float64\n",
      "d     object\n",
      "dtype: object\n"
     ]
    }
   ],
   "source": [
    "print(df.dtypes)"
   ]
  },
  {
   "cell_type": "code",
   "execution_count": 5,
   "metadata": {},
   "outputs": [
    {
     "name": "stdout",
     "output_type": "stream",
     "text": [
      "                   a              b                c              d\n",
      "ONE    <class 'int'>  <class 'int'>  <class 'float'>  <class 'str'>\n",
      "TWO    <class 'int'>  <class 'int'>  <class 'float'>  <class 'str'>\n",
      "THREE  <class 'int'>  <class 'int'>  <class 'float'>  <class 'str'>\n"
     ]
    }
   ],
   "source": [
    "print(df.applymap(type))"
   ]
  },
  {
   "cell_type": "code",
   "execution_count": 6,
   "metadata": {},
   "outputs": [],
   "source": [
    "# pd.read_csv('data/src/sample_header_index_dtype.csv',\n",
    "#             index_col=0, dtype=float)\n",
    "# ValueError: could not convert string to float: 'ONE'"
   ]
  },
  {
   "cell_type": "code",
   "execution_count": 7,
   "metadata": {},
   "outputs": [
    {
     "name": "stdout",
     "output_type": "stream",
     "text": [
      "       a    b    c  d\n",
      "ONE    1  001  100  x\n",
      "TWO    2  020  NaN  y\n",
      "THREE  3  300  300  z\n"
     ]
    }
   ],
   "source": [
    "df_str = pd.read_csv('data/src/sample_header_index_dtype.csv',\n",
    "                     index_col=0, dtype=str)\n",
    "print(df_str)"
   ]
  },
  {
   "cell_type": "code",
   "execution_count": 8,
   "metadata": {},
   "outputs": [
    {
     "name": "stdout",
     "output_type": "stream",
     "text": [
      "a    object\n",
      "b    object\n",
      "c    object\n",
      "d    object\n",
      "dtype: object\n"
     ]
    }
   ],
   "source": [
    "print(df_str.dtypes)"
   ]
  },
  {
   "cell_type": "code",
   "execution_count": 9,
   "metadata": {},
   "outputs": [
    {
     "name": "stdout",
     "output_type": "stream",
     "text": [
      "                   a              b                c              d\n",
      "ONE    <class 'str'>  <class 'str'>    <class 'str'>  <class 'str'>\n",
      "TWO    <class 'str'>  <class 'str'>  <class 'float'>  <class 'str'>\n",
      "THREE  <class 'str'>  <class 'str'>    <class 'str'>  <class 'str'>\n"
     ]
    }
   ],
   "source": [
    "print(df_str.applymap(type))"
   ]
  },
  {
   "cell_type": "code",
   "execution_count": 10,
   "metadata": {},
   "outputs": [
    {
     "name": "stdout",
     "output_type": "stream",
     "text": [
      "       a    b      c  d\n",
      "ONE    1    1  100.0  x\n",
      "TWO    2   20    nan  y\n",
      "THREE  3  300  300.0  z\n"
     ]
    }
   ],
   "source": [
    "df = pd.read_csv('data/src/sample_header_index_dtype.csv', index_col=0)\n",
    "print(df.astype(str))"
   ]
  },
  {
   "cell_type": "code",
   "execution_count": 11,
   "metadata": {},
   "outputs": [
    {
     "name": "stdout",
     "output_type": "stream",
     "text": [
      "                   a              b              c              d\n",
      "ONE    <class 'str'>  <class 'str'>  <class 'str'>  <class 'str'>\n",
      "TWO    <class 'str'>  <class 'str'>  <class 'str'>  <class 'str'>\n",
      "THREE  <class 'str'>  <class 'str'>  <class 'str'>  <class 'str'>\n"
     ]
    }
   ],
   "source": [
    "print(df.astype(str).applymap(type))"
   ]
  },
  {
   "cell_type": "code",
   "execution_count": 12,
   "metadata": {},
   "outputs": [
    {
     "name": "stdout",
     "output_type": "stream",
     "text": [
      "         a    b      c  d\n",
      "ONE    1.0  001  100.0  x\n",
      "TWO    2.0  020    NaN  y\n",
      "THREE  3.0  300  300.0  z\n"
     ]
    }
   ],
   "source": [
    "df_col = pd.read_csv('data/src/sample_header_index_dtype.csv',\n",
    "                     index_col=0, dtype={'a': float, 'b': str})\n",
    "print(df_col)"
   ]
  },
  {
   "cell_type": "code",
   "execution_count": 13,
   "metadata": {},
   "outputs": [
    {
     "name": "stdout",
     "output_type": "stream",
     "text": [
      "a    float64\n",
      "b     object\n",
      "c    float64\n",
      "d     object\n",
      "dtype: object\n"
     ]
    }
   ],
   "source": [
    "print(df_col.dtypes)"
   ]
  },
  {
   "cell_type": "code",
   "execution_count": 14,
   "metadata": {},
   "outputs": [
    {
     "name": "stdout",
     "output_type": "stream",
     "text": [
      "         a    b      c  d\n",
      "ONE    1.0  001  100.0  x\n",
      "TWO    2.0  020    NaN  y\n",
      "THREE  3.0  300  300.0  z\n"
     ]
    }
   ],
   "source": [
    "df_col = pd.read_csv('data/src/sample_header_index_dtype.csv',\n",
    "                     index_col=0, dtype={1: float, 2: str})\n",
    "print(df_col)"
   ]
  },
  {
   "cell_type": "code",
   "execution_count": 15,
   "metadata": {},
   "outputs": [
    {
     "name": "stdout",
     "output_type": "stream",
     "text": [
      "a    float64\n",
      "b     object\n",
      "c    float64\n",
      "d     object\n",
      "dtype: object\n"
     ]
    }
   ],
   "source": [
    "print(df_col.dtypes)"
   ]
  }
 ],
 "metadata": {
  "kernelspec": {
   "display_name": "Python 3",
   "language": "python",
   "name": "python3"
  },
  "language_info": {
   "codemirror_mode": {
    "name": "ipython",
    "version": 3
   },
   "file_extension": ".py",
   "mimetype": "text/x-python",
   "name": "python",
   "nbconvert_exporter": "python",
   "pygments_lexer": "ipython3",
   "version": "3.11.4"
  }
 },
 "nbformat": 4,
 "nbformat_minor": 2
}
