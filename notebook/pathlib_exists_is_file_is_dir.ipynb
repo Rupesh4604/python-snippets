{
 "cells": [
  {
   "cell_type": "code",
   "execution_count": 1,
   "id": "b3a3a3f3",
   "metadata": {},
   "outputs": [],
   "source": [
    "from pathlib import Path"
   ]
  },
  {
   "cell_type": "code",
   "execution_count": 2,
   "id": "fc53c843",
   "metadata": {},
   "outputs": [],
   "source": [
    "p_file = Path('data/temp/dir/file.txt')\n",
    "p_dir = Path('data/temp/dir')\n",
    "p_non_existent = Path('non_exist')"
   ]
  },
  {
   "cell_type": "code",
   "execution_count": 3,
   "id": "2ef35c5e",
   "metadata": {},
   "outputs": [],
   "source": [
    "p_dir.mkdir(parents=True, exist_ok=True)\n",
    "p_file.touch()"
   ]
  },
  {
   "cell_type": "code",
   "execution_count": 4,
   "id": "1d80a7be",
   "metadata": {},
   "outputs": [
    {
     "name": "stdout",
     "output_type": "stream",
     "text": [
      "True\n"
     ]
    }
   ],
   "source": [
    "print(p_file.is_file())"
   ]
  },
  {
   "cell_type": "code",
   "execution_count": 5,
   "id": "8d6cdc2c",
   "metadata": {},
   "outputs": [
    {
     "name": "stdout",
     "output_type": "stream",
     "text": [
      "False\n"
     ]
    }
   ],
   "source": [
    "print(p_dir.is_file())"
   ]
  },
  {
   "cell_type": "code",
   "execution_count": 6,
   "id": "0ccd9b98",
   "metadata": {},
   "outputs": [
    {
     "name": "stdout",
     "output_type": "stream",
     "text": [
      "False\n"
     ]
    }
   ],
   "source": [
    "print(p_non_existent.is_file())"
   ]
  },
  {
   "cell_type": "code",
   "execution_count": 7,
   "id": "387ccd49",
   "metadata": {},
   "outputs": [
    {
     "name": "stdout",
     "output_type": "stream",
     "text": [
      "False\n"
     ]
    }
   ],
   "source": [
    "print(p_file.is_dir())"
   ]
  },
  {
   "cell_type": "code",
   "execution_count": 8,
   "id": "c1747c03",
   "metadata": {},
   "outputs": [
    {
     "name": "stdout",
     "output_type": "stream",
     "text": [
      "True\n"
     ]
    }
   ],
   "source": [
    "print(p_dir.is_dir())"
   ]
  },
  {
   "cell_type": "code",
   "execution_count": 9,
   "id": "ddbad217",
   "metadata": {},
   "outputs": [
    {
     "name": "stdout",
     "output_type": "stream",
     "text": [
      "False\n"
     ]
    }
   ],
   "source": [
    "print(p_non_existent.is_dir())"
   ]
  },
  {
   "cell_type": "code",
   "execution_count": 10,
   "id": "44bd9043",
   "metadata": {},
   "outputs": [
    {
     "name": "stdout",
     "output_type": "stream",
     "text": [
      "True\n"
     ]
    }
   ],
   "source": [
    "print(p_file.exists())"
   ]
  },
  {
   "cell_type": "code",
   "execution_count": 11,
   "id": "a63634d5",
   "metadata": {},
   "outputs": [
    {
     "name": "stdout",
     "output_type": "stream",
     "text": [
      "True\n"
     ]
    }
   ],
   "source": [
    "print(p_dir.exists())"
   ]
  },
  {
   "cell_type": "code",
   "execution_count": 12,
   "id": "2a36d444",
   "metadata": {},
   "outputs": [
    {
     "name": "stdout",
     "output_type": "stream",
     "text": [
      "False\n"
     ]
    }
   ],
   "source": [
    "print(p_non_existent.exists())"
   ]
  },
  {
   "cell_type": "code",
   "execution_count": 13,
   "id": "68f59bd9",
   "metadata": {},
   "outputs": [
    {
     "name": "stdout",
     "output_type": "stream",
     "text": [
      "True\n"
     ]
    }
   ],
   "source": [
    "print(Path('data/temp/dir') == Path('data/temp/dir/'))"
   ]
  }
 ],
 "metadata": {
  "kernelspec": {
   "display_name": "Python 3",
   "language": "python",
   "name": "python3"
  },
  "language_info": {
   "codemirror_mode": {
    "name": "ipython",
    "version": 3
   },
   "file_extension": ".py",
   "mimetype": "text/x-python",
   "name": "python",
   "nbconvert_exporter": "python",
   "pygments_lexer": "ipython3",
   "version": "3.11.6"
  }
 },
 "nbformat": 4,
 "nbformat_minor": 5
}
