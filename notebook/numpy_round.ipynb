{
 "cells": [
  {
   "cell_type": "code",
   "execution_count": 1,
   "id": "e9be15e8",
   "metadata": {},
   "outputs": [],
   "source": [
    "import numpy as np"
   ]
  },
  {
   "cell_type": "code",
   "execution_count": 2,
   "id": "359634f7",
   "metadata": {},
   "outputs": [
    {
     "name": "stdout",
     "output_type": "stream",
     "text": [
      "1.26.1\n"
     ]
    }
   ],
   "source": [
    "print(np.__version__)"
   ]
  },
  {
   "cell_type": "code",
   "execution_count": 3,
   "id": "ff6f6661",
   "metadata": {},
   "outputs": [],
   "source": [
    "a = np.array([12.3, 45.6, 78.9])"
   ]
  },
  {
   "cell_type": "code",
   "execution_count": 4,
   "id": "b01fd827",
   "metadata": {},
   "outputs": [
    {
     "name": "stdout",
     "output_type": "stream",
     "text": [
      "[12. 46. 79.]\n"
     ]
    }
   ],
   "source": [
    "print(np.round(a))"
   ]
  },
  {
   "cell_type": "code",
   "execution_count": 5,
   "id": "877e88d1",
   "metadata": {},
   "outputs": [
    {
     "name": "stdout",
     "output_type": "stream",
     "text": [
      "float64\n"
     ]
    }
   ],
   "source": [
    "print(np.round(a).dtype)"
   ]
  },
  {
   "cell_type": "code",
   "execution_count": 6,
   "id": "f7b0dd5a",
   "metadata": {},
   "outputs": [
    {
     "name": "stdout",
     "output_type": "stream",
     "text": [
      "[12 46 79]\n"
     ]
    }
   ],
   "source": [
    "print(np.round(a).astype(int))"
   ]
  },
  {
   "cell_type": "code",
   "execution_count": 7,
   "id": "cb8cebd2",
   "metadata": {},
   "outputs": [
    {
     "name": "stdout",
     "output_type": "stream",
     "text": [
      "[12 45 78]\n"
     ]
    }
   ],
   "source": [
    "print(a.astype(int))"
   ]
  },
  {
   "cell_type": "code",
   "execution_count": 8,
   "id": "db9b9c26",
   "metadata": {},
   "outputs": [],
   "source": [
    "l = [12.3, 45.6, 78.9]"
   ]
  },
  {
   "cell_type": "code",
   "execution_count": 9,
   "id": "1c2a8b85",
   "metadata": {},
   "outputs": [
    {
     "name": "stdout",
     "output_type": "stream",
     "text": [
      "[12. 46. 79.]\n"
     ]
    }
   ],
   "source": [
    "print(np.round(l))"
   ]
  },
  {
   "cell_type": "code",
   "execution_count": 10,
   "id": "59e662e7",
   "metadata": {},
   "outputs": [
    {
     "name": "stdout",
     "output_type": "stream",
     "text": [
      "<class 'numpy.ndarray'>\n"
     ]
    }
   ],
   "source": [
    "print(type(np.round(l)))"
   ]
  },
  {
   "cell_type": "code",
   "execution_count": 11,
   "id": "196bde93",
   "metadata": {},
   "outputs": [
    {
     "name": "stdout",
     "output_type": "stream",
     "text": [
      "12.0\n"
     ]
    }
   ],
   "source": [
    "print(np.round(12.3))"
   ]
  },
  {
   "cell_type": "code",
   "execution_count": 12,
   "id": "668f2be5",
   "metadata": {},
   "outputs": [
    {
     "name": "stdout",
     "output_type": "stream",
     "text": [
      "123.0\n"
     ]
    }
   ],
   "source": [
    "print(np.round(123.456))"
   ]
  },
  {
   "cell_type": "code",
   "execution_count": 13,
   "id": "d3102c14",
   "metadata": {},
   "outputs": [
    {
     "name": "stdout",
     "output_type": "stream",
     "text": [
      "123.46\n"
     ]
    }
   ],
   "source": [
    "print(np.round(123.456, 2))"
   ]
  },
  {
   "cell_type": "code",
   "execution_count": 14,
   "id": "879620e8",
   "metadata": {},
   "outputs": [
    {
     "name": "stdout",
     "output_type": "stream",
     "text": [
      "100.0\n"
     ]
    }
   ],
   "source": [
    "print(np.round(123.456, -2))"
   ]
  },
  {
   "cell_type": "code",
   "execution_count": 15,
   "id": "ecd3269a",
   "metadata": {},
   "outputs": [
    {
     "name": "stdout",
     "output_type": "stream",
     "text": [
      "123456\n"
     ]
    }
   ],
   "source": [
    "print(np.round(123456))"
   ]
  },
  {
   "cell_type": "code",
   "execution_count": 16,
   "id": "67020f99",
   "metadata": {},
   "outputs": [
    {
     "name": "stdout",
     "output_type": "stream",
     "text": [
      "123456\n"
     ]
    }
   ],
   "source": [
    "print(np.round(123456, 2))"
   ]
  },
  {
   "cell_type": "code",
   "execution_count": 17,
   "id": "23154269",
   "metadata": {},
   "outputs": [
    {
     "name": "stdout",
     "output_type": "stream",
     "text": [
      "123500\n"
     ]
    }
   ],
   "source": [
    "print(np.round(123456, -2))"
   ]
  },
  {
   "cell_type": "code",
   "execution_count": 18,
   "id": "a3a2fe5a",
   "metadata": {},
   "outputs": [],
   "source": [
    "a = np.array([12345, 67890])"
   ]
  },
  {
   "cell_type": "code",
   "execution_count": 19,
   "id": "cc630bb2",
   "metadata": {},
   "outputs": [
    {
     "name": "stdout",
     "output_type": "stream",
     "text": [
      "[12000 68000]\n"
     ]
    }
   ],
   "source": [
    "print(np.round(a, -3))"
   ]
  },
  {
   "cell_type": "code",
   "execution_count": 20,
   "id": "82597c81",
   "metadata": {},
   "outputs": [
    {
     "name": "stdout",
     "output_type": "stream",
     "text": [
      "int64\n"
     ]
    }
   ],
   "source": [
    "print(np.round(a, -3).dtype)"
   ]
  },
  {
   "cell_type": "code",
   "execution_count": 21,
   "id": "541b324b",
   "metadata": {},
   "outputs": [
    {
     "name": "stdout",
     "output_type": "stream",
     "text": [
      "[-4. -2. -2. -0.  0.  2.  2.  4.]\n"
     ]
    }
   ],
   "source": [
    "print(np.round([-3.5, -2.5, -1.5, -0.5, 0.5, 1.5, 2.5, 3.5]))"
   ]
  },
  {
   "cell_type": "code",
   "execution_count": 22,
   "id": "1d320acd",
   "metadata": {},
   "outputs": [
    {
     "name": "stdout",
     "output_type": "stream",
     "text": [
      "[-400 -200 -200    0    0  200  200  400]\n"
     ]
    }
   ],
   "source": [
    "print(np.round([-350, -250, -150, -50, 50, 150, 250, 350], -2))"
   ]
  },
  {
   "cell_type": "code",
   "execution_count": 23,
   "id": "a202e6a0",
   "metadata": {},
   "outputs": [
    {
     "name": "stdout",
     "output_type": "stream",
     "text": [
      "[2. 2. 3.]\n"
     ]
    }
   ],
   "source": [
    "print(np.round([2.49, 2.5, 2.51]))"
   ]
  },
  {
   "cell_type": "code",
   "execution_count": 24,
   "id": "330ec46c",
   "metadata": {},
   "outputs": [
    {
     "name": "stdout",
     "output_type": "stream",
     "text": [
      "[200 200 300]\n"
     ]
    }
   ],
   "source": [
    "print(np.round([249, 250, 251], -2))"
   ]
  },
  {
   "cell_type": "code",
   "execution_count": 25,
   "id": "b373130e",
   "metadata": {},
   "outputs": [
    {
     "name": "stdout",
     "output_type": "stream",
     "text": [
      "0.2\n"
     ]
    }
   ],
   "source": [
    "print(np.round(0.15, 1))"
   ]
  },
  {
   "cell_type": "code",
   "execution_count": 26,
   "id": "d506ebeb",
   "metadata": {},
   "outputs": [
    {
     "name": "stdout",
     "output_type": "stream",
     "text": [
      "0.1\n"
     ]
    }
   ],
   "source": [
    "print(round(0.15, 1))"
   ]
  },
  {
   "cell_type": "code",
   "execution_count": 27,
   "id": "cf99f63d",
   "metadata": {},
   "outputs": [
    {
     "name": "stdout",
     "output_type": "stream",
     "text": [
      "0.14999999999999999445\n"
     ]
    }
   ],
   "source": [
    "print(f'{0.15:.20}')"
   ]
  },
  {
   "cell_type": "code",
   "execution_count": 28,
   "id": "f3fc7328",
   "metadata": {},
   "outputs": [
    {
     "name": "stdout",
     "output_type": "stream",
     "text": [
      "56294995342131.51\n"
     ]
    }
   ],
   "source": [
    "print(np.round(56294995342131.5, 3))"
   ]
  },
  {
   "cell_type": "code",
   "execution_count": 29,
   "id": "6802515a",
   "metadata": {},
   "outputs": [
    {
     "name": "stdout",
     "output_type": "stream",
     "text": [
      "56294995342131.5\n"
     ]
    }
   ],
   "source": [
    "print(round(56294995342131.5, 3))"
   ]
  },
  {
   "cell_type": "code",
   "execution_count": 30,
   "id": "6d471a2d",
   "metadata": {},
   "outputs": [],
   "source": [
    "a = np.array([12.3, 45.6, 78.9])"
   ]
  },
  {
   "cell_type": "code",
   "execution_count": 31,
   "id": "2fac1a57",
   "metadata": {},
   "outputs": [
    {
     "name": "stdout",
     "output_type": "stream",
     "text": [
      "[12. 46. 79.]\n"
     ]
    }
   ],
   "source": [
    "print(np.around(a))"
   ]
  },
  {
   "cell_type": "code",
   "execution_count": 32,
   "id": "aac841ba",
   "metadata": {},
   "outputs": [
    {
     "name": "stdout",
     "output_type": "stream",
     "text": [
      "[10. 50. 80.]\n"
     ]
    }
   ],
   "source": [
    "print(np.around(a, -1))"
   ]
  },
  {
   "cell_type": "code",
   "execution_count": 33,
   "id": "4d2a0c60",
   "metadata": {},
   "outputs": [
    {
     "name": "stdout",
     "output_type": "stream",
     "text": [
      "[12. 46. 79.]\n"
     ]
    }
   ],
   "source": [
    "print(a.round())"
   ]
  },
  {
   "cell_type": "code",
   "execution_count": 34,
   "id": "40b6855b",
   "metadata": {},
   "outputs": [
    {
     "name": "stdout",
     "output_type": "stream",
     "text": [
      "[10. 50. 80.]\n"
     ]
    }
   ],
   "source": [
    "print(a.round(-1))"
   ]
  },
  {
   "cell_type": "code",
   "execution_count": 35,
   "id": "c1b74386",
   "metadata": {},
   "outputs": [],
   "source": [
    "def my_round(x, decimals=0):\n",
    "    return np.floor(x * 10**decimals + 0.5) / 10**decimals"
   ]
  },
  {
   "cell_type": "code",
   "execution_count": 36,
   "id": "3b99e237",
   "metadata": {},
   "outputs": [],
   "source": [
    "a = np.array([-3.5, -2.5, -1.5, -0.5, 0.5, 1.5, 2.5, 3.5])"
   ]
  },
  {
   "cell_type": "code",
   "execution_count": 37,
   "id": "d8927434",
   "metadata": {},
   "outputs": [
    {
     "name": "stdout",
     "output_type": "stream",
     "text": [
      "[-4. -2. -2. -0.  0.  2.  2.  4.]\n"
     ]
    }
   ],
   "source": [
    "print(np.round(a))"
   ]
  },
  {
   "cell_type": "code",
   "execution_count": 38,
   "id": "0fc81077",
   "metadata": {},
   "outputs": [
    {
     "name": "stdout",
     "output_type": "stream",
     "text": [
      "[-3. -2. -1.  0.  1.  2.  3.  4.]\n"
     ]
    }
   ],
   "source": [
    "print(my_round(a))"
   ]
  },
  {
   "cell_type": "code",
   "execution_count": 39,
   "id": "84d1e1e7",
   "metadata": {},
   "outputs": [
    {
     "name": "stdout",
     "output_type": "stream",
     "text": [
      "[-0.35 -0.25 -0.15 -0.05  0.05  0.15  0.25  0.35]\n"
     ]
    }
   ],
   "source": [
    "print(a / 10)"
   ]
  },
  {
   "cell_type": "code",
   "execution_count": 40,
   "id": "e6cb0c15",
   "metadata": {},
   "outputs": [
    {
     "name": "stdout",
     "output_type": "stream",
     "text": [
      "[-0.4 -0.2 -0.2 -0.   0.   0.2  0.2  0.4]\n"
     ]
    }
   ],
   "source": [
    "print(np.round(a / 10, 1))"
   ]
  },
  {
   "cell_type": "code",
   "execution_count": 41,
   "id": "d04cfa92",
   "metadata": {},
   "outputs": [
    {
     "name": "stdout",
     "output_type": "stream",
     "text": [
      "[-0.3 -0.2 -0.1  0.   0.1  0.2  0.3  0.4]\n"
     ]
    }
   ],
   "source": [
    "print(my_round(a / 10, 1))"
   ]
  },
  {
   "cell_type": "code",
   "execution_count": 42,
   "id": "7f0407f6",
   "metadata": {},
   "outputs": [],
   "source": [
    "def my_round2(x, decimals=0):\n",
    "    return np.sign(x) * np.floor(np.abs(x) * 10**decimals + 0.5) / 10**decimals"
   ]
  },
  {
   "cell_type": "code",
   "execution_count": 43,
   "id": "8e2aa9f2",
   "metadata": {},
   "outputs": [
    {
     "name": "stdout",
     "output_type": "stream",
     "text": [
      "[-3.5 -2.5 -1.5 -0.5  0.5  1.5  2.5  3.5]\n"
     ]
    }
   ],
   "source": [
    "print(a)"
   ]
  },
  {
   "cell_type": "code",
   "execution_count": 44,
   "id": "2c231823",
   "metadata": {},
   "outputs": [
    {
     "name": "stdout",
     "output_type": "stream",
     "text": [
      "[-3. -2. -1.  0.  1.  2.  3.  4.]\n"
     ]
    }
   ],
   "source": [
    "print(my_round(a))"
   ]
  },
  {
   "cell_type": "code",
   "execution_count": 45,
   "id": "86808afb",
   "metadata": {},
   "outputs": [
    {
     "name": "stdout",
     "output_type": "stream",
     "text": [
      "[-4. -3. -2. -1.  1.  2.  3.  4.]\n"
     ]
    }
   ],
   "source": [
    "print(my_round2(a))"
   ]
  },
  {
   "cell_type": "code",
   "execution_count": 46,
   "id": "2fa2dafc",
   "metadata": {},
   "outputs": [
    {
     "name": "stdout",
     "output_type": "stream",
     "text": [
      "[-0.35 -0.25 -0.15 -0.05  0.05  0.15  0.25  0.35]\n"
     ]
    }
   ],
   "source": [
    "print(a / 10)"
   ]
  },
  {
   "cell_type": "code",
   "execution_count": 47,
   "id": "ea903e88",
   "metadata": {},
   "outputs": [
    {
     "name": "stdout",
     "output_type": "stream",
     "text": [
      "[-0.3 -0.2 -0.1  0.   0.1  0.2  0.3  0.4]\n"
     ]
    }
   ],
   "source": [
    "print(my_round(a / 10, 1))"
   ]
  },
  {
   "cell_type": "code",
   "execution_count": 48,
   "id": "468e3441",
   "metadata": {},
   "outputs": [
    {
     "name": "stdout",
     "output_type": "stream",
     "text": [
      "[-0.4 -0.3 -0.2 -0.1  0.1  0.2  0.3  0.4]\n"
     ]
    }
   ],
   "source": [
    "print(my_round2(a / 10, 1))"
   ]
  }
 ],
 "metadata": {
  "kernelspec": {
   "display_name": "Python 3",
   "language": "python",
   "name": "python3"
  },
  "language_info": {
   "codemirror_mode": {
    "name": "ipython",
    "version": 3
   },
   "file_extension": ".py",
   "mimetype": "text/x-python",
   "name": "python",
   "nbconvert_exporter": "python",
   "pygments_lexer": "ipython3",
   "version": "3.11.6"
  }
 },
 "nbformat": 4,
 "nbformat_minor": 5
}
