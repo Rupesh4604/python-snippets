{
 "cells": [
  {
   "cell_type": "code",
   "execution_count": 1,
   "id": "00557c0e",
   "metadata": {},
   "outputs": [],
   "source": [
    "import datetime"
   ]
  },
  {
   "cell_type": "code",
   "execution_count": 2,
   "id": "346b38b2",
   "metadata": {},
   "outputs": [],
   "source": [
    "dt = datetime.datetime(2023, 1, 1)"
   ]
  },
  {
   "cell_type": "code",
   "execution_count": 3,
   "id": "8bf82e98",
   "metadata": {},
   "outputs": [
    {
     "name": "stdout",
     "output_type": "stream",
     "text": [
      "January\n"
     ]
    }
   ],
   "source": [
    "print(dt.strftime('%B'))"
   ]
  },
  {
   "cell_type": "code",
   "execution_count": 4,
   "id": "2442241d",
   "metadata": {},
   "outputs": [
    {
     "name": "stdout",
     "output_type": "stream",
     "text": [
      "Jan\n"
     ]
    }
   ],
   "source": [
    "print(dt.strftime('%b'))"
   ]
  },
  {
   "cell_type": "code",
   "execution_count": 5,
   "id": "c64c016b",
   "metadata": {},
   "outputs": [],
   "source": [
    "import locale"
   ]
  },
  {
   "cell_type": "code",
   "execution_count": 6,
   "id": "859b89c1",
   "metadata": {},
   "outputs": [
    {
     "name": "stdout",
     "output_type": "stream",
     "text": [
      "January\n"
     ]
    }
   ],
   "source": [
    "locale.setlocale(locale.LC_TIME, 'en_US.UTF-8')\n",
    "print(dt.strftime('%B'))"
   ]
  },
  {
   "cell_type": "code",
   "execution_count": 7,
   "id": "3560099a",
   "metadata": {},
   "outputs": [
    {
     "name": "stdout",
     "output_type": "stream",
     "text": [
      "Jan\n"
     ]
    }
   ],
   "source": [
    "print(dt.strftime('%b'))"
   ]
  },
  {
   "cell_type": "code",
   "execution_count": 8,
   "id": "9876f117",
   "metadata": {},
   "outputs": [
    {
     "name": "stdout",
     "output_type": "stream",
     "text": [
      "Januar\n"
     ]
    }
   ],
   "source": [
    "locale.setlocale(locale.LC_TIME, 'de_DE.UTF-8')\n",
    "print(dt.strftime('%B'))"
   ]
  },
  {
   "cell_type": "code",
   "execution_count": 9,
   "id": "b0c783fc",
   "metadata": {},
   "outputs": [
    {
     "name": "stdout",
     "output_type": "stream",
     "text": [
      "Jan\n"
     ]
    }
   ],
   "source": [
    "print(dt.strftime('%b'))"
   ]
  },
  {
   "cell_type": "code",
   "execution_count": 10,
   "id": "2c94c554",
   "metadata": {},
   "outputs": [
    {
     "name": "stdout",
     "output_type": "stream",
     "text": [
      "1月\n"
     ]
    }
   ],
   "source": [
    "locale.setlocale(locale.LC_TIME, 'ja_JP.UTF-8')\n",
    "print(dt.strftime('%B'))"
   ]
  },
  {
   "cell_type": "code",
   "execution_count": 11,
   "id": "8e7cd870",
   "metadata": {},
   "outputs": [
    {
     "name": "stdout",
     "output_type": "stream",
     "text": [
      " 1\n"
     ]
    }
   ],
   "source": [
    "print(dt.strftime('%b'))"
   ]
  },
  {
   "cell_type": "code",
   "execution_count": 12,
   "id": "6bec52ba",
   "metadata": {},
   "outputs": [
    {
     "name": "stdout",
     "output_type": "stream",
     "text": [
      "1\n"
     ]
    }
   ],
   "source": [
    "dt = datetime.datetime(2023, 1, 1)\n",
    "print(dt.month)"
   ]
  },
  {
   "cell_type": "code",
   "execution_count": 13,
   "id": "37030486",
   "metadata": {},
   "outputs": [
    {
     "name": "stdout",
     "output_type": "stream",
     "text": [
      "<class 'int'>\n"
     ]
    }
   ],
   "source": [
    "print(type(dt.month))"
   ]
  },
  {
   "cell_type": "code",
   "execution_count": 14,
   "id": "1ea43e86",
   "metadata": {},
   "outputs": [],
   "source": [
    "m_list = ['Jan.', 'Feb.', 'Mar.', 'Apr.', 'May', 'June', 'July', 'Aug.', 'Sept.', 'Oct.', 'Nov.', 'Dec.']"
   ]
  },
  {
   "cell_type": "code",
   "execution_count": 15,
   "id": "82cc0802",
   "metadata": {},
   "outputs": [
    {
     "name": "stdout",
     "output_type": "stream",
     "text": [
      "Jan.\n"
     ]
    }
   ],
   "source": [
    "print(m_list[dt.month - 1])"
   ]
  },
  {
   "cell_type": "code",
   "execution_count": 16,
   "id": "47a875a2",
   "metadata": {},
   "outputs": [
    {
     "name": "stdout",
     "output_type": "stream",
     "text": [
      "1\n"
     ]
    }
   ],
   "source": [
    "d = datetime.date(2023, 1, 1)\n",
    "print(d.month)"
   ]
  },
  {
   "cell_type": "code",
   "execution_count": 17,
   "id": "107b3810",
   "metadata": {},
   "outputs": [
    {
     "name": "stdout",
     "output_type": "stream",
     "text": [
      "Jan.\n"
     ]
    }
   ],
   "source": [
    "print(m_list[d.month - 1])"
   ]
  }
 ],
 "metadata": {
  "kernelspec": {
   "display_name": "Python 3",
   "language": "python",
   "name": "python3"
  },
  "language_info": {
   "codemirror_mode": {
    "name": "ipython",
    "version": 3
   },
   "file_extension": ".py",
   "mimetype": "text/x-python",
   "name": "python",
   "nbconvert_exporter": "python",
   "pygments_lexer": "ipython3",
   "version": "3.11.6"
  }
 },
 "nbformat": 4,
 "nbformat_minor": 5
}
