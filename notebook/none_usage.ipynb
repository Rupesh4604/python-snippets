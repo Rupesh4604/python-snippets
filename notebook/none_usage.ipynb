{
 "cells": [
  {
   "cell_type": "code",
   "execution_count": 1,
   "id": "90bccfcc",
   "metadata": {},
   "outputs": [
    {
     "name": "stdout",
     "output_type": "stream",
     "text": [
      "None\n"
     ]
    }
   ],
   "source": [
    "a = None\n",
    "print(a)"
   ]
  },
  {
   "cell_type": "code",
   "execution_count": 2,
   "id": "233de577",
   "metadata": {},
   "outputs": [
    {
     "name": "stdout",
     "output_type": "stream",
     "text": [
      "<class 'NoneType'>\n"
     ]
    }
   ],
   "source": [
    "print(type(a))"
   ]
  },
  {
   "cell_type": "code",
   "execution_count": 3,
   "id": "5e84e542",
   "metadata": {},
   "outputs": [],
   "source": [
    "def func_none():\n",
    "    # do something\n",
    "    pass"
   ]
  },
  {
   "cell_type": "code",
   "execution_count": 4,
   "id": "e5d1b078",
   "metadata": {},
   "outputs": [
    {
     "name": "stdout",
     "output_type": "stream",
     "text": [
      "None\n"
     ]
    }
   ],
   "source": [
    "x = func_none()\n",
    "print(x)"
   ]
  },
  {
   "cell_type": "code",
   "execution_count": 5,
   "id": "e7f9bbfd",
   "metadata": {},
   "outputs": [
    {
     "name": "stdout",
     "output_type": "stream",
     "text": [
      "True\n"
     ]
    }
   ],
   "source": [
    "a = None\n",
    "print(a is None)"
   ]
  },
  {
   "cell_type": "code",
   "execution_count": 6,
   "id": "52d0f41b",
   "metadata": {},
   "outputs": [
    {
     "name": "stdout",
     "output_type": "stream",
     "text": [
      "False\n"
     ]
    }
   ],
   "source": [
    "print(a is not None)"
   ]
  },
  {
   "cell_type": "code",
   "execution_count": 7,
   "id": "7ae802bd",
   "metadata": {},
   "outputs": [
    {
     "name": "stdout",
     "output_type": "stream",
     "text": [
      "True\n"
     ]
    }
   ],
   "source": [
    "a = None\n",
    "print(a == None)"
   ]
  },
  {
   "cell_type": "code",
   "execution_count": 8,
   "id": "2d8dc9c0",
   "metadata": {},
   "outputs": [
    {
     "name": "stdout",
     "output_type": "stream",
     "text": [
      "False\n"
     ]
    }
   ],
   "source": [
    "print(a != None)"
   ]
  },
  {
   "cell_type": "code",
   "execution_count": 9,
   "id": "103260b8",
   "metadata": {},
   "outputs": [],
   "source": [
    "class MyClass:\n",
    "    def __eq__(self, other):\n",
    "        return True"
   ]
  },
  {
   "cell_type": "code",
   "execution_count": 10,
   "id": "c7248cc0",
   "metadata": {},
   "outputs": [
    {
     "name": "stdout",
     "output_type": "stream",
     "text": [
      "True\n"
     ]
    }
   ],
   "source": [
    "my_obj = MyClass()\n",
    "print(my_obj == None)"
   ]
  },
  {
   "cell_type": "code",
   "execution_count": 11,
   "id": "911703ec",
   "metadata": {},
   "outputs": [
    {
     "name": "stdout",
     "output_type": "stream",
     "text": [
      "False\n"
     ]
    }
   ],
   "source": [
    "print(my_obj is None)"
   ]
  },
  {
   "cell_type": "code",
   "execution_count": 12,
   "id": "0542680b",
   "metadata": {},
   "outputs": [
    {
     "name": "stdout",
     "output_type": "stream",
     "text": [
      "False\n"
     ]
    }
   ],
   "source": [
    "print(bool(None))"
   ]
  },
  {
   "cell_type": "code",
   "execution_count": 13,
   "id": "11d8f5dc",
   "metadata": {},
   "outputs": [
    {
     "name": "stdout",
     "output_type": "stream",
     "text": [
      "None is None\n"
     ]
    }
   ],
   "source": [
    "a = None\n",
    "\n",
    "if a:\n",
    "    print(f'{a} is not None')\n",
    "else:\n",
    "    print(f'{a} is None')"
   ]
  },
  {
   "cell_type": "code",
   "execution_count": 14,
   "id": "015c305c",
   "metadata": {},
   "outputs": [
    {
     "name": "stdout",
     "output_type": "stream",
     "text": [
      "0 is None\n"
     ]
    }
   ],
   "source": [
    "a = 0\n",
    "\n",
    "if a:\n",
    "    print(f'{a} is not None')\n",
    "else:\n",
    "    print(f'{a} is None')"
   ]
  },
  {
   "cell_type": "code",
   "execution_count": 15,
   "id": "d8ede776",
   "metadata": {},
   "outputs": [
    {
     "name": "stdout",
     "output_type": "stream",
     "text": [
      "None is None\n"
     ]
    }
   ],
   "source": [
    "a = None\n",
    "\n",
    "if a is not None:\n",
    "    print(f'{a} is not None')\n",
    "else:\n",
    "    print(f'{a} is None')"
   ]
  },
  {
   "cell_type": "code",
   "execution_count": 16,
   "id": "dc159c9a",
   "metadata": {},
   "outputs": [
    {
     "name": "stdout",
     "output_type": "stream",
     "text": [
      "0 is not None\n"
     ]
    }
   ],
   "source": [
    "a = 0\n",
    "\n",
    "if a is not None:\n",
    "    print(f'{a} is not None')\n",
    "else:\n",
    "    print(f'{a} is None')"
   ]
  }
 ],
 "metadata": {
  "kernelspec": {
   "display_name": "Python 3",
   "language": "python",
   "name": "python3"
  },
  "language_info": {
   "codemirror_mode": {
    "name": "ipython",
    "version": 3
   },
   "file_extension": ".py",
   "mimetype": "text/x-python",
   "name": "python",
   "nbconvert_exporter": "python",
   "pygments_lexer": "ipython3",
   "version": "3.11.3"
  }
 },
 "nbformat": 4,
 "nbformat_minor": 5
}
