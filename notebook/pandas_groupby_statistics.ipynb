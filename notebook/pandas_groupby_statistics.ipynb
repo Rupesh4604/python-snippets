{
 "cells": [
  {
   "cell_type": "code",
   "execution_count": 1,
   "metadata": {},
   "outputs": [],
   "source": [
    "import pandas as pd"
   ]
  },
  {
   "cell_type": "code",
   "execution_count": 2,
   "metadata": {},
   "outputs": [
    {
     "name": "stdout",
     "output_type": "stream",
     "text": [
      "2.1.2\n"
     ]
    }
   ],
   "source": [
    "print(pd.__version__)"
   ]
  },
  {
   "cell_type": "code",
   "execution_count": 3,
   "metadata": {},
   "outputs": [
    {
     "name": "stdout",
     "output_type": "stream",
     "text": [
      "    c_0 c_1  c_2  c_3\n",
      "r_0   A   X    0  125\n",
      "r_1   A   Y    1   64\n",
      "r_2   B   X    4   27\n",
      "r_3   B   Y    9   16\n",
      "r_4   B   X   16    1\n",
      "r_5   B   Y   25    0\n"
     ]
    }
   ],
   "source": [
    "df = pd.DataFrame(\n",
    "    {'c_0': ['A', 'A', 'B', 'B', 'B', 'B'],\n",
    "     'c_1': ['X', 'Y', 'X', 'Y', 'X', 'Y'],\n",
    "     'c_2': [0, 1, 4, 9, 16, 25],\n",
    "     'c_3': [125, 64, 27, 16, 1, 0]},\n",
    "    index=['r_0', 'r_1', 'r_2', 'r_3', 'r_4', 'r_5']\n",
    ")\n",
    "print(df)"
   ]
  },
  {
   "cell_type": "code",
   "execution_count": 4,
   "metadata": {},
   "outputs": [
    {
     "name": "stdout",
     "output_type": "stream",
     "text": [
      "<pandas.core.groupby.generic.DataFrameGroupBy object at 0x1272139d0>\n"
     ]
    }
   ],
   "source": [
    "grouped = df.groupby('c_0')\n",
    "print(grouped)"
   ]
  },
  {
   "cell_type": "code",
   "execution_count": 5,
   "metadata": {},
   "outputs": [
    {
     "name": "stdout",
     "output_type": "stream",
     "text": [
      "<class 'pandas.core.groupby.generic.DataFrameGroupBy'>\n"
     ]
    }
   ],
   "source": [
    "print(type(grouped))"
   ]
  },
  {
   "cell_type": "code",
   "execution_count": 6,
   "metadata": {},
   "outputs": [
    {
     "name": "stdout",
     "output_type": "stream",
     "text": [
      "      c_2   c_3\n",
      "c_0            \n",
      "A     0.5  94.5\n",
      "B    13.5  11.0\n"
     ]
    }
   ],
   "source": [
    "df_mean = grouped.mean(numeric_only=True)\n",
    "print(df_mean)"
   ]
  },
  {
   "cell_type": "code",
   "execution_count": 7,
   "metadata": {},
   "outputs": [
    {
     "name": "stdout",
     "output_type": "stream",
     "text": [
      "<class 'pandas.core.frame.DataFrame'>\n"
     ]
    }
   ],
   "source": [
    "print(type(df_mean))"
   ]
  },
  {
   "cell_type": "code",
   "execution_count": 8,
   "metadata": {},
   "outputs": [
    {
     "name": "stdout",
     "output_type": "stream",
     "text": [
      "      c_2   c_3\n",
      "c_0            \n",
      "A     0.5  94.5\n",
      "B    13.5  11.0\n"
     ]
    }
   ],
   "source": [
    "print(df.groupby('c_0').mean(numeric_only=True))"
   ]
  },
  {
   "cell_type": "code",
   "execution_count": 9,
   "metadata": {},
   "outputs": [
    {
     "name": "stdout",
     "output_type": "stream",
     "text": [
      "           c_2        c_3\n",
      "c_1                      \n",
      "X     6.666667  51.000000\n",
      "Y    11.666667  26.666667\n"
     ]
    }
   ],
   "source": [
    "print(df.groupby('c_1').mean(numeric_only=True))"
   ]
  },
  {
   "cell_type": "code",
   "execution_count": 10,
   "metadata": {},
   "outputs": [
    {
     "name": "stdout",
     "output_type": "stream",
     "text": [
      "c_0\n",
      "A     0.5\n",
      "B    13.5\n",
      "Name: c_2, dtype: float64\n"
     ]
    }
   ],
   "source": [
    "print(df.groupby('c_0')['c_2'].mean())"
   ]
  },
  {
   "cell_type": "code",
   "execution_count": 11,
   "metadata": {},
   "outputs": [
    {
     "name": "stdout",
     "output_type": "stream",
     "text": [
      "      c_2   c_3\n",
      "c_0            \n",
      "A     0.5  94.5\n",
      "B    13.5  11.0\n"
     ]
    }
   ],
   "source": [
    "print(df.groupby('c_0')[['c_2', 'c_3']].mean())"
   ]
  },
  {
   "cell_type": "code",
   "execution_count": 12,
   "metadata": {},
   "outputs": [
    {
     "name": "stdout",
     "output_type": "stream",
     "text": [
      "     c_2  c_3\n",
      "c_0          \n",
      "A      1  189\n",
      "B     54   44\n"
     ]
    }
   ],
   "source": [
    "print(df.groupby('c_0').sum(numeric_only=True))"
   ]
  },
  {
   "cell_type": "code",
   "execution_count": 13,
   "metadata": {},
   "outputs": [
    {
     "name": "stdout",
     "output_type": "stream",
     "text": [
      "     c_1  c_2  c_3\n",
      "c_0               \n",
      "A      2    2    2\n",
      "B      4    4    4\n"
     ]
    }
   ],
   "source": [
    "print(df.groupby('c_0').count())"
   ]
  },
  {
   "cell_type": "code",
   "execution_count": 14,
   "metadata": {},
   "outputs": [
    {
     "name": "stdout",
     "output_type": "stream",
     "text": [
      "          c_2    c_3\n",
      "c_0 c_1             \n",
      "A   X     0.0  125.0\n",
      "    Y     1.0   64.0\n",
      "B   X    10.0   14.0\n",
      "    Y    17.0    8.0\n"
     ]
    }
   ],
   "source": [
    "print(df.groupby(['c_0', 'c_1']).mean())"
   ]
  },
  {
   "cell_type": "code",
   "execution_count": 15,
   "metadata": {},
   "outputs": [
    {
     "name": "stdout",
     "output_type": "stream",
     "text": [
      "  c_0   c_2   c_3\n",
      "0   A   0.5  94.5\n",
      "1   B  13.5  11.0\n"
     ]
    }
   ],
   "source": [
    "print(df.groupby('c_0', as_index=False).mean(numeric_only=True))"
   ]
  },
  {
   "cell_type": "code",
   "execution_count": 16,
   "metadata": {},
   "outputs": [
    {
     "name": "stdout",
     "output_type": "stream",
     "text": [
      "  c_0 c_1   c_2    c_3\n",
      "0   A   X   0.0  125.0\n",
      "1   A   Y   1.0   64.0\n",
      "2   B   X  10.0   14.0\n",
      "3   B   Y  17.0    8.0\n"
     ]
    }
   ],
   "source": [
    "print(df.groupby(['c_0', 'c_1'], as_index=False).mean())"
   ]
  },
  {
   "cell_type": "code",
   "execution_count": 17,
   "metadata": {},
   "outputs": [
    {
     "name": "stdout",
     "output_type": "stream",
     "text": [
      "    c_0  c_1  c_2  c_3\n",
      "r_0   A  NaN    0  125\n",
      "r_1   A    Y    1   64\n",
      "r_2   B    X    4   27\n",
      "r_3   B    Y    9   16\n",
      "r_4   B    X   16    1\n",
      "r_5   B  NaN   25    0\n"
     ]
    }
   ],
   "source": [
    "df_nan = df.copy()\n",
    "df_nan.iloc[0, 1] = float('nan')\n",
    "df_nan.iloc[5, 1] = float('nan')\n",
    "print(df_nan)"
   ]
  },
  {
   "cell_type": "code",
   "execution_count": 18,
   "metadata": {},
   "outputs": [
    {
     "name": "stdout",
     "output_type": "stream",
     "text": [
      "          c_2   c_3\n",
      "c_0 c_1            \n",
      "A   Y     1.0  64.0\n",
      "B   X    10.0  14.0\n",
      "    Y     9.0  16.0\n"
     ]
    }
   ],
   "source": [
    "print(df_nan.groupby(['c_0', 'c_1']).mean())"
   ]
  },
  {
   "cell_type": "code",
   "execution_count": 19,
   "metadata": {},
   "outputs": [
    {
     "name": "stdout",
     "output_type": "stream",
     "text": [
      "          c_2    c_3\n",
      "c_0 c_1             \n",
      "A   Y     1.0   64.0\n",
      "    NaN   0.0  125.0\n",
      "B   X    10.0   14.0\n",
      "    Y     9.0   16.0\n",
      "    NaN  25.0    0.0\n"
     ]
    }
   ],
   "source": [
    "print(df_nan.groupby(['c_0', 'c_1'], dropna=False).mean())"
   ]
  },
  {
   "cell_type": "code",
   "execution_count": 20,
   "metadata": {},
   "outputs": [
    {
     "name": "stdout",
     "output_type": "stream",
     "text": [
      "    c_0 c_1  c_2  c_3\n",
      "r_2   B   X    4   27\n",
      "r_3   B   Y    9   16\n",
      "r_4   B   X   16    1\n",
      "r_5   B   Y   25    0\n"
     ]
    }
   ],
   "source": [
    "print(df.groupby('c_0').get_group('B'))"
   ]
  },
  {
   "cell_type": "code",
   "execution_count": 21,
   "metadata": {},
   "outputs": [
    {
     "name": "stdout",
     "output_type": "stream",
     "text": [
      "    c_0 c_1  c_2  c_3\n",
      "r_2   B   X    4   27\n",
      "r_4   B   X   16    1\n"
     ]
    }
   ],
   "source": [
    "print(df.groupby(['c_0', 'c_1']).get_group(('B', 'X')))"
   ]
  },
  {
   "cell_type": "code",
   "execution_count": 22,
   "metadata": {},
   "outputs": [
    {
     "name": "stdout",
     "output_type": "stream",
     "text": [
      "c_0\n",
      "A    2\n",
      "B    4\n",
      "dtype: int64\n"
     ]
    }
   ],
   "source": [
    "print(df.groupby('c_0').size())"
   ]
  },
  {
   "cell_type": "code",
   "execution_count": 23,
   "metadata": {},
   "outputs": [
    {
     "name": "stdout",
     "output_type": "stream",
     "text": [
      "c_0  c_1\n",
      "A    X      1\n",
      "     Y      1\n",
      "B    X      2\n",
      "     Y      2\n",
      "dtype: int64\n"
     ]
    }
   ],
   "source": [
    "print(df.groupby(['c_0', 'c_1']).size())"
   ]
  },
  {
   "cell_type": "code",
   "execution_count": 24,
   "metadata": {},
   "outputs": [
    {
     "name": "stdout",
     "output_type": "stream",
     "text": [
      "          c_2    c_3\n",
      "c_0 c_1             \n",
      "A   X     0.0  125.0\n",
      "    Y     1.0   64.0\n",
      "B   X    10.0   14.0\n",
      "    Y    17.0    8.0\n"
     ]
    }
   ],
   "source": [
    "print(df.groupby(['c_0', 'c_1']).agg('mean'))"
   ]
  },
  {
   "cell_type": "code",
   "execution_count": 25,
   "metadata": {},
   "outputs": [
    {
     "name": "stdout",
     "output_type": "stream",
     "text": [
      "          c_2            c_3          \n",
      "         mean min max   mean  min  max\n",
      "c_0 c_1                               \n",
      "A   X     0.0   0   0  125.0  125  125\n",
      "    Y     1.0   1   1   64.0   64   64\n",
      "B   X    10.0   4  16   14.0    1   27\n",
      "    Y    17.0   9  25    8.0    0   16\n"
     ]
    }
   ],
   "source": [
    "print(df.groupby(['c_0', 'c_1']).agg(['mean', 'min', 'max']))"
   ]
  },
  {
   "cell_type": "code",
   "execution_count": 26,
   "metadata": {},
   "outputs": [
    {
     "name": "stdout",
     "output_type": "stream",
     "text": [
      "        c_2  c_3     \n",
      "        sum  min  max\n",
      "c_0 c_1              \n",
      "A   X     0  125  125\n",
      "    Y     1   64   64\n",
      "B   X    20    1   27\n",
      "    Y    34    0   16\n"
     ]
    }
   ],
   "source": [
    "print(df.groupby(['c_0', 'c_1']).agg({'c_2': 'sum', 'c_3': ['min', 'max']}))"
   ]
  },
  {
   "cell_type": "code",
   "execution_count": 27,
   "metadata": {},
   "outputs": [],
   "source": [
    "# print(df.groupby(['row_0', 'row_1']).agg('xxx'))\n",
    "# AttributeError: 'xxx' is not a valid function for 'DataFrameGroupBy' object"
   ]
  },
  {
   "cell_type": "code",
   "execution_count": 28,
   "metadata": {},
   "outputs": [],
   "source": [
    "# print(df.groupby(['row_0', 'row_1']).agg(['xxx']))\n",
    "# AttributeError: 'SeriesGroupBy' object has no attribute 'xxx'"
   ]
  },
  {
   "cell_type": "code",
   "execution_count": 29,
   "metadata": {},
   "outputs": [],
   "source": [
    "def my_func(x):\n",
    "    return x.max() + x.min()"
   ]
  },
  {
   "cell_type": "code",
   "execution_count": 30,
   "metadata": {},
   "outputs": [
    {
     "name": "stdout",
     "output_type": "stream",
     "text": [
      "            c_2                c_3           \n",
      "        my_func <lambda_0> my_func <lambda_0>\n",
      "c_0 c_1                                      \n",
      "A   X         0        0.0     250        0.0\n",
      "    Y         2        0.0     128        0.0\n",
      "B   X        20       10.0      28       14.0\n",
      "    Y        34       17.0      16        8.0\n"
     ]
    }
   ],
   "source": [
    "print(df.groupby(['c_0', 'c_1']).agg([my_func, lambda x: x.sum() - x.mean()]))"
   ]
  },
  {
   "cell_type": "code",
   "execution_count": 31,
   "metadata": {},
   "outputs": [
    {
     "name": "stdout",
     "output_type": "stream",
     "text": [
      "<class 'pandas.core.series.Series'>\n"
     ]
    }
   ],
   "source": [
    "print(df.groupby(['c_0', 'c_1']).agg(lambda x: str(type(x))).iloc[0, 0])"
   ]
  },
  {
   "cell_type": "code",
   "execution_count": 32,
   "metadata": {},
   "outputs": [
    {
     "name": "stdout",
     "output_type": "stream",
     "text": [
      "<class 'pandas.core.series.Series'>\n"
     ]
    }
   ],
   "source": [
    "print(df.groupby(['c_0', 'c_1']).agg([lambda x: str(type(x))]).iloc[0, 0])"
   ]
  },
  {
   "cell_type": "code",
   "execution_count": 33,
   "metadata": {},
   "outputs": [
    {
     "name": "stdout",
     "output_type": "stream",
     "text": [
      "             c_2      c_3\n",
      "c_0 c_1                  \n",
      "A   X        [0]    [125]\n",
      "    Y        [1]     [64]\n",
      "B   X    [ 4 16]  [27  1]\n",
      "    Y    [ 9 25]  [16  0]\n"
     ]
    }
   ],
   "source": [
    "print(df.groupby(['c_0', 'c_1']).agg(lambda x: str(x.values)))"
   ]
  },
  {
   "cell_type": "code",
   "execution_count": 34,
   "metadata": {},
   "outputs": [
    {
     "name": "stdout",
     "output_type": "stream",
     "text": [
      "         count  mean        std  min   25%   50%   75%   max\n",
      "c_0 c_1                                                     \n",
      "A   X      1.0   0.0        NaN  0.0   0.0   0.0   0.0   0.0\n",
      "    Y      1.0   1.0        NaN  1.0   1.0   1.0   1.0   1.0\n",
      "B   X      2.0  10.0   8.485281  4.0   7.0  10.0  13.0  16.0\n",
      "    Y      2.0  17.0  11.313708  9.0  13.0  17.0  21.0  25.0\n"
     ]
    }
   ],
   "source": [
    "print(df.groupby(['c_0', 'c_1']).describe()['c_2'])"
   ]
  },
  {
   "cell_type": "code",
   "execution_count": 35,
   "metadata": {},
   "outputs": [
    {
     "name": "stdout",
     "output_type": "stream",
     "text": [
      "c_0  c_1\n",
      "A    X      <class 'pandas.core.frame.DataFrame'>\n",
      "     Y      <class 'pandas.core.frame.DataFrame'>\n",
      "B    X      <class 'pandas.core.frame.DataFrame'>\n",
      "     Y      <class 'pandas.core.frame.DataFrame'>\n",
      "dtype: object\n"
     ]
    }
   ],
   "source": [
    "print(df.groupby(['c_0', 'c_1']).apply(lambda x: type(x)))"
   ]
  },
  {
   "cell_type": "code",
   "execution_count": 36,
   "metadata": {},
   "outputs": [
    {
     "name": "stdout",
     "output_type": "stream",
     "text": [
      "    c_0 c_1  c_2  c_3\n",
      "r_0   A   X    0  125\n"
     ]
    }
   ],
   "source": [
    "dfs = []\n",
    "df.groupby(['c_0', 'c_1']).apply(lambda x: dfs.append(x))\n",
    "print(dfs[0])"
   ]
  },
  {
   "cell_type": "code",
   "execution_count": 37,
   "metadata": {},
   "outputs": [
    {
     "name": "stdout",
     "output_type": "stream",
     "text": [
      "    c_0 c_1  c_2  c_3\n",
      "r_1   A   Y    1   64\n"
     ]
    }
   ],
   "source": [
    "print(dfs[1])"
   ]
  },
  {
   "cell_type": "code",
   "execution_count": 38,
   "metadata": {},
   "outputs": [
    {
     "name": "stdout",
     "output_type": "stream",
     "text": [
      "    c_0 c_1  c_2  c_3\n",
      "r_2   B   X    4   27\n",
      "r_4   B   X   16    1\n"
     ]
    }
   ],
   "source": [
    "print(dfs[2])"
   ]
  },
  {
   "cell_type": "code",
   "execution_count": 39,
   "metadata": {},
   "outputs": [
    {
     "name": "stdout",
     "output_type": "stream",
     "text": [
      "    c_0 c_1  c_2  c_3\n",
      "r_3   B   Y    9   16\n",
      "r_5   B   Y   25    0\n"
     ]
    }
   ],
   "source": [
    "print(dfs[3])"
   ]
  },
  {
   "cell_type": "code",
   "execution_count": 40,
   "metadata": {},
   "outputs": [
    {
     "name": "stdout",
     "output_type": "stream",
     "text": [
      "c_0  c_1\n",
      "A    X       0\n",
      "     Y       1\n",
      "B    X      16\n",
      "     Y      25\n",
      "dtype: int64\n"
     ]
    }
   ],
   "source": [
    "print(df.groupby(['c_0', 'c_1']).apply(lambda x: x['c_2'].max()))"
   ]
  },
  {
   "cell_type": "code",
   "execution_count": 41,
   "metadata": {},
   "outputs": [
    {
     "name": "stdout",
     "output_type": "stream",
     "text": [
      "  c_0 c_1  None\n",
      "0   A   X     0\n",
      "1   A   Y     1\n",
      "2   B   X    16\n",
      "3   B   Y    25\n"
     ]
    }
   ],
   "source": [
    "print(df.groupby(['c_0', 'c_1'], as_index=False).apply(lambda x: x['c_2'].max()))"
   ]
  },
  {
   "cell_type": "code",
   "execution_count": 42,
   "metadata": {},
   "outputs": [
    {
     "name": "stdout",
     "output_type": "stream",
     "text": [
      "c_2      0\n",
      "c_3    125\n",
      "dtype: int64\n"
     ]
    }
   ],
   "source": [
    "print(dfs[0][['c_2', 'c_3']].max())"
   ]
  },
  {
   "cell_type": "code",
   "execution_count": 43,
   "metadata": {},
   "outputs": [
    {
     "name": "stdout",
     "output_type": "stream",
     "text": [
      "r_0    125\n",
      "dtype: int64\n"
     ]
    }
   ],
   "source": [
    "print(dfs[0][['c_2', 'c_3']].max(axis=1))"
   ]
  },
  {
   "cell_type": "code",
   "execution_count": 44,
   "metadata": {},
   "outputs": [
    {
     "name": "stdout",
     "output_type": "stream",
     "text": [
      "         c_2  c_3\n",
      "c_0 c_1          \n",
      "A   X      0  125\n",
      "    Y      1   64\n",
      "B   X     16   27\n",
      "    Y     25   16\n"
     ]
    }
   ],
   "source": [
    "print(df.groupby(['c_0', 'c_1']).apply(lambda x: x[['c_2', 'c_3']].max()))"
   ]
  },
  {
   "cell_type": "code",
   "execution_count": 45,
   "metadata": {},
   "outputs": [
    {
     "name": "stdout",
     "output_type": "stream",
     "text": [
      "c_0  c_1     \n",
      "A    X    r_0    125\n",
      "     Y    r_1     64\n",
      "B    X    r_2     27\n",
      "          r_4     16\n",
      "     Y    r_3     16\n",
      "          r_5     25\n",
      "dtype: int64\n"
     ]
    }
   ],
   "source": [
    "print(df.groupby(['c_0', 'c_1']).apply(lambda x: x[['c_2', 'c_3']].max(axis=1)))"
   ]
  },
  {
   "cell_type": "code",
   "execution_count": 46,
   "metadata": {},
   "outputs": [
    {
     "name": "stdout",
     "output_type": "stream",
     "text": [
      "0  r_0    125\n",
      "1  r_1     64\n",
      "2  r_2     27\n",
      "   r_4     16\n",
      "3  r_3     16\n",
      "   r_5     25\n",
      "dtype: int64\n"
     ]
    }
   ],
   "source": [
    "print(\n",
    "    df.groupby(['c_0', 'c_1'], as_index=False).apply(\n",
    "        lambda x: x[['c_2', 'c_3']].max(axis=1)\n",
    "    )\n",
    ")"
   ]
  },
  {
   "cell_type": "code",
   "execution_count": 47,
   "metadata": {},
   "outputs": [
    {
     "name": "stdout",
     "output_type": "stream",
     "text": [
      "r_0    125\n",
      "r_1     64\n",
      "r_2     27\n",
      "r_4     16\n",
      "r_3     16\n",
      "r_5     25\n",
      "dtype: int64\n"
     ]
    }
   ],
   "source": [
    "print(\n",
    "    df.groupby(['c_0', 'c_1'], group_keys=False).apply(\n",
    "        lambda x: x[['c_2', 'c_3']].max(axis=1)\n",
    "    )\n",
    ")"
   ]
  },
  {
   "cell_type": "code",
   "execution_count": 48,
   "metadata": {},
   "outputs": [
    {
     "name": "stdout",
     "output_type": "stream",
     "text": [
      "             c_2   c_3\n",
      "c_0 c_1               \n",
      "A   X   r_0    0  1250\n",
      "    Y   r_1   10   640\n",
      "B   X   r_2   40   270\n",
      "        r_4  160    10\n",
      "    Y   r_3   90   160\n",
      "        r_5  250     0\n"
     ]
    }
   ],
   "source": [
    "print(df.groupby(['c_0', 'c_1']).apply(lambda x: x[['c_2', 'c_3']] * 10))"
   ]
  },
  {
   "cell_type": "code",
   "execution_count": 49,
   "metadata": {},
   "outputs": [
    {
     "name": "stdout",
     "output_type": "stream",
     "text": [
      "       c_2   c_3\n",
      "0 r_0    0  1250\n",
      "1 r_1   10   640\n",
      "2 r_2   40   270\n",
      "  r_4  160    10\n",
      "3 r_3   90   160\n",
      "  r_5  250     0\n"
     ]
    }
   ],
   "source": [
    "print(\n",
    "    df.groupby(['c_0', 'c_1'], as_index=False).apply(lambda x: x[['c_2', 'c_3']] * 10)\n",
    ")"
   ]
  },
  {
   "cell_type": "code",
   "execution_count": 50,
   "metadata": {},
   "outputs": [
    {
     "name": "stdout",
     "output_type": "stream",
     "text": [
      "     c_2   c_3\n",
      "r_0    0  1250\n",
      "r_1   10   640\n",
      "r_2   40   270\n",
      "r_3   90   160\n",
      "r_4  160    10\n",
      "r_5  250     0\n"
     ]
    }
   ],
   "source": [
    "print(\n",
    "    df.groupby(['c_0', 'c_1'], group_keys=False).apply(lambda x: x[['c_2', 'c_3']] * 10)\n",
    ")"
   ]
  }
 ],
 "metadata": {
  "kernelspec": {
   "display_name": "Python 3",
   "language": "python",
   "name": "python3"
  },
  "language_info": {
   "codemirror_mode": {
    "name": "ipython",
    "version": 3
   },
   "file_extension": ".py",
   "mimetype": "text/x-python",
   "name": "python",
   "nbconvert_exporter": "python",
   "pygments_lexer": "ipython3",
   "version": "3.11.6"
  }
 },
 "nbformat": 4,
 "nbformat_minor": 2
}
