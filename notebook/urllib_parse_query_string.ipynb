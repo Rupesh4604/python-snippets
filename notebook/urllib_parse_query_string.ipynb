{
 "cells": [
  {
   "cell_type": "code",
   "execution_count": 1,
   "metadata": {},
   "outputs": [],
   "source": [
    "import urllib.parse"
   ]
  },
  {
   "cell_type": "code",
   "execution_count": 2,
   "metadata": {},
   "outputs": [],
   "source": [
    "url = 'https://example.com?key1=value1&key2=value2'"
   ]
  },
  {
   "cell_type": "code",
   "execution_count": 3,
   "metadata": {},
   "outputs": [
    {
     "name": "stdout",
     "output_type": "stream",
     "text": [
      "ParseResult(scheme='https', netloc='example.com', path='', params='', query='key1=value1&key2=value2', fragment='')\n"
     ]
    }
   ],
   "source": [
    "print(urllib.parse.urlparse(url))"
   ]
  },
  {
   "cell_type": "code",
   "execution_count": 4,
   "metadata": {},
   "outputs": [
    {
     "name": "stdout",
     "output_type": "stream",
     "text": [
      "key1=value1&key2=value2\n"
     ]
    }
   ],
   "source": [
    "qs = urllib.parse.urlparse(url).query\n",
    "print(qs)"
   ]
  },
  {
   "cell_type": "code",
   "execution_count": 5,
   "metadata": {},
   "outputs": [
    {
     "name": "stdout",
     "output_type": "stream",
     "text": [
      "<class 'str'>\n"
     ]
    }
   ],
   "source": [
    "print(type(qs))"
   ]
  },
  {
   "cell_type": "code",
   "execution_count": 6,
   "metadata": {},
   "outputs": [],
   "source": [
    "qs = 'key1=value1&key2=value2%201&key2=value2%2F2'"
   ]
  },
  {
   "cell_type": "code",
   "execution_count": 7,
   "metadata": {},
   "outputs": [
    {
     "name": "stdout",
     "output_type": "stream",
     "text": [
      "{'key1': ['value1'], 'key2': ['value2 1', 'value2/2']}\n"
     ]
    }
   ],
   "source": [
    "qs_d = urllib.parse.parse_qs(qs)\n",
    "print(qs_d)"
   ]
  },
  {
   "cell_type": "code",
   "execution_count": 8,
   "metadata": {},
   "outputs": [
    {
     "name": "stdout",
     "output_type": "stream",
     "text": [
      "<class 'dict'>\n"
     ]
    }
   ],
   "source": [
    "print(type(qs_d))"
   ]
  },
  {
   "cell_type": "code",
   "execution_count": 9,
   "metadata": {},
   "outputs": [
    {
     "name": "stdout",
     "output_type": "stream",
     "text": [
      "[('key1', 'value1'), ('key2', 'value2 1'), ('key2', 'value2/2')]\n"
     ]
    }
   ],
   "source": [
    "qs_l = urllib.parse.parse_qsl(qs)\n",
    "print(qs_l)"
   ]
  },
  {
   "cell_type": "code",
   "execution_count": 10,
   "metadata": {},
   "outputs": [
    {
     "name": "stdout",
     "output_type": "stream",
     "text": [
      "<class 'list'>\n"
     ]
    }
   ],
   "source": [
    "print(type(qs_l))"
   ]
  },
  {
   "cell_type": "code",
   "execution_count": 11,
   "metadata": {},
   "outputs": [],
   "source": [
    "d = {'key1': 'value=1', 'key2': 'value=2'}"
   ]
  },
  {
   "cell_type": "code",
   "execution_count": 12,
   "metadata": {},
   "outputs": [
    {
     "name": "stdout",
     "output_type": "stream",
     "text": [
      "key1=value%3D1&key2=value%3D2\n"
     ]
    }
   ],
   "source": [
    "d_qs = urllib.parse.urlencode(d)\n",
    "print(d_qs)"
   ]
  },
  {
   "cell_type": "code",
   "execution_count": 13,
   "metadata": {},
   "outputs": [
    {
     "name": "stdout",
     "output_type": "stream",
     "text": [
      "<class 'str'>\n"
     ]
    }
   ],
   "source": [
    "print(type(d_qs))"
   ]
  },
  {
   "cell_type": "code",
   "execution_count": 14,
   "metadata": {},
   "outputs": [],
   "source": [
    "l = [('key1', 'value=1'), ('key2', 'value=2')]"
   ]
  },
  {
   "cell_type": "code",
   "execution_count": 15,
   "metadata": {},
   "outputs": [
    {
     "name": "stdout",
     "output_type": "stream",
     "text": [
      "key1=value%3D1&key2=value%3D2\n"
     ]
    }
   ],
   "source": [
    "l_qs = urllib.parse.urlencode(l)\n",
    "print(l_qs)"
   ]
  },
  {
   "cell_type": "code",
   "execution_count": 16,
   "metadata": {},
   "outputs": [
    {
     "name": "stdout",
     "output_type": "stream",
     "text": [
      "<class 'str'>\n"
     ]
    }
   ],
   "source": [
    "print(type(l_qs))"
   ]
  },
  {
   "cell_type": "code",
   "execution_count": 17,
   "metadata": {},
   "outputs": [],
   "source": [
    "d = {'key1': 'value 1', 'key2': 'value/2'}"
   ]
  },
  {
   "cell_type": "code",
   "execution_count": 18,
   "metadata": {},
   "outputs": [
    {
     "name": "stdout",
     "output_type": "stream",
     "text": [
      "key1=value+1&key2=value%2F2\n"
     ]
    }
   ],
   "source": [
    "print(urllib.parse.urlencode(d))"
   ]
  },
  {
   "cell_type": "code",
   "execution_count": 19,
   "metadata": {},
   "outputs": [
    {
     "name": "stdout",
     "output_type": "stream",
     "text": [
      "key1=value%201&key2=value%2F2\n"
     ]
    }
   ],
   "source": [
    "print(urllib.parse.urlencode(d, quote_via=urllib.parse.quote))"
   ]
  },
  {
   "cell_type": "code",
   "execution_count": 20,
   "metadata": {},
   "outputs": [
    {
     "name": "stdout",
     "output_type": "stream",
     "text": [
      "key1=value+1&key2=value/2\n"
     ]
    }
   ],
   "source": [
    "print(urllib.parse.urlencode(d, safe='/'))"
   ]
  },
  {
   "cell_type": "code",
   "execution_count": 21,
   "metadata": {},
   "outputs": [
    {
     "name": "stdout",
     "output_type": "stream",
     "text": [
      "key1=value%201&key2=value/2\n"
     ]
    }
   ],
   "source": [
    "print(urllib.parse.urlencode(d, safe='/', quote_via=urllib.parse.quote))"
   ]
  },
  {
   "cell_type": "code",
   "execution_count": 22,
   "metadata": {},
   "outputs": [],
   "source": [
    "qs = 'key1=value1&key2=value2_1&key2=value2_2'"
   ]
  },
  {
   "cell_type": "code",
   "execution_count": 23,
   "metadata": {},
   "outputs": [
    {
     "name": "stdout",
     "output_type": "stream",
     "text": [
      "{'key1': ['value1'], 'key2': ['value2_1', 'value2_2']}\n"
     ]
    }
   ],
   "source": [
    "qs_d = urllib.parse.parse_qs(qs)\n",
    "print(qs_d)"
   ]
  },
  {
   "cell_type": "code",
   "execution_count": 24,
   "metadata": {},
   "outputs": [
    {
     "name": "stdout",
     "output_type": "stream",
     "text": [
      "key1=%5B%27value1%27%5D&key2=%5B%27value2_1%27%2C+%27value2_2%27%5D\n"
     ]
    }
   ],
   "source": [
    "print(urllib.parse.urlencode(qs_d))"
   ]
  },
  {
   "cell_type": "code",
   "execution_count": 25,
   "metadata": {},
   "outputs": [
    {
     "name": "stdout",
     "output_type": "stream",
     "text": [
      "key1=value1&key2=value2_1&key2=value2_2\n"
     ]
    }
   ],
   "source": [
    "print(urllib.parse.urlencode(qs_d, doseq=True))"
   ]
  },
  {
   "cell_type": "code",
   "execution_count": 26,
   "metadata": {},
   "outputs": [],
   "source": [
    "def update_query(url, key, new_val):\n",
    "    pr = urllib.parse.urlparse(url)\n",
    "    d = urllib.parse.parse_qs(pr.query)\n",
    "    d[key] = new_val\n",
    "    return urllib.parse.urlunparse(pr._replace(query=urllib.parse.urlencode(d, doseq=True)))"
   ]
  },
  {
   "cell_type": "code",
   "execution_count": 27,
   "metadata": {},
   "outputs": [],
   "source": [
    "url = 'https://example.com?k1=v1&k2=v2_1&k2=v2_2'"
   ]
  },
  {
   "cell_type": "code",
   "execution_count": 28,
   "metadata": {},
   "outputs": [
    {
     "name": "stdout",
     "output_type": "stream",
     "text": [
      "https://example.com?k1=v100&k2=v2_1&k2=v2_2\n"
     ]
    }
   ],
   "source": [
    "print(update_query(url, 'k1', 'v100'))"
   ]
  },
  {
   "cell_type": "code",
   "execution_count": 29,
   "metadata": {},
   "outputs": [
    {
     "name": "stdout",
     "output_type": "stream",
     "text": [
      "https://example.com?k1=v1&k2=v2\n"
     ]
    }
   ],
   "source": [
    "print(update_query(url, 'k2', 'v2'))"
   ]
  },
  {
   "cell_type": "code",
   "execution_count": 30,
   "metadata": {},
   "outputs": [
    {
     "name": "stdout",
     "output_type": "stream",
     "text": [
      "https://example.com?k1=v1&k2=v2_100&k2=v2_200\n"
     ]
    }
   ],
   "source": [
    "print(update_query(url, 'k2', ['v2_100', 'v2_200']))"
   ]
  },
  {
   "cell_type": "code",
   "execution_count": 31,
   "metadata": {},
   "outputs": [
    {
     "name": "stdout",
     "output_type": "stream",
     "text": [
      "https://example.com?k1=v1&k2=v2_1&k2=v2_2&k3=v3\n"
     ]
    }
   ],
   "source": [
    "print(update_query(url, 'k3', 'v3'))"
   ]
  },
  {
   "cell_type": "code",
   "execution_count": 32,
   "metadata": {},
   "outputs": [],
   "source": [
    "def remove_query(url, key):\n",
    "    pr = urllib.parse.urlparse(url)\n",
    "    d = urllib.parse.parse_qs(pr.query)\n",
    "    d.pop(key, None)\n",
    "    return urllib.parse.urlunparse(pr._replace(query=urllib.parse.urlencode(d, doseq=True)))"
   ]
  },
  {
   "cell_type": "code",
   "execution_count": 33,
   "metadata": {},
   "outputs": [],
   "source": [
    "url = 'https://example.com?k1=v1&k2=v2_1&k2=v2_2'"
   ]
  },
  {
   "cell_type": "code",
   "execution_count": 34,
   "metadata": {},
   "outputs": [
    {
     "name": "stdout",
     "output_type": "stream",
     "text": [
      "https://example.com?k2=v2_1&k2=v2_2\n"
     ]
    }
   ],
   "source": [
    "print(remove_query(url, 'k1'))"
   ]
  },
  {
   "cell_type": "code",
   "execution_count": 35,
   "metadata": {},
   "outputs": [
    {
     "name": "stdout",
     "output_type": "stream",
     "text": [
      "https://example.com?k1=v1\n"
     ]
    }
   ],
   "source": [
    "print(remove_query(url, 'k2'))"
   ]
  },
  {
   "cell_type": "code",
   "execution_count": 36,
   "metadata": {},
   "outputs": [
    {
     "name": "stdout",
     "output_type": "stream",
     "text": [
      "https://example.com?k1=v1&k2=v2_1&k2=v2_2\n"
     ]
    }
   ],
   "source": [
    "print(remove_query(url, 'k3'))"
   ]
  },
  {
   "cell_type": "code",
   "execution_count": 37,
   "metadata": {},
   "outputs": [],
   "source": [
    "def remove_all_queries(url):\n",
    "    return urllib.parse.urlunparse(urllib.parse.urlparse(url)._replace(query=None))"
   ]
  },
  {
   "cell_type": "code",
   "execution_count": 38,
   "metadata": {},
   "outputs": [],
   "source": [
    "url = 'https://example.com?k1=v1&k2=v2_1&k2=v2_2'"
   ]
  },
  {
   "cell_type": "code",
   "execution_count": 39,
   "metadata": {},
   "outputs": [
    {
     "name": "stdout",
     "output_type": "stream",
     "text": [
      "https://example.com\n"
     ]
    }
   ],
   "source": [
    "print(remove_all_queries(url))"
   ]
  }
 ],
 "metadata": {
  "kernelspec": {
   "display_name": "Python 3",
   "language": "python",
   "name": "python3"
  },
  "language_info": {
   "codemirror_mode": {
    "name": "ipython",
    "version": 3
   },
   "file_extension": ".py",
   "mimetype": "text/x-python",
   "name": "python",
   "nbconvert_exporter": "python",
   "pygments_lexer": "ipython3",
   "version": "3.11.6"
  }
 },
 "nbformat": 4,
 "nbformat_minor": 2
}
