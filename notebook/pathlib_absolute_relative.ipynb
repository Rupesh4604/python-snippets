{
 "cells": [
  {
   "cell_type": "code",
   "execution_count": 1,
   "id": "39385be7",
   "metadata": {},
   "outputs": [],
   "source": [
    "from pathlib import Path"
   ]
  },
  {
   "cell_type": "code",
   "execution_count": 2,
   "id": "64af4589",
   "metadata": {},
   "outputs": [
    {
     "name": "stdout",
     "output_type": "stream",
     "text": [
      "dir/sub_dir/file.txt\n"
     ]
    }
   ],
   "source": [
    "p = Path('dir/sub_dir/file.txt')\n",
    "print(p)"
   ]
  },
  {
   "cell_type": "code",
   "execution_count": 3,
   "id": "1273fd9e",
   "metadata": {},
   "outputs": [
    {
     "name": "stdout",
     "output_type": "stream",
     "text": [
      "<class 'pathlib.PosixPath'>\n"
     ]
    }
   ],
   "source": [
    "print(type(p))"
   ]
  },
  {
   "cell_type": "code",
   "execution_count": 4,
   "id": "bc9344fc",
   "metadata": {},
   "outputs": [
    {
     "name": "stdout",
     "output_type": "stream",
     "text": [
      "/Users/mbp/Documents/my-project/python-snippets/notebook\n"
     ]
    }
   ],
   "source": [
    "print(Path.cwd())"
   ]
  },
  {
   "cell_type": "code",
   "execution_count": 5,
   "id": "005e856f",
   "metadata": {},
   "outputs": [
    {
     "name": "stdout",
     "output_type": "stream",
     "text": [
      "<class 'pathlib.PosixPath'>\n"
     ]
    }
   ],
   "source": [
    "print(type(Path.cwd()))"
   ]
  },
  {
   "cell_type": "code",
   "execution_count": 6,
   "id": "3a793065",
   "metadata": {},
   "outputs": [
    {
     "name": "stdout",
     "output_type": "stream",
     "text": [
      "/Users/mbp/Documents/my-project/python-snippets/notebook\n"
     ]
    }
   ],
   "source": [
    "print(p.cwd())"
   ]
  },
  {
   "cell_type": "code",
   "execution_count": 7,
   "id": "94e16444",
   "metadata": {},
   "outputs": [
    {
     "name": "stdout",
     "output_type": "stream",
     "text": [
      "<class 'pathlib.PosixPath'>\n"
     ]
    }
   ],
   "source": [
    "print(type(p.cwd()))"
   ]
  },
  {
   "cell_type": "code",
   "execution_count": 8,
   "id": "140182be",
   "metadata": {},
   "outputs": [],
   "source": [
    "import os"
   ]
  },
  {
   "cell_type": "code",
   "execution_count": 9,
   "id": "641616f0",
   "metadata": {},
   "outputs": [
    {
     "name": "stdout",
     "output_type": "stream",
     "text": [
      "/Users/mbp/Documents/my-project/python-snippets/notebook\n"
     ]
    }
   ],
   "source": [
    "print(os.getcwd())"
   ]
  },
  {
   "cell_type": "code",
   "execution_count": 10,
   "id": "c3fd33cc",
   "metadata": {},
   "outputs": [
    {
     "name": "stdout",
     "output_type": "stream",
     "text": [
      "<class 'str'>\n"
     ]
    }
   ],
   "source": [
    "print(type(os.getcwd()))"
   ]
  },
  {
   "cell_type": "code",
   "execution_count": 11,
   "id": "d6cbcf0e",
   "metadata": {},
   "outputs": [
    {
     "name": "stdout",
     "output_type": "stream",
     "text": [
      "/Users/mbp/Documents/my-project/python-snippets/notebook/dir/sub_dir/file.txt\n"
     ]
    }
   ],
   "source": [
    "print(p.resolve())"
   ]
  },
  {
   "cell_type": "code",
   "execution_count": 12,
   "id": "1f9888e3",
   "metadata": {},
   "outputs": [
    {
     "name": "stdout",
     "output_type": "stream",
     "text": [
      "dir/sub_dir/../file.txt\n"
     ]
    }
   ],
   "source": [
    "p_rel = Path('dir/sub_dir/../file.txt')\n",
    "print(p_rel)"
   ]
  },
  {
   "cell_type": "code",
   "execution_count": 13,
   "id": "3c69d6fd",
   "metadata": {},
   "outputs": [
    {
     "name": "stdout",
     "output_type": "stream",
     "text": [
      "/Users/mbp/Documents/my-project/python-snippets/notebook/dir/file.txt\n"
     ]
    }
   ],
   "source": [
    "print(p_rel.resolve())"
   ]
  },
  {
   "cell_type": "code",
   "execution_count": 14,
   "id": "b3010da6",
   "metadata": {},
   "outputs": [],
   "source": [
    "p_new_file = Path('data/new_file.txt')"
   ]
  },
  {
   "cell_type": "code",
   "execution_count": 15,
   "id": "98b9a49e",
   "metadata": {},
   "outputs": [
    {
     "name": "stdout",
     "output_type": "stream",
     "text": [
      "/Users/mbp/Documents/my-project/python-snippets/notebook/data/new_file.txt\n"
     ]
    }
   ],
   "source": [
    "print(p_new_file.resolve())"
   ]
  },
  {
   "cell_type": "code",
   "execution_count": 16,
   "id": "27edf950",
   "metadata": {},
   "outputs": [],
   "source": [
    "# print(p_new_file.resolve(strict=True))\n",
    "# FileNotFoundError: [Errno 2] No such file or directory: 'data/new_file.txt'"
   ]
  },
  {
   "cell_type": "code",
   "execution_count": 17,
   "id": "273b392f",
   "metadata": {},
   "outputs": [
    {
     "name": "stdout",
     "output_type": "stream",
     "text": [
      "/Users/mbp/Documents/my-project/python-snippets/notebook/dir/sub_dir/file.txt\n"
     ]
    }
   ],
   "source": [
    "print(p.absolute())"
   ]
  },
  {
   "cell_type": "code",
   "execution_count": 18,
   "id": "e82c7ced",
   "metadata": {},
   "outputs": [
    {
     "name": "stdout",
     "output_type": "stream",
     "text": [
      "/Users/mbp/Documents/my-project/python-snippets/notebook/dir/sub_dir/../file.txt\n"
     ]
    }
   ],
   "source": [
    "print(p_rel.absolute())"
   ]
  },
  {
   "cell_type": "code",
   "execution_count": 19,
   "id": "a54f420e",
   "metadata": {},
   "outputs": [
    {
     "name": "stdout",
     "output_type": "stream",
     "text": [
      "/Users/mbp/Documents/my-project/python-snippets/notebook/dir/sub_dir/file.txt\n"
     ]
    }
   ],
   "source": [
    "p_abs = Path('dir/sub_dir/file.txt').resolve()\n",
    "print(p_abs)"
   ]
  },
  {
   "cell_type": "code",
   "execution_count": 20,
   "id": "5da89db7",
   "metadata": {},
   "outputs": [
    {
     "name": "stdout",
     "output_type": "stream",
     "text": [
      "dir/sub_dir/file.txt\n"
     ]
    }
   ],
   "source": [
    "print(p_abs.relative_to(Path.cwd()))"
   ]
  },
  {
   "cell_type": "code",
   "execution_count": 21,
   "id": "3fade9f4",
   "metadata": {},
   "outputs": [
    {
     "name": "stdout",
     "output_type": "stream",
     "text": [
      "python-snippets/notebook/dir/sub_dir/file.txt\n"
     ]
    }
   ],
   "source": [
    "print(p_abs.relative_to('/Users/mbp/Documents/my-project'))"
   ]
  },
  {
   "cell_type": "code",
   "execution_count": 22,
   "id": "717b348c",
   "metadata": {},
   "outputs": [],
   "source": [
    "# print(p_abs.relative_to('/usr/'))\n",
    "# ValueError: '/Users/mbp/Documents/my-project/python-snippets/notebook/dir/sub_dir/file.txt' is not in the subpath of '/usr' OR one path is relative and the other is absolute."
   ]
  },
  {
   "cell_type": "code",
   "execution_count": 23,
   "id": "8443b6fe",
   "metadata": {},
   "outputs": [
    {
     "name": "stdout",
     "output_type": "stream",
     "text": [
      "sub_dir/file.txt\n"
     ]
    }
   ],
   "source": [
    "print(p.relative_to('dir'))"
   ]
  },
  {
   "cell_type": "code",
   "execution_count": 24,
   "id": "467d4fb7",
   "metadata": {},
   "outputs": [
    {
     "name": "stdout",
     "output_type": "stream",
     "text": [
      "True\n"
     ]
    }
   ],
   "source": [
    "print(p_abs.is_absolute())"
   ]
  },
  {
   "cell_type": "code",
   "execution_count": 25,
   "id": "8660760a",
   "metadata": {},
   "outputs": [
    {
     "name": "stdout",
     "output_type": "stream",
     "text": [
      "False\n"
     ]
    }
   ],
   "source": [
    "print(p.is_absolute())"
   ]
  },
  {
   "cell_type": "code",
   "execution_count": 26,
   "id": "4e423f28",
   "metadata": {},
   "outputs": [
    {
     "name": "stdout",
     "output_type": "stream",
     "text": [
      "True\n"
     ]
    }
   ],
   "source": [
    "print(p_abs.is_relative_to(Path.cwd()))"
   ]
  },
  {
   "cell_type": "code",
   "execution_count": 27,
   "id": "45cfa158",
   "metadata": {},
   "outputs": [
    {
     "name": "stdout",
     "output_type": "stream",
     "text": [
      "False\n"
     ]
    }
   ],
   "source": [
    "print(p.is_relative_to(Path.cwd()))"
   ]
  },
  {
   "cell_type": "code",
   "execution_count": 28,
   "id": "52c429a8",
   "metadata": {},
   "outputs": [
    {
     "name": "stdout",
     "output_type": "stream",
     "text": [
      "True\n"
     ]
    }
   ],
   "source": [
    "print(p.is_relative_to('dir/sub_dir'))"
   ]
  }
 ],
 "metadata": {
  "kernelspec": {
   "display_name": "Python 3",
   "language": "python",
   "name": "python3"
  },
  "language_info": {
   "codemirror_mode": {
    "name": "ipython",
    "version": 3
   },
   "file_extension": ".py",
   "mimetype": "text/x-python",
   "name": "python",
   "nbconvert_exporter": "python",
   "pygments_lexer": "ipython3",
   "version": "3.11.6"
  }
 },
 "nbformat": 4,
 "nbformat_minor": 5
}
