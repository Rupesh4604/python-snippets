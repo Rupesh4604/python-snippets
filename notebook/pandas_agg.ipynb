{
 "cells": [
  {
   "cell_type": "code",
   "execution_count": 1,
   "metadata": {},
   "outputs": [],
   "source": [
    "import pandas as pd\n",
    "import numpy as np"
   ]
  },
  {
   "cell_type": "code",
   "execution_count": 2,
   "metadata": {},
   "outputs": [
    {
     "name": "stdout",
     "output_type": "stream",
     "text": [
      "2.1.2\n"
     ]
    }
   ],
   "source": [
    "print(pd.__version__)"
   ]
  },
  {
   "cell_type": "code",
   "execution_count": 3,
   "metadata": {},
   "outputs": [
    {
     "name": "stdout",
     "output_type": "stream",
     "text": [
      "1.26.1\n"
     ]
    }
   ],
   "source": [
    "print(np.__version__)"
   ]
  },
  {
   "cell_type": "code",
   "execution_count": 4,
   "metadata": {},
   "outputs": [
    {
     "name": "stdout",
     "output_type": "stream",
     "text": [
      "True\n"
     ]
    }
   ],
   "source": [
    "print(pd.DataFrame.agg is pd.DataFrame.aggregate)"
   ]
  },
  {
   "cell_type": "code",
   "execution_count": 5,
   "metadata": {},
   "outputs": [
    {
     "name": "stdout",
     "output_type": "stream",
     "text": [
      "True\n"
     ]
    }
   ],
   "source": [
    "print(pd.Series.agg is pd.Series.aggregate)"
   ]
  },
  {
   "cell_type": "code",
   "execution_count": 6,
   "metadata": {},
   "outputs": [
    {
     "name": "stdout",
     "output_type": "stream",
     "text": [
      "   A  B\n",
      "0  0  3\n",
      "1  1  4\n",
      "2  2  5\n"
     ]
    }
   ],
   "source": [
    "df = pd.DataFrame({'A': [0, 1, 2], 'B': [3, 4, 5]})\n",
    "print(df)"
   ]
  },
  {
   "cell_type": "code",
   "execution_count": 7,
   "metadata": {},
   "outputs": [
    {
     "name": "stdout",
     "output_type": "stream",
     "text": [
      "        A     B\n",
      "sum   3.0  12.0\n",
      "mean  1.0   4.0\n",
      "min   0.0   3.0\n",
      "max   2.0   5.0\n"
     ]
    }
   ],
   "source": [
    "print(df.agg(['sum', 'mean', 'min', 'max']))"
   ]
  },
  {
   "cell_type": "code",
   "execution_count": 8,
   "metadata": {},
   "outputs": [
    {
     "name": "stdout",
     "output_type": "stream",
     "text": [
      "<class 'pandas.core.frame.DataFrame'>\n"
     ]
    }
   ],
   "source": [
    "print(type(df.agg(['sum', 'mean', 'min', 'max'])))"
   ]
  },
  {
   "cell_type": "code",
   "execution_count": 9,
   "metadata": {},
   "outputs": [
    {
     "name": "stdout",
     "output_type": "stream",
     "text": [
      "     A   B\n",
      "sum  3  12\n"
     ]
    }
   ],
   "source": [
    "print(df.agg(['sum']))"
   ]
  },
  {
   "cell_type": "code",
   "execution_count": 10,
   "metadata": {},
   "outputs": [
    {
     "name": "stdout",
     "output_type": "stream",
     "text": [
      "<class 'pandas.core.frame.DataFrame'>\n"
     ]
    }
   ],
   "source": [
    "print(type(df.agg(['sum'])))"
   ]
  },
  {
   "cell_type": "code",
   "execution_count": 11,
   "metadata": {},
   "outputs": [
    {
     "name": "stdout",
     "output_type": "stream",
     "text": [
      "A     3\n",
      "B    12\n",
      "dtype: int64\n"
     ]
    }
   ],
   "source": [
    "print(df.agg('sum'))"
   ]
  },
  {
   "cell_type": "code",
   "execution_count": 12,
   "metadata": {},
   "outputs": [
    {
     "name": "stdout",
     "output_type": "stream",
     "text": [
      "<class 'pandas.core.series.Series'>\n"
     ]
    }
   ],
   "source": [
    "print(type(df.agg('sum')))"
   ]
  },
  {
   "cell_type": "code",
   "execution_count": 13,
   "metadata": {},
   "outputs": [
    {
     "name": "stdout",
     "output_type": "stream",
     "text": [
      "        A    B\n",
      "sum   3.0  NaN\n",
      "min   0.0  3.0\n",
      "max   2.0  5.0\n",
      "mean  NaN  4.0\n"
     ]
    }
   ],
   "source": [
    "print(df.agg({'A': ['sum', 'min', 'max'], 'B': ['mean', 'min', 'max']}))"
   ]
  },
  {
   "cell_type": "code",
   "execution_count": 14,
   "metadata": {},
   "outputs": [
    {
     "name": "stdout",
     "output_type": "stream",
     "text": [
      "A    3.0\n",
      "B    4.0\n",
      "dtype: float64\n"
     ]
    }
   ],
   "source": [
    "print(df.agg({'A': 'sum', 'B': 'mean'}))"
   ]
  },
  {
   "cell_type": "code",
   "execution_count": 15,
   "metadata": {},
   "outputs": [
    {
     "name": "stdout",
     "output_type": "stream",
     "text": [
      "        A    B\n",
      "sum   3.0  NaN\n",
      "mean  NaN  4.0\n"
     ]
    }
   ],
   "source": [
    "print(df.agg({'A': ['sum'], 'B': 'mean'}))"
   ]
  },
  {
   "cell_type": "code",
   "execution_count": 16,
   "metadata": {},
   "outputs": [
    {
     "name": "stdout",
     "output_type": "stream",
     "text": [
      "        A    B\n",
      "min   0.0  NaN\n",
      "max   2.0  NaN\n",
      "mean  NaN  4.0\n"
     ]
    }
   ],
   "source": [
    "print(df.agg({'A': ['min', 'max'], 'B': 'mean'}))"
   ]
  },
  {
   "cell_type": "code",
   "execution_count": 17,
   "metadata": {},
   "outputs": [
    {
     "name": "stdout",
     "output_type": "stream",
     "text": [
      "   sum  mean  min  max\n",
      "0  3.0   1.5  0.0  3.0\n",
      "1  5.0   2.5  1.0  4.0\n",
      "2  7.0   3.5  2.0  5.0\n"
     ]
    }
   ],
   "source": [
    "print(df.agg(['sum', 'mean', 'min', 'max'], axis=1))"
   ]
  },
  {
   "cell_type": "code",
   "execution_count": 18,
   "metadata": {},
   "outputs": [
    {
     "name": "stdout",
     "output_type": "stream",
     "text": [
      "0    0\n",
      "1    1\n",
      "2    2\n",
      "dtype: int64\n"
     ]
    }
   ],
   "source": [
    "s = pd.Series([0, 1, 2])\n",
    "print(s)"
   ]
  },
  {
   "cell_type": "code",
   "execution_count": 19,
   "metadata": {},
   "outputs": [
    {
     "name": "stdout",
     "output_type": "stream",
     "text": [
      "sum     3.0\n",
      "mean    1.0\n",
      "min     0.0\n",
      "max     2.0\n",
      "dtype: float64\n"
     ]
    }
   ],
   "source": [
    "print(s.agg(['sum', 'mean', 'min', 'max']))"
   ]
  },
  {
   "cell_type": "code",
   "execution_count": 20,
   "metadata": {},
   "outputs": [
    {
     "name": "stdout",
     "output_type": "stream",
     "text": [
      "<class 'pandas.core.series.Series'>\n"
     ]
    }
   ],
   "source": [
    "print(type(s.agg(['sum', 'mean', 'min', 'max'])))"
   ]
  },
  {
   "cell_type": "code",
   "execution_count": 21,
   "metadata": {},
   "outputs": [
    {
     "name": "stdout",
     "output_type": "stream",
     "text": [
      "sum    3\n",
      "dtype: int64\n"
     ]
    }
   ],
   "source": [
    "print(s.agg(['sum']))"
   ]
  },
  {
   "cell_type": "code",
   "execution_count": 22,
   "metadata": {},
   "outputs": [
    {
     "name": "stdout",
     "output_type": "stream",
     "text": [
      "<class 'pandas.core.series.Series'>\n"
     ]
    }
   ],
   "source": [
    "print(type(s.agg(['sum'])))"
   ]
  },
  {
   "cell_type": "code",
   "execution_count": 23,
   "metadata": {},
   "outputs": [
    {
     "name": "stdout",
     "output_type": "stream",
     "text": [
      "3\n"
     ]
    }
   ],
   "source": [
    "print(s.agg('sum'))"
   ]
  },
  {
   "cell_type": "code",
   "execution_count": 24,
   "metadata": {},
   "outputs": [
    {
     "name": "stdout",
     "output_type": "stream",
     "text": [
      "<class 'numpy.int64'>\n"
     ]
    }
   ],
   "source": [
    "print(type(s.agg('sum')))"
   ]
  },
  {
   "cell_type": "code",
   "execution_count": 25,
   "metadata": {
    "scrolled": true
   },
   "outputs": [
    {
     "name": "stdout",
     "output_type": "stream",
     "text": [
      "Total      3.0\n",
      "Average    1.0\n",
      "Min        0.0\n",
      "Max        2.0\n",
      "dtype: float64\n"
     ]
    }
   ],
   "source": [
    "print(s.agg({'Total': 'sum', 'Average': 'mean', 'Min': 'min', 'Max': 'max'}))"
   ]
  },
  {
   "cell_type": "code",
   "execution_count": 26,
   "metadata": {},
   "outputs": [],
   "source": [
    "# print(s.agg({'NewLabel_1': ['sum', 'max'], 'NewLabel_2': ['mean', 'min']}))\n",
    "# SpecificationError: nested renamer is not supported"
   ]
  },
  {
   "cell_type": "code",
   "execution_count": 27,
   "metadata": {},
   "outputs": [
    {
     "name": "stdout",
     "output_type": "stream",
     "text": [
      "       A  B\n",
      "count  3  3\n",
      "amax   2  5\n"
     ]
    }
   ],
   "source": [
    "print(df.agg(['count', 'amax']))"
   ]
  },
  {
   "cell_type": "code",
   "execution_count": 28,
   "metadata": {},
   "outputs": [
    {
     "name": "stdout",
     "output_type": "stream",
     "text": [
      "3\n"
     ]
    }
   ],
   "source": [
    "print(df['A'].count())"
   ]
  },
  {
   "cell_type": "code",
   "execution_count": 29,
   "metadata": {},
   "outputs": [],
   "source": [
    "# print(np.count(df['A']))\n",
    "# AttributeError: module 'numpy' has no attribute 'count'"
   ]
  },
  {
   "cell_type": "code",
   "execution_count": 30,
   "metadata": {},
   "outputs": [
    {
     "name": "stdout",
     "output_type": "stream",
     "text": [
      "2\n"
     ]
    }
   ],
   "source": [
    "print(np.amax(df['A']))"
   ]
  },
  {
   "cell_type": "code",
   "execution_count": 31,
   "metadata": {},
   "outputs": [],
   "source": [
    "# print(df['A'].amax())\n",
    "# AttributeError: 'Series' object has no attribute 'amax'"
   ]
  },
  {
   "cell_type": "code",
   "execution_count": 32,
   "metadata": {},
   "outputs": [],
   "source": [
    "# print(df.agg(['xxx']))\n",
    "# AttributeError: 'xxx' is not a valid function for 'Series' object"
   ]
  },
  {
   "cell_type": "code",
   "execution_count": 33,
   "metadata": {},
   "outputs": [],
   "source": [
    "# print(df.agg('xxx'))\n",
    "# AttributeError: 'xxx' is not a valid function for 'DataFrame' object"
   ]
  },
  {
   "cell_type": "code",
   "execution_count": 34,
   "metadata": {},
   "outputs": [
    {
     "name": "stdout",
     "output_type": "stream",
     "text": [
      "True\n"
     ]
    }
   ],
   "source": [
    "print(hasattr(pd.DataFrame, '__array__'))"
   ]
  },
  {
   "cell_type": "code",
   "execution_count": 35,
   "metadata": {},
   "outputs": [
    {
     "name": "stdout",
     "output_type": "stream",
     "text": [
      "False\n"
     ]
    }
   ],
   "source": [
    "print(hasattr(pd.core.groupby.GroupBy, '__array__'))"
   ]
  },
  {
   "cell_type": "code",
   "execution_count": 36,
   "metadata": {},
   "outputs": [],
   "source": [
    "def my_func(x):\n",
    "    return x.min() + x.max()"
   ]
  },
  {
   "cell_type": "code",
   "execution_count": 37,
   "metadata": {},
   "outputs": [
    {
     "name": "stdout",
     "output_type": "stream",
     "text": [
      "          A  B\n",
      "my_func   2  8\n",
      "<lambda> -2 -2\n"
     ]
    }
   ],
   "source": [
    "print(df.agg([my_func, lambda x: x.min() - x.max()]))"
   ]
  },
  {
   "cell_type": "code",
   "execution_count": 38,
   "metadata": {},
   "outputs": [
    {
     "name": "stdout",
     "output_type": "stream",
     "text": [
      "A    1.0\n",
      "B    1.0\n",
      "dtype: float64\n"
     ]
    }
   ],
   "source": [
    "print(df.agg('std'))"
   ]
  },
  {
   "cell_type": "code",
   "execution_count": 39,
   "metadata": {},
   "outputs": [
    {
     "name": "stdout",
     "output_type": "stream",
     "text": [
      "A    0.816497\n",
      "B    0.816497\n",
      "dtype: float64\n"
     ]
    }
   ],
   "source": [
    "print(df.agg('std', ddof=0))"
   ]
  },
  {
   "cell_type": "code",
   "execution_count": 40,
   "metadata": {},
   "outputs": [
    {
     "name": "stdout",
     "output_type": "stream",
     "text": [
      "            A         B\n",
      "std  0.816497  0.816497\n"
     ]
    }
   ],
   "source": [
    "print(df.agg(['std'], ddof=0))"
   ]
  },
  {
   "cell_type": "code",
   "execution_count": 41,
   "metadata": {},
   "outputs": [],
   "source": [
    "# print(df.agg(['max', 'std'], ddof=0))\n",
    "# TypeError: max() got an unexpected keyword argument 'ddof'"
   ]
  },
  {
   "cell_type": "code",
   "execution_count": 42,
   "metadata": {},
   "outputs": [
    {
     "name": "stdout",
     "output_type": "stream",
     "text": [
      "                 A         B\n",
      "max       2.000000  5.000000\n",
      "<lambda>  0.816497  0.816497\n"
     ]
    }
   ],
   "source": [
    "print(df.agg(['max', lambda x: x.std(ddof=0)]))"
   ]
  },
  {
   "cell_type": "code",
   "execution_count": 43,
   "metadata": {},
   "outputs": [
    {
     "name": "stdout",
     "output_type": "stream",
     "text": [
      "   A  B  C\n",
      "0  0  3  X\n",
      "1  1  4  Y\n",
      "2  2  5  Z\n"
     ]
    }
   ],
   "source": [
    "df_str = pd.DataFrame({'A': [0, 1, 2], 'B': [3, 4, 5], 'C': ['X', 'Y', 'Z']})\n",
    "print(df_str)"
   ]
  },
  {
   "cell_type": "code",
   "execution_count": 44,
   "metadata": {},
   "outputs": [],
   "source": [
    "# df_str['C'].mean()\n",
    "# TypeError: Could not convert XYZ to numeric"
   ]
  },
  {
   "cell_type": "code",
   "execution_count": 45,
   "metadata": {},
   "outputs": [],
   "source": [
    "# print(df_str.agg(['mean']))\n",
    "# TypeError: Could not convert string 'XYZ' to numeric"
   ]
  },
  {
   "cell_type": "code",
   "execution_count": 46,
   "metadata": {},
   "outputs": [
    {
     "name": "stdout",
     "output_type": "stream",
     "text": [
      "A    1.0\n",
      "B    4.0\n",
      "dtype: float64\n"
     ]
    }
   ],
   "source": [
    "print(df_str.mean(numeric_only=True))"
   ]
  },
  {
   "cell_type": "code",
   "execution_count": 47,
   "metadata": {},
   "outputs": [
    {
     "name": "stdout",
     "output_type": "stream",
     "text": [
      "A    1.0\n",
      "B    4.0\n",
      "dtype: float64\n"
     ]
    }
   ],
   "source": [
    "print(df_str.agg('mean', numeric_only=True))"
   ]
  },
  {
   "cell_type": "code",
   "execution_count": 48,
   "metadata": {},
   "outputs": [],
   "source": [
    "# df_str['C'].mean(numeric_only=True)\n",
    "# TypeError: Series.mean does not allow numeric_only=True with non-numeric dtypes."
   ]
  },
  {
   "cell_type": "code",
   "execution_count": 49,
   "metadata": {},
   "outputs": [],
   "source": [
    "# print(df_str.agg(['mean'], numeric_only=True))\n",
    "# TypeError: Series.mean does not allow numeric_only=True with non-numeric dtypes."
   ]
  },
  {
   "cell_type": "code",
   "execution_count": 50,
   "metadata": {},
   "outputs": [
    {
     "name": "stdout",
     "output_type": "stream",
     "text": [
      "        A     B\n",
      "sum   3.0  12.0\n",
      "mean  1.0   4.0\n"
     ]
    }
   ],
   "source": [
    "print(df_str.select_dtypes(include='number').agg(['sum', 'mean']))"
   ]
  }
 ],
 "metadata": {
  "kernelspec": {
   "display_name": "Python 3",
   "language": "python",
   "name": "python3"
  },
  "language_info": {
   "codemirror_mode": {
    "name": "ipython",
    "version": 3
   },
   "file_extension": ".py",
   "mimetype": "text/x-python",
   "name": "python",
   "nbconvert_exporter": "python",
   "pygments_lexer": "ipython3",
   "version": "3.11.6"
  }
 },
 "nbformat": 4,
 "nbformat_minor": 2
}
