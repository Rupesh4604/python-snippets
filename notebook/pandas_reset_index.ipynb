{
 "cells": [
  {
   "cell_type": "code",
   "execution_count": 1,
   "metadata": {},
   "outputs": [],
   "source": [
    "import pandas as pd"
   ]
  },
  {
   "cell_type": "code",
   "execution_count": 2,
   "metadata": {},
   "outputs": [
    {
     "name": "stdout",
     "output_type": "stream",
     "text": [
      "2.1.4\n"
     ]
    }
   ],
   "source": [
    "print(pd.__version__)"
   ]
  },
  {
   "cell_type": "code",
   "execution_count": 3,
   "metadata": {},
   "outputs": [
    {
     "name": "stdout",
     "output_type": "stream",
     "text": [
      "      name  age state  point\n",
      "1      Bob   42    CA     92\n",
      "2  Charlie   18    CA     70\n",
      "4    Ellen   24    CA     88\n",
      "0    Alice   24    NY     64\n",
      "5    Frank   30    NY     57\n",
      "3     Dave   68    TX     70\n"
     ]
    }
   ],
   "source": [
    "df = pd.read_csv('data/src/sample_pandas_normal.csv').sort_values('state')\n",
    "print(df)"
   ]
  },
  {
   "cell_type": "code",
   "execution_count": 4,
   "metadata": {},
   "outputs": [
    {
     "name": "stdout",
     "output_type": "stream",
     "text": [
      "   index     name  age state  point\n",
      "0      1      Bob   42    CA     92\n",
      "1      2  Charlie   18    CA     70\n",
      "2      4    Ellen   24    CA     88\n",
      "3      0    Alice   24    NY     64\n",
      "4      5    Frank   30    NY     57\n",
      "5      3     Dave   68    TX     70\n"
     ]
    }
   ],
   "source": [
    "print(df.reset_index())"
   ]
  },
  {
   "cell_type": "code",
   "execution_count": 5,
   "metadata": {},
   "outputs": [
    {
     "name": "stdout",
     "output_type": "stream",
     "text": [
      "      name  age state  point\n",
      "0      Bob   42    CA     92\n",
      "1  Charlie   18    CA     70\n",
      "2    Ellen   24    CA     88\n",
      "3    Alice   24    NY     64\n",
      "4    Frank   30    NY     57\n",
      "5     Dave   68    TX     70\n"
     ]
    }
   ],
   "source": [
    "print(df.reset_index(drop=True))"
   ]
  },
  {
   "cell_type": "code",
   "execution_count": 6,
   "metadata": {},
   "outputs": [
    {
     "name": "stdout",
     "output_type": "stream",
     "text": [
      "      name  age state  point\n",
      "0      Bob   42    CA     92\n",
      "1  Charlie   18    CA     70\n",
      "2    Ellen   24    CA     88\n",
      "3    Alice   24    NY     64\n",
      "4    Frank   30    NY     57\n",
      "5     Dave   68    TX     70\n"
     ]
    }
   ],
   "source": [
    "df.reset_index(inplace=True, drop=True)\n",
    "print(df)"
   ]
  },
  {
   "cell_type": "code",
   "execution_count": 7,
   "metadata": {},
   "outputs": [
    {
     "name": "stdout",
     "output_type": "stream",
     "text": [
      "         age state  point\n",
      "name                     \n",
      "Alice     24    NY     64\n",
      "Bob       42    CA     92\n",
      "Charlie   18    CA     70\n",
      "Dave      68    TX     70\n",
      "Ellen     24    CA     88\n",
      "Frank     30    NY     57\n"
     ]
    }
   ],
   "source": [
    "df_name = pd.read_csv('data/src/sample_pandas_normal.csv', index_col=0)\n",
    "print(df_name)"
   ]
  },
  {
   "cell_type": "code",
   "execution_count": 8,
   "metadata": {},
   "outputs": [
    {
     "name": "stdout",
     "output_type": "stream",
     "text": [
      "      name  age state  point\n",
      "0    Alice   24    NY     64\n",
      "1      Bob   42    CA     92\n",
      "2  Charlie   18    CA     70\n",
      "3     Dave   68    TX     70\n",
      "4    Ellen   24    CA     88\n",
      "5    Frank   30    NY     57\n"
     ]
    }
   ],
   "source": [
    "print(df_name.reset_index())"
   ]
  },
  {
   "cell_type": "code",
   "execution_count": 9,
   "metadata": {},
   "outputs": [
    {
     "name": "stdout",
     "output_type": "stream",
     "text": [
      "       age  point\n",
      "state            \n",
      "NY      24     64\n",
      "CA      42     92\n",
      "CA      18     70\n",
      "TX      68     70\n",
      "CA      24     88\n",
      "NY      30     57\n"
     ]
    }
   ],
   "source": [
    "print(df_name.set_index('state'))"
   ]
  },
  {
   "cell_type": "code",
   "execution_count": 10,
   "metadata": {},
   "outputs": [
    {
     "name": "stdout",
     "output_type": "stream",
     "text": [
      "          name  age  point\n",
      "state                     \n",
      "NY       Alice   24     64\n",
      "CA         Bob   42     92\n",
      "CA     Charlie   18     70\n",
      "TX        Dave   68     70\n",
      "CA       Ellen   24     88\n",
      "NY       Frank   30     57\n"
     ]
    }
   ],
   "source": [
    "print(df_name.reset_index().set_index('state'))"
   ]
  },
  {
   "cell_type": "code",
   "execution_count": 11,
   "metadata": {},
   "outputs": [
    {
     "name": "stdout",
     "output_type": "stream",
     "text": [
      "               age  point\n",
      "state name               \n",
      "NY    Alice     24     64\n",
      "CA    Bob       42     92\n",
      "      Charlie   18     70\n",
      "TX    Dave      68     70\n",
      "CA    Ellen     24     88\n",
      "NY    Frank     30     57\n"
     ]
    }
   ],
   "source": [
    "df_mi = pd.read_csv('data/src/sample_pandas_normal.csv', index_col=(2, 0))\n",
    "print(df_mi)"
   ]
  },
  {
   "cell_type": "code",
   "execution_count": 12,
   "metadata": {},
   "outputs": [
    {
     "name": "stdout",
     "output_type": "stream",
     "text": [
      "  state     name  age  point\n",
      "0    NY    Alice   24     64\n",
      "1    CA      Bob   42     92\n",
      "2    CA  Charlie   18     70\n",
      "3    TX     Dave   68     70\n",
      "4    CA    Ellen   24     88\n",
      "5    NY    Frank   30     57\n"
     ]
    }
   ],
   "source": [
    "print(df_mi.reset_index())"
   ]
  },
  {
   "cell_type": "code",
   "execution_count": 13,
   "metadata": {},
   "outputs": [
    {
     "name": "stdout",
     "output_type": "stream",
     "text": [
      "        state  age  point\n",
      "name                     \n",
      "Alice      NY   24     64\n",
      "Bob        CA   42     92\n",
      "Charlie    CA   18     70\n",
      "Dave       TX   68     70\n",
      "Ellen      CA   24     88\n",
      "Frank      NY   30     57\n"
     ]
    }
   ],
   "source": [
    "print(df_mi.reset_index(level='state'))"
   ]
  }
 ],
 "metadata": {
  "kernelspec": {
   "display_name": "Python 3",
   "language": "python",
   "name": "python3"
  },
  "language_info": {
   "codemirror_mode": {
    "name": "ipython",
    "version": 3
   },
   "file_extension": ".py",
   "mimetype": "text/x-python",
   "name": "python",
   "nbconvert_exporter": "python",
   "pygments_lexer": "ipython3",
   "version": "3.11.6"
  }
 },
 "nbformat": 4,
 "nbformat_minor": 2
}
