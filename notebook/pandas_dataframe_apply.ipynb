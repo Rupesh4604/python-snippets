{
 "cells": [
  {
   "cell_type": "code",
   "execution_count": 1,
   "id": "5c6c695a",
   "metadata": {},
   "outputs": [],
   "source": [
    "import pandas as pd"
   ]
  },
  {
   "cell_type": "code",
   "execution_count": 2,
   "id": "997c4ccb",
   "metadata": {},
   "outputs": [
    {
     "name": "stdout",
     "output_type": "stream",
     "text": [
      "2.1.2\n"
     ]
    }
   ],
   "source": [
    "print(pd.__version__)"
   ]
  },
  {
   "cell_type": "code",
   "execution_count": 3,
   "id": "f76b5b98",
   "metadata": {},
   "outputs": [
    {
     "name": "stdout",
     "output_type": "stream",
     "text": [
      "    A   B   C\n",
      "X  10  20  30\n",
      "Y  40  50  60\n"
     ]
    }
   ],
   "source": [
    "df = pd.DataFrame([[10, 20, 30], [40, 50, 60]], index=['X', 'Y'], columns=['A', 'B', 'C'])\n",
    "print(df)"
   ]
  },
  {
   "cell_type": "code",
   "execution_count": 4,
   "id": "249eae41",
   "metadata": {},
   "outputs": [
    {
     "name": "stdout",
     "output_type": "stream",
     "text": [
      "A    50\n",
      "B    70\n",
      "C    90\n",
      "dtype: int64\n"
     ]
    }
   ],
   "source": [
    "print(df.apply(sum))"
   ]
  },
  {
   "cell_type": "code",
   "execution_count": 5,
   "id": "48208ce5",
   "metadata": {},
   "outputs": [
    {
     "name": "stdout",
     "output_type": "stream",
     "text": [
      "A    <class 'pandas.core.series.Series'>\n",
      "B    <class 'pandas.core.series.Series'>\n",
      "C    <class 'pandas.core.series.Series'>\n",
      "dtype: object\n"
     ]
    }
   ],
   "source": [
    "print(df.apply(lambda x: type(x)))"
   ]
  },
  {
   "cell_type": "code",
   "execution_count": 6,
   "id": "733164d0",
   "metadata": {},
   "outputs": [],
   "source": [
    "# print(hex(df['A']))\n",
    "# TypeError: 'Series' object cannot be interpreted as an integer"
   ]
  },
  {
   "cell_type": "code",
   "execution_count": 7,
   "id": "52389bc0",
   "metadata": {},
   "outputs": [],
   "source": [
    "# print(df.apply(hex))\n",
    "# TypeError: 'Series' object cannot be interpreted as an integer"
   ]
  },
  {
   "cell_type": "code",
   "execution_count": 8,
   "id": "92999ff2",
   "metadata": {},
   "outputs": [
    {
     "name": "stdout",
     "output_type": "stream",
     "text": [
      "X     60\n",
      "Y    150\n",
      "dtype: int64\n"
     ]
    }
   ],
   "source": [
    "print(df.apply(sum, axis=1))"
   ]
  },
  {
   "cell_type": "code",
   "execution_count": 9,
   "id": "b54a2a51",
   "metadata": {},
   "outputs": [],
   "source": [
    "def my_func(x, y, z):\n",
    "    return sum(x) + y + z * 2"
   ]
  },
  {
   "cell_type": "code",
   "execution_count": 10,
   "id": "f4290277",
   "metadata": {},
   "outputs": [
    {
     "name": "stdout",
     "output_type": "stream",
     "text": [
      "A    2150\n",
      "B    2170\n",
      "C    2190\n",
      "dtype: int64\n"
     ]
    }
   ],
   "source": [
    "print(df.apply(my_func, y=100, z=1000))"
   ]
  },
  {
   "cell_type": "code",
   "execution_count": 11,
   "id": "4e14f83f",
   "metadata": {},
   "outputs": [
    {
     "name": "stdout",
     "output_type": "stream",
     "text": [
      "A    2150\n",
      "B    2170\n",
      "C    2190\n",
      "dtype: int64\n"
     ]
    }
   ],
   "source": [
    "print(df.apply(my_func, args=(100, 1000)))"
   ]
  },
  {
   "cell_type": "code",
   "execution_count": 12,
   "id": "0b38822c",
   "metadata": {},
   "outputs": [
    {
     "name": "stdout",
     "output_type": "stream",
     "text": [
      "A    <class 'numpy.ndarray'>\n",
      "B    <class 'numpy.ndarray'>\n",
      "C    <class 'numpy.ndarray'>\n",
      "dtype: object\n"
     ]
    }
   ],
   "source": [
    "print(df.apply(lambda x: type(x), raw=True))"
   ]
  },
  {
   "cell_type": "code",
   "execution_count": 13,
   "id": "6643a119",
   "metadata": {},
   "outputs": [
    {
     "name": "stdout",
     "output_type": "stream",
     "text": [
      "A    AAA\n",
      "B    BBB\n",
      "C    CCC\n",
      "dtype: object\n"
     ]
    }
   ],
   "source": [
    "print(df.apply(lambda x: x.name * 3))"
   ]
  },
  {
   "cell_type": "code",
   "execution_count": 14,
   "id": "d842f828",
   "metadata": {},
   "outputs": [],
   "source": [
    "# print(df.apply(lambda x: x.name * 3, raw=True))\n",
    "# AttributeError: 'numpy.ndarray' object has no attribute 'name'"
   ]
  },
  {
   "cell_type": "code",
   "execution_count": 15,
   "id": "f98664f1",
   "metadata": {},
   "outputs": [
    {
     "name": "stdout",
     "output_type": "stream",
     "text": [
      "X     100\n",
      "Y    1600\n",
      "Name: A, dtype: int64\n"
     ]
    }
   ],
   "source": [
    "print(df['A'].map(lambda x: x**2))"
   ]
  },
  {
   "cell_type": "code",
   "execution_count": 16,
   "id": "a61030b7",
   "metadata": {},
   "outputs": [
    {
     "name": "stdout",
     "output_type": "stream",
     "text": [
      "A    0x28\n",
      "B    0x32\n",
      "C    0x3c\n",
      "Name: Y, dtype: object\n"
     ]
    }
   ],
   "source": [
    "print(df.loc['Y'].map(hex))"
   ]
  },
  {
   "cell_type": "code",
   "execution_count": 17,
   "id": "c33bbb11",
   "metadata": {},
   "outputs": [
    {
     "name": "stdout",
     "output_type": "stream",
     "text": [
      "           A     B     C\n",
      "X        100    20    30\n",
      "Y       1600    50    60\n",
      "Y_hex  0x640  0x32  0x3c\n"
     ]
    }
   ],
   "source": [
    "df['A'] = df['A'].map(lambda x: x**2)\n",
    "df.loc['Y_hex'] = df.loc['Y'].map(hex)\n",
    "print(df)"
   ]
  }
 ],
 "metadata": {
  "kernelspec": {
   "display_name": "Python 3",
   "language": "python",
   "name": "python3"
  },
  "language_info": {
   "codemirror_mode": {
    "name": "ipython",
    "version": 3
   },
   "file_extension": ".py",
   "mimetype": "text/x-python",
   "name": "python",
   "nbconvert_exporter": "python",
   "pygments_lexer": "ipython3",
   "version": "3.11.6"
  }
 },
 "nbformat": 4,
 "nbformat_minor": 5
}
