{
 "cells": [
  {
   "cell_type": "code",
   "execution_count": 1,
   "id": "e98aaac5",
   "metadata": {},
   "outputs": [],
   "source": [
    "import os\n",
    "from pathlib import Path"
   ]
  },
  {
   "cell_type": "code",
   "execution_count": 2,
   "id": "a19275d2",
   "metadata": {},
   "outputs": [],
   "source": [
    "os.chdir('data/temp')"
   ]
  },
  {
   "cell_type": "code",
   "execution_count": 3,
   "id": "c7b5d762",
   "metadata": {},
   "outputs": [],
   "source": [
    "p = Path('temp')\n",
    "p.joinpath('dir1').mkdir(parents=True, exist_ok=True)\n",
    "p.joinpath('dir2').mkdir(parents=True, exist_ok=True)\n",
    "p.joinpath('file1').touch()\n",
    "p.joinpath('file2.txt').touch()\n",
    "p.joinpath('file3.jpg').touch()\n",
    "p.joinpath('dir1/file_in_dir').touch()"
   ]
  },
  {
   "cell_type": "code",
   "execution_count": 4,
   "id": "8235a3ce",
   "metadata": {},
   "outputs": [
    {
     "name": "stdout",
     "output_type": "stream",
     "text": [
      "temp/\r\n",
      "├── dir1/\r\n",
      "│   └── file_in_dir\r\n",
      "├── dir2/\r\n",
      "├── file1\r\n",
      "├── file2.txt\r\n",
      "└── file3.jpg\r\n",
      "\r\n",
      "3 directories, 4 files\r\n"
     ]
    }
   ],
   "source": [
    "!tree temp -nF  # Only works in Jupyter Notebook"
   ]
  },
  {
   "cell_type": "code",
   "execution_count": 5,
   "id": "a03881bd",
   "metadata": {},
   "outputs": [],
   "source": [
    "import os"
   ]
  },
  {
   "cell_type": "code",
   "execution_count": 6,
   "id": "6eb48b69",
   "metadata": {},
   "outputs": [],
   "source": [
    "dir_path = \"temp\""
   ]
  },
  {
   "cell_type": "code",
   "execution_count": 7,
   "id": "a71be92e",
   "metadata": {},
   "outputs": [
    {
     "name": "stdout",
     "output_type": "stream",
     "text": [
      "['file2.txt', 'dir2', 'file3.jpg', 'file1', 'dir1']\n"
     ]
    }
   ],
   "source": [
    "files = os.listdir(dir_path)\n",
    "print(files)"
   ]
  },
  {
   "cell_type": "code",
   "execution_count": 8,
   "id": "eaaccbcb",
   "metadata": {},
   "outputs": [
    {
     "name": "stdout",
     "output_type": "stream",
     "text": [
      "<class 'list'>\n"
     ]
    }
   ],
   "source": [
    "print(type(files))"
   ]
  },
  {
   "cell_type": "code",
   "execution_count": 9,
   "id": "76186433",
   "metadata": {},
   "outputs": [
    {
     "name": "stdout",
     "output_type": "stream",
     "text": [
      "['dir1', 'dir2', 'file1', 'file2.txt', 'file3.jpg']\n"
     ]
    }
   ],
   "source": [
    "print(sorted(files))"
   ]
  },
  {
   "cell_type": "code",
   "execution_count": 10,
   "id": "a9e6a2d8",
   "metadata": {},
   "outputs": [
    {
     "name": "stdout",
     "output_type": "stream",
     "text": [
      "['file2.txt', 'file3.jpg', 'file1']\n"
     ]
    }
   ],
   "source": [
    "files_file = [\n",
    "    f for f in os.listdir(dir_path) if os.path.isfile(os.path.join(dir_path, f))\n",
    "]\n",
    "print(files_file)"
   ]
  },
  {
   "cell_type": "code",
   "execution_count": 11,
   "id": "8cf7f93c",
   "metadata": {},
   "outputs": [
    {
     "name": "stdout",
     "output_type": "stream",
     "text": [
      "['dir2', 'dir1']\n"
     ]
    }
   ],
   "source": [
    "files_dir = [\n",
    "    f for f in os.listdir(dir_path) if os.path.isdir(os.path.join(dir_path, f))\n",
    "]\n",
    "print(files_dir)"
   ]
  },
  {
   "cell_type": "code",
   "execution_count": 12,
   "id": "74261b2c",
   "metadata": {},
   "outputs": [],
   "source": [
    "import shutil\n",
    "\n",
    "shutil.rmtree(dir_path)"
   ]
  }
 ],
 "metadata": {
  "kernelspec": {
   "display_name": "Python 3",
   "language": "python",
   "name": "python3"
  },
  "language_info": {
   "codemirror_mode": {
    "name": "ipython",
    "version": 3
   },
   "file_extension": ".py",
   "mimetype": "text/x-python",
   "name": "python",
   "nbconvert_exporter": "python",
   "pygments_lexer": "ipython3",
   "version": "3.11.4"
  }
 },
 "nbformat": 4,
 "nbformat_minor": 5
}
