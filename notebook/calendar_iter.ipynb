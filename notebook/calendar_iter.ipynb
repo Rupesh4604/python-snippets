{
 "cells": [
  {
   "cell_type": "code",
   "execution_count": 1,
   "id": "24287627",
   "metadata": {},
   "outputs": [],
   "source": [
    "import calendar"
   ]
  },
  {
   "cell_type": "code",
   "execution_count": 2,
   "id": "4c7ac081",
   "metadata": {},
   "outputs": [],
   "source": [
    "c = calendar.Calendar()"
   ]
  },
  {
   "cell_type": "code",
   "execution_count": 3,
   "id": "26473e23",
   "metadata": {},
   "outputs": [
    {
     "name": "stdout",
     "output_type": "stream",
     "text": [
      "0\n",
      "1\n",
      "2\n",
      "3\n",
      "4\n",
      "5\n",
      "6\n",
      "7\n",
      "8\n",
      "9\n",
      "10\n",
      "11\n",
      "12\n",
      "13\n",
      "14\n",
      "15\n",
      "16\n",
      "17\n",
      "18\n",
      "19\n",
      "20\n",
      "21\n",
      "22\n",
      "23\n",
      "24\n",
      "25\n",
      "26\n",
      "27\n",
      "28\n",
      "29\n",
      "30\n",
      "31\n",
      "0\n",
      "0\n",
      "0\n"
     ]
    }
   ],
   "source": [
    "for d in c.itermonthdays(2023, 8):\n",
    "    print(d)"
   ]
  },
  {
   "cell_type": "code",
   "execution_count": 4,
   "id": "91efd616",
   "metadata": {},
   "outputs": [
    {
     "name": "stdout",
     "output_type": "stream",
     "text": [
      "(0, 0)\n",
      "(1, 1)\n",
      "(2, 2)\n",
      "(3, 3)\n",
      "(4, 4)\n",
      "(5, 5)\n",
      "(6, 6)\n",
      "(7, 0)\n",
      "(8, 1)\n",
      "(9, 2)\n",
      "(10, 3)\n",
      "(11, 4)\n",
      "(12, 5)\n",
      "(13, 6)\n",
      "(14, 0)\n",
      "(15, 1)\n",
      "(16, 2)\n",
      "(17, 3)\n",
      "(18, 4)\n",
      "(19, 5)\n",
      "(20, 6)\n",
      "(21, 0)\n",
      "(22, 1)\n",
      "(23, 2)\n",
      "(24, 3)\n",
      "(25, 4)\n",
      "(26, 5)\n",
      "(27, 6)\n",
      "(28, 0)\n",
      "(29, 1)\n",
      "(30, 2)\n",
      "(31, 3)\n",
      "(0, 4)\n",
      "(0, 5)\n",
      "(0, 6)\n"
     ]
    }
   ],
   "source": [
    "for d in c.itermonthdays2(2023, 8):\n",
    "    print(d)"
   ]
  },
  {
   "cell_type": "code",
   "execution_count": 5,
   "id": "99e246d5",
   "metadata": {},
   "outputs": [
    {
     "name": "stdout",
     "output_type": "stream",
     "text": [
      "(2023, 7, 31)\n",
      "(2023, 8, 1)\n",
      "(2023, 8, 2)\n",
      "(2023, 8, 3)\n",
      "(2023, 8, 4)\n",
      "(2023, 8, 5)\n",
      "(2023, 8, 6)\n",
      "(2023, 8, 7)\n",
      "(2023, 8, 8)\n",
      "(2023, 8, 9)\n",
      "(2023, 8, 10)\n",
      "(2023, 8, 11)\n",
      "(2023, 8, 12)\n",
      "(2023, 8, 13)\n",
      "(2023, 8, 14)\n",
      "(2023, 8, 15)\n",
      "(2023, 8, 16)\n",
      "(2023, 8, 17)\n",
      "(2023, 8, 18)\n",
      "(2023, 8, 19)\n",
      "(2023, 8, 20)\n",
      "(2023, 8, 21)\n",
      "(2023, 8, 22)\n",
      "(2023, 8, 23)\n",
      "(2023, 8, 24)\n",
      "(2023, 8, 25)\n",
      "(2023, 8, 26)\n",
      "(2023, 8, 27)\n",
      "(2023, 8, 28)\n",
      "(2023, 8, 29)\n",
      "(2023, 8, 30)\n",
      "(2023, 8, 31)\n",
      "(2023, 9, 1)\n",
      "(2023, 9, 2)\n",
      "(2023, 9, 3)\n"
     ]
    }
   ],
   "source": [
    "for d in c.itermonthdays3(2023, 8):\n",
    "    print(d)"
   ]
  },
  {
   "cell_type": "code",
   "execution_count": 6,
   "id": "1c5ddeed",
   "metadata": {},
   "outputs": [
    {
     "name": "stdout",
     "output_type": "stream",
     "text": [
      "(2023, 7, 31, 0)\n",
      "(2023, 8, 1, 1)\n",
      "(2023, 8, 2, 2)\n",
      "(2023, 8, 3, 3)\n",
      "(2023, 8, 4, 4)\n",
      "(2023, 8, 5, 5)\n",
      "(2023, 8, 6, 6)\n",
      "(2023, 8, 7, 0)\n",
      "(2023, 8, 8, 1)\n",
      "(2023, 8, 9, 2)\n",
      "(2023, 8, 10, 3)\n",
      "(2023, 8, 11, 4)\n",
      "(2023, 8, 12, 5)\n",
      "(2023, 8, 13, 6)\n",
      "(2023, 8, 14, 0)\n",
      "(2023, 8, 15, 1)\n",
      "(2023, 8, 16, 2)\n",
      "(2023, 8, 17, 3)\n",
      "(2023, 8, 18, 4)\n",
      "(2023, 8, 19, 5)\n",
      "(2023, 8, 20, 6)\n",
      "(2023, 8, 21, 0)\n",
      "(2023, 8, 22, 1)\n",
      "(2023, 8, 23, 2)\n",
      "(2023, 8, 24, 3)\n",
      "(2023, 8, 25, 4)\n",
      "(2023, 8, 26, 5)\n",
      "(2023, 8, 27, 6)\n",
      "(2023, 8, 28, 0)\n",
      "(2023, 8, 29, 1)\n",
      "(2023, 8, 30, 2)\n",
      "(2023, 8, 31, 3)\n",
      "(2023, 9, 1, 4)\n",
      "(2023, 9, 2, 5)\n",
      "(2023, 9, 3, 6)\n"
     ]
    }
   ],
   "source": [
    "for d in c.itermonthdays4(2023, 8):\n",
    "    print(d)"
   ]
  },
  {
   "cell_type": "code",
   "execution_count": 7,
   "id": "e8656ca8",
   "metadata": {},
   "outputs": [
    {
     "name": "stdout",
     "output_type": "stream",
     "text": [
      "2023-07-31 <class 'datetime.date'>\n",
      "2023-08-01 <class 'datetime.date'>\n",
      "2023-08-02 <class 'datetime.date'>\n",
      "2023-08-03 <class 'datetime.date'>\n",
      "2023-08-04 <class 'datetime.date'>\n",
      "2023-08-05 <class 'datetime.date'>\n",
      "2023-08-06 <class 'datetime.date'>\n",
      "2023-08-07 <class 'datetime.date'>\n",
      "2023-08-08 <class 'datetime.date'>\n",
      "2023-08-09 <class 'datetime.date'>\n",
      "2023-08-10 <class 'datetime.date'>\n",
      "2023-08-11 <class 'datetime.date'>\n",
      "2023-08-12 <class 'datetime.date'>\n",
      "2023-08-13 <class 'datetime.date'>\n",
      "2023-08-14 <class 'datetime.date'>\n",
      "2023-08-15 <class 'datetime.date'>\n",
      "2023-08-16 <class 'datetime.date'>\n",
      "2023-08-17 <class 'datetime.date'>\n",
      "2023-08-18 <class 'datetime.date'>\n",
      "2023-08-19 <class 'datetime.date'>\n",
      "2023-08-20 <class 'datetime.date'>\n",
      "2023-08-21 <class 'datetime.date'>\n",
      "2023-08-22 <class 'datetime.date'>\n",
      "2023-08-23 <class 'datetime.date'>\n",
      "2023-08-24 <class 'datetime.date'>\n",
      "2023-08-25 <class 'datetime.date'>\n",
      "2023-08-26 <class 'datetime.date'>\n",
      "2023-08-27 <class 'datetime.date'>\n",
      "2023-08-28 <class 'datetime.date'>\n",
      "2023-08-29 <class 'datetime.date'>\n",
      "2023-08-30 <class 'datetime.date'>\n",
      "2023-08-31 <class 'datetime.date'>\n",
      "2023-09-01 <class 'datetime.date'>\n",
      "2023-09-02 <class 'datetime.date'>\n",
      "2023-09-03 <class 'datetime.date'>\n"
     ]
    }
   ],
   "source": [
    "for d in c.itermonthdates(2023, 8):\n",
    "    print(d, type(d))"
   ]
  }
 ],
 "metadata": {
  "kernelspec": {
   "display_name": "Python 3",
   "language": "python",
   "name": "python3"
  },
  "language_info": {
   "codemirror_mode": {
    "name": "ipython",
    "version": 3
   },
   "file_extension": ".py",
   "mimetype": "text/x-python",
   "name": "python",
   "nbconvert_exporter": "python",
   "pygments_lexer": "ipython3",
   "version": "3.11.5"
  }
 },
 "nbformat": 4,
 "nbformat_minor": 5
}
