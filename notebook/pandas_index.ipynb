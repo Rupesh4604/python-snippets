{
 "cells": [
  {
   "cell_type": "code",
   "execution_count": 1,
   "metadata": {},
   "outputs": [],
   "source": [
    "import pandas as pd"
   ]
  },
  {
   "cell_type": "code",
   "execution_count": 2,
   "metadata": {},
   "outputs": [
    {
     "name": "stdout",
     "output_type": "stream",
     "text": [
      "2.0.3\n"
     ]
    }
   ],
   "source": [
    "print(pd.__version__)"
   ]
  },
  {
   "cell_type": "code",
   "execution_count": 3,
   "metadata": {},
   "outputs": [
    {
     "name": "stdout",
     "output_type": "stream",
     "text": [
      "      col_0 col_1 col_2 col_3\n",
      "row_0    00    01    02    03\n",
      "row_1    10    11    12    13\n",
      "row_2    20    21    22    23\n",
      "row_3    30    31    32    33\n",
      "row_4    40    41    42    43\n"
     ]
    }
   ],
   "source": [
    "df = pd.DataFrame({'col_0': ['00', '10', '20', '30', '40'],\n",
    "                   'col_1': ['01', '11', '21', '31', '41'],\n",
    "                   'col_2': ['02', '12', '22', '32', '42'],\n",
    "                   'col_3': ['03', '13', '23', '33', '43']},\n",
    "                  index=['row_0', 'row_1', 'row_2', 'row_3', 'row_4'])\n",
    "print(df)"
   ]
  },
  {
   "cell_type": "code",
   "execution_count": 4,
   "metadata": {},
   "outputs": [
    {
     "name": "stdout",
     "output_type": "stream",
     "text": [
      "row_0    02\n",
      "row_1    12\n",
      "row_2    22\n",
      "row_3    32\n",
      "row_4    42\n",
      "Name: col_2, dtype: object\n",
      "<class 'pandas.core.series.Series'>\n"
     ]
    }
   ],
   "source": [
    "print(df['col_2'])\n",
    "print(type(df['col_2']))"
   ]
  },
  {
   "cell_type": "code",
   "execution_count": 5,
   "metadata": {},
   "outputs": [
    {
     "name": "stdout",
     "output_type": "stream",
     "text": [
      "row_0    02\n",
      "row_1    12\n",
      "row_2    22\n",
      "row_3    32\n",
      "row_4    42\n",
      "Name: col_2, dtype: object\n"
     ]
    }
   ],
   "source": [
    "print(df.col_2)"
   ]
  },
  {
   "cell_type": "code",
   "execution_count": 6,
   "metadata": {},
   "outputs": [
    {
     "name": "stdout",
     "output_type": "stream",
     "text": [
      "      col_2 col_0\n",
      "row_0    02    00\n",
      "row_1    12    10\n",
      "row_2    22    20\n",
      "row_3    32    30\n",
      "row_4    42    40\n",
      "<class 'pandas.core.frame.DataFrame'>\n"
     ]
    }
   ],
   "source": [
    "print(df[['col_2', 'col_0']])\n",
    "print(type(df[['col_2', 'col_0']]))"
   ]
  },
  {
   "cell_type": "code",
   "execution_count": 7,
   "metadata": {},
   "outputs": [
    {
     "name": "stdout",
     "output_type": "stream",
     "text": [
      "      col_2\n",
      "row_0    02\n",
      "row_1    12\n",
      "row_2    22\n",
      "row_3    32\n",
      "row_4    42\n",
      "<class 'pandas.core.frame.DataFrame'>\n"
     ]
    }
   ],
   "source": [
    "print(df[['col_2']])\n",
    "print(type(df[['col_2']]))"
   ]
  },
  {
   "cell_type": "code",
   "execution_count": 8,
   "metadata": {},
   "outputs": [
    {
     "name": "stdout",
     "output_type": "stream",
     "text": [
      "      col_1 col_2 col_3\n",
      "row_0    01    02    03\n",
      "row_1    11    12    13\n",
      "row_2    21    22    23\n",
      "row_3    31    32    33\n",
      "row_4    41    42    43\n"
     ]
    }
   ],
   "source": [
    "print(df.loc[:, 'col_1':'col_3'])"
   ]
  },
  {
   "cell_type": "code",
   "execution_count": 9,
   "metadata": {},
   "outputs": [
    {
     "name": "stdout",
     "output_type": "stream",
     "text": [
      "row_0    02\n",
      "row_1    12\n",
      "row_2    22\n",
      "row_3    32\n",
      "row_4    42\n",
      "Name: col_2, dtype: object\n"
     ]
    }
   ],
   "source": [
    "print(df.iloc[:, 2])"
   ]
  },
  {
   "cell_type": "code",
   "execution_count": 10,
   "metadata": {},
   "outputs": [
    {
     "name": "stdout",
     "output_type": "stream",
     "text": [
      "      col_0 col_1 col_2 col_3\n",
      "row_1    10    11    12    13\n",
      "row_2    20    21    22    23\n",
      "row_3    30    31    32    33\n",
      "<class 'pandas.core.frame.DataFrame'>\n"
     ]
    }
   ],
   "source": [
    "print(df[1:4])\n",
    "print(type(df[1:4]))"
   ]
  },
  {
   "cell_type": "code",
   "execution_count": 11,
   "metadata": {},
   "outputs": [
    {
     "name": "stdout",
     "output_type": "stream",
     "text": [
      "      col_0 col_1 col_2 col_3\n",
      "row_0    00    01    02    03\n",
      "row_1    10    11    12    13\n"
     ]
    }
   ],
   "source": [
    "print(df[:-3])"
   ]
  },
  {
   "cell_type": "code",
   "execution_count": 12,
   "metadata": {},
   "outputs": [
    {
     "name": "stdout",
     "output_type": "stream",
     "text": [
      "      col_0 col_1 col_2 col_3\n",
      "row_0    00    01    02    03\n",
      "row_2    20    21    22    23\n",
      "row_4    40    41    42    43\n"
     ]
    }
   ],
   "source": [
    "print(df[::2])"
   ]
  },
  {
   "cell_type": "code",
   "execution_count": 13,
   "metadata": {},
   "outputs": [
    {
     "name": "stdout",
     "output_type": "stream",
     "text": [
      "      col_0 col_1 col_2 col_3\n",
      "row_1    10    11    12    13\n",
      "row_3    30    31    32    33\n"
     ]
    }
   ],
   "source": [
    "print(df[1::2])"
   ]
  },
  {
   "cell_type": "code",
   "execution_count": 14,
   "metadata": {},
   "outputs": [],
   "source": [
    "# print(df[1])\n",
    "# KeyError: 1"
   ]
  },
  {
   "cell_type": "code",
   "execution_count": 15,
   "metadata": {},
   "outputs": [
    {
     "name": "stdout",
     "output_type": "stream",
     "text": [
      "      col_0 col_1 col_2 col_3\n",
      "row_1    10    11    12    13\n",
      "<class 'pandas.core.frame.DataFrame'>\n"
     ]
    }
   ],
   "source": [
    "print(df[1:2])\n",
    "print(type(df[1:2]))"
   ]
  },
  {
   "cell_type": "code",
   "execution_count": 16,
   "metadata": {},
   "outputs": [
    {
     "name": "stdout",
     "output_type": "stream",
     "text": [
      "      col_0 col_1 col_2 col_3\n",
      "row_1    10    11    12    13\n",
      "row_2    20    21    22    23\n",
      "row_3    30    31    32    33\n"
     ]
    }
   ],
   "source": [
    "print(df['row_1':'row_3'])"
   ]
  },
  {
   "cell_type": "code",
   "execution_count": 17,
   "metadata": {},
   "outputs": [
    {
     "name": "stdout",
     "output_type": "stream",
     "text": [
      "      col_0 col_1 col_2 col_3\n",
      "row_1    10    11    12    13\n",
      "row_3    30    31    32    33\n"
     ]
    }
   ],
   "source": [
    "print(df.loc[['row_1', 'row_3']])"
   ]
  },
  {
   "cell_type": "code",
   "execution_count": 18,
   "metadata": {},
   "outputs": [
    {
     "name": "stdout",
     "output_type": "stream",
     "text": [
      "col_0    10\n",
      "col_1    11\n",
      "col_2    12\n",
      "col_3    13\n",
      "Name: row_1, dtype: object\n"
     ]
    }
   ],
   "source": [
    "print(df.iloc[1])"
   ]
  },
  {
   "cell_type": "code",
   "execution_count": 19,
   "metadata": {},
   "outputs": [
    {
     "name": "stdout",
     "output_type": "stream",
     "text": [
      "21\n"
     ]
    }
   ],
   "source": [
    "print(df['col_1']['row_2'])"
   ]
  },
  {
   "cell_type": "code",
   "execution_count": 20,
   "metadata": {},
   "outputs": [
    {
     "name": "stdout",
     "output_type": "stream",
     "text": [
      "      col_1 col_3\n",
      "row_1    11    13\n",
      "row_2    21    23\n",
      "row_3    31    33\n"
     ]
    }
   ],
   "source": [
    "print(df['row_1':'row_3'][['col_1', 'col_3']])"
   ]
  },
  {
   "cell_type": "code",
   "execution_count": 21,
   "metadata": {},
   "outputs": [
    {
     "name": "stdout",
     "output_type": "stream",
     "text": [
      "21\n"
     ]
    }
   ],
   "source": [
    "print(df.at['row_2', 'col_1'])"
   ]
  },
  {
   "cell_type": "code",
   "execution_count": 22,
   "metadata": {},
   "outputs": [
    {
     "name": "stdout",
     "output_type": "stream",
     "text": [
      "      col_1 col_3\n",
      "row_1    11    13\n",
      "row_2    21    23\n",
      "row_3    31    33\n"
     ]
    }
   ],
   "source": [
    "print(df.loc['row_1':'row_3', ['col_1', 'col_3']])"
   ]
  }
 ],
 "metadata": {
  "kernelspec": {
   "display_name": "Python 3",
   "language": "python",
   "name": "python3"
  },
  "language_info": {
   "codemirror_mode": {
    "name": "ipython",
    "version": 3
   },
   "file_extension": ".py",
   "mimetype": "text/x-python",
   "name": "python",
   "nbconvert_exporter": "python",
   "pygments_lexer": "ipython3",
   "version": "3.11.4"
  }
 },
 "nbformat": 4,
 "nbformat_minor": 2
}
