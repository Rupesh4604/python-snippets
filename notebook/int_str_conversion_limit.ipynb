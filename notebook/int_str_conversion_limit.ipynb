{
 "cells": [
  {
   "cell_type": "code",
   "execution_count": 1,
   "id": "1698310c",
   "metadata": {},
   "outputs": [
    {
     "name": "stdout",
     "output_type": "stream",
     "text": [
      "11111\n"
     ]
    }
   ],
   "source": [
    "i = int('1' * 5)\n",
    "print(i)"
   ]
  },
  {
   "cell_type": "code",
   "execution_count": 2,
   "id": "e3872fbe",
   "metadata": {},
   "outputs": [],
   "source": [
    "i = int('1' * 4300)"
   ]
  },
  {
   "cell_type": "code",
   "execution_count": 3,
   "id": "4f0db200",
   "metadata": {},
   "outputs": [],
   "source": [
    "# i = int('1' * 4301)\n",
    "# ValueError: Exceeds the limit (4300 digits) for integer string conversion: value has 4301 digits; use sys.set_int_max_str_digits() to increase the limit"
   ]
  },
  {
   "cell_type": "code",
   "execution_count": 4,
   "id": "8b116354",
   "metadata": {},
   "outputs": [
    {
     "name": "stdout",
     "output_type": "stream",
     "text": [
      "100000\n"
     ]
    }
   ],
   "source": [
    "s = str(10**5)\n",
    "print(s)"
   ]
  },
  {
   "cell_type": "code",
   "execution_count": 5,
   "id": "3aa5221c",
   "metadata": {},
   "outputs": [],
   "source": [
    "s = str(10**4299)"
   ]
  },
  {
   "cell_type": "code",
   "execution_count": 6,
   "id": "43c95878",
   "metadata": {},
   "outputs": [],
   "source": [
    "# s = str(10**4300)\n",
    "# ValueError: Exceeds the limit (4300 digits) for integer string conversion; use sys.set_int_max_str_digits() to increase the limit"
   ]
  },
  {
   "cell_type": "code",
   "execution_count": 7,
   "id": "cb1b132a",
   "metadata": {},
   "outputs": [],
   "source": [
    "i = 10**10000\n",
    "# print(i)\n",
    "# ValueError: Exceeds the limit (4300 digits) for integer string conversion; use sys.set_int_max_str_digits() to increase the limit"
   ]
  },
  {
   "cell_type": "code",
   "execution_count": 8,
   "id": "7663643a",
   "metadata": {},
   "outputs": [],
   "source": [
    "i = int('1' * 10000, base=16)"
   ]
  },
  {
   "cell_type": "code",
   "execution_count": 9,
   "id": "0998c2cf",
   "metadata": {},
   "outputs": [],
   "source": [
    "s = hex(10**10000)"
   ]
  },
  {
   "cell_type": "code",
   "execution_count": 10,
   "id": "4941f466",
   "metadata": {},
   "outputs": [],
   "source": [
    "import sys"
   ]
  },
  {
   "cell_type": "code",
   "execution_count": 11,
   "id": "9a0519c0",
   "metadata": {},
   "outputs": [],
   "source": [
    "sys.set_int_max_str_digits(1000)"
   ]
  },
  {
   "cell_type": "code",
   "execution_count": 12,
   "id": "88081f86",
   "metadata": {},
   "outputs": [],
   "source": [
    "# i = int('1' * 1001)\n",
    "# ValueError: Exceeds the limit (1000 digits) for integer string conversion: value has 1001 digits; use sys.set_int_max_str_digits() to increase the limit"
   ]
  },
  {
   "cell_type": "code",
   "execution_count": 13,
   "id": "af60a852",
   "metadata": {},
   "outputs": [],
   "source": [
    "sys.set_int_max_str_digits(0)"
   ]
  },
  {
   "cell_type": "code",
   "execution_count": 14,
   "id": "08293dd9",
   "metadata": {},
   "outputs": [],
   "source": [
    "i = int('1' * 100000)"
   ]
  }
 ],
 "metadata": {
  "kernelspec": {
   "display_name": "Python 3",
   "language": "python",
   "name": "python3"
  },
  "language_info": {
   "codemirror_mode": {
    "name": "ipython",
    "version": 3
   },
   "file_extension": ".py",
   "mimetype": "text/x-python",
   "name": "python",
   "nbconvert_exporter": "python",
   "pygments_lexer": "ipython3",
   "version": "3.11.6"
  }
 },
 "nbformat": 4,
 "nbformat_minor": 5
}
