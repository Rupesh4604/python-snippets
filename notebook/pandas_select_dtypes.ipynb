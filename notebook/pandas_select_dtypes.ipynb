{
 "cells": [
  {
   "cell_type": "code",
   "execution_count": 1,
   "metadata": {},
   "outputs": [],
   "source": [
    "import pandas as pd\n",
    "import numpy as np"
   ]
  },
  {
   "cell_type": "code",
   "execution_count": 2,
   "metadata": {},
   "outputs": [
    {
     "name": "stdout",
     "output_type": "stream",
     "text": [
      "2.1.4\n"
     ]
    }
   ],
   "source": [
    "print(pd.__version__)"
   ]
  },
  {
   "cell_type": "code",
   "execution_count": 3,
   "metadata": {},
   "outputs": [
    {
     "name": "stdout",
     "output_type": "stream",
     "text": [
      "1.26.2\n"
     ]
    }
   ],
   "source": [
    "print(np.__version__)"
   ]
  },
  {
   "cell_type": "code",
   "execution_count": 4,
   "metadata": {},
   "outputs": [
    {
     "name": "stdout",
     "output_type": "stream",
     "text": [
      "   a   b    c  d       e      f          g\n",
      "0  1  10  0.1  X  [0, 0]   True 2023-12-01\n",
      "1  2  20  0.2  Y  [1, 1]   True 2023-12-02\n",
      "2  3  30  0.3  Z  [2, 2]  False 2023-12-03\n"
     ]
    }
   ],
   "source": [
    "df = pd.DataFrame({'a': [1, 2, 3],\n",
    "                   'b': np.array([10, 20, 30], dtype=np.int32),\n",
    "                   'c': [0.1, 0.2, 0.3],\n",
    "                   'd': ['X', 'Y', 'Z'],\n",
    "                   'e': [[0, 0], [1, 1], [2, 2]],\n",
    "                   'f': [True, True, False],\n",
    "                   'g': pd.to_datetime(['2023-12-01', '2023-12-02', '2023-12-03'])})\n",
    "print(df)"
   ]
  },
  {
   "cell_type": "code",
   "execution_count": 5,
   "metadata": {},
   "outputs": [
    {
     "name": "stdout",
     "output_type": "stream",
     "text": [
      "a             int64\n",
      "b             int32\n",
      "c           float64\n",
      "d            object\n",
      "e            object\n",
      "f              bool\n",
      "g    datetime64[ns]\n",
      "dtype: object\n"
     ]
    }
   ],
   "source": [
    "print(df.dtypes)"
   ]
  },
  {
   "cell_type": "code",
   "execution_count": 6,
   "metadata": {},
   "outputs": [
    {
     "name": "stdout",
     "output_type": "stream",
     "text": [
      "   a   b\n",
      "0  1  10\n",
      "1  2  20\n",
      "2  3  30\n"
     ]
    }
   ],
   "source": [
    "print(df.select_dtypes(include=int))"
   ]
  },
  {
   "cell_type": "code",
   "execution_count": 7,
   "metadata": {},
   "outputs": [
    {
     "name": "stdout",
     "output_type": "stream",
     "text": [
      "    b      f\n",
      "0  10   True\n",
      "1  20   True\n",
      "2  30  False\n"
     ]
    }
   ],
   "source": [
    "print(df.select_dtypes(include=['int32', bool]))"
   ]
  },
  {
   "cell_type": "code",
   "execution_count": 8,
   "metadata": {},
   "outputs": [
    {
     "name": "stdout",
     "output_type": "stream",
     "text": [
      "Empty DataFrame\n",
      "Columns: []\n",
      "Index: [0, 1, 2]\n"
     ]
    }
   ],
   "source": [
    "print(df.select_dtypes(include='float32'))"
   ]
  },
  {
   "cell_type": "code",
   "execution_count": 9,
   "metadata": {},
   "outputs": [
    {
     "name": "stdout",
     "output_type": "stream",
     "text": [
      "   a   b    c\n",
      "0  1  10  0.1\n",
      "1  2  20  0.2\n",
      "2  3  30  0.3\n"
     ]
    }
   ],
   "source": [
    "print(df.select_dtypes(include='number'))"
   ]
  },
  {
   "cell_type": "code",
   "execution_count": 10,
   "metadata": {},
   "outputs": [
    {
     "name": "stdout",
     "output_type": "stream",
     "text": [
      "     c  d       e      f          g\n",
      "0  0.1  X  [0, 0]   True 2023-12-01\n",
      "1  0.2  Y  [1, 1]   True 2023-12-02\n",
      "2  0.3  Z  [2, 2]  False 2023-12-03\n"
     ]
    }
   ],
   "source": [
    "print(df.select_dtypes(exclude=int))"
   ]
  },
  {
   "cell_type": "code",
   "execution_count": 11,
   "metadata": {},
   "outputs": [
    {
     "name": "stdout",
     "output_type": "stream",
     "text": [
      "   a    c  d       e          g\n",
      "0  1  0.1  X  [0, 0] 2023-12-01\n",
      "1  2  0.2  Y  [1, 1] 2023-12-02\n",
      "2  3  0.3  Z  [2, 2] 2023-12-03\n"
     ]
    }
   ],
   "source": [
    "print(df.select_dtypes(exclude=['int32', bool]))"
   ]
  },
  {
   "cell_type": "code",
   "execution_count": 12,
   "metadata": {},
   "outputs": [
    {
     "name": "stdout",
     "output_type": "stream",
     "text": [
      "   a    c\n",
      "0  1  0.1\n",
      "1  2  0.2\n",
      "2  3  0.3\n"
     ]
    }
   ],
   "source": [
    "print(df.select_dtypes(include='number', exclude='int32'))"
   ]
  },
  {
   "cell_type": "code",
   "execution_count": 13,
   "metadata": {},
   "outputs": [],
   "source": [
    "# print(df.select_dtypes(include=['int32', bool], exclude='int32'))\n",
    "# ValueError: include and exclude overlap on frozenset({<class 'numpy.int32'>})"
   ]
  },
  {
   "cell_type": "code",
   "execution_count": 14,
   "metadata": {},
   "outputs": [
    {
     "name": "stdout",
     "output_type": "stream",
     "text": [
      "   a   b    c\n",
      "0  1  10  0.1\n",
      "1  2  20  0.2\n",
      "2  3  30  0.3\n"
     ]
    }
   ],
   "source": [
    "print(df.select_dtypes(include=['i8', 'int32', np.float64]))"
   ]
  },
  {
   "cell_type": "code",
   "execution_count": 15,
   "metadata": {},
   "outputs": [
    {
     "name": "stdout",
     "output_type": "stream",
     "text": [
      "   a   b    c          g\n",
      "0  1  10  0.1 2023-12-01\n",
      "1  2  20  0.2 2023-12-02\n",
      "2  3  30  0.3 2023-12-03\n"
     ]
    }
   ],
   "source": [
    "print(df.select_dtypes(include=['number', 'datetime']))"
   ]
  },
  {
   "cell_type": "code",
   "execution_count": 16,
   "metadata": {},
   "outputs": [],
   "source": [
    "# print(df.select_dtypes(include=str))\n",
    "# TypeError: string dtypes are not allowed, use 'object' instead"
   ]
  },
  {
   "cell_type": "code",
   "execution_count": 17,
   "metadata": {},
   "outputs": [
    {
     "name": "stdout",
     "output_type": "stream",
     "text": [
      "   d       e\n",
      "0  X  [0, 0]\n",
      "1  Y  [1, 1]\n",
      "2  Z  [2, 2]\n"
     ]
    }
   ],
   "source": [
    "print(df.select_dtypes(include=object))"
   ]
  },
  {
   "cell_type": "code",
   "execution_count": 18,
   "metadata": {},
   "outputs": [
    {
     "name": "stdout",
     "output_type": "stream",
     "text": [
      "<class 'str'>\n"
     ]
    }
   ],
   "source": [
    "print(type(df.at[0, 'd']))"
   ]
  },
  {
   "cell_type": "code",
   "execution_count": 19,
   "metadata": {},
   "outputs": [
    {
     "name": "stdout",
     "output_type": "stream",
     "text": [
      "<class 'list'>\n"
     ]
    }
   ],
   "source": [
    "print(type(df.at[0, 'e']))"
   ]
  },
  {
   "cell_type": "code",
   "execution_count": 20,
   "metadata": {},
   "outputs": [
    {
     "name": "stdout",
     "output_type": "stream",
     "text": [
      "a    False\n",
      "b    False\n",
      "c    False\n",
      "d     True\n",
      "e    False\n",
      "f    False\n",
      "g    False\n",
      "Name: 0, dtype: bool\n"
     ]
    }
   ],
   "source": [
    "print(df.iloc[0].map(type) == str)"
   ]
  },
  {
   "cell_type": "code",
   "execution_count": 21,
   "metadata": {},
   "outputs": [
    {
     "name": "stdout",
     "output_type": "stream",
     "text": [
      "   d\n",
      "0  X\n",
      "1  Y\n",
      "2  Z\n"
     ]
    }
   ],
   "source": [
    "print(df.loc[:, df.iloc[0].map(type) == str])"
   ]
  }
 ],
 "metadata": {
  "kernelspec": {
   "display_name": "Python 3",
   "language": "python",
   "name": "python3"
  },
  "language_info": {
   "codemirror_mode": {
    "name": "ipython",
    "version": 3
   },
   "file_extension": ".py",
   "mimetype": "text/x-python",
   "name": "python",
   "nbconvert_exporter": "python",
   "pygments_lexer": "ipython3",
   "version": "3.11.6"
  }
 },
 "nbformat": 4,
 "nbformat_minor": 2
}
