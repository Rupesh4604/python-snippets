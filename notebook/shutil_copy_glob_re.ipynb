{
 "cells": [
  {
   "cell_type": "code",
   "execution_count": 1,
   "id": "3d5d7649",
   "metadata": {},
   "outputs": [],
   "source": [
    "import os\n",
    "from pathlib import Path"
   ]
  },
  {
   "cell_type": "code",
   "execution_count": 2,
   "id": "cad00183",
   "metadata": {},
   "outputs": [],
   "source": [
    "os.chdir('data/temp')"
   ]
  },
  {
   "cell_type": "code",
   "execution_count": 3,
   "id": "1f4c8f54",
   "metadata": {},
   "outputs": [],
   "source": [
    "def setup():\n",
    "    p = Path('temp')\n",
    "    p.joinpath('dir1/subdir').mkdir(parents=True, exist_ok=True)\n",
    "    p.joinpath('dir1/subdir/000.csv').touch()\n",
    "    p.joinpath('dir1/subdir/789.txt').touch()\n",
    "    p.joinpath('dir1/subdir/xyz.jpg').touch()\n",
    "    p.joinpath('dir1/123.jpg').touch()\n",
    "    p.joinpath('dir1/456.txt').touch()\n",
    "    p.joinpath('dir1/abc.txt').touch()"
   ]
  },
  {
   "cell_type": "code",
   "execution_count": 4,
   "id": "a4f42f93",
   "metadata": {},
   "outputs": [],
   "source": [
    "setup()"
   ]
  },
  {
   "cell_type": "code",
   "execution_count": 5,
   "id": "862124bf",
   "metadata": {},
   "outputs": [
    {
     "name": "stdout",
     "output_type": "stream",
     "text": [
      "temp/\r\n",
      "└── dir1/\r\n",
      "    ├── 123.jpg\r\n",
      "    ├── 456.txt\r\n",
      "    ├── abc.txt\r\n",
      "    └── subdir/\r\n",
      "        ├── 000.csv\r\n",
      "        ├── 789.txt\r\n",
      "        └── xyz.jpg\r\n",
      "\r\n",
      "3 directories, 6 files\r\n"
     ]
    }
   ],
   "source": [
    "!tree temp -nF  # Only works in Jupyter Notebook"
   ]
  },
  {
   "cell_type": "code",
   "execution_count": 6,
   "id": "421d554d",
   "metadata": {},
   "outputs": [],
   "source": [
    "import shutil\n",
    "import glob\n",
    "import os\n",
    "import re"
   ]
  },
  {
   "cell_type": "code",
   "execution_count": 7,
   "id": "16f8e793",
   "metadata": {},
   "outputs": [],
   "source": [
    "os.makedirs('temp/dir2')"
   ]
  },
  {
   "cell_type": "code",
   "execution_count": 8,
   "id": "8b1ab8f4",
   "metadata": {},
   "outputs": [],
   "source": [
    "for p in glob.glob('temp/dir1/**/*.txt', recursive=True):\n",
    "    if os.path.isfile(p):\n",
    "        shutil.copy(p, 'temp/dir2')"
   ]
  },
  {
   "cell_type": "code",
   "execution_count": 9,
   "id": "bb882d4e",
   "metadata": {},
   "outputs": [
    {
     "name": "stdout",
     "output_type": "stream",
     "text": [
      "temp/\r\n",
      "├── dir1/\r\n",
      "│   ├── 123.jpg\r\n",
      "│   ├── 456.txt\r\n",
      "│   ├── abc.txt\r\n",
      "│   └── subdir/\r\n",
      "│       ├── 000.csv\r\n",
      "│       ├── 789.txt\r\n",
      "│       └── xyz.jpg\r\n",
      "└── dir2/\r\n",
      "    ├── 456.txt\r\n",
      "    ├── 789.txt\r\n",
      "    └── abc.txt\r\n",
      "\r\n",
      "4 directories, 9 files\r\n"
     ]
    }
   ],
   "source": [
    "!tree temp -nF"
   ]
  },
  {
   "cell_type": "code",
   "execution_count": 10,
   "id": "acde2972",
   "metadata": {},
   "outputs": [],
   "source": [
    "src_dir = 'temp/dir1'\n",
    "dst_dir = 'temp/dir3'"
   ]
  },
  {
   "cell_type": "code",
   "execution_count": 11,
   "id": "28df0407",
   "metadata": {},
   "outputs": [],
   "source": [
    "for p in glob.glob('**/*.txt', recursive=True, root_dir=src_dir):\n",
    "    if os.path.isfile(os.path.join(src_dir, p)):\n",
    "        os.makedirs(os.path.join(dst_dir, os.path.dirname(p)), exist_ok=True)\n",
    "        shutil.copy(os.path.join(src_dir, p), os.path.join(dst_dir, p))"
   ]
  },
  {
   "cell_type": "code",
   "execution_count": 12,
   "id": "8969ca74",
   "metadata": {},
   "outputs": [
    {
     "name": "stdout",
     "output_type": "stream",
     "text": [
      "temp/\r\n",
      "├── dir1/\r\n",
      "│   ├── 123.jpg\r\n",
      "│   ├── 456.txt\r\n",
      "│   ├── abc.txt\r\n",
      "│   └── subdir/\r\n",
      "│       ├── 000.csv\r\n",
      "│       ├── 789.txt\r\n",
      "│       └── xyz.jpg\r\n",
      "├── dir2/\r\n",
      "│   ├── 456.txt\r\n",
      "│   ├── 789.txt\r\n",
      "│   └── abc.txt\r\n",
      "└── dir3/\r\n",
      "    ├── 456.txt\r\n",
      "    ├── abc.txt\r\n",
      "    └── subdir/\r\n",
      "        └── 789.txt\r\n",
      "\r\n",
      "6 directories, 12 files\r\n"
     ]
    }
   ],
   "source": [
    "!tree temp -nF"
   ]
  },
  {
   "cell_type": "code",
   "execution_count": 13,
   "id": "c9aa83d1",
   "metadata": {},
   "outputs": [],
   "source": [
    "shutil.rmtree('temp')"
   ]
  },
  {
   "cell_type": "code",
   "execution_count": 14,
   "id": "ad09df68",
   "metadata": {},
   "outputs": [],
   "source": [
    "setup()"
   ]
  },
  {
   "cell_type": "code",
   "execution_count": 15,
   "id": "96ac2466",
   "metadata": {},
   "outputs": [
    {
     "name": "stdout",
     "output_type": "stream",
     "text": [
      "temp/\r\n",
      "└── dir1/\r\n",
      "    ├── 123.jpg\r\n",
      "    ├── 456.txt\r\n",
      "    ├── abc.txt\r\n",
      "    └── subdir/\r\n",
      "        ├── 000.csv\r\n",
      "        ├── 789.txt\r\n",
      "        └── xyz.jpg\r\n",
      "\r\n",
      "3 directories, 6 files\r\n"
     ]
    }
   ],
   "source": [
    "!tree temp -nF"
   ]
  },
  {
   "cell_type": "code",
   "execution_count": 16,
   "id": "bd2090e6",
   "metadata": {},
   "outputs": [],
   "source": [
    "os.makedirs('temp/dir2')"
   ]
  },
  {
   "cell_type": "code",
   "execution_count": 17,
   "id": "aecb7b55",
   "metadata": {},
   "outputs": [],
   "source": [
    "for p in glob.glob('temp/dir1/**', recursive=True):\n",
    "    if os.path.isfile(p) and re.search('\\d+\\.(txt|csv)', p):\n",
    "        shutil.copy(p, 'temp/dir2')"
   ]
  },
  {
   "cell_type": "code",
   "execution_count": 18,
   "id": "166e3df7",
   "metadata": {},
   "outputs": [
    {
     "name": "stdout",
     "output_type": "stream",
     "text": [
      "temp/\r\n",
      "├── dir1/\r\n",
      "│   ├── 123.jpg\r\n",
      "│   ├── 456.txt\r\n",
      "│   ├── abc.txt\r\n",
      "│   └── subdir/\r\n",
      "│       ├── 000.csv\r\n",
      "│       ├── 789.txt\r\n",
      "│       └── xyz.jpg\r\n",
      "└── dir2/\r\n",
      "    ├── 000.csv\r\n",
      "    ├── 456.txt\r\n",
      "    └── 789.txt\r\n",
      "\r\n",
      "4 directories, 9 files\r\n"
     ]
    }
   ],
   "source": [
    "!tree temp -nF"
   ]
  },
  {
   "cell_type": "code",
   "execution_count": 19,
   "id": "23fd1ee4",
   "metadata": {},
   "outputs": [],
   "source": [
    "src_dir = 'temp/dir1'\n",
    "dst_dir = 'temp/dir3'"
   ]
  },
  {
   "cell_type": "code",
   "execution_count": 20,
   "id": "731fe072",
   "metadata": {},
   "outputs": [],
   "source": [
    "for p in glob.glob('**', recursive=True, root_dir=src_dir):\n",
    "    if os.path.isfile(os.path.join(src_dir, p)) and re.search('\\d+\\.(txt|csv)', p):\n",
    "        os.makedirs(os.path.join(dst_dir, os.path.dirname(p)), exist_ok=True)\n",
    "        shutil.copy(os.path.join(src_dir, p), os.path.join(dst_dir, p))"
   ]
  },
  {
   "cell_type": "code",
   "execution_count": 21,
   "id": "da12b32f",
   "metadata": {},
   "outputs": [
    {
     "name": "stdout",
     "output_type": "stream",
     "text": [
      "temp/\r\n",
      "├── dir1/\r\n",
      "│   ├── 123.jpg\r\n",
      "│   ├── 456.txt\r\n",
      "│   ├── abc.txt\r\n",
      "│   └── subdir/\r\n",
      "│       ├── 000.csv\r\n",
      "│       ├── 789.txt\r\n",
      "│       └── xyz.jpg\r\n",
      "├── dir2/\r\n",
      "│   ├── 000.csv\r\n",
      "│   ├── 456.txt\r\n",
      "│   └── 789.txt\r\n",
      "└── dir3/\r\n",
      "    ├── 456.txt\r\n",
      "    └── subdir/\r\n",
      "        ├── 000.csv\r\n",
      "        └── 789.txt\r\n",
      "\r\n",
      "6 directories, 12 files\r\n"
     ]
    }
   ],
   "source": [
    "!tree temp -nF"
   ]
  },
  {
   "cell_type": "code",
   "execution_count": 22,
   "id": "9ca98219",
   "metadata": {},
   "outputs": [],
   "source": [
    "shutil.rmtree('temp')"
   ]
  }
 ],
 "metadata": {
  "kernelspec": {
   "display_name": "Python 3",
   "language": "python",
   "name": "python3"
  },
  "language_info": {
   "codemirror_mode": {
    "name": "ipython",
    "version": 3
   },
   "file_extension": ".py",
   "mimetype": "text/x-python",
   "name": "python",
   "nbconvert_exporter": "python",
   "pygments_lexer": "ipython3",
   "version": "3.11.4"
  }
 },
 "nbformat": 4,
 "nbformat_minor": 5
}
