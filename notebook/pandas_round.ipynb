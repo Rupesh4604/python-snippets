{
 "cells": [
  {
   "cell_type": "code",
   "execution_count": 1,
   "id": "6e759285",
   "metadata": {},
   "outputs": [],
   "source": [
    "import pandas as pd"
   ]
  },
  {
   "cell_type": "code",
   "execution_count": 2,
   "id": "3521920a",
   "metadata": {},
   "outputs": [
    {
     "name": "stdout",
     "output_type": "stream",
     "text": [
      "2.1.2\n"
     ]
    }
   ],
   "source": [
    "print(pd.__version__)"
   ]
  },
  {
   "cell_type": "code",
   "execution_count": 3,
   "id": "5cd8688b",
   "metadata": {},
   "outputs": [
    {
     "name": "stdout",
     "output_type": "stream",
     "text": [
      "0    123.456\n",
      "1    987.654\n",
      "dtype: float64\n"
     ]
    }
   ],
   "source": [
    "s_f = pd.Series([123.456, 987.654])\n",
    "print(s_f)"
   ]
  },
  {
   "cell_type": "code",
   "execution_count": 4,
   "id": "41d2fd8d",
   "metadata": {},
   "outputs": [
    {
     "name": "stdout",
     "output_type": "stream",
     "text": [
      "0    123.0\n",
      "1    988.0\n",
      "dtype: float64\n"
     ]
    }
   ],
   "source": [
    "print(s_f.round())"
   ]
  },
  {
   "cell_type": "code",
   "execution_count": 5,
   "id": "f7318859",
   "metadata": {},
   "outputs": [
    {
     "name": "stdout",
     "output_type": "stream",
     "text": [
      "0    123\n",
      "1    988\n",
      "dtype: int64\n"
     ]
    }
   ],
   "source": [
    "print(s_f.round().astype(int))"
   ]
  },
  {
   "cell_type": "code",
   "execution_count": 6,
   "id": "563c59ce",
   "metadata": {},
   "outputs": [
    {
     "name": "stdout",
     "output_type": "stream",
     "text": [
      "0    123.46\n",
      "1    987.65\n",
      "dtype: float64\n"
     ]
    }
   ],
   "source": [
    "print(s_f.round(2))"
   ]
  },
  {
   "cell_type": "code",
   "execution_count": 7,
   "id": "3d94695e",
   "metadata": {},
   "outputs": [
    {
     "name": "stdout",
     "output_type": "stream",
     "text": [
      "0     100.0\n",
      "1    1000.0\n",
      "dtype: float64\n"
     ]
    }
   ],
   "source": [
    "print(s_f.round(-2))"
   ]
  },
  {
   "cell_type": "code",
   "execution_count": 8,
   "id": "e05e70d4",
   "metadata": {},
   "outputs": [
    {
     "name": "stdout",
     "output_type": "stream",
     "text": [
      "0    123\n",
      "1    987\n",
      "dtype: int64\n"
     ]
    }
   ],
   "source": [
    "s_i = pd.Series([123, 987])\n",
    "print(s_i)"
   ]
  },
  {
   "cell_type": "code",
   "execution_count": 9,
   "id": "d4367e5c",
   "metadata": {},
   "outputs": [
    {
     "name": "stdout",
     "output_type": "stream",
     "text": [
      "0    123\n",
      "1    987\n",
      "dtype: int64\n"
     ]
    }
   ],
   "source": [
    "print(s_i.round())"
   ]
  },
  {
   "cell_type": "code",
   "execution_count": 10,
   "id": "637afbd6",
   "metadata": {},
   "outputs": [
    {
     "name": "stdout",
     "output_type": "stream",
     "text": [
      "0    123\n",
      "1    987\n",
      "dtype: int64\n"
     ]
    }
   ],
   "source": [
    "print(s_i.round(2))"
   ]
  },
  {
   "cell_type": "code",
   "execution_count": 11,
   "id": "976b0f43",
   "metadata": {},
   "outputs": [
    {
     "name": "stdout",
     "output_type": "stream",
     "text": [
      "0     100\n",
      "1    1000\n",
      "dtype: int64\n"
     ]
    }
   ],
   "source": [
    "print(s_i.round(-2))"
   ]
  },
  {
   "cell_type": "code",
   "execution_count": 12,
   "id": "3c555d51",
   "metadata": {},
   "outputs": [
    {
     "name": "stdout",
     "output_type": "stream",
     "text": [
      "0     100\n",
      "1    1000\n",
      "dtype: int64\n"
     ]
    }
   ],
   "source": [
    "s_i_round = s_i.round(-2)\n",
    "print(s_i_round)"
   ]
  },
  {
   "cell_type": "code",
   "execution_count": 13,
   "id": "d212932c",
   "metadata": {},
   "outputs": [
    {
     "name": "stdout",
     "output_type": "stream",
     "text": [
      "0    123\n",
      "1    987\n",
      "dtype: int64\n"
     ]
    }
   ],
   "source": [
    "print(s_i)"
   ]
  },
  {
   "cell_type": "code",
   "execution_count": 14,
   "id": "b8a50e15",
   "metadata": {},
   "outputs": [
    {
     "name": "stdout",
     "output_type": "stream",
     "text": [
      "         f    i    s\n",
      "0  123.456  123  abc\n",
      "1  987.654  987  xyz\n"
     ]
    }
   ],
   "source": [
    "df = pd.DataFrame({'f': [123.456, 987.654], 'i': [123, 987], 's': ['abc', 'xyz']})\n",
    "print(df)"
   ]
  },
  {
   "cell_type": "code",
   "execution_count": 15,
   "id": "1538c009",
   "metadata": {},
   "outputs": [
    {
     "name": "stdout",
     "output_type": "stream",
     "text": [
      "f    float64\n",
      "i      int64\n",
      "s     object\n",
      "dtype: object\n"
     ]
    }
   ],
   "source": [
    "print(df.dtypes)"
   ]
  },
  {
   "cell_type": "code",
   "execution_count": 16,
   "id": "1f837bcd",
   "metadata": {},
   "outputs": [
    {
     "name": "stdout",
     "output_type": "stream",
     "text": [
      "       f    i    s\n",
      "0  123.0  123  abc\n",
      "1  988.0  987  xyz\n"
     ]
    }
   ],
   "source": [
    "print(df.round())"
   ]
  },
  {
   "cell_type": "code",
   "execution_count": 17,
   "id": "b006d080",
   "metadata": {},
   "outputs": [
    {
     "name": "stdout",
     "output_type": "stream",
     "text": [
      "        f    i    s\n",
      "0  123.46  123  abc\n",
      "1  987.65  987  xyz\n"
     ]
    }
   ],
   "source": [
    "print(df.round(2))"
   ]
  },
  {
   "cell_type": "code",
   "execution_count": 18,
   "id": "d8efb6df",
   "metadata": {},
   "outputs": [
    {
     "name": "stdout",
     "output_type": "stream",
     "text": [
      "        f     i    s\n",
      "0   100.0   100  abc\n",
      "1  1000.0  1000  xyz\n"
     ]
    }
   ],
   "source": [
    "print(df.round(-2))"
   ]
  },
  {
   "cell_type": "code",
   "execution_count": 19,
   "id": "39af9683",
   "metadata": {},
   "outputs": [
    {
     "name": "stdout",
     "output_type": "stream",
     "text": [
      "        f    i    s\n",
      "0  123.46  120  abc\n",
      "1  987.65  990  xyz\n"
     ]
    }
   ],
   "source": [
    "print(df.round({'f': 2, 'i': -1, 's': 2}))"
   ]
  },
  {
   "cell_type": "code",
   "execution_count": 20,
   "id": "cb11274e",
   "metadata": {},
   "outputs": [
    {
     "name": "stdout",
     "output_type": "stream",
     "text": [
      "         f     i    s\n",
      "0  123.456   100  abc\n",
      "1  987.654  1000  xyz\n"
     ]
    }
   ],
   "source": [
    "print(df.round({'i': -2}))"
   ]
  },
  {
   "cell_type": "code",
   "execution_count": 21,
   "id": "73dfbce1",
   "metadata": {},
   "outputs": [
    {
     "name": "stdout",
     "output_type": "stream",
     "text": [
      "0    0.5\n",
      "1    1.5\n",
      "2    2.5\n",
      "3    3.5\n",
      "4    4.5\n",
      "dtype: float64\n"
     ]
    }
   ],
   "source": [
    "s = pd.Series([0.5, 1.5, 2.5, 3.5, 4.5])\n",
    "print(s)"
   ]
  },
  {
   "cell_type": "code",
   "execution_count": 22,
   "id": "6ea10e94",
   "metadata": {},
   "outputs": [
    {
     "name": "stdout",
     "output_type": "stream",
     "text": [
      "0    0.0\n",
      "1    2.0\n",
      "2    2.0\n",
      "3    4.0\n",
      "4    4.0\n",
      "dtype: float64\n"
     ]
    }
   ],
   "source": [
    "print(s.round())"
   ]
  },
  {
   "cell_type": "code",
   "execution_count": 23,
   "id": "5703acd3",
   "metadata": {},
   "outputs": [
    {
     "name": "stdout",
     "output_type": "stream",
     "text": [
      "0    2.49\n",
      "1    2.50\n",
      "2    2.51\n",
      "dtype: float64\n"
     ]
    }
   ],
   "source": [
    "s = pd.Series([2.49, 2.5, 2.51])\n",
    "print(s)"
   ]
  },
  {
   "cell_type": "code",
   "execution_count": 24,
   "id": "636a04e6",
   "metadata": {},
   "outputs": [
    {
     "name": "stdout",
     "output_type": "stream",
     "text": [
      "0    2.0\n",
      "1    2.0\n",
      "2    3.0\n",
      "dtype: float64\n"
     ]
    }
   ],
   "source": [
    "print(s.round())"
   ]
  },
  {
   "cell_type": "code",
   "execution_count": 25,
   "id": "fde55540",
   "metadata": {},
   "outputs": [
    {
     "name": "stdout",
     "output_type": "stream",
     "text": [
      "0    249\n",
      "1    250\n",
      "2    251\n",
      "dtype: int64\n"
     ]
    }
   ],
   "source": [
    "s = pd.Series([249, 250, 251])\n",
    "print(s)"
   ]
  },
  {
   "cell_type": "code",
   "execution_count": 26,
   "id": "e2d179b1",
   "metadata": {},
   "outputs": [
    {
     "name": "stdout",
     "output_type": "stream",
     "text": [
      "0    200\n",
      "1    200\n",
      "2    300\n",
      "dtype: int64\n"
     ]
    }
   ],
   "source": [
    "print(s.round(-2))"
   ]
  }
 ],
 "metadata": {
  "kernelspec": {
   "display_name": "Python 3",
   "language": "python",
   "name": "python3"
  },
  "language_info": {
   "codemirror_mode": {
    "name": "ipython",
    "version": 3
   },
   "file_extension": ".py",
   "mimetype": "text/x-python",
   "name": "python",
   "nbconvert_exporter": "python",
   "pygments_lexer": "ipython3",
   "version": "3.11.6"
  }
 },
 "nbformat": 4,
 "nbformat_minor": 5
}
