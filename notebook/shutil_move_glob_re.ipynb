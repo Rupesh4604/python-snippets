{
 "cells": [
  {
   "cell_type": "code",
   "execution_count": 1,
   "metadata": {},
   "outputs": [],
   "source": [
    "import os\n",
    "from pathlib import Path"
   ]
  },
  {
   "cell_type": "code",
   "execution_count": 2,
   "metadata": {},
   "outputs": [],
   "source": [
    "os.chdir('data/temp')"
   ]
  },
  {
   "cell_type": "code",
   "execution_count": 3,
   "metadata": {},
   "outputs": [],
   "source": [
    "def setup():\n",
    "    p = Path('temp')\n",
    "    p.joinpath('dir1/subdir').mkdir(parents=True, exist_ok=True)\n",
    "    p.joinpath('dir1/subdir/000.csv').touch()\n",
    "    p.joinpath('dir1/subdir/789.txt').touch()\n",
    "    p.joinpath('dir1/subdir/xyz.jpg').touch()\n",
    "    p.joinpath('dir1/123.jpg').touch()\n",
    "    p.joinpath('dir1/456.txt').touch()\n",
    "    p.joinpath('dir1/abc.txt').touch()"
   ]
  },
  {
   "cell_type": "code",
   "execution_count": 4,
   "metadata": {},
   "outputs": [],
   "source": [
    "setup()"
   ]
  },
  {
   "cell_type": "code",
   "execution_count": 5,
   "metadata": {},
   "outputs": [
    {
     "name": "stdout",
     "output_type": "stream",
     "text": [
      "temp/\r\n",
      "└── dir1/\r\n",
      "    ├── 123.jpg\r\n",
      "    ├── 456.txt\r\n",
      "    ├── abc.txt\r\n",
      "    └── subdir/\r\n",
      "        ├── 000.csv\r\n",
      "        ├── 789.txt\r\n",
      "        └── xyz.jpg\r\n",
      "\r\n",
      "3 directories, 6 files\r\n"
     ]
    }
   ],
   "source": [
    "!tree temp -nF  # Only works in Jupyter Notebook"
   ]
  },
  {
   "cell_type": "code",
   "execution_count": 6,
   "metadata": {},
   "outputs": [],
   "source": [
    "import shutil\n",
    "import glob\n",
    "import os\n",
    "import re"
   ]
  },
  {
   "cell_type": "code",
   "execution_count": 7,
   "metadata": {},
   "outputs": [],
   "source": [
    "os.makedirs('temp/dir2')"
   ]
  },
  {
   "cell_type": "code",
   "execution_count": 8,
   "metadata": {},
   "outputs": [],
   "source": [
    "for p in glob.glob('temp/dir1/**/*.txt', recursive=True):\n",
    "    shutil.move(p, 'temp/dir2')"
   ]
  },
  {
   "cell_type": "code",
   "execution_count": 9,
   "metadata": {},
   "outputs": [
    {
     "name": "stdout",
     "output_type": "stream",
     "text": [
      "temp/\r\n",
      "├── dir1/\r\n",
      "│   ├── 123.jpg\r\n",
      "│   └── subdir/\r\n",
      "│       ├── 000.csv\r\n",
      "│       └── xyz.jpg\r\n",
      "└── dir2/\r\n",
      "    ├── 456.txt\r\n",
      "    ├── 789.txt\r\n",
      "    └── abc.txt\r\n",
      "\r\n",
      "4 directories, 6 files\r\n"
     ]
    }
   ],
   "source": [
    "!tree temp -nF"
   ]
  },
  {
   "cell_type": "code",
   "execution_count": 10,
   "metadata": {},
   "outputs": [],
   "source": [
    "shutil.rmtree('temp')"
   ]
  },
  {
   "cell_type": "code",
   "execution_count": 11,
   "metadata": {},
   "outputs": [],
   "source": [
    "setup()"
   ]
  },
  {
   "cell_type": "code",
   "execution_count": 12,
   "metadata": {},
   "outputs": [
    {
     "name": "stdout",
     "output_type": "stream",
     "text": [
      "temp/\r\n",
      "└── dir1/\r\n",
      "    ├── 123.jpg\r\n",
      "    ├── 456.txt\r\n",
      "    ├── abc.txt\r\n",
      "    └── subdir/\r\n",
      "        ├── 000.csv\r\n",
      "        ├── 789.txt\r\n",
      "        └── xyz.jpg\r\n",
      "\r\n",
      "3 directories, 6 files\r\n"
     ]
    }
   ],
   "source": [
    "!tree temp -nF"
   ]
  },
  {
   "cell_type": "code",
   "execution_count": 13,
   "metadata": {},
   "outputs": [],
   "source": [
    "src_dir = 'temp/dir1'\n",
    "dst_dir = 'temp/dir2'"
   ]
  },
  {
   "cell_type": "code",
   "execution_count": 14,
   "metadata": {},
   "outputs": [],
   "source": [
    "for p in glob.glob('**/*.txt', recursive=True, root_dir=src_dir):\n",
    "    os.makedirs(os.path.join(dst_dir, os.path.dirname(p)), exist_ok=True)\n",
    "    shutil.move(os.path.join(src_dir, p), os.path.join(dst_dir, p))"
   ]
  },
  {
   "cell_type": "code",
   "execution_count": 15,
   "metadata": {},
   "outputs": [
    {
     "name": "stdout",
     "output_type": "stream",
     "text": [
      "temp/\r\n",
      "├── dir1/\r\n",
      "│   ├── 123.jpg\r\n",
      "│   └── subdir/\r\n",
      "│       ├── 000.csv\r\n",
      "│       └── xyz.jpg\r\n",
      "└── dir2/\r\n",
      "    ├── 456.txt\r\n",
      "    ├── abc.txt\r\n",
      "    └── subdir/\r\n",
      "        └── 789.txt\r\n",
      "\r\n",
      "5 directories, 6 files\r\n"
     ]
    }
   ],
   "source": [
    "!tree temp -nF"
   ]
  },
  {
   "cell_type": "code",
   "execution_count": 16,
   "metadata": {},
   "outputs": [],
   "source": [
    "shutil.rmtree('temp')"
   ]
  },
  {
   "cell_type": "code",
   "execution_count": 17,
   "metadata": {},
   "outputs": [],
   "source": [
    "setup()"
   ]
  },
  {
   "cell_type": "code",
   "execution_count": 18,
   "metadata": {},
   "outputs": [
    {
     "name": "stdout",
     "output_type": "stream",
     "text": [
      "temp/\r\n",
      "└── dir1/\r\n",
      "    ├── 123.jpg\r\n",
      "    ├── 456.txt\r\n",
      "    ├── abc.txt\r\n",
      "    └── subdir/\r\n",
      "        ├── 000.csv\r\n",
      "        ├── 789.txt\r\n",
      "        └── xyz.jpg\r\n",
      "\r\n",
      "3 directories, 6 files\r\n"
     ]
    }
   ],
   "source": [
    "!tree temp -nF"
   ]
  },
  {
   "cell_type": "code",
   "execution_count": 19,
   "metadata": {},
   "outputs": [],
   "source": [
    "os.makedirs('temp/dir2')"
   ]
  },
  {
   "cell_type": "code",
   "execution_count": 20,
   "metadata": {},
   "outputs": [],
   "source": [
    "for p in glob.glob('temp/**', recursive=True):\n",
    "    if re.search('\\d+\\.(txt|csv)', p):\n",
    "        shutil.move(p, 'temp/dir2')"
   ]
  },
  {
   "cell_type": "code",
   "execution_count": 21,
   "metadata": {},
   "outputs": [
    {
     "name": "stdout",
     "output_type": "stream",
     "text": [
      "temp/\r\n",
      "├── dir1/\r\n",
      "│   ├── 123.jpg\r\n",
      "│   ├── abc.txt\r\n",
      "│   └── subdir/\r\n",
      "│       └── xyz.jpg\r\n",
      "└── dir2/\r\n",
      "    ├── 000.csv\r\n",
      "    ├── 456.txt\r\n",
      "    └── 789.txt\r\n",
      "\r\n",
      "4 directories, 6 files\r\n"
     ]
    }
   ],
   "source": [
    "!tree temp -nF"
   ]
  },
  {
   "cell_type": "code",
   "execution_count": 22,
   "metadata": {},
   "outputs": [],
   "source": [
    "shutil.rmtree('temp')"
   ]
  },
  {
   "cell_type": "code",
   "execution_count": 23,
   "metadata": {},
   "outputs": [],
   "source": [
    "setup()"
   ]
  },
  {
   "cell_type": "code",
   "execution_count": 24,
   "metadata": {},
   "outputs": [
    {
     "name": "stdout",
     "output_type": "stream",
     "text": [
      "temp/\r\n",
      "└── dir1/\r\n",
      "    ├── 123.jpg\r\n",
      "    ├── 456.txt\r\n",
      "    ├── abc.txt\r\n",
      "    └── subdir/\r\n",
      "        ├── 000.csv\r\n",
      "        ├── 789.txt\r\n",
      "        └── xyz.jpg\r\n",
      "\r\n",
      "3 directories, 6 files\r\n"
     ]
    }
   ],
   "source": [
    "!tree temp -nF"
   ]
  },
  {
   "cell_type": "code",
   "execution_count": 25,
   "metadata": {},
   "outputs": [],
   "source": [
    "src_dir = 'temp/dir1'\n",
    "dst_dir = 'temp/dir2'"
   ]
  },
  {
   "cell_type": "code",
   "execution_count": 26,
   "metadata": {},
   "outputs": [],
   "source": [
    "for p in glob.glob('**', recursive=True, root_dir=src_dir):\n",
    "    if re.search('\\d+\\.(txt|csv)', p):\n",
    "        os.makedirs(os.path.join(dst_dir, os.path.dirname(p)), exist_ok=True)\n",
    "        shutil.move(os.path.join(src_dir, p), os.path.join(dst_dir, p))"
   ]
  },
  {
   "cell_type": "code",
   "execution_count": 27,
   "metadata": {},
   "outputs": [
    {
     "name": "stdout",
     "output_type": "stream",
     "text": [
      "temp/\r\n",
      "├── dir1/\r\n",
      "│   ├── 123.jpg\r\n",
      "│   ├── abc.txt\r\n",
      "│   └── subdir/\r\n",
      "│       └── xyz.jpg\r\n",
      "└── dir2/\r\n",
      "    ├── 456.txt\r\n",
      "    └── subdir/\r\n",
      "        ├── 000.csv\r\n",
      "        └── 789.txt\r\n",
      "\r\n",
      "5 directories, 6 files\r\n"
     ]
    }
   ],
   "source": [
    "!tree temp -nF"
   ]
  },
  {
   "cell_type": "code",
   "execution_count": 28,
   "metadata": {},
   "outputs": [],
   "source": [
    "shutil.rmtree('temp')"
   ]
  }
 ],
 "metadata": {
  "kernelspec": {
   "display_name": "Python 3",
   "language": "python",
   "name": "python3"
  },
  "language_info": {
   "codemirror_mode": {
    "name": "ipython",
    "version": 3
   },
   "file_extension": ".py",
   "mimetype": "text/x-python",
   "name": "python",
   "nbconvert_exporter": "python",
   "pygments_lexer": "ipython3",
   "version": "3.11.4"
  }
 },
 "nbformat": 4,
 "nbformat_minor": 2
}
