{
 "cells": [
  {
   "cell_type": "code",
   "execution_count": 1,
   "metadata": {},
   "outputs": [],
   "source": [
    "import os\n",
    "from pathlib import Path"
   ]
  },
  {
   "cell_type": "code",
   "execution_count": 2,
   "metadata": {},
   "outputs": [],
   "source": [
    "os.chdir('data/temp')"
   ]
  },
  {
   "cell_type": "code",
   "execution_count": 3,
   "metadata": {},
   "outputs": [],
   "source": [
    "def setup():\n",
    "    p = Path('temp')\n",
    "    p.joinpath('dir').mkdir(parents=True, exist_ok=True)\n",
    "    p.joinpath('dir2').mkdir(parents=True, exist_ok=True)\n",
    "    p.joinpath('dir/000.csv').touch()\n",
    "    p.joinpath('dir/789.txt').touch()\n",
    "    p.joinpath('dir/xyz.jpg').touch()\n",
    "    p.joinpath('123.jpg').touch()\n",
    "    p.joinpath('456.txt').touch()\n",
    "    p.joinpath('abc.txt').touch()"
   ]
  },
  {
   "cell_type": "code",
   "execution_count": 4,
   "metadata": {},
   "outputs": [],
   "source": [
    "setup()"
   ]
  },
  {
   "cell_type": "code",
   "execution_count": 5,
   "metadata": {},
   "outputs": [
    {
     "name": "stdout",
     "output_type": "stream",
     "text": [
      "temp/\r\n",
      "├── 123.jpg\r\n",
      "├── 456.txt\r\n",
      "├── abc.txt\r\n",
      "├── dir/\r\n",
      "│   ├── 000.csv\r\n",
      "│   ├── 789.txt\r\n",
      "│   └── xyz.jpg\r\n",
      "└── dir2/\r\n",
      "\r\n",
      "3 directories, 6 files\r\n"
     ]
    }
   ],
   "source": [
    "!tree temp -nF  # Only works in Jupyter Notebook"
   ]
  },
  {
   "cell_type": "code",
   "execution_count": 6,
   "metadata": {},
   "outputs": [],
   "source": [
    "import shutil\n",
    "import glob\n",
    "import re"
   ]
  },
  {
   "cell_type": "code",
   "execution_count": 7,
   "metadata": {},
   "outputs": [],
   "source": [
    "for p in glob.glob('temp/**/*.txt', recursive=True):\n",
    "    shutil.move(p, 'temp/dir2')"
   ]
  },
  {
   "cell_type": "code",
   "execution_count": 8,
   "metadata": {},
   "outputs": [
    {
     "name": "stdout",
     "output_type": "stream",
     "text": [
      "temp/\r\n",
      "├── 123.jpg\r\n",
      "├── dir/\r\n",
      "│   ├── 000.csv\r\n",
      "│   └── xyz.jpg\r\n",
      "└── dir2/\r\n",
      "    ├── 456.txt\r\n",
      "    ├── 789.txt\r\n",
      "    └── abc.txt\r\n",
      "\r\n",
      "3 directories, 6 files\r\n"
     ]
    }
   ],
   "source": [
    "!tree temp -nF"
   ]
  },
  {
   "cell_type": "code",
   "execution_count": 9,
   "metadata": {},
   "outputs": [],
   "source": [
    "shutil.rmtree('temp')"
   ]
  },
  {
   "cell_type": "code",
   "execution_count": 10,
   "metadata": {},
   "outputs": [],
   "source": [
    "setup()"
   ]
  },
  {
   "cell_type": "code",
   "execution_count": 11,
   "metadata": {},
   "outputs": [
    {
     "name": "stdout",
     "output_type": "stream",
     "text": [
      "temp/\r\n",
      "├── 123.jpg\r\n",
      "├── 456.txt\r\n",
      "├── abc.txt\r\n",
      "├── dir/\r\n",
      "│   ├── 000.csv\r\n",
      "│   ├── 789.txt\r\n",
      "│   └── xyz.jpg\r\n",
      "└── dir2/\r\n",
      "\r\n",
      "3 directories, 6 files\r\n"
     ]
    }
   ],
   "source": [
    "!tree temp -nF"
   ]
  },
  {
   "cell_type": "code",
   "execution_count": 12,
   "metadata": {},
   "outputs": [],
   "source": [
    "for p in glob.glob('temp/**', recursive=True):\n",
    "    if re.search('\\d+\\.(txt|csv)', p):\n",
    "        shutil.move(p, 'temp/dir2')"
   ]
  },
  {
   "cell_type": "code",
   "execution_count": 13,
   "metadata": {},
   "outputs": [
    {
     "name": "stdout",
     "output_type": "stream",
     "text": [
      "temp/\r\n",
      "├── 123.jpg\r\n",
      "├── abc.txt\r\n",
      "├── dir/\r\n",
      "│   └── xyz.jpg\r\n",
      "└── dir2/\r\n",
      "    ├── 000.csv\r\n",
      "    ├── 456.txt\r\n",
      "    └── 789.txt\r\n",
      "\r\n",
      "3 directories, 6 files\r\n"
     ]
    }
   ],
   "source": [
    "!tree temp -nF"
   ]
  },
  {
   "cell_type": "code",
   "execution_count": 14,
   "metadata": {},
   "outputs": [],
   "source": [
    "shutil.rmtree('temp')"
   ]
  }
 ],
 "metadata": {
  "kernelspec": {
   "display_name": "Python 3",
   "language": "python",
   "name": "python3"
  },
  "language_info": {
   "codemirror_mode": {
    "name": "ipython",
    "version": 3
   },
   "file_extension": ".py",
   "mimetype": "text/x-python",
   "name": "python",
   "nbconvert_exporter": "python",
   "pygments_lexer": "ipython3",
   "version": "3.11.4"
  }
 },
 "nbformat": 4,
 "nbformat_minor": 2
}
