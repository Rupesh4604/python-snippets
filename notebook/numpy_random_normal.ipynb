{
 "cells": [
  {
   "cell_type": "code",
   "execution_count": 1,
   "id": "eff70e42",
   "metadata": {},
   "outputs": [],
   "source": [
    "import numpy as np"
   ]
  },
  {
   "cell_type": "code",
   "execution_count": 2,
   "id": "138d3740",
   "metadata": {},
   "outputs": [
    {
     "name": "stdout",
     "output_type": "stream",
     "text": [
      "1.26.1\n"
     ]
    }
   ],
   "source": [
    "print(np.__version__)"
   ]
  },
  {
   "cell_type": "code",
   "execution_count": 3,
   "id": "7501f259",
   "metadata": {},
   "outputs": [],
   "source": [
    "rng = np.random.default_rng()"
   ]
  },
  {
   "cell_type": "code",
   "execution_count": 4,
   "id": "c8a33119",
   "metadata": {},
   "outputs": [
    {
     "name": "stdout",
     "output_type": "stream",
     "text": [
      "0.08496250507973527\n"
     ]
    }
   ],
   "source": [
    "print(rng.standard_normal())"
   ]
  },
  {
   "cell_type": "code",
   "execution_count": 5,
   "id": "aba86742",
   "metadata": {},
   "outputs": [
    {
     "name": "stdout",
     "output_type": "stream",
     "text": [
      "[ 1.21769711  1.81125807 -0.87641522]\n"
     ]
    }
   ],
   "source": [
    "print(rng.standard_normal(3))"
   ]
  },
  {
   "cell_type": "code",
   "execution_count": 6,
   "id": "a553dd94",
   "metadata": {},
   "outputs": [
    {
     "name": "stdout",
     "output_type": "stream",
     "text": [
      "[[-1.79057437  0.30921794  0.78466028]\n",
      " [ 0.9669326  -0.23709503  0.17453728]]\n"
     ]
    }
   ],
   "source": [
    "print(rng.standard_normal((2, 3)))"
   ]
  },
  {
   "cell_type": "code",
   "execution_count": 7,
   "id": "4f2e8794",
   "metadata": {},
   "outputs": [
    {
     "name": "stdout",
     "output_type": "stream",
     "text": [
      "[[ 1.59966341 -2.3255136  -0.90314338]\n",
      " [-0.90576614  0.45550908 -0.88593054]]\n"
     ]
    }
   ],
   "source": [
    "print(np.random.standard_normal((2, 3)))"
   ]
  },
  {
   "cell_type": "code",
   "execution_count": 8,
   "id": "10fd2b90",
   "metadata": {},
   "outputs": [
    {
     "name": "stdout",
     "output_type": "stream",
     "text": [
      "[[ 0.13158995 -0.34018141  0.26866075]\n",
      " [-0.35383739 -1.85442183 -0.1316313 ]]\n"
     ]
    }
   ],
   "source": [
    "print(np.random.randn(2, 3))"
   ]
  },
  {
   "cell_type": "code",
   "execution_count": 9,
   "id": "6127d79f",
   "metadata": {},
   "outputs": [],
   "source": [
    "rng = np.random.default_rng()"
   ]
  },
  {
   "cell_type": "code",
   "execution_count": 10,
   "id": "0b6f5b70",
   "metadata": {},
   "outputs": [
    {
     "name": "stdout",
     "output_type": "stream",
     "text": [
      "1.4099095964428612\n"
     ]
    }
   ],
   "source": [
    "print(rng.normal(2, 2.5))"
   ]
  },
  {
   "cell_type": "code",
   "execution_count": 11,
   "id": "de27c175",
   "metadata": {},
   "outputs": [
    {
     "name": "stdout",
     "output_type": "stream",
     "text": [
      "[-1.02713245  2.80603029  6.84660003]\n"
     ]
    }
   ],
   "source": [
    "print(rng.normal(2, 2.5, 3))"
   ]
  },
  {
   "cell_type": "code",
   "execution_count": 12,
   "id": "d60f70d5",
   "metadata": {},
   "outputs": [
    {
     "name": "stdout",
     "output_type": "stream",
     "text": [
      "[[ 4.23662681  2.36596096 -0.08259898]\n",
      " [ 2.27105608  1.58751381 -2.42582859]]\n"
     ]
    }
   ],
   "source": [
    "print(rng.normal(2, 2.5, (2, 3)))"
   ]
  },
  {
   "cell_type": "code",
   "execution_count": 13,
   "id": "9713a0ce",
   "metadata": {},
   "outputs": [
    {
     "name": "stdout",
     "output_type": "stream",
     "text": [
      "[[ 4.43180284  3.74464437  0.79083482]\n",
      " [-0.3631814   0.39375677  7.8085918 ]]\n"
     ]
    }
   ],
   "source": [
    "print(np.random.normal(2, 2.5, (2, 3)))"
   ]
  }
 ],
 "metadata": {
  "kernelspec": {
   "display_name": "Python 3",
   "language": "python",
   "name": "python3"
  },
  "language_info": {
   "codemirror_mode": {
    "name": "ipython",
    "version": 3
   },
   "file_extension": ".py",
   "mimetype": "text/x-python",
   "name": "python",
   "nbconvert_exporter": "python",
   "pygments_lexer": "ipython3",
   "version": "3.11.6"
  }
 },
 "nbformat": 4,
 "nbformat_minor": 5
}
