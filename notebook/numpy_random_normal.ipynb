{
 "cells": [
  {
   "cell_type": "code",
   "execution_count": 1,
   "id": "eff70e42",
   "metadata": {},
   "outputs": [],
   "source": [
    "import numpy as np"
   ]
  },
  {
   "cell_type": "code",
   "execution_count": 2,
   "id": "138d3740",
   "metadata": {},
   "outputs": [
    {
     "name": "stdout",
     "output_type": "stream",
     "text": [
      "1.26.1\n"
     ]
    }
   ],
   "source": [
    "print(np.__version__)"
   ]
  },
  {
   "cell_type": "code",
   "execution_count": 3,
   "id": "0652464f",
   "metadata": {},
   "outputs": [],
   "source": [
    "np.random.seed(1234)"
   ]
  },
  {
   "cell_type": "code",
   "execution_count": 4,
   "id": "7501f259",
   "metadata": {},
   "outputs": [],
   "source": [
    "rng = np.random.default_rng(1234)"
   ]
  },
  {
   "cell_type": "code",
   "execution_count": 5,
   "id": "c8a33119",
   "metadata": {},
   "outputs": [
    {
     "name": "stdout",
     "output_type": "stream",
     "text": [
      "-1.6038368053963015\n"
     ]
    }
   ],
   "source": [
    "print(rng.standard_normal())"
   ]
  },
  {
   "cell_type": "code",
   "execution_count": 6,
   "id": "aba86742",
   "metadata": {},
   "outputs": [
    {
     "name": "stdout",
     "output_type": "stream",
     "text": [
      "[0.06409991 0.7408913  0.15261919]\n"
     ]
    }
   ],
   "source": [
    "print(rng.standard_normal(3))"
   ]
  },
  {
   "cell_type": "code",
   "execution_count": 7,
   "id": "a553dd94",
   "metadata": {},
   "outputs": [
    {
     "name": "stdout",
     "output_type": "stream",
     "text": [
      "[[ 0.86374389  2.91309922 -1.47882336]\n",
      " [ 0.94547297 -1.66613546  0.34374458]]\n"
     ]
    }
   ],
   "source": [
    "print(rng.standard_normal((2, 3)))"
   ]
  },
  {
   "cell_type": "code",
   "execution_count": 8,
   "id": "4f2e8794",
   "metadata": {},
   "outputs": [
    {
     "name": "stdout",
     "output_type": "stream",
     "text": [
      "[[ 0.47143516 -1.19097569  1.43270697]\n",
      " [-0.3126519  -0.72058873  0.88716294]]\n"
     ]
    }
   ],
   "source": [
    "print(np.random.standard_normal((2, 3)))"
   ]
  },
  {
   "cell_type": "code",
   "execution_count": 9,
   "id": "10fd2b90",
   "metadata": {},
   "outputs": [
    {
     "name": "stdout",
     "output_type": "stream",
     "text": [
      "[[ 0.85958841 -0.6365235   0.01569637]\n",
      " [-2.24268495  1.15003572  0.99194602]]\n"
     ]
    }
   ],
   "source": [
    "print(np.random.randn(2, 3))"
   ]
  },
  {
   "cell_type": "code",
   "execution_count": 10,
   "id": "6127d79f",
   "metadata": {},
   "outputs": [],
   "source": [
    "rng = np.random.default_rng(1234)"
   ]
  },
  {
   "cell_type": "code",
   "execution_count": 11,
   "id": "0b6f5b70",
   "metadata": {},
   "outputs": [
    {
     "name": "stdout",
     "output_type": "stream",
     "text": [
      "-2.009592013490754\n"
     ]
    }
   ],
   "source": [
    "print(rng.normal(2, 2.5))"
   ]
  },
  {
   "cell_type": "code",
   "execution_count": 12,
   "id": "de27c175",
   "metadata": {},
   "outputs": [
    {
     "name": "stdout",
     "output_type": "stream",
     "text": [
      "[2.16024979 3.85222824 2.38154798]\n"
     ]
    }
   ],
   "source": [
    "print(rng.normal(2, 2.5, 3))"
   ]
  },
  {
   "cell_type": "code",
   "execution_count": 13,
   "id": "d60f70d5",
   "metadata": {},
   "outputs": [
    {
     "name": "stdout",
     "output_type": "stream",
     "text": [
      "[[ 4.15935973  9.28274806 -1.6970584 ]\n",
      " [ 4.36368244 -2.16533864  2.85936145]]\n"
     ]
    }
   ],
   "source": [
    "print(rng.normal(2, 2.5, (2, 3)))"
   ]
  },
  {
   "cell_type": "code",
   "execution_count": 14,
   "id": "9713a0ce",
   "metadata": {},
   "outputs": [
    {
     "name": "stdout",
     "output_type": "stream",
     "text": [
      "[[ 4.38331032 -3.05313705  1.16480659]\n",
      " [ 2.00529591  3.01363353  2.72272985]]\n"
     ]
    }
   ],
   "source": [
    "print(np.random.normal(2, 2.5, (2, 3)))"
   ]
  }
 ],
 "metadata": {
  "kernelspec": {
   "display_name": "Python 3",
   "language": "python",
   "name": "python3"
  },
  "language_info": {
   "codemirror_mode": {
    "name": "ipython",
    "version": 3
   },
   "file_extension": ".py",
   "mimetype": "text/x-python",
   "name": "python",
   "nbconvert_exporter": "python",
   "pygments_lexer": "ipython3",
   "version": "3.11.6"
  }
 },
 "nbformat": 4,
 "nbformat_minor": 5
}
