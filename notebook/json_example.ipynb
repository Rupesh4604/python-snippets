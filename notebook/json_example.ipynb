{
 "cells": [
  {
   "cell_type": "code",
   "execution_count": 1,
   "metadata": {},
   "outputs": [],
   "source": [
    "import json"
   ]
  },
  {
   "cell_type": "code",
   "execution_count": 2,
   "metadata": {},
   "outputs": [],
   "source": [
    "s = '{\"A\": {\"X\": 1, \"Y\": 1.0, \"Z\": \"abc\"}, \"B\": [true, false, null, NaN, Infinity]}'"
   ]
  },
  {
   "cell_type": "code",
   "execution_count": 3,
   "metadata": {},
   "outputs": [
    {
     "name": "stdout",
     "output_type": "stream",
     "text": [
      "{'A': {'X': 1, 'Y': 1.0, 'Z': 'abc'}, 'B': [True, False, None, nan, inf]}\n"
     ]
    }
   ],
   "source": [
    "d = json.loads(s)\n",
    "print(d)"
   ]
  },
  {
   "cell_type": "code",
   "execution_count": 4,
   "metadata": {},
   "outputs": [
    {
     "name": "stdout",
     "output_type": "stream",
     "text": [
      "<class 'dict'>\n"
     ]
    }
   ],
   "source": [
    "print(type(d))"
   ]
  },
  {
   "cell_type": "code",
   "execution_count": 5,
   "metadata": {},
   "outputs": [],
   "source": [
    "s = '{\"A\": True}'"
   ]
  },
  {
   "cell_type": "code",
   "execution_count": 6,
   "metadata": {},
   "outputs": [],
   "source": [
    "# d = json.loads(s)\n",
    "# JSONDecodeError: Expecting value: line 1 column 7 (char 6)"
   ]
  },
  {
   "cell_type": "code",
   "execution_count": 7,
   "metadata": {},
   "outputs": [
    {
     "name": "stdout",
     "output_type": "stream",
     "text": [
      "{\"A\": {\"X\": 1, \"Y\": 1.0, \"Z\": \"abc\"}, \"B\": [true, false, null, NaN, Infinity]}\n"
     ]
    }
   ],
   "source": [
    "with open('data/src/test.json') as f:\n",
    "    print(f.read())"
   ]
  },
  {
   "cell_type": "code",
   "execution_count": 8,
   "metadata": {},
   "outputs": [],
   "source": [
    "with open('data/src/test.json') as f:\n",
    "    d = json.load(f)"
   ]
  },
  {
   "cell_type": "code",
   "execution_count": 9,
   "metadata": {},
   "outputs": [
    {
     "name": "stdout",
     "output_type": "stream",
     "text": [
      "{'A': {'X': 1, 'Y': 1.0, 'Z': 'abc'}, 'B': [True, False, None, nan, inf]}\n"
     ]
    }
   ],
   "source": [
    "print(d)"
   ]
  },
  {
   "cell_type": "code",
   "execution_count": 10,
   "metadata": {
    "scrolled": true
   },
   "outputs": [
    {
     "name": "stdout",
     "output_type": "stream",
     "text": [
      "<class 'dict'>\n"
     ]
    }
   ],
   "source": [
    "print(type(d))"
   ]
  },
  {
   "cell_type": "code",
   "execution_count": 11,
   "metadata": {},
   "outputs": [],
   "source": [
    "d = {'A': {'X': 1, 'Y': 1.0, 'Z': 'abc'}, 'B': [True, False, None]}"
   ]
  },
  {
   "cell_type": "code",
   "execution_count": 12,
   "metadata": {},
   "outputs": [
    {
     "name": "stdout",
     "output_type": "stream",
     "text": [
      "{\"A\": {\"X\": 1, \"Y\": 1.0, \"Z\": \"abc\"}, \"B\": [true, false, null]}\n"
     ]
    }
   ],
   "source": [
    "s = json.dumps(d)\n",
    "print(s)"
   ]
  },
  {
   "cell_type": "code",
   "execution_count": 13,
   "metadata": {},
   "outputs": [
    {
     "name": "stdout",
     "output_type": "stream",
     "text": [
      "<class 'str'>\n"
     ]
    }
   ],
   "source": [
    "print(type(s))"
   ]
  },
  {
   "cell_type": "code",
   "execution_count": 14,
   "metadata": {},
   "outputs": [
    {
     "name": "stdout",
     "output_type": "stream",
     "text": [
      "{\"A\":{\"X\":1,\"Y\":1.0,\"Z\":\"abc\"},\"B\":[true,false,null]}\n"
     ]
    }
   ],
   "source": [
    "d = {'A': {'X': 1, 'Y': 1.0, 'Z': 'abc'}, 'B': [True, False, None]}\n",
    "print(json.dumps(d, separators=(',', ':')))"
   ]
  },
  {
   "cell_type": "code",
   "execution_count": 15,
   "metadata": {},
   "outputs": [
    {
     "name": "stdout",
     "output_type": "stream",
     "text": [
      "{\"A\"->{\"X\"->1 / \"Y\"->1.0 / \"Z\"->\"abc\"} / \"B\"->[true / false / null]}\n"
     ]
    }
   ],
   "source": [
    "print(json.dumps(d, separators=(' / ', '->')))"
   ]
  },
  {
   "cell_type": "code",
   "execution_count": 16,
   "metadata": {},
   "outputs": [
    {
     "name": "stdout",
     "output_type": "stream",
     "text": [
      "{\n",
      "    \"A\": {\n",
      "        \"X\": 1,\n",
      "        \"Y\": 1.0,\n",
      "        \"Z\": \"abc\"\n",
      "    },\n",
      "    \"B\": [\n",
      "        true,\n",
      "        false,\n",
      "        null\n",
      "    ]\n",
      "}\n"
     ]
    }
   ],
   "source": [
    "d = {'A': {'X': 1, 'Y': 1.0, 'Z': 'abc'}, 'B': [True, False, None]}\n",
    "print(json.dumps(d, indent=4))"
   ]
  },
  {
   "cell_type": "code",
   "execution_count": 17,
   "metadata": {},
   "outputs": [
    {
     "name": "stdout",
     "output_type": "stream",
     "text": [
      "{\"B\": {\"Y\": 2, \"X\": 1}, \"A\": [3, 1, 2]}\n"
     ]
    }
   ],
   "source": [
    "d = {'B': {'Y': 2, 'X': 1}, 'A': [3, 1, 2]}\n",
    "print(json.dumps(d))"
   ]
  },
  {
   "cell_type": "code",
   "execution_count": 18,
   "metadata": {},
   "outputs": [
    {
     "name": "stdout",
     "output_type": "stream",
     "text": [
      "{\"A\": [3, 1, 2], \"B\": {\"X\": 1, \"Y\": 2}}\n"
     ]
    }
   ],
   "source": [
    "print(json.dumps(d, sort_keys=True))"
   ]
  },
  {
   "cell_type": "code",
   "execution_count": 19,
   "metadata": {},
   "outputs": [
    {
     "name": "stdout",
     "output_type": "stream",
     "text": [
      "{\"A\": [NaN, Infinity]}\n"
     ]
    }
   ],
   "source": [
    "d = {'A': [float('nan'), float('inf')]}\n",
    "print(json.dumps(d))"
   ]
  },
  {
   "cell_type": "code",
   "execution_count": 20,
   "metadata": {},
   "outputs": [],
   "source": [
    "# print(json.dumps(d, allow_nan=False))\n",
    "# ValueError: Out of range float values are not JSON compliant"
   ]
  },
  {
   "cell_type": "code",
   "execution_count": 21,
   "metadata": {},
   "outputs": [
    {
     "name": "stdout",
     "output_type": "stream",
     "text": [
      "{\"A\": \"\\u3042\\u3044\\u3046\\u3048\\u304a\", \"B\": \"abc\"}\n"
     ]
    }
   ],
   "source": [
    "d = {'A': 'あいうえお', 'B': 'abc'}\n",
    "print(json.dumps(d))"
   ]
  },
  {
   "cell_type": "code",
   "execution_count": 22,
   "metadata": {},
   "outputs": [
    {
     "name": "stdout",
     "output_type": "stream",
     "text": [
      "{\"A\": \"あいうえお\", \"B\": \"abc\"}\n"
     ]
    }
   ],
   "source": [
    "print(json.dumps(d, ensure_ascii=False))"
   ]
  },
  {
   "cell_type": "code",
   "execution_count": 23,
   "metadata": {},
   "outputs": [],
   "source": [
    "d = {\n",
    "    'A': {'X': 1, 'Y': 1.0, 'Z': 'abc'},\n",
    "    'B': [True, False, None, float('nan'), float('inf')]\n",
    "}"
   ]
  },
  {
   "cell_type": "code",
   "execution_count": 24,
   "metadata": {},
   "outputs": [],
   "source": [
    "with open('data/temp/test.json', 'w') as f:\n",
    "    json.dump(d, f, indent=2)"
   ]
  },
  {
   "cell_type": "code",
   "execution_count": 25,
   "metadata": {},
   "outputs": [
    {
     "name": "stdout",
     "output_type": "stream",
     "text": [
      "{\n",
      "  \"A\": {\n",
      "    \"X\": 1,\n",
      "    \"Y\": 1.0,\n",
      "    \"Z\": \"abc\"\n",
      "  },\n",
      "  \"B\": [\n",
      "    true,\n",
      "    false,\n",
      "    null,\n",
      "    NaN,\n",
      "    Infinity\n",
      "  ]\n",
      "}\n"
     ]
    }
   ],
   "source": [
    "with open('data/temp/test.json') as f:\n",
    "    print(f.read())"
   ]
  },
  {
   "cell_type": "code",
   "execution_count": 26,
   "metadata": {},
   "outputs": [],
   "source": [
    "d_new = {'A': 100, 'B': 'abc', 'C': [True, False]}"
   ]
  },
  {
   "cell_type": "code",
   "execution_count": 27,
   "metadata": {},
   "outputs": [],
   "source": [
    "with open('data/temp/test_new.json', 'w') as f:\n",
    "    json.dump(d_new, f, indent=2)"
   ]
  },
  {
   "cell_type": "code",
   "execution_count": 28,
   "metadata": {},
   "outputs": [
    {
     "name": "stdout",
     "output_type": "stream",
     "text": [
      "{\n",
      "  \"A\": 100,\n",
      "  \"B\": \"abc\",\n",
      "  \"C\": [\n",
      "    true,\n",
      "    false\n",
      "  ]\n",
      "}\n"
     ]
    }
   ],
   "source": [
    "with open('data/temp/test_new.json') as f:\n",
    "    print(f.read())"
   ]
  },
  {
   "cell_type": "code",
   "execution_count": 29,
   "metadata": {},
   "outputs": [],
   "source": [
    "with open('data/temp/test_new.json') as f:\n",
    "    d_update = json.load(f)"
   ]
  },
  {
   "cell_type": "code",
   "execution_count": 30,
   "metadata": {},
   "outputs": [
    {
     "name": "stdout",
     "output_type": "stream",
     "text": [
      "{'A': 100, 'B': 'abc', 'C': [True, False]}\n"
     ]
    }
   ],
   "source": [
    "print(d_update)"
   ]
  },
  {
   "cell_type": "code",
   "execution_count": 31,
   "metadata": {},
   "outputs": [],
   "source": [
    "d_update['A'] = 200\n",
    "d_update.pop('B')\n",
    "d_update['D'] = 'new value'"
   ]
  },
  {
   "cell_type": "code",
   "execution_count": 32,
   "metadata": {},
   "outputs": [
    {
     "name": "stdout",
     "output_type": "stream",
     "text": [
      "{'A': 200, 'C': [True, False], 'D': 'new value'}\n"
     ]
    }
   ],
   "source": [
    "print(d_update)"
   ]
  },
  {
   "cell_type": "code",
   "execution_count": 33,
   "metadata": {},
   "outputs": [],
   "source": [
    "with open('data/temp/test_new_update.json', 'w') as f:\n",
    "    json.dump(d_update, f, indent=2)"
   ]
  },
  {
   "cell_type": "code",
   "execution_count": 34,
   "metadata": {},
   "outputs": [
    {
     "name": "stdout",
     "output_type": "stream",
     "text": [
      "{\n",
      "  \"A\": 200,\n",
      "  \"C\": [\n",
      "    true,\n",
      "    false\n",
      "  ],\n",
      "  \"D\": \"new value\"\n",
      "}\n"
     ]
    }
   ],
   "source": [
    "with open('data/temp/test_new_update.json') as f:\n",
    "    print(f.read())"
   ]
  },
  {
   "cell_type": "code",
   "execution_count": 35,
   "metadata": {},
   "outputs": [],
   "source": [
    "d = {'A': 100, 'B': 'abc', 'C': [True, False]}"
   ]
  },
  {
   "cell_type": "code",
   "execution_count": 36,
   "metadata": {},
   "outputs": [
    {
     "name": "stdout",
     "output_type": "stream",
     "text": [
      "{'A': 100, 'B': 'abc', 'C': [True, False]}\n"
     ]
    }
   ],
   "source": [
    "s = str(d)\n",
    "print(str(d))"
   ]
  },
  {
   "cell_type": "code",
   "execution_count": 37,
   "metadata": {},
   "outputs": [],
   "source": [
    "# print(json.loads(s))\n",
    "# JSONDecodeError: Expecting property name enclosed in double quotes: line 1 column 2 (char 1)"
   ]
  },
  {
   "cell_type": "code",
   "execution_count": 38,
   "metadata": {},
   "outputs": [
    {
     "name": "stdout",
     "output_type": "stream",
     "text": [
      "{\"A\": 100, \"B\": \"abc\", \"C\": [true, false]}\n"
     ]
    }
   ],
   "source": [
    "s = json.dumps(d)\n",
    "print(s)"
   ]
  },
  {
   "cell_type": "code",
   "execution_count": 39,
   "metadata": {},
   "outputs": [
    {
     "name": "stdout",
     "output_type": "stream",
     "text": [
      "{\"A\": 100, \"B\": \"abc\", \"C\": [true, false]}\n"
     ]
    }
   ],
   "source": [
    "print(json.dumps(d))"
   ]
  },
  {
   "cell_type": "code",
   "execution_count": 40,
   "metadata": {},
   "outputs": [
    {
     "name": "stdout",
     "output_type": "stream",
     "text": [
      "{\"A\": \"\\u3042\\u3044\\u3046\\u3048\\u304a\", \"B\": \"abc\"}\n"
     ]
    }
   ],
   "source": [
    "with open('data/src/test_u.json') as f:\n",
    "    print(f.read())"
   ]
  },
  {
   "cell_type": "code",
   "execution_count": 41,
   "metadata": {},
   "outputs": [
    {
     "name": "stdout",
     "output_type": "stream",
     "text": [
      "{\"A\": \"あいうえお\", \"B\": \"abc\"}\n"
     ]
    }
   ],
   "source": [
    "with open('data/src/test_u.json', encoding='unicode-escape') as f:\n",
    "    print(f.read())"
   ]
  },
  {
   "cell_type": "code",
   "execution_count": 42,
   "metadata": {},
   "outputs": [
    {
     "name": "stdout",
     "output_type": "stream",
     "text": [
      "{'A': 'あいうえお', 'B': 'abc'}\n"
     ]
    }
   ],
   "source": [
    "with open('data/src/test_u.json') as f:\n",
    "    print(json.load(f))"
   ]
  },
  {
   "cell_type": "code",
   "execution_count": 43,
   "metadata": {},
   "outputs": [
    {
     "name": "stdout",
     "output_type": "stream",
     "text": [
      "b'{\"A\": \"\\\\u3042\\\\u3044\\\\u3046\\\\u3048\\\\u304a\", \"B\": \"abc\"}'\n"
     ]
    }
   ],
   "source": [
    "s = r'{\"A\": \"\\u3042\\u3044\\u3046\\u3048\\u304a\", \"B\": \"abc\"}'\n",
    "b = s.encode()\n",
    "print(b)"
   ]
  },
  {
   "cell_type": "code",
   "execution_count": 44,
   "metadata": {},
   "outputs": [
    {
     "name": "stdout",
     "output_type": "stream",
     "text": [
      "{\"A\": \"\\u3042\\u3044\\u3046\\u3048\\u304a\", \"B\": \"abc\"}\n"
     ]
    }
   ],
   "source": [
    "print(b.decode())"
   ]
  },
  {
   "cell_type": "code",
   "execution_count": 45,
   "metadata": {},
   "outputs": [
    {
     "name": "stdout",
     "output_type": "stream",
     "text": [
      "{\"A\": \"あいうえお\", \"B\": \"abc\"}\n"
     ]
    }
   ],
   "source": [
    "print(b.decode(encoding='unicode-escape'))"
   ]
  },
  {
   "cell_type": "code",
   "execution_count": 46,
   "metadata": {},
   "outputs": [
    {
     "name": "stdout",
     "output_type": "stream",
     "text": [
      "{'A': 'あいうえお', 'B': 'abc'}\n"
     ]
    }
   ],
   "source": [
    "print(json.loads(b))"
   ]
  }
 ],
 "metadata": {
  "kernelspec": {
   "display_name": "Python 3",
   "language": "python",
   "name": "python3"
  },
  "language_info": {
   "codemirror_mode": {
    "name": "ipython",
    "version": 3
   },
   "file_extension": ".py",
   "mimetype": "text/x-python",
   "name": "python",
   "nbconvert_exporter": "python",
   "pygments_lexer": "ipython3",
   "version": "3.11.3"
  }
 },
 "nbformat": 4,
 "nbformat_minor": 2
}
