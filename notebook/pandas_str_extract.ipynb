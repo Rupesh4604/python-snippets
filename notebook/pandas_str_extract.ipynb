{
 "cells": [
  {
   "cell_type": "code",
   "execution_count": 1,
   "metadata": {},
   "outputs": [],
   "source": [
    "import pandas as pd"
   ]
  },
  {
   "cell_type": "code",
   "execution_count": 2,
   "metadata": {},
   "outputs": [
    {
     "name": "stdout",
     "output_type": "stream",
     "text": [
      "1.5.3\n"
     ]
    }
   ],
   "source": [
    "print(pd.__version__)"
   ]
  },
  {
   "cell_type": "code",
   "execution_count": 3,
   "metadata": {},
   "outputs": [
    {
     "name": "stdout",
     "output_type": "stream",
     "text": [
      "A    aaa@xxx.com\n",
      "B    bbb@yyy.com\n",
      "C            ccc\n",
      "dtype: object\n"
     ]
    }
   ],
   "source": [
    "s_org = pd.Series(['aaa@xxx.com', 'bbb@yyy.com', 'ccc'], index=['A', 'B', 'C'])\n",
    "print(s_org)"
   ]
  },
  {
   "cell_type": "code",
   "execution_count": 4,
   "metadata": {},
   "outputs": [
    {
     "name": "stdout",
     "output_type": "stream",
     "text": [
      "     0    1    2\n",
      "A  aaa  xxx  com\n",
      "B  bbb  yyy  com\n",
      "C  NaN  NaN  NaN\n"
     ]
    }
   ],
   "source": [
    "df = s_org.str.extract(r'(.+)@(.+)\\.(.+)')\n",
    "print(df)"
   ]
  },
  {
   "cell_type": "code",
   "execution_count": 5,
   "metadata": {},
   "outputs": [
    {
     "name": "stdout",
     "output_type": "stream",
     "text": [
      "     0\n",
      "A  aaa\n",
      "B  bbb\n",
      "C  ccc\n"
     ]
    }
   ],
   "source": [
    "df = s_org.str.extract(r'(\\w+)', expand=True)\n",
    "print(df)"
   ]
  },
  {
   "cell_type": "code",
   "execution_count": 6,
   "metadata": {},
   "outputs": [
    {
     "name": "stdout",
     "output_type": "stream",
     "text": [
      "<class 'pandas.core.frame.DataFrame'>\n"
     ]
    }
   ],
   "source": [
    "print(type(df))"
   ]
  },
  {
   "cell_type": "code",
   "execution_count": 7,
   "metadata": {},
   "outputs": [
    {
     "name": "stdout",
     "output_type": "stream",
     "text": [
      "A    aaa\n",
      "B    bbb\n",
      "C    ccc\n",
      "dtype: object\n"
     ]
    }
   ],
   "source": [
    "s = s_org.str.extract(r'(\\w+)', expand=False)\n",
    "print(s)"
   ]
  },
  {
   "cell_type": "code",
   "execution_count": 8,
   "metadata": {},
   "outputs": [
    {
     "name": "stdout",
     "output_type": "stream",
     "text": [
      "<class 'pandas.core.series.Series'>\n"
     ]
    }
   ],
   "source": [
    "print(type(s))"
   ]
  },
  {
   "cell_type": "code",
   "execution_count": 9,
   "metadata": {},
   "outputs": [
    {
     "name": "stdout",
     "output_type": "stream",
     "text": [
      "  local second_LD  TLD\n",
      "A   aaa       xxx  com\n",
      "B   bbb       yyy  com\n",
      "C   NaN       NaN  NaN\n"
     ]
    }
   ],
   "source": [
    "df_name = s_org.str.extract(\n",
    "    r'(?P<local>.*)@(?P<second_LD>.*)\\.(?P<TLD>.*)', expand=True\n",
    ")\n",
    "print(df_name)"
   ]
  }
 ],
 "metadata": {
  "kernelspec": {
   "display_name": "Python 3",
   "language": "python",
   "name": "python3"
  },
  "language_info": {
   "codemirror_mode": {
    "name": "ipython",
    "version": 3
   },
   "file_extension": ".py",
   "mimetype": "text/x-python",
   "name": "python",
   "nbconvert_exporter": "python",
   "pygments_lexer": "ipython3",
   "version": "3.11.2"
  }
 },
 "nbformat": 4,
 "nbformat_minor": 2
}
