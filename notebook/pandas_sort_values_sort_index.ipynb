{
 "cells": [
  {
   "cell_type": "code",
   "execution_count": 1,
   "id": "3908b5b8-ee4a-440f-8de8-047c488f2fac",
   "metadata": {},
   "outputs": [],
   "source": [
    "import pandas as pd"
   ]
  },
  {
   "cell_type": "code",
   "execution_count": 2,
   "id": "0ae40033-1baa-480e-9b05-bbb08164bded",
   "metadata": {},
   "outputs": [
    {
     "name": "stdout",
     "output_type": "stream",
     "text": [
      "2.1.4\n"
     ]
    }
   ],
   "source": [
    "print(pd.__version__)"
   ]
  },
  {
   "cell_type": "code",
   "execution_count": 3,
   "id": "8c70c3f3-89ae-4989-a2ef-1b3c592c039f",
   "metadata": {},
   "outputs": [
    {
     "name": "stdout",
     "output_type": "stream",
     "text": [
      "      name  age state  point\n",
      "0    Alice   24    NY     64\n",
      "1      Bob   42    CA     92\n",
      "2  Charlie   18    CA     70\n",
      "3     Dave   68    TX     70\n",
      "4    Ellen   24    CA     88\n",
      "5    Frank   30    NY     57\n"
     ]
    }
   ],
   "source": [
    "df = pd.read_csv('data/src/sample_pandas_normal.csv')\n",
    "print(df)"
   ]
  },
  {
   "cell_type": "code",
   "execution_count": 4,
   "id": "64f54c4c-df46-47dd-9e34-4436d9316424",
   "metadata": {},
   "outputs": [
    {
     "name": "stdout",
     "output_type": "stream",
     "text": [
      "      name  age state  point\n",
      "2  Charlie   18    CA     70\n",
      "0    Alice   24    NY     64\n",
      "4    Ellen   24    CA     88\n",
      "5    Frank   30    NY     57\n",
      "1      Bob   42    CA     92\n",
      "3     Dave   68    TX     70\n"
     ]
    }
   ],
   "source": [
    "print(df.sort_values('age'))"
   ]
  },
  {
   "cell_type": "code",
   "execution_count": 5,
   "id": "7566b3dd",
   "metadata": {},
   "outputs": [
    {
     "name": "stdout",
     "output_type": "stream",
     "text": [
      "      name  age state  point\n",
      "1      Bob   42    CA     92\n",
      "2  Charlie   18    CA     70\n",
      "4    Ellen   24    CA     88\n",
      "0    Alice   24    NY     64\n",
      "5    Frank   30    NY     57\n",
      "3     Dave   68    TX     70\n"
     ]
    }
   ],
   "source": [
    "print(df.sort_values('state'))"
   ]
  },
  {
   "cell_type": "code",
   "execution_count": 6,
   "id": "429de7d8",
   "metadata": {},
   "outputs": [
    {
     "name": "stdout",
     "output_type": "stream",
     "text": [
      "      name  age state  point\n",
      "2  Charlie   18    CA     70\n",
      "4    Ellen   24    CA     88\n",
      "0    Alice   24    NY     64\n",
      "5    Frank   30    NY     57\n",
      "1      Bob   42    CA     92\n",
      "3     Dave   68    TX     70\n"
     ]
    }
   ],
   "source": [
    "print(df.sort_values(['age', 'state']))"
   ]
  },
  {
   "cell_type": "code",
   "execution_count": 7,
   "id": "da7fa27a",
   "metadata": {},
   "outputs": [
    {
     "name": "stdout",
     "output_type": "stream",
     "text": [
      "      name  age state  point\n",
      "2  Charlie   18    CA     70\n",
      "4    Ellen   24    CA     88\n",
      "1      Bob   42    CA     92\n",
      "0    Alice   24    NY     64\n",
      "5    Frank   30    NY     57\n",
      "3     Dave   68    TX     70\n"
     ]
    }
   ],
   "source": [
    "print(df.sort_values(['state', 'age']))"
   ]
  },
  {
   "cell_type": "code",
   "execution_count": 8,
   "id": "897c35a9-6bea-4da3-b3fd-ebfb436decfd",
   "metadata": {},
   "outputs": [
    {
     "name": "stdout",
     "output_type": "stream",
     "text": [
      "      name  age state  point\n",
      "3     Dave   68    TX     70\n",
      "1      Bob   42    CA     92\n",
      "5    Frank   30    NY     57\n",
      "0    Alice   24    NY     64\n",
      "4    Ellen   24    CA     88\n",
      "2  Charlie   18    CA     70\n"
     ]
    }
   ],
   "source": [
    "print(df.sort_values('age', ascending=False))"
   ]
  },
  {
   "cell_type": "code",
   "execution_count": 9,
   "id": "98cc2155",
   "metadata": {},
   "outputs": [
    {
     "name": "stdout",
     "output_type": "stream",
     "text": [
      "      name  age state  point\n",
      "3     Dave   68    TX     70\n",
      "1      Bob   42    CA     92\n",
      "5    Frank   30    NY     57\n",
      "0    Alice   24    NY     64\n",
      "4    Ellen   24    CA     88\n",
      "2  Charlie   18    CA     70\n"
     ]
    }
   ],
   "source": [
    "print(df.sort_values(['age', 'state'], ascending=False))"
   ]
  },
  {
   "cell_type": "code",
   "execution_count": 10,
   "id": "57c6abfb",
   "metadata": {},
   "outputs": [
    {
     "name": "stdout",
     "output_type": "stream",
     "text": [
      "      name  age state  point\n",
      "2  Charlie   18    CA     70\n",
      "0    Alice   24    NY     64\n",
      "4    Ellen   24    CA     88\n",
      "5    Frank   30    NY     57\n",
      "1      Bob   42    CA     92\n",
      "3     Dave   68    TX     70\n"
     ]
    }
   ],
   "source": [
    "print(df.sort_values(['age', 'state'], ascending=[True, False]))"
   ]
  },
  {
   "cell_type": "code",
   "execution_count": 11,
   "id": "dafedd1e",
   "metadata": {},
   "outputs": [
    {
     "name": "stdout",
     "output_type": "stream",
     "text": [
      "      name  age state  point\n",
      "0  Charlie   18    CA     70\n",
      "1    Alice   24    NY     64\n",
      "2    Ellen   24    CA     88\n",
      "3    Frank   30    NY     57\n",
      "4      Bob   42    CA     92\n",
      "5     Dave   68    TX     70\n"
     ]
    }
   ],
   "source": [
    "print(df.sort_values('age', ignore_index=True))"
   ]
  },
  {
   "cell_type": "code",
   "execution_count": 12,
   "id": "05a4c8dd",
   "metadata": {},
   "outputs": [
    {
     "name": "stdout",
     "output_type": "stream",
     "text": [
      "      name   age state  point\n",
      "0    Alice   NaN    NY     64\n",
      "1      Bob  42.0    CA     92\n",
      "2  Charlie  18.0    CA     70\n",
      "3     Dave  68.0    TX     70\n",
      "4    Ellen   NaN    CA     88\n",
      "5    Frank  30.0    NY     57\n"
     ]
    }
   ],
   "source": [
    "df_nan = df.copy()\n",
    "df_nan.iloc[0, 1] = float('nan')\n",
    "df_nan.iloc[4, 1] = float('nan')\n",
    "print(df_nan)"
   ]
  },
  {
   "cell_type": "code",
   "execution_count": 13,
   "id": "727080be",
   "metadata": {},
   "outputs": [
    {
     "name": "stdout",
     "output_type": "stream",
     "text": [
      "      name   age state  point\n",
      "2  Charlie  18.0    CA     70\n",
      "5    Frank  30.0    NY     57\n",
      "1      Bob  42.0    CA     92\n",
      "3     Dave  68.0    TX     70\n",
      "0    Alice   NaN    NY     64\n",
      "4    Ellen   NaN    CA     88\n"
     ]
    }
   ],
   "source": [
    "print(df_nan.sort_values('age'))"
   ]
  },
  {
   "cell_type": "code",
   "execution_count": 14,
   "id": "c5a58c57",
   "metadata": {},
   "outputs": [
    {
     "name": "stdout",
     "output_type": "stream",
     "text": [
      "      name   age state  point\n",
      "0    Alice   NaN    NY     64\n",
      "4    Ellen   NaN    CA     88\n",
      "2  Charlie  18.0    CA     70\n",
      "5    Frank  30.0    NY     57\n",
      "1      Bob  42.0    CA     92\n",
      "3     Dave  68.0    TX     70\n"
     ]
    }
   ],
   "source": [
    "print(df_nan.sort_values('age', na_position='first'))"
   ]
  },
  {
   "cell_type": "code",
   "execution_count": 15,
   "id": "55262167",
   "metadata": {},
   "outputs": [
    {
     "name": "stdout",
     "output_type": "stream",
     "text": [
      "      name  age state  point\n",
      "1      Bob   42    CA     92\n",
      "3     Dave   68    TX     70\n",
      "0    Alice   24    NY     64\n",
      "4    Ellen   24    CA     88\n",
      "5    Frank   30    NY     57\n",
      "2  Charlie   18    CA     70\n"
     ]
    }
   ],
   "source": [
    "print(df.sort_values('name', key=lambda s: s.str.len()))"
   ]
  },
  {
   "cell_type": "code",
   "execution_count": 16,
   "id": "2b2070ce",
   "metadata": {},
   "outputs": [],
   "source": [
    "# print(df.sort_values('name', key=len))\n",
    "# TypeError: object of type 'int' has no len()"
   ]
  },
  {
   "cell_type": "code",
   "execution_count": 17,
   "id": "9241fcb4",
   "metadata": {},
   "outputs": [
    {
     "name": "stdout",
     "output_type": "stream",
     "text": [
      "      name  age state  point\n",
      "1      Bob   42    CA     92\n",
      "3     Dave   68    TX     70\n",
      "0    Alice   24    NY     64\n",
      "4    Ellen   24    CA     88\n",
      "5    Frank   30    NY     57\n",
      "2  Charlie   18    CA     70\n"
     ]
    }
   ],
   "source": [
    "print(df.sort_values('name', key=lambda s: s.map(len)))"
   ]
  },
  {
   "cell_type": "code",
   "execution_count": 18,
   "id": "a3885066",
   "metadata": {},
   "outputs": [
    {
     "name": "stdout",
     "output_type": "stream",
     "text": [
      "   age  point\n",
      "0   24     64\n",
      "1   42     92\n",
      "2   18     70\n",
      "3   68     70\n",
      "4   24     88\n",
      "5   30     57\n"
     ]
    }
   ],
   "source": [
    "df_num = df.select_dtypes('number')\n",
    "print(df_num)"
   ]
  },
  {
   "cell_type": "code",
   "execution_count": 19,
   "id": "35cc62d5",
   "metadata": {},
   "outputs": [
    {
     "name": "stdout",
     "output_type": "stream",
     "text": [
      "   point  age\n",
      "0     64   24\n",
      "1     92   42\n",
      "2     70   18\n",
      "3     70   68\n",
      "4     88   24\n",
      "5     57   30\n"
     ]
    }
   ],
   "source": [
    "print(df_num.sort_values(1, axis=1, ascending=False))"
   ]
  },
  {
   "cell_type": "code",
   "execution_count": 20,
   "id": "fdfe7b1c",
   "metadata": {},
   "outputs": [
    {
     "name": "stdout",
     "output_type": "stream",
     "text": [
      "      name  age state  point\n",
      "2  Charlie   18    CA     70\n",
      "0    Alice   24    NY     64\n",
      "4    Ellen   24    CA     88\n",
      "5    Frank   30    NY     57\n",
      "1      Bob   42    CA     92\n",
      "3     Dave   68    TX     70\n"
     ]
    }
   ],
   "source": [
    "df_copy = df.copy()\n",
    "df_copy.sort_values('age', inplace=True)\n",
    "print(df_copy)"
   ]
  },
  {
   "cell_type": "code",
   "execution_count": 21,
   "id": "42d7ae9f",
   "metadata": {},
   "outputs": [
    {
     "name": "stdout",
     "output_type": "stream",
     "text": [
      "      name  age state  point\n",
      "2  Charlie   18    CA     70\n",
      "0    Alice   24    NY     64\n",
      "4    Ellen   24    CA     88\n",
      "5    Frank   30    NY     57\n",
      "1      Bob   42    CA     92\n",
      "3     Dave   68    TX     70\n"
     ]
    }
   ],
   "source": [
    "df_sorted = df.sort_values('age')\n",
    "print(df_sorted)"
   ]
  },
  {
   "cell_type": "code",
   "execution_count": 22,
   "id": "bf8af358",
   "metadata": {},
   "outputs": [
    {
     "name": "stdout",
     "output_type": "stream",
     "text": [
      "      name  age state  point\n",
      "0    Alice   24    NY     64\n",
      "1      Bob   42    CA     92\n",
      "2  Charlie   18    CA     70\n",
      "3     Dave   68    TX     70\n",
      "4    Ellen   24    CA     88\n",
      "5    Frank   30    NY     57\n"
     ]
    }
   ],
   "source": [
    "print(df_sorted.sort_index())"
   ]
  },
  {
   "cell_type": "code",
   "execution_count": 23,
   "id": "363d8c7a",
   "metadata": {},
   "outputs": [
    {
     "name": "stdout",
     "output_type": "stream",
     "text": [
      "   age     name  point state\n",
      "0   24    Alice     64    NY\n",
      "1   42      Bob     92    CA\n",
      "2   18  Charlie     70    CA\n",
      "3   68     Dave     70    TX\n",
      "4   24    Ellen     88    CA\n",
      "5   30    Frank     57    NY\n"
     ]
    }
   ],
   "source": [
    "print(df.sort_index(axis=1))"
   ]
  },
  {
   "cell_type": "code",
   "execution_count": 24,
   "id": "8b940292",
   "metadata": {},
   "outputs": [
    {
     "name": "stdout",
     "output_type": "stream",
     "text": [
      "  state  point     name  age\n",
      "0    NY     64    Alice   24\n",
      "1    CA     92      Bob   42\n",
      "2    CA     70  Charlie   18\n",
      "3    TX     70     Dave   68\n",
      "4    CA     88    Ellen   24\n",
      "5    NY     57    Frank   30\n"
     ]
    }
   ],
   "source": [
    "print(df.sort_index(axis=1, ascending=False, key=lambda s: s.str.len()))"
   ]
  }
 ],
 "metadata": {
  "kernelspec": {
   "display_name": "Python 3",
   "language": "python",
   "name": "python3"
  },
  "language_info": {
   "codemirror_mode": {
    "name": "ipython",
    "version": 3
   },
   "file_extension": ".py",
   "mimetype": "text/x-python",
   "name": "python",
   "nbconvert_exporter": "python",
   "pygments_lexer": "ipython3",
   "version": "3.11.6"
  }
 },
 "nbformat": 4,
 "nbformat_minor": 5
}
