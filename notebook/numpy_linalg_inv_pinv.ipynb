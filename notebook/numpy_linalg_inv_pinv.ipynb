{
 "cells": [
  {
   "cell_type": "code",
   "execution_count": 1,
   "id": "62f37eb0",
   "metadata": {},
   "outputs": [],
   "source": [
    "import numpy as np"
   ]
  },
  {
   "cell_type": "code",
   "execution_count": 2,
   "id": "62677f3d",
   "metadata": {},
   "outputs": [
    {
     "name": "stdout",
     "output_type": "stream",
     "text": [
      "1.26.2\n"
     ]
    }
   ],
   "source": [
    "print(np.__version__)"
   ]
  },
  {
   "cell_type": "code",
   "execution_count": 3,
   "id": "59e624f1",
   "metadata": {},
   "outputs": [
    {
     "name": "stdout",
     "output_type": "stream",
     "text": [
      "[[2 5]\n",
      " [1 3]]\n"
     ]
    }
   ],
   "source": [
    "a = np.array([[2, 5], [1, 3]])\n",
    "print(a)"
   ]
  },
  {
   "cell_type": "code",
   "execution_count": 4,
   "id": "ae6d4d2a",
   "metadata": {},
   "outputs": [
    {
     "name": "stdout",
     "output_type": "stream",
     "text": [
      "[[ 3. -5.]\n",
      " [-1.  2.]]\n"
     ]
    }
   ],
   "source": [
    "print(np.linalg.inv(a))"
   ]
  },
  {
   "cell_type": "code",
   "execution_count": 5,
   "id": "406ad06f",
   "metadata": {},
   "outputs": [
    {
     "name": "stdout",
     "output_type": "stream",
     "text": [
      "[[1. 0.]\n",
      " [0. 1.]]\n"
     ]
    }
   ],
   "source": [
    "print(a @ np.linalg.inv(a))"
   ]
  },
  {
   "cell_type": "code",
   "execution_count": 6,
   "id": "a7763693",
   "metadata": {},
   "outputs": [
    {
     "name": "stdout",
     "output_type": "stream",
     "text": [
      "[[0 0]\n",
      " [1 3]]\n"
     ]
    }
   ],
   "source": [
    "a_singular = np.array([[0, 0], [1, 3]])\n",
    "print(a_singular)"
   ]
  },
  {
   "cell_type": "code",
   "execution_count": 7,
   "id": "6ce9f8ae",
   "metadata": {},
   "outputs": [],
   "source": [
    "# print(np.linalg.inv(a_singular))\n",
    "# LinAlgError: Singular matrix"
   ]
  },
  {
   "cell_type": "code",
   "execution_count": 8,
   "id": "e6bd25a5",
   "metadata": {},
   "outputs": [
    {
     "name": "stdout",
     "output_type": "stream",
     "text": [
      "[[0.  0.1]\n",
      " [0.  0.3]]\n"
     ]
    }
   ],
   "source": [
    "print(np.linalg.pinv(a_singular))"
   ]
  },
  {
   "cell_type": "code",
   "execution_count": 9,
   "id": "634e4a7a",
   "metadata": {},
   "outputs": [
    {
     "name": "stdout",
     "output_type": "stream",
     "text": [
      "[[0. 0.]\n",
      " [0. 1.]]\n"
     ]
    }
   ],
   "source": [
    "print(a_singular @ np.linalg.pinv(a_singular))"
   ]
  },
  {
   "cell_type": "code",
   "execution_count": 10,
   "id": "60a7fd62",
   "metadata": {},
   "outputs": [
    {
     "name": "stdout",
     "output_type": "stream",
     "text": [
      "[[0. 0.]\n",
      " [1. 3.]]\n"
     ]
    }
   ],
   "source": [
    "print(np.linalg.pinv(np.linalg.pinv(a_singular)))"
   ]
  },
  {
   "cell_type": "code",
   "execution_count": 11,
   "id": "9436003b",
   "metadata": {},
   "outputs": [
    {
     "name": "stdout",
     "output_type": "stream",
     "text": [
      "[[2 5]\n",
      " [1 3]]\n"
     ]
    }
   ],
   "source": [
    "a = np.array([[2, 5], [1, 3]])\n",
    "print(a)"
   ]
  },
  {
   "cell_type": "code",
   "execution_count": 12,
   "id": "e221bd19",
   "metadata": {},
   "outputs": [
    {
     "name": "stdout",
     "output_type": "stream",
     "text": [
      "[[ 3. -5.]\n",
      " [-1.  2.]]\n"
     ]
    }
   ],
   "source": [
    "print(np.linalg.inv(a))"
   ]
  },
  {
   "cell_type": "code",
   "execution_count": 13,
   "id": "78d2051b",
   "metadata": {},
   "outputs": [
    {
     "name": "stdout",
     "output_type": "stream",
     "text": [
      "[[ 3. -5.]\n",
      " [-1.  2.]]\n"
     ]
    }
   ],
   "source": [
    "print(np.linalg.pinv(a))"
   ]
  }
 ],
 "metadata": {
  "kernelspec": {
   "display_name": "Python 3",
   "language": "python",
   "name": "python3"
  },
  "language_info": {
   "codemirror_mode": {
    "name": "ipython",
    "version": 3
   },
   "file_extension": ".py",
   "mimetype": "text/x-python",
   "name": "python",
   "nbconvert_exporter": "python",
   "pygments_lexer": "ipython3",
   "version": "3.11.6"
  }
 },
 "nbformat": 4,
 "nbformat_minor": 5
}
