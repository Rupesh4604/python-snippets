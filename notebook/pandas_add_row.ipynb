{
 "cells": [
  {
   "cell_type": "code",
   "execution_count": 1,
   "metadata": {},
   "outputs": [],
   "source": [
    "import pandas as pd"
   ]
  },
  {
   "cell_type": "code",
   "execution_count": 2,
   "metadata": {},
   "outputs": [
    {
     "name": "stdout",
     "output_type": "stream",
     "text": [
      "2.0.3\n"
     ]
    }
   ],
   "source": [
    "print(pd.__version__)"
   ]
  },
  {
   "cell_type": "code",
   "execution_count": 3,
   "metadata": {},
   "outputs": [
    {
     "name": "stdout",
     "output_type": "stream",
     "text": [
      "        A   B   C\n",
      "ONE    A1  B1  C1\n",
      "TWO    A2  B2  C2\n",
      "THREE  A3  B3  C3\n"
     ]
    }
   ],
   "source": [
    "df = pd.DataFrame({'A': ['A1', 'A2', 'A3'],\n",
    "                   'B': ['B1', 'B2', 'B3'],\n",
    "                   'C': ['C1', 'C2', 'C3']},\n",
    "                  index=['ONE', 'TWO', 'THREE'])\n",
    "print(df)"
   ]
  },
  {
   "cell_type": "code",
   "execution_count": 4,
   "metadata": {},
   "outputs": [
    {
     "name": "stdout",
     "output_type": "stream",
     "text": [
      "        A   B   C\n",
      "ONE     0   0   0\n",
      "TWO    A2  B2  C2\n",
      "THREE  A3  B3  C3\n"
     ]
    }
   ],
   "source": [
    "df.loc['ONE'] = 0\n",
    "print(df)"
   ]
  },
  {
   "cell_type": "code",
   "execution_count": 5,
   "metadata": {},
   "outputs": [
    {
     "name": "stdout",
     "output_type": "stream",
     "text": [
      "        A   B   C\n",
      "ONE     0   0   0\n",
      "TWO    A2  B2  C2\n",
      "THREE  A3  B3  C3\n",
      "FOUR    0   0   0\n",
      "FIVE   A5  B5  C5\n"
     ]
    }
   ],
   "source": [
    "df.loc['FOUR'] = 0\n",
    "df.loc['FIVE'] = ['A5', 'B5', 'C5']\n",
    "print(df)"
   ]
  },
  {
   "cell_type": "code",
   "execution_count": 6,
   "metadata": {},
   "outputs": [],
   "source": [
    "# df.loc['SIX'] = ['A6', 'B6']\n",
    "# ValueError: cannot set a row with mismatched columns"
   ]
  },
  {
   "cell_type": "code",
   "execution_count": 7,
   "metadata": {},
   "outputs": [
    {
     "name": "stdout",
     "output_type": "stream",
     "text": [
      "B    B6\n",
      "C    C6\n",
      "D    D6\n",
      "Name: SIX, dtype: object\n"
     ]
    }
   ],
   "source": [
    "s = pd.Series(['B6', 'C6', 'D6'], index=['B', 'C', 'D'], name='SIX')\n",
    "print(s)"
   ]
  },
  {
   "cell_type": "code",
   "execution_count": 8,
   "metadata": {},
   "outputs": [
    {
     "name": "stdout",
     "output_type": "stream",
     "text": [
      "          A     B     C\n",
      "ONE       0     0     0\n",
      "TWO      A2    B2    C2\n",
      "THREE    A3    B3    C3\n",
      "FOUR      0     0     0\n",
      "FIVE     A5    B5    C5\n",
      "XXX    A2A3  B2B3  C2C3\n",
      "YYY     NaN    B6    C6\n",
      "ZZZ      B6    C6    D6\n"
     ]
    }
   ],
   "source": [
    "df.loc['XXX'] = df.loc['TWO'] + df.loc['THREE']\n",
    "df.loc['YYY'] = s\n",
    "df.loc['ZZZ'] = s.values\n",
    "print(df)"
   ]
  },
  {
   "cell_type": "code",
   "execution_count": 9,
   "metadata": {},
   "outputs": [
    {
     "name": "stdout",
     "output_type": "stream",
     "text": [
      "        A   B   C\n",
      "ONE    A1  B1  C1\n",
      "TWO    A2  B2  C2\n",
      "THREE  A3  B3  C3\n"
     ]
    }
   ],
   "source": [
    "df1 = pd.DataFrame({'A': ['A1', 'A2', 'A3'],\n",
    "                    'B': ['B1', 'B2', 'B3'],\n",
    "                    'C': ['C1', 'C2', 'C3']},\n",
    "                   index=['ONE', 'TWO', 'THREE'])\n",
    "print(df1)"
   ]
  },
  {
   "cell_type": "code",
   "execution_count": 10,
   "metadata": {},
   "outputs": [
    {
     "name": "stdout",
     "output_type": "stream",
     "text": [
      "       B   C   D\n",
      "FOUR  B4  C4  D4\n",
      "FIVE  B5  C5  D5\n"
     ]
    }
   ],
   "source": [
    "df2 = pd.DataFrame({'B': ['B4', 'B5'], 'C': ['C4', 'C5'], 'D': ['D4', 'D5']},\n",
    "                   index=['FOUR', 'FIVE'])\n",
    "print(df2)"
   ]
  },
  {
   "cell_type": "code",
   "execution_count": 11,
   "metadata": {},
   "outputs": [
    {
     "name": "stdout",
     "output_type": "stream",
     "text": [
      "         A   B   C    D\n",
      "ONE     A1  B1  C1  NaN\n",
      "TWO     A2  B2  C2  NaN\n",
      "THREE   A3  B3  C3  NaN\n",
      "FOUR   NaN  B4  C4   D4\n",
      "FIVE   NaN  B5  C5   D5\n"
     ]
    }
   ],
   "source": [
    "print(pd.concat([df1, df2]))"
   ]
  },
  {
   "cell_type": "code",
   "execution_count": 12,
   "metadata": {},
   "outputs": [
    {
     "name": "stdout",
     "output_type": "stream",
     "text": [
      "        B   C\n",
      "ONE    B1  C1\n",
      "TWO    B2  C2\n",
      "THREE  B3  C3\n",
      "FOUR   B4  C4\n",
      "FIVE   B5  C5\n"
     ]
    }
   ],
   "source": [
    "print(pd.concat([df1, df2], join='inner'))"
   ]
  },
  {
   "cell_type": "code",
   "execution_count": 13,
   "metadata": {},
   "outputs": [
    {
     "name": "stdout",
     "output_type": "stream",
     "text": [
      "A    A4\n",
      "B    B4\n",
      "C    C4\n",
      "Name: FOUR, dtype: object\n"
     ]
    }
   ],
   "source": [
    "s = pd.Series(['A4', 'B4', 'C4'], index=['A', 'B', 'C'], name='FOUR')\n",
    "print(s)"
   ]
  },
  {
   "cell_type": "code",
   "execution_count": 14,
   "metadata": {},
   "outputs": [
    {
     "name": "stdout",
     "output_type": "stream",
     "text": [
      "         A    B    C    0\n",
      "ONE     A1   B1   C1  NaN\n",
      "TWO     A2   B2   C2  NaN\n",
      "THREE   A3   B3   C3  NaN\n",
      "A      NaN  NaN  NaN   A4\n",
      "B      NaN  NaN  NaN   B4\n",
      "C      NaN  NaN  NaN   C4\n"
     ]
    }
   ],
   "source": [
    "print(pd.concat([df1, s]))"
   ]
  },
  {
   "cell_type": "code",
   "execution_count": 15,
   "metadata": {},
   "outputs": [
    {
     "name": "stdout",
     "output_type": "stream",
     "text": [
      "       A   B   C\n",
      "FOUR  A4  B4  C4\n"
     ]
    }
   ],
   "source": [
    "print(s.to_frame().T)"
   ]
  },
  {
   "cell_type": "code",
   "execution_count": 16,
   "metadata": {},
   "outputs": [
    {
     "name": "stdout",
     "output_type": "stream",
     "text": [
      "        A   B   C\n",
      "ONE    A1  B1  C1\n",
      "TWO    A2  B2  C2\n",
      "THREE  A3  B3  C3\n",
      "FOUR   A4  B4  C4\n"
     ]
    }
   ],
   "source": [
    "print(pd.concat([df1, s.to_frame().T]))"
   ]
  }
 ],
 "metadata": {
  "kernelspec": {
   "display_name": "Python 3",
   "language": "python",
   "name": "python3"
  },
  "language_info": {
   "codemirror_mode": {
    "name": "ipython",
    "version": 3
   },
   "file_extension": ".py",
   "mimetype": "text/x-python",
   "name": "python",
   "nbconvert_exporter": "python",
   "pygments_lexer": "ipython3",
   "version": "3.11.4"
  }
 },
 "nbformat": 4,
 "nbformat_minor": 2
}
