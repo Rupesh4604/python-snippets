{
 "cells": [
  {
   "cell_type": "code",
   "execution_count": 1,
   "id": "c28f98dc",
   "metadata": {},
   "outputs": [],
   "source": [
    "import numpy as np"
   ]
  },
  {
   "cell_type": "code",
   "execution_count": 2,
   "id": "ec1851e3",
   "metadata": {},
   "outputs": [
    {
     "name": "stdout",
     "output_type": "stream",
     "text": [
      "1.26.1\n"
     ]
    }
   ],
   "source": [
    "print(np.__version__)"
   ]
  },
  {
   "cell_type": "code",
   "execution_count": 3,
   "id": "05f47c02",
   "metadata": {},
   "outputs": [],
   "source": [
    "a = np.array([12.3, 45.6, 78.9])"
   ]
  },
  {
   "cell_type": "code",
   "execution_count": 4,
   "id": "5d0797f3",
   "metadata": {},
   "outputs": [
    {
     "name": "stdout",
     "output_type": "stream",
     "text": [
      "[12. 46. 79.]\n"
     ]
    }
   ],
   "source": [
    "print(np.rint(a))"
   ]
  },
  {
   "cell_type": "code",
   "execution_count": 5,
   "id": "9220c8a9",
   "metadata": {},
   "outputs": [],
   "source": [
    "l = [12.3, 45.6, 78.9]"
   ]
  },
  {
   "cell_type": "code",
   "execution_count": 6,
   "id": "acc5aeb8",
   "metadata": {},
   "outputs": [
    {
     "name": "stdout",
     "output_type": "stream",
     "text": [
      "[12. 46. 79.]\n"
     ]
    }
   ],
   "source": [
    "print(np.rint(l))"
   ]
  },
  {
   "cell_type": "code",
   "execution_count": 7,
   "id": "8453d723",
   "metadata": {},
   "outputs": [
    {
     "name": "stdout",
     "output_type": "stream",
     "text": [
      "12.0\n"
     ]
    }
   ],
   "source": [
    "print(np.rint(12.3))"
   ]
  },
  {
   "cell_type": "code",
   "execution_count": 8,
   "id": "909e1c8a",
   "metadata": {},
   "outputs": [
    {
     "name": "stdout",
     "output_type": "stream",
     "text": [
      "float64\n"
     ]
    }
   ],
   "source": [
    "print(np.rint(a).dtype)"
   ]
  },
  {
   "cell_type": "code",
   "execution_count": 9,
   "id": "02765243",
   "metadata": {},
   "outputs": [
    {
     "name": "stdout",
     "output_type": "stream",
     "text": [
      "[-4. -2. -2. -0.  0.  2.  2.  4.]\n"
     ]
    }
   ],
   "source": [
    "print(np.rint([-3.5, -2.5, -1.5, -0.5, 0.5, 1.5, 2.5, 3.5]))"
   ]
  }
 ],
 "metadata": {
  "kernelspec": {
   "display_name": "Python 3",
   "language": "python",
   "name": "python3"
  },
  "language_info": {
   "codemirror_mode": {
    "name": "ipython",
    "version": 3
   },
   "file_extension": ".py",
   "mimetype": "text/x-python",
   "name": "python",
   "nbconvert_exporter": "python",
   "pygments_lexer": "ipython3",
   "version": "3.11.6"
  }
 },
 "nbformat": 4,
 "nbformat_minor": 5
}
