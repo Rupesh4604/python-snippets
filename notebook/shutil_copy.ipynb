{
 "cells": [
  {
   "cell_type": "code",
   "execution_count": 1,
   "id": "5ef2ce3d",
   "metadata": {},
   "outputs": [],
   "source": [
    "import os\n",
    "from pathlib import Path"
   ]
  },
  {
   "cell_type": "code",
   "execution_count": 2,
   "id": "db49ee6c",
   "metadata": {},
   "outputs": [],
   "source": [
    "os.chdir('data/temp')"
   ]
  },
  {
   "cell_type": "code",
   "execution_count": 3,
   "id": "6fdbd8fe",
   "metadata": {},
   "outputs": [],
   "source": [
    "p = Path('temp')\n",
    "p.joinpath('dir1').mkdir(parents=True, exist_ok=True)\n",
    "p.joinpath('dir2').mkdir(parents=True, exist_ok=True)\n",
    "p.joinpath('file.txt').touch()\n",
    "p.joinpath('dir2/file.txt').touch()\n",
    "p.joinpath('dir2/file2.txt').touch()"
   ]
  },
  {
   "cell_type": "code",
   "execution_count": 4,
   "id": "2ceac032",
   "metadata": {},
   "outputs": [
    {
     "name": "stdout",
     "output_type": "stream",
     "text": [
      "temp/\r\n",
      "├── dir1/\r\n",
      "├── dir2/\r\n",
      "│   ├── file.txt\r\n",
      "│   └── file2.txt\r\n",
      "└── file.txt\r\n",
      "\r\n",
      "3 directories, 3 files\r\n"
     ]
    }
   ],
   "source": [
    "!tree temp -nF  # Only works in Jupyter Notebook"
   ]
  },
  {
   "cell_type": "code",
   "execution_count": 5,
   "id": "a1d6a2c9",
   "metadata": {},
   "outputs": [],
   "source": [
    "import shutil"
   ]
  },
  {
   "cell_type": "code",
   "execution_count": 6,
   "id": "ff56e81b",
   "metadata": {},
   "outputs": [
    {
     "name": "stdout",
     "output_type": "stream",
     "text": [
      "temp/dir1/file.txt\n"
     ]
    }
   ],
   "source": [
    "new_path = shutil.copy('temp/file.txt', 'temp/dir1')\n",
    "print(new_path)"
   ]
  },
  {
   "cell_type": "code",
   "execution_count": 7,
   "id": "ff69341b",
   "metadata": {},
   "outputs": [
    {
     "name": "stdout",
     "output_type": "stream",
     "text": [
      "temp/dir2/file.txt\n"
     ]
    }
   ],
   "source": [
    "new_path = shutil.copy('temp/file.txt', 'temp/dir2')\n",
    "print(new_path)"
   ]
  },
  {
   "cell_type": "code",
   "execution_count": 8,
   "id": "c032350c",
   "metadata": {},
   "outputs": [
    {
     "name": "stdout",
     "output_type": "stream",
     "text": [
      "temp/dir1/file2.txt\n"
     ]
    }
   ],
   "source": [
    "new_path = shutil.copy('temp/file.txt', 'temp/dir1/file2.txt')\n",
    "print(new_path)"
   ]
  },
  {
   "cell_type": "code",
   "execution_count": 9,
   "id": "fe329484",
   "metadata": {},
   "outputs": [],
   "source": [
    "# new_path = shutil.copy('temp/file.txt', 'temp/dir2/new_dir/file2.txt')\n",
    "# FileNotFoundError: [Errno 2] No such file or directory: 'temp/dir2/new_dir/file2.txt'"
   ]
  },
  {
   "cell_type": "code",
   "execution_count": 10,
   "id": "1299c1fa",
   "metadata": {},
   "outputs": [
    {
     "name": "stdout",
     "output_type": "stream",
     "text": [
      "temp/dir2/file2.txt\n"
     ]
    }
   ],
   "source": [
    "new_path = shutil.copy('temp/file.txt', 'temp/dir2/file2.txt')\n",
    "print(new_path)"
   ]
  },
  {
   "cell_type": "code",
   "execution_count": 11,
   "id": "973881f4",
   "metadata": {},
   "outputs": [
    {
     "name": "stdout",
     "output_type": "stream",
     "text": [
      "temp/\r\n",
      "├── dir1/\r\n",
      "│   ├── file.txt\r\n",
      "│   └── file2.txt\r\n",
      "├── dir2/\r\n",
      "│   ├── file.txt\r\n",
      "│   └── file2.txt\r\n",
      "└── file.txt\r\n",
      "\r\n",
      "3 directories, 5 files\r\n"
     ]
    }
   ],
   "source": [
    "!tree temp -nF"
   ]
  },
  {
   "cell_type": "code",
   "execution_count": 12,
   "id": "eccd2405",
   "metadata": {},
   "outputs": [],
   "source": [
    "import os"
   ]
  },
  {
   "cell_type": "code",
   "execution_count": 13,
   "id": "a483337c",
   "metadata": {},
   "outputs": [
    {
     "name": "stdout",
     "output_type": "stream",
     "text": [
      "temp/file_copy.txt\n"
     ]
    }
   ],
   "source": [
    "new_path = shutil.copy('temp/file.txt', 'temp/file_copy.txt')\n",
    "print(new_path)"
   ]
  },
  {
   "cell_type": "code",
   "execution_count": 14,
   "id": "7a7c2834",
   "metadata": {},
   "outputs": [
    {
     "name": "stdout",
     "output_type": "stream",
     "text": [
      "False\n"
     ]
    }
   ],
   "source": [
    "print(os.path.getmtime('temp/file.txt') == os.path.getmtime('temp/file_copy.txt'))"
   ]
  },
  {
   "cell_type": "code",
   "execution_count": 15,
   "id": "806c12d1",
   "metadata": {},
   "outputs": [
    {
     "name": "stdout",
     "output_type": "stream",
     "text": [
      "temp/file_copy2.txt\n"
     ]
    }
   ],
   "source": [
    "new_path = shutil.copy2('temp/file.txt', 'temp/file_copy2.txt')\n",
    "print(new_path)"
   ]
  },
  {
   "cell_type": "code",
   "execution_count": 16,
   "id": "dd555fef",
   "metadata": {},
   "outputs": [
    {
     "name": "stdout",
     "output_type": "stream",
     "text": [
      "True\n"
     ]
    }
   ],
   "source": [
    "print(os.path.getmtime('temp/file.txt') == os.path.getmtime('temp/file_copy2.txt'))"
   ]
  },
  {
   "cell_type": "code",
   "execution_count": 17,
   "id": "70768764",
   "metadata": {},
   "outputs": [],
   "source": [
    "shutil.rmtree('temp')"
   ]
  }
 ],
 "metadata": {
  "kernelspec": {
   "display_name": "Python 3",
   "language": "python",
   "name": "python3"
  },
  "language_info": {
   "codemirror_mode": {
    "name": "ipython",
    "version": 3
   },
   "file_extension": ".py",
   "mimetype": "text/x-python",
   "name": "python",
   "nbconvert_exporter": "python",
   "pygments_lexer": "ipython3",
   "version": "3.11.4"
  }
 },
 "nbformat": 4,
 "nbformat_minor": 5
}
