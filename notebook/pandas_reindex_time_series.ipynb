{
 "cells": [
  {
   "cell_type": "code",
   "execution_count": 1,
   "metadata": {},
   "outputs": [],
   "source": [
    "import pandas as pd"
   ]
  },
  {
   "cell_type": "code",
   "execution_count": 2,
   "metadata": {},
   "outputs": [
    {
     "name": "stdout",
     "output_type": "stream",
     "text": [
      "2.1.4\n"
     ]
    }
   ],
   "source": [
    "print(pd.__version__)"
   ]
  },
  {
   "cell_type": "code",
   "execution_count": 3,
   "metadata": {},
   "outputs": [
    {
     "name": "stdout",
     "output_type": "stream",
     "text": [
      "            A   B    C\n",
      "2023-12-01  1  10  100\n",
      "2023-12-03  3  30  300\n",
      "2023-12-05  5  50  500\n"
     ]
    }
   ],
   "source": [
    "df = pd.DataFrame({'A': [1, 3, 5], 'B': [10, 30, 50], 'C': [100, 300, 500]},\n",
    "                  index=pd.date_range('2023-12-01', '2023-12-05', freq='2D'))\n",
    "print(df)"
   ]
  },
  {
   "cell_type": "code",
   "execution_count": 4,
   "metadata": {},
   "outputs": [
    {
     "name": "stdout",
     "output_type": "stream",
     "text": [
      "DatetimeIndex(['2023-12-01', '2023-12-03', '2023-12-05'], dtype='datetime64[ns]', freq='2D')\n"
     ]
    }
   ],
   "source": [
    "print(df.index)"
   ]
  },
  {
   "cell_type": "code",
   "execution_count": 5,
   "metadata": {},
   "outputs": [
    {
     "name": "stdout",
     "output_type": "stream",
     "text": [
      "DatetimeIndex(['2023-12-01 00:00:00', '2023-12-01 12:00:00',\n",
      "               '2023-12-02 00:00:00', '2023-12-02 12:00:00',\n",
      "               '2023-12-03 00:00:00', '2023-12-03 12:00:00',\n",
      "               '2023-12-04 00:00:00', '2023-12-04 12:00:00',\n",
      "               '2023-12-05 00:00:00'],\n",
      "              dtype='datetime64[ns]', freq='12H')\n"
     ]
    }
   ],
   "source": [
    "new_dt_index = pd.date_range('2023-12-01', '2023-12-05', freq='12H')\n",
    "print(new_dt_index)"
   ]
  },
  {
   "cell_type": "code",
   "execution_count": 6,
   "metadata": {},
   "outputs": [
    {
     "name": "stdout",
     "output_type": "stream",
     "text": [
      "                       A     B      C\n",
      "2023-12-01 00:00:00  1.0  10.0  100.0\n",
      "2023-12-01 12:00:00  NaN   NaN    NaN\n",
      "2023-12-02 00:00:00  NaN   NaN    NaN\n",
      "2023-12-02 12:00:00  NaN   NaN    NaN\n",
      "2023-12-03 00:00:00  3.0  30.0  300.0\n",
      "2023-12-03 12:00:00  NaN   NaN    NaN\n",
      "2023-12-04 00:00:00  NaN   NaN    NaN\n",
      "2023-12-04 12:00:00  NaN   NaN    NaN\n",
      "2023-12-05 00:00:00  5.0  50.0  500.0\n"
     ]
    }
   ],
   "source": [
    "print(df.reindex(index=new_dt_index))"
   ]
  },
  {
   "cell_type": "code",
   "execution_count": 7,
   "metadata": {},
   "outputs": [
    {
     "name": "stdout",
     "output_type": "stream",
     "text": [
      "                     A   B    C\n",
      "2023-12-01 00:00:00  1  10  100\n",
      "2023-12-01 12:00:00  1  10  100\n",
      "2023-12-02 00:00:00  1  10  100\n",
      "2023-12-02 12:00:00  1  10  100\n",
      "2023-12-03 00:00:00  3  30  300\n",
      "2023-12-03 12:00:00  3  30  300\n",
      "2023-12-04 00:00:00  3  30  300\n",
      "2023-12-04 12:00:00  3  30  300\n",
      "2023-12-05 00:00:00  5  50  500\n"
     ]
    }
   ],
   "source": [
    "print(df.reindex(index=new_dt_index, method='ffill'))"
   ]
  },
  {
   "cell_type": "code",
   "execution_count": 8,
   "metadata": {},
   "outputs": [
    {
     "name": "stdout",
     "output_type": "stream",
     "text": [
      "                       A     B      C\n",
      "2023-12-01 00:00:00  1.0  10.0  100.0\n",
      "2023-12-01 12:00:00  1.5  15.0  150.0\n",
      "2023-12-02 00:00:00  2.0  20.0  200.0\n",
      "2023-12-02 12:00:00  2.5  25.0  250.0\n",
      "2023-12-03 00:00:00  3.0  30.0  300.0\n",
      "2023-12-03 12:00:00  3.5  35.0  350.0\n",
      "2023-12-04 00:00:00  4.0  40.0  400.0\n",
      "2023-12-04 12:00:00  4.5  45.0  450.0\n",
      "2023-12-05 00:00:00  5.0  50.0  500.0\n"
     ]
    }
   ],
   "source": [
    "print(df.reindex(index=new_dt_index).interpolate(method='time'))"
   ]
  },
  {
   "cell_type": "code",
   "execution_count": 9,
   "metadata": {},
   "outputs": [],
   "source": [
    "new_index = ['2023-12-01', '2023-12-02', '2023-12-03']"
   ]
  },
  {
   "cell_type": "code",
   "execution_count": 10,
   "metadata": {},
   "outputs": [
    {
     "name": "stdout",
     "output_type": "stream",
     "text": [
      "              A     B      C\n",
      "2023-12-01  1.0  10.0  100.0\n",
      "2023-12-02  NaN   NaN    NaN\n",
      "2023-12-03  3.0  30.0  300.0\n"
     ]
    }
   ],
   "source": [
    "print(df.reindex(index=new_index))"
   ]
  },
  {
   "cell_type": "code",
   "execution_count": 11,
   "metadata": {},
   "outputs": [
    {
     "name": "stdout",
     "output_type": "stream",
     "text": [
      "Index(['2023-12-01', '2023-12-02', '2023-12-03'], dtype='object')\n"
     ]
    }
   ],
   "source": [
    "print(df.reindex(index=new_index).index)"
   ]
  },
  {
   "cell_type": "code",
   "execution_count": 12,
   "metadata": {},
   "outputs": [
    {
     "name": "stdout",
     "output_type": "stream",
     "text": [
      "            A   B    C\n",
      "2023-12-01  1  10  100\n",
      "2023-12-02  3  30  300\n",
      "2023-12-03  3  30  300\n"
     ]
    }
   ],
   "source": [
    "print(df.reindex(index=new_index, method='bfill'))"
   ]
  },
  {
   "cell_type": "code",
   "execution_count": 13,
   "metadata": {},
   "outputs": [],
   "source": [
    "# print(df.reindex(index=new_index).interpolate(method='time'))\n",
    "# ValueError: time-weighted interpolation only works on Series or DataFrames with a DatetimeIndex"
   ]
  },
  {
   "cell_type": "code",
   "execution_count": 14,
   "metadata": {},
   "outputs": [
    {
     "name": "stdout",
     "output_type": "stream",
     "text": [
      "            A    C\n",
      "2023-12-01  1  100\n",
      "2023-12-02  1  100\n",
      "2023-12-03  1  100\n",
      "2023-12-04  1  100\n",
      "2023-12-05  1  100\n"
     ]
    }
   ],
   "source": [
    "df2 = pd.DataFrame({'A': [1, 1, 1, 1, 1], 'C': [100, 100, 100, 100, 100]},\n",
    "                   index=pd.date_range('2023-12-01', '2023-12-05', freq='D'))\n",
    "print(df2)"
   ]
  },
  {
   "cell_type": "code",
   "execution_count": 15,
   "metadata": {},
   "outputs": [
    {
     "name": "stdout",
     "output_type": "stream",
     "text": [
      "              A      C\n",
      "2023-12-01  1.0  100.0\n",
      "2023-12-02  NaN    NaN\n",
      "2023-12-03  3.0  300.0\n",
      "2023-12-04  NaN    NaN\n",
      "2023-12-05  5.0  500.0\n"
     ]
    }
   ],
   "source": [
    "print(df.reindex_like(df2))"
   ]
  },
  {
   "cell_type": "code",
   "execution_count": 16,
   "metadata": {},
   "outputs": [
    {
     "name": "stdout",
     "output_type": "stream",
     "text": [
      "              A      C\n",
      "2023-12-01  1.0  100.0\n",
      "2023-12-02  2.0  200.0\n",
      "2023-12-03  3.0  300.0\n",
      "2023-12-04  4.0  400.0\n",
      "2023-12-05  5.0  500.0\n"
     ]
    }
   ],
   "source": [
    "print(df.reindex_like(df2).interpolate(method='time'))"
   ]
  }
 ],
 "metadata": {
  "kernelspec": {
   "display_name": "Python 3",
   "language": "python",
   "name": "python3"
  },
  "language_info": {
   "codemirror_mode": {
    "name": "ipython",
    "version": 3
   },
   "file_extension": ".py",
   "mimetype": "text/x-python",
   "name": "python",
   "nbconvert_exporter": "python",
   "pygments_lexer": "ipython3",
   "version": "3.11.6"
  }
 },
 "nbformat": 4,
 "nbformat_minor": 2
}
