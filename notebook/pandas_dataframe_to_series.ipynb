{
 "cells": [
  {
   "cell_type": "code",
   "execution_count": 1,
   "metadata": {},
   "outputs": [],
   "source": [
    "import pandas as pd"
   ]
  },
  {
   "cell_type": "code",
   "execution_count": 2,
   "metadata": {},
   "outputs": [
    {
     "name": "stdout",
     "output_type": "stream",
     "text": [
      "2.1.4\n"
     ]
    }
   ],
   "source": [
    "print(pd.__version__)"
   ]
  },
  {
   "cell_type": "code",
   "execution_count": 3,
   "metadata": {},
   "outputs": [
    {
     "name": "stdout",
     "output_type": "stream",
     "text": [
      "      col0  col1  col2\n",
      "row0     0     3     6\n",
      "row1     1     4     7\n",
      "row2     2     5     8\n"
     ]
    }
   ],
   "source": [
    "df = pd.DataFrame({'col0': [0, 1, 2], 'col1': [3, 4, 5], 'col2': [6, 7, 8]},\n",
    "                  index=['row0', 'row1', 'row2'])\n",
    "print(df)"
   ]
  },
  {
   "cell_type": "code",
   "execution_count": 4,
   "metadata": {},
   "outputs": [
    {
     "name": "stdout",
     "output_type": "stream",
     "text": [
      "row0    0\n",
      "row1    1\n",
      "row2    2\n",
      "Name: col0, dtype: int64\n"
     ]
    }
   ],
   "source": [
    "print(df['col0'])"
   ]
  },
  {
   "cell_type": "code",
   "execution_count": 5,
   "metadata": {},
   "outputs": [
    {
     "name": "stdout",
     "output_type": "stream",
     "text": [
      "row0    0\n",
      "row1    1\n",
      "row2    2\n",
      "Name: col0, dtype: int64\n"
     ]
    }
   ],
   "source": [
    "print(df.loc[:, 'col0'])"
   ]
  },
  {
   "cell_type": "code",
   "execution_count": 6,
   "metadata": {},
   "outputs": [
    {
     "name": "stdout",
     "output_type": "stream",
     "text": [
      "row0    0\n",
      "row1    1\n",
      "row2    2\n",
      "Name: col0, dtype: int64\n"
     ]
    }
   ],
   "source": [
    "print(df.iloc[:, 0])"
   ]
  },
  {
   "cell_type": "code",
   "execution_count": 7,
   "metadata": {},
   "outputs": [
    {
     "name": "stdout",
     "output_type": "stream",
     "text": [
      "row0    0\n",
      "row2    2\n",
      "Name: col0, dtype: int64\n"
     ]
    }
   ],
   "source": [
    "print(df.iloc[[0, 2], 0])"
   ]
  },
  {
   "cell_type": "code",
   "execution_count": 8,
   "metadata": {},
   "outputs": [
    {
     "name": "stdout",
     "output_type": "stream",
     "text": [
      "row0    0\n",
      "row1    1\n",
      "Name: col0, dtype: int64\n"
     ]
    }
   ],
   "source": [
    "print(df.iloc[:2, 0])"
   ]
  },
  {
   "cell_type": "code",
   "execution_count": 9,
   "metadata": {},
   "outputs": [
    {
     "name": "stdout",
     "output_type": "stream",
     "text": [
      "      col0\n",
      "row0     0\n",
      "row1     1\n",
      "row2     2\n"
     ]
    }
   ],
   "source": [
    "print(df.loc[:, ['col0']])"
   ]
  },
  {
   "cell_type": "code",
   "execution_count": 10,
   "metadata": {},
   "outputs": [
    {
     "name": "stdout",
     "output_type": "stream",
     "text": [
      "      col0\n",
      "row0     0\n",
      "row1     1\n",
      "row2     2\n"
     ]
    }
   ],
   "source": [
    "print(df.iloc[:, :1])"
   ]
  },
  {
   "cell_type": "code",
   "execution_count": 11,
   "metadata": {},
   "outputs": [
    {
     "name": "stdout",
     "output_type": "stream",
     "text": [
      "col0    0\n",
      "col1    3\n",
      "col2    6\n",
      "Name: row0, dtype: int64\n"
     ]
    }
   ],
   "source": [
    "print(df.loc['row0', :])"
   ]
  },
  {
   "cell_type": "code",
   "execution_count": 12,
   "metadata": {},
   "outputs": [
    {
     "name": "stdout",
     "output_type": "stream",
     "text": [
      "col0    0\n",
      "col1    3\n",
      "col2    6\n",
      "Name: row0, dtype: int64\n"
     ]
    }
   ],
   "source": [
    "print(df.iloc[0, :])"
   ]
  },
  {
   "cell_type": "code",
   "execution_count": 13,
   "metadata": {},
   "outputs": [
    {
     "name": "stdout",
     "output_type": "stream",
     "text": [
      "col0    0\n",
      "col1    3\n",
      "col2    6\n",
      "Name: row0, dtype: int64\n"
     ]
    }
   ],
   "source": [
    "print(df.loc['row0'])"
   ]
  },
  {
   "cell_type": "code",
   "execution_count": 14,
   "metadata": {},
   "outputs": [
    {
     "name": "stdout",
     "output_type": "stream",
     "text": [
      "col0    0\n",
      "col1    3\n",
      "col2    6\n",
      "Name: row0, dtype: int64\n"
     ]
    }
   ],
   "source": [
    "print(df.iloc[0])"
   ]
  },
  {
   "cell_type": "code",
   "execution_count": 15,
   "metadata": {},
   "outputs": [
    {
     "name": "stdout",
     "output_type": "stream",
     "text": [
      "col0    0\n",
      "col2    6\n",
      "Name: row0, dtype: int64\n"
     ]
    }
   ],
   "source": [
    "print(df.iloc[0, [0, 2]])"
   ]
  },
  {
   "cell_type": "code",
   "execution_count": 16,
   "metadata": {},
   "outputs": [
    {
     "name": "stdout",
     "output_type": "stream",
     "text": [
      "col0    0\n",
      "col1    3\n",
      "Name: row0, dtype: int64\n"
     ]
    }
   ],
   "source": [
    "print(df.iloc[0, :2])"
   ]
  },
  {
   "cell_type": "code",
   "execution_count": 17,
   "metadata": {},
   "outputs": [
    {
     "name": "stdout",
     "output_type": "stream",
     "text": [
      "      col0  col1  col2\n",
      "row0     0     3     6\n"
     ]
    }
   ],
   "source": [
    "print(df.loc[['row0']])"
   ]
  },
  {
   "cell_type": "code",
   "execution_count": 18,
   "metadata": {},
   "outputs": [
    {
     "name": "stdout",
     "output_type": "stream",
     "text": [
      "      col0  col1  col2\n",
      "row0     0     3     6\n"
     ]
    }
   ],
   "source": [
    "print(df.iloc[:1])"
   ]
  },
  {
   "cell_type": "code",
   "execution_count": 19,
   "metadata": {},
   "outputs": [
    {
     "name": "stdout",
     "output_type": "stream",
     "text": [
      "      col0  col1\n",
      "row0     0   0.0\n",
      "row1     1   0.1\n",
      "row2     2   0.2\n"
     ]
    }
   ],
   "source": [
    "df_multi = pd.DataFrame({'col0': [0, 1, 2], 'col1': [0.0, 0.1, 0.2]},\n",
    "                        index=['row0', 'row1', 'row2'])\n",
    "print(df_multi)"
   ]
  },
  {
   "cell_type": "code",
   "execution_count": 20,
   "metadata": {},
   "outputs": [
    {
     "name": "stdout",
     "output_type": "stream",
     "text": [
      "col0    2.0\n",
      "col1    0.2\n",
      "Name: row2, dtype: float64\n"
     ]
    }
   ],
   "source": [
    "s_row = df_multi.loc['row2']\n",
    "print(s_row)"
   ]
  },
  {
   "cell_type": "code",
   "execution_count": 21,
   "metadata": {},
   "outputs": [
    {
     "name": "stdout",
     "output_type": "stream",
     "text": [
      "      col0  col1 col2\n",
      "row0     0   0.0    a\n",
      "row1     1   0.1    b\n",
      "row2     2   0.2    c\n"
     ]
    }
   ],
   "source": [
    "df_multi['col2'] = ['a', 'b', 'c']\n",
    "print(df_multi)"
   ]
  },
  {
   "cell_type": "code",
   "execution_count": 22,
   "metadata": {},
   "outputs": [
    {
     "name": "stdout",
     "output_type": "stream",
     "text": [
      "col0      int64\n",
      "col1    float64\n",
      "col2     object\n",
      "dtype: object\n"
     ]
    }
   ],
   "source": [
    "print(df_multi.dtypes)"
   ]
  },
  {
   "cell_type": "code",
   "execution_count": 23,
   "metadata": {},
   "outputs": [
    {
     "name": "stdout",
     "output_type": "stream",
     "text": [
      "col0      2\n",
      "col1    0.2\n",
      "col2      c\n",
      "Name: row2, dtype: object\n"
     ]
    }
   ],
   "source": [
    "s_row = df_multi.loc['row2']\n",
    "print(s_row)"
   ]
  },
  {
   "cell_type": "code",
   "execution_count": 24,
   "metadata": {},
   "outputs": [
    {
     "name": "stdout",
     "output_type": "stream",
     "text": [
      "<class 'numpy.int64'>\n"
     ]
    }
   ],
   "source": [
    "print(type(s_row['col0']))"
   ]
  },
  {
   "cell_type": "code",
   "execution_count": 25,
   "metadata": {},
   "outputs": [
    {
     "name": "stdout",
     "output_type": "stream",
     "text": [
      "<class 'numpy.float64'>\n"
     ]
    }
   ],
   "source": [
    "print(type(s_row['col1']))"
   ]
  },
  {
   "cell_type": "code",
   "execution_count": 26,
   "metadata": {},
   "outputs": [
    {
     "name": "stdout",
     "output_type": "stream",
     "text": [
      "<class 'str'>\n"
     ]
    }
   ],
   "source": [
    "print(type(s_row['col2']))"
   ]
  },
  {
   "cell_type": "code",
   "execution_count": 27,
   "metadata": {},
   "outputs": [
    {
     "name": "stdout",
     "output_type": "stream",
     "text": [
      "      col0  col1  col2\n",
      "row0     0     3     6\n",
      "row1     1     4     7\n",
      "row2     2     5     8\n"
     ]
    }
   ],
   "source": [
    "df = pd.DataFrame({'col0': [0, 1, 2], 'col1': [3, 4, 5], 'col2': [6, 7, 8]},\n",
    "                  index=['row0', 'row1', 'row2'])\n",
    "print(df)"
   ]
  },
  {
   "cell_type": "code",
   "execution_count": 28,
   "metadata": {},
   "outputs": [
    {
     "name": "stdout",
     "output_type": "stream",
     "text": [
      "row0    10\n",
      "row1     1\n",
      "row2     2\n",
      "Name: col0, dtype: int64\n"
     ]
    }
   ],
   "source": [
    "s = df['col0']\n",
    "s['row0'] = 10\n",
    "print(s)"
   ]
  },
  {
   "cell_type": "code",
   "execution_count": 29,
   "metadata": {},
   "outputs": [
    {
     "name": "stdout",
     "output_type": "stream",
     "text": [
      "      col0  col1  col2\n",
      "row0    10     3     6\n",
      "row1     1     4     7\n",
      "row2     2     5     8\n"
     ]
    }
   ],
   "source": [
    "print(df)"
   ]
  },
  {
   "cell_type": "code",
   "execution_count": 30,
   "metadata": {},
   "outputs": [
    {
     "name": "stdout",
     "output_type": "stream",
     "text": [
      "row0    100\n",
      "row1      4\n",
      "row2      5\n",
      "Name: col1, dtype: int64\n"
     ]
    }
   ],
   "source": [
    "s_copy = df['col1'].copy()\n",
    "s_copy['row0'] = 100\n",
    "print(s_copy)"
   ]
  },
  {
   "cell_type": "code",
   "execution_count": 31,
   "metadata": {},
   "outputs": [
    {
     "name": "stdout",
     "output_type": "stream",
     "text": [
      "      col0  col1  col2\n",
      "row0    10     3     6\n",
      "row1     1     4     7\n",
      "row2     2     5     8\n"
     ]
    }
   ],
   "source": [
    "print(df)"
   ]
  },
  {
   "cell_type": "code",
   "execution_count": 32,
   "metadata": {},
   "outputs": [
    {
     "name": "stdout",
     "output_type": "stream",
     "text": [
      "row0    1000\n",
      "row2       8\n",
      "Name: col2, dtype: int64\n"
     ]
    }
   ],
   "source": [
    "s_list = df.loc[['row0', 'row2'], 'col2']\n",
    "s_list['row0'] = 1000\n",
    "print(s_list)"
   ]
  },
  {
   "cell_type": "code",
   "execution_count": 33,
   "metadata": {},
   "outputs": [
    {
     "name": "stdout",
     "output_type": "stream",
     "text": [
      "      col0  col1  col2\n",
      "row0    10     3     6\n",
      "row1     1     4     7\n",
      "row2     2     5     8\n"
     ]
    }
   ],
   "source": [
    "print(df)"
   ]
  }
 ],
 "metadata": {
  "kernelspec": {
   "display_name": "Python 3",
   "language": "python",
   "name": "python3"
  },
  "language_info": {
   "codemirror_mode": {
    "name": "ipython",
    "version": 3
   },
   "file_extension": ".py",
   "mimetype": "text/x-python",
   "name": "python",
   "nbconvert_exporter": "python",
   "pygments_lexer": "ipython3",
   "version": "3.11.6"
  }
 },
 "nbformat": 4,
 "nbformat_minor": 2
}
