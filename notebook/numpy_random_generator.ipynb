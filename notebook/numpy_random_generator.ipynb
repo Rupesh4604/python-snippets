{
 "cells": [
  {
   "cell_type": "code",
   "execution_count": 1,
   "id": "b8f49b4e",
   "metadata": {},
   "outputs": [],
   "source": [
    "import numpy as np"
   ]
  },
  {
   "cell_type": "code",
   "execution_count": 2,
   "id": "62288014",
   "metadata": {},
   "outputs": [
    {
     "name": "stdout",
     "output_type": "stream",
     "text": [
      "1.26.1\n"
     ]
    }
   ],
   "source": [
    "print(np.__version__)"
   ]
  },
  {
   "cell_type": "code",
   "execution_count": 3,
   "id": "dffe380f",
   "metadata": {},
   "outputs": [
    {
     "name": "stdout",
     "output_type": "stream",
     "text": [
      "Generator(PCG64)\n"
     ]
    }
   ],
   "source": [
    "rng = np.random.default_rng()\n",
    "print(rng)"
   ]
  },
  {
   "cell_type": "code",
   "execution_count": 4,
   "id": "e91585dd",
   "metadata": {},
   "outputs": [
    {
     "name": "stdout",
     "output_type": "stream",
     "text": [
      "0.9124223789440322\n"
     ]
    }
   ],
   "source": [
    "print(rng.random())"
   ]
  },
  {
   "cell_type": "code",
   "execution_count": 5,
   "id": "91313e2a",
   "metadata": {},
   "outputs": [
    {
     "name": "stdout",
     "output_type": "stream",
     "text": [
      "<class 'float'>\n"
     ]
    }
   ],
   "source": [
    "print(type(rng.random()))"
   ]
  },
  {
   "cell_type": "code",
   "execution_count": 6,
   "id": "e6fbcc21",
   "metadata": {},
   "outputs": [
    {
     "name": "stdout",
     "output_type": "stream",
     "text": [
      "[0.89316041 0.63122969 0.05225701]\n"
     ]
    }
   ],
   "source": [
    "print(rng.random(3))"
   ]
  },
  {
   "cell_type": "code",
   "execution_count": 7,
   "id": "76586c54",
   "metadata": {},
   "outputs": [
    {
     "name": "stdout",
     "output_type": "stream",
     "text": [
      "<class 'numpy.ndarray'>\n"
     ]
    }
   ],
   "source": [
    "print(type(rng.random(3)))"
   ]
  },
  {
   "cell_type": "code",
   "execution_count": 8,
   "id": "9c67d643",
   "metadata": {},
   "outputs": [
    {
     "name": "stdout",
     "output_type": "stream",
     "text": [
      "[[0.06036965 0.56058557 0.81693522]\n",
      " [0.30997042 0.81240124 0.87474847]]\n"
     ]
    }
   ],
   "source": [
    "print(rng.random((2, 3)))"
   ]
  },
  {
   "cell_type": "code",
   "execution_count": 9,
   "id": "e91d5894",
   "metadata": {},
   "outputs": [
    {
     "name": "stdout",
     "output_type": "stream",
     "text": [
      "<class 'numpy.ndarray'>\n"
     ]
    }
   ],
   "source": [
    "print(type(rng.random((2, 3))))"
   ]
  },
  {
   "cell_type": "code",
   "execution_count": 10,
   "id": "a75b220f",
   "metadata": {},
   "outputs": [
    {
     "name": "stdout",
     "output_type": "stream",
     "text": [
      "0.9766997666981422\n"
     ]
    }
   ],
   "source": [
    "rng_1 = np.random.default_rng(1234)\n",
    "print(rng_1.random())"
   ]
  },
  {
   "cell_type": "code",
   "execution_count": 11,
   "id": "8196d1b6",
   "metadata": {},
   "outputs": [
    {
     "name": "stdout",
     "output_type": "stream",
     "text": [
      "0.9766997666981422\n"
     ]
    }
   ],
   "source": [
    "rng_2 = np.random.default_rng(1234)\n",
    "print(rng_2.random())"
   ]
  },
  {
   "cell_type": "code",
   "execution_count": 12,
   "id": "1d771376",
   "metadata": {},
   "outputs": [
    {
     "name": "stdout",
     "output_type": "stream",
     "text": [
      "Generator(MT19937)\n"
     ]
    }
   ],
   "source": [
    "rng_mt = np.random.Generator(np.random.MT19937(1234))\n",
    "print(rng_mt)"
   ]
  },
  {
   "cell_type": "code",
   "execution_count": 13,
   "id": "d678c65a",
   "metadata": {},
   "outputs": [
    {
     "name": "stdout",
     "output_type": "stream",
     "text": [
      "0.12038356302504949\n"
     ]
    }
   ],
   "source": [
    "print(rng_mt.random())"
   ]
  }
 ],
 "metadata": {
  "kernelspec": {
   "display_name": "Python 3",
   "language": "python",
   "name": "python3"
  },
  "language_info": {
   "codemirror_mode": {
    "name": "ipython",
    "version": 3
   },
   "file_extension": ".py",
   "mimetype": "text/x-python",
   "name": "python",
   "nbconvert_exporter": "python",
   "pygments_lexer": "ipython3",
   "version": "3.11.6"
  }
 },
 "nbformat": 4,
 "nbformat_minor": 5
}
