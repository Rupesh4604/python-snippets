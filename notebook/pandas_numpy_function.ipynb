{
 "cells": [
  {
   "cell_type": "code",
   "execution_count": 1,
   "id": "e18e5f26",
   "metadata": {},
   "outputs": [],
   "source": [
    "import pandas as pd\n",
    "import numpy as np"
   ]
  },
  {
   "cell_type": "code",
   "execution_count": 2,
   "id": "f53b9ff0",
   "metadata": {},
   "outputs": [
    {
     "name": "stdout",
     "output_type": "stream",
     "text": [
      "2.1.2\n"
     ]
    }
   ],
   "source": [
    "print(pd.__version__)"
   ]
  },
  {
   "cell_type": "code",
   "execution_count": 3,
   "id": "860d1d13",
   "metadata": {},
   "outputs": [
    {
     "name": "stdout",
     "output_type": "stream",
     "text": [
      "1.26.1\n"
     ]
    }
   ],
   "source": [
    "print(np.__version__)"
   ]
  },
  {
   "cell_type": "code",
   "execution_count": 4,
   "id": "dfa14344",
   "metadata": {},
   "outputs": [
    {
     "name": "stdout",
     "output_type": "stream",
     "text": [
      "   A  B  C\n",
      "X  1 -2  3\n",
      "Y -4  5 -6\n"
     ]
    }
   ],
   "source": [
    "df = pd.DataFrame([[1, -2, 3], [-4, 5, -6]], index=['X', 'Y'], columns=['A', 'B', 'C'])\n",
    "print(df)"
   ]
  },
  {
   "cell_type": "code",
   "execution_count": 5,
   "id": "fc203312",
   "metadata": {},
   "outputs": [
    {
     "name": "stdout",
     "output_type": "stream",
     "text": [
      "   A  B  C\n",
      "X  1  2  3\n",
      "Y  4  5  6\n"
     ]
    }
   ],
   "source": [
    "print(df.abs())"
   ]
  },
  {
   "cell_type": "code",
   "execution_count": 6,
   "id": "bffd2f45",
   "metadata": {},
   "outputs": [
    {
     "name": "stdout",
     "output_type": "stream",
     "text": [
      "A   -3\n",
      "B    3\n",
      "C   -3\n",
      "dtype: int64\n"
     ]
    }
   ],
   "source": [
    "print(df.sum())"
   ]
  },
  {
   "cell_type": "code",
   "execution_count": 7,
   "id": "9f26faed",
   "metadata": {},
   "outputs": [
    {
     "name": "stdout",
     "output_type": "stream",
     "text": [
      "X    2\n",
      "Y   -5\n",
      "dtype: int64\n"
     ]
    }
   ],
   "source": [
    "print(df.sum(axis=1))"
   ]
  },
  {
   "cell_type": "code",
   "execution_count": 8,
   "id": "246ad6c4",
   "metadata": {},
   "outputs": [
    {
     "name": "stdout",
     "output_type": "stream",
     "text": [
      "    A   B   C\n",
      "X  10 -20  30\n",
      "Y -40  50 -60\n"
     ]
    }
   ],
   "source": [
    "print(df * 10)"
   ]
  },
  {
   "cell_type": "code",
   "execution_count": 9,
   "id": "0cdaa9ba",
   "metadata": {},
   "outputs": [
    {
     "name": "stdout",
     "output_type": "stream",
     "text": [
      "X   -199\n",
      "Y    504\n",
      "dtype: int64\n"
     ]
    }
   ],
   "source": [
    "print(df['A'].abs() + df['B'] * 100)"
   ]
  },
  {
   "cell_type": "code",
   "execution_count": 10,
   "id": "c32bdf2e",
   "metadata": {},
   "outputs": [
    {
     "name": "stdout",
     "output_type": "stream",
     "text": [
      "   A   B    C\n",
      "X  a  ab  abc\n",
      "Y  x  xy  xyz\n"
     ]
    }
   ],
   "source": [
    "df = pd.DataFrame([['a', 'ab', 'abc'], ['x', 'xy', 'xyz']], index=['X', 'Y'], columns=['A', 'B', 'C'])\n",
    "print(df)"
   ]
  },
  {
   "cell_type": "code",
   "execution_count": 11,
   "id": "c02aafca",
   "metadata": {},
   "outputs": [
    {
     "name": "stdout",
     "output_type": "stream",
     "text": [
      "X    a-AB-Abc\n",
      "Y    x-XY-Xyz\n",
      "dtype: object\n"
     ]
    }
   ],
   "source": [
    "print(df['A'] + '-' + df['B'].str.upper() + '-' + df['C'].str.title())"
   ]
  },
  {
   "cell_type": "code",
   "execution_count": 12,
   "id": "22ce0b9f",
   "metadata": {},
   "outputs": [
    {
     "name": "stdout",
     "output_type": "stream",
     "text": [
      "     A    B    C\n",
      "X  0.1  0.5  0.9\n",
      "Y -0.1 -0.5 -0.9\n"
     ]
    }
   ],
   "source": [
    "df = pd.DataFrame([[0.1, 0.5, 0.9], [-0.1, -0.5, -0.9]], index=['X', 'Y'], columns=['A', 'B', 'C'])\n",
    "print(df)"
   ]
  },
  {
   "cell_type": "code",
   "execution_count": 13,
   "id": "3c6723c4",
   "metadata": {},
   "outputs": [
    {
     "name": "stdout",
     "output_type": "stream",
     "text": [
      "     A    B    C\n",
      "X  0.0  0.0  0.0\n",
      "Y -1.0 -1.0 -1.0\n"
     ]
    }
   ],
   "source": [
    "print(np.floor(df))"
   ]
  },
  {
   "cell_type": "code",
   "execution_count": 14,
   "id": "fab249ea",
   "metadata": {},
   "outputs": [
    {
     "name": "stdout",
     "output_type": "stream",
     "text": [
      "<class 'pandas.core.frame.DataFrame'>\n"
     ]
    }
   ],
   "source": [
    "print(type(np.floor(df)))"
   ]
  },
  {
   "cell_type": "code",
   "execution_count": 15,
   "id": "d1b20c36",
   "metadata": {},
   "outputs": [
    {
     "name": "stdout",
     "output_type": "stream",
     "text": [
      "X    0.0\n",
      "Y   -1.0\n",
      "Name: A, dtype: float64\n"
     ]
    }
   ],
   "source": [
    "print(np.floor(df['A']))"
   ]
  },
  {
   "cell_type": "code",
   "execution_count": 16,
   "id": "ced1a0b7",
   "metadata": {},
   "outputs": [
    {
     "name": "stdout",
     "output_type": "stream",
     "text": [
      "<class 'pandas.core.series.Series'>\n"
     ]
    }
   ],
   "source": [
    "print(type(np.floor(df['A'])))"
   ]
  },
  {
   "cell_type": "code",
   "execution_count": 17,
   "id": "4c12c57b",
   "metadata": {},
   "outputs": [
    {
     "name": "stdout",
     "output_type": "stream",
     "text": [
      "A    0.0\n",
      "B    0.0\n",
      "C    0.0\n",
      "dtype: float64\n"
     ]
    }
   ],
   "source": [
    "print(np.sum(df, axis=0))"
   ]
  },
  {
   "cell_type": "code",
   "execution_count": 18,
   "id": "068d622e",
   "metadata": {},
   "outputs": [
    {
     "name": "stdout",
     "output_type": "stream",
     "text": [
      "X    1.5\n",
      "Y   -1.5\n",
      "dtype: float64\n"
     ]
    }
   ],
   "source": [
    "print(np.sum(df, axis=1))"
   ]
  },
  {
   "cell_type": "code",
   "execution_count": 19,
   "id": "81aa7bf4",
   "metadata": {},
   "outputs": [
    {
     "name": "stdout",
     "output_type": "stream",
     "text": [
      "<class 'pandas.core.series.Series'>\n"
     ]
    }
   ],
   "source": [
    "print(type(np.sum(df, axis=0)))"
   ]
  }
 ],
 "metadata": {
  "kernelspec": {
   "display_name": "Python 3",
   "language": "python",
   "name": "python3"
  },
  "language_info": {
   "codemirror_mode": {
    "name": "ipython",
    "version": 3
   },
   "file_extension": ".py",
   "mimetype": "text/x-python",
   "name": "python",
   "nbconvert_exporter": "python",
   "pygments_lexer": "ipython3",
   "version": "3.11.6"
  }
 },
 "nbformat": 4,
 "nbformat_minor": 5
}
