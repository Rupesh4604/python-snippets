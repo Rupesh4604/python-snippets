{
 "cells": [
  {
   "cell_type": "code",
   "execution_count": 1,
   "metadata": {},
   "outputs": [],
   "source": [
    "import pandas as pd"
   ]
  },
  {
   "cell_type": "code",
   "execution_count": 2,
   "metadata": {},
   "outputs": [
    {
     "name": "stdout",
     "output_type": "stream",
     "text": [
      "2.0.3\n"
     ]
    }
   ],
   "source": [
    "print(pd.__version__)"
   ]
  },
  {
   "cell_type": "code",
   "execution_count": 3,
   "metadata": {},
   "outputs": [
    {
     "name": "stdout",
     "output_type": "stream",
     "text": [
      "   11  12  13  14\n",
      "0  21  22  23  24\n",
      "1  31  32  33  34\n"
     ]
    }
   ],
   "source": [
    "df = pd.read_csv('data/src/sample.csv')\n",
    "print(df)"
   ]
  },
  {
   "cell_type": "code",
   "execution_count": 4,
   "metadata": {},
   "outputs": [
    {
     "name": "stdout",
     "output_type": "stream",
     "text": [
      "Index(['11', '12', '13', '14'], dtype='object')\n"
     ]
    }
   ],
   "source": [
    "print(df.columns)"
   ]
  },
  {
   "cell_type": "code",
   "execution_count": 5,
   "metadata": {},
   "outputs": [
    {
     "name": "stdout",
     "output_type": "stream",
     "text": [
      "    0   1   2   3\n",
      "0  11  12  13  14\n",
      "1  21  22  23  24\n",
      "2  31  32  33  34\n"
     ]
    }
   ],
   "source": [
    "df_none = pd.read_csv('data/src/sample.csv', header=None)\n",
    "print(df_none)"
   ]
  },
  {
   "cell_type": "code",
   "execution_count": 6,
   "metadata": {},
   "outputs": [
    {
     "name": "stdout",
     "output_type": "stream",
     "text": [
      "    A   B   C   D\n",
      "0  11  12  13  14\n",
      "1  21  22  23  24\n",
      "2  31  32  33  34\n"
     ]
    }
   ],
   "source": [
    "df_names = pd.read_csv('data/src/sample.csv', names=['A', 'B', 'C', 'D'])\n",
    "print(df_names)"
   ]
  },
  {
   "cell_type": "code",
   "execution_count": 7,
   "metadata": {},
   "outputs": [
    {
     "name": "stdout",
     "output_type": "stream",
     "text": [
      "    a   b   c   d\n",
      "0  11  12  13  14\n",
      "1  21  22  23  24\n",
      "2  31  32  33  34\n"
     ]
    }
   ],
   "source": [
    "df = pd.read_csv('data/src/sample_header.csv')\n",
    "print(df)"
   ]
  },
  {
   "cell_type": "code",
   "execution_count": 8,
   "metadata": {},
   "outputs": [
    {
     "name": "stdout",
     "output_type": "stream",
     "text": [
      "    A   B   C   D\n",
      "0   a   b   c   d\n",
      "1  11  12  13  14\n",
      "2  21  22  23  24\n",
      "3  31  32  33  34\n"
     ]
    }
   ],
   "source": [
    "df_names = pd.read_csv('data/src/sample_header.csv', names=['A', 'B', 'C', 'D'])\n",
    "print(df_names)"
   ]
  },
  {
   "cell_type": "code",
   "execution_count": 9,
   "metadata": {},
   "outputs": [
    {
     "name": "stdout",
     "output_type": "stream",
     "text": [
      "    A   B   C   D\n",
      "0  11  12  13  14\n",
      "1  21  22  23  24\n",
      "2  31  32  33  34\n"
     ]
    }
   ],
   "source": [
    "df_names_0 = pd.read_csv('data/src/sample_header.csv',\n",
    "                         header=0, names=['A', 'B', 'C', 'D'])\n",
    "print(df_names_0)"
   ]
  },
  {
   "cell_type": "code",
   "execution_count": 10,
   "metadata": {},
   "outputs": [
    {
     "name": "stdout",
     "output_type": "stream",
     "text": [
      "   21  22  23  24\n",
      "0  31  32  33  34\n"
     ]
    }
   ],
   "source": [
    "df_header_2 = pd.read_csv('data/src/sample_header.csv', header=2)\n",
    "print(df_header_2)"
   ]
  },
  {
   "cell_type": "code",
   "execution_count": 11,
   "metadata": {},
   "outputs": [
    {
     "name": "stdout",
     "output_type": "stream",
     "text": [
      "  Unnamed: 0   a   b   c   d\n",
      "0        ONE  11  12  13  14\n",
      "1        TWO  21  22  23  24\n",
      "2      THREE  31  32  33  34\n"
     ]
    }
   ],
   "source": [
    "df = pd.read_csv('data/src/sample_header_index.csv')\n",
    "print(df)"
   ]
  },
  {
   "cell_type": "code",
   "execution_count": 12,
   "metadata": {},
   "outputs": [
    {
     "name": "stdout",
     "output_type": "stream",
     "text": [
      "RangeIndex(start=0, stop=3, step=1)\n"
     ]
    }
   ],
   "source": [
    "print(df.index)"
   ]
  },
  {
   "cell_type": "code",
   "execution_count": 13,
   "metadata": {},
   "outputs": [
    {
     "name": "stdout",
     "output_type": "stream",
     "text": [
      "        a   b   c   d\n",
      "ONE    11  12  13  14\n",
      "TWO    21  22  23  24\n",
      "THREE  31  32  33  34\n"
     ]
    }
   ],
   "source": [
    "df_index_col = pd.read_csv('data/src/sample_header_index.csv', index_col=0)\n",
    "print(df_index_col)"
   ]
  },
  {
   "cell_type": "code",
   "execution_count": 14,
   "metadata": {},
   "outputs": [
    {
     "name": "stdout",
     "output_type": "stream",
     "text": [
      "Index(['ONE', 'TWO', 'THREE'], dtype='object')\n"
     ]
    }
   ],
   "source": [
    "print(df_index_col.index)"
   ]
  },
  {
   "cell_type": "code",
   "execution_count": 15,
   "metadata": {},
   "outputs": [
    {
     "name": "stdout",
     "output_type": "stream",
     "text": [
      "    b   d\n",
      "0  12  14\n",
      "1  22  24\n",
      "2  32  34\n"
     ]
    }
   ],
   "source": [
    "df_usecols = pd.read_csv('data/src/sample_header.csv', usecols=[1, 3])\n",
    "print(df_usecols)"
   ]
  },
  {
   "cell_type": "code",
   "execution_count": 16,
   "metadata": {},
   "outputs": [
    {
     "name": "stdout",
     "output_type": "stream",
     "text": [
      "    a   c\n",
      "0  11  13\n",
      "1  21  23\n",
      "2  31  33\n"
     ]
    }
   ],
   "source": [
    "df_usecols = pd.read_csv('data/src/sample_header.csv', usecols=['a', 'c'])\n",
    "print(df_usecols)"
   ]
  },
  {
   "cell_type": "code",
   "execution_count": 17,
   "metadata": {},
   "outputs": [
    {
     "name": "stdout",
     "output_type": "stream",
     "text": [
      "    a   c   d\n",
      "0  11  13  14\n",
      "1  21  23  24\n",
      "2  31  33  34\n"
     ]
    }
   ],
   "source": [
    "df_usecols = pd.read_csv('data/src/sample_header.csv',\n",
    "                         usecols=lambda x: x != 'b')\n",
    "print(df_usecols)"
   ]
  },
  {
   "cell_type": "code",
   "execution_count": 18,
   "metadata": {},
   "outputs": [
    {
     "name": "stdout",
     "output_type": "stream",
     "text": [
      "    b   d\n",
      "0  12  14\n",
      "1  22  24\n",
      "2  32  34\n"
     ]
    }
   ],
   "source": [
    "df_usecols = pd.read_csv('data/src/sample_header.csv',\n",
    "                         usecols=lambda x: x not in ['a', 'c'])\n",
    "print(df_usecols)"
   ]
  },
  {
   "cell_type": "code",
   "execution_count": 19,
   "metadata": {},
   "outputs": [
    {
     "name": "stdout",
     "output_type": "stream",
     "text": [
      "    0   1   2   3\n",
      "0  11  12  13  14\n",
      "1  21  22  23  24\n",
      "2  31  32  33  34\n"
     ]
    }
   ],
   "source": [
    "df = pd.read_csv('data/src/sample.csv', header=None)\n",
    "print(df)"
   ]
  },
  {
   "cell_type": "code",
   "execution_count": 20,
   "metadata": {},
   "outputs": [
    {
     "name": "stdout",
     "output_type": "stream",
     "text": [
      "    0   1   2   3\n",
      "0  31  32  33  34\n"
     ]
    }
   ],
   "source": [
    "df_skiprows = pd.read_csv('data/src/sample.csv', header=None, skiprows=2)\n",
    "print(df_skiprows)"
   ]
  },
  {
   "cell_type": "code",
   "execution_count": 21,
   "metadata": {},
   "outputs": [
    {
     "name": "stdout",
     "output_type": "stream",
     "text": [
      "    0   1   2   3\n",
      "0  21  22  23  24\n"
     ]
    }
   ],
   "source": [
    "df_skiprows = pd.read_csv('data/src/sample.csv', header=None, skiprows=[0, 2])\n",
    "print(df_skiprows)"
   ]
  },
  {
   "cell_type": "code",
   "execution_count": 22,
   "metadata": {},
   "outputs": [
    {
     "name": "stdout",
     "output_type": "stream",
     "text": [
      "    0   1   2   3\n",
      "0  11  12  13  14\n",
      "1  31  32  33  34\n"
     ]
    }
   ],
   "source": [
    "df_skiprows = pd.read_csv('data/src/sample.csv', header=None,\n",
    "                          skiprows=lambda x: x not in [0, 2])\n",
    "print(df_skiprows)"
   ]
  },
  {
   "cell_type": "code",
   "execution_count": 23,
   "metadata": {},
   "outputs": [
    {
     "name": "stdout",
     "output_type": "stream",
     "text": [
      "   21  22  23  24\n",
      "0  31  32  33  34\n"
     ]
    }
   ],
   "source": [
    "df_skiprows = pd.read_csv('data/src/sample_header.csv', skiprows=2)\n",
    "print(df_skiprows)"
   ]
  },
  {
   "cell_type": "code",
   "execution_count": 24,
   "metadata": {},
   "outputs": [
    {
     "name": "stdout",
     "output_type": "stream",
     "text": [
      "    a   b   c   d\n",
      "0  21  22  23  24\n"
     ]
    }
   ],
   "source": [
    "df_skiprows = pd.read_csv('data/src/sample_header.csv', skiprows=[1, 3])\n",
    "print(df_skiprows)"
   ]
  },
  {
   "cell_type": "code",
   "execution_count": 25,
   "metadata": {},
   "outputs": [
    {
     "name": "stdout",
     "output_type": "stream",
     "text": [
      "    0   1   2   3\n",
      "0  11  12  13  14\n",
      "1  21  22  23  24\n"
     ]
    }
   ],
   "source": [
    "df_skipfooter = pd.read_csv('data/src/sample.csv', header=None,\n",
    "                            skipfooter=1, engine='python')\n",
    "print(df_skipfooter)"
   ]
  },
  {
   "cell_type": "code",
   "execution_count": 26,
   "metadata": {},
   "outputs": [
    {
     "name": "stdout",
     "output_type": "stream",
     "text": [
      "    0   1   2   3\n",
      "0  11  12  13  14\n",
      "1  21  22  23  24\n"
     ]
    }
   ],
   "source": [
    "df_nrows = pd.read_csv('data/src/sample.csv', header=None, nrows=2)\n",
    "print(df_nrows)"
   ]
  },
  {
   "cell_type": "code",
   "execution_count": 27,
   "metadata": {},
   "outputs": [
    {
     "name": "stdout",
     "output_type": "stream",
     "text": [
      "    a   b   c   d\n",
      "0  11  12  13  14\n",
      "1  21  22  23  24\n"
     ]
    }
   ],
   "source": [
    "df_nrows = pd.read_csv('data/src/sample_header.csv', nrows=2)\n",
    "print(df_nrows)"
   ]
  },
  {
   "cell_type": "code",
   "execution_count": 28,
   "metadata": {},
   "outputs": [
    {
     "name": "stdout",
     "output_type": "stream",
     "text": [
      "    a   b   c   d\n",
      "0  11  12  13  14\n",
      "1  21  22  23  24\n",
      "2  31  32  33  34\n"
     ]
    }
   ],
   "source": [
    "df_zip = pd.read_csv('data/src/sample_header.csv.zip')\n",
    "print(df_zip)"
   ]
  },
  {
   "cell_type": "code",
   "execution_count": 29,
   "metadata": {},
   "outputs": [
    {
     "name": "stdout",
     "output_type": "stream",
     "text": [
      "    a   b   c   d\n",
      "0  11  12  13  14\n",
      "1  21  22  23  24\n",
      "2  31  32  33  34\n"
     ]
    }
   ],
   "source": [
    "df_web = pd.read_csv(\n",
    "    'https://raw.githubusercontent.com/nkmk/python-snippets/master/notebook/data/src/sample_header.csv'\n",
    ")\n",
    "print(df_web)"
   ]
  },
  {
   "cell_type": "code",
   "execution_count": 30,
   "metadata": {},
   "outputs": [
    {
     "name": "stdout",
     "output_type": "stream",
     "text": [
      "        a   b   c   d\n",
      "ONE    11  12  13  14\n",
      "TWO    21  22  23  24\n",
      "THREE  31  32  33  34\n"
     ]
    }
   ],
   "source": [
    "df_tsv_sep = pd.read_csv('data/src/sample_header_index.tsv', index_col=0, sep='\\t')\n",
    "print(df_tsv_sep)"
   ]
  },
  {
   "cell_type": "code",
   "execution_count": 31,
   "metadata": {},
   "outputs": [
    {
     "name": "stdout",
     "output_type": "stream",
     "text": [
      "        a   b   c   d\n",
      "ONE    11  12  13  14\n",
      "TWO    21  22  23  24\n",
      "THREE  31  32  33  34\n"
     ]
    }
   ],
   "source": [
    "df_tsv = pd.read_table('data/src/sample_header_index.tsv', index_col=0)\n",
    "print(df_tsv)"
   ]
  }
 ],
 "metadata": {
  "kernelspec": {
   "display_name": "Python 3",
   "language": "python",
   "name": "python3"
  },
  "language_info": {
   "codemirror_mode": {
    "name": "ipython",
    "version": 3
   },
   "file_extension": ".py",
   "mimetype": "text/x-python",
   "name": "python",
   "nbconvert_exporter": "python",
   "pygments_lexer": "ipython3",
   "version": "3.11.4"
  }
 },
 "nbformat": 4,
 "nbformat_minor": 2
}
