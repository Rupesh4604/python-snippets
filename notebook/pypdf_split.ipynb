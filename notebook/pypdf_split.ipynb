{
 "cells": [
  {
   "cell_type": "code",
   "execution_count": 1,
   "id": "bb2fe6df",
   "metadata": {},
   "outputs": [],
   "source": [
    "import pypdf"
   ]
  },
  {
   "cell_type": "code",
   "execution_count": 2,
   "id": "7cc4982e",
   "metadata": {},
   "outputs": [
    {
     "name": "stdout",
     "output_type": "stream",
     "text": [
      "3.7.1\n"
     ]
    }
   ],
   "source": [
    "print(pypdf.__version__)"
   ]
  },
  {
   "cell_type": "code",
   "execution_count": 3,
   "id": "a2531c04",
   "metadata": {},
   "outputs": [],
   "source": [
    "merger = pypdf.PdfMerger()\n",
    "merger.append('data/src/pdf/sample1.pdf', pages=pypdf.PageRange(':2'))\n",
    "merger.write('data/temp/sample_split1.pdf')\n",
    "merger.close()"
   ]
  },
  {
   "cell_type": "code",
   "execution_count": 4,
   "id": "a8661824",
   "metadata": {},
   "outputs": [],
   "source": [
    "merger = pypdf.PdfMerger()\n",
    "merger.append('data/src/pdf/sample1.pdf', pages=pypdf.PageRange('2:'))\n",
    "merger.write('data/temp/sample_split2.pdf')\n",
    "merger.close()"
   ]
  }
 ],
 "metadata": {
  "kernelspec": {
   "display_name": "Python 3",
   "language": "python",
   "name": "python3"
  },
  "language_info": {
   "codemirror_mode": {
    "name": "ipython",
    "version": 3
   },
   "file_extension": ".py",
   "mimetype": "text/x-python",
   "name": "python",
   "nbconvert_exporter": "python",
   "pygments_lexer": "ipython3",
   "version": "3.11.3"
  }
 },
 "nbformat": 4,
 "nbformat_minor": 5
}
