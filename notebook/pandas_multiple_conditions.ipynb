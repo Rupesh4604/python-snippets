{
 "cells": [
  {
   "cell_type": "code",
   "execution_count": 1,
   "metadata": {},
   "outputs": [],
   "source": [
    "import pandas as pd"
   ]
  },
  {
   "cell_type": "code",
   "execution_count": 2,
   "metadata": {},
   "outputs": [
    {
     "name": "stdout",
     "output_type": "stream",
     "text": [
      "2.0.3\n"
     ]
    }
   ],
   "source": [
    "print(pd.__version__)"
   ]
  },
  {
   "cell_type": "code",
   "execution_count": 3,
   "metadata": {},
   "outputs": [
    {
     "name": "stdout",
     "output_type": "stream",
     "text": [
      "      name  age state  point\n",
      "0    Alice   24    NY     64\n",
      "1      Bob   42    CA     92\n",
      "2  Charlie   18    CA     70\n",
      "3     Dave   68    TX     70\n",
      "4    Ellen   24    CA     88\n",
      "5    Frank   30    NY     57\n"
     ]
    }
   ],
   "source": [
    "df = pd.read_csv('data/src/sample_pandas_normal.csv')\n",
    "print(df)"
   ]
  },
  {
   "cell_type": "code",
   "execution_count": 4,
   "metadata": {},
   "outputs": [
    {
     "name": "stdout",
     "output_type": "stream",
     "text": [
      "      name  age state  point\n",
      "0    Alice   24    NY     64\n",
      "2  Charlie   18    CA     70\n",
      "4    Ellen   24    CA     88\n"
     ]
    }
   ],
   "source": [
    "mask = [True, False, True, False, True, False]\n",
    "print(df[mask])"
   ]
  },
  {
   "cell_type": "code",
   "execution_count": 5,
   "metadata": {},
   "outputs": [
    {
     "name": "stdout",
     "output_type": "stream",
     "text": [
      "0     True\n",
      "1    False\n",
      "2     True\n",
      "3    False\n",
      "4     True\n",
      "5    False\n",
      "Name: age, dtype: bool\n"
     ]
    }
   ],
   "source": [
    "print(df['age'] < 25)"
   ]
  },
  {
   "cell_type": "code",
   "execution_count": 6,
   "metadata": {},
   "outputs": [
    {
     "name": "stdout",
     "output_type": "stream",
     "text": [
      "      name  age state  point\n",
      "0    Alice   24    NY     64\n",
      "2  Charlie   18    CA     70\n",
      "4    Ellen   24    CA     88\n"
     ]
    }
   ],
   "source": [
    "print(df[df['age'] < 25])"
   ]
  },
  {
   "cell_type": "code",
   "execution_count": 7,
   "metadata": {},
   "outputs": [
    {
     "name": "stdout",
     "output_type": "stream",
     "text": [
      "0     True\n",
      "1    False\n",
      "2     True\n",
      "3     True\n",
      "4    False\n",
      "5    False\n",
      "Name: name, dtype: bool\n"
     ]
    }
   ],
   "source": [
    "print(df['name'].str.endswith('e'))"
   ]
  },
  {
   "cell_type": "code",
   "execution_count": 8,
   "metadata": {},
   "outputs": [
    {
     "name": "stdout",
     "output_type": "stream",
     "text": [
      "      name  age state  point\n",
      "0    Alice   24    NY     64\n",
      "2  Charlie   18    CA     70\n",
      "3     Dave   68    TX     70\n"
     ]
    }
   ],
   "source": [
    "print(df[df['name'].str.endswith('e')])"
   ]
  },
  {
   "cell_type": "code",
   "execution_count": 9,
   "metadata": {},
   "outputs": [
    {
     "name": "stdout",
     "output_type": "stream",
     "text": [
      "0     True\n",
      "1    False\n",
      "2     True\n",
      "3    False\n",
      "4    False\n",
      "5    False\n",
      "dtype: bool\n"
     ]
    }
   ],
   "source": [
    "print((df['age'] < 25) & df['name'].str.endswith('e'))"
   ]
  },
  {
   "cell_type": "code",
   "execution_count": 10,
   "metadata": {},
   "outputs": [
    {
     "name": "stdout",
     "output_type": "stream",
     "text": [
      "      name  age state  point\n",
      "0    Alice   24    NY     64\n",
      "2  Charlie   18    CA     70\n"
     ]
    }
   ],
   "source": [
    "print(df[(df['age'] < 25) & df['name'].str.endswith('e')])"
   ]
  },
  {
   "cell_type": "code",
   "execution_count": 11,
   "metadata": {},
   "outputs": [
    {
     "name": "stdout",
     "output_type": "stream",
     "text": [
      "0    False\n",
      "1     True\n",
      "2    False\n",
      "3    False\n",
      "4     True\n",
      "5     True\n",
      "Name: name, dtype: bool\n"
     ]
    }
   ],
   "source": [
    "print(~df['name'].str.endswith('e'))"
   ]
  },
  {
   "cell_type": "code",
   "execution_count": 12,
   "metadata": {},
   "outputs": [
    {
     "name": "stdout",
     "output_type": "stream",
     "text": [
      "0     True\n",
      "1    False\n",
      "2    False\n",
      "3    False\n",
      "4    False\n",
      "5     True\n",
      "Name: point, dtype: bool\n"
     ]
    }
   ],
   "source": [
    "print(df['point'] < 65)"
   ]
  },
  {
   "cell_type": "code",
   "execution_count": 13,
   "metadata": {},
   "outputs": [
    {
     "name": "stdout",
     "output_type": "stream",
     "text": [
      "0     True\n",
      "1     True\n",
      "2    False\n",
      "3    False\n",
      "4     True\n",
      "5     True\n",
      "dtype: bool\n"
     ]
    }
   ],
   "source": [
    "print(~df['name'].str.endswith('e') | (df['point'] < 65))"
   ]
  },
  {
   "cell_type": "code",
   "execution_count": 14,
   "metadata": {},
   "outputs": [
    {
     "name": "stdout",
     "output_type": "stream",
     "text": [
      "    name  age state  point\n",
      "0  Alice   24    NY     64\n",
      "1    Bob   42    CA     92\n",
      "4  Ellen   24    CA     88\n",
      "5  Frank   30    NY     57\n"
     ]
    }
   ],
   "source": [
    "print(df[~df['name'].str.endswith('e') | (df['point'] < 65)])"
   ]
  },
  {
   "cell_type": "code",
   "execution_count": 15,
   "metadata": {},
   "outputs": [
    {
     "name": "stdout",
     "output_type": "stream",
     "text": [
      "0     True\n",
      "1    False\n",
      "2    False\n",
      "3     True\n",
      "4    False\n",
      "5     True\n",
      "Name: state, dtype: bool\n"
     ]
    }
   ],
   "source": [
    "print(df['state'].isin(['NY', 'TX']))"
   ]
  },
  {
   "cell_type": "code",
   "execution_count": 16,
   "metadata": {},
   "outputs": [
    {
     "name": "stdout",
     "output_type": "stream",
     "text": [
      "    name  age state  point\n",
      "0  Alice   24    NY     64\n",
      "3   Dave   68    TX     70\n",
      "5  Frank   30    NY     57\n"
     ]
    }
   ],
   "source": [
    "print(df[df['state'].isin(['NY', 'TX'])])"
   ]
  },
  {
   "cell_type": "code",
   "execution_count": 17,
   "metadata": {},
   "outputs": [
    {
     "name": "stdout",
     "output_type": "stream",
     "text": [
      "    name  age state  point\n",
      "0  Alice   24    NY     64\n",
      "3   Dave   68    TX     70\n",
      "5  Frank   30    NY     57\n"
     ]
    }
   ],
   "source": [
    "print(df[(df['state'] == 'NY') | (df['state'] == 'TX')])"
   ]
  },
  {
   "cell_type": "code",
   "execution_count": 18,
   "metadata": {},
   "outputs": [
    {
     "name": "stdout",
     "output_type": "stream",
     "text": [
      "      name  age state  point\n",
      "0    Alice   24    NY     64\n",
      "2  Charlie   18    CA     70\n",
      "5    Frank   30    NY     57\n"
     ]
    }
   ],
   "source": [
    "print(df[df['name'].str.contains('li') | df['name'].str.endswith('k')])"
   ]
  },
  {
   "cell_type": "code",
   "execution_count": 19,
   "metadata": {
    "scrolled": true
   },
   "outputs": [
    {
     "name": "stdout",
     "output_type": "stream",
     "text": [
      "      name  age state  point\n",
      "0    Alice   24    NY     64\n",
      "2  Charlie   18    CA     70\n",
      "3     Dave   68    TX     70\n",
      "4    Ellen   24    CA     88\n",
      "5    Frank   30    NY     57\n"
     ]
    }
   ],
   "source": [
    "df_multi_1 = df[(df['age'] < 35) | ~(df['state'] == 'NY') & (df['point'] < 75)]\n",
    "print(df_multi_1)"
   ]
  },
  {
   "cell_type": "code",
   "execution_count": 20,
   "metadata": {},
   "outputs": [
    {
     "name": "stdout",
     "output_type": "stream",
     "text": [
      "      name  age state  point\n",
      "0    Alice   24    NY     64\n",
      "1      Bob   42    CA     92\n",
      "2  Charlie   18    CA     70\n",
      "3     Dave   68    TX     70\n",
      "4    Ellen   24    CA     88\n",
      "5    Frank   30    NY     57\n"
     ]
    }
   ],
   "source": [
    "df_multi_2 = df[(df['age'] < 35) & (df['point'] < 75) | ~(df['state'] == 'NY')]\n",
    "print(df_multi_2)"
   ]
  },
  {
   "cell_type": "code",
   "execution_count": 21,
   "metadata": {},
   "outputs": [
    {
     "name": "stdout",
     "output_type": "stream",
     "text": [
      "      name  age state  point\n",
      "0    Alice   24    NY     64\n",
      "2  Charlie   18    CA     70\n",
      "3     Dave   68    TX     70\n",
      "5    Frank   30    NY     57\n"
     ]
    }
   ],
   "source": [
    "df_multi_3 = df[((df['age'] < 35) | ~(df['state'] == 'NY')) & (df['point'] < 75)]\n",
    "print(df_multi_3)"
   ]
  }
 ],
 "metadata": {
  "kernelspec": {
   "display_name": "Python 3",
   "language": "python",
   "name": "python3"
  },
  "language_info": {
   "codemirror_mode": {
    "name": "ipython",
    "version": 3
   },
   "file_extension": ".py",
   "mimetype": "text/x-python",
   "name": "python",
   "nbconvert_exporter": "python",
   "pygments_lexer": "ipython3",
   "version": "3.11.4"
  }
 },
 "nbformat": 4,
 "nbformat_minor": 2
}
