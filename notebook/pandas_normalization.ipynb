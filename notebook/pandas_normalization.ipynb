{
 "cells": [
  {
   "cell_type": "code",
   "execution_count": 1,
   "metadata": {},
   "outputs": [],
   "source": [
    "import pandas as pd\n",
    "import scipy.stats\n",
    "from sklearn import preprocessing"
   ]
  },
  {
   "cell_type": "code",
   "execution_count": 2,
   "metadata": {},
   "outputs": [
    {
     "name": "stdout",
     "output_type": "stream",
     "text": [
      "2.1.4\n"
     ]
    }
   ],
   "source": [
    "print(pd.__version__)"
   ]
  },
  {
   "cell_type": "code",
   "execution_count": 3,
   "metadata": {},
   "outputs": [
    {
     "name": "stdout",
     "output_type": "stream",
     "text": [
      "1.11.4\n"
     ]
    }
   ],
   "source": [
    "print(scipy.__version__)"
   ]
  },
  {
   "cell_type": "code",
   "execution_count": 4,
   "metadata": {},
   "outputs": [],
   "source": [
    "import sklearn  # Required only for version check"
   ]
  },
  {
   "cell_type": "code",
   "execution_count": 5,
   "metadata": {},
   "outputs": [
    {
     "name": "stdout",
     "output_type": "stream",
     "text": [
      "1.3.2\n"
     ]
    }
   ],
   "source": [
    "print(sklearn.__version__)"
   ]
  },
  {
   "cell_type": "code",
   "execution_count": 6,
   "metadata": {},
   "outputs": [
    {
     "name": "stdout",
     "output_type": "stream",
     "text": [
      "      col1  col2  col3\n",
      "row1     0     1     2\n",
      "row2     3     4     5\n",
      "row3     6     7     8\n"
     ]
    }
   ],
   "source": [
    "df = pd.DataFrame([[0, 1, 2], [3, 4, 5], [6, 7, 8]],\n",
    "                  columns=['col1', 'col2', 'col3'],\n",
    "                  index=['row1', 'row2', 'row3'])\n",
    "print(df)"
   ]
  },
  {
   "cell_type": "code",
   "execution_count": 7,
   "metadata": {},
   "outputs": [
    {
     "name": "stdout",
     "output_type": "stream",
     "text": [
      "row1    0\n",
      "row2    3\n",
      "row3    6\n",
      "Name: col1, dtype: int64\n"
     ]
    }
   ],
   "source": [
    "s = df['col1']\n",
    "print(s)"
   ]
  },
  {
   "cell_type": "code",
   "execution_count": 8,
   "metadata": {},
   "outputs": [
    {
     "name": "stdout",
     "output_type": "stream",
     "text": [
      "          col1      col2      col3\n",
      "row1 -1.224745 -1.224745 -1.224745\n",
      "row2  0.000000  0.000000  0.000000\n",
      "row3  1.224745  1.224745  1.224745\n"
     ]
    }
   ],
   "source": [
    "print(scipy.stats.zscore(df))"
   ]
  },
  {
   "cell_type": "code",
   "execution_count": 9,
   "metadata": {},
   "outputs": [
    {
     "name": "stdout",
     "output_type": "stream",
     "text": [
      "      col1  col2  col3\n",
      "row1  -1.0   0.0   1.0\n",
      "row2  -1.0   0.0   1.0\n",
      "row3  -1.0   0.0   1.0\n"
     ]
    }
   ],
   "source": [
    "print(scipy.stats.zscore(df, axis=1, ddof=1))"
   ]
  },
  {
   "cell_type": "code",
   "execution_count": 10,
   "metadata": {},
   "outputs": [],
   "source": [
    "# print(scipy.stats.zscore(df, axis=None))\n",
    "# ValueError: Unable to coerce to DataFrame, shape must be (3, 3): given (1, 1)"
   ]
  },
  {
   "cell_type": "code",
   "execution_count": 11,
   "metadata": {},
   "outputs": [
    {
     "name": "stdout",
     "output_type": "stream",
     "text": [
      "[[-1.54919334 -1.161895   -0.77459667]\n",
      " [-0.38729833  0.          0.38729833]\n",
      " [ 0.77459667  1.161895    1.54919334]]\n"
     ]
    }
   ],
   "source": [
    "print(scipy.stats.zscore(df.values, axis=None))"
   ]
  },
  {
   "cell_type": "code",
   "execution_count": 12,
   "metadata": {},
   "outputs": [
    {
     "name": "stdout",
     "output_type": "stream",
     "text": [
      "          col1      col2      col3\n",
      "row1 -1.549193 -1.161895 -0.774597\n",
      "row2 -0.387298  0.000000  0.387298\n",
      "row3  0.774597  1.161895  1.549193\n"
     ]
    }
   ],
   "source": [
    "print(pd.DataFrame(scipy.stats.zscore(df.values, axis=None),\n",
    "                   index=df.index, columns=df.columns))"
   ]
  },
  {
   "cell_type": "code",
   "execution_count": 13,
   "metadata": {},
   "outputs": [
    {
     "name": "stdout",
     "output_type": "stream",
     "text": [
      "row1   -1.224745\n",
      "row2    0.000000\n",
      "row3    1.224745\n",
      "Name: col1, dtype: float64\n"
     ]
    }
   ],
   "source": [
    "print(scipy.stats.zscore(s))"
   ]
  },
  {
   "cell_type": "code",
   "execution_count": 14,
   "metadata": {},
   "outputs": [],
   "source": [
    "mm = preprocessing.MinMaxScaler()"
   ]
  },
  {
   "cell_type": "code",
   "execution_count": 15,
   "metadata": {},
   "outputs": [
    {
     "name": "stdout",
     "output_type": "stream",
     "text": [
      "[[0.  0.  0. ]\n",
      " [0.5 0.5 0.5]\n",
      " [1.  1.  1. ]]\n"
     ]
    }
   ],
   "source": [
    "print(mm.fit_transform(df))"
   ]
  },
  {
   "cell_type": "code",
   "execution_count": 16,
   "metadata": {},
   "outputs": [
    {
     "name": "stdout",
     "output_type": "stream",
     "text": [
      "[[0.  0.  0. ]\n",
      " [0.5 0.5 0.5]\n",
      " [1.  1.  1. ]]\n"
     ]
    }
   ],
   "source": [
    "print(preprocessing.minmax_scale(df))"
   ]
  },
  {
   "cell_type": "code",
   "execution_count": 17,
   "metadata": {},
   "outputs": [
    {
     "name": "stdout",
     "output_type": "stream",
     "text": [
      "[[-1.22474487 -1.22474487 -1.22474487]\n",
      " [ 0.          0.          0.        ]\n",
      " [ 1.22474487  1.22474487  1.22474487]]\n"
     ]
    }
   ],
   "source": [
    "print(preprocessing.scale(df))"
   ]
  },
  {
   "cell_type": "code",
   "execution_count": 18,
   "metadata": {},
   "outputs": [
    {
     "name": "stdout",
     "output_type": "stream",
     "text": [
      "      col1  col2  col3\n",
      "row1   0.0   0.5   1.0\n",
      "row2   0.0   0.5   1.0\n",
      "row3   0.0   0.5   1.0\n"
     ]
    }
   ],
   "source": [
    "print(pd.DataFrame(preprocessing.minmax_scale(df, axis=1),\n",
    "                   index=df.index, columns=df.columns))"
   ]
  },
  {
   "cell_type": "code",
   "execution_count": 19,
   "metadata": {},
   "outputs": [],
   "source": [
    "# print(mm.fit_transform(s))\n",
    "# ValueError: Expected 2D array, got 1D array instead:"
   ]
  },
  {
   "cell_type": "code",
   "execution_count": 20,
   "metadata": {},
   "outputs": [
    {
     "name": "stdout",
     "output_type": "stream",
     "text": [
      "[0.  0.5 1. ]\n"
     ]
    }
   ],
   "source": [
    "print(preprocessing.minmax_scale(s))"
   ]
  },
  {
   "cell_type": "code",
   "execution_count": 21,
   "metadata": {},
   "outputs": [
    {
     "name": "stdout",
     "output_type": "stream",
     "text": [
      "row1    0.0\n",
      "row2    0.5\n",
      "row3    1.0\n",
      "Name: col1, dtype: float64\n"
     ]
    }
   ],
   "source": [
    "print(pd.Series(preprocessing.minmax_scale(s), index=s.index, name=s.name))"
   ]
  },
  {
   "cell_type": "code",
   "execution_count": 22,
   "metadata": {},
   "outputs": [],
   "source": [
    "df_copy = df.copy()\n",
    "df_copy['col1_min_max'] = preprocessing.minmax_scale(s)\n",
    "df_copy['col1_standardization'] = preprocessing.scale(s)"
   ]
  },
  {
   "cell_type": "code",
   "execution_count": 23,
   "metadata": {},
   "outputs": [
    {
     "name": "stdout",
     "output_type": "stream",
     "text": [
      "      col1  col2  col3  col1_min_max  col1_standardization\n",
      "row1     0     1     2           0.0             -1.224745\n",
      "row2     3     4     5           0.5              0.000000\n",
      "row3     6     7     8           1.0              1.224745\n"
     ]
    }
   ],
   "source": [
    "print(df_copy)"
   ]
  },
  {
   "cell_type": "code",
   "execution_count": 24,
   "metadata": {},
   "outputs": [
    {
     "name": "stdout",
     "output_type": "stream",
     "text": [
      "      col1  col2  col3\n",
      "row1   0.0   0.0   0.0\n",
      "row2   0.5   0.5   0.5\n",
      "row3   1.0   1.0   1.0\n"
     ]
    }
   ],
   "source": [
    "print((df - df.min()) / (df.max() - df.min()))"
   ]
  },
  {
   "cell_type": "code",
   "execution_count": 25,
   "metadata": {},
   "outputs": [
    {
     "name": "stdout",
     "output_type": "stream",
     "text": [
      "      col1  col2  col3\n",
      "row1  -1.0  -1.0  -1.0\n",
      "row2   0.0   0.0   0.0\n",
      "row3   1.0   1.0   1.0\n"
     ]
    }
   ],
   "source": [
    "print((df - df.mean()) / df.std())"
   ]
  },
  {
   "cell_type": "code",
   "execution_count": 26,
   "metadata": {},
   "outputs": [
    {
     "name": "stdout",
     "output_type": "stream",
     "text": [
      "          col1      col2      col3\n",
      "row1 -1.224745 -1.224745 -1.224745\n",
      "row2  0.000000  0.000000  0.000000\n",
      "row3  1.224745  1.224745  1.224745\n"
     ]
    }
   ],
   "source": [
    "print((df - df.mean()) / df.std(ddof=0))"
   ]
  },
  {
   "cell_type": "code",
   "execution_count": 27,
   "metadata": {},
   "outputs": [
    {
     "name": "stdout",
     "output_type": "stream",
     "text": [
      "      col1  col2  col3\n",
      "row1   0.0   0.5   1.0\n",
      "row2   0.0   0.5   1.0\n",
      "row3   0.0   0.5   1.0\n"
     ]
    }
   ],
   "source": [
    "print(((df.T - df.T.min()) / (df.T.max() - df.T.min())).T)"
   ]
  },
  {
   "cell_type": "code",
   "execution_count": 28,
   "metadata": {},
   "outputs": [
    {
     "name": "stdout",
     "output_type": "stream",
     "text": [
      "      col1  col2  col3\n",
      "row1  -1.0   0.0   1.0\n",
      "row2  -1.0   0.0   1.0\n",
      "row3  -1.0   0.0   1.0\n"
     ]
    }
   ],
   "source": [
    "print(((df.T - df.T.mean()) / df.T.std()).T)"
   ]
  },
  {
   "cell_type": "code",
   "execution_count": 29,
   "metadata": {},
   "outputs": [
    {
     "name": "stdout",
     "output_type": "stream",
     "text": [
      "          col1  col2      col3\n",
      "row1 -1.224745   0.0  1.224745\n",
      "row2 -1.224745   0.0  1.224745\n",
      "row3 -1.224745   0.0  1.224745\n"
     ]
    }
   ],
   "source": [
    "print(((df.T - df.T.mean()) / df.T.std(ddof=0)).T)"
   ]
  },
  {
   "cell_type": "code",
   "execution_count": 30,
   "metadata": {},
   "outputs": [
    {
     "name": "stdout",
     "output_type": "stream",
     "text": [
      "       col1   col2   col3\n",
      "row1  0.000  0.125  0.250\n",
      "row2  0.375  0.500  0.625\n",
      "row3  0.750  0.875  1.000\n"
     ]
    }
   ],
   "source": [
    "print((df - df.min(None)) / (df.max(None) - df.min(None)))"
   ]
  },
  {
   "cell_type": "code",
   "execution_count": 31,
   "metadata": {},
   "outputs": [
    {
     "name": "stdout",
     "output_type": "stream",
     "text": [
      "          col1      col2      col3\n",
      "row1 -1.549193 -1.161895 -0.774597\n",
      "row2 -0.387298  0.000000  0.387298\n",
      "row3  0.774597  1.161895  1.549193\n"
     ]
    }
   ],
   "source": [
    "print((df - df.mean(None)) / df.values.std())"
   ]
  },
  {
   "cell_type": "code",
   "execution_count": 32,
   "metadata": {},
   "outputs": [
    {
     "name": "stdout",
     "output_type": "stream",
     "text": [
      "          col1      col2      col3\n",
      "row1 -1.460593 -1.095445 -0.730297\n",
      "row2 -0.365148  0.000000  0.365148\n",
      "row3  0.730297  1.095445  1.460593\n"
     ]
    }
   ],
   "source": [
    "print((df - df.mean(None)) / df.values.std(ddof=1))"
   ]
  },
  {
   "cell_type": "code",
   "execution_count": 33,
   "metadata": {},
   "outputs": [
    {
     "name": "stdout",
     "output_type": "stream",
     "text": [
      "row1    0.0\n",
      "row2    0.5\n",
      "row3    1.0\n",
      "Name: col1, dtype: float64\n"
     ]
    }
   ],
   "source": [
    "print((s - s.min()) / (s.max() - s.min()))"
   ]
  },
  {
   "cell_type": "code",
   "execution_count": 34,
   "metadata": {},
   "outputs": [
    {
     "name": "stdout",
     "output_type": "stream",
     "text": [
      "row1   -1.0\n",
      "row2    0.0\n",
      "row3    1.0\n",
      "Name: col1, dtype: float64\n"
     ]
    }
   ],
   "source": [
    "print((s - s.mean()) / s.std())"
   ]
  },
  {
   "cell_type": "code",
   "execution_count": 35,
   "metadata": {},
   "outputs": [
    {
     "name": "stdout",
     "output_type": "stream",
     "text": [
      "row1   -1.224745\n",
      "row2    0.000000\n",
      "row3    1.224745\n",
      "Name: col1, dtype: float64\n"
     ]
    }
   ],
   "source": [
    "print((s - s.mean()) / s.std(ddof=0))"
   ]
  }
 ],
 "metadata": {
  "kernelspec": {
   "display_name": "Python 3",
   "language": "python",
   "name": "python3"
  },
  "language_info": {
   "codemirror_mode": {
    "name": "ipython",
    "version": 3
   },
   "file_extension": ".py",
   "mimetype": "text/x-python",
   "name": "python",
   "nbconvert_exporter": "python",
   "pygments_lexer": "ipython3",
   "version": "3.11.6"
  }
 },
 "nbformat": 4,
 "nbformat_minor": 2
}
