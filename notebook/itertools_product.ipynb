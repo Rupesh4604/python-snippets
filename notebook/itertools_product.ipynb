{
 "cells": [
  {
   "cell_type": "code",
   "execution_count": 1,
   "metadata": {},
   "outputs": [],
   "source": [
    "import itertools\n",
    "import pprint"
   ]
  },
  {
   "cell_type": "code",
   "execution_count": 2,
   "metadata": {},
   "outputs": [],
   "source": [
    "l1 = [1, 2, 3]\n",
    "l2 = ['A', 'B']"
   ]
  },
  {
   "cell_type": "code",
   "execution_count": 3,
   "metadata": {},
   "outputs": [
    {
     "name": "stdout",
     "output_type": "stream",
     "text": [
      "<itertools.product object at 0x105e6e2c0>\n"
     ]
    }
   ],
   "source": [
    "p = itertools.product(l1, l2)\n",
    "print(p)"
   ]
  },
  {
   "cell_type": "code",
   "execution_count": 4,
   "metadata": {},
   "outputs": [
    {
     "name": "stdout",
     "output_type": "stream",
     "text": [
      "<class 'itertools.product'>\n"
     ]
    }
   ],
   "source": [
    "print(type(p))"
   ]
  },
  {
   "cell_type": "code",
   "execution_count": 5,
   "metadata": {},
   "outputs": [
    {
     "name": "stdout",
     "output_type": "stream",
     "text": [
      "(1, 'A')\n",
      "(1, 'B')\n",
      "(2, 'A')\n",
      "(2, 'B')\n",
      "(3, 'A')\n",
      "(3, 'B')\n"
     ]
    }
   ],
   "source": [
    "for v in p:\n",
    "    print(v)"
   ]
  },
  {
   "cell_type": "code",
   "execution_count": 6,
   "metadata": {},
   "outputs": [],
   "source": [
    "for v in p:\n",
    "    print(v)"
   ]
  },
  {
   "cell_type": "code",
   "execution_count": 7,
   "metadata": {},
   "outputs": [
    {
     "name": "stdout",
     "output_type": "stream",
     "text": [
      "1 A\n",
      "1 B\n",
      "2 A\n",
      "2 B\n",
      "3 A\n",
      "3 B\n"
     ]
    }
   ],
   "source": [
    "for v1, v2 in itertools.product(l1, l2):\n",
    "    print(v1, v2)"
   ]
  },
  {
   "cell_type": "code",
   "execution_count": 8,
   "metadata": {},
   "outputs": [
    {
     "name": "stdout",
     "output_type": "stream",
     "text": [
      "1 A\n",
      "1 B\n",
      "2 A\n",
      "2 B\n",
      "3 A\n",
      "3 B\n"
     ]
    }
   ],
   "source": [
    "for v1 in l1:\n",
    "    for v2 in l2:\n",
    "        print(v1, v2)"
   ]
  },
  {
   "cell_type": "code",
   "execution_count": 9,
   "metadata": {},
   "outputs": [],
   "source": [
    "l1 = [1, 2, 3]\n",
    "l2 = ['A', 'B']"
   ]
  },
  {
   "cell_type": "code",
   "execution_count": 10,
   "metadata": {},
   "outputs": [
    {
     "name": "stdout",
     "output_type": "stream",
     "text": [
      "[(1, 'A'), (1, 'B'), (2, 'A'), (2, 'B'), (3, 'A'), (3, 'B')]\n"
     ]
    }
   ],
   "source": [
    "l_p = list(itertools.product(l1, l2))\n",
    "print(l_p)"
   ]
  },
  {
   "cell_type": "code",
   "execution_count": 11,
   "metadata": {},
   "outputs": [
    {
     "name": "stdout",
     "output_type": "stream",
     "text": [
      "<class 'list'>\n"
     ]
    }
   ],
   "source": [
    "print(type(l_p))"
   ]
  },
  {
   "cell_type": "code",
   "execution_count": 12,
   "metadata": {},
   "outputs": [
    {
     "name": "stdout",
     "output_type": "stream",
     "text": [
      "<class 'tuple'>\n"
     ]
    }
   ],
   "source": [
    "print(type(l_p[0]))"
   ]
  },
  {
   "cell_type": "code",
   "execution_count": 13,
   "metadata": {},
   "outputs": [],
   "source": [
    "t = ('A', 'B')\n",
    "d = {'key1': 'value1', 'key2': 'value2'}\n",
    "r = range(2)"
   ]
  },
  {
   "cell_type": "code",
   "execution_count": 14,
   "metadata": {},
   "outputs": [
    {
     "name": "stdout",
     "output_type": "stream",
     "text": [
      "[('A', 'key1', 0),\n",
      " ('A', 'key1', 1),\n",
      " ('A', 'key2', 0),\n",
      " ('A', 'key2', 1),\n",
      " ('B', 'key1', 0),\n",
      " ('B', 'key1', 1),\n",
      " ('B', 'key2', 0),\n",
      " ('B', 'key2', 1)]\n"
     ]
    }
   ],
   "source": [
    "pprint.pprint(list(itertools.product(t, d, r)))"
   ]
  },
  {
   "cell_type": "code",
   "execution_count": 15,
   "metadata": {},
   "outputs": [],
   "source": [
    "l1 = ['A', 'B']"
   ]
  },
  {
   "cell_type": "code",
   "execution_count": 16,
   "metadata": {},
   "outputs": [
    {
     "name": "stdout",
     "output_type": "stream",
     "text": [
      "[('A', 'A', 'A'),\n",
      " ('A', 'A', 'B'),\n",
      " ('A', 'B', 'A'),\n",
      " ('A', 'B', 'B'),\n",
      " ('B', 'A', 'A'),\n",
      " ('B', 'A', 'B'),\n",
      " ('B', 'B', 'A'),\n",
      " ('B', 'B', 'B')]\n"
     ]
    }
   ],
   "source": [
    "pprint.pprint(list(itertools.product(l1, repeat=3)))"
   ]
  },
  {
   "cell_type": "code",
   "execution_count": 17,
   "metadata": {},
   "outputs": [
    {
     "name": "stdout",
     "output_type": "stream",
     "text": [
      "[('A', 'A', 'A'),\n",
      " ('A', 'A', 'B'),\n",
      " ('A', 'B', 'A'),\n",
      " ('A', 'B', 'B'),\n",
      " ('B', 'A', 'A'),\n",
      " ('B', 'A', 'B'),\n",
      " ('B', 'B', 'A'),\n",
      " ('B', 'B', 'B')]\n"
     ]
    }
   ],
   "source": [
    "pprint.pprint(list(itertools.product(l1, l1, l1)))"
   ]
  },
  {
   "cell_type": "code",
   "execution_count": 18,
   "metadata": {},
   "outputs": [],
   "source": [
    "l1 = [1, 2]\n",
    "l2 = ['A', 'B']"
   ]
  },
  {
   "cell_type": "code",
   "execution_count": 19,
   "metadata": {},
   "outputs": [
    {
     "name": "stdout",
     "output_type": "stream",
     "text": [
      "[(1, 'A', 1, 'A'),\n",
      " (1, 'A', 1, 'B'),\n",
      " (1, 'A', 2, 'A'),\n",
      " (1, 'A', 2, 'B'),\n",
      " (1, 'B', 1, 'A'),\n",
      " (1, 'B', 1, 'B'),\n",
      " (1, 'B', 2, 'A'),\n",
      " (1, 'B', 2, 'B'),\n",
      " (2, 'A', 1, 'A'),\n",
      " (2, 'A', 1, 'B'),\n",
      " (2, 'A', 2, 'A'),\n",
      " (2, 'A', 2, 'B'),\n",
      " (2, 'B', 1, 'A'),\n",
      " (2, 'B', 1, 'B'),\n",
      " (2, 'B', 2, 'A'),\n",
      " (2, 'B', 2, 'B')]\n"
     ]
    }
   ],
   "source": [
    "pprint.pprint(list(itertools.product(l1, l2, repeat=2)))"
   ]
  },
  {
   "cell_type": "code",
   "execution_count": 20,
   "metadata": {},
   "outputs": [
    {
     "name": "stdout",
     "output_type": "stream",
     "text": [
      "[(1, 'A', 1, 'A'),\n",
      " (1, 'A', 1, 'B'),\n",
      " (1, 'A', 2, 'A'),\n",
      " (1, 'A', 2, 'B'),\n",
      " (1, 'B', 1, 'A'),\n",
      " (1, 'B', 1, 'B'),\n",
      " (1, 'B', 2, 'A'),\n",
      " (1, 'B', 2, 'B'),\n",
      " (2, 'A', 1, 'A'),\n",
      " (2, 'A', 1, 'B'),\n",
      " (2, 'A', 2, 'A'),\n",
      " (2, 'A', 2, 'B'),\n",
      " (2, 'B', 1, 'A'),\n",
      " (2, 'B', 1, 'B'),\n",
      " (2, 'B', 2, 'A'),\n",
      " (2, 'B', 2, 'B')]\n"
     ]
    }
   ],
   "source": [
    "pprint.pprint(list(itertools.product(l1, l2, l1, l2)))"
   ]
  }
 ],
 "metadata": {
  "kernelspec": {
   "display_name": "Python 3",
   "language": "python",
   "name": "python3"
  },
  "language_info": {
   "codemirror_mode": {
    "name": "ipython",
    "version": 3
   },
   "file_extension": ".py",
   "mimetype": "text/x-python",
   "name": "python",
   "nbconvert_exporter": "python",
   "pygments_lexer": "ipython3",
   "version": "3.11.4"
  }
 },
 "nbformat": 4,
 "nbformat_minor": 2
}
