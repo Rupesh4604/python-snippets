{
 "cells": [
  {
   "cell_type": "code",
   "execution_count": 1,
   "id": "9813b02b",
   "metadata": {},
   "outputs": [],
   "source": [
    "import pandas as pd"
   ]
  },
  {
   "cell_type": "code",
   "execution_count": 2,
   "id": "07f69fba",
   "metadata": {},
   "outputs": [
    {
     "name": "stdout",
     "output_type": "stream",
     "text": [
      "2.1.2\n"
     ]
    }
   ],
   "source": [
    "print(pd.__version__)"
   ]
  },
  {
   "cell_type": "code",
   "execution_count": 3,
   "id": "5738ccf9",
   "metadata": {},
   "outputs": [
    {
     "name": "stdout",
     "output_type": "stream",
     "text": [
      "0      1\n",
      "1     10\n",
      "2    100\n",
      "dtype: int64\n"
     ]
    }
   ],
   "source": [
    "s = pd.Series([1, 10, 100])\n",
    "print(s)"
   ]
  },
  {
   "cell_type": "code",
   "execution_count": 4,
   "id": "f9c6c6fd",
   "metadata": {},
   "outputs": [
    {
     "name": "stdout",
     "output_type": "stream",
     "text": [
      "0     0x1\n",
      "1     0xa\n",
      "2    0x64\n",
      "dtype: object\n"
     ]
    }
   ],
   "source": [
    "print(s.map(hex))"
   ]
  },
  {
   "cell_type": "code",
   "execution_count": 5,
   "id": "7cef0718",
   "metadata": {},
   "outputs": [],
   "source": [
    "def my_func(x):\n",
    "    return x * 10"
   ]
  },
  {
   "cell_type": "code",
   "execution_count": 6,
   "id": "8ac69487",
   "metadata": {},
   "outputs": [
    {
     "name": "stdout",
     "output_type": "stream",
     "text": [
      "0      10\n",
      "1     100\n",
      "2    1000\n",
      "dtype: int64\n"
     ]
    }
   ],
   "source": [
    "print(s.map(my_func))"
   ]
  },
  {
   "cell_type": "code",
   "execution_count": 7,
   "id": "656a9b4e",
   "metadata": {},
   "outputs": [
    {
     "name": "stdout",
     "output_type": "stream",
     "text": [
      "0      10\n",
      "1     100\n",
      "2    1000\n",
      "dtype: int64\n"
     ]
    }
   ],
   "source": [
    "print(s.map(lambda x: x * 10))"
   ]
  },
  {
   "cell_type": "code",
   "execution_count": 8,
   "id": "7c31cf4a",
   "metadata": {},
   "outputs": [
    {
     "name": "stdout",
     "output_type": "stream",
     "text": [
      "0      10\n",
      "1     100\n",
      "2    1000\n",
      "dtype: int64\n"
     ]
    }
   ],
   "source": [
    "print(s * 10)"
   ]
  },
  {
   "cell_type": "code",
   "execution_count": 9,
   "id": "b3c17b8f",
   "metadata": {},
   "outputs": [
    {
     "name": "stdout",
     "output_type": "stream",
     "text": [
      "0      1.0\n",
      "1      NaN\n",
      "2    100.0\n",
      "dtype: float64\n"
     ]
    }
   ],
   "source": [
    "s_nan = pd.Series([1, float('nan'), 100])\n",
    "print(s_nan)"
   ]
  },
  {
   "cell_type": "code",
   "execution_count": 10,
   "id": "815dbd6d",
   "metadata": {},
   "outputs": [],
   "source": [
    "# print(s_nan.map(lambda x: hex(int(x))))\n",
    "# ValueError: cannot convert float NaN to integer"
   ]
  },
  {
   "cell_type": "code",
   "execution_count": 11,
   "id": "d8707e8a",
   "metadata": {},
   "outputs": [
    {
     "name": "stdout",
     "output_type": "stream",
     "text": [
      "0     0x1\n",
      "1     NaN\n",
      "2    0x64\n",
      "dtype: object\n"
     ]
    }
   ],
   "source": [
    "print(s_nan.map(lambda x: hex(int(x)), na_action='ignore'))"
   ]
  },
  {
   "cell_type": "code",
   "execution_count": 12,
   "id": "a5223955",
   "metadata": {},
   "outputs": [
    {
     "name": "stdout",
     "output_type": "stream",
     "text": [
      "0    11\n",
      "1    AA\n",
      "2    FF\n",
      "dtype: object\n"
     ]
    }
   ],
   "source": [
    "s = pd.Series(['11', 'AA', 'FF'])\n",
    "print(s)"
   ]
  },
  {
   "cell_type": "code",
   "execution_count": 13,
   "id": "9f0b5a3c",
   "metadata": {},
   "outputs": [],
   "source": [
    "# print(s.map(int, base=16))\n",
    "# TypeError: Series.map() got an unexpected keyword argument 'base'"
   ]
  },
  {
   "cell_type": "code",
   "execution_count": 14,
   "id": "5896349d",
   "metadata": {
    "scrolled": true
   },
   "outputs": [
    {
     "name": "stdout",
     "output_type": "stream",
     "text": [
      "0     17\n",
      "1    170\n",
      "2    255\n",
      "dtype: int64\n"
     ]
    }
   ],
   "source": [
    "print(s.map(lambda x: int(x, 16)))"
   ]
  },
  {
   "cell_type": "code",
   "execution_count": 15,
   "id": "5c2a33c5",
   "metadata": {},
   "outputs": [
    {
     "name": "stdout",
     "output_type": "stream",
     "text": [
      "0     17\n",
      "1    170\n",
      "2    255\n",
      "dtype: int64\n"
     ]
    }
   ],
   "source": [
    "print(s.apply(int, base=16))"
   ]
  },
  {
   "cell_type": "code",
   "execution_count": 16,
   "id": "6e42eff6",
   "metadata": {},
   "outputs": [
    {
     "name": "stdout",
     "output_type": "stream",
     "text": [
      "0     17\n",
      "1    170\n",
      "2    255\n",
      "dtype: int64\n"
     ]
    }
   ],
   "source": [
    "print(s.apply(int, args=(16,)))"
   ]
  }
 ],
 "metadata": {
  "kernelspec": {
   "display_name": "Python 3",
   "language": "python",
   "name": "python3"
  },
  "language_info": {
   "codemirror_mode": {
    "name": "ipython",
    "version": 3
   },
   "file_extension": ".py",
   "mimetype": "text/x-python",
   "name": "python",
   "nbconvert_exporter": "python",
   "pygments_lexer": "ipython3",
   "version": "3.11.6"
  }
 },
 "nbformat": 4,
 "nbformat_minor": 5
}
