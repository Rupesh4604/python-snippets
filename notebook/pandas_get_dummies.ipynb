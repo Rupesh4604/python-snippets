{
 "cells": [
  {
   "cell_type": "code",
   "execution_count": 1,
   "metadata": {},
   "outputs": [],
   "source": [
    "import pandas as pd"
   ]
  },
  {
   "cell_type": "code",
   "execution_count": 2,
   "metadata": {},
   "outputs": [
    {
     "name": "stdout",
     "output_type": "stream",
     "text": [
      "2.1.2\n"
     ]
    }
   ],
   "source": [
    "print(pd.__version__)"
   ]
  },
  {
   "cell_type": "code",
   "execution_count": 3,
   "metadata": {},
   "outputs": [],
   "source": [
    "df = pd.read_csv('data/src/sample_pandas_normal.csv', index_col=0)"
   ]
  },
  {
   "cell_type": "code",
   "execution_count": 4,
   "metadata": {},
   "outputs": [],
   "source": [
    "df['sex'] = ['female', float('nan'), 'male', 'male', 'female', 'male']\n",
    "df['rank'] = [2, 1, 1, 0, 2, 0]"
   ]
  },
  {
   "cell_type": "code",
   "execution_count": 5,
   "metadata": {},
   "outputs": [
    {
     "name": "stdout",
     "output_type": "stream",
     "text": [
      "         age state  point     sex  rank\n",
      "name                                   \n",
      "Alice     24    NY     64  female     2\n",
      "Bob       42    CA     92     NaN     1\n",
      "Charlie   18    CA     70    male     1\n",
      "Dave      68    TX     70    male     0\n",
      "Ellen     24    CA     88  female     2\n",
      "Frank     30    NY     57    male     0\n"
     ]
    }
   ],
   "source": [
    "print(df)"
   ]
  },
  {
   "cell_type": "code",
   "execution_count": 6,
   "metadata": {},
   "outputs": [
    {
     "name": "stdout",
     "output_type": "stream",
     "text": [
      "         female   male\n",
      "name                  \n",
      "Alice      True  False\n",
      "Bob       False  False\n",
      "Charlie   False   True\n",
      "Dave      False   True\n",
      "Ellen      True  False\n",
      "Frank     False   True\n"
     ]
    }
   ],
   "source": [
    "print(pd.get_dummies(df['sex']))"
   ]
  },
  {
   "cell_type": "code",
   "execution_count": 7,
   "metadata": {},
   "outputs": [
    {
     "name": "stdout",
     "output_type": "stream",
     "text": [
      "   female   male\n",
      "0    True  False\n",
      "1   False  False\n",
      "2   False   True\n",
      "3   False   True\n",
      "4    True  False\n",
      "5   False   True\n"
     ]
    }
   ],
   "source": [
    "print(pd.get_dummies(['female', float('nan'), 'male', 'male', 'female', 'male']))"
   ]
  },
  {
   "cell_type": "code",
   "execution_count": 8,
   "metadata": {},
   "outputs": [
    {
     "name": "stdout",
     "output_type": "stream",
     "text": [
      "         age  point  rank  state_CA  state_NY  state_TX  sex_female  sex_male\n",
      "name                                                                         \n",
      "Alice     24     64     2     False      True     False        True     False\n",
      "Bob       42     92     1      True     False     False       False     False\n",
      "Charlie   18     70     1      True     False     False       False      True\n",
      "Dave      68     70     0     False     False      True       False      True\n",
      "Ellen     24     88     2      True     False     False        True     False\n",
      "Frank     30     57     0     False      True     False       False      True\n"
     ]
    }
   ],
   "source": [
    "print(pd.get_dummies(df))"
   ]
  },
  {
   "cell_type": "code",
   "execution_count": 9,
   "metadata": {},
   "outputs": [
    {
     "name": "stdout",
     "output_type": "stream",
     "text": [
      "         age  point  rank  state_CA  state_NY  state_TX  sex_female  sex_male\n",
      "name                                                                         \n",
      "Alice     24     64     2         0         1         0           1         0\n",
      "Bob       42     92     1         1         0         0           0         0\n",
      "Charlie   18     70     1         1         0         0           0         1\n",
      "Dave      68     70     0         0         0         1           0         1\n",
      "Ellen     24     88     2         1         0         0           1         0\n",
      "Frank     30     57     0         0         1         0           0         1\n"
     ]
    }
   ],
   "source": [
    "print(pd.get_dummies(df, dtype=int))"
   ]
  },
  {
   "cell_type": "code",
   "execution_count": 10,
   "metadata": {
    "scrolled": true
   },
   "outputs": [
    {
     "name": "stdout",
     "output_type": "stream",
     "text": [
      "         age  point  rank  state_NY  state_TX  sex_male\n",
      "name                                                   \n",
      "Alice     24     64     2      True     False     False\n",
      "Bob       42     92     1     False     False     False\n",
      "Charlie   18     70     1     False     False      True\n",
      "Dave      68     70     0     False      True      True\n",
      "Ellen     24     88     2     False     False     False\n",
      "Frank     30     57     0      True     False      True\n"
     ]
    }
   ],
   "source": [
    "print(pd.get_dummies(df, drop_first=True))"
   ]
  },
  {
   "cell_type": "code",
   "execution_count": 11,
   "metadata": {},
   "outputs": [
    {
     "name": "stdout",
     "output_type": "stream",
     "text": [
      "         age  point  rank  state_NY  state_TX  state_nan  sex_male  sex_nan\n",
      "name                                                                       \n",
      "Alice     24     64     2      True     False      False     False    False\n",
      "Bob       42     92     1     False     False      False     False     True\n",
      "Charlie   18     70     1     False     False      False      True    False\n",
      "Dave      68     70     0     False      True      False      True    False\n",
      "Ellen     24     88     2     False     False      False     False    False\n",
      "Frank     30     57     0      True     False      False      True    False\n"
     ]
    }
   ],
   "source": [
    "print(pd.get_dummies(df, drop_first=True, dummy_na=True))"
   ]
  },
  {
   "cell_type": "code",
   "execution_count": 12,
   "metadata": {},
   "outputs": [
    {
     "name": "stdout",
     "output_type": "stream",
     "text": [
      "         age  point  rank     CA     NY     TX  female   male\n",
      "name                                                         \n",
      "Alice     24     64     2  False   True  False    True  False\n",
      "Bob       42     92     1   True  False  False   False  False\n",
      "Charlie   18     70     1   True  False  False   False   True\n",
      "Dave      68     70     0  False  False   True   False   True\n",
      "Ellen     24     88     2   True  False  False    True  False\n",
      "Frank     30     57     0  False   True  False   False   True\n"
     ]
    }
   ],
   "source": [
    "print(pd.get_dummies(df, prefix='', prefix_sep=''))"
   ]
  },
  {
   "cell_type": "code",
   "execution_count": 13,
   "metadata": {},
   "outputs": [
    {
     "name": "stdout",
     "output_type": "stream",
     "text": [
      "         age  point  rank  ST-CA  ST-NY  ST-TX  sex-female  sex-male\n",
      "name                                                                \n",
      "Alice     24     64     2  False   True  False        True     False\n",
      "Bob       42     92     1   True  False  False       False     False\n",
      "Charlie   18     70     1   True  False  False       False      True\n",
      "Dave      68     70     0  False  False   True       False      True\n",
      "Ellen     24     88     2   True  False  False        True     False\n",
      "Frank     30     57     0  False   True  False       False      True\n"
     ]
    }
   ],
   "source": [
    "print(pd.get_dummies(df, prefix=['ST', 'sex'], prefix_sep='-'))"
   ]
  },
  {
   "cell_type": "code",
   "execution_count": 14,
   "metadata": {},
   "outputs": [
    {
     "name": "stdout",
     "output_type": "stream",
     "text": [
      "         age  point  rank  ST-CA  ST-NY  ST-TX  sex-female  sex-male\n",
      "name                                                                \n",
      "Alice     24     64     2  False   True  False        True     False\n",
      "Bob       42     92     1   True  False  False       False     False\n",
      "Charlie   18     70     1   True  False  False       False      True\n",
      "Dave      68     70     0  False  False   True       False      True\n",
      "Ellen     24     88     2   True  False  False        True     False\n",
      "Frank     30     57     0  False   True  False       False      True\n"
     ]
    }
   ],
   "source": [
    "print(pd.get_dummies(df, prefix={'state': 'ST', 'sex': 'sex'}, prefix_sep='-'))"
   ]
  },
  {
   "cell_type": "code",
   "execution_count": 15,
   "metadata": {},
   "outputs": [
    {
     "name": "stdout",
     "output_type": "stream",
     "text": [
      "         age state  point  sex_female  sex_male  rank_0  rank_1  rank_2\n",
      "name                                                                   \n",
      "Alice     24    NY     64        True     False   False   False    True\n",
      "Bob       42    CA     92       False     False   False    True   False\n",
      "Charlie   18    CA     70       False      True   False    True   False\n",
      "Dave      68    TX     70       False      True    True   False   False\n",
      "Ellen     24    CA     88        True     False   False   False    True\n",
      "Frank     30    NY     57       False      True    True   False   False\n"
     ]
    }
   ],
   "source": [
    "print(pd.get_dummies(df, columns=['sex', 'rank']))"
   ]
  },
  {
   "cell_type": "code",
   "execution_count": 16,
   "metadata": {},
   "outputs": [],
   "source": [
    "df = pd.read_csv('data/src/sample_pandas_normal.csv', index_col=0)\n",
    "df_A, df_B = df[:3].copy(), df[3:].copy()"
   ]
  },
  {
   "cell_type": "code",
   "execution_count": 17,
   "metadata": {},
   "outputs": [
    {
     "name": "stdout",
     "output_type": "stream",
     "text": [
      "         age state  point\n",
      "name                     \n",
      "Alice     24    NY     64\n",
      "Bob       42    CA     92\n",
      "Charlie   18    CA     70\n"
     ]
    }
   ],
   "source": [
    "print(df_A)"
   ]
  },
  {
   "cell_type": "code",
   "execution_count": 18,
   "metadata": {},
   "outputs": [
    {
     "name": "stdout",
     "output_type": "stream",
     "text": [
      "       age state  point\n",
      "name                   \n",
      "Dave    68    TX     70\n",
      "Ellen   24    CA     88\n",
      "Frank   30    NY     57\n"
     ]
    }
   ],
   "source": [
    "print(df_B)"
   ]
  },
  {
   "cell_type": "code",
   "execution_count": 19,
   "metadata": {},
   "outputs": [
    {
     "name": "stdout",
     "output_type": "stream",
     "text": [
      "         age  point  state_CA  state_NY\n",
      "name                                   \n",
      "Alice     24     64     False      True\n",
      "Bob       42     92      True     False\n",
      "Charlie   18     70      True     False\n"
     ]
    }
   ],
   "source": [
    "print(pd.get_dummies(df_A))"
   ]
  },
  {
   "cell_type": "code",
   "execution_count": 20,
   "metadata": {},
   "outputs": [
    {
     "name": "stdout",
     "output_type": "stream",
     "text": [
      "       age  point  state_CA  state_NY  state_TX\n",
      "name                                           \n",
      "Dave    68     70     False     False      True\n",
      "Ellen   24     88      True     False     False\n",
      "Frank   30     57     False      True     False\n"
     ]
    }
   ],
   "source": [
    "print(pd.get_dummies(df_B))"
   ]
  },
  {
   "cell_type": "code",
   "execution_count": 21,
   "metadata": {},
   "outputs": [
    {
     "name": "stdout",
     "output_type": "stream",
     "text": [
      "{'NY', 'TX', 'CA'}\n"
     ]
    }
   ],
   "source": [
    "categories = set(df_A['state'].tolist() + df_B['state'].tolist())\n",
    "print(categories)"
   ]
  },
  {
   "cell_type": "code",
   "execution_count": 22,
   "metadata": {},
   "outputs": [],
   "source": [
    "df_A['state'] = pd.Categorical(df_A['state'], categories)\n",
    "df_B['state'] = pd.Categorical(df_B['state'], categories)"
   ]
  },
  {
   "cell_type": "code",
   "execution_count": 23,
   "metadata": {},
   "outputs": [
    {
     "name": "stdout",
     "output_type": "stream",
     "text": [
      "category\n"
     ]
    }
   ],
   "source": [
    "print(df_A['state'].dtypes)"
   ]
  },
  {
   "cell_type": "code",
   "execution_count": 24,
   "metadata": {},
   "outputs": [
    {
     "name": "stdout",
     "output_type": "stream",
     "text": [
      "         age  point  state_NY  state_TX  state_CA\n",
      "name                                             \n",
      "Alice     24     64      True     False     False\n",
      "Bob       42     92     False     False      True\n",
      "Charlie   18     70     False     False      True\n"
     ]
    }
   ],
   "source": [
    "print(pd.get_dummies(df_A))"
   ]
  },
  {
   "cell_type": "code",
   "execution_count": 25,
   "metadata": {},
   "outputs": [
    {
     "name": "stdout",
     "output_type": "stream",
     "text": [
      "       age  point  state_NY  state_TX  state_CA\n",
      "name                                           \n",
      "Dave    68     70     False      True     False\n",
      "Ellen   24     88     False     False      True\n",
      "Frank   30     57      True     False     False\n"
     ]
    }
   ],
   "source": [
    "print(pd.get_dummies(df_B))"
   ]
  },
  {
   "cell_type": "code",
   "execution_count": 26,
   "metadata": {},
   "outputs": [],
   "source": [
    "categories = ['CA', 'NY']"
   ]
  },
  {
   "cell_type": "code",
   "execution_count": 27,
   "metadata": {},
   "outputs": [],
   "source": [
    "df_A['state'] = pd.Categorical(df_A['state'], categories)\n",
    "df_B['state'] = pd.Categorical(df_B['state'], categories)"
   ]
  },
  {
   "cell_type": "code",
   "execution_count": 28,
   "metadata": {},
   "outputs": [
    {
     "name": "stdout",
     "output_type": "stream",
     "text": [
      "         age state  point\n",
      "name                     \n",
      "Alice     24    NY     64\n",
      "Bob       42    CA     92\n",
      "Charlie   18    CA     70\n"
     ]
    }
   ],
   "source": [
    "print(df_A)"
   ]
  },
  {
   "cell_type": "code",
   "execution_count": 29,
   "metadata": {},
   "outputs": [
    {
     "name": "stdout",
     "output_type": "stream",
     "text": [
      "       age state  point\n",
      "name                   \n",
      "Dave    68   NaN     70\n",
      "Ellen   24    CA     88\n",
      "Frank   30    NY     57\n"
     ]
    }
   ],
   "source": [
    "print(df_B)"
   ]
  },
  {
   "cell_type": "code",
   "execution_count": 30,
   "metadata": {},
   "outputs": [
    {
     "name": "stdout",
     "output_type": "stream",
     "text": [
      "         age  point  state_CA  state_NY\n",
      "name                                   \n",
      "Alice     24     64     False      True\n",
      "Bob       42     92      True     False\n",
      "Charlie   18     70      True     False\n"
     ]
    }
   ],
   "source": [
    "print(pd.get_dummies(df_A))"
   ]
  },
  {
   "cell_type": "code",
   "execution_count": 31,
   "metadata": {},
   "outputs": [
    {
     "name": "stdout",
     "output_type": "stream",
     "text": [
      "       age  point  state_CA  state_NY\n",
      "name                                 \n",
      "Dave    68     70     False     False\n",
      "Ellen   24     88      True     False\n",
      "Frank   30     57     False      True\n"
     ]
    }
   ],
   "source": [
    "print(pd.get_dummies(df_B))"
   ]
  }
 ],
 "metadata": {
  "kernelspec": {
   "display_name": "Python 3",
   "language": "python",
   "name": "python3"
  },
  "language_info": {
   "codemirror_mode": {
    "name": "ipython",
    "version": 3
   },
   "file_extension": ".py",
   "mimetype": "text/x-python",
   "name": "python",
   "nbconvert_exporter": "python",
   "pygments_lexer": "ipython3",
   "version": "3.11.6"
  }
 },
 "nbformat": 4,
 "nbformat_minor": 2
}
