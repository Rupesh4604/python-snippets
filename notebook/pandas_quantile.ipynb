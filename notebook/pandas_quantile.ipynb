{
 "cells": [
  {
   "cell_type": "code",
   "execution_count": 1,
   "metadata": {},
   "outputs": [],
   "source": [
    "import pandas as pd"
   ]
  },
  {
   "cell_type": "code",
   "execution_count": 2,
   "metadata": {},
   "outputs": [
    {
     "name": "stdout",
     "output_type": "stream",
     "text": [
      "2.1.4\n"
     ]
    }
   ],
   "source": [
    "print(pd.__version__)"
   ]
  },
  {
   "cell_type": "code",
   "execution_count": 3,
   "metadata": {},
   "outputs": [
    {
     "name": "stdout",
     "output_type": "stream",
     "text": [
      "    col_1  col_2\n",
      "0       0      0\n",
      "1       1      1\n",
      "2       2      4\n",
      "3       3      9\n",
      "4       4     16\n",
      "5       5     25\n",
      "6       6     36\n",
      "7       7     49\n",
      "8       8     64\n",
      "9       9     81\n",
      "10     10    100\n"
     ]
    }
   ],
   "source": [
    "df = pd.DataFrame({'col_1': range(11), 'col_2': [i**2 for i in range(11)]})\n",
    "print(df)"
   ]
  },
  {
   "cell_type": "code",
   "execution_count": 4,
   "metadata": {},
   "outputs": [
    {
     "name": "stdout",
     "output_type": "stream",
     "text": [
      "col_1     5.0\n",
      "col_2    25.0\n",
      "Name: 0.5, dtype: float64\n"
     ]
    }
   ],
   "source": [
    "print(df.quantile())"
   ]
  },
  {
   "cell_type": "code",
   "execution_count": 5,
   "metadata": {},
   "outputs": [
    {
     "name": "stdout",
     "output_type": "stream",
     "text": [
      "<class 'pandas.core.series.Series'>\n"
     ]
    }
   ],
   "source": [
    "print(type(df.quantile()))"
   ]
  },
  {
   "cell_type": "code",
   "execution_count": 6,
   "metadata": {},
   "outputs": [
    {
     "name": "stdout",
     "output_type": "stream",
     "text": [
      "5.0\n"
     ]
    }
   ],
   "source": [
    "print(df['col_1'].quantile())"
   ]
  },
  {
   "cell_type": "code",
   "execution_count": 7,
   "metadata": {},
   "outputs": [
    {
     "name": "stdout",
     "output_type": "stream",
     "text": [
      "<class 'numpy.float64'>\n"
     ]
    }
   ],
   "source": [
    "print(type(df['col_1'].quantile()))"
   ]
  },
  {
   "cell_type": "code",
   "execution_count": 8,
   "metadata": {},
   "outputs": [
    {
     "name": "stdout",
     "output_type": "stream",
     "text": [
      "col_1    2.0\n",
      "col_2    4.0\n",
      "Name: 0.2, dtype: float64\n"
     ]
    }
   ],
   "source": [
    "print(df.quantile(0.2))"
   ]
  },
  {
   "cell_type": "code",
   "execution_count": 9,
   "metadata": {},
   "outputs": [
    {
     "name": "stdout",
     "output_type": "stream",
     "text": [
      "      col_1  col_2\n",
      "0.00    0.0    0.0\n",
      "0.25    2.5    6.5\n",
      "0.50    5.0   25.0\n",
      "0.75    7.5   56.5\n",
      "1.00   10.0  100.0\n"
     ]
    }
   ],
   "source": [
    "print(df.quantile([0, 0.25, 0.5, 0.75, 1.0]))"
   ]
  },
  {
   "cell_type": "code",
   "execution_count": 10,
   "metadata": {},
   "outputs": [
    {
     "name": "stdout",
     "output_type": "stream",
     "text": [
      "<class 'pandas.core.frame.DataFrame'>\n"
     ]
    }
   ],
   "source": [
    "print(type(df.quantile([0, 0.25, 0.5, 0.75, 1.0])))"
   ]
  },
  {
   "cell_type": "code",
   "execution_count": 11,
   "metadata": {},
   "outputs": [
    {
     "name": "stdout",
     "output_type": "stream",
     "text": [
      "0.00     0.0\n",
      "0.25     2.5\n",
      "0.50     5.0\n",
      "0.75     7.5\n",
      "1.00    10.0\n",
      "Name: col_1, dtype: float64\n"
     ]
    }
   ],
   "source": [
    "print(df['col_1'].quantile([0, 0.25, 0.5, 0.75, 1.0]))"
   ]
  },
  {
   "cell_type": "code",
   "execution_count": 12,
   "metadata": {},
   "outputs": [
    {
     "name": "stdout",
     "output_type": "stream",
     "text": [
      "<class 'pandas.core.series.Series'>\n"
     ]
    }
   ],
   "source": [
    "print(type(df['col_1'].quantile([0, 0.25, 0.5, 0.75, 1.0])))"
   ]
  },
  {
   "cell_type": "code",
   "execution_count": 13,
   "metadata": {},
   "outputs": [
    {
     "name": "stdout",
     "output_type": "stream",
     "text": [
      "col_1    2.1\n",
      "col_2    4.5\n",
      "Name: 0.21, dtype: float64\n"
     ]
    }
   ],
   "source": [
    "print(df.quantile(0.21))"
   ]
  },
  {
   "cell_type": "code",
   "execution_count": 14,
   "metadata": {},
   "outputs": [
    {
     "name": "stdout",
     "output_type": "stream",
     "text": [
      "col_1    2.1\n",
      "col_2    4.5\n",
      "Name: 0.21, dtype: float64\n"
     ]
    }
   ],
   "source": [
    "print(df.quantile(0.21, interpolation='linear'))"
   ]
  },
  {
   "cell_type": "code",
   "execution_count": 15,
   "metadata": {},
   "outputs": [
    {
     "name": "stdout",
     "output_type": "stream",
     "text": [
      "col_1    2\n",
      "col_2    4\n",
      "Name: 0.21, dtype: int64\n"
     ]
    }
   ],
   "source": [
    "print(df.quantile(0.21, interpolation='lower'))"
   ]
  },
  {
   "cell_type": "code",
   "execution_count": 16,
   "metadata": {},
   "outputs": [
    {
     "name": "stdout",
     "output_type": "stream",
     "text": [
      "col_1    3\n",
      "col_2    9\n",
      "Name: 0.21, dtype: int64\n"
     ]
    }
   ],
   "source": [
    "print(df.quantile(0.21, interpolation='higher'))"
   ]
  },
  {
   "cell_type": "code",
   "execution_count": 17,
   "metadata": {},
   "outputs": [
    {
     "name": "stdout",
     "output_type": "stream",
     "text": [
      "col_1    2\n",
      "col_2    4\n",
      "Name: 0.21, dtype: int64\n"
     ]
    }
   ],
   "source": [
    "print(df.quantile(0.21, interpolation='nearest'))"
   ]
  },
  {
   "cell_type": "code",
   "execution_count": 18,
   "metadata": {},
   "outputs": [
    {
     "name": "stdout",
     "output_type": "stream",
     "text": [
      "col_1    2.5\n",
      "col_2    6.5\n",
      "Name: 0.21, dtype: float64\n"
     ]
    }
   ],
   "source": [
    "print(df.quantile(0.21, interpolation='midpoint'))"
   ]
  },
  {
   "cell_type": "code",
   "execution_count": 19,
   "metadata": {},
   "outputs": [
    {
     "name": "stdout",
     "output_type": "stream",
     "text": [
      "col_1    2.0\n",
      "col_2    4.0\n",
      "Name: 0.2, dtype: float64\n"
     ]
    }
   ],
   "source": [
    "print(df.quantile(0.2))"
   ]
  },
  {
   "cell_type": "code",
   "execution_count": 20,
   "metadata": {},
   "outputs": [
    {
     "name": "stdout",
     "output_type": "stream",
     "text": [
      "col_1    2\n",
      "col_2    4\n",
      "Name: 0.2, dtype: int64\n"
     ]
    }
   ],
   "source": [
    "print(df.quantile(0.2, interpolation='lower'))"
   ]
  },
  {
   "cell_type": "code",
   "execution_count": 21,
   "metadata": {},
   "outputs": [
    {
     "name": "stdout",
     "output_type": "stream",
     "text": [
      "0      0.0\n",
      "1      1.0\n",
      "2      3.0\n",
      "3      6.0\n",
      "4     10.0\n",
      "5     15.0\n",
      "6     21.0\n",
      "7     28.0\n",
      "8     36.0\n",
      "9     45.0\n",
      "10    55.0\n",
      "Name: 0.5, dtype: float64\n"
     ]
    }
   ],
   "source": [
    "print(df.quantile(axis=1))"
   ]
  },
  {
   "cell_type": "code",
   "execution_count": 22,
   "metadata": {},
   "outputs": [
    {
     "name": "stdout",
     "output_type": "stream",
     "text": [
      "    col_1  col_2 col_3\n",
      "0       0      0     a\n",
      "1       1      1     b\n",
      "2       2      4     c\n",
      "3       3      9     d\n",
      "4       4     16     e\n",
      "5       5     25     f\n",
      "6       6     36     g\n",
      "7       7     49     h\n",
      "8       8     64     i\n",
      "9       9     81     j\n",
      "10     10    100     k\n"
     ]
    }
   ],
   "source": [
    "df_str = df.copy()\n",
    "df_str['col_3'] = list('abcdefghijk')\n",
    "print(df_str)"
   ]
  },
  {
   "cell_type": "code",
   "execution_count": 23,
   "metadata": {},
   "outputs": [
    {
     "name": "stdout",
     "output_type": "stream",
     "text": [
      "col_1     int64\n",
      "col_2     int64\n",
      "col_3    object\n",
      "dtype: object\n"
     ]
    }
   ],
   "source": [
    "print(df_str.dtypes)"
   ]
  },
  {
   "cell_type": "code",
   "execution_count": 24,
   "metadata": {},
   "outputs": [
    {
     "name": "stdout",
     "output_type": "stream",
     "text": [
      "col_1     5.0\n",
      "col_2    25.0\n",
      "Name: 0.5, dtype: float64\n"
     ]
    }
   ],
   "source": [
    "print(df_str.quantile(numeric_only=True))"
   ]
  },
  {
   "cell_type": "code",
   "execution_count": 25,
   "metadata": {},
   "outputs": [],
   "source": [
    "# print(df_str.quantile())\n",
    "# TypeError: unsupported operand type(s) for -: 'str' and 'str'"
   ]
  },
  {
   "cell_type": "code",
   "execution_count": 26,
   "metadata": {},
   "outputs": [],
   "source": [
    "# print(df_str.quantile(interpolation='midpoint'))\n",
    "# TypeError: unsupported operand type(s) for -: 'str' and 'str'"
   ]
  },
  {
   "cell_type": "code",
   "execution_count": 27,
   "metadata": {},
   "outputs": [
    {
     "name": "stdout",
     "output_type": "stream",
     "text": [
      "      col_1  col_2 col_3\n",
      "0.20      2      4     c\n",
      "0.21      2      4     c\n",
      "0.30      3      9     d\n"
     ]
    }
   ],
   "source": [
    "print(df_str.quantile([0.2, 0.21, 0.3], interpolation='lower'))"
   ]
  },
  {
   "cell_type": "code",
   "execution_count": 28,
   "metadata": {},
   "outputs": [
    {
     "name": "stdout",
     "output_type": "stream",
     "text": [
      "      col_1  col_2 col_3\n",
      "0.20      2      4     c\n",
      "0.21      3      9     d\n",
      "0.30      3      9     d\n"
     ]
    }
   ],
   "source": [
    "print(df_str.quantile([0.2, 0.21, 0.3], interpolation='higher'))"
   ]
  },
  {
   "cell_type": "code",
   "execution_count": 29,
   "metadata": {},
   "outputs": [
    {
     "name": "stdout",
     "output_type": "stream",
     "text": [
      "      col_1  col_2 col_3\n",
      "0.20      2      4     c\n",
      "0.21      2      4     c\n",
      "0.30      3      9     d\n"
     ]
    }
   ],
   "source": [
    "print(df_str.quantile([0.2, 0.21, 0.3], interpolation='nearest'))"
   ]
  },
  {
   "cell_type": "code",
   "execution_count": 30,
   "metadata": {},
   "outputs": [
    {
     "name": "stdout",
     "output_type": "stream",
     "text": [
      "    col_1  col_2      col_3\n",
      "0       0      0 2023-01-01\n",
      "1       1      1 2023-01-02\n",
      "2       2      4 2023-01-03\n",
      "3       3      9 2023-01-04\n",
      "4       4     16 2023-01-05\n",
      "5       5     25 2023-01-06\n",
      "6       6     36 2023-01-07\n",
      "7       7     49 2023-01-08\n",
      "8       8     64 2023-01-09\n",
      "9       9     81 2023-01-10\n",
      "10     10    100 2023-01-11\n"
     ]
    }
   ],
   "source": [
    "df_dt = df.copy()\n",
    "df_dt['col_3'] = pd.date_range('2023-01-01', '2023-01-11')\n",
    "print(df_dt)"
   ]
  },
  {
   "cell_type": "code",
   "execution_count": 31,
   "metadata": {},
   "outputs": [
    {
     "name": "stdout",
     "output_type": "stream",
     "text": [
      "col_1             int64\n",
      "col_2             int64\n",
      "col_3    datetime64[ns]\n",
      "dtype: object\n"
     ]
    }
   ],
   "source": [
    "print(df_dt.dtypes)"
   ]
  },
  {
   "cell_type": "code",
   "execution_count": 32,
   "metadata": {},
   "outputs": [
    {
     "name": "stdout",
     "output_type": "stream",
     "text": [
      "col_1     5.0\n",
      "col_2    25.0\n",
      "Name: 0.5, dtype: float64\n"
     ]
    }
   ],
   "source": [
    "print(df_dt.quantile(numeric_only=True))"
   ]
  },
  {
   "cell_type": "code",
   "execution_count": 33,
   "metadata": {},
   "outputs": [
    {
     "name": "stdout",
     "output_type": "stream",
     "text": [
      "      col_1  col_2               col_3\n",
      "0.20    2.0    4.0 2023-01-03 00:00:00\n",
      "0.21    2.1    4.5 2023-01-03 02:24:00\n",
      "0.30    3.0    9.0 2023-01-04 00:00:00\n"
     ]
    }
   ],
   "source": [
    "print(df_dt.quantile([0.2, 0.21, 0.3]))"
   ]
  },
  {
   "cell_type": "code",
   "execution_count": 34,
   "metadata": {},
   "outputs": [
    {
     "name": "stdout",
     "output_type": "stream",
     "text": [
      "      col_1  col_2               col_3\n",
      "0.20    2.0    4.0 2023-01-03 00:00:00\n",
      "0.21    2.5    6.5 2023-01-03 12:00:00\n",
      "0.30    3.0    9.0 2023-01-04 00:00:00\n"
     ]
    }
   ],
   "source": [
    "print(df_dt.quantile([0.2, 0.21, 0.3], interpolation='midpoint'))"
   ]
  },
  {
   "cell_type": "code",
   "execution_count": 35,
   "metadata": {},
   "outputs": [
    {
     "name": "stdout",
     "output_type": "stream",
     "text": [
      "      col_1  col_2      col_3\n",
      "0.20      2      4 2023-01-03\n",
      "0.21      2      4 2023-01-03\n",
      "0.30      3      9 2023-01-04\n"
     ]
    }
   ],
   "source": [
    "print(df_dt.quantile([0.2, 0.21, 0.3], interpolation='lower'))"
   ]
  },
  {
   "cell_type": "code",
   "execution_count": 36,
   "metadata": {},
   "outputs": [
    {
     "name": "stdout",
     "output_type": "stream",
     "text": [
      "      col_1  col_2      col_3\n",
      "0.20      2      4 2023-01-03\n",
      "0.21      3      9 2023-01-04\n",
      "0.30      3      9 2023-01-04\n"
     ]
    }
   ],
   "source": [
    "print(df_dt.quantile([0.2, 0.21, 0.3], interpolation='higher'))"
   ]
  },
  {
   "cell_type": "code",
   "execution_count": 37,
   "metadata": {},
   "outputs": [
    {
     "name": "stdout",
     "output_type": "stream",
     "text": [
      "      col_1  col_2      col_3\n",
      "0.20      2      4 2023-01-03\n",
      "0.21      2      4 2023-01-03\n",
      "0.30      3      9 2023-01-04\n"
     ]
    }
   ],
   "source": [
    "print(df_dt.quantile([0.2, 0.21, 0.3], interpolation='nearest'))"
   ]
  },
  {
   "cell_type": "code",
   "execution_count": 38,
   "metadata": {},
   "outputs": [
    {
     "name": "stdout",
     "output_type": "stream",
     "text": [
      "    col_1  col_2  col_3\n",
      "0       0      0   True\n",
      "1       1      1  False\n",
      "2       2      4   True\n",
      "3       3      9  False\n",
      "4       4     16   True\n",
      "5       5     25  False\n",
      "6       6     36   True\n",
      "7       7     49  False\n",
      "8       8     64   True\n",
      "9       9     81  False\n",
      "10     10    100   True\n"
     ]
    }
   ],
   "source": [
    "df_bool = df.copy()\n",
    "df_bool['col_3'] = [True, False, True, False, True, False, True, False, True, False, True]\n",
    "print(df_bool)"
   ]
  },
  {
   "cell_type": "code",
   "execution_count": 39,
   "metadata": {},
   "outputs": [
    {
     "name": "stdout",
     "output_type": "stream",
     "text": [
      "col_1    int64\n",
      "col_2    int64\n",
      "col_3     bool\n",
      "dtype: object\n"
     ]
    }
   ],
   "source": [
    "print(df_bool.dtypes)"
   ]
  },
  {
   "cell_type": "code",
   "execution_count": 40,
   "metadata": {},
   "outputs": [],
   "source": [
    "# print(df_bool.quantile())\n",
    "# TypeError: numpy boolean subtract, the `-` operator, is not supported, use the bitwise_xor, the `^` operator, or the logical_xor function instead."
   ]
  },
  {
   "cell_type": "code",
   "execution_count": 41,
   "metadata": {},
   "outputs": [],
   "source": [
    "# print(df_bool.quantile(numeric_only=True))\n",
    "# TypeError: numpy boolean subtract, the `-` operator, is not supported, use the bitwise_xor, the `^` operator, or the logical_xor function instead."
   ]
  },
  {
   "cell_type": "code",
   "execution_count": 42,
   "metadata": {},
   "outputs": [
    {
     "name": "stdout",
     "output_type": "stream",
     "text": [
      "    col_1  col_2\n",
      "0       0      0\n",
      "1       1      1\n",
      "2       2      4\n",
      "3       3      9\n",
      "4       4     16\n",
      "5       5     25\n",
      "6       6     36\n",
      "7       7     49\n",
      "8       8     64\n",
      "9       9     81\n",
      "10     10    100\n"
     ]
    }
   ],
   "source": [
    "print(df_bool.select_dtypes(exclude=bool))"
   ]
  },
  {
   "cell_type": "code",
   "execution_count": 43,
   "metadata": {},
   "outputs": [
    {
     "name": "stdout",
     "output_type": "stream",
     "text": [
      "col_1     5.0\n",
      "col_2    25.0\n",
      "Name: 0.5, dtype: float64\n"
     ]
    }
   ],
   "source": [
    "print(df_bool.select_dtypes(exclude=bool).quantile())"
   ]
  },
  {
   "cell_type": "code",
   "execution_count": 44,
   "metadata": {},
   "outputs": [
    {
     "name": "stdout",
     "output_type": "stream",
     "text": [
      "    col_1  col_2  col_3\n",
      "0       0      0      1\n",
      "1       1      1      0\n",
      "2       2      4      1\n",
      "3       3      9      0\n",
      "4       4     16      1\n",
      "5       5     25      0\n",
      "6       6     36      1\n",
      "7       7     49      0\n",
      "8       8     64      1\n",
      "9       9     81      0\n",
      "10     10    100      1\n"
     ]
    }
   ],
   "source": [
    "print(df_bool.astype({'col_3': int}))"
   ]
  },
  {
   "cell_type": "code",
   "execution_count": 45,
   "metadata": {},
   "outputs": [
    {
     "name": "stdout",
     "output_type": "stream",
     "text": [
      "col_1     5.0\n",
      "col_2    25.0\n",
      "col_3     1.0\n",
      "Name: 0.5, dtype: float64\n"
     ]
    }
   ],
   "source": [
    "print(df_bool.astype({'col_3': int}).quantile())"
   ]
  }
 ],
 "metadata": {
  "kernelspec": {
   "display_name": "Python 3",
   "language": "python",
   "name": "python3"
  },
  "language_info": {
   "codemirror_mode": {
    "name": "ipython",
    "version": 3
   },
   "file_extension": ".py",
   "mimetype": "text/x-python",
   "name": "python",
   "nbconvert_exporter": "python",
   "pygments_lexer": "ipython3",
   "version": "3.11.6"
  }
 },
 "nbformat": 4,
 "nbformat_minor": 2
}
