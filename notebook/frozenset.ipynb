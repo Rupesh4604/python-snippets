{
 "cells": [
  {
   "cell_type": "code",
   "execution_count": 1,
   "id": "75fef96d",
   "metadata": {},
   "outputs": [
    {
     "name": "stdout",
     "output_type": "stream",
     "text": [
      "frozenset({1, 2, 3, 4})\n"
     ]
    }
   ],
   "source": [
    "fs = frozenset([2, 2, 3, 1, 3, 4])\n",
    "print(fs)"
   ]
  },
  {
   "cell_type": "code",
   "execution_count": 2,
   "id": "120ad131",
   "metadata": {},
   "outputs": [
    {
     "name": "stdout",
     "output_type": "stream",
     "text": [
      "<class 'frozenset'>\n"
     ]
    }
   ],
   "source": [
    "print(type(fs))"
   ]
  },
  {
   "cell_type": "code",
   "execution_count": 3,
   "id": "72ba4b30",
   "metadata": {},
   "outputs": [],
   "source": [
    "# fs.add(5)\n",
    "# AttributeError: 'frozenset' object has no attribute 'add'"
   ]
  },
  {
   "cell_type": "code",
   "execution_count": 4,
   "id": "1a96890c",
   "metadata": {},
   "outputs": [],
   "source": [
    "# fs.discard(1)\n",
    "# AttributeError: 'frozenset' object has no attribute 'discard'"
   ]
  },
  {
   "cell_type": "code",
   "execution_count": 5,
   "id": "bfb2d16d",
   "metadata": {},
   "outputs": [],
   "source": [
    "fs1 = frozenset([0, 1, 2])\n",
    "fs2 = frozenset([1, 2, 3])"
   ]
  },
  {
   "cell_type": "code",
   "execution_count": 6,
   "id": "a4168a82",
   "metadata": {},
   "outputs": [
    {
     "name": "stdout",
     "output_type": "stream",
     "text": [
      "frozenset({0, 1, 2, 3})\n"
     ]
    }
   ],
   "source": [
    "print(fs1 | fs2)"
   ]
  },
  {
   "cell_type": "code",
   "execution_count": 7,
   "id": "0da3cfd3",
   "metadata": {},
   "outputs": [
    {
     "name": "stdout",
     "output_type": "stream",
     "text": [
      "frozenset({0})\n"
     ]
    }
   ],
   "source": [
    "print(fs1.difference(fs2))"
   ]
  },
  {
   "cell_type": "code",
   "execution_count": 8,
   "id": "ce4ce4ed",
   "metadata": {},
   "outputs": [
    {
     "name": "stdout",
     "output_type": "stream",
     "text": [
      "False\n"
     ]
    }
   ],
   "source": [
    "print(fs1.isdisjoint(fs2))"
   ]
  },
  {
   "cell_type": "code",
   "execution_count": 9,
   "id": "70486ade",
   "metadata": {},
   "outputs": [],
   "source": [
    "s = {0, 1, 2}\n",
    "fs = frozenset([0, 1, 2])"
   ]
  },
  {
   "cell_type": "code",
   "execution_count": 10,
   "id": "34b94562",
   "metadata": {},
   "outputs": [],
   "source": [
    "# d = {s: 100}\n",
    "# TypeError: unhashable type: 'set'"
   ]
  },
  {
   "cell_type": "code",
   "execution_count": 11,
   "id": "61857380",
   "metadata": {},
   "outputs": [
    {
     "name": "stdout",
     "output_type": "stream",
     "text": [
      "{frozenset({0, 1, 2}): 100}\n"
     ]
    }
   ],
   "source": [
    "d = {fs: 100}\n",
    "print(d)"
   ]
  },
  {
   "cell_type": "code",
   "execution_count": 12,
   "id": "994996a2",
   "metadata": {},
   "outputs": [],
   "source": [
    "# ss = {s}\n",
    "# TypeError: unhashable type: 'set'"
   ]
  },
  {
   "cell_type": "code",
   "execution_count": 13,
   "id": "7424dd00",
   "metadata": {},
   "outputs": [
    {
     "name": "stdout",
     "output_type": "stream",
     "text": [
      "{frozenset({0, 1, 2})}\n"
     ]
    }
   ],
   "source": [
    "ss = {fs}\n",
    "print(ss)"
   ]
  }
 ],
 "metadata": {
  "kernelspec": {
   "display_name": "Python 3",
   "language": "python",
   "name": "python3"
  },
  "language_info": {
   "codemirror_mode": {
    "name": "ipython",
    "version": 3
   },
   "file_extension": ".py",
   "mimetype": "text/x-python",
   "name": "python",
   "nbconvert_exporter": "python",
   "pygments_lexer": "ipython3",
   "version": "3.11.4"
  }
 },
 "nbformat": 4,
 "nbformat_minor": 5
}
