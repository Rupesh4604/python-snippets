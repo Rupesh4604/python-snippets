{
 "cells": [
  {
   "cell_type": "code",
   "execution_count": 1,
   "id": "dc371660",
   "metadata": {},
   "outputs": [],
   "source": [
    "from decimal import Decimal, ROUND_HALF_UP, ROUND_FLOOR, ROUND_CEILING"
   ]
  },
  {
   "cell_type": "code",
   "execution_count": 2,
   "id": "e1e4d145",
   "metadata": {},
   "outputs": [],
   "source": [
    "import pandas as pd"
   ]
  },
  {
   "cell_type": "code",
   "execution_count": 3,
   "id": "9da74d58",
   "metadata": {},
   "outputs": [
    {
     "name": "stdout",
     "output_type": "stream",
     "text": [
      "2.1.4\n"
     ]
    }
   ],
   "source": [
    "print(pd.__version__)"
   ]
  },
  {
   "cell_type": "code",
   "execution_count": 4,
   "id": "c4d3e7a7",
   "metadata": {},
   "outputs": [
    {
     "name": "stdout",
     "output_type": "stream",
     "text": [
      "0    0.123\n",
      "1    0.456\n",
      "2    0.789\n",
      "dtype: float64\n"
     ]
    }
   ],
   "source": [
    "s = pd.Series([0.123, 0.456, 0.789])\n",
    "print(s)"
   ]
  },
  {
   "cell_type": "code",
   "execution_count": 5,
   "id": "cccf5007",
   "metadata": {},
   "outputs": [
    {
     "name": "stdout",
     "output_type": "stream",
     "text": [
      "0    0.123\n",
      "1    0.456\n",
      "2    0.789\n",
      "dtype: object\n"
     ]
    }
   ],
   "source": [
    "s_decimal = s.astype(str).map(Decimal)\n",
    "print(s_decimal)"
   ]
  },
  {
   "cell_type": "code",
   "execution_count": 6,
   "id": "247e01a6",
   "metadata": {},
   "outputs": [
    {
     "name": "stdout",
     "output_type": "stream",
     "text": [
      "<class 'decimal.Decimal'>\n"
     ]
    }
   ],
   "source": [
    "print(type(s_decimal[0]))"
   ]
  },
  {
   "cell_type": "code",
   "execution_count": 7,
   "id": "2d945c6a",
   "metadata": {},
   "outputs": [
    {
     "name": "stdout",
     "output_type": "stream",
     "text": [
      "0    0.12299999999999999822364316059974953532218933...\n",
      "1    0.45600000000000001643130076445231679826974868...\n",
      "2    0.78900000000000003463895836830488406121730804...\n",
      "dtype: object\n"
     ]
    }
   ],
   "source": [
    "print(s.map(Decimal))"
   ]
  },
  {
   "cell_type": "code",
   "execution_count": 8,
   "id": "e75e0348",
   "metadata": {},
   "outputs": [
    {
     "name": "stdout",
     "output_type": "stream",
     "text": [
      "0    0.1\n",
      "1    0.5\n",
      "2    0.8\n",
      "dtype: object\n"
     ]
    }
   ],
   "source": [
    "print(s_decimal.map(lambda x: x.quantize(Decimal('0.1'), ROUND_HALF_UP)))"
   ]
  },
  {
   "cell_type": "code",
   "execution_count": 9,
   "id": "38a6020b",
   "metadata": {},
   "outputs": [
    {
     "name": "stdout",
     "output_type": "stream",
     "text": [
      "0    0.1\n",
      "1    0.4\n",
      "2    0.7\n",
      "dtype: object\n"
     ]
    }
   ],
   "source": [
    "print(s_decimal.map(lambda x: x.quantize(Decimal('0.1'), ROUND_FLOOR)))"
   ]
  },
  {
   "cell_type": "code",
   "execution_count": 10,
   "id": "ad357ae0",
   "metadata": {},
   "outputs": [
    {
     "name": "stdout",
     "output_type": "stream",
     "text": [
      "0    0.2\n",
      "1    0.5\n",
      "2    0.8\n",
      "dtype: object\n"
     ]
    }
   ],
   "source": [
    "print(s_decimal.map(lambda x: x.quantize(Decimal('0.1'), ROUND_CEILING)))"
   ]
  },
  {
   "cell_type": "code",
   "execution_count": 11,
   "id": "7de94087",
   "metadata": {},
   "outputs": [
    {
     "name": "stdout",
     "output_type": "stream",
     "text": [
      "0    0.123\n",
      "1    0.456\n",
      "2    0.789\n",
      "dtype: float64\n"
     ]
    }
   ],
   "source": [
    "print(s_decimal.astype(float))"
   ]
  },
  {
   "cell_type": "code",
   "execution_count": 12,
   "id": "345d357f",
   "metadata": {},
   "outputs": [
    {
     "name": "stdout",
     "output_type": "stream",
     "text": [
      "0    0.12299999999999999822364316059974953532218933...\n",
      "1    0.45600000000000001643130076445231679826974868...\n",
      "2    0.78900000000000003463895836830488406121730804...\n",
      "dtype: object\n"
     ]
    }
   ],
   "source": [
    "print(s_decimal.astype(float).map(Decimal))"
   ]
  }
 ],
 "metadata": {
  "kernelspec": {
   "display_name": "Python 3",
   "language": "python",
   "name": "python3"
  },
  "language_info": {
   "codemirror_mode": {
    "name": "ipython",
    "version": 3
   },
   "file_extension": ".py",
   "mimetype": "text/x-python",
   "name": "python",
   "nbconvert_exporter": "python",
   "pygments_lexer": "ipython3",
   "version": "3.11.7"
  }
 },
 "nbformat": 4,
 "nbformat_minor": 5
}
