{
 "cells": [
  {
   "cell_type": "code",
   "execution_count": 1,
   "metadata": {},
   "outputs": [],
   "source": [
    "import pandas as pd"
   ]
  },
  {
   "cell_type": "code",
   "execution_count": 2,
   "metadata": {},
   "outputs": [
    {
     "name": "stdout",
     "output_type": "stream",
     "text": [
      "2.0.3\n"
     ]
    }
   ],
   "source": [
    "print(pd.__version__)"
   ]
  },
  {
   "cell_type": "code",
   "execution_count": 3,
   "metadata": {},
   "outputs": [
    {
     "name": "stdout",
     "output_type": "stream",
     "text": [
      "      col_0 col_1 col_2 col_3\n",
      "row_0    00    01    02    03\n",
      "row_1    10    11    12    13\n",
      "row_2    20    21    22    23\n",
      "row_3    30    31    32    33\n",
      "row_4    40    41    42    43\n"
     ]
    }
   ],
   "source": [
    "df = pd.DataFrame({'col_0': ['00', '10', '20', '30', '40'],\n",
    "                   'col_1': ['01', '11', '21', '31', '41'],\n",
    "                   'col_2': ['02', '12', '22', '32', '42'],\n",
    "                   'col_3': ['03', '13', '23', '33', '43']},\n",
    "                  index=['row_0', 'row_1', 'row_2', 'row_3', 'row_4'])\n",
    "print(df)"
   ]
  },
  {
   "cell_type": "code",
   "execution_count": 4,
   "metadata": {},
   "outputs": [
    {
     "name": "stdout",
     "output_type": "stream",
     "text": [
      "      col_0 col_1 col_2 col_3\n",
      "row_0    00    01    02    03\n",
      "row_3    30    31    32    33\n",
      "row_4    40    41    42    43\n",
      "<class 'pandas.core.frame.DataFrame'>\n"
     ]
    }
   ],
   "source": [
    "l_bool = [True, False, False, True, True]\n",
    "print(df[l_bool])\n",
    "print(type(df[l_bool]))"
   ]
  },
  {
   "cell_type": "code",
   "execution_count": 5,
   "metadata": {},
   "outputs": [
    {
     "name": "stdout",
     "output_type": "stream",
     "text": [
      "      col_0 col_1 col_2 col_3\n",
      "row_0    00    01    02    03\n",
      "<class 'pandas.core.frame.DataFrame'>\n"
     ]
    }
   ],
   "source": [
    "l_bool = [True, False, False, False, False]\n",
    "print(df[l_bool])\n",
    "print(type(df[l_bool]))"
   ]
  },
  {
   "cell_type": "code",
   "execution_count": 6,
   "metadata": {},
   "outputs": [],
   "source": [
    "# print(df[[True, False, False]])\n",
    "# ValueError: Item wrong length 3 instead of 5."
   ]
  },
  {
   "cell_type": "code",
   "execution_count": 7,
   "metadata": {},
   "outputs": [
    {
     "name": "stdout",
     "output_type": "stream",
     "text": [
      "row_4     True\n",
      "row_3    False\n",
      "row_2    False\n",
      "row_1     True\n",
      "row_0     True\n",
      "dtype: bool\n"
     ]
    }
   ],
   "source": [
    "s_bool = pd.Series([True, False, False, True, True], index=reversed(df.index))\n",
    "print(s_bool)"
   ]
  },
  {
   "cell_type": "code",
   "execution_count": 8,
   "metadata": {},
   "outputs": [
    {
     "name": "stdout",
     "output_type": "stream",
     "text": [
      "      col_0 col_1 col_2 col_3\n",
      "row_0    00    01    02    03\n",
      "row_1    10    11    12    13\n",
      "row_4    40    41    42    43\n"
     ]
    },
    {
     "name": "stderr",
     "output_type": "stream",
     "text": [
      "/var/folders/rf/b7l8_vgj5mdgvghn_326rn_c0000gn/T/ipykernel_39852/3866325019.py:1: UserWarning: Boolean Series key will be reindexed to match DataFrame index.\n",
      "  print(df[s_bool])\n"
     ]
    }
   ],
   "source": [
    "print(df[s_bool])"
   ]
  },
  {
   "cell_type": "code",
   "execution_count": 9,
   "metadata": {},
   "outputs": [],
   "source": [
    "s_bool_wrong = pd.Series([True, False, False, True, True],\n",
    "                         index=['A', 'B', 'C', 'D', 'E'])\n",
    "# print(df[s_bool_wrong])\n",
    "# IndexingError: Unalignable boolean Series provided as indexer (index of the boolean Series and of the indexed object do not match)."
   ]
  },
  {
   "cell_type": "code",
   "execution_count": 10,
   "metadata": {},
   "outputs": [
    {
     "name": "stdout",
     "output_type": "stream",
     "text": [
      "row_0    00\n",
      "row_1    10\n",
      "row_2    20\n",
      "row_3    30\n",
      "row_4    40\n",
      "Name: col_0, dtype: object\n"
     ]
    }
   ],
   "source": [
    "s = df['col_0']\n",
    "print(s)"
   ]
  },
  {
   "cell_type": "code",
   "execution_count": 11,
   "metadata": {},
   "outputs": [
    {
     "name": "stdout",
     "output_type": "stream",
     "text": [
      "row_0    00\n",
      "row_3    30\n",
      "row_4    40\n",
      "Name: col_0, dtype: object\n",
      "<class 'pandas.core.series.Series'>\n"
     ]
    }
   ],
   "source": [
    "l_bool = [True, False, False, True, True]\n",
    "print(s[l_bool])\n",
    "print(type(s[l_bool]))"
   ]
  },
  {
   "cell_type": "code",
   "execution_count": 12,
   "metadata": {},
   "outputs": [
    {
     "name": "stdout",
     "output_type": "stream",
     "text": [
      "row_0    00\n",
      "Name: col_0, dtype: object\n",
      "<class 'pandas.core.series.Series'>\n"
     ]
    }
   ],
   "source": [
    "l_bool = [True, False, False, False, False]\n",
    "print(s[l_bool])\n",
    "print(type(s[l_bool]))"
   ]
  },
  {
   "cell_type": "code",
   "execution_count": 13,
   "metadata": {},
   "outputs": [],
   "source": [
    "# print(s[[True, False, False]])\n",
    "# IndexError: Boolean index has wrong length: 3 instead of 5"
   ]
  },
  {
   "cell_type": "code",
   "execution_count": 14,
   "metadata": {},
   "outputs": [
    {
     "name": "stdout",
     "output_type": "stream",
     "text": [
      "row_4     True\n",
      "row_3    False\n",
      "row_2    False\n",
      "row_1    False\n",
      "row_0    False\n",
      "dtype: bool\n"
     ]
    }
   ],
   "source": [
    "s_bool = pd.Series(l_bool, index=reversed(df.index))\n",
    "print(s_bool)"
   ]
  },
  {
   "cell_type": "code",
   "execution_count": 15,
   "metadata": {},
   "outputs": [
    {
     "name": "stdout",
     "output_type": "stream",
     "text": [
      "row_4    40\n",
      "Name: col_0, dtype: object\n"
     ]
    }
   ],
   "source": [
    "print(s[s_bool])"
   ]
  },
  {
   "cell_type": "code",
   "execution_count": 16,
   "metadata": {},
   "outputs": [],
   "source": [
    "s_bool_wrong = pd.Series([True, False, False, True, True],\n",
    "                         index=['A', 'B', 'C', 'D', 'E'])\n",
    "# print(s[s_bool_wrong])\n",
    "# IndexingError: Unalignable boolean Series provided as indexer (index of the boolean Series and of the indexed object do not match)."
   ]
  }
 ],
 "metadata": {
  "kernelspec": {
   "display_name": "Python 3",
   "language": "python",
   "name": "python3"
  },
  "language_info": {
   "codemirror_mode": {
    "name": "ipython",
    "version": 3
   },
   "file_extension": ".py",
   "mimetype": "text/x-python",
   "name": "python",
   "nbconvert_exporter": "python",
   "pygments_lexer": "ipython3",
   "version": "3.11.4"
  }
 },
 "nbformat": 4,
 "nbformat_minor": 4
}
