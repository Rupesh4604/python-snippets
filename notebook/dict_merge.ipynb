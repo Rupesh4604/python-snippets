{
 "cells": [
  {
   "cell_type": "code",
   "execution_count": 1,
   "id": "3ad7cff5",
   "metadata": {},
   "outputs": [],
   "source": [
    "d1 = {'k1': 1, 'k2': 2}\n",
    "d2 = {'k3': 3, 'k4': 4}"
   ]
  },
  {
   "cell_type": "code",
   "execution_count": 2,
   "id": "f90eb2fa",
   "metadata": {},
   "outputs": [
    {
     "name": "stdout",
     "output_type": "stream",
     "text": [
      "{'k1': 1, 'k2': 2, 'k3': 3, 'k4': 4}\n"
     ]
    }
   ],
   "source": [
    "d = dict(**d1, **d2)\n",
    "print(d)"
   ]
  },
  {
   "cell_type": "code",
   "execution_count": 3,
   "id": "30613c15",
   "metadata": {},
   "outputs": [
    {
     "name": "stdout",
     "output_type": "stream",
     "text": [
      "{'k1': 1, 'k2': 2, 'k3': 3, 'k4': 4}\n"
     ]
    }
   ],
   "source": [
    "d = {**d1, **d2}\n",
    "print(d)"
   ]
  },
  {
   "cell_type": "code",
   "execution_count": 4,
   "id": "5681ea2c",
   "metadata": {},
   "outputs": [],
   "source": [
    "d1 = {'k1': 1, 'k2': 2}\n",
    "d2 = {'k1': 100, 'k3': 3, 'k4': 4}"
   ]
  },
  {
   "cell_type": "code",
   "execution_count": 5,
   "id": "7d57cc3a",
   "metadata": {},
   "outputs": [],
   "source": [
    "# d = dict(**d1, **d2)\n",
    "# TypeError: dict() got multiple values for keyword argument 'k1'"
   ]
  },
  {
   "cell_type": "code",
   "execution_count": 6,
   "id": "c9e4a09c",
   "metadata": {},
   "outputs": [
    {
     "name": "stdout",
     "output_type": "stream",
     "text": [
      "{'k1': 100, 'k2': 2, 'k3': 3, 'k4': 4}\n"
     ]
    }
   ],
   "source": [
    "d = {**d1, **d2}\n",
    "print(d)"
   ]
  },
  {
   "cell_type": "code",
   "execution_count": 7,
   "id": "be7f0c5b",
   "metadata": {},
   "outputs": [],
   "source": [
    "d1 = {'k1': 1, 'k2': 2}\n",
    "d2 = {'k1': 100, 'k3': 3, 'k4': 4}"
   ]
  },
  {
   "cell_type": "code",
   "execution_count": 8,
   "id": "782a1848",
   "metadata": {},
   "outputs": [
    {
     "name": "stdout",
     "output_type": "stream",
     "text": [
      "{'k1': 100, 'k2': 2, 'k3': 3, 'k4': 4}\n"
     ]
    }
   ],
   "source": [
    "d = d1 | d2\n",
    "print(d)"
   ]
  },
  {
   "cell_type": "code",
   "execution_count": 9,
   "id": "fb747fc6",
   "metadata": {},
   "outputs": [
    {
     "name": "stdout",
     "output_type": "stream",
     "text": [
      "{'k1': 1, 'k3': 3, 'k4': 4, 'k2': 2}\n"
     ]
    }
   ],
   "source": [
    "d = d2 | d1\n",
    "print(d)"
   ]
  },
  {
   "cell_type": "code",
   "execution_count": 10,
   "id": "fadde772",
   "metadata": {},
   "outputs": [],
   "source": [
    "d1 = {'k1': 1, 'k2': 2}\n",
    "d2 = {'k1': 100, 'k3': 3, 'k4': 4}\n",
    "d3 = {'k5': 5, 'k6': 6}"
   ]
  },
  {
   "cell_type": "code",
   "execution_count": 11,
   "id": "ea8bd82a",
   "metadata": {},
   "outputs": [
    {
     "name": "stdout",
     "output_type": "stream",
     "text": [
      "{'k1': 100, 'k2': 2, 'k3': 3, 'k4': 4, 'k5': 5, 'k6': 6}\n"
     ]
    }
   ],
   "source": [
    "d = d1 | d2 | d3\n",
    "print(d)"
   ]
  },
  {
   "cell_type": "code",
   "execution_count": 12,
   "id": "085d9929",
   "metadata": {},
   "outputs": [],
   "source": [
    "d1 = {'k1': 1, 'k2': 2}\n",
    "d2 = {'k1': 100, 'k3': 3, 'k4': 4}"
   ]
  },
  {
   "cell_type": "code",
   "execution_count": 13,
   "id": "b43d5bac",
   "metadata": {},
   "outputs": [
    {
     "name": "stdout",
     "output_type": "stream",
     "text": [
      "{'k1': 100, 'k2': 2, 'k3': 3, 'k4': 4}\n"
     ]
    }
   ],
   "source": [
    "d1 |= d2\n",
    "print(d1)"
   ]
  },
  {
   "cell_type": "code",
   "execution_count": 14,
   "id": "f4ed3a3d",
   "metadata": {},
   "outputs": [],
   "source": [
    "d = {'k1': 1, 'k2': 2}"
   ]
  },
  {
   "cell_type": "code",
   "execution_count": 15,
   "id": "5d12976b",
   "metadata": {},
   "outputs": [
    {
     "name": "stdout",
     "output_type": "stream",
     "text": [
      "{'k1': 100, 'k2': 2, 'k3': 3, 'k4': 4}\n"
     ]
    }
   ],
   "source": [
    "d |= [('k1', 100), ('k3', 3), ('k4', 4)]\n",
    "print(d)"
   ]
  },
  {
   "cell_type": "code",
   "execution_count": 16,
   "id": "847cc9af",
   "metadata": {},
   "outputs": [],
   "source": [
    "# d | [('k1', 100), ('k3', 3), ('k4', 4)]\n",
    "# TypeError: unsupported operand type(s) for |: 'dict' and 'list'"
   ]
  }
 ],
 "metadata": {
  "kernelspec": {
   "display_name": "Python 3",
   "language": "python",
   "name": "python3"
  },
  "language_info": {
   "codemirror_mode": {
    "name": "ipython",
    "version": 3
   },
   "file_extension": ".py",
   "mimetype": "text/x-python",
   "name": "python",
   "nbconvert_exporter": "python",
   "pygments_lexer": "ipython3",
   "version": "3.11.4"
  }
 },
 "nbformat": 4,
 "nbformat_minor": 5
}
