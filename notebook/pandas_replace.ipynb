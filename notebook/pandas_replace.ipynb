{
 "cells": [
  {
   "cell_type": "code",
   "execution_count": 1,
   "metadata": {},
   "outputs": [],
   "source": [
    "import pandas as pd"
   ]
  },
  {
   "cell_type": "code",
   "execution_count": 2,
   "metadata": {},
   "outputs": [
    {
     "name": "stdout",
     "output_type": "stream",
     "text": [
      "2.1.2\n"
     ]
    }
   ],
   "source": [
    "print(pd.__version__)"
   ]
  },
  {
   "cell_type": "code",
   "execution_count": 3,
   "metadata": {},
   "outputs": [
    {
     "name": "stdout",
     "output_type": "stream",
     "text": [
      "      name  age state  point\n",
      "0    Alice   24    NY     64\n",
      "1      Bob   42    CA     24\n",
      "2  Charlie   18    CA     70\n",
      "3     Dave   68    TX     70\n",
      "4    Ellen   24    CA     88\n",
      "5    Frank   30    NY     57\n"
     ]
    }
   ],
   "source": [
    "df = pd.read_csv('data/src/sample_pandas_normal.csv')\n",
    "df.iloc[1, 3] = 24\n",
    "print(df)"
   ]
  },
  {
   "cell_type": "code",
   "execution_count": 4,
   "metadata": {},
   "outputs": [
    {
     "name": "stdout",
     "output_type": "stream",
     "text": [
      "      name  age       state  point\n",
      "0    Alice   24          NY     64\n",
      "1      Bob   42  California     24\n",
      "2  Charlie   18  California     70\n",
      "3     Dave   68          TX     70\n",
      "4    Ellen   24  California     88\n",
      "5    Frank   30          NY     57\n"
     ]
    }
   ],
   "source": [
    "print(df.replace('CA', 'California'))"
   ]
  },
  {
   "cell_type": "code",
   "execution_count": 5,
   "metadata": {},
   "outputs": [
    {
     "name": "stdout",
     "output_type": "stream",
     "text": [
      "      name  age state  point\n",
      "0    Alice  100    NY     64\n",
      "1      Bob   42    CA    100\n",
      "2  Charlie   18    CA     70\n",
      "3     Dave   68    TX     70\n",
      "4    Ellen  100    CA     88\n",
      "5    Frank   30    NY     57\n"
     ]
    }
   ],
   "source": [
    "print(df.replace(24, 100))"
   ]
  },
  {
   "cell_type": "code",
   "execution_count": 6,
   "metadata": {},
   "outputs": [
    {
     "name": "stdout",
     "output_type": "stream",
     "text": [
      "      name  age       state  point\n",
      "0    Alice  100          NY     64\n",
      "1      Bob   42  California    100\n",
      "2  Charlie   18  California     70\n",
      "3     Dave   68          TX     70\n",
      "4    Ellen  100  California     88\n",
      "5    Frank   30          NY     57\n"
     ]
    }
   ],
   "source": [
    "print(df.replace({'CA': 'California', 24: 100}))"
   ]
  },
  {
   "cell_type": "code",
   "execution_count": 7,
   "metadata": {},
   "outputs": [
    {
     "name": "stdout",
     "output_type": "stream",
     "text": [
      "      name  age       state  point\n",
      "0    Alice  100          NY     64\n",
      "1      Bob   42  California    100\n",
      "2  Charlie   18  California     70\n",
      "3     Dave   68          TX     70\n",
      "4    Ellen  100  California     88\n",
      "5    Frank   30          NY     57\n"
     ]
    }
   ],
   "source": [
    "print(df.replace(['CA', 24], ['California', 100]))"
   ]
  },
  {
   "cell_type": "code",
   "execution_count": 8,
   "metadata": {},
   "outputs": [],
   "source": [
    "# print(df.replace(['CA', 24, 'NY'], ['California', 100]))\n",
    "# ValueError: Replacement lists must match in length. Expecting 3 got 2"
   ]
  },
  {
   "cell_type": "code",
   "execution_count": 9,
   "metadata": {},
   "outputs": [
    {
     "name": "stdout",
     "output_type": "stream",
     "text": [
      "      name  age state point\n",
      "0    Alice  XXX    NY    64\n",
      "1      Bob   42   XXX   XXX\n",
      "2  Charlie   18   XXX    70\n",
      "3     Dave   68    TX    70\n",
      "4    Ellen  XXX   XXX    88\n",
      "5    Frank   30    NY    57\n"
     ]
    }
   ],
   "source": [
    "print(df.replace(['CA', 24], 'XXX'))"
   ]
  },
  {
   "cell_type": "code",
   "execution_count": 10,
   "metadata": {},
   "outputs": [
    {
     "name": "stdout",
     "output_type": "stream",
     "text": [
      "      name  age state  point\n",
      "0    Alice  100    NY     64\n",
      "1      Bob   42    CA     24\n",
      "2  Charlie   18    CA     70\n",
      "3     Dave   68    TX     70\n",
      "4    Ellen  100    CA     88\n",
      "5    Frank   30    NY     57\n"
     ]
    }
   ],
   "source": [
    "print(df.replace({'age': {24: 100}}))"
   ]
  },
  {
   "cell_type": "code",
   "execution_count": 11,
   "metadata": {},
   "outputs": [
    {
     "name": "stdout",
     "output_type": "stream",
     "text": [
      "      name  age state  point\n",
      "0    Alice  100    NY     64\n",
      "1      Bob   42    CA     50\n",
      "2  Charlie    0    CA     70\n",
      "3     Dave   68    TX     70\n",
      "4    Ellen  100    CA     88\n",
      "5    Frank   30    NY     57\n"
     ]
    }
   ],
   "source": [
    "print(df.replace({'age': {24: 100, 18: 0}, 'point': {24: 50}}))"
   ]
  },
  {
   "cell_type": "code",
   "execution_count": 12,
   "metadata": {},
   "outputs": [],
   "source": [
    "# print(df.replace({'age': [[24, 18], [100, 0]], 'point': {24: 50}}))\n",
    "# TypeError: If a nested mapping is passed, all values of the top level mapping must be mappings"
   ]
  },
  {
   "cell_type": "code",
   "execution_count": 13,
   "metadata": {},
   "outputs": [
    {
     "name": "stdout",
     "output_type": "stream",
     "text": [
      "      name  age state  point\n",
      "0    Alice  100    NY     64\n",
      "1      Bob   42    CA     24\n",
      "2  Charlie   18    CA    100\n",
      "3     Dave   68    TX    100\n",
      "4    Ellen  100    CA     88\n",
      "5    Frank   30    NY     57\n"
     ]
    }
   ],
   "source": [
    "print(df.replace({'age': 24, 'point': 70}, 100))"
   ]
  },
  {
   "cell_type": "code",
   "execution_count": 14,
   "metadata": {},
   "outputs": [
    {
     "name": "stdout",
     "output_type": "stream",
     "text": [
      "      name  age state  point\n",
      "0    Alice  100    NY     64\n",
      "1      Bob   42    CA     24\n",
      "2  Charlie  100    CA    100\n",
      "3     Dave   68    TX    100\n",
      "4    Ellen  100    CA     88\n",
      "5    Frank   30    NY     57\n"
     ]
    }
   ],
   "source": [
    "print(df.replace({'age': [24, 18], 'point': 70}, 100))"
   ]
  },
  {
   "cell_type": "code",
   "execution_count": 15,
   "metadata": {},
   "outputs": [
    {
     "name": "stdout",
     "output_type": "stream",
     "text": [
      "      name  age state  point\n",
      "0    Alice   24    NY     64\n",
      "1      Bob   42    CA     24\n",
      "2  Charlie   18    CA     70\n",
      "3     Dave   68    TX     70\n",
      "4    Ellen   24    CA     88\n",
      "5    Frank   30    NY     57\n"
     ]
    }
   ],
   "source": [
    "print(df.replace('li', 'XX'))"
   ]
  },
  {
   "cell_type": "code",
   "execution_count": 16,
   "metadata": {},
   "outputs": [
    {
     "name": "stdout",
     "output_type": "stream",
     "text": [
      "       name  age state  point\n",
      "0  NEW_NAME   24    NY     64\n",
      "1       Bob   42    CA     24\n",
      "2  NEW_NAME   18    CA     70\n",
      "3  NEW_NAME   68    TX     70\n",
      "4     Ellen   24    CA     88\n",
      "5     Frank   30    NY     57\n"
     ]
    }
   ],
   "source": [
    "print(df.replace('.*e$', 'NEW_NAME', regex=True))"
   ]
  },
  {
   "cell_type": "code",
   "execution_count": 17,
   "metadata": {},
   "outputs": [
    {
     "name": "stdout",
     "output_type": "stream",
     "text": [
      "      name  age state  point\n",
      "0    AXXce   24    NY     64\n",
      "1      Bob   42    CA     24\n",
      "2  CharXXe   18    CA     70\n",
      "3     Dave   68    TX     70\n",
      "4    Ellen   24    CA     88\n",
      "5    Frank   30    NY     57\n"
     ]
    }
   ],
   "source": [
    "print(df.replace('li', 'XX', regex=True))"
   ]
  },
  {
   "cell_type": "code",
   "execution_count": 18,
   "metadata": {},
   "outputs": [
    {
     "name": "stdout",
     "output_type": "stream",
     "text": [
      "     name  age state  point\n",
      "0    ce-A   24    NY     64\n",
      "1     Bob   42    CA     24\n",
      "2  e-Char   18    CA     70\n",
      "3    Dave   68    TX     70\n",
      "4   Ellen   24    CA     88\n",
      "5   Frank   30    NY     57\n"
     ]
    }
   ],
   "source": [
    "print(df.replace('(.*)li(.*)', r'\\2-\\1', regex=True))"
   ]
  },
  {
   "cell_type": "code",
   "execution_count": 19,
   "metadata": {},
   "outputs": [
    {
     "name": "stdout",
     "output_type": "stream",
     "text": [
      "      name  age state  point\n",
      "0    AXXce   24    NY     64\n",
      "1      Bob   42    CA     24\n",
      "2  CharXXe   18    CA     70\n",
      "3     Dave   68    TX     70\n",
      "4    Ellen   24    CA     88\n",
      "5    Frank   30    NY     57\n"
     ]
    }
   ],
   "source": [
    "df['name'] = df['name'].str.replace('li', 'XX')\n",
    "print(df)"
   ]
  },
  {
   "cell_type": "code",
   "execution_count": 20,
   "metadata": {},
   "outputs": [
    {
     "name": "stdout",
     "output_type": "stream",
     "text": [
      "      name  age state  point\n",
      "0    Alice   24    NY     64\n",
      "1      Bob   42    CA     92\n",
      "2  Charlie   18    CA     70\n",
      "3     Dave   68    TX     70\n",
      "4    Ellen   24    CA     88\n",
      "5    Frank   30    NY     57\n"
     ]
    }
   ],
   "source": [
    "df = pd.read_csv('data/src/sample_pandas_normal.csv')\n",
    "print(df)"
   ]
  },
  {
   "cell_type": "code",
   "execution_count": 21,
   "metadata": {},
   "outputs": [
    {
     "name": "stdout",
     "output_type": "stream",
     "text": [
      "      name  age       state  point\n",
      "0    Alice   24          NY     64\n",
      "1      Bob   42  California     92\n",
      "2  Charlie   18  California     70\n",
      "3     Dave   68          TX     70\n",
      "4    Ellen   24  California     88\n",
      "5    Frank   30          NY     57\n"
     ]
    }
   ],
   "source": [
    "df.replace('CA', 'California', inplace=True)\n",
    "print(df)"
   ]
  }
 ],
 "metadata": {
  "kernelspec": {
   "display_name": "Python 3",
   "language": "python",
   "name": "python3"
  },
  "language_info": {
   "codemirror_mode": {
    "name": "ipython",
    "version": 3
   },
   "file_extension": ".py",
   "mimetype": "text/x-python",
   "name": "python",
   "nbconvert_exporter": "python",
   "pygments_lexer": "ipython3",
   "version": "3.11.6"
  }
 },
 "nbformat": 4,
 "nbformat_minor": 2
}
