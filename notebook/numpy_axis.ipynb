{
 "cells": [
  {
   "cell_type": "code",
   "execution_count": 1,
   "id": "198b1697",
   "metadata": {},
   "outputs": [],
   "source": [
    "import numpy as np"
   ]
  },
  {
   "cell_type": "code",
   "execution_count": 2,
   "id": "cd7650a2",
   "metadata": {},
   "outputs": [
    {
     "name": "stdout",
     "output_type": "stream",
     "text": [
      "1.26.1\n"
     ]
    }
   ],
   "source": [
    "print(np.__version__)"
   ]
  },
  {
   "cell_type": "code",
   "execution_count": 3,
   "id": "4c6d27d6",
   "metadata": {},
   "outputs": [
    {
     "name": "stdout",
     "output_type": "stream",
     "text": [
      "[[ 0  1  2  3]\n",
      " [ 4  5  6  7]\n",
      " [ 8  9 10 11]]\n"
     ]
    }
   ],
   "source": [
    "a = np.arange(12).reshape(3, 4)\n",
    "print(a)"
   ]
  },
  {
   "cell_type": "code",
   "execution_count": 4,
   "id": "98d971a9",
   "metadata": {},
   "outputs": [
    {
     "name": "stdout",
     "output_type": "stream",
     "text": [
      "[12 15 18 21]\n"
     ]
    }
   ],
   "source": [
    "print(np.sum(a, axis=0))"
   ]
  },
  {
   "cell_type": "code",
   "execution_count": 5,
   "id": "a681ce5a",
   "metadata": {},
   "outputs": [
    {
     "name": "stdout",
     "output_type": "stream",
     "text": [
      "[ 6 22 38]\n"
     ]
    }
   ],
   "source": [
    "print(np.sum(a, axis=1))"
   ]
  },
  {
   "cell_type": "code",
   "execution_count": 6,
   "id": "4a1bac52",
   "metadata": {},
   "outputs": [
    {
     "name": "stdout",
     "output_type": "stream",
     "text": [
      "66\n"
     ]
    }
   ],
   "source": [
    "print(np.sum(a))"
   ]
  },
  {
   "cell_type": "code",
   "execution_count": 7,
   "id": "bf31c173",
   "metadata": {},
   "outputs": [
    {
     "name": "stdout",
     "output_type": "stream",
     "text": [
      "66\n"
     ]
    }
   ],
   "source": [
    "print(np.sum(a, axis=None))"
   ]
  },
  {
   "cell_type": "code",
   "execution_count": 8,
   "id": "82299d28",
   "metadata": {},
   "outputs": [],
   "source": [
    "# print(np.sum(a, axis=2))\n",
    "# AxisError: axis 2 is out of bounds for array of dimension 2"
   ]
  },
  {
   "cell_type": "code",
   "execution_count": 9,
   "id": "eaa965b1",
   "metadata": {},
   "outputs": [
    {
     "name": "stdout",
     "output_type": "stream",
     "text": [
      "[ 6 22 38]\n"
     ]
    }
   ],
   "source": [
    "print(np.sum(a, axis=-1))"
   ]
  },
  {
   "cell_type": "code",
   "execution_count": 10,
   "id": "8872ebef",
   "metadata": {},
   "outputs": [
    {
     "name": "stdout",
     "output_type": "stream",
     "text": [
      "[12 15 18 21]\n"
     ]
    }
   ],
   "source": [
    "print(np.sum(a, axis=-2))"
   ]
  },
  {
   "cell_type": "code",
   "execution_count": 11,
   "id": "9f7c0ca6",
   "metadata": {},
   "outputs": [],
   "source": [
    "# print(np.sum(a, axis=-3))\n",
    "# AxisError: axis -3 is out of bounds for array of dimension 2"
   ]
  },
  {
   "cell_type": "code",
   "execution_count": 12,
   "id": "26770ed5",
   "metadata": {},
   "outputs": [
    {
     "name": "stdout",
     "output_type": "stream",
     "text": [
      "[[0 1 2]\n",
      " [3 4 5]]\n"
     ]
    }
   ],
   "source": [
    "a = np.arange(6).reshape(2, 3)\n",
    "print(a)"
   ]
  },
  {
   "cell_type": "code",
   "execution_count": 13,
   "id": "07fe98a4",
   "metadata": {},
   "outputs": [
    {
     "name": "stdout",
     "output_type": "stream",
     "text": [
      "[3 5 7]\n"
     ]
    }
   ],
   "source": [
    "print(np.sum(a, axis=0))"
   ]
  },
  {
   "cell_type": "code",
   "execution_count": 14,
   "id": "05f3afd2",
   "metadata": {},
   "outputs": [
    {
     "name": "stdout",
     "output_type": "stream",
     "text": [
      "[ 3 12]\n"
     ]
    }
   ],
   "source": [
    "print(np.sum(a, axis=1))"
   ]
  },
  {
   "cell_type": "code",
   "execution_count": 15,
   "id": "9ad392ab",
   "metadata": {},
   "outputs": [
    {
     "name": "stdout",
     "output_type": "stream",
     "text": [
      "[3 5 7]\n"
     ]
    }
   ],
   "source": [
    "print(a[0, :] + a[1, :])"
   ]
  },
  {
   "cell_type": "code",
   "execution_count": 16,
   "id": "c7bb8992",
   "metadata": {},
   "outputs": [
    {
     "name": "stdout",
     "output_type": "stream",
     "text": [
      "[ 3 12]\n"
     ]
    }
   ],
   "source": [
    "print(a[:, 0] + a[:, 1] + a[:, 2])"
   ]
  },
  {
   "cell_type": "code",
   "execution_count": 17,
   "id": "28e1cb6d",
   "metadata": {},
   "outputs": [
    {
     "name": "stdout",
     "output_type": "stream",
     "text": [
      "[[[ 1  1  1  1]\n",
      "  [ 1  1  1  1]\n",
      "  [ 1  1  1  1]]\n",
      "\n",
      " [[10 10 10 10]\n",
      "  [10 10 10 10]\n",
      "  [10 10 10 10]]]\n"
     ]
    }
   ],
   "source": [
    "a = np.stack([np.ones((3, 4), int), np.full((3, 4), 10)])\n",
    "print(a)"
   ]
  },
  {
   "cell_type": "code",
   "execution_count": 18,
   "id": "b7e1b42c",
   "metadata": {},
   "outputs": [
    {
     "name": "stdout",
     "output_type": "stream",
     "text": [
      "(2, 3, 4)\n"
     ]
    }
   ],
   "source": [
    "print(a.shape)"
   ]
  },
  {
   "cell_type": "code",
   "execution_count": 19,
   "id": "2fb0764e",
   "metadata": {},
   "outputs": [
    {
     "name": "stdout",
     "output_type": "stream",
     "text": [
      "[[11 11 11 11]\n",
      " [11 11 11 11]\n",
      " [11 11 11 11]]\n"
     ]
    }
   ],
   "source": [
    "print(np.sum(a, axis=0))"
   ]
  },
  {
   "cell_type": "code",
   "execution_count": 20,
   "id": "d5a83402",
   "metadata": {},
   "outputs": [
    {
     "name": "stdout",
     "output_type": "stream",
     "text": [
      "[[ 3  3  3  3]\n",
      " [30 30 30 30]]\n"
     ]
    }
   ],
   "source": [
    "print(np.sum(a, axis=1))"
   ]
  },
  {
   "cell_type": "code",
   "execution_count": 21,
   "id": "029fc39c",
   "metadata": {},
   "outputs": [
    {
     "name": "stdout",
     "output_type": "stream",
     "text": [
      "[[ 4  4  4]\n",
      " [40 40 40]]\n"
     ]
    }
   ],
   "source": [
    "print(np.sum(a, axis=2))"
   ]
  },
  {
   "cell_type": "code",
   "execution_count": 22,
   "id": "eba650e1",
   "metadata": {},
   "outputs": [
    {
     "name": "stdout",
     "output_type": "stream",
     "text": [
      "[[11 11 11 11]\n",
      " [11 11 11 11]\n",
      " [11 11 11 11]]\n"
     ]
    }
   ],
   "source": [
    "print(a[0, :, :] + a[1, :, :])"
   ]
  },
  {
   "cell_type": "code",
   "execution_count": 23,
   "id": "c0b2c0af",
   "metadata": {},
   "outputs": [
    {
     "name": "stdout",
     "output_type": "stream",
     "text": [
      "[[ 3  3  3  3]\n",
      " [30 30 30 30]]\n"
     ]
    }
   ],
   "source": [
    "print(a[:, 0, :] + a[:, 1, :] + a[:, 2, :])"
   ]
  },
  {
   "cell_type": "code",
   "execution_count": 24,
   "id": "1d722cd3",
   "metadata": {},
   "outputs": [
    {
     "name": "stdout",
     "output_type": "stream",
     "text": [
      "[[ 4  4  4]\n",
      " [40 40 40]]\n"
     ]
    }
   ],
   "source": [
    "print(a[:, :, 0] + a[:, :, 1] + a[:, :, 2] + a[:, :, 3])"
   ]
  },
  {
   "cell_type": "code",
   "execution_count": 25,
   "id": "3b67341a",
   "metadata": {},
   "outputs": [
    {
     "name": "stdout",
     "output_type": "stream",
     "text": [
      "[33 33 33 33]\n"
     ]
    }
   ],
   "source": [
    "print(np.sum(a, axis=(0, 1)))"
   ]
  },
  {
   "cell_type": "code",
   "execution_count": 26,
   "id": "b946cd56",
   "metadata": {},
   "outputs": [
    {
     "name": "stdout",
     "output_type": "stream",
     "text": [
      "[44 44 44]\n"
     ]
    }
   ],
   "source": [
    "print(np.sum(a, axis=(0, 2)))"
   ]
  },
  {
   "cell_type": "code",
   "execution_count": 27,
   "id": "3b2b65ab",
   "metadata": {},
   "outputs": [
    {
     "name": "stdout",
     "output_type": "stream",
     "text": [
      "[ 12 120]\n"
     ]
    }
   ],
   "source": [
    "print(np.sum(a, axis=(1, 2)))"
   ]
  },
  {
   "cell_type": "code",
   "execution_count": 28,
   "id": "9fcee02b",
   "metadata": {},
   "outputs": [
    {
     "name": "stdout",
     "output_type": "stream",
     "text": [
      "[33 33 33 33]\n"
     ]
    }
   ],
   "source": [
    "print(\n",
    "    a[0, 0, :] + a[0, 1, :] + a[0, 2, :] +\n",
    "    a[1, 0, :] + a[1, 1, :] + a[1, 2, :]\n",
    ")"
   ]
  },
  {
   "cell_type": "code",
   "execution_count": 29,
   "id": "8cb709d1",
   "metadata": {},
   "outputs": [
    {
     "name": "stdout",
     "output_type": "stream",
     "text": [
      "[44 44 44]\n"
     ]
    }
   ],
   "source": [
    "print(\n",
    "    a[0, :, 0] + a[0, :, 1] + a[0, :, 2] + a[0, :, 3] +\n",
    "    a[1, :, 0] + a[1, :, 1] + a[1, :, 2] + a[1, :, 3]\n",
    ")"
   ]
  },
  {
   "cell_type": "code",
   "execution_count": 30,
   "id": "444c07bc",
   "metadata": {},
   "outputs": [
    {
     "name": "stdout",
     "output_type": "stream",
     "text": [
      "[ 12 120]\n"
     ]
    }
   ],
   "source": [
    "print(\n",
    "    a[:, 0, 0] + a[:, 0, 1] + a[:, 0, 2] + a[:, 0, 3] + \n",
    "    a[:, 1, 0] + a[:, 1, 1] + a[:, 1, 2] + a[:, 1, 3] + \n",
    "    a[:, 2, 0] + a[:, 2, 1] + a[:, 2, 2] + a[:, 2, 3]\n",
    ")"
   ]
  }
 ],
 "metadata": {
  "kernelspec": {
   "display_name": "Python 3",
   "language": "python",
   "name": "python3"
  },
  "language_info": {
   "codemirror_mode": {
    "name": "ipython",
    "version": 3
   },
   "file_extension": ".py",
   "mimetype": "text/x-python",
   "name": "python",
   "nbconvert_exporter": "python",
   "pygments_lexer": "ipython3",
   "version": "3.11.6"
  }
 },
 "nbformat": 4,
 "nbformat_minor": 5
}
