{
 "cells": [
  {
   "cell_type": "code",
   "execution_count": 1,
   "metadata": {},
   "outputs": [],
   "source": [
    "import pandas as pd"
   ]
  },
  {
   "cell_type": "code",
   "execution_count": 2,
   "metadata": {},
   "outputs": [
    {
     "name": "stdout",
     "output_type": "stream",
     "text": [
      "2.0.3\n"
     ]
    }
   ],
   "source": [
    "print(pd.__version__)"
   ]
  },
  {
   "cell_type": "code",
   "execution_count": 3,
   "metadata": {},
   "outputs": [
    {
     "name": "stdout",
     "output_type": "stream",
     "text": [
      "      name  age state  point\n",
      "0    Alice   24    NY     64\n",
      "1      Bob   42    CA     92\n",
      "2  Charlie   18    CA     70\n",
      "3     Dave   68    TX     70\n",
      "4    Ellen   24    CA     88\n",
      "5    Frank   30    NY     57\n"
     ]
    }
   ],
   "source": [
    "df = pd.read_csv('data/src/sample_pandas_normal.csv')\n",
    "print(df)"
   ]
  },
  {
   "cell_type": "code",
   "execution_count": 4,
   "metadata": {},
   "outputs": [
    {
     "name": "stdout",
     "output_type": "stream",
     "text": [
      "      name  age state  point\n",
      "0    Alice   24    NY     64\n",
      "2  Charlie   18    CA     70\n",
      "4    Ellen   24    CA     88\n"
     ]
    }
   ],
   "source": [
    "print(df[df['age'] < 25])"
   ]
  },
  {
   "cell_type": "code",
   "execution_count": 5,
   "metadata": {},
   "outputs": [
    {
     "name": "stdout",
     "output_type": "stream",
     "text": [
      "      name  age state  point\n",
      "0    Alice   24    NY     64\n",
      "2  Charlie   18    CA     70\n",
      "4    Ellen   24    CA     88\n"
     ]
    }
   ],
   "source": [
    "print(df.query('age < 25'))"
   ]
  },
  {
   "cell_type": "code",
   "execution_count": 6,
   "metadata": {},
   "outputs": [
    {
     "name": "stdout",
     "output_type": "stream",
     "text": [
      "      name  age state  point\n",
      "0    Alice   24    NY     64\n",
      "2  Charlie   18    CA     70\n",
      "4    Ellen   24    CA     88\n"
     ]
    }
   ],
   "source": [
    "val = 25\n",
    "print(df.query('age < @val'))"
   ]
  },
  {
   "cell_type": "code",
   "execution_count": 7,
   "metadata": {},
   "outputs": [
    {
     "name": "stdout",
     "output_type": "stream",
     "text": [
      "    name  age state  point\n",
      "1    Bob   42    CA     92\n",
      "5  Frank   30    NY     57\n"
     ]
    }
   ],
   "source": [
    "print(df.query('30 <= age < 50'))"
   ]
  },
  {
   "cell_type": "code",
   "execution_count": 8,
   "metadata": {},
   "outputs": [
    {
     "name": "stdout",
     "output_type": "stream",
     "text": [
      "      name  age state  point\n",
      "2  Charlie   18    CA     70\n",
      "4    Ellen   24    CA     88\n"
     ]
    }
   ],
   "source": [
    "print(df.query('age < point / 3'))"
   ]
  },
  {
   "cell_type": "code",
   "execution_count": 9,
   "metadata": {},
   "outputs": [
    {
     "name": "stdout",
     "output_type": "stream",
     "text": [
      "      name  age state  point\n",
      "1      Bob   42    CA     92\n",
      "2  Charlie   18    CA     70\n",
      "4    Ellen   24    CA     88\n"
     ]
    }
   ],
   "source": [
    "print(df.query('state == \"CA\"'))"
   ]
  },
  {
   "cell_type": "code",
   "execution_count": 10,
   "metadata": {},
   "outputs": [
    {
     "name": "stdout",
     "output_type": "stream",
     "text": [
      "    name  age state  point\n",
      "0  Alice   24    NY     64\n",
      "3   Dave   68    TX     70\n",
      "5  Frank   30    NY     57\n"
     ]
    }
   ],
   "source": [
    "s = 'CA'\n",
    "print(df.query('state != @s'))"
   ]
  },
  {
   "cell_type": "code",
   "execution_count": 11,
   "metadata": {},
   "outputs": [
    {
     "name": "stdout",
     "output_type": "stream",
     "text": [
      "    name  age state  point\n",
      "0  Alice   24    NY     64\n",
      "3   Dave   68    TX     70\n",
      "5  Frank   30    NY     57\n"
     ]
    }
   ],
   "source": [
    "print(df[df['state'].isin(['NY', 'TX'])])"
   ]
  },
  {
   "cell_type": "code",
   "execution_count": 12,
   "metadata": {},
   "outputs": [
    {
     "name": "stdout",
     "output_type": "stream",
     "text": [
      "    name  age state  point\n",
      "0  Alice   24    NY     64\n",
      "3   Dave   68    TX     70\n",
      "5  Frank   30    NY     57\n"
     ]
    }
   ],
   "source": [
    "print(df.query('state in [\"NY\", \"TX\"]'))"
   ]
  },
  {
   "cell_type": "code",
   "execution_count": 13,
   "metadata": {},
   "outputs": [
    {
     "name": "stdout",
     "output_type": "stream",
     "text": [
      "    name  age state  point\n",
      "0  Alice   24    NY     64\n",
      "3   Dave   68    TX     70\n",
      "5  Frank   30    NY     57\n"
     ]
    }
   ],
   "source": [
    "print(df.query('state == [\"NY\", \"TX\"]'))"
   ]
  },
  {
   "cell_type": "code",
   "execution_count": 14,
   "metadata": {},
   "outputs": [
    {
     "name": "stdout",
     "output_type": "stream",
     "text": [
      "    name  age state  point\n",
      "0  Alice   24    NY     64\n",
      "3   Dave   68    TX     70\n",
      "5  Frank   30    NY     57\n"
     ]
    }
   ],
   "source": [
    "l = ['NY', 'TX']\n",
    "print(df.query('state in @l'))"
   ]
  },
  {
   "cell_type": "code",
   "execution_count": 15,
   "metadata": {},
   "outputs": [
    {
     "name": "stdout",
     "output_type": "stream",
     "text": [
      "      name  age state  point\n",
      "0    Alice   24    NY     64\n",
      "2  Charlie   18    CA     70\n",
      "3     Dave   68    TX     70\n"
     ]
    }
   ],
   "source": [
    "print(df.query('name.str.endswith(\"e\")'))"
   ]
  },
  {
   "cell_type": "code",
   "execution_count": 16,
   "metadata": {},
   "outputs": [
    {
     "name": "stdout",
     "output_type": "stream",
     "text": [
      "      name  age state  point\n",
      "0    Alice   24    NY     64\n",
      "2  Charlie   18    CA     70\n"
     ]
    }
   ],
   "source": [
    "print(df.query('name.str.contains(\"li\")'))"
   ]
  },
  {
   "cell_type": "code",
   "execution_count": 17,
   "metadata": {},
   "outputs": [
    {
     "name": "stdout",
     "output_type": "stream",
     "text": [
      "      name  age state  point\n",
      "2  Charlie   18    CA     70\n",
      "3     Dave   68    TX     70\n"
     ]
    }
   ],
   "source": [
    "print(df.query('age.astype(\"str\").str.endswith(\"8\")'))"
   ]
  },
  {
   "cell_type": "code",
   "execution_count": 18,
   "metadata": {},
   "outputs": [
    {
     "name": "stdout",
     "output_type": "stream",
     "text": [
      "      name  age state  point\n",
      "0     None   24    NY     64\n",
      "1      Bob   42    CA     92\n",
      "2  Charlie   18    CA     70\n",
      "3     Dave   68    TX     70\n",
      "4    Ellen   24    CA     88\n",
      "5    Frank   30    NY     57\n"
     ]
    }
   ],
   "source": [
    "df.at[0, 'name'] = None\n",
    "print(df)"
   ]
  },
  {
   "cell_type": "code",
   "execution_count": 19,
   "metadata": {},
   "outputs": [],
   "source": [
    "# print(df.query('name.str.endswith(\"e\")'))\n",
    "# ValueError: unknown type object"
   ]
  },
  {
   "cell_type": "code",
   "execution_count": 20,
   "metadata": {},
   "outputs": [
    {
     "name": "stdout",
     "output_type": "stream",
     "text": [
      "      name  age state  point\n",
      "2  Charlie   18    CA     70\n",
      "3     Dave   68    TX     70\n"
     ]
    }
   ],
   "source": [
    "print(df[df['name'].str.endswith('e', na=False)])"
   ]
  },
  {
   "cell_type": "code",
   "execution_count": 21,
   "metadata": {},
   "outputs": [
    {
     "name": "stdout",
     "output_type": "stream",
     "text": [
      "      name  age state  point\n",
      "2  Charlie   18    CA     70\n",
      "3     Dave   68    TX     70\n"
     ]
    }
   ],
   "source": [
    "print(df.query('name.str.endswith(\"e\", na=False)'))"
   ]
  },
  {
   "cell_type": "code",
   "execution_count": 22,
   "metadata": {},
   "outputs": [],
   "source": [
    "df = pd.read_csv('data/src/sample_pandas_normal.csv')"
   ]
  },
  {
   "cell_type": "code",
   "execution_count": 23,
   "metadata": {},
   "outputs": [
    {
     "name": "stdout",
     "output_type": "stream",
     "text": [
      "      name  age state  point\n",
      "0    Alice   24    NY     64\n",
      "2  Charlie   18    CA     70\n",
      "4    Ellen   24    CA     88\n"
     ]
    }
   ],
   "source": [
    "print(df.query('index % 2 == 0'))"
   ]
  },
  {
   "cell_type": "code",
   "execution_count": 24,
   "metadata": {},
   "outputs": [
    {
     "name": "stdout",
     "output_type": "stream",
     "text": [
      "         age state  point\n",
      "name                     \n",
      "Alice     24    NY     64\n",
      "Bob       42    CA     92\n",
      "Charlie   18    CA     70\n",
      "Dave      68    TX     70\n",
      "Ellen     24    CA     88\n",
      "Frank     30    NY     57\n"
     ]
    }
   ],
   "source": [
    "df_name = df.set_index('name')\n",
    "print(df_name)"
   ]
  },
  {
   "cell_type": "code",
   "execution_count": 25,
   "metadata": {},
   "outputs": [
    {
     "name": "stdout",
     "output_type": "stream",
     "text": [
      "         age state  point\n",
      "name                     \n",
      "Alice     24    NY     64\n",
      "Charlie   18    CA     70\n",
      "Dave      68    TX     70\n"
     ]
    }
   ],
   "source": [
    "print(df_name.query('name.str.endswith(\"e\")'))"
   ]
  },
  {
   "cell_type": "code",
   "execution_count": 26,
   "metadata": {},
   "outputs": [
    {
     "name": "stdout",
     "output_type": "stream",
     "text": [
      "         age state  point\n",
      "name                     \n",
      "Alice     24    NY     64\n",
      "Charlie   18    CA     70\n",
      "Dave      68    TX     70\n"
     ]
    }
   ],
   "source": [
    "print(df_name.query('index.str.endswith(\"e\")'))"
   ]
  },
  {
   "cell_type": "code",
   "execution_count": 27,
   "metadata": {},
   "outputs": [
    {
     "name": "stdout",
     "output_type": "stream",
     "text": [
      "      name  age state  point\n",
      "2  Charlie   18    CA     70\n",
      "4    Ellen   24    CA     88\n"
     ]
    }
   ],
   "source": [
    "print(df[(df['age'] < 25) & (df['point'] > 65)])"
   ]
  },
  {
   "cell_type": "code",
   "execution_count": 28,
   "metadata": {},
   "outputs": [
    {
     "name": "stdout",
     "output_type": "stream",
     "text": [
      "      name  age state  point\n",
      "2  Charlie   18    CA     70\n",
      "4    Ellen   24    CA     88\n"
     ]
    }
   ],
   "source": [
    "print(df.query('age < 25 & point > 65'))"
   ]
  },
  {
   "cell_type": "code",
   "execution_count": 29,
   "metadata": {},
   "outputs": [
    {
     "name": "stdout",
     "output_type": "stream",
     "text": [
      "      name  age state  point\n",
      "2  Charlie   18    CA     70\n",
      "4    Ellen   24    CA     88\n"
     ]
    }
   ],
   "source": [
    "print(df.query('age < 25 and point > 65'))"
   ]
  },
  {
   "cell_type": "code",
   "execution_count": 30,
   "metadata": {},
   "outputs": [
    {
     "name": "stdout",
     "output_type": "stream",
     "text": [
      "      name  age state  point\n",
      "1      Bob   42    CA     92\n",
      "2  Charlie   18    CA     70\n",
      "4    Ellen   24    CA     88\n"
     ]
    }
   ],
   "source": [
    "print(df.query('age < 20 | point > 80'))"
   ]
  },
  {
   "cell_type": "code",
   "execution_count": 31,
   "metadata": {},
   "outputs": [
    {
     "name": "stdout",
     "output_type": "stream",
     "text": [
      "      name  age state  point\n",
      "1      Bob   42    CA     92\n",
      "2  Charlie   18    CA     70\n",
      "4    Ellen   24    CA     88\n"
     ]
    }
   ],
   "source": [
    "print(df.query('age < 20 or point > 80'))"
   ]
  },
  {
   "cell_type": "code",
   "execution_count": 32,
   "metadata": {},
   "outputs": [
    {
     "name": "stdout",
     "output_type": "stream",
     "text": [
      "    name  age state  point\n",
      "5  Frank   30    NY     57\n"
     ]
    }
   ],
   "source": [
    "print(df.query('not age < 25 and not point > 65'))"
   ]
  },
  {
   "cell_type": "code",
   "execution_count": 33,
   "metadata": {},
   "outputs": [
    {
     "name": "stdout",
     "output_type": "stream",
     "text": [
      "    name  age state  point\n",
      "0  Alice   24    NY     64\n",
      "1    Bob   42    CA     92\n",
      "4  Ellen   24    CA     88\n"
     ]
    }
   ],
   "source": [
    "print(df.query('age == 24 | point > 80 & state == \"CA\"'))"
   ]
  },
  {
   "cell_type": "code",
   "execution_count": 34,
   "metadata": {},
   "outputs": [
    {
     "name": "stdout",
     "output_type": "stream",
     "text": [
      "    name  age state  point\n",
      "1    Bob   42    CA     92\n",
      "4  Ellen   24    CA     88\n"
     ]
    }
   ],
   "source": [
    "print(df.query('(age == 24 | point > 80) & state == \"CA\"'))"
   ]
  },
  {
   "cell_type": "code",
   "execution_count": 35,
   "metadata": {},
   "outputs": [
    {
     "name": "stdout",
     "output_type": "stream",
     "text": [
      "     0name  age.year state name   3\n",
      "0    Alice        24         NY  64\n",
      "1      Bob        42         CA  92\n",
      "2  Charlie        18         CA  70\n",
      "3     Dave        68         TX  70\n",
      "4    Ellen        24         CA  88\n",
      "5    Frank        30         NY  57\n"
     ]
    }
   ],
   "source": [
    "df.columns = ['0name', 'age.year', 'state name', 3]\n",
    "print(df)"
   ]
  },
  {
   "cell_type": "code",
   "execution_count": 36,
   "metadata": {},
   "outputs": [],
   "source": [
    "# print(df.query('0name.str.endswith(\"e\")'))\n",
    "# SyntaxError: invalid syntax"
   ]
  },
  {
   "cell_type": "code",
   "execution_count": 37,
   "metadata": {},
   "outputs": [],
   "source": [
    "# print(df.query('age.year < 25'))\n",
    "# UndefinedVariableError: name 'age' is not defined"
   ]
  },
  {
   "cell_type": "code",
   "execution_count": 38,
   "metadata": {},
   "outputs": [],
   "source": [
    "# print(df.query('state name == \"CA\"'))\n",
    "# SyntaxError: invalid syntax"
   ]
  },
  {
   "cell_type": "code",
   "execution_count": 39,
   "metadata": {},
   "outputs": [
    {
     "name": "stdout",
     "output_type": "stream",
     "text": [
      "     0name  age.year state name   3\n",
      "0    Alice        24         NY  64\n",
      "2  Charlie        18         CA  70\n",
      "3     Dave        68         TX  70\n"
     ]
    }
   ],
   "source": [
    "print(df.query('`0name`.str.endswith(\"e\")'))"
   ]
  },
  {
   "cell_type": "code",
   "execution_count": 40,
   "metadata": {},
   "outputs": [
    {
     "name": "stdout",
     "output_type": "stream",
     "text": [
      "     0name  age.year state name   3\n",
      "0    Alice        24         NY  64\n",
      "2  Charlie        18         CA  70\n",
      "4    Ellen        24         CA  88\n"
     ]
    }
   ],
   "source": [
    "print(df.query('`age.year` < 25'))"
   ]
  },
  {
   "cell_type": "code",
   "execution_count": 41,
   "metadata": {},
   "outputs": [
    {
     "name": "stdout",
     "output_type": "stream",
     "text": [
      "     0name  age.year state name   3\n",
      "1      Bob        42         CA  92\n",
      "2  Charlie        18         CA  70\n",
      "4    Ellen        24         CA  88\n"
     ]
    }
   ],
   "source": [
    "print(df.query('`state name` == \"CA\"'))"
   ]
  },
  {
   "cell_type": "code",
   "execution_count": 42,
   "metadata": {},
   "outputs": [],
   "source": [
    "# print(df.query('3 > 75'))\n",
    "# KeyError: False"
   ]
  },
  {
   "cell_type": "code",
   "execution_count": 43,
   "metadata": {},
   "outputs": [],
   "source": [
    "# print(df.query('`3` > 75'))\n",
    "# UndefinedVariableError: name 'BACKTICK_QUOTED_STRING_3' is not defined"
   ]
  },
  {
   "cell_type": "code",
   "execution_count": 44,
   "metadata": {},
   "outputs": [
    {
     "name": "stdout",
     "output_type": "stream",
     "text": [
      "   0name  age.year state name   3\n",
      "1    Bob        42         CA  92\n",
      "4  Ellen        24         CA  88\n"
     ]
    }
   ],
   "source": [
    "print(df[df[3] > 75])"
   ]
  },
  {
   "cell_type": "code",
   "execution_count": 45,
   "metadata": {},
   "outputs": [],
   "source": [
    "df = pd.read_csv('data/src/sample_pandas_normal.csv')"
   ]
  },
  {
   "cell_type": "code",
   "execution_count": 46,
   "metadata": {},
   "outputs": [
    {
     "name": "stdout",
     "output_type": "stream",
     "text": [
      "    name  age state  point\n",
      "1    Bob   42    CA     92\n",
      "3   Dave   68    TX     70\n",
      "5  Frank   30    NY     57\n"
     ]
    }
   ],
   "source": [
    "df.query('age > 25', inplace=True)\n",
    "print(df)"
   ]
  }
 ],
 "metadata": {
  "kernelspec": {
   "display_name": "Python 3",
   "language": "python",
   "name": "python3"
  },
  "language_info": {
   "codemirror_mode": {
    "name": "ipython",
    "version": 3
   },
   "file_extension": ".py",
   "mimetype": "text/x-python",
   "name": "python",
   "nbconvert_exporter": "python",
   "pygments_lexer": "ipython3",
   "version": "3.11.4"
  }
 },
 "nbformat": 4,
 "nbformat_minor": 2
}
