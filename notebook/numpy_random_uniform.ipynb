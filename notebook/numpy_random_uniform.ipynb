{
 "cells": [
  {
   "cell_type": "code",
   "execution_count": 1,
   "id": "30f2be9e",
   "metadata": {},
   "outputs": [],
   "source": [
    "import numpy as np"
   ]
  },
  {
   "cell_type": "code",
   "execution_count": 2,
   "id": "3d39aa28",
   "metadata": {},
   "outputs": [
    {
     "name": "stdout",
     "output_type": "stream",
     "text": [
      "1.26.1\n"
     ]
    }
   ],
   "source": [
    "print(np.__version__)"
   ]
  },
  {
   "cell_type": "code",
   "execution_count": 3,
   "id": "097486d4",
   "metadata": {},
   "outputs": [],
   "source": [
    "np.random.seed(1234)"
   ]
  },
  {
   "cell_type": "code",
   "execution_count": 4,
   "id": "5d729e7f",
   "metadata": {},
   "outputs": [],
   "source": [
    "rng = np.random.default_rng(1234)"
   ]
  },
  {
   "cell_type": "code",
   "execution_count": 5,
   "id": "8968b945",
   "metadata": {},
   "outputs": [
    {
     "name": "stdout",
     "output_type": "stream",
     "text": [
      "0.9766997666981422\n"
     ]
    }
   ],
   "source": [
    "print(rng.random())"
   ]
  },
  {
   "cell_type": "code",
   "execution_count": 6,
   "id": "993dd65b",
   "metadata": {},
   "outputs": [
    {
     "name": "stdout",
     "output_type": "stream",
     "text": [
      "[0.38019574 0.92324623 0.26169242]\n"
     ]
    }
   ],
   "source": [
    "print(rng.random(3))"
   ]
  },
  {
   "cell_type": "code",
   "execution_count": 7,
   "id": "3b33c791",
   "metadata": {},
   "outputs": [
    {
     "name": "stdout",
     "output_type": "stream",
     "text": [
      "[[0.31909706 0.11809123 0.24176629]\n",
      " [0.31853393 0.96407925 0.2636498 ]]\n"
     ]
    }
   ],
   "source": [
    "print(rng.random((2, 3)))"
   ]
  },
  {
   "cell_type": "code",
   "execution_count": 8,
   "id": "2b47b858",
   "metadata": {},
   "outputs": [
    {
     "name": "stdout",
     "output_type": "stream",
     "text": [
      "[[0.19151945 0.62210877 0.43772774]\n",
      " [0.78535858 0.77997581 0.27259261]]\n"
     ]
    }
   ],
   "source": [
    "print(np.random.random_sample((2, 3)))"
   ]
  },
  {
   "cell_type": "code",
   "execution_count": 9,
   "id": "e4884957",
   "metadata": {},
   "outputs": [
    {
     "name": "stdout",
     "output_type": "stream",
     "text": [
      "[[0.27646426 0.80187218 0.95813935]\n",
      " [0.87593263 0.35781727 0.50099513]]\n"
     ]
    }
   ],
   "source": [
    "print(np.random.rand(2, 3))"
   ]
  },
  {
   "cell_type": "code",
   "execution_count": 10,
   "id": "d90ad0a7",
   "metadata": {},
   "outputs": [],
   "source": [
    "rng = np.random.default_rng(1234)"
   ]
  },
  {
   "cell_type": "code",
   "execution_count": 11,
   "id": "ccc5c030",
   "metadata": {},
   "outputs": [
    {
     "name": "stdout",
     "output_type": "stream",
     "text": [
      "47.66997666981422\n"
     ]
    }
   ],
   "source": [
    "print(rng.uniform(-50.0, 50.0))"
   ]
  },
  {
   "cell_type": "code",
   "execution_count": 12,
   "id": "518d7e4b",
   "metadata": {},
   "outputs": [
    {
     "name": "stdout",
     "output_type": "stream",
     "text": [
      "[-11.9804265   42.32462338 -23.83075761]\n"
     ]
    }
   ],
   "source": [
    "print(rng.uniform(-50.0, 50.0, 3))"
   ]
  },
  {
   "cell_type": "code",
   "execution_count": 13,
   "id": "ae7011e1",
   "metadata": {},
   "outputs": [
    {
     "name": "stdout",
     "output_type": "stream",
     "text": [
      "[[-18.09029416 -38.1908767  -25.82337067]\n",
      " [-18.14660712  46.40792452 -23.63501957]]\n"
     ]
    }
   ],
   "source": [
    "print(rng.uniform(-50.0, 50.0, (2, 3)))"
   ]
  },
  {
   "cell_type": "code",
   "execution_count": 14,
   "id": "6540525e",
   "metadata": {},
   "outputs": [
    {
     "name": "stdout",
     "output_type": "stream",
     "text": [
      "[[ 18.34629352  21.2702027  -12.97492452]\n",
      " [  6.11961861   0.30831653 -48.62315504]]\n"
     ]
    }
   ],
   "source": [
    "print(np.random.uniform(-50.0, 50.0, (2, 3)))"
   ]
  },
  {
   "cell_type": "code",
   "execution_count": 15,
   "id": "9aedfe89",
   "metadata": {},
   "outputs": [],
   "source": [
    "rng = np.random.default_rng(1234)"
   ]
  },
  {
   "cell_type": "code",
   "execution_count": 16,
   "id": "6532fdad",
   "metadata": {},
   "outputs": [
    {
     "name": "stdout",
     "output_type": "stream",
     "text": [
      "97\n"
     ]
    }
   ],
   "source": [
    "print(rng.integers(100))"
   ]
  },
  {
   "cell_type": "code",
   "execution_count": 17,
   "id": "f6d79106",
   "metadata": {},
   "outputs": [
    {
     "name": "stdout",
     "output_type": "stream",
     "text": [
      "[97 98 38]\n"
     ]
    }
   ],
   "source": [
    "print(rng.integers(100, size=3))"
   ]
  },
  {
   "cell_type": "code",
   "execution_count": 18,
   "id": "c0b20b41",
   "metadata": {},
   "outputs": [
    {
     "name": "stdout",
     "output_type": "stream",
     "text": [
      "[[17 92 10]\n",
      " [26 13 31]]\n"
     ]
    }
   ],
   "source": [
    "print(rng.integers(100, size=(2, 3)))"
   ]
  },
  {
   "cell_type": "code",
   "execution_count": 19,
   "id": "9a929ac8",
   "metadata": {},
   "outputs": [
    {
     "name": "stdout",
     "output_type": "stream",
     "text": [
      "[[153 111 179]\n",
      " [124 178 131]]\n"
     ]
    }
   ],
   "source": [
    "print(rng.integers(100, 200, (2, 3)))"
   ]
  },
  {
   "cell_type": "code",
   "execution_count": 20,
   "id": "de417a04",
   "metadata": {},
   "outputs": [
    {
     "name": "stdout",
     "output_type": "stream",
     "text": [
      "[[180 197 196]\n",
      " [126 156 144]]\n"
     ]
    }
   ],
   "source": [
    "print(rng.integers(100, 200, (2, 3), endpoint=True))"
   ]
  },
  {
   "cell_type": "code",
   "execution_count": 21,
   "id": "3988c33b",
   "metadata": {},
   "outputs": [
    {
     "name": "stdout",
     "output_type": "stream",
     "text": [
      "[[134 138 167]\n",
      " [111 100 175]]\n"
     ]
    }
   ],
   "source": [
    "print(np.random.randint(100, 200, (2, 3)))"
   ]
  }
 ],
 "metadata": {
  "kernelspec": {
   "display_name": "Python 3",
   "language": "python",
   "name": "python3"
  },
  "language_info": {
   "codemirror_mode": {
    "name": "ipython",
    "version": 3
   },
   "file_extension": ".py",
   "mimetype": "text/x-python",
   "name": "python",
   "nbconvert_exporter": "python",
   "pygments_lexer": "ipython3",
   "version": "3.11.6"
  }
 },
 "nbformat": 4,
 "nbformat_minor": 5
}
