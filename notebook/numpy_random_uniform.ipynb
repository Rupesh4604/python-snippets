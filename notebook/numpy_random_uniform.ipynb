{
 "cells": [
  {
   "cell_type": "code",
   "execution_count": 1,
   "id": "30f2be9e",
   "metadata": {},
   "outputs": [],
   "source": [
    "import numpy as np"
   ]
  },
  {
   "cell_type": "code",
   "execution_count": 2,
   "id": "3d39aa28",
   "metadata": {},
   "outputs": [
    {
     "name": "stdout",
     "output_type": "stream",
     "text": [
      "1.26.1\n"
     ]
    }
   ],
   "source": [
    "print(np.__version__)"
   ]
  },
  {
   "cell_type": "code",
   "execution_count": 3,
   "id": "5d729e7f",
   "metadata": {},
   "outputs": [],
   "source": [
    "rng = np.random.default_rng()"
   ]
  },
  {
   "cell_type": "code",
   "execution_count": 4,
   "id": "8968b945",
   "metadata": {},
   "outputs": [
    {
     "name": "stdout",
     "output_type": "stream",
     "text": [
      "0.11769302730981768\n"
     ]
    }
   ],
   "source": [
    "print(rng.random())"
   ]
  },
  {
   "cell_type": "code",
   "execution_count": 5,
   "id": "993dd65b",
   "metadata": {},
   "outputs": [
    {
     "name": "stdout",
     "output_type": "stream",
     "text": [
      "[0.58905312 0.90484592 0.90395364]\n"
     ]
    }
   ],
   "source": [
    "print(rng.random(3))"
   ]
  },
  {
   "cell_type": "code",
   "execution_count": 6,
   "id": "3b33c791",
   "metadata": {},
   "outputs": [
    {
     "name": "stdout",
     "output_type": "stream",
     "text": [
      "[[0.59463288 0.19670697 0.95594319]\n",
      " [0.94165422 0.18974122 0.33570092]]\n"
     ]
    }
   ],
   "source": [
    "print(rng.random((2, 3)))"
   ]
  },
  {
   "cell_type": "code",
   "execution_count": 7,
   "id": "2b47b858",
   "metadata": {},
   "outputs": [
    {
     "name": "stdout",
     "output_type": "stream",
     "text": [
      "[[0.34446051 0.76218429 0.37339732]\n",
      " [0.22533506 0.00148215 0.70198151]]\n"
     ]
    }
   ],
   "source": [
    "print(np.random.random_sample((2, 3)))"
   ]
  },
  {
   "cell_type": "code",
   "execution_count": 8,
   "id": "e4884957",
   "metadata": {},
   "outputs": [
    {
     "name": "stdout",
     "output_type": "stream",
     "text": [
      "[[0.78823483 0.00620854 0.96619249]\n",
      " [0.32573769 0.36434893 0.04472163]]\n"
     ]
    }
   ],
   "source": [
    "print(np.random.rand(2, 3))"
   ]
  },
  {
   "cell_type": "code",
   "execution_count": 9,
   "id": "d90ad0a7",
   "metadata": {},
   "outputs": [],
   "source": [
    "rng = np.random.default_rng()"
   ]
  },
  {
   "cell_type": "code",
   "execution_count": 10,
   "id": "ccc5c030",
   "metadata": {},
   "outputs": [
    {
     "name": "stdout",
     "output_type": "stream",
     "text": [
      "17.611381123655846\n"
     ]
    }
   ],
   "source": [
    "print(rng.uniform(-50.0, 50.0))"
   ]
  },
  {
   "cell_type": "code",
   "execution_count": 11,
   "id": "518d7e4b",
   "metadata": {},
   "outputs": [
    {
     "name": "stdout",
     "output_type": "stream",
     "text": [
      "[ 5.80448109  6.64291183 22.27752257]\n"
     ]
    }
   ],
   "source": [
    "print(rng.uniform(-50.0, 50.0, 3))"
   ]
  },
  {
   "cell_type": "code",
   "execution_count": 12,
   "id": "ae7011e1",
   "metadata": {},
   "outputs": [
    {
     "name": "stdout",
     "output_type": "stream",
     "text": [
      "[[ 12.23855165  -9.97903127 -38.40667299]\n",
      " [-14.42414448 -45.04563195  14.37486871]]\n"
     ]
    }
   ],
   "source": [
    "print(rng.uniform(-50.0, 50.0, (2, 3)))"
   ]
  },
  {
   "cell_type": "code",
   "execution_count": 13,
   "id": "6540525e",
   "metadata": {},
   "outputs": [
    {
     "name": "stdout",
     "output_type": "stream",
     "text": [
      "[[-25.63149057  16.80691914  20.69418218]\n",
      " [ 32.53480087 -10.83462837  15.18192629]]\n"
     ]
    }
   ],
   "source": [
    "print(np.random.uniform(-50.0, 50.0, (2, 3)))"
   ]
  },
  {
   "cell_type": "code",
   "execution_count": 14,
   "id": "9aedfe89",
   "metadata": {},
   "outputs": [],
   "source": [
    "rng = np.random.default_rng()"
   ]
  },
  {
   "cell_type": "code",
   "execution_count": 15,
   "id": "6532fdad",
   "metadata": {},
   "outputs": [
    {
     "name": "stdout",
     "output_type": "stream",
     "text": [
      "24\n"
     ]
    }
   ],
   "source": [
    "print(rng.integers(100))"
   ]
  },
  {
   "cell_type": "code",
   "execution_count": 16,
   "id": "f6d79106",
   "metadata": {},
   "outputs": [
    {
     "name": "stdout",
     "output_type": "stream",
     "text": [
      "[ 9 25 27]\n"
     ]
    }
   ],
   "source": [
    "print(rng.integers(100, size=3))"
   ]
  },
  {
   "cell_type": "code",
   "execution_count": 17,
   "id": "c0b20b41",
   "metadata": {},
   "outputs": [
    {
     "name": "stdout",
     "output_type": "stream",
     "text": [
      "[[78  2 42]\n",
      " [25  6 16]]\n"
     ]
    }
   ],
   "source": [
    "print(rng.integers(100, size=(2, 3)))"
   ]
  },
  {
   "cell_type": "code",
   "execution_count": 18,
   "id": "9a929ac8",
   "metadata": {},
   "outputs": [
    {
     "name": "stdout",
     "output_type": "stream",
     "text": [
      "[[134 142 129]\n",
      " [154 180 103]]\n"
     ]
    }
   ],
   "source": [
    "print(rng.integers(100, 200, (2, 3)))"
   ]
  },
  {
   "cell_type": "code",
   "execution_count": 19,
   "id": "de417a04",
   "metadata": {},
   "outputs": [
    {
     "name": "stdout",
     "output_type": "stream",
     "text": [
      "[[170 157 172]\n",
      " [121 200 191]]\n"
     ]
    }
   ],
   "source": [
    "print(rng.integers(100, 200, (2, 3), endpoint=True))"
   ]
  },
  {
   "cell_type": "code",
   "execution_count": 20,
   "id": "3988c33b",
   "metadata": {},
   "outputs": [
    {
     "name": "stdout",
     "output_type": "stream",
     "text": [
      "[[120 121 138]\n",
      " [159 140 197]]\n"
     ]
    }
   ],
   "source": [
    "print(np.random.randint(100, 200, (2, 3)))"
   ]
  }
 ],
 "metadata": {
  "kernelspec": {
   "display_name": "Python 3",
   "language": "python",
   "name": "python3"
  },
  "language_info": {
   "codemirror_mode": {
    "name": "ipython",
    "version": 3
   },
   "file_extension": ".py",
   "mimetype": "text/x-python",
   "name": "python",
   "nbconvert_exporter": "python",
   "pygments_lexer": "ipython3",
   "version": "3.11.6"
  }
 },
 "nbformat": 4,
 "nbformat_minor": 5
}
