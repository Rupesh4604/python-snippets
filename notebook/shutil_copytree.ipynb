{
 "cells": [
  {
   "cell_type": "code",
   "execution_count": 1,
   "id": "e592518d",
   "metadata": {},
   "outputs": [],
   "source": [
    "import os\n",
    "from pathlib import Path"
   ]
  },
  {
   "cell_type": "code",
   "execution_count": 2,
   "id": "564fdd11",
   "metadata": {},
   "outputs": [],
   "source": [
    "os.chdir('data/temp')"
   ]
  },
  {
   "cell_type": "code",
   "execution_count": 3,
   "id": "fcfa78b0",
   "metadata": {},
   "outputs": [],
   "source": [
    "p = Path('temp')\n",
    "p.joinpath('dir1/subdir').mkdir(parents=True, exist_ok=True)\n",
    "p.joinpath('dir1/file.txt').touch()\n",
    "p.joinpath('dir1/subdir/file2.txt').touch()"
   ]
  },
  {
   "cell_type": "code",
   "execution_count": 4,
   "id": "0b2e9a37",
   "metadata": {},
   "outputs": [
    {
     "name": "stdout",
     "output_type": "stream",
     "text": [
      "temp/\r\n",
      "└── dir1/\r\n",
      "    ├── file.txt\r\n",
      "    └── subdir/\r\n",
      "        └── file2.txt\r\n",
      "\r\n",
      "3 directories, 2 files\r\n"
     ]
    }
   ],
   "source": [
    "!tree temp -nF  # Only works in Jupyter Notebook"
   ]
  },
  {
   "cell_type": "code",
   "execution_count": 5,
   "id": "5e3995f3",
   "metadata": {},
   "outputs": [],
   "source": [
    "import shutil"
   ]
  },
  {
   "cell_type": "code",
   "execution_count": 6,
   "id": "bee95c16",
   "metadata": {},
   "outputs": [
    {
     "name": "stdout",
     "output_type": "stream",
     "text": [
      "temp/dir2/new_dir\n"
     ]
    }
   ],
   "source": [
    "new_path = shutil.copytree('temp/dir1', 'temp/dir2/new_dir')\n",
    "print(new_path)"
   ]
  },
  {
   "cell_type": "code",
   "execution_count": 7,
   "id": "3133ce07",
   "metadata": {},
   "outputs": [
    {
     "name": "stdout",
     "output_type": "stream",
     "text": [
      "temp/\r\n",
      "├── dir1/\r\n",
      "│   ├── file.txt\r\n",
      "│   └── subdir/\r\n",
      "│       └── file2.txt\r\n",
      "└── dir2/\r\n",
      "    └── new_dir/\r\n",
      "        ├── file.txt\r\n",
      "        └── subdir/\r\n",
      "            └── file2.txt\r\n",
      "\r\n",
      "6 directories, 4 files\r\n"
     ]
    }
   ],
   "source": [
    "!tree temp -nF"
   ]
  },
  {
   "cell_type": "code",
   "execution_count": 8,
   "id": "1373d7ce",
   "metadata": {},
   "outputs": [],
   "source": [
    "# new_path = shutil.copytree('temp/dir1', 'temp/dir2/new_dir')\n",
    "# FileExistsError: [Errno 17] File exists: 'temp/dir2/new_dir'"
   ]
  },
  {
   "cell_type": "code",
   "execution_count": 9,
   "id": "ce2c2ca7",
   "metadata": {},
   "outputs": [
    {
     "name": "stdout",
     "output_type": "stream",
     "text": [
      "temp/dir2/new_dir\n"
     ]
    }
   ],
   "source": [
    "new_path = shutil.copytree('temp/dir1', 'temp/dir2/new_dir', dirs_exist_ok=True)\n",
    "print(new_path)"
   ]
  },
  {
   "cell_type": "code",
   "execution_count": 10,
   "id": "504af120",
   "metadata": {},
   "outputs": [],
   "source": [
    "import os"
   ]
  },
  {
   "cell_type": "code",
   "execution_count": 11,
   "id": "e0f6a1f0",
   "metadata": {},
   "outputs": [
    {
     "name": "stdout",
     "output_type": "stream",
     "text": [
      "temp/dir_copy2\n"
     ]
    }
   ],
   "source": [
    "new_path = shutil.copytree('temp/dir1', 'temp/dir_copy2')\n",
    "print(new_path)"
   ]
  },
  {
   "cell_type": "code",
   "execution_count": 12,
   "id": "307afbe2",
   "metadata": {},
   "outputs": [
    {
     "name": "stdout",
     "output_type": "stream",
     "text": [
      "True\n"
     ]
    }
   ],
   "source": [
    "print(os.path.getmtime('temp/dir1/file.txt') == os.path.getmtime('temp/dir_copy2/file.txt'))"
   ]
  },
  {
   "cell_type": "code",
   "execution_count": 13,
   "id": "1c222fb4",
   "metadata": {},
   "outputs": [
    {
     "name": "stdout",
     "output_type": "stream",
     "text": [
      "temp/dir_copy\n"
     ]
    }
   ],
   "source": [
    "new_path = shutil.copytree('temp/dir1', 'temp/dir_copy', copy_function=shutil.copy)\n",
    "print(new_path)"
   ]
  },
  {
   "cell_type": "code",
   "execution_count": 14,
   "id": "75238243",
   "metadata": {},
   "outputs": [
    {
     "name": "stdout",
     "output_type": "stream",
     "text": [
      "False\n"
     ]
    }
   ],
   "source": [
    "print(os.path.getmtime('temp/dir1/file.txt') == os.path.getmtime('temp/dir_copy/file.txt'))"
   ]
  },
  {
   "cell_type": "code",
   "execution_count": 15,
   "id": "6b77e091",
   "metadata": {},
   "outputs": [],
   "source": [
    "shutil.rmtree('temp')"
   ]
  },
  {
   "cell_type": "code",
   "execution_count": 16,
   "id": "b437356e",
   "metadata": {},
   "outputs": [],
   "source": [
    "p = Path('temp')\n",
    "p.joinpath('dir1/subdir').mkdir(parents=True, exist_ok=True)\n",
    "p.joinpath('dir1/.dir').mkdir(parents=True, exist_ok=True)\n",
    "p.joinpath('dir1/file.txt').touch()\n",
    "p.joinpath('dir1/.config').touch()\n",
    "p.joinpath('dir1/subdir/file.txt').touch()\n",
    "p.joinpath('dir1/subdir/file.jpg').touch()\n",
    "p.joinpath('dir1/subdir/file.txt').touch()"
   ]
  },
  {
   "cell_type": "code",
   "execution_count": 17,
   "id": "3310c1d3",
   "metadata": {},
   "outputs": [
    {
     "name": "stdout",
     "output_type": "stream",
     "text": [
      "temp/\r\n",
      "└── dir1/\r\n",
      "    ├── .config\r\n",
      "    ├── .dir/\r\n",
      "    ├── file.txt\r\n",
      "    └── subdir/\r\n",
      "        ├── file.jpg\r\n",
      "        └── file.txt\r\n",
      "\r\n",
      "4 directories, 4 files\r\n"
     ]
    }
   ],
   "source": [
    "!tree temp -anF"
   ]
  },
  {
   "cell_type": "code",
   "execution_count": 18,
   "id": "1a2093c5",
   "metadata": {},
   "outputs": [
    {
     "name": "stdout",
     "output_type": "stream",
     "text": [
      "temp/dir2\n"
     ]
    }
   ],
   "source": [
    "new_path = shutil.copytree(\n",
    "    'temp/dir1', 'temp/dir2', ignore=shutil.ignore_patterns('.*', '*.jpg')\n",
    ")\n",
    "print(new_path)"
   ]
  },
  {
   "cell_type": "code",
   "execution_count": 19,
   "id": "b6974152",
   "metadata": {},
   "outputs": [
    {
     "name": "stdout",
     "output_type": "stream",
     "text": [
      "temp/\r\n",
      "├── dir1/\r\n",
      "│   ├── .config\r\n",
      "│   ├── .dir/\r\n",
      "│   ├── file.txt\r\n",
      "│   └── subdir/\r\n",
      "│       ├── file.jpg\r\n",
      "│       └── file.txt\r\n",
      "└── dir2/\r\n",
      "    ├── file.txt\r\n",
      "    └── subdir/\r\n",
      "        └── file.txt\r\n",
      "\r\n",
      "6 directories, 6 files\r\n"
     ]
    }
   ],
   "source": [
    "!tree temp -anF"
   ]
  },
  {
   "cell_type": "code",
   "execution_count": 20,
   "id": "55475061",
   "metadata": {},
   "outputs": [],
   "source": [
    "shutil.rmtree('temp')"
   ]
  }
 ],
 "metadata": {
  "kernelspec": {
   "display_name": "Python 3",
   "language": "python",
   "name": "python3"
  },
  "language_info": {
   "codemirror_mode": {
    "name": "ipython",
    "version": 3
   },
   "file_extension": ".py",
   "mimetype": "text/x-python",
   "name": "python",
   "nbconvert_exporter": "python",
   "pygments_lexer": "ipython3",
   "version": "3.11.4"
  }
 },
 "nbformat": 4,
 "nbformat_minor": 5
}
