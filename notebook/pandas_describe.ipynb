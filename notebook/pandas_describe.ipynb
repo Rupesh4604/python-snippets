{
 "cells": [
  {
   "cell_type": "code",
   "execution_count": 1,
   "metadata": {},
   "outputs": [],
   "source": [
    "import pandas as pd"
   ]
  },
  {
   "cell_type": "code",
   "execution_count": 2,
   "metadata": {},
   "outputs": [
    {
     "name": "stdout",
     "output_type": "stream",
     "text": [
      "2.1.4\n"
     ]
    }
   ],
   "source": [
    "print(pd.__version__)"
   ]
  },
  {
   "cell_type": "code",
   "execution_count": 3,
   "metadata": {},
   "outputs": [],
   "source": [
    "df = pd.DataFrame({'int': [1, 2, 3, 1],\n",
    "                   'float': [0.1, 0.2, 0.3, float('nan')],\n",
    "                   'str': ['X', 'Y', 'X', 'Z'],\n",
    "                   'str_num': ['1', '2', '3', '1'],\n",
    "                   'bool': [True, True, False, True]})"
   ]
  },
  {
   "cell_type": "code",
   "execution_count": 4,
   "metadata": {},
   "outputs": [
    {
     "name": "stdout",
     "output_type": "stream",
     "text": [
      "   int  float str str_num   bool\n",
      "0    1    0.1   X       1   True\n",
      "1    2    0.2   Y       2   True\n",
      "2    3    0.3   X       3  False\n",
      "3    1    NaN   Z       1   True\n"
     ]
    }
   ],
   "source": [
    "print(df)"
   ]
  },
  {
   "cell_type": "code",
   "execution_count": 5,
   "metadata": {},
   "outputs": [
    {
     "name": "stdout",
     "output_type": "stream",
     "text": [
      "int          int64\n",
      "float      float64\n",
      "str         object\n",
      "str_num     object\n",
      "bool          bool\n",
      "dtype: object\n"
     ]
    }
   ],
   "source": [
    "print(df.dtypes)"
   ]
  },
  {
   "cell_type": "code",
   "execution_count": 6,
   "metadata": {},
   "outputs": [
    {
     "name": "stdout",
     "output_type": "stream",
     "text": [
      "count    3.00\n",
      "mean     0.20\n",
      "std      0.10\n",
      "min      0.10\n",
      "25%      0.15\n",
      "50%      0.20\n",
      "75%      0.25\n",
      "max      0.30\n",
      "Name: float, dtype: float64\n"
     ]
    }
   ],
   "source": [
    "print(df['float'].describe())"
   ]
  },
  {
   "cell_type": "code",
   "execution_count": 7,
   "metadata": {},
   "outputs": [
    {
     "name": "stdout",
     "output_type": "stream",
     "text": [
      "count     4\n",
      "unique    3\n",
      "top       X\n",
      "freq      2\n",
      "Name: str, dtype: object\n"
     ]
    }
   ],
   "source": [
    "print(df['str'].describe())"
   ]
  },
  {
   "cell_type": "code",
   "execution_count": 8,
   "metadata": {},
   "outputs": [
    {
     "name": "stdout",
     "output_type": "stream",
     "text": [
      "<class 'pandas.core.series.Series'>\n"
     ]
    }
   ],
   "source": [
    "print(type(df['float'].describe()))"
   ]
  },
  {
   "cell_type": "code",
   "execution_count": 9,
   "metadata": {},
   "outputs": [
    {
     "name": "stdout",
     "output_type": "stream",
     "text": [
      "            int  float\n",
      "count  4.000000   3.00\n",
      "mean   1.750000   0.20\n",
      "std    0.957427   0.10\n",
      "min    1.000000   0.10\n",
      "25%    1.000000   0.15\n",
      "50%    1.500000   0.20\n",
      "75%    2.250000   0.25\n",
      "max    3.000000   0.30\n"
     ]
    }
   ],
   "source": [
    "print(df.describe())"
   ]
  },
  {
   "cell_type": "code",
   "execution_count": 10,
   "metadata": {},
   "outputs": [
    {
     "name": "stdout",
     "output_type": "stream",
     "text": [
      "<class 'pandas.core.frame.DataFrame'>\n"
     ]
    }
   ],
   "source": [
    "print(type(df.describe()))"
   ]
  },
  {
   "cell_type": "code",
   "execution_count": 11,
   "metadata": {},
   "outputs": [
    {
     "name": "stdout",
     "output_type": "stream",
     "text": [
      "int      0.957427\n",
      "float    0.100000\n",
      "Name: std, dtype: float64\n"
     ]
    }
   ],
   "source": [
    "print(df.describe().loc['std'])"
   ]
  },
  {
   "cell_type": "code",
   "execution_count": 12,
   "metadata": {},
   "outputs": [
    {
     "name": "stdout",
     "output_type": "stream",
     "text": [
      "0.9574271077563381\n"
     ]
    }
   ],
   "source": [
    "print(df.describe().at['std', 'int'])"
   ]
  },
  {
   "cell_type": "code",
   "execution_count": 13,
   "metadata": {},
   "outputs": [
    {
     "name": "stdout",
     "output_type": "stream",
     "text": [
      "       str str_num  bool\n",
      "count    4       4     4\n",
      "unique   3       3     2\n",
      "top      X       1  True\n",
      "freq     2       2     3\n"
     ]
    }
   ],
   "source": [
    "print(df.describe(exclude='number'))"
   ]
  },
  {
   "cell_type": "code",
   "execution_count": 14,
   "metadata": {},
   "outputs": [
    {
     "name": "stdout",
     "output_type": "stream",
     "text": [
      "  str str_num   bool\n",
      "0   X       1   True\n",
      "1   Y       2   True\n",
      "2   X       3  False\n",
      "3   Z       1   True\n"
     ]
    }
   ],
   "source": [
    "print(df[['str', 'str_num', 'bool']])"
   ]
  },
  {
   "cell_type": "code",
   "execution_count": 15,
   "metadata": {},
   "outputs": [
    {
     "name": "stdout",
     "output_type": "stream",
     "text": [
      "       str str_num  bool\n",
      "count    4       4     4\n",
      "unique   3       3     2\n",
      "top      X       1  True\n",
      "freq     2       2     3\n"
     ]
    }
   ],
   "source": [
    "print(df[['str', 'str_num', 'bool']].describe())"
   ]
  },
  {
   "cell_type": "code",
   "execution_count": 16,
   "metadata": {},
   "outputs": [
    {
     "name": "stdout",
     "output_type": "stream",
     "text": [
      "             int  float  str str_num  bool\n",
      "count   4.000000   3.00    4       4     4\n",
      "unique       NaN    NaN    3       3     2\n",
      "top          NaN    NaN    X       1  True\n",
      "freq         NaN    NaN    2       2     3\n",
      "mean    1.750000   0.20  NaN     NaN   NaN\n",
      "std     0.957427   0.10  NaN     NaN   NaN\n",
      "min     1.000000   0.10  NaN     NaN   NaN\n",
      "25%     1.000000   0.15  NaN     NaN   NaN\n",
      "50%     1.500000   0.20  NaN     NaN   NaN\n",
      "75%     2.250000   0.25  NaN     NaN   NaN\n",
      "max     3.000000   0.30  NaN     NaN   NaN\n"
     ]
    }
   ],
   "source": [
    "print(df.describe(include='all'))"
   ]
  },
  {
   "cell_type": "code",
   "execution_count": 17,
   "metadata": {},
   "outputs": [
    {
     "name": "stdout",
     "output_type": "stream",
     "text": [
      "            int\n",
      "count  4.000000\n",
      "mean   1.750000\n",
      "std    0.957427\n",
      "min    1.000000\n",
      "25%    1.000000\n",
      "50%    1.500000\n",
      "75%    2.250000\n",
      "max    3.000000\n"
     ]
    }
   ],
   "source": [
    "print(df.describe(include=int))"
   ]
  },
  {
   "cell_type": "code",
   "execution_count": 18,
   "metadata": {},
   "outputs": [
    {
     "name": "stdout",
     "output_type": "stream",
     "text": [
      "<class 'pandas.core.frame.DataFrame'>\n"
     ]
    }
   ],
   "source": [
    "print(type(df.describe(include=int)))"
   ]
  },
  {
   "cell_type": "code",
   "execution_count": 19,
   "metadata": {},
   "outputs": [
    {
     "name": "stdout",
     "output_type": "stream",
     "text": [
      "       str str_num  bool\n",
      "count    4       4     4\n",
      "unique   3       3     2\n",
      "top      X       1  True\n",
      "freq     2       2     3\n"
     ]
    }
   ],
   "source": [
    "print(df.describe(include=[object, bool]))"
   ]
  },
  {
   "cell_type": "code",
   "execution_count": 20,
   "metadata": {
    "scrolled": true
   },
   "outputs": [
    {
     "name": "stdout",
     "output_type": "stream",
     "text": [
      "             int  bool\n",
      "count   4.000000     4\n",
      "unique       NaN     2\n",
      "top          NaN  True\n",
      "freq         NaN     3\n",
      "mean    1.750000   NaN\n",
      "std     0.957427   NaN\n",
      "min     1.000000   NaN\n",
      "25%     1.000000   NaN\n",
      "50%     1.500000   NaN\n",
      "75%     2.250000   NaN\n",
      "max     3.000000   NaN\n"
     ]
    }
   ],
   "source": [
    "print(df.describe(exclude=['f8', 'object']))"
   ]
  },
  {
   "cell_type": "code",
   "execution_count": 21,
   "metadata": {},
   "outputs": [
    {
     "name": "stdout",
     "output_type": "stream",
     "text": [
      "        int  float str str_num  bool\n",
      "count     4    3.0   4       4     4\n",
      "unique    3    3.0   3       3     2\n",
      "top       1    0.1   X       1  True\n",
      "freq      2    1.0   2       2     3\n"
     ]
    }
   ],
   "source": [
    "print(df.astype(object).describe())"
   ]
  },
  {
   "cell_type": "code",
   "execution_count": 22,
   "metadata": {},
   "outputs": [
    {
     "name": "stdout",
     "output_type": "stream",
     "text": [
      "        int str str_num  bool\n",
      "count     4   4       4     4\n",
      "unique    3   3       3     2\n",
      "top       1   X       1  True\n",
      "freq      2   2       2     3\n"
     ]
    }
   ],
   "source": [
    "print(df.astype({'int': object}).describe(exclude='number'))"
   ]
  },
  {
   "cell_type": "code",
   "execution_count": 23,
   "metadata": {},
   "outputs": [
    {
     "name": "stdout",
     "output_type": "stream",
     "text": [
      "            int  float   str_num  bool\n",
      "count  4.000000   3.00  4.000000  4.00\n",
      "mean   1.750000   0.20  1.750000  0.75\n",
      "std    0.957427   0.10  0.957427  0.50\n",
      "min    1.000000   0.10  1.000000  0.00\n",
      "25%    1.000000   0.15  1.000000  0.75\n",
      "50%    1.500000   0.20  1.500000  1.00\n",
      "75%    2.250000   0.25  2.250000  1.00\n",
      "max    3.000000   0.30  3.000000  1.00\n"
     ]
    }
   ],
   "source": [
    "print(df.astype({'str_num': int, 'bool': int}).describe())"
   ]
  },
  {
   "cell_type": "code",
   "execution_count": 24,
   "metadata": {},
   "outputs": [
    {
     "name": "stdout",
     "output_type": "stream",
     "text": [
      "int        4\n",
      "float      3\n",
      "str        4\n",
      "str_num    4\n",
      "bool       4\n",
      "dtype: int64\n"
     ]
    }
   ],
   "source": [
    "print(df.count())"
   ]
  },
  {
   "cell_type": "code",
   "execution_count": 25,
   "metadata": {},
   "outputs": [
    {
     "name": "stdout",
     "output_type": "stream",
     "text": [
      "int        3\n",
      "float      3\n",
      "str        3\n",
      "str_num    3\n",
      "bool       2\n",
      "dtype: int64\n"
     ]
    }
   ],
   "source": [
    "print(df.nunique())"
   ]
  },
  {
   "cell_type": "code",
   "execution_count": 26,
   "metadata": {},
   "outputs": [
    {
     "name": "stdout",
     "output_type": "stream",
     "text": [
      "   int  float  str str_num  bool\n",
      "0  1.0    0.1    X       1  True\n",
      "1  NaN    0.2  NaN     NaN   NaN\n",
      "2  NaN    0.3  NaN     NaN   NaN\n"
     ]
    }
   ],
   "source": [
    "print(df.mode())"
   ]
  },
  {
   "cell_type": "code",
   "execution_count": 27,
   "metadata": {},
   "outputs": [
    {
     "name": "stdout",
     "output_type": "stream",
     "text": [
      "int         1.0\n",
      "float       0.1\n",
      "str           X\n",
      "str_num       1\n",
      "bool       True\n",
      "Name: 0, dtype: object\n"
     ]
    }
   ],
   "source": [
    "print(df.mode().iloc[0])"
   ]
  },
  {
   "cell_type": "code",
   "execution_count": 28,
   "metadata": {},
   "outputs": [
    {
     "name": "stdout",
     "output_type": "stream",
     "text": [
      "str\n",
      "X    2\n",
      "Y    1\n",
      "Z    1\n",
      "Name: count, dtype: int64\n"
     ]
    }
   ],
   "source": [
    "print(df['str'].value_counts())"
   ]
  },
  {
   "cell_type": "code",
   "execution_count": 29,
   "metadata": {},
   "outputs": [
    {
     "name": "stdout",
     "output_type": "stream",
     "text": [
      "2\n"
     ]
    }
   ],
   "source": [
    "print(df['str'].value_counts().iat[0])"
   ]
  },
  {
   "cell_type": "code",
   "execution_count": 30,
   "metadata": {},
   "outputs": [
    {
     "name": "stdout",
     "output_type": "stream",
     "text": [
      "int      1.75\n",
      "float    0.20\n",
      "bool     0.75\n",
      "dtype: float64\n"
     ]
    }
   ],
   "source": [
    "print(df.mean(numeric_only=True))"
   ]
  },
  {
   "cell_type": "code",
   "execution_count": 31,
   "metadata": {},
   "outputs": [
    {
     "name": "stdout",
     "output_type": "stream",
     "text": [
      "int      0.957427\n",
      "float    0.100000\n",
      "bool     0.500000\n",
      "dtype: float64\n"
     ]
    }
   ],
   "source": [
    "print(df.std(numeric_only=True))"
   ]
  },
  {
   "cell_type": "code",
   "execution_count": 32,
   "metadata": {},
   "outputs": [
    {
     "name": "stdout",
     "output_type": "stream",
     "text": [
      "int          1\n",
      "float      0.1\n",
      "bool     False\n",
      "dtype: object\n"
     ]
    }
   ],
   "source": [
    "print(df.min(numeric_only=True))"
   ]
  },
  {
   "cell_type": "code",
   "execution_count": 33,
   "metadata": {},
   "outputs": [
    {
     "name": "stdout",
     "output_type": "stream",
     "text": [
      "int         3\n",
      "float     0.3\n",
      "bool     True\n",
      "dtype: object\n"
     ]
    }
   ],
   "source": [
    "print(df.max(numeric_only=True))"
   ]
  },
  {
   "cell_type": "code",
   "execution_count": 34,
   "metadata": {},
   "outputs": [
    {
     "name": "stdout",
     "output_type": "stream",
     "text": [
      "int      1.5\n",
      "float    0.2\n",
      "bool     1.0\n",
      "dtype: float64\n"
     ]
    }
   ],
   "source": [
    "print(df.median(numeric_only=True))"
   ]
  },
  {
   "cell_type": "code",
   "execution_count": 35,
   "metadata": {},
   "outputs": [],
   "source": [
    "# print(df.quantile(q=[0.25, 0.75], numeric_only=True))\n",
    "# TypeError: numpy boolean subtract, the `-` operator, is not supported, use the bitwise_xor, the `^` operator, or the logical_xor function instead."
   ]
  },
  {
   "cell_type": "code",
   "execution_count": 36,
   "metadata": {},
   "outputs": [
    {
     "name": "stdout",
     "output_type": "stream",
     "text": [
      "   int  float str str_num\n",
      "0    1    0.1   X       1\n",
      "1    2    0.2   Y       2\n",
      "2    3    0.3   X       3\n",
      "3    1    NaN   Z       1\n"
     ]
    }
   ],
   "source": [
    "print(df.iloc[:, :-1])"
   ]
  },
  {
   "cell_type": "code",
   "execution_count": 37,
   "metadata": {},
   "outputs": [
    {
     "name": "stdout",
     "output_type": "stream",
     "text": [
      "       int  float\n",
      "0.00  1.00   0.10\n",
      "0.25  1.00   0.15\n",
      "0.50  1.50   0.20\n",
      "0.75  2.25   0.25\n",
      "1.00  3.00   0.30\n"
     ]
    }
   ],
   "source": [
    "print(df.iloc[:, :-1].quantile(q=[0, 0.25, 0.5, 0.75, 1], numeric_only=True))"
   ]
  },
  {
   "cell_type": "code",
   "execution_count": 38,
   "metadata": {},
   "outputs": [
    {
     "name": "stdout",
     "output_type": "stream",
     "text": [
      "            int  float\n",
      "count  4.000000   3.00\n",
      "mean   1.750000   0.20\n",
      "std    0.957427   0.10\n",
      "min    1.000000   0.10\n",
      "20%    1.000000   0.14\n",
      "40%    1.200000   0.18\n",
      "50%    1.500000   0.20\n",
      "60%    1.800000   0.22\n",
      "80%    2.400000   0.26\n",
      "max    3.000000   0.30\n"
     ]
    }
   ],
   "source": [
    "print(df.describe(percentiles=[0.2, 0.4, 0.6, 0.8]))"
   ]
  },
  {
   "cell_type": "code",
   "execution_count": 39,
   "metadata": {},
   "outputs": [
    {
     "name": "stdout",
     "output_type": "stream",
     "text": [
      "   int  float str str_num   bool         dt\n",
      "0    1    0.1   X       1   True 2023-12-01\n",
      "1    2    0.2   Y       2   True 2023-12-08\n",
      "2    3    0.3   X       3  False 2023-12-15\n",
      "3    1    NaN   Z       1   True 2023-12-22\n"
     ]
    }
   ],
   "source": [
    "df['dt'] = pd.to_datetime(['2023-12-01', '2023-12-08', '2023-12-15', '2023-12-22'])\n",
    "print(df)"
   ]
  },
  {
   "cell_type": "code",
   "execution_count": 40,
   "metadata": {},
   "outputs": [
    {
     "name": "stdout",
     "output_type": "stream",
     "text": [
      "int                 int64\n",
      "float             float64\n",
      "str                object\n",
      "str_num            object\n",
      "bool                 bool\n",
      "dt         datetime64[ns]\n",
      "dtype: object\n"
     ]
    }
   ],
   "source": [
    "print(df.dtypes)"
   ]
  },
  {
   "cell_type": "code",
   "execution_count": 41,
   "metadata": {},
   "outputs": [
    {
     "name": "stdout",
     "output_type": "stream",
     "text": [
      "            int  float                   dt\n",
      "count  4.000000   3.00                    4\n",
      "mean   1.750000   0.20  2023-12-11 12:00:00\n",
      "min    1.000000   0.10  2023-12-01 00:00:00\n",
      "25%    1.000000   0.15  2023-12-06 06:00:00\n",
      "50%    1.500000   0.20  2023-12-11 12:00:00\n",
      "75%    2.250000   0.25  2023-12-16 18:00:00\n",
      "max    3.000000   0.30  2023-12-22 00:00:00\n",
      "std    0.957427   0.10                  NaN\n"
     ]
    }
   ],
   "source": [
    "print(df.describe())"
   ]
  },
  {
   "cell_type": "code",
   "execution_count": 42,
   "metadata": {},
   "outputs": [
    {
     "name": "stdout",
     "output_type": "stream",
     "text": [
      "        int  float str str_num  bool                   dt\n",
      "count     4    3.0   4       4     4                    4\n",
      "unique    3    3.0   3       3     2                    4\n",
      "top       1    0.1   X       1  True  2023-12-01 00:00:00\n",
      "freq      2    1.0   2       2     3                    1\n"
     ]
    }
   ],
   "source": [
    "print(df.astype(object).describe())"
   ]
  }
 ],
 "metadata": {
  "kernelspec": {
   "display_name": "Python 3",
   "language": "python",
   "name": "python3"
  },
  "language_info": {
   "codemirror_mode": {
    "name": "ipython",
    "version": 3
   },
   "file_extension": ".py",
   "mimetype": "text/x-python",
   "name": "python",
   "nbconvert_exporter": "python",
   "pygments_lexer": "ipython3",
   "version": "3.11.6"
  }
 },
 "nbformat": 4,
 "nbformat_minor": 2
}
