{
 "cells": [
  {
   "cell_type": "code",
   "execution_count": 1,
   "id": "4977b1c4",
   "metadata": {},
   "outputs": [],
   "source": [
    "import pypdf"
   ]
  },
  {
   "cell_type": "code",
   "execution_count": 2,
   "id": "d0e6595f",
   "metadata": {},
   "outputs": [
    {
     "name": "stdout",
     "output_type": "stream",
     "text": [
      "3.7.1\n"
     ]
    }
   ],
   "source": [
    "print(pypdf.__version__)"
   ]
  },
  {
   "cell_type": "code",
   "execution_count": 3,
   "id": "2026bd18",
   "metadata": {},
   "outputs": [],
   "source": [
    "src_pdf = pypdf.PdfReader('data/src/pdf/sample1.pdf')\n",
    "dst_pdf = pypdf.PdfWriter()"
   ]
  },
  {
   "cell_type": "code",
   "execution_count": 4,
   "id": "3018a757",
   "metadata": {},
   "outputs": [
    {
     "data": {
      "text/plain": [
       "(True, <_io.FileIO [closed]>)"
      ]
     },
     "execution_count": 4,
     "metadata": {},
     "output_type": "execute_result"
    }
   ],
   "source": [
    "dst_pdf.clone_reader_document_root(src_pdf)\n",
    "dst_pdf.write('data/temp/sample1_no_meta.pdf')"
   ]
  },
  {
   "cell_type": "code",
   "execution_count": 5,
   "id": "b6e90f60",
   "metadata": {},
   "outputs": [
    {
     "name": "stdout",
     "output_type": "stream",
     "text": [
      "{'/Producer': 'pypdf'}\n"
     ]
    }
   ],
   "source": [
    "print(pypdf.PdfReader('data/temp/sample1_no_meta.pdf').metadata)"
   ]
  },
  {
   "cell_type": "code",
   "execution_count": 6,
   "id": "873f2471",
   "metadata": {},
   "outputs": [
    {
     "name": "stdout",
     "output_type": "stream",
     "text": [
      "{'/Producer': ''}\n"
     ]
    }
   ],
   "source": [
    "dst_pdf.add_metadata({'/Producer': ''})\n",
    "dst_pdf.write('data/temp/sample1_no_meta.pdf')\n",
    "print(pypdf.PdfReader('data/temp/sample1_no_meta.pdf').metadata)"
   ]
  },
  {
   "cell_type": "code",
   "execution_count": 7,
   "id": "ecb8ae19",
   "metadata": {},
   "outputs": [],
   "source": [
    "def remove_all_metadata(src_path, dst_path, producer=''):\n",
    "    src_pdf = pypdf.PdfReader(src_path)\n",
    "    dst_pdf = pypdf.PdfWriter()\n",
    "    dst_pdf.clone_reader_document_root(src_pdf)\n",
    "    dst_pdf.add_metadata({'/Producer': producer})\n",
    "    dst_pdf.write(dst_path)"
   ]
  },
  {
   "cell_type": "code",
   "execution_count": 8,
   "id": "dcb9d934",
   "metadata": {},
   "outputs": [
    {
     "name": "stdout",
     "output_type": "stream",
     "text": [
      "{'/Producer': ''}\n"
     ]
    }
   ],
   "source": [
    "remove_all_metadata('data/src/pdf/sample1.pdf', 'data/temp/sample1_no_meta.pdf')\n",
    "print(pypdf.PdfReader('data/temp/sample1_no_meta.pdf').metadata)"
   ]
  },
  {
   "cell_type": "code",
   "execution_count": 9,
   "id": "467d5ee7",
   "metadata": {},
   "outputs": [],
   "source": [
    "src_pdf = pypdf.PdfReader('data/src/pdf/sample1.pdf')\n",
    "dst_pdf = pypdf.PdfWriter()\n",
    "dst_pdf.clone_reader_document_root(src_pdf)"
   ]
  },
  {
   "cell_type": "code",
   "execution_count": 10,
   "id": "33d727ef",
   "metadata": {},
   "outputs": [
    {
     "name": "stdout",
     "output_type": "stream",
     "text": [
      "{'/Title': 'sample1', '/Producer': 'macOS バージョン10.14.2（ビルド18C54） Quartz PDFContext', '/Creator': 'Keynote', '/CreationDate': \"D:20190114072947Z00'00'\", '/ModDate': \"D:20190114072947Z00'00'\"}\n"
     ]
    }
   ],
   "source": [
    "d = {key: src_pdf.metadata[key] for key in src_pdf.metadata.keys()}\n",
    "print(d)"
   ]
  },
  {
   "cell_type": "code",
   "execution_count": 11,
   "id": "c28a942a",
   "metadata": {},
   "outputs": [
    {
     "name": "stdout",
     "output_type": "stream",
     "text": [
      "{'/Title': 'sample1', '/CreationDate': \"D:20190114072947Z00'00'\", '/ModDate': \"D:20190114072947Z00'00'\"}\n"
     ]
    }
   ],
   "source": [
    "d.pop('/Creator')\n",
    "d.pop('/Producer')\n",
    "print(d)"
   ]
  },
  {
   "cell_type": "code",
   "execution_count": 12,
   "id": "90946650",
   "metadata": {},
   "outputs": [
    {
     "data": {
      "text/plain": [
       "(True, <_io.FileIO [closed]>)"
      ]
     },
     "execution_count": 12,
     "metadata": {},
     "output_type": "execute_result"
    }
   ],
   "source": [
    "dst_pdf.add_metadata(d)\n",
    "dst_pdf.write('data/temp/sample1_remove_meta.pdf')"
   ]
  },
  {
   "cell_type": "code",
   "execution_count": 13,
   "id": "a56abb2f",
   "metadata": {},
   "outputs": [
    {
     "name": "stdout",
     "output_type": "stream",
     "text": [
      "{'/Producer': 'pypdf', '/Title': 'sample1', '/CreationDate': \"D:20190114072947Z00'00'\", '/ModDate': \"D:20190114072947Z00'00'\"}\n"
     ]
    }
   ],
   "source": [
    "print(pypdf.PdfReader('data/temp/sample1_remove_meta.pdf').metadata)"
   ]
  },
  {
   "cell_type": "code",
   "execution_count": 14,
   "id": "edf0647c",
   "metadata": {},
   "outputs": [],
   "source": [
    "def remove_metadata(src_path, dst_path, *args, producer=''):\n",
    "    src_pdf = pypdf.PdfReader(src_path)\n",
    "    dst_pdf = pypdf.PdfWriter()\n",
    "    dst_pdf.clone_reader_document_root(src_pdf)\n",
    "\n",
    "    d = {key: src_pdf.metadata[key] for key in src_pdf.metadata.keys()\n",
    "         if key not in args}\n",
    "    d.setdefault('/Producer', producer)\n",
    "\n",
    "    dst_pdf.add_metadata(d)\n",
    "    dst_pdf.write(dst_path)"
   ]
  },
  {
   "cell_type": "code",
   "execution_count": 15,
   "id": "caf649f1",
   "metadata": {},
   "outputs": [
    {
     "name": "stdout",
     "output_type": "stream",
     "text": [
      "{'/Producer': 'macOS バージョン10.14.2（ビルド18C54） Quartz PDFContext', '/Title': 'sample1'}\n"
     ]
    }
   ],
   "source": [
    "remove_metadata('data/src/pdf/sample1.pdf', 'data/temp/sample1_no_meta.pdf',\n",
    "                '/Creator', '/ModDate', '/CreationDate')\n",
    "print(pypdf.PdfReader('data/temp/sample1_no_meta.pdf').metadata)"
   ]
  },
  {
   "cell_type": "code",
   "execution_count": 16,
   "id": "e00bdeda",
   "metadata": {},
   "outputs": [
    {
     "name": "stdout",
     "output_type": "stream",
     "text": [
      "{'/Producer': '', '/Title': 'sample1'}\n"
     ]
    }
   ],
   "source": [
    "remove_metadata('data/src/pdf/sample1.pdf', 'data/temp/sample1_no_meta.pdf',\n",
    "                '/Creator', '/ModDate', '/CreationDate', '/Producer')\n",
    "print(pypdf.PdfReader('data/temp/sample1_no_meta.pdf').metadata)"
   ]
  },
  {
   "cell_type": "code",
   "execution_count": 17,
   "id": "abca4f49",
   "metadata": {},
   "outputs": [
    {
     "name": "stdout",
     "output_type": "stream",
     "text": [
      "{'/Producer': 'XXX', '/Title': 'sample1'}\n"
     ]
    }
   ],
   "source": [
    "remove_metadata('data/src/pdf/sample1.pdf', 'data/temp/sample1_no_meta.pdf',\n",
    "                '/Creator', '/ModDate', '/CreationDate', '/Producer',\n",
    "                producer='XXX')\n",
    "print(pypdf.PdfReader('data/temp/sample1_no_meta.pdf').metadata)"
   ]
  },
  {
   "cell_type": "code",
   "execution_count": 18,
   "id": "5269aa35",
   "metadata": {},
   "outputs": [],
   "source": [
    "def select_metadata(src_path, dst_path, *args, producer=''):\n",
    "    src_pdf = pypdf.PdfReader(src_path)\n",
    "    dst_pdf = pypdf.PdfWriter()\n",
    "    dst_pdf.clone_reader_document_root(src_pdf)\n",
    "\n",
    "    d = {key: src_pdf.metadata[key] for key in src_pdf.metadata.keys()\n",
    "         if key in args}\n",
    "    d.setdefault('/Producer', producer)\n",
    "\n",
    "    dst_pdf.add_metadata(d)\n",
    "    dst_pdf.write(dst_path)"
   ]
  },
  {
   "cell_type": "code",
   "execution_count": 19,
   "id": "0fa59dfc",
   "metadata": {},
   "outputs": [
    {
     "name": "stdout",
     "output_type": "stream",
     "text": [
      "{'/Producer': '', '/Title': 'sample1', '/ModDate': \"D:20190114072947Z00'00'\"}\n"
     ]
    }
   ],
   "source": [
    "select_metadata('data/src/pdf/sample1.pdf', 'data/temp/sample1_no_meta.pdf',\n",
    "                '/Title', '/ModDate')\n",
    "print(pypdf.PdfReader('data/temp/sample1_no_meta.pdf').metadata)"
   ]
  },
  {
   "cell_type": "code",
   "execution_count": 20,
   "id": "236eadf0",
   "metadata": {},
   "outputs": [
    {
     "name": "stdout",
     "output_type": "stream",
     "text": [
      "{'/Producer': 'macOS バージョン10.14.2（ビルド18C54） Quartz PDFContext', '/Title': 'sample1'}\n"
     ]
    }
   ],
   "source": [
    "select_metadata('data/src/pdf/sample1.pdf', 'data/temp/sample1_no_meta.pdf',\n",
    "                '/Title', '/Producer')\n",
    "print(pypdf.PdfReader('data/temp/sample1_no_meta.pdf').metadata)"
   ]
  }
 ],
 "metadata": {
  "kernelspec": {
   "display_name": "Python 3",
   "language": "python",
   "name": "python3"
  },
  "language_info": {
   "codemirror_mode": {
    "name": "ipython",
    "version": 3
   },
   "file_extension": ".py",
   "mimetype": "text/x-python",
   "name": "python",
   "nbconvert_exporter": "python",
   "pygments_lexer": "ipython3",
   "version": "3.11.3"
  }
 },
 "nbformat": 4,
 "nbformat_minor": 5
}
