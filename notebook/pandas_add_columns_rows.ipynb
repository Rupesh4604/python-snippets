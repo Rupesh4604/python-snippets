{
 "cells": [
  {
   "cell_type": "code",
   "execution_count": 1,
   "id": "c70760c7",
   "metadata": {},
   "outputs": [],
   "source": [
    "import pandas as pd"
   ]
  },
  {
   "cell_type": "code",
   "execution_count": 2,
   "id": "c5b0eec1",
   "metadata": {},
   "outputs": [
    {
     "name": "stdout",
     "output_type": "stream",
     "text": [
      "2.0.3\n"
     ]
    }
   ],
   "source": [
    "print(pd.__version__)"
   ]
  },
  {
   "cell_type": "code",
   "execution_count": 3,
   "id": "e2c2d292",
   "metadata": {},
   "outputs": [
    {
     "name": "stderr",
     "output_type": "stream",
     "text": [
      "/var/folders/rf/b7l8_vgj5mdgvghn_326rn_c0000gn/T/ipykernel_77347/2582768187.py:3: PerformanceWarning: DataFrame is highly fragmented.  This is usually the result of calling `frame.insert` many times, which has poor performance.  Consider joining all columns at once using pd.concat(axis=1) instead. To get a de-fragmented frame, use `newframe = frame.copy()`\n",
      "  df[i] = 0\n"
     ]
    }
   ],
   "source": [
    "df = pd.DataFrame()\n",
    "for i in range(101):\n",
    "    df[i] = 0\n",
    "# PerformanceWarning: DataFrame is highly fragmented.\n",
    "# This is usually the result of calling `frame.insert` many times, which has poor performance.\n",
    "# Consider joining all columns at once using pd.concat(axis=1) instead.\n",
    "# To get a de-fragmented frame, use `newframe = frame.copy()`"
   ]
  },
  {
   "cell_type": "code",
   "execution_count": 4,
   "id": "ab9309c9",
   "metadata": {},
   "outputs": [
    {
     "name": "stdout",
     "output_type": "stream",
     "text": [
      "      col1  col2  col3\n",
      "row1     1    10   100\n",
      "row2     2    20   200\n",
      "row3     3    30   300\n"
     ]
    }
   ],
   "source": [
    "df = pd.DataFrame({'col1': [1, 2, 3], 'col2': [10, 20, 30], 'col3': [100, 200, 300]},\n",
    "                  index=['row1', 'row2', 'row3'])\n",
    "print(df)"
   ]
  },
  {
   "cell_type": "code",
   "execution_count": 5,
   "id": "e4bdaa5f",
   "metadata": {},
   "outputs": [],
   "source": [
    "l_data = []\n",
    "l_label = []\n",
    "\n",
    "for i in range(4, 7):\n",
    "    l_data.append([i, i * 10, i * 100])\n",
    "    l_label.append(f'row{i}')"
   ]
  },
  {
   "cell_type": "code",
   "execution_count": 6,
   "id": "758c4533",
   "metadata": {},
   "outputs": [
    {
     "name": "stdout",
     "output_type": "stream",
     "text": [
      "[[4, 40, 400], [5, 50, 500], [6, 60, 600]]\n"
     ]
    }
   ],
   "source": [
    "print(l_data)"
   ]
  },
  {
   "cell_type": "code",
   "execution_count": 7,
   "id": "93c31325",
   "metadata": {},
   "outputs": [
    {
     "name": "stdout",
     "output_type": "stream",
     "text": [
      "['row4', 'row5', 'row6']\n"
     ]
    }
   ],
   "source": [
    "print(l_label)"
   ]
  },
  {
   "cell_type": "code",
   "execution_count": 8,
   "id": "18f1a562",
   "metadata": {},
   "outputs": [
    {
     "name": "stdout",
     "output_type": "stream",
     "text": [
      "      col1  col2  col3\n",
      "row4     4    40   400\n",
      "row5     5    50   500\n",
      "row6     6    60   600\n"
     ]
    }
   ],
   "source": [
    "df_append = pd.DataFrame(l_data, index=l_label, columns=df.columns)\n",
    "print(df_append)"
   ]
  },
  {
   "cell_type": "code",
   "execution_count": 9,
   "id": "61e640f4",
   "metadata": {},
   "outputs": [
    {
     "name": "stdout",
     "output_type": "stream",
     "text": [
      "      col1  col2  col3\n",
      "row1     1    10   100\n",
      "row2     2    20   200\n",
      "row3     3    30   300\n",
      "row4     4    40   400\n",
      "row5     5    50   500\n",
      "row6     6    60   600\n"
     ]
    }
   ],
   "source": [
    "df_result = pd.concat([df, df_append])\n",
    "print(df_result)"
   ]
  },
  {
   "cell_type": "code",
   "execution_count": 10,
   "id": "3280ea9f",
   "metadata": {},
   "outputs": [],
   "source": [
    "l_data = []\n",
    "l_label = []\n",
    "\n",
    "for i in range(3, 6):\n",
    "    l_data.append([10**i, 2 * 10**i, 3 * 10**i])\n",
    "    l_label.append(f'col{i + 1}')"
   ]
  },
  {
   "cell_type": "code",
   "execution_count": 11,
   "id": "5742aae0",
   "metadata": {},
   "outputs": [
    {
     "name": "stdout",
     "output_type": "stream",
     "text": [
      "[[1000, 2000, 3000], [10000, 20000, 30000], [100000, 200000, 300000]]\n"
     ]
    }
   ],
   "source": [
    "print(l_data)"
   ]
  },
  {
   "cell_type": "code",
   "execution_count": 12,
   "id": "e00bc40f",
   "metadata": {},
   "outputs": [
    {
     "name": "stdout",
     "output_type": "stream",
     "text": [
      "['col4', 'col5', 'col6']\n"
     ]
    }
   ],
   "source": [
    "print(l_label)"
   ]
  },
  {
   "cell_type": "code",
   "execution_count": 13,
   "id": "1c2f826d",
   "metadata": {},
   "outputs": [
    {
     "name": "stdout",
     "output_type": "stream",
     "text": [
      "      col4   col5    col6\n",
      "row1  1000  10000  100000\n",
      "row2  2000  20000  200000\n",
      "row3  3000  30000  300000\n"
     ]
    }
   ],
   "source": [
    "df_append = pd.DataFrame(zip(*l_data), index=df.index, columns=l_label)\n",
    "print(df_append)"
   ]
  },
  {
   "cell_type": "code",
   "execution_count": 14,
   "id": "6d5c074c",
   "metadata": {},
   "outputs": [
    {
     "name": "stdout",
     "output_type": "stream",
     "text": [
      "      col1  col2  col3  col4   col5    col6\n",
      "row1     1    10   100  1000  10000  100000\n",
      "row2     2    20   200  2000  20000  200000\n",
      "row3     3    30   300  3000  30000  300000\n"
     ]
    }
   ],
   "source": [
    "df_result = pd.concat([df, df_append], axis=1)\n",
    "print(df_result)"
   ]
  },
  {
   "cell_type": "code",
   "execution_count": 15,
   "id": "4bafa2c5",
   "metadata": {},
   "outputs": [],
   "source": [
    "d = {}\n",
    "\n",
    "for i in range(3, 6):\n",
    "    d[f'col{i + 1}'] = [10**i, 2 * 10**i, 3 * 10**i]"
   ]
  },
  {
   "cell_type": "code",
   "execution_count": 16,
   "id": "cfbb6af9",
   "metadata": {},
   "outputs": [
    {
     "name": "stdout",
     "output_type": "stream",
     "text": [
      "{'col4': [1000, 2000, 3000], 'col5': [10000, 20000, 30000], 'col6': [100000, 200000, 300000]}\n"
     ]
    }
   ],
   "source": [
    "print(d)"
   ]
  },
  {
   "cell_type": "code",
   "execution_count": 17,
   "id": "bd634c8c",
   "metadata": {},
   "outputs": [
    {
     "name": "stdout",
     "output_type": "stream",
     "text": [
      "      col4   col5    col6\n",
      "row1  1000  10000  100000\n",
      "row2  2000  20000  200000\n",
      "row3  3000  30000  300000\n"
     ]
    }
   ],
   "source": [
    "df_append = pd.DataFrame(d, index=df.index)\n",
    "print(df_append)"
   ]
  },
  {
   "cell_type": "code",
   "execution_count": 18,
   "id": "bf1b008d",
   "metadata": {},
   "outputs": [
    {
     "name": "stdout",
     "output_type": "stream",
     "text": [
      "      col1  col2  col3  col4   col5    col6\n",
      "row1     1    10   100  1000  10000  100000\n",
      "row2     2    20   200  2000  20000  200000\n",
      "row3     3    30   300  3000  30000  300000\n"
     ]
    }
   ],
   "source": [
    "df_result = pd.concat([df, df_append], axis=1)\n",
    "print(df_result)"
   ]
  }
 ],
 "metadata": {
  "kernelspec": {
   "display_name": "Python 3",
   "language": "python",
   "name": "python3"
  },
  "language_info": {
   "codemirror_mode": {
    "name": "ipython",
    "version": 3
   },
   "file_extension": ".py",
   "mimetype": "text/x-python",
   "name": "python",
   "nbconvert_exporter": "python",
   "pygments_lexer": "ipython3",
   "version": "3.11.4"
  }
 },
 "nbformat": 4,
 "nbformat_minor": 5
}
