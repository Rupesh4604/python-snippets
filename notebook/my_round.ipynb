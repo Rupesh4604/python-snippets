{
 "cells": [
  {
   "cell_type": "code",
   "execution_count": 1,
   "metadata": {},
   "outputs": [],
   "source": [
    "def my_round(number, ndigits=0):\n",
    "    p = 10**ndigits\n",
    "    return (number * p * 2 + 1) // 2 / p"
   ]
  },
  {
   "cell_type": "code",
   "execution_count": 2,
   "metadata": {},
   "outputs": [],
   "source": [
    "def my_round_int(number):\n",
    "    return int((number * 2 + 1) // 2)"
   ]
  },
  {
   "cell_type": "code",
   "execution_count": 3,
   "metadata": {},
   "outputs": [],
   "source": [
    "f = 123.456"
   ]
  },
  {
   "cell_type": "code",
   "execution_count": 4,
   "metadata": {},
   "outputs": [
    {
     "name": "stdout",
     "output_type": "stream",
     "text": [
      "123.0\n"
     ]
    }
   ],
   "source": [
    "print(my_round(f))"
   ]
  },
  {
   "cell_type": "code",
   "execution_count": 5,
   "metadata": {},
   "outputs": [
    {
     "name": "stdout",
     "output_type": "stream",
     "text": [
      "123\n"
     ]
    }
   ],
   "source": [
    "print(int(my_round(f)))"
   ]
  },
  {
   "cell_type": "code",
   "execution_count": 6,
   "metadata": {},
   "outputs": [
    {
     "name": "stdout",
     "output_type": "stream",
     "text": [
      "123.5\n"
     ]
    }
   ],
   "source": [
    "print(my_round(f, 1))"
   ]
  },
  {
   "cell_type": "code",
   "execution_count": 7,
   "metadata": {},
   "outputs": [
    {
     "name": "stdout",
     "output_type": "stream",
     "text": [
      "123.46\n"
     ]
    }
   ],
   "source": [
    "print(my_round(f, 2))"
   ]
  },
  {
   "cell_type": "code",
   "execution_count": 8,
   "metadata": {},
   "outputs": [
    {
     "name": "stdout",
     "output_type": "stream",
     "text": [
      "123\n"
     ]
    }
   ],
   "source": [
    "print(my_round_int(f))"
   ]
  },
  {
   "cell_type": "code",
   "execution_count": 9,
   "metadata": {},
   "outputs": [
    {
     "name": "stdout",
     "output_type": "stream",
     "text": [
      "0.4 => 0\n",
      "0.5 => 1\n",
      "0.6 => 1\n"
     ]
    }
   ],
   "source": [
    "print('0.4 =>', int(my_round(0.4)))\n",
    "print('0.5 =>', int(my_round(0.5)))\n",
    "print('0.6 =>', int(my_round(0.6)))"
   ]
  },
  {
   "cell_type": "code",
   "execution_count": 10,
   "metadata": {},
   "outputs": [],
   "source": [
    "i = 99518"
   ]
  },
  {
   "cell_type": "code",
   "execution_count": 11,
   "metadata": {},
   "outputs": [
    {
     "name": "stdout",
     "output_type": "stream",
     "text": [
      "99520\n"
     ]
    }
   ],
   "source": [
    "print(int(my_round(i, -1)))"
   ]
  },
  {
   "cell_type": "code",
   "execution_count": 12,
   "metadata": {},
   "outputs": [
    {
     "name": "stdout",
     "output_type": "stream",
     "text": [
      "99500\n"
     ]
    }
   ],
   "source": [
    "print(int(my_round(i, -2)))"
   ]
  },
  {
   "cell_type": "code",
   "execution_count": 13,
   "metadata": {},
   "outputs": [
    {
     "name": "stdout",
     "output_type": "stream",
     "text": [
      "100000\n"
     ]
    }
   ],
   "source": [
    "print(int(my_round(i, -3)))"
   ]
  },
  {
   "cell_type": "code",
   "execution_count": 14,
   "metadata": {},
   "outputs": [
    {
     "name": "stdout",
     "output_type": "stream",
     "text": [
      "4 => 0\n",
      "5 => 10\n",
      "6 => 10\n"
     ]
    }
   ],
   "source": [
    "print('4 =>', int(my_round(4, -1)))\n",
    "print('5 =>', int(my_round(5, -1)))\n",
    "print('6 =>', int(my_round(6, -1)))"
   ]
  },
  {
   "cell_type": "code",
   "execution_count": 15,
   "metadata": {},
   "outputs": [
    {
     "name": "stdout",
     "output_type": "stream",
     "text": [
      "-0.4 => 0\n",
      "-0.5 => 0\n",
      "-0.6 => -1\n"
     ]
    }
   ],
   "source": [
    "print('-0.4 =>', int(my_round(-0.4)))\n",
    "print('-0.5 =>', int(my_round(-0.5)))\n",
    "print('-0.6 =>', int(my_round(-0.6)))"
   ]
  },
  {
   "cell_type": "code",
   "execution_count": 16,
   "metadata": {},
   "outputs": [],
   "source": [
    "import math"
   ]
  },
  {
   "cell_type": "code",
   "execution_count": 17,
   "metadata": {},
   "outputs": [],
   "source": [
    "def my_round2(number, ndigits=0):\n",
    "    p = 10**ndigits\n",
    "    return (abs(number) * p * 2 + 1) // 2 / p * math.copysign(1, number)"
   ]
  },
  {
   "cell_type": "code",
   "execution_count": 18,
   "metadata": {},
   "outputs": [
    {
     "name": "stdout",
     "output_type": "stream",
     "text": [
      "-0.4 => 0\n",
      "-0.5 => -1\n",
      "-0.6 => -1\n"
     ]
    }
   ],
   "source": [
    "print('-0.4 =>', int(my_round2(-0.4)))\n",
    "print('-0.5 =>', int(my_round2(-0.5)))\n",
    "print('-0.6 =>', int(my_round2(-0.6)))"
   ]
  }
 ],
 "metadata": {
  "kernelspec": {
   "display_name": "Python 3",
   "language": "python",
   "name": "python3"
  },
  "language_info": {
   "codemirror_mode": {
    "name": "ipython",
    "version": 3
   },
   "file_extension": ".py",
   "mimetype": "text/x-python",
   "name": "python",
   "nbconvert_exporter": "python",
   "pygments_lexer": "ipython3",
   "version": "3.11.6"
  }
 },
 "nbformat": 4,
 "nbformat_minor": 2
}
