{
 "cells": [
  {
   "cell_type": "code",
   "execution_count": 1,
   "id": "8c52e44f",
   "metadata": {},
   "outputs": [],
   "source": [
    "import numpy as np\n",
    "import pandas as pd"
   ]
  },
  {
   "cell_type": "code",
   "execution_count": 2,
   "id": "7ef35a65",
   "metadata": {},
   "outputs": [
    {
     "name": "stdout",
     "output_type": "stream",
     "text": [
      "1.26.1\n"
     ]
    }
   ],
   "source": [
    "print(np.__version__)"
   ]
  },
  {
   "cell_type": "code",
   "execution_count": 3,
   "id": "d613883a",
   "metadata": {},
   "outputs": [
    {
     "name": "stdout",
     "output_type": "stream",
     "text": [
      "2.1.2\n"
     ]
    }
   ],
   "source": [
    "print(pd.__version__)"
   ]
  },
  {
   "cell_type": "code",
   "execution_count": 4,
   "id": "e9c3cc0a",
   "metadata": {},
   "outputs": [
    {
     "name": "stdout",
     "output_type": "stream",
     "text": [
      "0   -0.50\n",
      "1   -0.25\n",
      "2    0.25\n",
      "3    0.50\n",
      "dtype: float64\n"
     ]
    }
   ],
   "source": [
    "s = pd.Series([-0.5, -0.25, 0.25, 0.5])\n",
    "print(s)"
   ]
  },
  {
   "cell_type": "code",
   "execution_count": 5,
   "id": "518cefcf",
   "metadata": {},
   "outputs": [
    {
     "name": "stdout",
     "output_type": "stream",
     "text": [
      "0   -1.0\n",
      "1   -1.0\n",
      "2    0.0\n",
      "3    0.0\n",
      "dtype: float64\n"
     ]
    }
   ],
   "source": [
    "print(np.floor(s))"
   ]
  },
  {
   "cell_type": "code",
   "execution_count": 6,
   "id": "de4eab6c",
   "metadata": {},
   "outputs": [
    {
     "name": "stdout",
     "output_type": "stream",
     "text": [
      "0   -0.0\n",
      "1   -0.0\n",
      "2    0.0\n",
      "3    0.0\n",
      "dtype: float64\n"
     ]
    }
   ],
   "source": [
    "print(np.trunc(s))"
   ]
  },
  {
   "cell_type": "code",
   "execution_count": 7,
   "id": "f82aa741",
   "metadata": {},
   "outputs": [
    {
     "name": "stdout",
     "output_type": "stream",
     "text": [
      "0   -0.0\n",
      "1   -0.0\n",
      "2    1.0\n",
      "3    1.0\n",
      "dtype: float64\n"
     ]
    }
   ],
   "source": [
    "print(np.ceil(s))"
   ]
  },
  {
   "cell_type": "code",
   "execution_count": 8,
   "id": "702f9204",
   "metadata": {},
   "outputs": [],
   "source": [
    "def my_round(x, decimals=0):\n",
    "    return np.floor(x * 10**decimals + 0.5) / 10**decimals"
   ]
  },
  {
   "cell_type": "code",
   "execution_count": 9,
   "id": "8b0aac7a",
   "metadata": {},
   "outputs": [
    {
     "name": "stdout",
     "output_type": "stream",
     "text": [
      "0    0.5\n",
      "1    1.5\n",
      "2    2.5\n",
      "3    3.5\n",
      "4    4.5\n",
      "dtype: float64\n"
     ]
    }
   ],
   "source": [
    "s = pd.Series([0.5, 1.5, 2.5, 3.5, 4.5])\n",
    "print(s)"
   ]
  },
  {
   "cell_type": "code",
   "execution_count": 10,
   "id": "de237e74",
   "metadata": {},
   "outputs": [
    {
     "name": "stdout",
     "output_type": "stream",
     "text": [
      "0    1.0\n",
      "1    2.0\n",
      "2    3.0\n",
      "3    4.0\n",
      "4    5.0\n",
      "dtype: float64\n"
     ]
    }
   ],
   "source": [
    "print(my_round(s))"
   ]
  },
  {
   "cell_type": "code",
   "execution_count": 11,
   "id": "71471b91",
   "metadata": {},
   "outputs": [
    {
     "name": "stdout",
     "output_type": "stream",
     "text": [
      "0    10.0\n",
      "1    20.0\n",
      "2    30.0\n",
      "3    40.0\n",
      "4    50.0\n",
      "dtype: float64\n"
     ]
    }
   ],
   "source": [
    "print(my_round(s * 10, -1))"
   ]
  },
  {
   "cell_type": "code",
   "execution_count": 12,
   "id": "3170688a",
   "metadata": {},
   "outputs": [
    {
     "name": "stdout",
     "output_type": "stream",
     "text": [
      "         f    i    s\n",
      "0  123.456  123  abc\n",
      "1  987.654  987  xyz\n"
     ]
    }
   ],
   "source": [
    "df = pd.DataFrame({'f': [123.456, 987.654], 'i': [123, 987], 's': ['abc', 'xyz']})\n",
    "print(df)"
   ]
  },
  {
   "cell_type": "code",
   "execution_count": 13,
   "id": "321e72da",
   "metadata": {},
   "outputs": [],
   "source": [
    "# print(np.floor(df))\n",
    "# TypeError: must be real number, not str"
   ]
  },
  {
   "cell_type": "code",
   "execution_count": 14,
   "id": "fc53f959",
   "metadata": {},
   "outputs": [
    {
     "name": "stdout",
     "output_type": "stream",
     "text": [
      "       f      i\n",
      "0  123.0  123.0\n",
      "1  987.0  987.0\n"
     ]
    }
   ],
   "source": [
    "print(np.floor(df.select_dtypes('number')))"
   ]
  },
  {
   "cell_type": "code",
   "execution_count": 15,
   "id": "51926bc5",
   "metadata": {},
   "outputs": [
    {
     "name": "stdout",
     "output_type": "stream",
     "text": [
      "         f    i    s  f_floor\n",
      "0  123.456  123  abc    123.0\n",
      "1  987.654  987  xyz    987.0\n"
     ]
    }
   ],
   "source": [
    "df['f_floor'] = np.floor(df['f'])\n",
    "print(df)"
   ]
  }
 ],
 "metadata": {
  "kernelspec": {
   "display_name": "Python 3",
   "language": "python",
   "name": "python3"
  },
  "language_info": {
   "codemirror_mode": {
    "name": "ipython",
    "version": 3
   },
   "file_extension": ".py",
   "mimetype": "text/x-python",
   "name": "python",
   "nbconvert_exporter": "python",
   "pygments_lexer": "ipython3",
   "version": "3.11.6"
  }
 },
 "nbformat": 4,
 "nbformat_minor": 5
}
