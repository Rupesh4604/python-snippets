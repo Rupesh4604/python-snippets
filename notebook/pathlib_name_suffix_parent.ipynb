{
 "cells": [
  {
   "cell_type": "code",
   "execution_count": 1,
   "id": "9a54ec83",
   "metadata": {},
   "outputs": [],
   "source": [
    "from pathlib import Path"
   ]
  },
  {
   "cell_type": "code",
   "execution_count": 2,
   "id": "e22a1a66",
   "metadata": {},
   "outputs": [
    {
     "name": "stdout",
     "output_type": "stream",
     "text": [
      "dir/sub_dir/file.txt\n"
     ]
    }
   ],
   "source": [
    "p_file = Path('dir/sub_dir/file.txt')\n",
    "print(p_file)"
   ]
  },
  {
   "cell_type": "code",
   "execution_count": 3,
   "id": "b446c51d",
   "metadata": {},
   "outputs": [
    {
     "name": "stdout",
     "output_type": "stream",
     "text": [
      "<class 'pathlib.PosixPath'>\n"
     ]
    }
   ],
   "source": [
    "print(type(p_file))"
   ]
  },
  {
   "cell_type": "code",
   "execution_count": 4,
   "id": "f0b2183a",
   "metadata": {},
   "outputs": [
    {
     "name": "stdout",
     "output_type": "stream",
     "text": [
      "file.txt\n"
     ]
    }
   ],
   "source": [
    "print(p_file.name)"
   ]
  },
  {
   "cell_type": "code",
   "execution_count": 5,
   "id": "e525478f",
   "metadata": {},
   "outputs": [
    {
     "name": "stdout",
     "output_type": "stream",
     "text": [
      "<class 'str'>\n"
     ]
    }
   ],
   "source": [
    "print(type(p_file.name))"
   ]
  },
  {
   "cell_type": "code",
   "execution_count": 6,
   "id": "d31c3ce5",
   "metadata": {},
   "outputs": [
    {
     "name": "stdout",
     "output_type": "stream",
     "text": [
      "file\n"
     ]
    }
   ],
   "source": [
    "print(p_file.stem)"
   ]
  },
  {
   "cell_type": "code",
   "execution_count": 7,
   "id": "ffb07e6d",
   "metadata": {},
   "outputs": [
    {
     "name": "stdout",
     "output_type": "stream",
     "text": [
      "<class 'str'>\n"
     ]
    }
   ],
   "source": [
    "print(type(p_file.stem))"
   ]
  },
  {
   "cell_type": "code",
   "execution_count": 8,
   "id": "b933fb5e",
   "metadata": {},
   "outputs": [
    {
     "name": "stdout",
     "output_type": "stream",
     "text": [
      "dir/sub_dir\n"
     ]
    }
   ],
   "source": [
    "p_dir = Path('dir/sub_dir/')\n",
    "print(p_dir)"
   ]
  },
  {
   "cell_type": "code",
   "execution_count": 9,
   "id": "09001e1f",
   "metadata": {},
   "outputs": [
    {
     "name": "stdout",
     "output_type": "stream",
     "text": [
      "sub_dir\n"
     ]
    }
   ],
   "source": [
    "print(p_dir.name)"
   ]
  },
  {
   "cell_type": "code",
   "execution_count": 10,
   "id": "29fb175a",
   "metadata": {},
   "outputs": [
    {
     "name": "stdout",
     "output_type": "stream",
     "text": [
      "sub_dir\n"
     ]
    }
   ],
   "source": [
    "print(p_dir.stem)"
   ]
  },
  {
   "cell_type": "code",
   "execution_count": 11,
   "id": "224df7f6",
   "metadata": {},
   "outputs": [
    {
     "name": "stdout",
     "output_type": "stream",
     "text": [
      ".txt\n"
     ]
    }
   ],
   "source": [
    "print(p_file.suffix)"
   ]
  },
  {
   "cell_type": "code",
   "execution_count": 12,
   "id": "b72d80fb",
   "metadata": {},
   "outputs": [
    {
     "name": "stdout",
     "output_type": "stream",
     "text": [
      "<class 'str'>\n"
     ]
    }
   ],
   "source": [
    "print(type(p_file.suffix))"
   ]
  },
  {
   "cell_type": "code",
   "execution_count": 13,
   "id": "99975b67",
   "metadata": {},
   "outputs": [
    {
     "name": "stdout",
     "output_type": "stream",
     "text": [
      "\n"
     ]
    }
   ],
   "source": [
    "print(p_dir.suffix)"
   ]
  },
  {
   "cell_type": "code",
   "execution_count": 14,
   "id": "8edb14ad",
   "metadata": {},
   "outputs": [
    {
     "name": "stdout",
     "output_type": "stream",
     "text": [
      "txt\n"
     ]
    }
   ],
   "source": [
    "print(p_file.suffix.lstrip('.'))"
   ]
  },
  {
   "cell_type": "code",
   "execution_count": 15,
   "id": "1ec271ad",
   "metadata": {},
   "outputs": [
    {
     "name": "stdout",
     "output_type": "stream",
     "text": [
      "txt\n"
     ]
    }
   ],
   "source": [
    "print(p_file.suffix[1:])"
   ]
  },
  {
   "cell_type": "code",
   "execution_count": 16,
   "id": "6e48b9a7",
   "metadata": {},
   "outputs": [
    {
     "name": "stdout",
     "output_type": "stream",
     "text": [
      "\n"
     ]
    }
   ],
   "source": [
    "print(p_dir.suffix.lstrip('.'))"
   ]
  },
  {
   "cell_type": "code",
   "execution_count": 17,
   "id": "26111f69",
   "metadata": {},
   "outputs": [
    {
     "name": "stdout",
     "output_type": "stream",
     "text": [
      "\n"
     ]
    }
   ],
   "source": [
    "print(p_dir.suffix[1:])"
   ]
  },
  {
   "cell_type": "code",
   "execution_count": 18,
   "id": "d3be6ffe",
   "metadata": {},
   "outputs": [
    {
     "name": "stdout",
     "output_type": "stream",
     "text": [
      "dir/sub_dir/file.tar.gz\n"
     ]
    }
   ],
   "source": [
    "p_tar_gz = Path('dir/sub_dir/file.tar.gz')\n",
    "print(p_tar_gz)"
   ]
  },
  {
   "cell_type": "code",
   "execution_count": 19,
   "id": "9ab24895",
   "metadata": {},
   "outputs": [
    {
     "name": "stdout",
     "output_type": "stream",
     "text": [
      ".gz\n"
     ]
    }
   ],
   "source": [
    "print(p_tar_gz.suffix)"
   ]
  },
  {
   "cell_type": "code",
   "execution_count": 20,
   "id": "7632318d",
   "metadata": {},
   "outputs": [
    {
     "name": "stdout",
     "output_type": "stream",
     "text": [
      "['.tar', '.gz']\n"
     ]
    }
   ],
   "source": [
    "print(p_tar_gz.suffixes)"
   ]
  },
  {
   "cell_type": "code",
   "execution_count": 21,
   "id": "32b840bc",
   "metadata": {},
   "outputs": [
    {
     "name": "stdout",
     "output_type": "stream",
     "text": [
      "['.txt']\n"
     ]
    }
   ],
   "source": [
    "print(p_file.suffixes)"
   ]
  },
  {
   "cell_type": "code",
   "execution_count": 22,
   "id": "24dd7adb",
   "metadata": {},
   "outputs": [
    {
     "name": "stdout",
     "output_type": "stream",
     "text": [
      "[]\n"
     ]
    }
   ],
   "source": [
    "print(p_dir.suffixes)"
   ]
  },
  {
   "cell_type": "code",
   "execution_count": 23,
   "id": "78c8b93b",
   "metadata": {},
   "outputs": [
    {
     "name": "stdout",
     "output_type": "stream",
     "text": [
      "dir/sub_dir\n"
     ]
    }
   ],
   "source": [
    "print(p_file.parent)"
   ]
  },
  {
   "cell_type": "code",
   "execution_count": 24,
   "id": "d429d78d",
   "metadata": {},
   "outputs": [
    {
     "name": "stdout",
     "output_type": "stream",
     "text": [
      "<class 'pathlib.PosixPath'>\n"
     ]
    }
   ],
   "source": [
    "print(type(p_file.parent))"
   ]
  },
  {
   "cell_type": "code",
   "execution_count": 25,
   "id": "32999b88",
   "metadata": {},
   "outputs": [
    {
     "name": "stdout",
     "output_type": "stream",
     "text": [
      "sub_dir\n"
     ]
    }
   ],
   "source": [
    "print(p_file.parent.name)"
   ]
  },
  {
   "cell_type": "code",
   "execution_count": 26,
   "id": "d0e4042f",
   "metadata": {},
   "outputs": [
    {
     "name": "stdout",
     "output_type": "stream",
     "text": [
      "<class 'str'>\n"
     ]
    }
   ],
   "source": [
    "print(type(p_file.parent.name))"
   ]
  },
  {
   "cell_type": "code",
   "execution_count": 27,
   "id": "57f97756",
   "metadata": {},
   "outputs": [
    {
     "name": "stdout",
     "output_type": "stream",
     "text": [
      "dir/sub_dir\n"
     ]
    }
   ],
   "source": [
    "print(p_file.parents[0])"
   ]
  },
  {
   "cell_type": "code",
   "execution_count": 28,
   "id": "705ba868",
   "metadata": {},
   "outputs": [
    {
     "name": "stdout",
     "output_type": "stream",
     "text": [
      "dir\n"
     ]
    }
   ],
   "source": [
    "print(p_file.parents[1])"
   ]
  },
  {
   "cell_type": "code",
   "execution_count": 29,
   "id": "de0cb891",
   "metadata": {},
   "outputs": [
    {
     "name": "stdout",
     "output_type": "stream",
     "text": [
      ".\n"
     ]
    }
   ],
   "source": [
    "print(p_file.parents[2])"
   ]
  },
  {
   "cell_type": "code",
   "execution_count": 30,
   "id": "ee668659",
   "metadata": {},
   "outputs": [],
   "source": [
    "# print(p_file.parents[3])\n",
    "# IndexError: 3"
   ]
  },
  {
   "cell_type": "code",
   "execution_count": 31,
   "id": "efee969a",
   "metadata": {},
   "outputs": [
    {
     "name": "stdout",
     "output_type": "stream",
     "text": [
      "/Users/mbp/Documents/my-project/python-snippets/notebook/dir/sub_dir/file.txt\n"
     ]
    }
   ],
   "source": [
    "p_abs = p_file.resolve()\n",
    "print(p_abs)"
   ]
  },
  {
   "cell_type": "code",
   "execution_count": 32,
   "id": "009581dc",
   "metadata": {},
   "outputs": [
    {
     "name": "stdout",
     "output_type": "stream",
     "text": [
      "/Users/mbp/Documents/my-project/python-snippets\n"
     ]
    }
   ],
   "source": [
    "print(p_abs.parents[3])"
   ]
  },
  {
   "cell_type": "code",
   "execution_count": 33,
   "id": "8152d355",
   "metadata": {},
   "outputs": [],
   "source": [
    "# print(p_abs.parents[9])\n",
    "# IndexError: 9"
   ]
  },
  {
   "cell_type": "code",
   "execution_count": 34,
   "id": "796c3211",
   "metadata": {},
   "outputs": [
    {
     "name": "stdout",
     "output_type": "stream",
     "text": [
      ".\n"
     ]
    }
   ],
   "source": [
    "print(p_file.parents[-1])"
   ]
  },
  {
   "cell_type": "code",
   "execution_count": 35,
   "id": "03ad553b",
   "metadata": {},
   "outputs": [
    {
     "name": "stdout",
     "output_type": "stream",
     "text": [
      "dir\n"
     ]
    }
   ],
   "source": [
    "print(p_file.parents[-2])"
   ]
  },
  {
   "cell_type": "code",
   "execution_count": 36,
   "id": "3050476f",
   "metadata": {},
   "outputs": [
    {
     "name": "stdout",
     "output_type": "stream",
     "text": [
      "dir/sub_dir\n"
     ]
    }
   ],
   "source": [
    "print(p_file.parents[-3])"
   ]
  },
  {
   "cell_type": "code",
   "execution_count": 37,
   "id": "fbba178c",
   "metadata": {},
   "outputs": [
    {
     "name": "stdout",
     "output_type": "stream",
     "text": [
      "/\n"
     ]
    }
   ],
   "source": [
    "print(p_abs.parents[-1])"
   ]
  },
  {
   "cell_type": "code",
   "execution_count": 38,
   "id": "d7ff41e9",
   "metadata": {},
   "outputs": [
    {
     "name": "stdout",
     "output_type": "stream",
     "text": [
      "/Users\n"
     ]
    }
   ],
   "source": [
    "print(p_abs.parents[-2])"
   ]
  },
  {
   "cell_type": "code",
   "execution_count": 39,
   "id": "610ab2d1",
   "metadata": {},
   "outputs": [
    {
     "name": "stdout",
     "output_type": "stream",
     "text": [
      "/Users/mbp\n"
     ]
    }
   ],
   "source": [
    "print(p_abs.parents[-3])"
   ]
  },
  {
   "cell_type": "code",
   "execution_count": 40,
   "id": "14f7548f",
   "metadata": {},
   "outputs": [
    {
     "name": "stdout",
     "output_type": "stream",
     "text": [
      "dir/sub_dir/../sub_dir/file.txt\n"
     ]
    }
   ],
   "source": [
    "p_file_rel = Path('dir/sub_dir/../sub_dir/file.txt')\n",
    "print(p_file_rel)"
   ]
  },
  {
   "cell_type": "code",
   "execution_count": 41,
   "id": "431ac0b5",
   "metadata": {},
   "outputs": [
    {
     "name": "stdout",
     "output_type": "stream",
     "text": [
      "dir/sub_dir/../sub_dir\n"
     ]
    }
   ],
   "source": [
    "print(p_file_rel.parents[0])"
   ]
  },
  {
   "cell_type": "code",
   "execution_count": 42,
   "id": "56df173b",
   "metadata": {},
   "outputs": [
    {
     "name": "stdout",
     "output_type": "stream",
     "text": [
      "dir/sub_dir/..\n"
     ]
    }
   ],
   "source": [
    "print(p_file_rel.parents[1])"
   ]
  },
  {
   "cell_type": "code",
   "execution_count": 43,
   "id": "3ffcd5b3",
   "metadata": {},
   "outputs": [
    {
     "name": "stdout",
     "output_type": "stream",
     "text": [
      "dir/sub_dir\n"
     ]
    }
   ],
   "source": [
    "print(p_file_rel.parents[2])"
   ]
  },
  {
   "cell_type": "code",
   "execution_count": 44,
   "id": "5803f493",
   "metadata": {},
   "outputs": [
    {
     "name": "stdout",
     "output_type": "stream",
     "text": [
      "/Users/mbp/Documents/my-project/python-snippets/notebook/dir/sub_dir/file.txt\n"
     ]
    }
   ],
   "source": [
    "print(p_file.resolve())"
   ]
  },
  {
   "cell_type": "code",
   "execution_count": 45,
   "id": "2769f10d",
   "metadata": {},
   "outputs": [
    {
     "name": "stdout",
     "output_type": "stream",
     "text": [
      "/Users/mbp/Documents/my-project/python-snippets/notebook/dir/sub_dir/file.txt\n"
     ]
    }
   ],
   "source": [
    "print(p_file_rel.resolve())"
   ]
  },
  {
   "cell_type": "code",
   "execution_count": 46,
   "id": "641f7313",
   "metadata": {},
   "outputs": [
    {
     "name": "stdout",
     "output_type": "stream",
     "text": [
      "True\n"
     ]
    }
   ],
   "source": [
    "print(p_file.resolve() == p_file_rel.resolve())"
   ]
  },
  {
   "cell_type": "code",
   "execution_count": 47,
   "id": "43237fe8",
   "metadata": {},
   "outputs": [
    {
     "name": "stdout",
     "output_type": "stream",
     "text": [
      "dir/sub_dir/file.txt\n"
     ]
    }
   ],
   "source": [
    "print(p_file_rel.resolve().relative_to(Path.cwd()))"
   ]
  },
  {
   "cell_type": "code",
   "execution_count": 48,
   "id": "fd98be15",
   "metadata": {},
   "outputs": [
    {
     "name": "stdout",
     "output_type": "stream",
     "text": [
      "dir/sub_dir/new_file.txt\n"
     ]
    }
   ],
   "source": [
    "print(p_file.with_name('new_file.txt'))"
   ]
  },
  {
   "cell_type": "code",
   "execution_count": 49,
   "id": "5b727fb8",
   "metadata": {},
   "outputs": [
    {
     "name": "stdout",
     "output_type": "stream",
     "text": [
      "<class 'pathlib.PosixPath'>\n"
     ]
    }
   ],
   "source": [
    "print(type(p_file.with_name('new_file.txt')))"
   ]
  },
  {
   "cell_type": "code",
   "execution_count": 50,
   "id": "9007043e",
   "metadata": {},
   "outputs": [
    {
     "name": "stdout",
     "output_type": "stream",
     "text": [
      "dir/new_dir\n"
     ]
    }
   ],
   "source": [
    "print(p_dir.with_name('new_dir'))"
   ]
  },
  {
   "cell_type": "code",
   "execution_count": 51,
   "id": "fae74cf2",
   "metadata": {},
   "outputs": [
    {
     "name": "stdout",
     "output_type": "stream",
     "text": [
      "dir/new_file.txt\n"
     ]
    }
   ],
   "source": [
    "print(p_dir.with_name('new_file.txt'))"
   ]
  },
  {
   "cell_type": "code",
   "execution_count": 52,
   "id": "55ec3035",
   "metadata": {},
   "outputs": [
    {
     "name": "stdout",
     "output_type": "stream",
     "text": [
      "dir/sub_dir/new_dir\n"
     ]
    }
   ],
   "source": [
    "print(p_dir.joinpath('new_dir'))"
   ]
  },
  {
   "cell_type": "code",
   "execution_count": 53,
   "id": "73ba46a3",
   "metadata": {},
   "outputs": [
    {
     "name": "stdout",
     "output_type": "stream",
     "text": [
      "dir/sub_dir/new_file.txt\n"
     ]
    }
   ],
   "source": [
    "print(p_dir / 'new_file.txt')"
   ]
  },
  {
   "cell_type": "code",
   "execution_count": 54,
   "id": "769f4b43",
   "metadata": {},
   "outputs": [],
   "source": [
    "p_file.with_name('new_dir').mkdir(parents=True)\n",
    "p_file.with_name('new_file.txt').touch()"
   ]
  },
  {
   "cell_type": "code",
   "execution_count": 55,
   "id": "5ba4524f",
   "metadata": {},
   "outputs": [],
   "source": [
    "p_file.with_name('new_file.txt').unlink()\n",
    "p_file.with_name('new_dir').rmdir()\n",
    "p_file.parent.rmdir()\n",
    "p_file.parent.parent.rmdir()"
   ]
  },
  {
   "cell_type": "code",
   "execution_count": 56,
   "id": "38151fbe",
   "metadata": {},
   "outputs": [
    {
     "name": "stdout",
     "output_type": "stream",
     "text": [
      "dir/sub_dir/file.text\n"
     ]
    }
   ],
   "source": [
    "print(p_file.with_suffix('.text'))"
   ]
  },
  {
   "cell_type": "code",
   "execution_count": 57,
   "id": "421e933c",
   "metadata": {},
   "outputs": [
    {
     "name": "stdout",
     "output_type": "stream",
     "text": [
      "<class 'pathlib.PosixPath'>\n"
     ]
    }
   ],
   "source": [
    "print(type(p_file.with_suffix('.text')))"
   ]
  },
  {
   "cell_type": "code",
   "execution_count": 58,
   "id": "ef8b9805",
   "metadata": {},
   "outputs": [],
   "source": [
    "# print(p_file.with_suffix('text'))\n",
    "# ValueError: Invalid suffix 'text'"
   ]
  },
  {
   "cell_type": "code",
   "execution_count": 59,
   "id": "960c5926",
   "metadata": {},
   "outputs": [
    {
     "name": "stdout",
     "output_type": "stream",
     "text": [
      "dir/sub_dir.text\n"
     ]
    }
   ],
   "source": [
    "print(p_dir.with_suffix('.text'))"
   ]
  },
  {
   "cell_type": "code",
   "execution_count": 60,
   "id": "9efad7db",
   "metadata": {},
   "outputs": [
    {
     "name": "stdout",
     "output_type": "stream",
     "text": [
      "dir/sub_dir/new_file.txt\n"
     ]
    }
   ],
   "source": [
    "print(p_file.with_stem('new_file'))"
   ]
  },
  {
   "cell_type": "code",
   "execution_count": 61,
   "id": "7eef0035",
   "metadata": {},
   "outputs": [
    {
     "name": "stdout",
     "output_type": "stream",
     "text": [
      "<class 'pathlib.PosixPath'>\n"
     ]
    }
   ],
   "source": [
    "print(type(p_file.with_stem('new_file')))"
   ]
  },
  {
   "cell_type": "code",
   "execution_count": 62,
   "id": "d4139ac7",
   "metadata": {},
   "outputs": [
    {
     "name": "stdout",
     "output_type": "stream",
     "text": [
      "dir/new_dir\n"
     ]
    }
   ],
   "source": [
    "print(p_dir.with_stem('new_dir'))"
   ]
  }
 ],
 "metadata": {
  "kernelspec": {
   "display_name": "Python 3",
   "language": "python",
   "name": "python3"
  },
  "language_info": {
   "codemirror_mode": {
    "name": "ipython",
    "version": 3
   },
   "file_extension": ".py",
   "mimetype": "text/x-python",
   "name": "python",
   "nbconvert_exporter": "python",
   "pygments_lexer": "ipython3",
   "version": "3.11.6"
  }
 },
 "nbformat": 4,
 "nbformat_minor": 5
}
