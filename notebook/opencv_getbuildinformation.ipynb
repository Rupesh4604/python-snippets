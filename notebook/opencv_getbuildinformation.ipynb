{
 "cells": [
  {
   "cell_type": "code",
   "execution_count": 1,
   "metadata": {},
   "outputs": [],
   "source": [
    "import cv2"
   ]
  },
  {
   "cell_type": "code",
   "execution_count": 2,
   "metadata": {},
   "outputs": [
    {
     "name": "stdout",
     "output_type": "stream",
     "text": [
      "\n",
      "General configuration for OpenCV 4.7.0 =====================================\n",
      "  Version control:               unknown\n",
      "\n",
      "  Extra modules:\n",
      "    Location (extra):            /tmp/opencv-20230423-16173-kbjcfg/opencv-4.7.0/opencv_contrib/modules\n",
      "    Version control (extra):     unknown\n",
      "\n",
      "  Platform:\n",
      "    Timestamp:                   2022-12-28T14:31:52Z\n",
      "    Host:                        Darwin 21.6.0 arm64\n",
      "    CMake:                       3.26.3\n",
      "    CMake generator:             Unix Makefiles\n",
      "    CMake build tool:            gmake\n",
      "    Configuration:               Release\n",
      "\n",
      "  CPU/HW features:\n",
      "    Baseline:                    NEON FP16\n",
      "\n",
      "  C/C++:\n",
      "    Built as dynamic libs?:      YES\n",
      "    C++ standard:                11\n",
      "    C++ Compiler:                clang++  (ver 14.0.0.14000029)\n",
      "    C++ flags (Release):         -fsigned-char -W -Wall -Wreturn-type -Wnon-virtual-dtor -Waddress -Wsequence-point -Wformat -Wformat-security -Wmissing-declarations -Wmissing-prototypes -Wstrict-prototypes -Wundef -Winit-self -Wpointer-arith -Wshadow -Wsign-promo -Wuninitialized -Wno-delete-non-virtual-dtor -Wno-unnamed-type-template-args -Wno-comment -fdiagnostics-show-option -Qunused-arguments -Wno-semicolon-before-method-body -ffunction-sections -fdata-sections    -fvisibility=hidden -fvisibility-inlines-hidden -O3 -DNDEBUG  -DNDEBUG\n",
      "    C++ flags (Debug):           -fsigned-char -W -Wall -Wreturn-type -Wnon-virtual-dtor -Waddress -Wsequence-point -Wformat -Wformat-security -Wmissing-declarations -Wmissing-prototypes -Wstrict-prototypes -Wundef -Winit-self -Wpointer-arith -Wshadow -Wsign-promo -Wuninitialized -Wno-delete-non-virtual-dtor -Wno-unnamed-type-template-args -Wno-comment -fdiagnostics-show-option -Qunused-arguments -Wno-semicolon-before-method-body -ffunction-sections -fdata-sections    -fvisibility=hidden -fvisibility-inlines-hidden -g  -O0 -DDEBUG -D_DEBUG\n",
      "    C Compiler:                  clang\n",
      "    C flags (Release):           -fsigned-char -W -Wall -Wreturn-type -Wnon-virtual-dtor -Waddress -Wsequence-point -Wformat -Wformat-security -Wmissing-declarations -Wmissing-prototypes -Wstrict-prototypes -Wundef -Winit-self -Wpointer-arith -Wshadow -Wsign-promo -Wuninitialized -Wno-delete-non-virtual-dtor -Wno-unnamed-type-template-args -Wno-comment -fdiagnostics-show-option -Qunused-arguments -Wno-semicolon-before-method-body -ffunction-sections -fdata-sections    -fvisibility=hidden -fvisibility-inlines-hidden -O3 -DNDEBUG  -DNDEBUG\n",
      "    C flags (Debug):             -fsigned-char -W -Wall -Wreturn-type -Wnon-virtual-dtor -Waddress -Wsequence-point -Wformat -Wformat-security -Wmissing-declarations -Wmissing-prototypes -Wstrict-prototypes -Wundef -Winit-self -Wpointer-arith -Wshadow -Wsign-promo -Wuninitialized -Wno-delete-non-virtual-dtor -Wno-unnamed-type-template-args -Wno-comment -fdiagnostics-show-option -Qunused-arguments -Wno-semicolon-before-method-body -ffunction-sections -fdata-sections    -fvisibility=hidden -fvisibility-inlines-hidden -g  -O0 -DDEBUG -D_DEBUG\n",
      "    Linker flags (Release):      -Wl,-dead_strip  \n",
      "    Linker flags (Debug):        -Wl,-dead_strip  \n",
      "    ccache:                      NO\n",
      "    Precompiled headers:         NO\n",
      "    Extra dependencies:\n",
      "    3rdparty dependencies:\n",
      "\n",
      "  OpenCV modules:\n",
      "    To be built:                 alphamat aruco barcode bgsegm bioinspired calib3d ccalib core datasets dnn dnn_objdetect dnn_superres dpm face features2d flann freetype fuzzy gapi hfs highgui img_hash imgcodecs imgproc intensity_transform line_descriptor mcc ml objdetect optflow phase_unwrapping photo plot python3 quality rapid reg rgbd saliency sfm shape stereo stitching structured_light superres surface_matching text tracking video videoio videostab viz wechat_qrcode xfeatures2d ximgproc xobjdetect xphoto\n",
      "    Disabled:                    hdf world\n",
      "    Disabled by dependency:      -\n",
      "    Unavailable:                 cudaarithm cudabgsegm cudacodec cudafeatures2d cudafilters cudaimgproc cudalegacy cudaobjdetect cudaoptflow cudastereo cudawarping cudev cvv java julia matlab ovis python2 ts\n",
      "    Applications:                apps\n",
      "    Documentation:               NO\n",
      "    Non-free algorithms:         YES\n",
      "\n",
      "  GUI:                           COCOA\n",
      "    Cocoa:                       YES\n",
      "    VTK support:                 YES (ver 9.2.6)\n",
      "\n",
      "  Media I/O: \n",
      "    ZLib:                        /Library/Developer/CommandLineTools/SDKs/MacOSX12.sdk/usr/lib/libz.tbd (ver 1.2.11)\n",
      "    JPEG:                        /opt/homebrew/lib/libjpeg.dylib (ver 80)\n",
      "    WEBP:                        /opt/homebrew/lib/libwebp.dylib (ver encoder: 0x020f)\n",
      "    PNG:                         /opt/homebrew/lib/libpng.dylib (ver 1.6.39)\n",
      "    TIFF:                        /opt/homebrew/lib/libtiff.dylib (ver 42 / 4.5.0)\n",
      "    JPEG 2000:                   OpenJPEG (ver 2.5.0)\n",
      "    OpenEXR:                     OpenEXR::OpenEXR (ver 3.1.7)\n",
      "    HDR:                         YES\n",
      "    SUNRASTER:                   YES\n",
      "    PXM:                         YES\n",
      "    PFM:                         YES\n",
      "\n",
      "  Video I/O:\n",
      "    FFMPEG:                      YES\n",
      "      avcodec:                   YES (60.3.100)\n",
      "      avformat:                  YES (60.3.100)\n",
      "      avutil:                    YES (58.2.100)\n",
      "      swscale:                   YES (7.1.100)\n",
      "      avresample:                NO\n",
      "    AVFoundation:                YES\n",
      "\n",
      "  Parallel framework:            TBB (ver 2021.9 interface 12090)\n",
      "\n",
      "  Trace:                         YES (with Intel ITT)\n",
      "\n",
      "  Other third-party libraries:\n",
      "    Lapack:                      YES (/opt/homebrew/opt/openblas/lib/libopenblas.dylib)\n",
      "    Eigen:                       YES (ver 3.4.0)\n",
      "    Custom HAL:                  YES (carotene (ver 0.0.1))\n",
      "    Protobuf:                    /opt/homebrew/lib/libprotobuf.dylib (3.21.12)\n",
      "\n",
      "  OpenCL:                        YES (no extra features)\n",
      "    Include path:                NO\n",
      "    Link libraries:              -framework OpenCL\n",
      "\n",
      "  Python 3:\n",
      "    Interpreter:                 /opt/homebrew/opt/python@3.11/bin/python3.11 (ver 3.11.3)\n",
      "    Libraries:                   /opt/homebrew/opt/python@3.11/Frameworks/Python.framework/Versions/3.11/lib/libpython3.11.dylib (ver 3.11.3)\n",
      "    numpy:                       /opt/homebrew/lib/python3.11/site-packages/numpy/core/include (ver 1.24.3)\n",
      "    install path:                lib/python3.11/site-packages/cv2/python-3.11\n",
      "\n",
      "  Python (for build):            /opt/homebrew/opt/python@3.11/bin/python3.11\n",
      "\n",
      "  Java:                          \n",
      "    ant:                         NO\n",
      "    JNI:                         NO\n",
      "    Java wrappers:               NO\n",
      "    Java tests:                  NO\n",
      "\n",
      "  Install to:                    /opt/homebrew/Cellar/opencv/4.7.0_4\n",
      "-----------------------------------------------------------------\n",
      "\n",
      "\n"
     ]
    }
   ],
   "source": [
    "print(cv2.getBuildInformation())"
   ]
  },
  {
   "cell_type": "code",
   "execution_count": 3,
   "metadata": {},
   "outputs": [
    {
     "name": "stdout",
     "output_type": "stream",
     "text": [
      "<class 'str'>\n"
     ]
    }
   ],
   "source": [
    "print(type(cv2.getBuildInformation()))"
   ]
  }
 ],
 "metadata": {
  "kernelspec": {
   "display_name": "Python 3",
   "language": "python",
   "name": "python3"
  },
  "language_info": {
   "codemirror_mode": {
    "name": "ipython",
    "version": 3
   },
   "file_extension": ".py",
   "mimetype": "text/x-python",
   "name": "python",
   "nbconvert_exporter": "python",
   "pygments_lexer": "ipython3",
   "version": "3.11.3"
  }
 },
 "nbformat": 4,
 "nbformat_minor": 2
}
