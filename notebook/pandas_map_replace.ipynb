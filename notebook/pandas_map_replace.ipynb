{
 "cells": [
  {
   "cell_type": "code",
   "execution_count": 1,
   "metadata": {},
   "outputs": [],
   "source": [
    "import pandas as pd"
   ]
  },
  {
   "cell_type": "code",
   "execution_count": 2,
   "metadata": {},
   "outputs": [
    {
     "name": "stdout",
     "output_type": "stream",
     "text": [
      "2.1.2\n"
     ]
    }
   ],
   "source": [
    "print(pd.__version__)"
   ]
  },
  {
   "cell_type": "code",
   "execution_count": 3,
   "metadata": {},
   "outputs": [
    {
     "name": "stdout",
     "output_type": "stream",
     "text": [
      "0    A\n",
      "1    B\n",
      "2    C\n",
      "3    A\n",
      "4    B\n",
      "dtype: object\n"
     ]
    }
   ],
   "source": [
    "s = pd.Series(['A', 'B', 'C', 'A', 'B'])\n",
    "print(s)"
   ]
  },
  {
   "cell_type": "code",
   "execution_count": 4,
   "metadata": {},
   "outputs": [
    {
     "name": "stdout",
     "output_type": "stream",
     "text": [
      "0    XX\n",
      "1    YY\n",
      "2    ZZ\n",
      "3    XX\n",
      "4    YY\n",
      "dtype: object\n"
     ]
    }
   ],
   "source": [
    "print(s.map({'A': 'XX', 'B': 'YY', 'C': 'ZZ'}))"
   ]
  },
  {
   "cell_type": "code",
   "execution_count": 5,
   "metadata": {},
   "outputs": [
    {
     "name": "stdout",
     "output_type": "stream",
     "text": [
      "0    XX\n",
      "1    YY\n",
      "2    ZZ\n",
      "3    XX\n",
      "4    YY\n",
      "dtype: object\n"
     ]
    }
   ],
   "source": [
    "print(s.replace({'A': 'XX', 'B': 'YY', 'C': 'ZZ'}))"
   ]
  },
  {
   "cell_type": "code",
   "execution_count": 6,
   "metadata": {},
   "outputs": [
    {
     "name": "stdout",
     "output_type": "stream",
     "text": [
      "0     XX\n",
      "1    NaN\n",
      "2    NaN\n",
      "3     XX\n",
      "4    NaN\n",
      "dtype: object\n"
     ]
    }
   ],
   "source": [
    "print(s.map({'A': 'XX'}))"
   ]
  },
  {
   "cell_type": "code",
   "execution_count": 7,
   "metadata": {},
   "outputs": [
    {
     "name": "stdout",
     "output_type": "stream",
     "text": [
      "0    XX\n",
      "1     B\n",
      "2     C\n",
      "3    XX\n",
      "4     B\n",
      "dtype: object\n"
     ]
    }
   ],
   "source": [
    "print(s.replace({'A': 'XX'}))"
   ]
  },
  {
   "cell_type": "code",
   "execution_count": 8,
   "metadata": {},
   "outputs": [
    {
     "name": "stdout",
     "output_type": "stream",
     "text": [
      "0    XX\n",
      "1     B\n",
      "2     C\n",
      "3    XX\n",
      "4     B\n",
      "dtype: object\n"
     ]
    }
   ],
   "source": [
    "print(s.map({'A': 'XX'}).fillna(s))"
   ]
  }
 ],
 "metadata": {
  "kernelspec": {
   "display_name": "Python 3",
   "language": "python",
   "name": "python3"
  },
  "language_info": {
   "codemirror_mode": {
    "name": "ipython",
    "version": 3
   },
   "file_extension": ".py",
   "mimetype": "text/x-python",
   "name": "python",
   "nbconvert_exporter": "python",
   "pygments_lexer": "ipython3",
   "version": "3.11.6"
  }
 },
 "nbformat": 4,
 "nbformat_minor": 2
}
